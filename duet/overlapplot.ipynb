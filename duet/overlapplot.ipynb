{
 "cells": [
  {
   "cell_type": "code",
   "execution_count": 1,
   "metadata": {},
   "outputs": [],
   "source": [
    "%load_ext autoreload\n",
    "%autoreload 2\n",
    "\n",
    "import matplotlib.pyplot as plt\n",
    "import numpy as np\n",
    "import pandas as pd\n",
    "import seaborn as sns\n",
    "\n",
    "from analyze_tools import compute_overlaps, overlapplot\n",
    "\n",
    "DARK_THEME = False\n",
    "if DARK_THEME:\n",
    "    sns.set(style=\"darkgrid\", context=\"talk\")\n",
    "    plt.style.use(\"dark_background\")\n",
    "    plt.rcParams.update({\"grid.linewidth\":0.5, \"grid.alpha\":0.5})"
   ]
  },
  {
   "cell_type": "code",
   "execution_count": 2,
   "metadata": {},
   "outputs": [
    {
     "data": {
      "text/html": [
       "<div>\n",
       "<style scoped>\n",
       "    .dataframe tbody tr th:only-of-type {\n",
       "        vertical-align: middle;\n",
       "    }\n",
       "\n",
       "    .dataframe tbody tr th {\n",
       "        vertical-align: top;\n",
       "    }\n",
       "\n",
       "    .dataframe thead th {\n",
       "        text-align: right;\n",
       "    }\n",
       "</style>\n",
       "<table border=\"1\" class=\"dataframe\">\n",
       "  <thead>\n",
       "    <tr style=\"text-align: right;\">\n",
       "      <th></th>\n",
       "      <th>start</th>\n",
       "      <th>end</th>\n",
       "      <th>pair</th>\n",
       "    </tr>\n",
       "  </thead>\n",
       "  <tbody>\n",
       "    <tr>\n",
       "      <th>0</th>\n",
       "      <td>0</td>\n",
       "      <td>10</td>\n",
       "      <td>A</td>\n",
       "    </tr>\n",
       "    <tr>\n",
       "      <th>1</th>\n",
       "      <td>50</td>\n",
       "      <td>60</td>\n",
       "      <td>A</td>\n",
       "    </tr>\n",
       "    <tr>\n",
       "      <th>0</th>\n",
       "      <td>5</td>\n",
       "      <td>15</td>\n",
       "      <td>A</td>\n",
       "    </tr>\n",
       "    <tr>\n",
       "      <th>1</th>\n",
       "      <td>55</td>\n",
       "      <td>65</td>\n",
       "      <td>A</td>\n",
       "    </tr>\n",
       "  </tbody>\n",
       "</table>\n",
       "</div>"
      ],
      "text/plain": [
       "   start  end pair\n",
       "0      0   10    A\n",
       "1     50   60    A\n",
       "0      5   15    A\n",
       "1     55   65    A"
      ]
     },
     "execution_count": 2,
     "metadata": {},
     "output_type": "execute_result"
    }
   ],
   "source": [
    "xstart = \"start\"\n",
    "xend = \"end\"\n",
    "category = \"pair\"\n",
    "\n",
    "df = pd.concat([\n",
    "    pd.DataFrame({\n",
    "        xstart: np.arange(0, 100, 50),\n",
    "        xend: np.arange(10, 110, 50),\n",
    "        category: \"A\"\n",
    "    }),\n",
    "    pd.DataFrame({\n",
    "        xstart: np.arange(5, 105, 50),\n",
    "        xend: np.arange(15, 115, 50),\n",
    "        category: \"A\"\n",
    "    }),\n",
    "])\n",
    "\n",
    "df"
   ]
  },
  {
   "cell_type": "markdown",
   "metadata": {},
   "source": [
    "## [Figure8]\n",
    "What if the intervals overlap within the same category?\n",
    "\n",
    "## [Figure9]\n",
    "same but with `hue=None` - turns on overlap computation in `overlapplot`"
   ]
  },
  {
   "cell_type": "code",
   "execution_count": 3,
   "metadata": {},
   "outputs": [
    {
     "data": {
      "image/png": "[encoded data removed]",
      "text/plain": [
       "<Figure size 432x288 with 1 Axes>"
      ]
     },
     "metadata": {
      "needs_background": "light"
     },
     "output_type": "display_data"
    }
   ],
   "source": [
    "ax = overlapplot(xstart, xend, category, hue=None, data=df)"
   ]
  },
  {
   "cell_type": "code",
   "execution_count": 4,
   "metadata": {},
   "outputs": [
    {
     "name": "stderr",
     "output_type": "stream",
     "text": [
      "/Users/tdrozdik/school/asynchronous-duet/duet/analyze_tools.py:97: SettingWithCopyWarning: \n",
      "A value is trying to be set on a copy of a slice from a DataFrame.\n",
      "Try using .loc[row_indexer,col_indexer] = value instead\n",
      "\n",
      "See the caveats in the documentation: https://pandas.pydata.org/pandas-docs/stable/user_guide/indexing.html#returning-a-view-versus-a-copy\n",
      "  df_intervals[\"xrange\"] = df_intervals.apply(\n"
     ]
    },
    {
     "data": {
      "text/plain": [
       "<AxesSubplot:>"
      ]
     },
     "execution_count": 4,
     "metadata": {},
     "output_type": "execute_result"
    },
    {
     "data": {
      "image/png": "[encoded data removed]",
      "text/plain": [
       "<Figure size 2160x360 with 1 Axes>"
      ]
     },
     "metadata": {
      "needs_background": "light"
     },
     "output_type": "display_data"
    }
   ],
   "source": [
    "n = 10\n",
    "a = np.random.normal(100, 20, n)\n",
    "b = np.random.binomial(200, 0.5, n)\n",
    "df = pd.concat([\n",
    "    pd.DataFrame({\n",
    "        xstart: a,\n",
    "        xend: a + 40,\n",
    "        category: \"A\",\n",
    "    }, index=np.arange(0, n)),\n",
    "    pd.DataFrame({\n",
    "        xstart: b,\n",
    "        xend: b + 10,\n",
    "        category: \"B\",\n",
    "    }, index=np.arange(0, n)),\n",
    "])\n",
    "\n",
    "df = df[df[xstart] < df[xend]]\n",
    "\n",
    "plt.figure(figsize=(30,5))\n",
    "overlapplot(xstart, xend, category, data=df)"
   ]
  },
  {
   "cell_type": "code",
   "execution_count": 12,
   "metadata": {},
   "outputs": [
    {
     "data": {
      "text/html": [
       "<div>\n",
       "<style scoped>\n",
       "    .dataframe tbody tr th:only-of-type {\n",
       "        vertical-align: middle;\n",
       "    }\n",
       "\n",
       "    .dataframe tbody tr th {\n",
       "        vertical-align: top;\n",
       "    }\n",
       "\n",
       "    .dataframe thead th {\n",
       "        text-align: right;\n",
       "    }\n",
       "</style>\n",
       "<table border=\"1\" class=\"dataframe\">\n",
       "  <thead>\n",
       "    <tr style=\"text-align: right;\">\n",
       "      <th></th>\n",
       "      <th>pair</th>\n",
       "      <th>type</th>\n",
       "      <th>time</th>\n",
       "      <th>value</th>\n",
       "      <th>overlaps</th>\n",
       "      <th>start</th>\n",
       "      <th>end</th>\n",
       "    </tr>\n",
       "  </thead>\n",
       "  <tbody>\n",
       "    <tr>\n",
       "      <th>0</th>\n",
       "      <td>A</td>\n",
       "      <td>start</td>\n",
       "      <td>99.773961</td>\n",
       "      <td>1</td>\n",
       "      <td>4</td>\n",
       "      <td>99.773961</td>\n",
       "      <td>110.309980</td>\n",
       "    </tr>\n",
       "    <tr>\n",
       "      <th>1</th>\n",
       "      <td>A</td>\n",
       "      <td>start</td>\n",
       "      <td>72.210099</td>\n",
       "      <td>1</td>\n",
       "      <td>1</td>\n",
       "      <td>72.210099</td>\n",
       "      <td>79.554637</td>\n",
       "    </tr>\n",
       "    <tr>\n",
       "      <th>2</th>\n",
       "      <td>A</td>\n",
       "      <td>start</td>\n",
       "      <td>110.309980</td>\n",
       "      <td>1</td>\n",
       "      <td>5</td>\n",
       "      <td>110.309980</td>\n",
       "      <td>112.210099</td>\n",
       "    </tr>\n",
       "    <tr>\n",
       "      <th>3</th>\n",
       "      <td>A</td>\n",
       "      <td>start</td>\n",
       "      <td>125.796910</td>\n",
       "      <td>1</td>\n",
       "      <td>7</td>\n",
       "      <td>125.796910</td>\n",
       "      <td>129.440007</td>\n",
       "    </tr>\n",
       "    <tr>\n",
       "      <th>4</th>\n",
       "      <td>A</td>\n",
       "      <td>start</td>\n",
       "      <td>114.331274</td>\n",
       "      <td>1</td>\n",
       "      <td>6</td>\n",
       "      <td>114.331274</td>\n",
       "      <td>119.554637</td>\n",
       "    </tr>\n",
       "  </tbody>\n",
       "</table>\n",
       "</div>"
      ],
      "text/plain": [
       "  pair   type        time  value  overlaps       start         end\n",
       "0    A  start   99.773961      1         4   99.773961  110.309980\n",
       "1    A  start   72.210099      1         1   72.210099   79.554637\n",
       "2    A  start  110.309980      1         5  110.309980  112.210099\n",
       "3    A  start  125.796910      1         7  125.796910  129.440007\n",
       "4    A  start  114.331274      1         6  114.331274  119.554637"
      ]
     },
     "execution_count": 12,
     "metadata": {},
     "output_type": "execute_result"
    }
   ],
   "source": [
    "def overlaps(df, start, end, cat):\n",
    "    df_overlaps = df.melt(id_vars=[cat], var_name=\"type\", value_vars=[start, end], value_name=\"time\",)\n",
    "    df_overlaps[\"value\"] = np.select(\n",
    "        [df_overlaps[\"type\"] == start, df_overlaps[\"type\"] == end], [1, -1]\n",
    "    )\n",
    "    df_overlaps[\"overlaps\"] = (\n",
    "        df_overlaps.sort_values(by=[cat, \"time\"])\n",
    "        .groupby(cat)[\"value\"]\n",
    "        .cumsum()\n",
    "    )\n",
    "    df_overlaps[start] = df_overlaps[\"time\"]\n",
    "    df_overlaps[end] = (\n",
    "        df_overlaps.sort_values(by=[cat, \"time\"])\n",
    "        .groupby(cat)[\"time\"]\n",
    "        .shift(-1, fill_value=None)\n",
    "    )\n",
    "\n",
    "    df_overlaps.dropna(inplace=True)\n",
    "    df_overlaps.drop(\n",
    "        df_overlaps[df_overlaps[\"overlaps\"] == 0].index, inplace=True\n",
    "    )\n",
    "    return df_overlaps\n",
    "\n",
    "df_overlaps = overlaps(df, xstart, xend, category)\n",
    "df_overlaps.head()"
   ]
  },
  {
   "cell_type": "markdown",
   "metadata": {},
   "source": [
    "## [Figure10]"
   ]
  },
  {
   "cell_type": "code",
   "execution_count": 11,
   "metadata": {},
   "outputs": [
    {
     "data": {
      "image/png": "[encoded data removed]",
      "text/plain": [
       "<Figure size 1080x432 with 2 Axes>"
      ]
     },
     "metadata": {
      "needs_background": "light"
     },
     "output_type": "display_data"
    }
   ],
   "source": [
    "g = sns.FacetGrid(df_overlaps, row=category, aspect=5)\n",
    "g.map_dataframe(sns.lineplot, x=\"time\", y=\"overlaps\", ci=None)\n",
    "plt.show()"
   ]
  }
 ],
 "metadata": {
  "interpreter": {
   "hash": "d05b9625d9e335c894d147aa2cb7f38ae2a5cf95c4452d00c9f28063621a5ef3"
  },
  "kernelspec": {
   "display_name": "Python 3.9.12 ('venv': venv)",
   "language": "python",
   "name": "python3"
  },
  "language_info": {
   "codemirror_mode": {
    "name": "ipython",
    "version": 3
   },
   "file_extension": ".py",
   "mimetype": "text/x-python",
   "name": "python",
   "nbconvert_exporter": "python",
   "pygments_lexer": "ipython3",
   "version": "3.9.12"
  },
  "orig_nbformat": 4
 },
 "nbformat": 4,
 "nbformat_minor": 2
}
