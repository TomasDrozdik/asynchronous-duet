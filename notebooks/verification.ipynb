{
 "cells": [
  {
   "cell_type": "code",
   "execution_count": null,
   "metadata": {},
   "outputs": [],
   "source": [
    "%load_ext autoreload\n",
    "%autoreload 2\n",
    "\n",
    "import plotly.express as px\n",
    "import pandas as pd\n",
    "import numpy as np\n",
    "from scipy.stats import (\n",
    "    bootstrap,\n",
    "    gmean,\n",
    ")\n",
    "from IPython.display import display\n",
    "\n",
    "from duet.process import *\n",
    "from duet.constants import *\n",
    "from common import *\n",
    "\n",
    "df_raw = load_raw()\n",
    "unique_suites = df_raw[RF.suite].unique()\n",
    "df_raw.describe()"
   ]
  },
  {
   "cell_type": "markdown",
   "metadata": {},
   "source": [
    "# Timeline"
   ]
  },
  {
   "cell_type": "code",
   "execution_count": null,
   "metadata": {},
   "outputs": [],
   "source": [
    "# Look at first X minutes of a host\n",
    "host = df_raw[\"hostname\"].iloc[0]\n",
    "host_start = df_raw[df_raw[AF.hostname] == host][RF.start].min()\n",
    "df = df_raw[\n",
    "    (\n",
    "        (df_raw[AF.hostname] == host)\n",
    "        & (df_raw[RF.start] < host_start + pd.DateOffset(minutes=30))\n",
    "    )\n",
    "]\n",
    "if df.shape[0] < 1000:\n",
    "    px.timeline(\n",
    "        df,\n",
    "        x_start=RF.start,\n",
    "        x_end=RF.end,\n",
    "        y=RF.pair,\n",
    "        color=RF.type,\n",
    "        hover_data=[RF.benchmark, RF.time],\n",
    "    ).show()\n",
    "    px.timeline(\n",
    "        df,\n",
    "        x_start=RF.start,\n",
    "        x_end=RF.end,\n",
    "        y=RF.iteration,\n",
    "        color=RF.type,\n",
    "        hover_data=[RF.benchmark, RF.time],\n",
    "    ).show()\n",
    "    px.scatter(\n",
    "        df,\n",
    "        x=RF.iteration,\n",
    "        y=RF.time_ns,\n",
    "        color=RF.pair,\n",
    "        facet_col=RF.benchmark,\n",
    "    ).show()\n",
    "else:\n",
    "    print(f\"Data too large to display properly {df.shape[0]}\")"
   ]
  },
  {
   "cell_type": "code",
   "execution_count": null,
   "metadata": {},
   "outputs": [],
   "source": [
    "df = (\n",
    "    df_raw.groupby(PAIR_ID_COL + ARTIFACT_COL)\n",
    "    .agg(start=(RF.start, min), end=(RF.end, max))\n",
    "    .reset_index()\n",
    ")\n",
    "px.timeline(\n",
    "    df,\n",
    "    x_start=\"start\",\n",
    "    x_end=\"end\",\n",
    "    y=AF.hostname,\n",
    "    color=\"type\",\n",
    "    hover_data=[RF.suite, RF.benchmark, RF.pair, RF.runid],\n",
    ")"
   ]
  },
  {
   "cell_type": "markdown",
   "metadata": {},
   "source": [
    "# Run/Iteration count and Iteration time"
   ]
  },
  {
   "cell_type": "code",
   "execution_count": null,
   "metadata": {},
   "outputs": [],
   "source": [
    "df_input = df_raw\n",
    "df_input[\"prep\"] = \"raw\"\n",
    "\n",
    "df_prep = preprocess_data(df_raw)\n",
    "df_prep[\"prep\"] = \"prep\"\n",
    "df_input = pd.concat([df_input, df_prep])\n",
    "\n",
    "df_itercount = (\n",
    "    df_input.groupby(ARTIFACT_COL + BENCHMARK_ID_COL + [\"prep\"])[RF.iteration]\n",
    "    .count()\n",
    "    .reset_index()\n",
    ")\n",
    "df_runcount = (\n",
    "    df_input.groupby(ARTIFACT_COL + BENCHMARK_ID_COL)\n",
    "    .agg(run_count=(RF.runid, \"nunique\"))\n",
    "    .reset_index()\n",
    ")\n",
    "\n",
    "for suite in unique_suites:\n",
    "    fig = px.bar(\n",
    "        df_runcount[df_runcount[RF.suite] == suite],\n",
    "        x=RF.benchmark,\n",
    "        y=\"run_count\",\n",
    "        color=DF.env,\n",
    "        facet_row=RF.type,\n",
    "        barmode=\"group\",\n",
    "        title=f\"Benchmark Run Count - {suite}\",\n",
    "    )\n",
    "    fig.update_xaxes(categoryorder=\"category ascending\")\n",
    "    fig.show()\n",
    "\n",
    "    fig = px.bar(\n",
    "        df_itercount[df_itercount[RF.suite] == suite],\n",
    "        x=RF.benchmark,\n",
    "        y=RF.iteration,\n",
    "        color=\"prep\",\n",
    "        facet_row=RF.type,\n",
    "        facet_col=DF.env,\n",
    "        barmode=\"group\",\n",
    "        title=f\"Benchmark Iteration Count - {suite}\",\n",
    "    )\n",
    "    fig.update_xaxes(categoryorder=\"category ascending\")\n",
    "    fig.show()\n",
    "\n",
    "    fig = px.box(\n",
    "        df_input[df_input[RF.suite] == suite],\n",
    "        y=RF.time,\n",
    "        x=RF.benchmark,\n",
    "        color=\"prep\",\n",
    "        facet_row=RF.type,\n",
    "        facet_col=DF.env,\n",
    "        title=f\"Benchmark Iteration Time - {suite}\",\n",
    "    )\n",
    "    fig.update_xaxes(categoryorder=\"category ascending\")\n",
    "    fig.update_layout(height=1000)\n",
    "    fig.show()"
   ]
  },
  {
   "cell_type": "markdown",
   "metadata": {},
   "source": [
    "# Relative standard deviation"
   ]
  },
  {
   "cell_type": "code",
   "execution_count": null,
   "metadata": {},
   "outputs": [],
   "source": [
    "df = preprocess_data(df_raw)\n",
    "\n",
    "df = (\n",
    "    df.groupby(BENCHMARK_ENV_COL)\n",
    "    .agg(\n",
    "        time_count=(RF.time_ns, len),\n",
    "        time_mean=(RF.time_ns, \"mean\"),\n",
    "        time_var=(RF.time_ns, \"var\"),\n",
    "        time_std=(RF.time_ns, \"std\"),\n",
    "    )\n",
    "    .reset_index()\n",
    ")\n",
    "df[\"time_std_relative\"] = df[\"time_std\"] / df[\"time_mean\"]\n",
    "\n",
    "display(df)\n",
    "\n",
    "df[color_type] = df[DF.env] + \":\" + df[RF.type]\n",
    "df = df.sort_values(by=color_type)\n",
    "\n",
    "for suite in unique_suites:\n",
    "    fig = px.bar(\n",
    "        df[df[RF.suite] == suite],\n",
    "        x=RF.benchmark,\n",
    "        y=\"time_std_relative\",\n",
    "        barmode=\"group\",\n",
    "        color=color_type,\n",
    "        title=f\"Benchmark Time Relative Deviation - {suite}\",\n",
    "    )\n",
    "    fig.update_xaxes(categoryorder=\"category ascending\")\n",
    "    fig.show()"
   ]
  }
 ],
 "metadata": {
  "kernelspec": {
   "display_name": "Python 3.10.5 64-bit ('duet')",
   "language": "python",
   "name": "python3"
  },
  "language_info": {
   "codemirror_mode": {
    "name": "ipython",
    "version": 3
   },
   "file_extension": ".py",
   "mimetype": "text/x-python",
   "name": "python",
   "nbconvert_exporter": "python",
   "pygments_lexer": "ipython3",
   "version": "3.10.5"
  },
  "vscode": {
   "interpreter": {
    "hash": "34aa5a182bea2a5b5e6d895a4749d9d245e426506465c412701e5413d6b0f0d0"
   }
  }
 },
 "nbformat": 4,
 "nbformat_minor": 2
}
