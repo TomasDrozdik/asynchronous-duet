{
 "cells": [
  {
   "attachments": {},
   "cell_type": "markdown",
   "metadata": {},
   "source": [
    "# RQ3: Accuracy improvements"
   ]
  },
  {
   "cell_type": "code",
   "execution_count": 20,
   "metadata": {},
   "outputs": [
    {
     "name": "stdout",
     "output_type": "stream",
     "text": [
      "The autoreload extension is already loaded. To reload it, use:\n",
      "  %reload_ext autoreload\n"
     ]
    },
    {
     "name": "stderr",
     "output_type": "stream",
     "text": [
      "/Users/tdrozdik/school/asynchronous-duet/duet/process.py:426: SettingWithCopyWarning:\n",
      "\n",
      "\n",
      "A value is trying to be set on a copy of a slice from a DataFrame.\n",
      "Try using .loc[row_indexer,col_indexer] = value instead\n",
      "\n",
      "See the caveats in the documentation: https://pandas.pydata.org/pandas-docs/stable/user_guide/indexing.html#returning-a-view-versus-a-copy\n",
      "\n"
     ]
    }
   ],
   "source": [
    "%load_ext autoreload\n",
    "%autoreload 2\n",
    "\n",
    "import plotly.express as px\n",
    "import pandas as pd\n",
    "import numpy as np\n",
    "from scipy.stats import (\n",
    "    bootstrap,\n",
    "    gmean,\n",
    ")\n",
    "from IPython.display import display\n",
    "\n",
    "from duet.process import *\n",
    "from duet.constants import *\n",
    "from common import *\n",
    "\n",
    "df_prep = preprocess_data(load_raw())\n",
    "unique_suites = df_prep[RF.suite].unique()"
   ]
  },
  {
   "attachments": {},
   "cell_type": "markdown",
   "metadata": {},
   "source": [
    "## Relative Standard Deviation (CV)"
   ]
  },
  {
   "cell_type": "code",
   "execution_count": 21,
   "metadata": {},
   "outputs": [
    {
     "data": {
      "application/vnd.plotly.v1+json": {
       "config": {
        "plotlyServerURL": "https://plot.ly"
       },
       "data": [
        {
         "alignmentgroup": "True",
         "hovertemplate": "type=duet<br>environment=AWS t3.medium<br>benchmark=%{x}<br>CV=%{y}<extra></extra>",
         "legendgroup": "duet",
         "marker": {
          "color": "#636efa",
          "pattern": {
           "shape": ""
          }
         },
         "name": "duet",
         "offsetgroup": "duet",
         "orientation": "v",
         "showlegend": true,
         "textposition": "auto",
         "type": "bar",
         "x": [
          "akka-uct",
          "als",
          "chi-square",
          "db-shootout",
          "dec-tree",
          "dotty",
          "finagle-chirper",
          "finagle-http",
          "fj-kmeans",
          "future-genetic",
          "gauss-mix",
          "log-regression",
          "mnemonics",
          "movie-lens",
          "naive-bayes",
          "page-rank",
          "par-mnemonics",
          "philosophers",
          "reactors",
          "rx-scrabble",
          "scala-doku",
          "scala-kmeans",
          "scala-stm-bench7",
          "scrabble"
         ],
         "xaxis": "x",
         "y": [
          0.05230146772200863,
          0.04587281668050693,
          0.11884306883613548,
          0.056160501083583836,
          0.10882841146756465,
          0.7958094157512668,
          0.12098596318056312,
          0.06419392056072473,
          0.028010972264202346,
          0.05526725061928656,
          0.03383753011136512,
          0.11513592811044975,
          0.04594131934216653,
          0.034521139627844304,
          0.12275833262805788,
          0.030100034437859302,
          0.0506234079133649,
          0.1317887208304305,
          0.1473563431763482,
          0.11975421492856901,
          0.04851617008890531,
          0.08055557297168976,
          0.08777109020434415,
          0.07091633810936701
         ],
         "yaxis": "y"
        },
        {
         "alignmentgroup": "True",
         "hovertemplate": "type=duet<br>environment=bare-metal<br>benchmark=%{x}<br>CV=%{y}<extra></extra>",
         "legendgroup": "duet",
         "marker": {
          "color": "#636efa",
          "pattern": {
           "shape": ""
          }
         },
         "name": "duet",
         "offsetgroup": "duet",
         "orientation": "v",
         "showlegend": false,
         "textposition": "auto",
         "type": "bar",
         "x": [
          "akka-uct",
          "als",
          "chi-square",
          "db-shootout",
          "dec-tree",
          "dotty",
          "finagle-chirper",
          "finagle-http",
          "fj-kmeans",
          "future-genetic",
          "gauss-mix",
          "log-regression",
          "mnemonics",
          "movie-lens",
          "naive-bayes",
          "page-rank",
          "par-mnemonics",
          "philosophers",
          "reactors",
          "rx-scrabble",
          "scala-doku",
          "scala-kmeans",
          "scala-stm-bench7",
          "scrabble"
         ],
         "xaxis": "x2",
         "y": [
          0.09847478065644255,
          0.045260177557101516,
          0.0642104872443846,
          0.08143090540115998,
          0.08143834725674942,
          0.026759208546323205,
          0.05645748385818803,
          0.07953523941968876,
          0.07096237420955641,
          0.02835534746170975,
          0.045056665066922186,
          0.09391270114369683,
          0.02192571035960903,
          0.025053186289686877,
          0.02977377553887796,
          0.046476082987025234,
          0.017592473996092144,
          0.03927444942322452,
          0.06301826774741356,
          0.03261826327162417,
          0.08515998579430233,
          0.013240186197037887,
          0.02115411394860163,
          0.08472863706339535
         ],
         "yaxis": "y2"
        },
        {
         "alignmentgroup": "True",
         "hovertemplate": "type=duet<br>environment=shared-vm<br>benchmark=%{x}<br>CV=%{y}<extra></extra>",
         "legendgroup": "duet",
         "marker": {
          "color": "#636efa",
          "pattern": {
           "shape": ""
          }
         },
         "name": "duet",
         "offsetgroup": "duet",
         "orientation": "v",
         "showlegend": false,
         "textposition": "auto",
         "type": "bar",
         "x": [
          "akka-uct",
          "als",
          "chi-square",
          "db-shootout",
          "dec-tree",
          "dotty",
          "finagle-chirper",
          "finagle-http",
          "fj-kmeans",
          "future-genetic",
          "gauss-mix",
          "log-regression",
          "mnemonics",
          "movie-lens",
          "naive-bayes",
          "page-rank",
          "par-mnemonics",
          "philosophers",
          "reactors",
          "rx-scrabble",
          "scala-doku",
          "scala-kmeans",
          "scala-stm-bench7",
          "scrabble"
         ],
         "xaxis": "x3",
         "y": [
          0.09957674813266607,
          0.09824634737988831,
          0.11840153547346524,
          0.11617351354106255,
          0.15016641476166906,
          0.13123851807649212,
          0.05935612045405656,
          0.11408473366661336,
          0.05190371694492053,
          0.13125058662143319,
          0.09262238823328553,
          0.20724764076093638,
          0.07164444780037975,
          0.10599076548675437,
          0.062246689681588974,
          0.08808462308299135,
          0.08853575061705717,
          0.1395526709960663,
          0.16831366543703521,
          0.14453746754988042,
          0.10593211205725826,
          0.13511658519247519,
          0.08436016809984878,
          0.06591661030020189
         ],
         "yaxis": "y3"
        },
        {
         "alignmentgroup": "True",
         "hovertemplate": "type=seqn<br>environment=AWS t3.medium<br>benchmark=%{x}<br>CV=%{y}<extra></extra>",
         "legendgroup": "seqn",
         "marker": {
          "color": "#EF553B",
          "pattern": {
           "shape": ""
          }
         },
         "name": "seqn",
         "offsetgroup": "seqn",
         "orientation": "v",
         "showlegend": true,
         "textposition": "auto",
         "type": "bar",
         "x": [
          "akka-uct",
          "als",
          "chi-square",
          "db-shootout",
          "dec-tree",
          "dotty",
          "finagle-chirper",
          "finagle-http",
          "fj-kmeans",
          "future-genetic",
          "gauss-mix",
          "log-regression",
          "mnemonics",
          "movie-lens",
          "naive-bayes",
          "page-rank",
          "par-mnemonics",
          "philosophers",
          "reactors",
          "rx-scrabble",
          "scala-doku",
          "scala-kmeans",
          "scala-stm-bench7",
          "scrabble"
         ],
         "xaxis": "x",
         "y": [
          0.04416577324925956,
          0.02136283143897858,
          0.09267584864353655,
          0.026536009846648025,
          0.10234675277782104,
          0.0964871818082334,
          0.039659987198148616,
          0.06624411276384193,
          0.014807533519908411,
          0.019397361888373012,
          0.03460170701770292,
          0.10552255799872498,
          0.013906220192541143,
          0.013944878605311115,
          0.03478659500533397,
          0.038772533126364486,
          0.03231357998191622,
          0.033464099825474485,
          0.023793843115475246,
          0.09853518027930427,
          0.021020192916347807,
          0.07858746405819655,
          0.03251459168965001,
          0.023426462747496032
         ],
         "yaxis": "y"
        },
        {
         "alignmentgroup": "True",
         "hovertemplate": "type=seqn<br>environment=bare-metal<br>benchmark=%{x}<br>CV=%{y}<extra></extra>",
         "legendgroup": "seqn",
         "marker": {
          "color": "#EF553B",
          "pattern": {
           "shape": ""
          }
         },
         "name": "seqn",
         "offsetgroup": "seqn",
         "orientation": "v",
         "showlegend": false,
         "textposition": "auto",
         "type": "bar",
         "x": [
          "akka-uct",
          "als",
          "chi-square",
          "db-shootout",
          "dec-tree",
          "dotty",
          "finagle-chirper",
          "finagle-http",
          "fj-kmeans",
          "future-genetic",
          "gauss-mix",
          "log-regression",
          "mnemonics",
          "movie-lens",
          "naive-bayes",
          "page-rank",
          "par-mnemonics",
          "philosophers",
          "reactors",
          "rx-scrabble",
          "scala-doku",
          "scala-kmeans",
          "scala-stm-bench7",
          "scrabble"
         ],
         "xaxis": "x2",
         "y": [
          0.06949583931271214,
          0.011663954375930319,
          0.040299086408753244,
          0.05859043777120959,
          0.034110998605927104,
          0.013925789846760548,
          0.027630728161599297,
          0.013410119859643143,
          0.0419225026244677,
          0.013904442365392546,
          0.03689741929187316,
          0.0728556543692025,
          0.028241228211835303,
          0.010181319602557366,
          0.03963423123729529,
          0.027844820446279485,
          0.02485481229980654,
          0.07041045613346611,
          0.07137783616664162,
          0.025506410341029538,
          0.10381695642531329,
          0.012769533755316701,
          0.019428089811635244,
          0.10834005483722124
         ],
         "yaxis": "y2"
        },
        {
         "alignmentgroup": "True",
         "hovertemplate": "type=seqn<br>environment=shared-vm<br>benchmark=%{x}<br>CV=%{y}<extra></extra>",
         "legendgroup": "seqn",
         "marker": {
          "color": "#EF553B",
          "pattern": {
           "shape": ""
          }
         },
         "name": "seqn",
         "offsetgroup": "seqn",
         "orientation": "v",
         "showlegend": false,
         "textposition": "auto",
         "type": "bar",
         "x": [
          "akka-uct",
          "als",
          "chi-square",
          "db-shootout",
          "dec-tree",
          "dotty",
          "finagle-chirper",
          "finagle-http",
          "fj-kmeans",
          "future-genetic",
          "gauss-mix",
          "log-regression",
          "mnemonics",
          "movie-lens",
          "naive-bayes",
          "page-rank",
          "par-mnemonics",
          "philosophers",
          "reactors",
          "rx-scrabble",
          "scala-doku",
          "scala-kmeans",
          "scala-stm-bench7",
          "scrabble"
         ],
         "xaxis": "x3",
         "y": [
          0.09705317769173283,
          0.05871925654357707,
          0.09805349484300548,
          0.08466602037536314,
          0.10382151443848459,
          0.10484690918519773,
          0.06635673105530432,
          0.22371975982991293,
          0.06040580325423526,
          0.261420683058703,
          0.11579184371748333,
          0.1413777190954794,
          0.07336817478895276,
          0.07275998584280922,
          0.1109420255766653,
          0.10566640013784415,
          0.09976886127035094,
          0.10745908099089381,
          0.07515888934829822,
          0.13125324085422654,
          0.11912795958138121,
          0.1071506023088611,
          0.14005100793820474,
          0.12131595302873102
         ],
         "yaxis": "y3"
        }
       ],
       "layout": {
        "annotations": [
         {
          "font": {},
          "showarrow": false,
          "text": "environment=AWS t3.medium",
          "x": 0.15999999999999998,
          "xanchor": "center",
          "xref": "paper",
          "y": 1,
          "yanchor": "bottom",
          "yref": "paper"
         },
         {
          "font": {},
          "showarrow": false,
          "text": "environment=bare-metal",
          "x": 0.49999999999999994,
          "xanchor": "center",
          "xref": "paper",
          "y": 1,
          "yanchor": "bottom",
          "yref": "paper"
         },
         {
          "font": {},
          "showarrow": false,
          "text": "environment=shared-vm",
          "x": 0.8399999999999999,
          "xanchor": "center",
          "xref": "paper",
          "y": 1,
          "yanchor": "bottom",
          "yref": "paper"
         }
        ],
        "barmode": "group",
        "legend": {
         "title": {
          "text": "type"
         },
         "tracegroupgap": 0
        },
        "template": {
         "data": {
          "bar": [
           {
            "error_x": {
             "color": "#2a3f5f"
            },
            "error_y": {
             "color": "#2a3f5f"
            },
            "marker": {
             "line": {
              "color": "#E5ECF6",
              "width": 0.5
             },
             "pattern": {
              "fillmode": "overlay",
              "size": 10,
              "solidity": 0.2
             }
            },
            "type": "bar"
           }
          ],
          "barpolar": [
           {
            "marker": {
             "line": {
              "color": "#E5ECF6",
              "width": 0.5
             },
             "pattern": {
              "fillmode": "overlay",
              "size": 10,
              "solidity": 0.2
             }
            },
            "type": "barpolar"
           }
          ],
          "carpet": [
           {
            "aaxis": {
             "endlinecolor": "#2a3f5f",
             "gridcolor": "white",
             "linecolor": "white",
             "minorgridcolor": "white",
             "startlinecolor": "#2a3f5f"
            },
            "baxis": {
             "endlinecolor": "#2a3f5f",
             "gridcolor": "white",
             "linecolor": "white",
             "minorgridcolor": "white",
             "startlinecolor": "#2a3f5f"
            },
            "type": "carpet"
           }
          ],
          "choropleth": [
           {
            "colorbar": {
             "outlinewidth": 0,
             "ticks": ""
            },
            "type": "choropleth"
           }
          ],
          "contour": [
           {
            "colorbar": {
             "outlinewidth": 0,
             "ticks": ""
            },
            "colorscale": [
             [
              0,
              "#0d0887"
             ],
             [
              0.1111111111111111,
              "#46039f"
             ],
             [
              0.2222222222222222,
              "#7201a8"
             ],
             [
              0.3333333333333333,
              "#9c179e"
             ],
             [
              0.4444444444444444,
              "#bd3786"
             ],
             [
              0.5555555555555556,
              "#d8576b"
             ],
             [
              0.6666666666666666,
              "#ed7953"
             ],
             [
              0.7777777777777778,
              "#fb9f3a"
             ],
             [
              0.8888888888888888,
              "#fdca26"
             ],
             [
              1,
              "#f0f921"
             ]
            ],
            "type": "contour"
           }
          ],
          "contourcarpet": [
           {
            "colorbar": {
             "outlinewidth": 0,
             "ticks": ""
            },
            "type": "contourcarpet"
           }
          ],
          "heatmap": [
           {
            "colorbar": {
             "outlinewidth": 0,
             "ticks": ""
            },
            "colorscale": [
             [
              0,
              "#0d0887"
             ],
             [
              0.1111111111111111,
              "#46039f"
             ],
             [
              0.2222222222222222,
              "#7201a8"
             ],
             [
              0.3333333333333333,
              "#9c179e"
             ],
             [
              0.4444444444444444,
              "#bd3786"
             ],
             [
              0.5555555555555556,
              "#d8576b"
             ],
             [
              0.6666666666666666,
              "#ed7953"
             ],
             [
              0.7777777777777778,
              "#fb9f3a"
             ],
             [
              0.8888888888888888,
              "#fdca26"
             ],
             [
              1,
              "#f0f921"
             ]
            ],
            "type": "heatmap"
           }
          ],
          "heatmapgl": [
           {
            "colorbar": {
             "outlinewidth": 0,
             "ticks": ""
            },
            "colorscale": [
             [
              0,
              "#0d0887"
             ],
             [
              0.1111111111111111,
              "#46039f"
             ],
             [
              0.2222222222222222,
              "#7201a8"
             ],
             [
              0.3333333333333333,
              "#9c179e"
             ],
             [
              0.4444444444444444,
              "#bd3786"
             ],
             [
              0.5555555555555556,
              "#d8576b"
             ],
             [
              0.6666666666666666,
              "#ed7953"
             ],
             [
              0.7777777777777778,
              "#fb9f3a"
             ],
             [
              0.8888888888888888,
              "#fdca26"
             ],
             [
              1,
              "#f0f921"
             ]
            ],
            "type": "heatmapgl"
           }
          ],
          "histogram": [
           {
            "marker": {
             "pattern": {
              "fillmode": "overlay",
              "size": 10,
              "solidity": 0.2
             }
            },
            "type": "histogram"
           }
          ],
          "histogram2d": [
           {
            "colorbar": {
             "outlinewidth": 0,
             "ticks": ""
            },
            "colorscale": [
             [
              0,
              "#0d0887"
             ],
             [
              0.1111111111111111,
              "#46039f"
             ],
             [
              0.2222222222222222,
              "#7201a8"
             ],
             [
              0.3333333333333333,
              "#9c179e"
             ],
             [
              0.4444444444444444,
              "#bd3786"
             ],
             [
              0.5555555555555556,
              "#d8576b"
             ],
             [
              0.6666666666666666,
              "#ed7953"
             ],
             [
              0.7777777777777778,
              "#fb9f3a"
             ],
             [
              0.8888888888888888,
              "#fdca26"
             ],
             [
              1,
              "#f0f921"
             ]
            ],
            "type": "histogram2d"
           }
          ],
          "histogram2dcontour": [
           {
            "colorbar": {
             "outlinewidth": 0,
             "ticks": ""
            },
            "colorscale": [
             [
              0,
              "#0d0887"
             ],
             [
              0.1111111111111111,
              "#46039f"
             ],
             [
              0.2222222222222222,
              "#7201a8"
             ],
             [
              0.3333333333333333,
              "#9c179e"
             ],
             [
              0.4444444444444444,
              "#bd3786"
             ],
             [
              0.5555555555555556,
              "#d8576b"
             ],
             [
              0.6666666666666666,
              "#ed7953"
             ],
             [
              0.7777777777777778,
              "#fb9f3a"
             ],
             [
              0.8888888888888888,
              "#fdca26"
             ],
             [
              1,
              "#f0f921"
             ]
            ],
            "type": "histogram2dcontour"
           }
          ],
          "mesh3d": [
           {
            "colorbar": {
             "outlinewidth": 0,
             "ticks": ""
            },
            "type": "mesh3d"
           }
          ],
          "parcoords": [
           {
            "line": {
             "colorbar": {
              "outlinewidth": 0,
              "ticks": ""
             }
            },
            "type": "parcoords"
           }
          ],
          "pie": [
           {
            "automargin": true,
            "type": "pie"
           }
          ],
          "scatter": [
           {
            "fillpattern": {
             "fillmode": "overlay",
             "size": 10,
             "solidity": 0.2
            },
            "type": "scatter"
           }
          ],
          "scatter3d": [
           {
            "line": {
             "colorbar": {
              "outlinewidth": 0,
              "ticks": ""
             }
            },
            "marker": {
             "colorbar": {
              "outlinewidth": 0,
              "ticks": ""
             }
            },
            "type": "scatter3d"
           }
          ],
          "scattercarpet": [
           {
            "marker": {
             "colorbar": {
              "outlinewidth": 0,
              "ticks": ""
             }
            },
            "type": "scattercarpet"
           }
          ],
          "scattergeo": [
           {
            "marker": {
             "colorbar": {
              "outlinewidth": 0,
              "ticks": ""
             }
            },
            "type": "scattergeo"
           }
          ],
          "scattergl": [
           {
            "marker": {
             "colorbar": {
              "outlinewidth": 0,
              "ticks": ""
             }
            },
            "type": "scattergl"
           }
          ],
          "scattermapbox": [
           {
            "marker": {
             "colorbar": {
              "outlinewidth": 0,
              "ticks": ""
             }
            },
            "type": "scattermapbox"
           }
          ],
          "scatterpolar": [
           {
            "marker": {
             "colorbar": {
              "outlinewidth": 0,
              "ticks": ""
             }
            },
            "type": "scatterpolar"
           }
          ],
          "scatterpolargl": [
           {
            "marker": {
             "colorbar": {
              "outlinewidth": 0,
              "ticks": ""
             }
            },
            "type": "scatterpolargl"
           }
          ],
          "scatterternary": [
           {
            "marker": {
             "colorbar": {
              "outlinewidth": 0,
              "ticks": ""
             }
            },
            "type": "scatterternary"
           }
          ],
          "surface": [
           {
            "colorbar": {
             "outlinewidth": 0,
             "ticks": ""
            },
            "colorscale": [
             [
              0,
              "#0d0887"
             ],
             [
              0.1111111111111111,
              "#46039f"
             ],
             [
              0.2222222222222222,
              "#7201a8"
             ],
             [
              0.3333333333333333,
              "#9c179e"
             ],
             [
              0.4444444444444444,
              "#bd3786"
             ],
             [
              0.5555555555555556,
              "#d8576b"
             ],
             [
              0.6666666666666666,
              "#ed7953"
             ],
             [
              0.7777777777777778,
              "#fb9f3a"
             ],
             [
              0.8888888888888888,
              "#fdca26"
             ],
             [
              1,
              "#f0f921"
             ]
            ],
            "type": "surface"
           }
          ],
          "table": [
           {
            "cells": {
             "fill": {
              "color": "#EBF0F8"
             },
             "line": {
              "color": "white"
             }
            },
            "header": {
             "fill": {
              "color": "#C8D4E3"
             },
             "line": {
              "color": "white"
             }
            },
            "type": "table"
           }
          ]
         },
         "layout": {
          "annotationdefaults": {
           "arrowcolor": "#2a3f5f",
           "arrowhead": 0,
           "arrowwidth": 1
          },
          "autotypenumbers": "strict",
          "coloraxis": {
           "colorbar": {
            "outlinewidth": 0,
            "ticks": ""
           }
          },
          "colorscale": {
           "diverging": [
            [
             0,
             "#8e0152"
            ],
            [
             0.1,
             "#c51b7d"
            ],
            [
             0.2,
             "#de77ae"
            ],
            [
             0.3,
             "#f1b6da"
            ],
            [
             0.4,
             "#fde0ef"
            ],
            [
             0.5,
             "#f7f7f7"
            ],
            [
             0.6,
             "#e6f5d0"
            ],
            [
             0.7,
             "#b8e186"
            ],
            [
             0.8,
             "#7fbc41"
            ],
            [
             0.9,
             "#4d9221"
            ],
            [
             1,
             "#276419"
            ]
           ],
           "sequential": [
            [
             0,
             "#0d0887"
            ],
            [
             0.1111111111111111,
             "#46039f"
            ],
            [
             0.2222222222222222,
             "#7201a8"
            ],
            [
             0.3333333333333333,
             "#9c179e"
            ],
            [
             0.4444444444444444,
             "#bd3786"
            ],
            [
             0.5555555555555556,
             "#d8576b"
            ],
            [
             0.6666666666666666,
             "#ed7953"
            ],
            [
             0.7777777777777778,
             "#fb9f3a"
            ],
            [
             0.8888888888888888,
             "#fdca26"
            ],
            [
             1,
             "#f0f921"
            ]
           ],
           "sequentialminus": [
            [
             0,
             "#0d0887"
            ],
            [
             0.1111111111111111,
             "#46039f"
            ],
            [
             0.2222222222222222,
             "#7201a8"
            ],
            [
             0.3333333333333333,
             "#9c179e"
            ],
            [
             0.4444444444444444,
             "#bd3786"
            ],
            [
             0.5555555555555556,
             "#d8576b"
            ],
            [
             0.6666666666666666,
             "#ed7953"
            ],
            [
             0.7777777777777778,
             "#fb9f3a"
            ],
            [
             0.8888888888888888,
             "#fdca26"
            ],
            [
             1,
             "#f0f921"
            ]
           ]
          },
          "colorway": [
           "#636efa",
           "#EF553B",
           "#00cc96",
           "#ab63fa",
           "#FFA15A",
           "#19d3f3",
           "#FF6692",
           "#B6E880",
           "#FF97FF",
           "#FECB52"
          ],
          "font": {
           "color": "#2a3f5f"
          },
          "geo": {
           "bgcolor": "white",
           "lakecolor": "white",
           "landcolor": "#E5ECF6",
           "showlakes": true,
           "showland": true,
           "subunitcolor": "white"
          },
          "hoverlabel": {
           "align": "left"
          },
          "hovermode": "closest",
          "mapbox": {
           "style": "light"
          },
          "paper_bgcolor": "white",
          "plot_bgcolor": "#E5ECF6",
          "polar": {
           "angularaxis": {
            "gridcolor": "white",
            "linecolor": "white",
            "ticks": ""
           },
           "bgcolor": "#E5ECF6",
           "radialaxis": {
            "gridcolor": "white",
            "linecolor": "white",
            "ticks": ""
           }
          },
          "scene": {
           "xaxis": {
            "backgroundcolor": "#E5ECF6",
            "gridcolor": "white",
            "gridwidth": 2,
            "linecolor": "white",
            "showbackground": true,
            "ticks": "",
            "zerolinecolor": "white"
           },
           "yaxis": {
            "backgroundcolor": "#E5ECF6",
            "gridcolor": "white",
            "gridwidth": 2,
            "linecolor": "white",
            "showbackground": true,
            "ticks": "",
            "zerolinecolor": "white"
           },
           "zaxis": {
            "backgroundcolor": "#E5ECF6",
            "gridcolor": "white",
            "gridwidth": 2,
            "linecolor": "white",
            "showbackground": true,
            "ticks": "",
            "zerolinecolor": "white"
           }
          },
          "shapedefaults": {
           "line": {
            "color": "#2a3f5f"
           }
          },
          "ternary": {
           "aaxis": {
            "gridcolor": "white",
            "linecolor": "white",
            "ticks": ""
           },
           "baxis": {
            "gridcolor": "white",
            "linecolor": "white",
            "ticks": ""
           },
           "bgcolor": "#E5ECF6",
           "caxis": {
            "gridcolor": "white",
            "linecolor": "white",
            "ticks": ""
           }
          },
          "title": {
           "x": 0.05
          },
          "xaxis": {
           "automargin": true,
           "gridcolor": "white",
           "linecolor": "white",
           "ticks": "",
           "title": {
            "standoff": 15
           },
           "zerolinecolor": "white",
           "zerolinewidth": 2
          },
          "yaxis": {
           "automargin": true,
           "gridcolor": "white",
           "linecolor": "white",
           "ticks": "",
           "title": {
            "standoff": 15
           },
           "zerolinecolor": "white",
           "zerolinewidth": 2
          }
         }
        },
        "title": {
         "text": "Benchmark Time Relative Deviation - renaissance"
        },
        "xaxis": {
         "anchor": "y",
         "categoryorder": "category ascending",
         "domain": [
          0,
          0.31999999999999995
         ],
         "title": {
          "text": "benchmark"
         }
        },
        "xaxis2": {
         "anchor": "y2",
         "categoryorder": "category ascending",
         "domain": [
          0.33999999999999997,
          0.6599999999999999
         ],
         "matches": "x",
         "title": {
          "text": "benchmark"
         }
        },
        "xaxis3": {
         "anchor": "y3",
         "categoryorder": "category ascending",
         "domain": [
          0.6799999999999999,
          0.9999999999999999
         ],
         "matches": "x",
         "title": {
          "text": "benchmark"
         }
        },
        "yaxis": {
         "anchor": "x",
         "domain": [
          0,
          1
         ],
         "title": {
          "text": "CV"
         }
        },
        "yaxis2": {
         "anchor": "x2",
         "domain": [
          0,
          1
         ],
         "matches": "y",
         "showticklabels": false
        },
        "yaxis3": {
         "anchor": "x3",
         "domain": [
          0,
          1
         ],
         "matches": "y",
         "showticklabels": false
        }
       }
      }
     },
     "metadata": {},
     "output_type": "display_data"
    },
    {
     "data": {
      "application/vnd.plotly.v1+json": {
       "config": {
        "plotlyServerURL": "https://plot.ly"
       },
       "data": [
        {
         "alignmentgroup": "True",
         "hovertemplate": "type=duet<br>environment=AWS t3.medium<br>benchmark=%{x}<br>CV=%{y}<extra></extra>",
         "legendgroup": "duet",
         "marker": {
          "color": "#636efa",
          "pattern": {
           "shape": ""
          }
         },
         "name": "duet",
         "offsetgroup": "duet",
         "orientation": "v",
         "showlegend": true,
         "textposition": "auto",
         "type": "bar",
         "x": [
          "apparat",
          "avrora",
          "factorie",
          "fop",
          "h2",
          "kiama",
          "luindex",
          "lusearch",
          "pmd",
          "scalac",
          "scaladoc",
          "scalap",
          "scalariform",
          "scalatest",
          "scalaxb",
          "specs",
          "sunflow",
          "tmt",
          "tradebeans",
          "tradesoap",
          "xalan"
         ],
         "xaxis": "x",
         "y": [
          0.06676190581834288,
          0.07742381565920795,
          0.1022101957707096,
          0.2049396584500225,
          0.062495235323610274,
          0.1420801415892686,
          0.04460607533852282,
          0.18775691455236873,
          0.09443375170197914,
          0.15314171149058445,
          0.11607694593365232,
          0.15315694830399476,
          0.1288037133396415,
          0.06270524617766948,
          0.20351272256164182,
          0.060521646851518514,
          0.05820053505021435,
          0.32412238411097466,
          0.07391331992523453,
          0.07050454351377151,
          0.07622876736263909
         ],
         "yaxis": "y"
        },
        {
         "alignmentgroup": "True",
         "hovertemplate": "type=duet<br>environment=bare-metal<br>benchmark=%{x}<br>CV=%{y}<extra></extra>",
         "legendgroup": "duet",
         "marker": {
          "color": "#636efa",
          "pattern": {
           "shape": ""
          }
         },
         "name": "duet",
         "offsetgroup": "duet",
         "orientation": "v",
         "showlegend": false,
         "textposition": "auto",
         "type": "bar",
         "x": [
          "apparat",
          "avrora",
          "factorie",
          "fop",
          "h2",
          "kiama",
          "luindex",
          "lusearch",
          "pmd",
          "scalac",
          "scaladoc",
          "scalap",
          "scalariform",
          "scalatest",
          "scalaxb",
          "specs",
          "sunflow",
          "tmt",
          "tradebeans",
          "tradesoap",
          "xalan"
         ],
         "xaxis": "x2",
         "y": [
          0.037901129074921346,
          0.02997290018355885,
          0.06362727185974378,
          0.023753479235194507,
          0.06942544033854685,
          0.04495397598835446,
          0.13600627672040552,
          0.09249769508391208,
          0.025228203115948433,
          0.034655944154356855,
          0.021637188572082817,
          0.04139590267884171,
          0.031108229706543727,
          0.04415415343801869,
          0.03000867879952459,
          0.007261115710059739,
          0.051233594603134494,
          0.14242421940235647,
          0.01948138914019931,
          0.02951353601976156,
          0.06707912750862276
         ],
         "yaxis": "y2"
        },
        {
         "alignmentgroup": "True",
         "hovertemplate": "type=duet<br>environment=shared-vm<br>benchmark=%{x}<br>CV=%{y}<extra></extra>",
         "legendgroup": "duet",
         "marker": {
          "color": "#636efa",
          "pattern": {
           "shape": ""
          }
         },
         "name": "duet",
         "offsetgroup": "duet",
         "orientation": "v",
         "showlegend": false,
         "textposition": "auto",
         "type": "bar",
         "x": [
          "apparat",
          "avrora",
          "factorie",
          "fop",
          "h2",
          "kiama",
          "luindex",
          "lusearch",
          "pmd",
          "scalac",
          "scaladoc",
          "scalap",
          "scalariform",
          "scalatest",
          "scalaxb",
          "specs",
          "sunflow",
          "tmt",
          "tradebeans",
          "tradesoap",
          "xalan"
         ],
         "xaxis": "x3",
         "y": [
          0.08873514562501926,
          0.09411154807007696,
          0.08518429079747578,
          0.19551933127393428,
          0.0813028712561906,
          0.13571828082866202,
          0.5740650670674058,
          0.13199512244092695,
          0.09392665684704694,
          0.16375076906336983,
          0.16407087456189545,
          0.19175179630439,
          0.1687934611930921,
          0.06646085492506178,
          0.17757723540834325,
          0.07014208818263377,
          0.06652287052069993,
          0.18094271455616726,
          0.08427938349114455,
          0.07530522838377213,
          0.06336299033197842
         ],
         "yaxis": "y3"
        },
        {
         "alignmentgroup": "True",
         "hovertemplate": "type=seqn<br>environment=AWS t3.medium<br>benchmark=%{x}<br>CV=%{y}<extra></extra>",
         "legendgroup": "seqn",
         "marker": {
          "color": "#EF553B",
          "pattern": {
           "shape": ""
          }
         },
         "name": "seqn",
         "offsetgroup": "seqn",
         "orientation": "v",
         "showlegend": true,
         "textposition": "auto",
         "type": "bar",
         "x": [
          "apparat",
          "avrora",
          "factorie",
          "fop",
          "h2",
          "kiama",
          "luindex",
          "lusearch",
          "pmd",
          "scalac",
          "scaladoc",
          "scalap",
          "scalariform",
          "scalatest",
          "scalaxb",
          "specs",
          "sunflow",
          "tmt",
          "tradebeans",
          "tradesoap",
          "xalan"
         ],
         "xaxis": "x",
         "y": [
          0.06690815285017915,
          0.01751358375661844,
          0.11761388549690485,
          0.12463661964117033,
          0.06461028460534232,
          0.10687128220881376,
          0.037006702481254476,
          0.04065741804079418,
          0.06688550525617087,
          0.08736680541380361,
          0.07413381894774984,
          0.09719715285904855,
          0.09083486159588694,
          0.049223741588937,
          0.1454217109802354,
          0.03872480802703394,
          0.022804321420533912,
          0.2302524641110054,
          0.043972879240322,
          0.034530369429569906,
          0.0525942004746813
         ],
         "yaxis": "y"
        },
        {
         "alignmentgroup": "True",
         "hovertemplate": "type=seqn<br>environment=bare-metal<br>benchmark=%{x}<br>CV=%{y}<extra></extra>",
         "legendgroup": "seqn",
         "marker": {
          "color": "#EF553B",
          "pattern": {
           "shape": ""
          }
         },
         "name": "seqn",
         "offsetgroup": "seqn",
         "orientation": "v",
         "showlegend": false,
         "textposition": "auto",
         "type": "bar",
         "x": [
          "apparat",
          "avrora",
          "factorie",
          "fop",
          "h2",
          "kiama",
          "luindex",
          "lusearch",
          "pmd",
          "scalac",
          "scaladoc",
          "scalap",
          "scalariform",
          "scalatest",
          "scalaxb",
          "specs",
          "sunflow",
          "tmt",
          "tradebeans",
          "tradesoap",
          "xalan"
         ],
         "xaxis": "x2",
         "y": [
          0.023213406285234155,
          0.04289645204211698,
          0.05864780208556005,
          0.017003158574125047,
          0.06862143890203029,
          0.02458361858876304,
          0.10486313174546595,
          0.043670622907736184,
          0.014621613134916459,
          0.02024081728343756,
          0.015187448040441011,
          0.03409353560399354,
          0.03258949048732529,
          0.03527752758579645,
          0.011962669940340547,
          0.005839761314348614,
          0.036773411880700956,
          0.09090684050741576,
          0.01761174706657671,
          0.009565292834627068,
          0.02824983007960825
         ],
         "yaxis": "y2"
        },
        {
         "alignmentgroup": "True",
         "hovertemplate": "type=seqn<br>environment=shared-vm<br>benchmark=%{x}<br>CV=%{y}<extra></extra>",
         "legendgroup": "seqn",
         "marker": {
          "color": "#EF553B",
          "pattern": {
           "shape": ""
          }
         },
         "name": "seqn",
         "offsetgroup": "seqn",
         "orientation": "v",
         "showlegend": false,
         "textposition": "auto",
         "type": "bar",
         "x": [
          "apparat",
          "avrora",
          "factorie",
          "fop",
          "h2",
          "kiama",
          "luindex",
          "lusearch",
          "pmd",
          "scalac",
          "scaladoc",
          "scalap",
          "scalariform",
          "scalatest",
          "scalaxb",
          "specs",
          "sunflow",
          "tmt",
          "tradebeans",
          "tradesoap",
          "xalan"
         ],
         "xaxis": "x3",
         "y": [
          0.06515230211906137,
          0.08400049016215509,
          0.10931916769698376,
          0.18571547464242225,
          0.08468821298319622,
          0.1380632068952237,
          0.43339538027827224,
          0.09469215741755516,
          0.06864806326019202,
          0.1321914912778565,
          0.1103943598324997,
          0.11210896781446511,
          0.09880151369581452,
          0.11870523128297,
          0.14208019585999285,
          0.069700982342512,
          0.09191178587005877,
          0.11230291964362832,
          0.07799833689647485,
          0.11055456430905503,
          0.13520529672209297
         ],
         "yaxis": "y3"
        },
        {
         "alignmentgroup": "True",
         "hovertemplate": "type=syncduet<br>environment=AWS t3.medium<br>benchmark=%{x}<br>CV=%{y}<extra></extra>",
         "legendgroup": "syncduet",
         "marker": {
          "color": "#00cc96",
          "pattern": {
           "shape": ""
          }
         },
         "name": "syncduet",
         "offsetgroup": "syncduet",
         "orientation": "v",
         "showlegend": true,
         "textposition": "auto",
         "type": "bar",
         "x": [
          "apparat",
          "avrora",
          "factorie",
          "fop",
          "h2",
          "kiama",
          "luindex",
          "lusearch",
          "pmd",
          "scalac",
          "scaladoc",
          "scalap",
          "scalariform",
          "scalatest",
          "scalaxb",
          "specs",
          "sunflow",
          "tmt",
          "tradebeans",
          "tradesoap",
          "xalan"
         ],
         "xaxis": "x",
         "y": [
          0.06731260141455006,
          0.027243170785983373,
          0.11122691542151675,
          0.18762858005323724,
          0.05343246078861322,
          0.13883920626328553,
          0.04706196402550931,
          0.1680122387842713,
          0.09253543273601189,
          0.16653718243852642,
          0.11053510974534689,
          0.15369702087944087,
          0.13099093705276071,
          0.06517313238667895,
          0.20189503849616422,
          0.06362429772086456,
          0.05811983778032066,
          0.3239833870890277,
          0.07297376822781043,
          0.07734357036518345,
          0.08402946229680051
         ],
         "yaxis": "y"
        },
        {
         "alignmentgroup": "True",
         "hovertemplate": "type=syncduet<br>environment=bare-metal<br>benchmark=%{x}<br>CV=%{y}<extra></extra>",
         "legendgroup": "syncduet",
         "marker": {
          "color": "#00cc96",
          "pattern": {
           "shape": ""
          }
         },
         "name": "syncduet",
         "offsetgroup": "syncduet",
         "orientation": "v",
         "showlegend": false,
         "textposition": "auto",
         "type": "bar",
         "x": [
          "apparat",
          "avrora",
          "factorie",
          "fop",
          "h2",
          "kiama",
          "luindex",
          "lusearch",
          "pmd",
          "scalac",
          "scaladoc",
          "scalap",
          "scalariform",
          "scalatest",
          "scalaxb",
          "specs",
          "sunflow",
          "tmt",
          "tradebeans",
          "tradesoap",
          "xalan"
         ],
         "xaxis": "x2",
         "y": [
          0.03752034722786777,
          0.02997332779904768,
          0.07213156524823103,
          0.030495837199956417,
          0.07057687463964685,
          0.042797668668226756,
          0.13179629230020307,
          0.10202053712715027,
          0.02067058075051928,
          0.03711424062500984,
          0.021433193221949105,
          0.0411270306757421,
          0.03253396003757847,
          0.03908838976083177,
          0.03733933845063574,
          0.006982722805115146,
          0.057850557614009215,
          0.13325413675849235,
          0.018997042413523475,
          0.03190541115051207,
          0.07547088513236522
         ],
         "yaxis": "y2"
        },
        {
         "alignmentgroup": "True",
         "hovertemplate": "type=syncduet<br>environment=shared-vm<br>benchmark=%{x}<br>CV=%{y}<extra></extra>",
         "legendgroup": "syncduet",
         "marker": {
          "color": "#00cc96",
          "pattern": {
           "shape": ""
          }
         },
         "name": "syncduet",
         "offsetgroup": "syncduet",
         "orientation": "v",
         "showlegend": false,
         "textposition": "auto",
         "type": "bar",
         "x": [
          "apparat",
          "avrora",
          "factorie",
          "fop",
          "h2",
          "kiama",
          "luindex",
          "lusearch",
          "pmd",
          "scalac",
          "scaladoc",
          "scalap",
          "scalariform",
          "scalatest",
          "scalaxb",
          "specs",
          "sunflow",
          "tmt",
          "tradebeans",
          "tradesoap",
          "xalan"
         ],
         "xaxis": "x3",
         "y": [
          0.06957420384928284,
          0.11499820828037348,
          0.11694107466364055,
          0.20107991858837407,
          0.08052800441209118,
          0.1445949769333497,
          0.5909130278352507,
          0.06883347030843011,
          0.08136791811570736,
          0.14917215188875538,
          0.11981625506846875,
          0.12531361088050538,
          0.12035132681801067,
          0.07262140525735145,
          0.16935577835671628,
          0.07030052486455535,
          0.06912660394986646,
          0.1378967862609927,
          0.14703373399321934,
          0.0568455629473615,
          0.08149161178130959
         ],
         "yaxis": "y3"
        }
       ],
       "layout": {
        "annotations": [
         {
          "font": {},
          "showarrow": false,
          "text": "environment=AWS t3.medium",
          "x": 0.15999999999999998,
          "xanchor": "center",
          "xref": "paper",
          "y": 1,
          "yanchor": "bottom",
          "yref": "paper"
         },
         {
          "font": {},
          "showarrow": false,
          "text": "environment=bare-metal",
          "x": 0.49999999999999994,
          "xanchor": "center",
          "xref": "paper",
          "y": 1,
          "yanchor": "bottom",
          "yref": "paper"
         },
         {
          "font": {},
          "showarrow": false,
          "text": "environment=shared-vm",
          "x": 0.8399999999999999,
          "xanchor": "center",
          "xref": "paper",
          "y": 1,
          "yanchor": "bottom",
          "yref": "paper"
         }
        ],
        "barmode": "group",
        "legend": {
         "title": {
          "text": "type"
         },
         "tracegroupgap": 0
        },
        "template": {
         "data": {
          "bar": [
           {
            "error_x": {
             "color": "#2a3f5f"
            },
            "error_y": {
             "color": "#2a3f5f"
            },
            "marker": {
             "line": {
              "color": "#E5ECF6",
              "width": 0.5
             },
             "pattern": {
              "fillmode": "overlay",
              "size": 10,
              "solidity": 0.2
             }
            },
            "type": "bar"
           }
          ],
          "barpolar": [
           {
            "marker": {
             "line": {
              "color": "#E5ECF6",
              "width": 0.5
             },
             "pattern": {
              "fillmode": "overlay",
              "size": 10,
              "solidity": 0.2
             }
            },
            "type": "barpolar"
           }
          ],
          "carpet": [
           {
            "aaxis": {
             "endlinecolor": "#2a3f5f",
             "gridcolor": "white",
             "linecolor": "white",
             "minorgridcolor": "white",
             "startlinecolor": "#2a3f5f"
            },
            "baxis": {
             "endlinecolor": "#2a3f5f",
             "gridcolor": "white",
             "linecolor": "white",
             "minorgridcolor": "white",
             "startlinecolor": "#2a3f5f"
            },
            "type": "carpet"
           }
          ],
          "choropleth": [
           {
            "colorbar": {
             "outlinewidth": 0,
             "ticks": ""
            },
            "type": "choropleth"
           }
          ],
          "contour": [
           {
            "colorbar": {
             "outlinewidth": 0,
             "ticks": ""
            },
            "colorscale": [
             [
              0,
              "#0d0887"
             ],
             [
              0.1111111111111111,
              "#46039f"
             ],
             [
              0.2222222222222222,
              "#7201a8"
             ],
             [
              0.3333333333333333,
              "#9c179e"
             ],
             [
              0.4444444444444444,
              "#bd3786"
             ],
             [
              0.5555555555555556,
              "#d8576b"
             ],
             [
              0.6666666666666666,
              "#ed7953"
             ],
             [
              0.7777777777777778,
              "#fb9f3a"
             ],
             [
              0.8888888888888888,
              "#fdca26"
             ],
             [
              1,
              "#f0f921"
             ]
            ],
            "type": "contour"
           }
          ],
          "contourcarpet": [
           {
            "colorbar": {
             "outlinewidth": 0,
             "ticks": ""
            },
            "type": "contourcarpet"
           }
          ],
          "heatmap": [
           {
            "colorbar": {
             "outlinewidth": 0,
             "ticks": ""
            },
            "colorscale": [
             [
              0,
              "#0d0887"
             ],
             [
              0.1111111111111111,
              "#46039f"
             ],
             [
              0.2222222222222222,
              "#7201a8"
             ],
             [
              0.3333333333333333,
              "#9c179e"
             ],
             [
              0.4444444444444444,
              "#bd3786"
             ],
             [
              0.5555555555555556,
              "#d8576b"
             ],
             [
              0.6666666666666666,
              "#ed7953"
             ],
             [
              0.7777777777777778,
              "#fb9f3a"
             ],
             [
              0.8888888888888888,
              "#fdca26"
             ],
             [
              1,
              "#f0f921"
             ]
            ],
            "type": "heatmap"
           }
          ],
          "heatmapgl": [
           {
            "colorbar": {
             "outlinewidth": 0,
             "ticks": ""
            },
            "colorscale": [
             [
              0,
              "#0d0887"
             ],
             [
              0.1111111111111111,
              "#46039f"
             ],
             [
              0.2222222222222222,
              "#7201a8"
             ],
             [
              0.3333333333333333,
              "#9c179e"
             ],
             [
              0.4444444444444444,
              "#bd3786"
             ],
             [
              0.5555555555555556,
              "#d8576b"
             ],
             [
              0.6666666666666666,
              "#ed7953"
             ],
             [
              0.7777777777777778,
              "#fb9f3a"
             ],
             [
              0.8888888888888888,
              "#fdca26"
             ],
             [
              1,
              "#f0f921"
             ]
            ],
            "type": "heatmapgl"
           }
          ],
          "histogram": [
           {
            "marker": {
             "pattern": {
              "fillmode": "overlay",
              "size": 10,
              "solidity": 0.2
             }
            },
            "type": "histogram"
           }
          ],
          "histogram2d": [
           {
            "colorbar": {
             "outlinewidth": 0,
             "ticks": ""
            },
            "colorscale": [
             [
              0,
              "#0d0887"
             ],
             [
              0.1111111111111111,
              "#46039f"
             ],
             [
              0.2222222222222222,
              "#7201a8"
             ],
             [
              0.3333333333333333,
              "#9c179e"
             ],
             [
              0.4444444444444444,
              "#bd3786"
             ],
             [
              0.5555555555555556,
              "#d8576b"
             ],
             [
              0.6666666666666666,
              "#ed7953"
             ],
             [
              0.7777777777777778,
              "#fb9f3a"
             ],
             [
              0.8888888888888888,
              "#fdca26"
             ],
             [
              1,
              "#f0f921"
             ]
            ],
            "type": "histogram2d"
           }
          ],
          "histogram2dcontour": [
           {
            "colorbar": {
             "outlinewidth": 0,
             "ticks": ""
            },
            "colorscale": [
             [
              0,
              "#0d0887"
             ],
             [
              0.1111111111111111,
              "#46039f"
             ],
             [
              0.2222222222222222,
              "#7201a8"
             ],
             [
              0.3333333333333333,
              "#9c179e"
             ],
             [
              0.4444444444444444,
              "#bd3786"
             ],
             [
              0.5555555555555556,
              "#d8576b"
             ],
             [
              0.6666666666666666,
              "#ed7953"
             ],
             [
              0.7777777777777778,
              "#fb9f3a"
             ],
             [
              0.8888888888888888,
              "#fdca26"
             ],
             [
              1,
              "#f0f921"
             ]
            ],
            "type": "histogram2dcontour"
           }
          ],
          "mesh3d": [
           {
            "colorbar": {
             "outlinewidth": 0,
             "ticks": ""
            },
            "type": "mesh3d"
           }
          ],
          "parcoords": [
           {
            "line": {
             "colorbar": {
              "outlinewidth": 0,
              "ticks": ""
             }
            },
            "type": "parcoords"
           }
          ],
          "pie": [
           {
            "automargin": true,
            "type": "pie"
           }
          ],
          "scatter": [
           {
            "fillpattern": {
             "fillmode": "overlay",
             "size": 10,
             "solidity": 0.2
            },
            "type": "scatter"
           }
          ],
          "scatter3d": [
           {
            "line": {
             "colorbar": {
              "outlinewidth": 0,
              "ticks": ""
             }
            },
            "marker": {
             "colorbar": {
              "outlinewidth": 0,
              "ticks": ""
             }
            },
            "type": "scatter3d"
           }
          ],
          "scattercarpet": [
           {
            "marker": {
             "colorbar": {
              "outlinewidth": 0,
              "ticks": ""
             }
            },
            "type": "scattercarpet"
           }
          ],
          "scattergeo": [
           {
            "marker": {
             "colorbar": {
              "outlinewidth": 0,
              "ticks": ""
             }
            },
            "type": "scattergeo"
           }
          ],
          "scattergl": [
           {
            "marker": {
             "colorbar": {
              "outlinewidth": 0,
              "ticks": ""
             }
            },
            "type": "scattergl"
           }
          ],
          "scattermapbox": [
           {
            "marker": {
             "colorbar": {
              "outlinewidth": 0,
              "ticks": ""
             }
            },
            "type": "scattermapbox"
           }
          ],
          "scatterpolar": [
           {
            "marker": {
             "colorbar": {
              "outlinewidth": 0,
              "ticks": ""
             }
            },
            "type": "scatterpolar"
           }
          ],
          "scatterpolargl": [
           {
            "marker": {
             "colorbar": {
              "outlinewidth": 0,
              "ticks": ""
             }
            },
            "type": "scatterpolargl"
           }
          ],
          "scatterternary": [
           {
            "marker": {
             "colorbar": {
              "outlinewidth": 0,
              "ticks": ""
             }
            },
            "type": "scatterternary"
           }
          ],
          "surface": [
           {
            "colorbar": {
             "outlinewidth": 0,
             "ticks": ""
            },
            "colorscale": [
             [
              0,
              "#0d0887"
             ],
             [
              0.1111111111111111,
              "#46039f"
             ],
             [
              0.2222222222222222,
              "#7201a8"
             ],
             [
              0.3333333333333333,
              "#9c179e"
             ],
             [
              0.4444444444444444,
              "#bd3786"
             ],
             [
              0.5555555555555556,
              "#d8576b"
             ],
             [
              0.6666666666666666,
              "#ed7953"
             ],
             [
              0.7777777777777778,
              "#fb9f3a"
             ],
             [
              0.8888888888888888,
              "#fdca26"
             ],
             [
              1,
              "#f0f921"
             ]
            ],
            "type": "surface"
           }
          ],
          "table": [
           {
            "cells": {
             "fill": {
              "color": "#EBF0F8"
             },
             "line": {
              "color": "white"
             }
            },
            "header": {
             "fill": {
              "color": "#C8D4E3"
             },
             "line": {
              "color": "white"
             }
            },
            "type": "table"
           }
          ]
         },
         "layout": {
          "annotationdefaults": {
           "arrowcolor": "#2a3f5f",
           "arrowhead": 0,
           "arrowwidth": 1
          },
          "autotypenumbers": "strict",
          "coloraxis": {
           "colorbar": {
            "outlinewidth": 0,
            "ticks": ""
           }
          },
          "colorscale": {
           "diverging": [
            [
             0,
             "#8e0152"
            ],
            [
             0.1,
             "#c51b7d"
            ],
            [
             0.2,
             "#de77ae"
            ],
            [
             0.3,
             "#f1b6da"
            ],
            [
             0.4,
             "#fde0ef"
            ],
            [
             0.5,
             "#f7f7f7"
            ],
            [
             0.6,
             "#e6f5d0"
            ],
            [
             0.7,
             "#b8e186"
            ],
            [
             0.8,
             "#7fbc41"
            ],
            [
             0.9,
             "#4d9221"
            ],
            [
             1,
             "#276419"
            ]
           ],
           "sequential": [
            [
             0,
             "#0d0887"
            ],
            [
             0.1111111111111111,
             "#46039f"
            ],
            [
             0.2222222222222222,
             "#7201a8"
            ],
            [
             0.3333333333333333,
             "#9c179e"
            ],
            [
             0.4444444444444444,
             "#bd3786"
            ],
            [
             0.5555555555555556,
             "#d8576b"
            ],
            [
             0.6666666666666666,
             "#ed7953"
            ],
            [
             0.7777777777777778,
             "#fb9f3a"
            ],
            [
             0.8888888888888888,
             "#fdca26"
            ],
            [
             1,
             "#f0f921"
            ]
           ],
           "sequentialminus": [
            [
             0,
             "#0d0887"
            ],
            [
             0.1111111111111111,
             "#46039f"
            ],
            [
             0.2222222222222222,
             "#7201a8"
            ],
            [
             0.3333333333333333,
             "#9c179e"
            ],
            [
             0.4444444444444444,
             "#bd3786"
            ],
            [
             0.5555555555555556,
             "#d8576b"
            ],
            [
             0.6666666666666666,
             "#ed7953"
            ],
            [
             0.7777777777777778,
             "#fb9f3a"
            ],
            [
             0.8888888888888888,
             "#fdca26"
            ],
            [
             1,
             "#f0f921"
            ]
           ]
          },
          "colorway": [
           "#636efa",
           "#EF553B",
           "#00cc96",
           "#ab63fa",
           "#FFA15A",
           "#19d3f3",
           "#FF6692",
           "#B6E880",
           "#FF97FF",
           "#FECB52"
          ],
          "font": {
           "color": "#2a3f5f"
          },
          "geo": {
           "bgcolor": "white",
           "lakecolor": "white",
           "landcolor": "#E5ECF6",
           "showlakes": true,
           "showland": true,
           "subunitcolor": "white"
          },
          "hoverlabel": {
           "align": "left"
          },
          "hovermode": "closest",
          "mapbox": {
           "style": "light"
          },
          "paper_bgcolor": "white",
          "plot_bgcolor": "#E5ECF6",
          "polar": {
           "angularaxis": {
            "gridcolor": "white",
            "linecolor": "white",
            "ticks": ""
           },
           "bgcolor": "#E5ECF6",
           "radialaxis": {
            "gridcolor": "white",
            "linecolor": "white",
            "ticks": ""
           }
          },
          "scene": {
           "xaxis": {
            "backgroundcolor": "#E5ECF6",
            "gridcolor": "white",
            "gridwidth": 2,
            "linecolor": "white",
            "showbackground": true,
            "ticks": "",
            "zerolinecolor": "white"
           },
           "yaxis": {
            "backgroundcolor": "#E5ECF6",
            "gridcolor": "white",
            "gridwidth": 2,
            "linecolor": "white",
            "showbackground": true,
            "ticks": "",
            "zerolinecolor": "white"
           },
           "zaxis": {
            "backgroundcolor": "#E5ECF6",
            "gridcolor": "white",
            "gridwidth": 2,
            "linecolor": "white",
            "showbackground": true,
            "ticks": "",
            "zerolinecolor": "white"
           }
          },
          "shapedefaults": {
           "line": {
            "color": "#2a3f5f"
           }
          },
          "ternary": {
           "aaxis": {
            "gridcolor": "white",
            "linecolor": "white",
            "ticks": ""
           },
           "baxis": {
            "gridcolor": "white",
            "linecolor": "white",
            "ticks": ""
           },
           "bgcolor": "#E5ECF6",
           "caxis": {
            "gridcolor": "white",
            "linecolor": "white",
            "ticks": ""
           }
          },
          "title": {
           "x": 0.05
          },
          "xaxis": {
           "automargin": true,
           "gridcolor": "white",
           "linecolor": "white",
           "ticks": "",
           "title": {
            "standoff": 15
           },
           "zerolinecolor": "white",
           "zerolinewidth": 2
          },
          "yaxis": {
           "automargin": true,
           "gridcolor": "white",
           "linecolor": "white",
           "ticks": "",
           "title": {
            "standoff": 15
           },
           "zerolinecolor": "white",
           "zerolinewidth": 2
          }
         }
        },
        "title": {
         "text": "Benchmark Time Relative Deviation - scalabench"
        },
        "xaxis": {
         "anchor": "y",
         "categoryorder": "category ascending",
         "domain": [
          0,
          0.31999999999999995
         ],
         "title": {
          "text": "benchmark"
         }
        },
        "xaxis2": {
         "anchor": "y2",
         "categoryorder": "category ascending",
         "domain": [
          0.33999999999999997,
          0.6599999999999999
         ],
         "matches": "x",
         "title": {
          "text": "benchmark"
         }
        },
        "xaxis3": {
         "anchor": "y3",
         "categoryorder": "category ascending",
         "domain": [
          0.6799999999999999,
          0.9999999999999999
         ],
         "matches": "x",
         "title": {
          "text": "benchmark"
         }
        },
        "yaxis": {
         "anchor": "x",
         "domain": [
          0,
          1
         ],
         "title": {
          "text": "CV"
         }
        },
        "yaxis2": {
         "anchor": "x2",
         "domain": [
          0,
          1
         ],
         "matches": "y",
         "showticklabels": false
        },
        "yaxis3": {
         "anchor": "x3",
         "domain": [
          0,
          1
         ],
         "matches": "y",
         "showticklabels": false
        }
       }
      }
     },
     "metadata": {},
     "output_type": "display_data"
    },
    {
     "data": {
      "application/vnd.plotly.v1+json": {
       "config": {
        "plotlyServerURL": "https://plot.ly"
       },
       "data": [
        {
         "alignmentgroup": "True",
         "hovertemplate": "type=duet<br>environment=AWS t3.medium<br>benchmark=%{x}<br>CV=%{y}<extra></extra>",
         "legendgroup": "duet",
         "marker": {
          "color": "#636efa",
          "pattern": {
           "shape": ""
          }
         },
         "name": "duet",
         "offsetgroup": "duet",
         "orientation": "v",
         "showlegend": true,
         "textposition": "auto",
         "type": "bar",
         "x": [
          "avrora",
          "fop",
          "h2",
          "luindex",
          "lusearch",
          "pmd",
          "sunflow",
          "tradebeans",
          "tradesoap",
          "xalan"
         ],
         "xaxis": "x",
         "y": [
          0.04157650341445547,
          0.19264618360994906,
          0.057659345644494146,
          0.08965279655569748,
          0.21662707564201772,
          0.0950000392407744,
          0.052430767741806425,
          0.0823369736547161,
          0.07807110203058547,
          0.08239219822146149
         ],
         "yaxis": "y"
        },
        {
         "alignmentgroup": "True",
         "hovertemplate": "type=duet<br>environment=bare-metal<br>benchmark=%{x}<br>CV=%{y}<extra></extra>",
         "legendgroup": "duet",
         "marker": {
          "color": "#636efa",
          "pattern": {
           "shape": ""
          }
         },
         "name": "duet",
         "offsetgroup": "duet",
         "orientation": "v",
         "showlegend": false,
         "textposition": "auto",
         "type": "bar",
         "x": [
          "avrora",
          "fop",
          "h2",
          "luindex",
          "lusearch",
          "pmd",
          "sunflow",
          "tradebeans",
          "tradesoap",
          "xalan"
         ],
         "xaxis": "x2",
         "y": [
          0.029307583792586078,
          0.030745694946629997,
          0.06813909064151354,
          0.10436524916748466,
          0.07686242212948033,
          0.019948681721994155,
          0.06669875193353872,
          0.019104181647391194,
          0.022777823074410692,
          0.07921139347502547
         ],
         "yaxis": "y2"
        },
        {
         "alignmentgroup": "True",
         "hovertemplate": "type=duet<br>environment=shared-vm<br>benchmark=%{x}<br>CV=%{y}<extra></extra>",
         "legendgroup": "duet",
         "marker": {
          "color": "#636efa",
          "pattern": {
           "shape": ""
          }
         },
         "name": "duet",
         "offsetgroup": "duet",
         "orientation": "v",
         "showlegend": false,
         "textposition": "auto",
         "type": "bar",
         "x": [
          "avrora",
          "fop",
          "h2",
          "luindex",
          "lusearch",
          "pmd",
          "sunflow",
          "tradebeans",
          "tradesoap",
          "xalan"
         ],
         "xaxis": "x3",
         "y": [
          0.08762231931204162,
          0.19917390606151955,
          0.0842385078047291,
          0.5650560574399162,
          0.06262811728403532,
          0.11789102584797477,
          0.10459211661388497,
          0.0741959871719539,
          0.10606977524125599,
          0.0977889254665278
         ],
         "yaxis": "y3"
        },
        {
         "alignmentgroup": "True",
         "hovertemplate": "type=seqn<br>environment=AWS t3.medium<br>benchmark=%{x}<br>CV=%{y}<extra></extra>",
         "legendgroup": "seqn",
         "marker": {
          "color": "#EF553B",
          "pattern": {
           "shape": ""
          }
         },
         "name": "seqn",
         "offsetgroup": "seqn",
         "orientation": "v",
         "showlegend": true,
         "textposition": "auto",
         "type": "bar",
         "x": [
          "avrora",
          "fop",
          "h2",
          "luindex",
          "lusearch",
          "pmd",
          "sunflow",
          "tradebeans",
          "tradesoap",
          "xalan"
         ],
         "xaxis": "x",
         "y": [
          0.018196727690360015,
          0.12461987912586063,
          0.062398593881028086,
          0.02717187526475197,
          0.04340861393172511,
          0.07009203036479718,
          0.02352004196979177,
          0.041262758958679195,
          0.03424919152941563,
          0.05113438877796223
         ],
         "yaxis": "y"
        },
        {
         "alignmentgroup": "True",
         "hovertemplate": "type=seqn<br>environment=bare-metal<br>benchmark=%{x}<br>CV=%{y}<extra></extra>",
         "legendgroup": "seqn",
         "marker": {
          "color": "#EF553B",
          "pattern": {
           "shape": ""
          }
         },
         "name": "seqn",
         "offsetgroup": "seqn",
         "orientation": "v",
         "showlegend": false,
         "textposition": "auto",
         "type": "bar",
         "x": [
          "avrora",
          "fop",
          "h2",
          "luindex",
          "lusearch",
          "pmd",
          "sunflow",
          "tradebeans",
          "tradesoap",
          "xalan"
         ],
         "xaxis": "x2",
         "y": [
          0.04133462163004214,
          0.032812516553258037,
          0.0690169374195255,
          0.0930986499170301,
          0.04639630200276096,
          0.014628617577049348,
          0.035890682024113794,
          0.01856937755621912,
          0.009984485343023635,
          0.03281128010395819
         ],
         "yaxis": "y2"
        },
        {
         "alignmentgroup": "True",
         "hovertemplate": "type=seqn<br>environment=shared-vm<br>benchmark=%{x}<br>CV=%{y}<extra></extra>",
         "legendgroup": "seqn",
         "marker": {
          "color": "#EF553B",
          "pattern": {
           "shape": ""
          }
         },
         "name": "seqn",
         "offsetgroup": "seqn",
         "orientation": "v",
         "showlegend": false,
         "textposition": "auto",
         "type": "bar",
         "x": [
          "avrora",
          "fop",
          "h2",
          "luindex",
          "lusearch",
          "pmd",
          "sunflow",
          "tradebeans",
          "tradesoap",
          "xalan"
         ],
         "xaxis": "x3",
         "y": [
          0.03796558054786691,
          0.20248691461677215,
          0.06929719369229365,
          0.43116545773642156,
          0.11900653439631198,
          0.06830532313490831,
          0.09383852705805823,
          0.06718079249417823,
          0.04828709457064528,
          0.13097310964264403
         ],
         "yaxis": "y3"
        },
        {
         "alignmentgroup": "True",
         "hovertemplate": "type=syncduet<br>environment=AWS t3.medium<br>benchmark=%{x}<br>CV=%{y}<extra></extra>",
         "legendgroup": "syncduet",
         "marker": {
          "color": "#00cc96",
          "pattern": {
           "shape": ""
          }
         },
         "name": "syncduet",
         "offsetgroup": "syncduet",
         "orientation": "v",
         "showlegend": true,
         "textposition": "auto",
         "type": "bar",
         "x": [
          "avrora",
          "fop",
          "h2",
          "luindex",
          "lusearch",
          "pmd",
          "sunflow",
          "tradebeans",
          "tradesoap",
          "xalan"
         ],
         "xaxis": "x",
         "y": [
          0.03292779541670601,
          0.18276492254462298,
          0.06143938224239031,
          0.03028463109959204,
          0.03226485969942506,
          0.08373560586113733,
          0.04811830782903881,
          0.06263747539186305,
          0.07926692446182754,
          0.05251309182714261
         ],
         "yaxis": "y"
        },
        {
         "alignmentgroup": "True",
         "hovertemplate": "type=syncduet<br>environment=bare-metal<br>benchmark=%{x}<br>CV=%{y}<extra></extra>",
         "legendgroup": "syncduet",
         "marker": {
          "color": "#00cc96",
          "pattern": {
           "shape": ""
          }
         },
         "name": "syncduet",
         "offsetgroup": "syncduet",
         "orientation": "v",
         "showlegend": false,
         "textposition": "auto",
         "type": "bar",
         "x": [
          "avrora",
          "fop",
          "h2",
          "luindex",
          "lusearch",
          "pmd",
          "sunflow",
          "tradebeans",
          "tradesoap",
          "xalan"
         ],
         "xaxis": "x2",
         "y": [
          0.028495174222221552,
          0.10092792086376864,
          0.06857209283950494,
          0.08067154215909528,
          0.03463934382626439,
          0.01898206562790903,
          0.02158170863336297,
          0.017498925273059324,
          0.011022196940514784,
          0.030627288739986082
         ],
         "yaxis": "y2"
        },
        {
         "alignmentgroup": "True",
         "hovertemplate": "type=syncduet<br>environment=shared-vm<br>benchmark=%{x}<br>CV=%{y}<extra></extra>",
         "legendgroup": "syncduet",
         "marker": {
          "color": "#00cc96",
          "pattern": {
           "shape": ""
          }
         },
         "name": "syncduet",
         "offsetgroup": "syncduet",
         "orientation": "v",
         "showlegend": false,
         "textposition": "auto",
         "type": "bar",
         "x": [
          "avrora",
          "fop",
          "h2",
          "luindex",
          "lusearch",
          "pmd",
          "sunflow",
          "tradebeans",
          "tradesoap",
          "xalan"
         ],
         "xaxis": "x3",
         "y": [
          0.0876434795948259,
          0.18605132170765085,
          0.0670026974685198,
          0.5556783841170495,
          0.05953681073051808,
          0.07659146662320176,
          0.09444642958941134,
          0.04819018020349987,
          0.05258072107268688,
          0.040830502368498035
         ],
         "yaxis": "y3"
        }
       ],
       "layout": {
        "annotations": [
         {
          "font": {},
          "showarrow": false,
          "text": "environment=AWS t3.medium",
          "x": 0.15999999999999998,
          "xanchor": "center",
          "xref": "paper",
          "y": 1,
          "yanchor": "bottom",
          "yref": "paper"
         },
         {
          "font": {},
          "showarrow": false,
          "text": "environment=bare-metal",
          "x": 0.49999999999999994,
          "xanchor": "center",
          "xref": "paper",
          "y": 1,
          "yanchor": "bottom",
          "yref": "paper"
         },
         {
          "font": {},
          "showarrow": false,
          "text": "environment=shared-vm",
          "x": 0.8399999999999999,
          "xanchor": "center",
          "xref": "paper",
          "y": 1,
          "yanchor": "bottom",
          "yref": "paper"
         }
        ],
        "barmode": "group",
        "legend": {
         "title": {
          "text": "type"
         },
         "tracegroupgap": 0
        },
        "template": {
         "data": {
          "bar": [
           {
            "error_x": {
             "color": "#2a3f5f"
            },
            "error_y": {
             "color": "#2a3f5f"
            },
            "marker": {
             "line": {
              "color": "#E5ECF6",
              "width": 0.5
             },
             "pattern": {
              "fillmode": "overlay",
              "size": 10,
              "solidity": 0.2
             }
            },
            "type": "bar"
           }
          ],
          "barpolar": [
           {
            "marker": {
             "line": {
              "color": "#E5ECF6",
              "width": 0.5
             },
             "pattern": {
              "fillmode": "overlay",
              "size": 10,
              "solidity": 0.2
             }
            },
            "type": "barpolar"
           }
          ],
          "carpet": [
           {
            "aaxis": {
             "endlinecolor": "#2a3f5f",
             "gridcolor": "white",
             "linecolor": "white",
             "minorgridcolor": "white",
             "startlinecolor": "#2a3f5f"
            },
            "baxis": {
             "endlinecolor": "#2a3f5f",
             "gridcolor": "white",
             "linecolor": "white",
             "minorgridcolor": "white",
             "startlinecolor": "#2a3f5f"
            },
            "type": "carpet"
           }
          ],
          "choropleth": [
           {
            "colorbar": {
             "outlinewidth": 0,
             "ticks": ""
            },
            "type": "choropleth"
           }
          ],
          "contour": [
           {
            "colorbar": {
             "outlinewidth": 0,
             "ticks": ""
            },
            "colorscale": [
             [
              0,
              "#0d0887"
             ],
             [
              0.1111111111111111,
              "#46039f"
             ],
             [
              0.2222222222222222,
              "#7201a8"
             ],
             [
              0.3333333333333333,
              "#9c179e"
             ],
             [
              0.4444444444444444,
              "#bd3786"
             ],
             [
              0.5555555555555556,
              "#d8576b"
             ],
             [
              0.6666666666666666,
              "#ed7953"
             ],
             [
              0.7777777777777778,
              "#fb9f3a"
             ],
             [
              0.8888888888888888,
              "#fdca26"
             ],
             [
              1,
              "#f0f921"
             ]
            ],
            "type": "contour"
           }
          ],
          "contourcarpet": [
           {
            "colorbar": {
             "outlinewidth": 0,
             "ticks": ""
            },
            "type": "contourcarpet"
           }
          ],
          "heatmap": [
           {
            "colorbar": {
             "outlinewidth": 0,
             "ticks": ""
            },
            "colorscale": [
             [
              0,
              "#0d0887"
             ],
             [
              0.1111111111111111,
              "#46039f"
             ],
             [
              0.2222222222222222,
              "#7201a8"
             ],
             [
              0.3333333333333333,
              "#9c179e"
             ],
             [
              0.4444444444444444,
              "#bd3786"
             ],
             [
              0.5555555555555556,
              "#d8576b"
             ],
             [
              0.6666666666666666,
              "#ed7953"
             ],
             [
              0.7777777777777778,
              "#fb9f3a"
             ],
             [
              0.8888888888888888,
              "#fdca26"
             ],
             [
              1,
              "#f0f921"
             ]
            ],
            "type": "heatmap"
           }
          ],
          "heatmapgl": [
           {
            "colorbar": {
             "outlinewidth": 0,
             "ticks": ""
            },
            "colorscale": [
             [
              0,
              "#0d0887"
             ],
             [
              0.1111111111111111,
              "#46039f"
             ],
             [
              0.2222222222222222,
              "#7201a8"
             ],
             [
              0.3333333333333333,
              "#9c179e"
             ],
             [
              0.4444444444444444,
              "#bd3786"
             ],
             [
              0.5555555555555556,
              "#d8576b"
             ],
             [
              0.6666666666666666,
              "#ed7953"
             ],
             [
              0.7777777777777778,
              "#fb9f3a"
             ],
             [
              0.8888888888888888,
              "#fdca26"
             ],
             [
              1,
              "#f0f921"
             ]
            ],
            "type": "heatmapgl"
           }
          ],
          "histogram": [
           {
            "marker": {
             "pattern": {
              "fillmode": "overlay",
              "size": 10,
              "solidity": 0.2
             }
            },
            "type": "histogram"
           }
          ],
          "histogram2d": [
           {
            "colorbar": {
             "outlinewidth": 0,
             "ticks": ""
            },
            "colorscale": [
             [
              0,
              "#0d0887"
             ],
             [
              0.1111111111111111,
              "#46039f"
             ],
             [
              0.2222222222222222,
              "#7201a8"
             ],
             [
              0.3333333333333333,
              "#9c179e"
             ],
             [
              0.4444444444444444,
              "#bd3786"
             ],
             [
              0.5555555555555556,
              "#d8576b"
             ],
             [
              0.6666666666666666,
              "#ed7953"
             ],
             [
              0.7777777777777778,
              "#fb9f3a"
             ],
             [
              0.8888888888888888,
              "#fdca26"
             ],
             [
              1,
              "#f0f921"
             ]
            ],
            "type": "histogram2d"
           }
          ],
          "histogram2dcontour": [
           {
            "colorbar": {
             "outlinewidth": 0,
             "ticks": ""
            },
            "colorscale": [
             [
              0,
              "#0d0887"
             ],
             [
              0.1111111111111111,
              "#46039f"
             ],
             [
              0.2222222222222222,
              "#7201a8"
             ],
             [
              0.3333333333333333,
              "#9c179e"
             ],
             [
              0.4444444444444444,
              "#bd3786"
             ],
             [
              0.5555555555555556,
              "#d8576b"
             ],
             [
              0.6666666666666666,
              "#ed7953"
             ],
             [
              0.7777777777777778,
              "#fb9f3a"
             ],
             [
              0.8888888888888888,
              "#fdca26"
             ],
             [
              1,
              "#f0f921"
             ]
            ],
            "type": "histogram2dcontour"
           }
          ],
          "mesh3d": [
           {
            "colorbar": {
             "outlinewidth": 0,
             "ticks": ""
            },
            "type": "mesh3d"
           }
          ],
          "parcoords": [
           {
            "line": {
             "colorbar": {
              "outlinewidth": 0,
              "ticks": ""
             }
            },
            "type": "parcoords"
           }
          ],
          "pie": [
           {
            "automargin": true,
            "type": "pie"
           }
          ],
          "scatter": [
           {
            "fillpattern": {
             "fillmode": "overlay",
             "size": 10,
             "solidity": 0.2
            },
            "type": "scatter"
           }
          ],
          "scatter3d": [
           {
            "line": {
             "colorbar": {
              "outlinewidth": 0,
              "ticks": ""
             }
            },
            "marker": {
             "colorbar": {
              "outlinewidth": 0,
              "ticks": ""
             }
            },
            "type": "scatter3d"
           }
          ],
          "scattercarpet": [
           {
            "marker": {
             "colorbar": {
              "outlinewidth": 0,
              "ticks": ""
             }
            },
            "type": "scattercarpet"
           }
          ],
          "scattergeo": [
           {
            "marker": {
             "colorbar": {
              "outlinewidth": 0,
              "ticks": ""
             }
            },
            "type": "scattergeo"
           }
          ],
          "scattergl": [
           {
            "marker": {
             "colorbar": {
              "outlinewidth": 0,
              "ticks": ""
             }
            },
            "type": "scattergl"
           }
          ],
          "scattermapbox": [
           {
            "marker": {
             "colorbar": {
              "outlinewidth": 0,
              "ticks": ""
             }
            },
            "type": "scattermapbox"
           }
          ],
          "scatterpolar": [
           {
            "marker": {
             "colorbar": {
              "outlinewidth": 0,
              "ticks": ""
             }
            },
            "type": "scatterpolar"
           }
          ],
          "scatterpolargl": [
           {
            "marker": {
             "colorbar": {
              "outlinewidth": 0,
              "ticks": ""
             }
            },
            "type": "scatterpolargl"
           }
          ],
          "scatterternary": [
           {
            "marker": {
             "colorbar": {
              "outlinewidth": 0,
              "ticks": ""
             }
            },
            "type": "scatterternary"
           }
          ],
          "surface": [
           {
            "colorbar": {
             "outlinewidth": 0,
             "ticks": ""
            },
            "colorscale": [
             [
              0,
              "#0d0887"
             ],
             [
              0.1111111111111111,
              "#46039f"
             ],
             [
              0.2222222222222222,
              "#7201a8"
             ],
             [
              0.3333333333333333,
              "#9c179e"
             ],
             [
              0.4444444444444444,
              "#bd3786"
             ],
             [
              0.5555555555555556,
              "#d8576b"
             ],
             [
              0.6666666666666666,
              "#ed7953"
             ],
             [
              0.7777777777777778,
              "#fb9f3a"
             ],
             [
              0.8888888888888888,
              "#fdca26"
             ],
             [
              1,
              "#f0f921"
             ]
            ],
            "type": "surface"
           }
          ],
          "table": [
           {
            "cells": {
             "fill": {
              "color": "#EBF0F8"
             },
             "line": {
              "color": "white"
             }
            },
            "header": {
             "fill": {
              "color": "#C8D4E3"
             },
             "line": {
              "color": "white"
             }
            },
            "type": "table"
           }
          ]
         },
         "layout": {
          "annotationdefaults": {
           "arrowcolor": "#2a3f5f",
           "arrowhead": 0,
           "arrowwidth": 1
          },
          "autotypenumbers": "strict",
          "coloraxis": {
           "colorbar": {
            "outlinewidth": 0,
            "ticks": ""
           }
          },
          "colorscale": {
           "diverging": [
            [
             0,
             "#8e0152"
            ],
            [
             0.1,
             "#c51b7d"
            ],
            [
             0.2,
             "#de77ae"
            ],
            [
             0.3,
             "#f1b6da"
            ],
            [
             0.4,
             "#fde0ef"
            ],
            [
             0.5,
             "#f7f7f7"
            ],
            [
             0.6,
             "#e6f5d0"
            ],
            [
             0.7,
             "#b8e186"
            ],
            [
             0.8,
             "#7fbc41"
            ],
            [
             0.9,
             "#4d9221"
            ],
            [
             1,
             "#276419"
            ]
           ],
           "sequential": [
            [
             0,
             "#0d0887"
            ],
            [
             0.1111111111111111,
             "#46039f"
            ],
            [
             0.2222222222222222,
             "#7201a8"
            ],
            [
             0.3333333333333333,
             "#9c179e"
            ],
            [
             0.4444444444444444,
             "#bd3786"
            ],
            [
             0.5555555555555556,
             "#d8576b"
            ],
            [
             0.6666666666666666,
             "#ed7953"
            ],
            [
             0.7777777777777778,
             "#fb9f3a"
            ],
            [
             0.8888888888888888,
             "#fdca26"
            ],
            [
             1,
             "#f0f921"
            ]
           ],
           "sequentialminus": [
            [
             0,
             "#0d0887"
            ],
            [
             0.1111111111111111,
             "#46039f"
            ],
            [
             0.2222222222222222,
             "#7201a8"
            ],
            [
             0.3333333333333333,
             "#9c179e"
            ],
            [
             0.4444444444444444,
             "#bd3786"
            ],
            [
             0.5555555555555556,
             "#d8576b"
            ],
            [
             0.6666666666666666,
             "#ed7953"
            ],
            [
             0.7777777777777778,
             "#fb9f3a"
            ],
            [
             0.8888888888888888,
             "#fdca26"
            ],
            [
             1,
             "#f0f921"
            ]
           ]
          },
          "colorway": [
           "#636efa",
           "#EF553B",
           "#00cc96",
           "#ab63fa",
           "#FFA15A",
           "#19d3f3",
           "#FF6692",
           "#B6E880",
           "#FF97FF",
           "#FECB52"
          ],
          "font": {
           "color": "#2a3f5f"
          },
          "geo": {
           "bgcolor": "white",
           "lakecolor": "white",
           "landcolor": "#E5ECF6",
           "showlakes": true,
           "showland": true,
           "subunitcolor": "white"
          },
          "hoverlabel": {
           "align": "left"
          },
          "hovermode": "closest",
          "mapbox": {
           "style": "light"
          },
          "paper_bgcolor": "white",
          "plot_bgcolor": "#E5ECF6",
          "polar": {
           "angularaxis": {
            "gridcolor": "white",
            "linecolor": "white",
            "ticks": ""
           },
           "bgcolor": "#E5ECF6",
           "radialaxis": {
            "gridcolor": "white",
            "linecolor": "white",
            "ticks": ""
           }
          },
          "scene": {
           "xaxis": {
            "backgroundcolor": "#E5ECF6",
            "gridcolor": "white",
            "gridwidth": 2,
            "linecolor": "white",
            "showbackground": true,
            "ticks": "",
            "zerolinecolor": "white"
           },
           "yaxis": {
            "backgroundcolor": "#E5ECF6",
            "gridcolor": "white",
            "gridwidth": 2,
            "linecolor": "white",
            "showbackground": true,
            "ticks": "",
            "zerolinecolor": "white"
           },
           "zaxis": {
            "backgroundcolor": "#E5ECF6",
            "gridcolor": "white",
            "gridwidth": 2,
            "linecolor": "white",
            "showbackground": true,
            "ticks": "",
            "zerolinecolor": "white"
           }
          },
          "shapedefaults": {
           "line": {
            "color": "#2a3f5f"
           }
          },
          "ternary": {
           "aaxis": {
            "gridcolor": "white",
            "linecolor": "white",
            "ticks": ""
           },
           "baxis": {
            "gridcolor": "white",
            "linecolor": "white",
            "ticks": ""
           },
           "bgcolor": "#E5ECF6",
           "caxis": {
            "gridcolor": "white",
            "linecolor": "white",
            "ticks": ""
           }
          },
          "title": {
           "x": 0.05
          },
          "xaxis": {
           "automargin": true,
           "gridcolor": "white",
           "linecolor": "white",
           "ticks": "",
           "title": {
            "standoff": 15
           },
           "zerolinecolor": "white",
           "zerolinewidth": 2
          },
          "yaxis": {
           "automargin": true,
           "gridcolor": "white",
           "linecolor": "white",
           "ticks": "",
           "title": {
            "standoff": 15
           },
           "zerolinecolor": "white",
           "zerolinewidth": 2
          }
         }
        },
        "title": {
         "text": "Benchmark Time Relative Deviation - dacapo"
        },
        "xaxis": {
         "anchor": "y",
         "categoryorder": "category ascending",
         "domain": [
          0,
          0.31999999999999995
         ],
         "title": {
          "text": "benchmark"
         }
        },
        "xaxis2": {
         "anchor": "y2",
         "categoryorder": "category ascending",
         "domain": [
          0.33999999999999997,
          0.6599999999999999
         ],
         "matches": "x",
         "title": {
          "text": "benchmark"
         }
        },
        "xaxis3": {
         "anchor": "y3",
         "categoryorder": "category ascending",
         "domain": [
          0.6799999999999999,
          0.9999999999999999
         ],
         "matches": "x",
         "title": {
          "text": "benchmark"
         }
        },
        "yaxis": {
         "anchor": "x",
         "domain": [
          0,
          1
         ],
         "title": {
          "text": "CV"
         }
        },
        "yaxis2": {
         "anchor": "x2",
         "domain": [
          0,
          1
         ],
         "matches": "y",
         "showticklabels": false
        },
        "yaxis3": {
         "anchor": "x3",
         "domain": [
          0,
          1
         ],
         "matches": "y",
         "showticklabels": false
        }
       }
      }
     },
     "metadata": {},
     "output_type": "display_data"
    },
    {
     "data": {
      "application/vnd.plotly.v1+json": {
       "config": {
        "plotlyServerURL": "https://plot.ly"
       },
       "data": [
        {
         "alignmentgroup": "True",
         "hovertemplate": "type=duet<br>environment=AWS t3.medium<br>benchmark=%{x}<br>CV=%{y}<extra></extra>",
         "legendgroup": "duet",
         "marker": {
          "color": "#636efa",
          "pattern": {
           "shape": ""
          }
         },
         "name": "duet",
         "offsetgroup": "duet",
         "orientation": "v",
         "showlegend": true,
         "textposition": "auto",
         "type": "bar",
         "x": [
          "500_perlbench_r",
          "505_mcf_r",
          "507_cactuBSSN_r",
          "508_namd_r",
          "511_povray_r",
          "519_lbm_r",
          "520_omnetpp_r",
          "525_x264_r",
          "531_deepsjeng_r",
          "538_imagick_r",
          "541_leela_r",
          "544_nab_r",
          "548_exchange2_r",
          "549_fotonik3d_r",
          "554_roms_r",
          "557_xz_r"
         ],
         "xaxis": "x",
         "y": [
          0.014319962982026277,
          0.013286212827434444,
          0.022144043423473075,
          0.007656557057485623,
          0.00282457608607376,
          0.01155498549685948,
          0.023373102418159267,
          0.003916326554722256,
          0.01052455328992353,
          0.00473098294598642,
          0.005164633572939526,
          0.00931705258021488,
          0.0036119817510594458,
          0.01041651118123648,
          0.01426231087727501,
          0.013721910128239208
         ],
         "yaxis": "y"
        },
        {
         "alignmentgroup": "True",
         "hovertemplate": "type=duet<br>environment=bare-metal<br>benchmark=%{x}<br>CV=%{y}<extra></extra>",
         "legendgroup": "duet",
         "marker": {
          "color": "#636efa",
          "pattern": {
           "shape": ""
          }
         },
         "name": "duet",
         "offsetgroup": "duet",
         "orientation": "v",
         "showlegend": false,
         "textposition": "auto",
         "type": "bar",
         "x": [
          "500_perlbench_r",
          "505_mcf_r",
          "507_cactuBSSN_r",
          "508_namd_r",
          "511_povray_r",
          "519_lbm_r",
          "520_omnetpp_r",
          "525_x264_r",
          "531_deepsjeng_r",
          "538_imagick_r",
          "541_leela_r",
          "544_nab_r",
          "548_exchange2_r",
          "549_fotonik3d_r",
          "554_roms_r",
          "557_xz_r"
         ],
         "xaxis": "x2",
         "y": [
          0.004041531533004538,
          0.006836848124582901,
          0.028112323856370254,
          0.008062220405306962,
          0.007760040985611583,
          0.009668239433312544,
          0.006535530595402943,
          0.002582202408271566,
          0.0020026816503074295,
          0.014402297281068165,
          0.0008429111666993874,
          0.007880982625339589,
          0.011864293097156644,
          0.008884113005449862,
          0.011043641224530125,
          0.005759258783851052
         ],
         "yaxis": "y2"
        },
        {
         "alignmentgroup": "True",
         "hovertemplate": "type=seqn<br>environment=AWS t3.medium<br>benchmark=%{x}<br>CV=%{y}<extra></extra>",
         "legendgroup": "seqn",
         "marker": {
          "color": "#EF553B",
          "pattern": {
           "shape": ""
          }
         },
         "name": "seqn",
         "offsetgroup": "seqn",
         "orientation": "v",
         "showlegend": true,
         "textposition": "auto",
         "type": "bar",
         "x": [
          "500_perlbench_r",
          "505_mcf_r",
          "507_cactuBSSN_r",
          "508_namd_r",
          "511_povray_r",
          "519_lbm_r",
          "520_omnetpp_r",
          "525_x264_r",
          "531_deepsjeng_r",
          "538_imagick_r",
          "541_leela_r",
          "544_nab_r",
          "548_exchange2_r",
          "549_fotonik3d_r",
          "554_roms_r",
          "557_xz_r"
         ],
         "xaxis": "x",
         "y": [
          0.03678522078366817,
          0.01113195710265044,
          0.014298032888763305,
          0.0018040237458593464,
          0.0038863550079541705,
          0.026567616066093265,
          0.06653195611400714,
          0.004557498857541876,
          0.012823285884033343,
          0.007232409435664778,
          0.0033223960486679846,
          0.003945276699812871,
          0.004100751965514339,
          0.015437036346483284,
          0.017697413721854488,
          0.022005450954559722
         ],
         "yaxis": "y"
        },
        {
         "alignmentgroup": "True",
         "hovertemplate": "type=seqn<br>environment=bare-metal<br>benchmark=%{x}<br>CV=%{y}<extra></extra>",
         "legendgroup": "seqn",
         "marker": {
          "color": "#EF553B",
          "pattern": {
           "shape": ""
          }
         },
         "name": "seqn",
         "offsetgroup": "seqn",
         "orientation": "v",
         "showlegend": false,
         "textposition": "auto",
         "type": "bar",
         "x": [
          "500_perlbench_r",
          "505_mcf_r",
          "507_cactuBSSN_r",
          "508_namd_r",
          "511_povray_r",
          "519_lbm_r",
          "520_omnetpp_r",
          "525_x264_r",
          "531_deepsjeng_r",
          "538_imagick_r",
          "541_leela_r",
          "544_nab_r",
          "548_exchange2_r",
          "549_fotonik3d_r",
          "554_roms_r",
          "557_xz_r"
         ],
         "xaxis": "x2",
         "y": [
          0.004269817996915208,
          0.00675736741117742,
          0.02775460111268659,
          0.008509372416482384,
          0.008263499370634095,
          0.004672930393431115,
          0.005893170777209155,
          0.0024738752167386144,
          0.0022678546184961394,
          0.015304007095577955,
          0.0010445136274920427,
          0.007743492441661489,
          0.012578973913010558,
          0.012293335881798564,
          0.005367913949489758,
          0.005626162671312137
         ],
         "yaxis": "y2"
        }
       ],
       "layout": {
        "annotations": [
         {
          "font": {},
          "showarrow": false,
          "text": "environment=AWS t3.medium",
          "x": 0.245,
          "xanchor": "center",
          "xref": "paper",
          "y": 1,
          "yanchor": "bottom",
          "yref": "paper"
         },
         {
          "font": {},
          "showarrow": false,
          "text": "environment=bare-metal",
          "x": 0.755,
          "xanchor": "center",
          "xref": "paper",
          "y": 1,
          "yanchor": "bottom",
          "yref": "paper"
         }
        ],
        "barmode": "group",
        "legend": {
         "title": {
          "text": "type"
         },
         "tracegroupgap": 0
        },
        "template": {
         "data": {
          "bar": [
           {
            "error_x": {
             "color": "#2a3f5f"
            },
            "error_y": {
             "color": "#2a3f5f"
            },
            "marker": {
             "line": {
              "color": "#E5ECF6",
              "width": 0.5
             },
             "pattern": {
              "fillmode": "overlay",
              "size": 10,
              "solidity": 0.2
             }
            },
            "type": "bar"
           }
          ],
          "barpolar": [
           {
            "marker": {
             "line": {
              "color": "#E5ECF6",
              "width": 0.5
             },
             "pattern": {
              "fillmode": "overlay",
              "size": 10,
              "solidity": 0.2
             }
            },
            "type": "barpolar"
           }
          ],
          "carpet": [
           {
            "aaxis": {
             "endlinecolor": "#2a3f5f",
             "gridcolor": "white",
             "linecolor": "white",
             "minorgridcolor": "white",
             "startlinecolor": "#2a3f5f"
            },
            "baxis": {
             "endlinecolor": "#2a3f5f",
             "gridcolor": "white",
             "linecolor": "white",
             "minorgridcolor": "white",
             "startlinecolor": "#2a3f5f"
            },
            "type": "carpet"
           }
          ],
          "choropleth": [
           {
            "colorbar": {
             "outlinewidth": 0,
             "ticks": ""
            },
            "type": "choropleth"
           }
          ],
          "contour": [
           {
            "colorbar": {
             "outlinewidth": 0,
             "ticks": ""
            },
            "colorscale": [
             [
              0,
              "#0d0887"
             ],
             [
              0.1111111111111111,
              "#46039f"
             ],
             [
              0.2222222222222222,
              "#7201a8"
             ],
             [
              0.3333333333333333,
              "#9c179e"
             ],
             [
              0.4444444444444444,
              "#bd3786"
             ],
             [
              0.5555555555555556,
              "#d8576b"
             ],
             [
              0.6666666666666666,
              "#ed7953"
             ],
             [
              0.7777777777777778,
              "#fb9f3a"
             ],
             [
              0.8888888888888888,
              "#fdca26"
             ],
             [
              1,
              "#f0f921"
             ]
            ],
            "type": "contour"
           }
          ],
          "contourcarpet": [
           {
            "colorbar": {
             "outlinewidth": 0,
             "ticks": ""
            },
            "type": "contourcarpet"
           }
          ],
          "heatmap": [
           {
            "colorbar": {
             "outlinewidth": 0,
             "ticks": ""
            },
            "colorscale": [
             [
              0,
              "#0d0887"
             ],
             [
              0.1111111111111111,
              "#46039f"
             ],
             [
              0.2222222222222222,
              "#7201a8"
             ],
             [
              0.3333333333333333,
              "#9c179e"
             ],
             [
              0.4444444444444444,
              "#bd3786"
             ],
             [
              0.5555555555555556,
              "#d8576b"
             ],
             [
              0.6666666666666666,
              "#ed7953"
             ],
             [
              0.7777777777777778,
              "#fb9f3a"
             ],
             [
              0.8888888888888888,
              "#fdca26"
             ],
             [
              1,
              "#f0f921"
             ]
            ],
            "type": "heatmap"
           }
          ],
          "heatmapgl": [
           {
            "colorbar": {
             "outlinewidth": 0,
             "ticks": ""
            },
            "colorscale": [
             [
              0,
              "#0d0887"
             ],
             [
              0.1111111111111111,
              "#46039f"
             ],
             [
              0.2222222222222222,
              "#7201a8"
             ],
             [
              0.3333333333333333,
              "#9c179e"
             ],
             [
              0.4444444444444444,
              "#bd3786"
             ],
             [
              0.5555555555555556,
              "#d8576b"
             ],
             [
              0.6666666666666666,
              "#ed7953"
             ],
             [
              0.7777777777777778,
              "#fb9f3a"
             ],
             [
              0.8888888888888888,
              "#fdca26"
             ],
             [
              1,
              "#f0f921"
             ]
            ],
            "type": "heatmapgl"
           }
          ],
          "histogram": [
           {
            "marker": {
             "pattern": {
              "fillmode": "overlay",
              "size": 10,
              "solidity": 0.2
             }
            },
            "type": "histogram"
           }
          ],
          "histogram2d": [
           {
            "colorbar": {
             "outlinewidth": 0,
             "ticks": ""
            },
            "colorscale": [
             [
              0,
              "#0d0887"
             ],
             [
              0.1111111111111111,
              "#46039f"
             ],
             [
              0.2222222222222222,
              "#7201a8"
             ],
             [
              0.3333333333333333,
              "#9c179e"
             ],
             [
              0.4444444444444444,
              "#bd3786"
             ],
             [
              0.5555555555555556,
              "#d8576b"
             ],
             [
              0.6666666666666666,
              "#ed7953"
             ],
             [
              0.7777777777777778,
              "#fb9f3a"
             ],
             [
              0.8888888888888888,
              "#fdca26"
             ],
             [
              1,
              "#f0f921"
             ]
            ],
            "type": "histogram2d"
           }
          ],
          "histogram2dcontour": [
           {
            "colorbar": {
             "outlinewidth": 0,
             "ticks": ""
            },
            "colorscale": [
             [
              0,
              "#0d0887"
             ],
             [
              0.1111111111111111,
              "#46039f"
             ],
             [
              0.2222222222222222,
              "#7201a8"
             ],
             [
              0.3333333333333333,
              "#9c179e"
             ],
             [
              0.4444444444444444,
              "#bd3786"
             ],
             [
              0.5555555555555556,
              "#d8576b"
             ],
             [
              0.6666666666666666,
              "#ed7953"
             ],
             [
              0.7777777777777778,
              "#fb9f3a"
             ],
             [
              0.8888888888888888,
              "#fdca26"
             ],
             [
              1,
              "#f0f921"
             ]
            ],
            "type": "histogram2dcontour"
           }
          ],
          "mesh3d": [
           {
            "colorbar": {
             "outlinewidth": 0,
             "ticks": ""
            },
            "type": "mesh3d"
           }
          ],
          "parcoords": [
           {
            "line": {
             "colorbar": {
              "outlinewidth": 0,
              "ticks": ""
             }
            },
            "type": "parcoords"
           }
          ],
          "pie": [
           {
            "automargin": true,
            "type": "pie"
           }
          ],
          "scatter": [
           {
            "fillpattern": {
             "fillmode": "overlay",
             "size": 10,
             "solidity": 0.2
            },
            "type": "scatter"
           }
          ],
          "scatter3d": [
           {
            "line": {
             "colorbar": {
              "outlinewidth": 0,
              "ticks": ""
             }
            },
            "marker": {
             "colorbar": {
              "outlinewidth": 0,
              "ticks": ""
             }
            },
            "type": "scatter3d"
           }
          ],
          "scattercarpet": [
           {
            "marker": {
             "colorbar": {
              "outlinewidth": 0,
              "ticks": ""
             }
            },
            "type": "scattercarpet"
           }
          ],
          "scattergeo": [
           {
            "marker": {
             "colorbar": {
              "outlinewidth": 0,
              "ticks": ""
             }
            },
            "type": "scattergeo"
           }
          ],
          "scattergl": [
           {
            "marker": {
             "colorbar": {
              "outlinewidth": 0,
              "ticks": ""
             }
            },
            "type": "scattergl"
           }
          ],
          "scattermapbox": [
           {
            "marker": {
             "colorbar": {
              "outlinewidth": 0,
              "ticks": ""
             }
            },
            "type": "scattermapbox"
           }
          ],
          "scatterpolar": [
           {
            "marker": {
             "colorbar": {
              "outlinewidth": 0,
              "ticks": ""
             }
            },
            "type": "scatterpolar"
           }
          ],
          "scatterpolargl": [
           {
            "marker": {
             "colorbar": {
              "outlinewidth": 0,
              "ticks": ""
             }
            },
            "type": "scatterpolargl"
           }
          ],
          "scatterternary": [
           {
            "marker": {
             "colorbar": {
              "outlinewidth": 0,
              "ticks": ""
             }
            },
            "type": "scatterternary"
           }
          ],
          "surface": [
           {
            "colorbar": {
             "outlinewidth": 0,
             "ticks": ""
            },
            "colorscale": [
             [
              0,
              "#0d0887"
             ],
             [
              0.1111111111111111,
              "#46039f"
             ],
             [
              0.2222222222222222,
              "#7201a8"
             ],
             [
              0.3333333333333333,
              "#9c179e"
             ],
             [
              0.4444444444444444,
              "#bd3786"
             ],
             [
              0.5555555555555556,
              "#d8576b"
             ],
             [
              0.6666666666666666,
              "#ed7953"
             ],
             [
              0.7777777777777778,
              "#fb9f3a"
             ],
             [
              0.8888888888888888,
              "#fdca26"
             ],
             [
              1,
              "#f0f921"
             ]
            ],
            "type": "surface"
           }
          ],
          "table": [
           {
            "cells": {
             "fill": {
              "color": "#EBF0F8"
             },
             "line": {
              "color": "white"
             }
            },
            "header": {
             "fill": {
              "color": "#C8D4E3"
             },
             "line": {
              "color": "white"
             }
            },
            "type": "table"
           }
          ]
         },
         "layout": {
          "annotationdefaults": {
           "arrowcolor": "#2a3f5f",
           "arrowhead": 0,
           "arrowwidth": 1
          },
          "autotypenumbers": "strict",
          "coloraxis": {
           "colorbar": {
            "outlinewidth": 0,
            "ticks": ""
           }
          },
          "colorscale": {
           "diverging": [
            [
             0,
             "#8e0152"
            ],
            [
             0.1,
             "#c51b7d"
            ],
            [
             0.2,
             "#de77ae"
            ],
            [
             0.3,
             "#f1b6da"
            ],
            [
             0.4,
             "#fde0ef"
            ],
            [
             0.5,
             "#f7f7f7"
            ],
            [
             0.6,
             "#e6f5d0"
            ],
            [
             0.7,
             "#b8e186"
            ],
            [
             0.8,
             "#7fbc41"
            ],
            [
             0.9,
             "#4d9221"
            ],
            [
             1,
             "#276419"
            ]
           ],
           "sequential": [
            [
             0,
             "#0d0887"
            ],
            [
             0.1111111111111111,
             "#46039f"
            ],
            [
             0.2222222222222222,
             "#7201a8"
            ],
            [
             0.3333333333333333,
             "#9c179e"
            ],
            [
             0.4444444444444444,
             "#bd3786"
            ],
            [
             0.5555555555555556,
             "#d8576b"
            ],
            [
             0.6666666666666666,
             "#ed7953"
            ],
            [
             0.7777777777777778,
             "#fb9f3a"
            ],
            [
             0.8888888888888888,
             "#fdca26"
            ],
            [
             1,
             "#f0f921"
            ]
           ],
           "sequentialminus": [
            [
             0,
             "#0d0887"
            ],
            [
             0.1111111111111111,
             "#46039f"
            ],
            [
             0.2222222222222222,
             "#7201a8"
            ],
            [
             0.3333333333333333,
             "#9c179e"
            ],
            [
             0.4444444444444444,
             "#bd3786"
            ],
            [
             0.5555555555555556,
             "#d8576b"
            ],
            [
             0.6666666666666666,
             "#ed7953"
            ],
            [
             0.7777777777777778,
             "#fb9f3a"
            ],
            [
             0.8888888888888888,
             "#fdca26"
            ],
            [
             1,
             "#f0f921"
            ]
           ]
          },
          "colorway": [
           "#636efa",
           "#EF553B",
           "#00cc96",
           "#ab63fa",
           "#FFA15A",
           "#19d3f3",
           "#FF6692",
           "#B6E880",
           "#FF97FF",
           "#FECB52"
          ],
          "font": {
           "color": "#2a3f5f"
          },
          "geo": {
           "bgcolor": "white",
           "lakecolor": "white",
           "landcolor": "#E5ECF6",
           "showlakes": true,
           "showland": true,
           "subunitcolor": "white"
          },
          "hoverlabel": {
           "align": "left"
          },
          "hovermode": "closest",
          "mapbox": {
           "style": "light"
          },
          "paper_bgcolor": "white",
          "plot_bgcolor": "#E5ECF6",
          "polar": {
           "angularaxis": {
            "gridcolor": "white",
            "linecolor": "white",
            "ticks": ""
           },
           "bgcolor": "#E5ECF6",
           "radialaxis": {
            "gridcolor": "white",
            "linecolor": "white",
            "ticks": ""
           }
          },
          "scene": {
           "xaxis": {
            "backgroundcolor": "#E5ECF6",
            "gridcolor": "white",
            "gridwidth": 2,
            "linecolor": "white",
            "showbackground": true,
            "ticks": "",
            "zerolinecolor": "white"
           },
           "yaxis": {
            "backgroundcolor": "#E5ECF6",
            "gridcolor": "white",
            "gridwidth": 2,
            "linecolor": "white",
            "showbackground": true,
            "ticks": "",
            "zerolinecolor": "white"
           },
           "zaxis": {
            "backgroundcolor": "#E5ECF6",
            "gridcolor": "white",
            "gridwidth": 2,
            "linecolor": "white",
            "showbackground": true,
            "ticks": "",
            "zerolinecolor": "white"
           }
          },
          "shapedefaults": {
           "line": {
            "color": "#2a3f5f"
           }
          },
          "ternary": {
           "aaxis": {
            "gridcolor": "white",
            "linecolor": "white",
            "ticks": ""
           },
           "baxis": {
            "gridcolor": "white",
            "linecolor": "white",
            "ticks": ""
           },
           "bgcolor": "#E5ECF6",
           "caxis": {
            "gridcolor": "white",
            "linecolor": "white",
            "ticks": ""
           }
          },
          "title": {
           "x": 0.05
          },
          "xaxis": {
           "automargin": true,
           "gridcolor": "white",
           "linecolor": "white",
           "ticks": "",
           "title": {
            "standoff": 15
           },
           "zerolinecolor": "white",
           "zerolinewidth": 2
          },
          "yaxis": {
           "automargin": true,
           "gridcolor": "white",
           "linecolor": "white",
           "ticks": "",
           "title": {
            "standoff": 15
           },
           "zerolinecolor": "white",
           "zerolinewidth": 2
          }
         }
        },
        "title": {
         "text": "Benchmark Time Relative Deviation - speccpu"
        },
        "xaxis": {
         "anchor": "y",
         "categoryorder": "category ascending",
         "domain": [
          0,
          0.49
         ],
         "title": {
          "text": "benchmark"
         }
        },
        "xaxis2": {
         "anchor": "y2",
         "categoryorder": "category ascending",
         "domain": [
          0.51,
          1
         ],
         "matches": "x",
         "title": {
          "text": "benchmark"
         }
        },
        "yaxis": {
         "anchor": "x",
         "domain": [
          0,
          1
         ],
         "title": {
          "text": "CV"
         }
        },
        "yaxis2": {
         "anchor": "x2",
         "domain": [
          0,
          1
         ],
         "matches": "y",
         "showticklabels": false
        }
       }
      }
     },
     "metadata": {},
     "output_type": "display_data"
    }
   ],
   "source": [
    "df_cv = (\n",
    "    df_prep.groupby(BENCHMARK_ENV_COL)\n",
    "    .agg(\n",
    "        time_count=(RF.time_ns, len),\n",
    "        time_mean=(RF.time_ns, \"mean\"),\n",
    "        time_var=(RF.time_ns, \"var\"),\n",
    "        time_std=(RF.time_ns, \"std\"),\n",
    "    )\n",
    "    .reset_index()\n",
    ")\n",
    "df_cv[\"CV\"] = df_cv[\"time_std\"] / df_cv[\"time_mean\"]\n",
    "\n",
    "for suite in unique_suites:\n",
    "    fig = px.bar(\n",
    "        df_cv[df_cv[RF.suite] == suite],\n",
    "        x=RF.benchmark,\n",
    "        y=\"CV\",\n",
    "        facet_col=DF.env,\n",
    "        color=RF.type,\n",
    "        barmode=\"group\",\n",
    "        title=f\"Benchmark Time Relative Deviation - {suite}\",\n",
    "    )\n",
    "    fig.update_xaxes(categoryorder=\"category ascending\")\n",
    "    fig.show()"
   ]
  },
  {
   "cell_type": "code",
   "execution_count": 22,
   "metadata": {},
   "outputs": [
    {
     "data": {
      "application/vnd.plotly.v1+json": {
       "config": {
        "plotlyServerURL": "https://plot.ly"
       },
       "data": [
        {
         "alignmentgroup": "True",
         "customdata": [
          [
           "avrora"
          ],
          [
           "fop"
          ],
          [
           "h2"
          ],
          [
           "luindex"
          ],
          [
           "lusearch"
          ],
          [
           "pmd"
          ],
          [
           "sunflow"
          ],
          [
           "tradebeans"
          ],
          [
           "tradesoap"
          ],
          [
           "xalan"
          ],
          [
           "akka-uct"
          ],
          [
           "als"
          ],
          [
           "chi-square"
          ],
          [
           "db-shootout"
          ],
          [
           "dec-tree"
          ],
          [
           "dotty"
          ],
          [
           "finagle-chirper"
          ],
          [
           "finagle-http"
          ],
          [
           "fj-kmeans"
          ],
          [
           "future-genetic"
          ],
          [
           "gauss-mix"
          ],
          [
           "log-regression"
          ],
          [
           "mnemonics"
          ],
          [
           "movie-lens"
          ],
          [
           "naive-bayes"
          ],
          [
           "page-rank"
          ],
          [
           "par-mnemonics"
          ],
          [
           "philosophers"
          ],
          [
           "reactors"
          ],
          [
           "rx-scrabble"
          ],
          [
           "scala-doku"
          ],
          [
           "scala-kmeans"
          ],
          [
           "scala-stm-bench7"
          ],
          [
           "scrabble"
          ],
          [
           "apparat"
          ],
          [
           "avrora"
          ],
          [
           "factorie"
          ],
          [
           "fop"
          ],
          [
           "h2"
          ],
          [
           "kiama"
          ],
          [
           "luindex"
          ],
          [
           "lusearch"
          ],
          [
           "pmd"
          ],
          [
           "scalac"
          ],
          [
           "scaladoc"
          ],
          [
           "scalap"
          ],
          [
           "scalariform"
          ],
          [
           "scalatest"
          ],
          [
           "scalaxb"
          ],
          [
           "specs"
          ],
          [
           "sunflow"
          ],
          [
           "tmt"
          ],
          [
           "tradebeans"
          ],
          [
           "tradesoap"
          ],
          [
           "xalan"
          ],
          [
           "500_perlbench_r"
          ],
          [
           "505_mcf_r"
          ],
          [
           "507_cactuBSSN_r"
          ],
          [
           "508_namd_r"
          ],
          [
           "511_povray_r"
          ],
          [
           "519_lbm_r"
          ],
          [
           "520_omnetpp_r"
          ],
          [
           "525_x264_r"
          ],
          [
           "531_deepsjeng_r"
          ],
          [
           "538_imagick_r"
          ],
          [
           "541_leela_r"
          ],
          [
           "544_nab_r"
          ],
          [
           "548_exchange2_r"
          ],
          [
           "549_fotonik3d_r"
          ],
          [
           "554_roms_r"
          ],
          [
           "557_xz_r"
          ]
         ],
         "hovertemplate": "type=duet<br>environment=AWS t3.medium<br>suite=%{x}<br>CV=%{y}<br>benchmark=%{customdata[0]}<extra></extra>",
         "legendgroup": "duet",
         "marker": {
          "color": "#636efa"
         },
         "name": "duet",
         "notched": false,
         "offsetgroup": "duet",
         "orientation": "v",
         "showlegend": true,
         "type": "box",
         "x": [
          "dacapo",
          "dacapo",
          "dacapo",
          "dacapo",
          "dacapo",
          "dacapo",
          "dacapo",
          "dacapo",
          "dacapo",
          "dacapo",
          "renaissance",
          "renaissance",
          "renaissance",
          "renaissance",
          "renaissance",
          "renaissance",
          "renaissance",
          "renaissance",
          "renaissance",
          "renaissance",
          "renaissance",
          "renaissance",
          "renaissance",
          "renaissance",
          "renaissance",
          "renaissance",
          "renaissance",
          "renaissance",
          "renaissance",
          "renaissance",
          "renaissance",
          "renaissance",
          "renaissance",
          "renaissance",
          "scalabench",
          "scalabench",
          "scalabench",
          "scalabench",
          "scalabench",
          "scalabench",
          "scalabench",
          "scalabench",
          "scalabench",
          "scalabench",
          "scalabench",
          "scalabench",
          "scalabench",
          "scalabench",
          "scalabench",
          "scalabench",
          "scalabench",
          "scalabench",
          "scalabench",
          "scalabench",
          "scalabench",
          "speccpu",
          "speccpu",
          "speccpu",
          "speccpu",
          "speccpu",
          "speccpu",
          "speccpu",
          "speccpu",
          "speccpu",
          "speccpu",
          "speccpu",
          "speccpu",
          "speccpu",
          "speccpu",
          "speccpu",
          "speccpu"
         ],
         "x0": " ",
         "xaxis": "x",
         "y": [
          0.04157650341445547,
          0.19264618360994906,
          0.057659345644494146,
          0.08965279655569748,
          0.21662707564201772,
          0.0950000392407744,
          0.052430767741806425,
          0.0823369736547161,
          0.07807110203058547,
          0.08239219822146149,
          0.05230146772200863,
          0.04587281668050693,
          0.11884306883613548,
          0.056160501083583836,
          0.10882841146756465,
          0.7958094157512668,
          0.12098596318056312,
          0.06419392056072473,
          0.028010972264202346,
          0.05526725061928656,
          0.03383753011136512,
          0.11513592811044975,
          0.04594131934216653,
          0.034521139627844304,
          0.12275833262805788,
          0.030100034437859302,
          0.0506234079133649,
          0.1317887208304305,
          0.1473563431763482,
          0.11975421492856901,
          0.04851617008890531,
          0.08055557297168976,
          0.08777109020434415,
          0.07091633810936701,
          0.06676190581834288,
          0.07742381565920795,
          0.1022101957707096,
          0.2049396584500225,
          0.062495235323610274,
          0.1420801415892686,
          0.04460607533852282,
          0.18775691455236873,
          0.09443375170197914,
          0.15314171149058445,
          0.11607694593365232,
          0.15315694830399476,
          0.1288037133396415,
          0.06270524617766948,
          0.20351272256164182,
          0.060521646851518514,
          0.05820053505021435,
          0.32412238411097466,
          0.07391331992523453,
          0.07050454351377151,
          0.07622876736263909,
          0.014319962982026277,
          0.013286212827434444,
          0.022144043423473075,
          0.007656557057485623,
          0.00282457608607376,
          0.01155498549685948,
          0.023373102418159267,
          0.003916326554722256,
          0.01052455328992353,
          0.00473098294598642,
          0.005164633572939526,
          0.00931705258021488,
          0.0036119817510594458,
          0.01041651118123648,
          0.01426231087727501,
          0.013721910128239208
         ],
         "y0": " ",
         "yaxis": "y"
        },
        {
         "alignmentgroup": "True",
         "customdata": [
          [
           "avrora"
          ],
          [
           "fop"
          ],
          [
           "h2"
          ],
          [
           "luindex"
          ],
          [
           "lusearch"
          ],
          [
           "pmd"
          ],
          [
           "sunflow"
          ],
          [
           "tradebeans"
          ],
          [
           "tradesoap"
          ],
          [
           "xalan"
          ],
          [
           "akka-uct"
          ],
          [
           "als"
          ],
          [
           "chi-square"
          ],
          [
           "db-shootout"
          ],
          [
           "dec-tree"
          ],
          [
           "dotty"
          ],
          [
           "finagle-chirper"
          ],
          [
           "finagle-http"
          ],
          [
           "fj-kmeans"
          ],
          [
           "future-genetic"
          ],
          [
           "gauss-mix"
          ],
          [
           "log-regression"
          ],
          [
           "mnemonics"
          ],
          [
           "movie-lens"
          ],
          [
           "naive-bayes"
          ],
          [
           "page-rank"
          ],
          [
           "par-mnemonics"
          ],
          [
           "philosophers"
          ],
          [
           "reactors"
          ],
          [
           "rx-scrabble"
          ],
          [
           "scala-doku"
          ],
          [
           "scala-kmeans"
          ],
          [
           "scala-stm-bench7"
          ],
          [
           "scrabble"
          ],
          [
           "apparat"
          ],
          [
           "avrora"
          ],
          [
           "factorie"
          ],
          [
           "fop"
          ],
          [
           "h2"
          ],
          [
           "kiama"
          ],
          [
           "luindex"
          ],
          [
           "lusearch"
          ],
          [
           "pmd"
          ],
          [
           "scalac"
          ],
          [
           "scaladoc"
          ],
          [
           "scalap"
          ],
          [
           "scalariform"
          ],
          [
           "scalatest"
          ],
          [
           "scalaxb"
          ],
          [
           "specs"
          ],
          [
           "sunflow"
          ],
          [
           "tmt"
          ],
          [
           "tradebeans"
          ],
          [
           "tradesoap"
          ],
          [
           "xalan"
          ],
          [
           "500_perlbench_r"
          ],
          [
           "505_mcf_r"
          ],
          [
           "507_cactuBSSN_r"
          ],
          [
           "508_namd_r"
          ],
          [
           "511_povray_r"
          ],
          [
           "519_lbm_r"
          ],
          [
           "520_omnetpp_r"
          ],
          [
           "525_x264_r"
          ],
          [
           "531_deepsjeng_r"
          ],
          [
           "538_imagick_r"
          ],
          [
           "541_leela_r"
          ],
          [
           "544_nab_r"
          ],
          [
           "548_exchange2_r"
          ],
          [
           "549_fotonik3d_r"
          ],
          [
           "554_roms_r"
          ],
          [
           "557_xz_r"
          ]
         ],
         "hovertemplate": "type=duet<br>environment=bare-metal<br>suite=%{x}<br>CV=%{y}<br>benchmark=%{customdata[0]}<extra></extra>",
         "legendgroup": "duet",
         "marker": {
          "color": "#636efa"
         },
         "name": "duet",
         "notched": false,
         "offsetgroup": "duet",
         "orientation": "v",
         "showlegend": false,
         "type": "box",
         "x": [
          "dacapo",
          "dacapo",
          "dacapo",
          "dacapo",
          "dacapo",
          "dacapo",
          "dacapo",
          "dacapo",
          "dacapo",
          "dacapo",
          "renaissance",
          "renaissance",
          "renaissance",
          "renaissance",
          "renaissance",
          "renaissance",
          "renaissance",
          "renaissance",
          "renaissance",
          "renaissance",
          "renaissance",
          "renaissance",
          "renaissance",
          "renaissance",
          "renaissance",
          "renaissance",
          "renaissance",
          "renaissance",
          "renaissance",
          "renaissance",
          "renaissance",
          "renaissance",
          "renaissance",
          "renaissance",
          "scalabench",
          "scalabench",
          "scalabench",
          "scalabench",
          "scalabench",
          "scalabench",
          "scalabench",
          "scalabench",
          "scalabench",
          "scalabench",
          "scalabench",
          "scalabench",
          "scalabench",
          "scalabench",
          "scalabench",
          "scalabench",
          "scalabench",
          "scalabench",
          "scalabench",
          "scalabench",
          "scalabench",
          "speccpu",
          "speccpu",
          "speccpu",
          "speccpu",
          "speccpu",
          "speccpu",
          "speccpu",
          "speccpu",
          "speccpu",
          "speccpu",
          "speccpu",
          "speccpu",
          "speccpu",
          "speccpu",
          "speccpu",
          "speccpu"
         ],
         "x0": " ",
         "xaxis": "x2",
         "y": [
          0.029307583792586078,
          0.030745694946629997,
          0.06813909064151354,
          0.10436524916748466,
          0.07686242212948033,
          0.019948681721994155,
          0.06669875193353872,
          0.019104181647391194,
          0.022777823074410692,
          0.07921139347502547,
          0.09847478065644255,
          0.045260177557101516,
          0.0642104872443846,
          0.08143090540115998,
          0.08143834725674942,
          0.026759208546323205,
          0.05645748385818803,
          0.07953523941968876,
          0.07096237420955641,
          0.02835534746170975,
          0.045056665066922186,
          0.09391270114369683,
          0.02192571035960903,
          0.025053186289686877,
          0.02977377553887796,
          0.046476082987025234,
          0.017592473996092144,
          0.03927444942322452,
          0.06301826774741356,
          0.03261826327162417,
          0.08515998579430233,
          0.013240186197037887,
          0.02115411394860163,
          0.08472863706339535,
          0.037901129074921346,
          0.02997290018355885,
          0.06362727185974378,
          0.023753479235194507,
          0.06942544033854685,
          0.04495397598835446,
          0.13600627672040552,
          0.09249769508391208,
          0.025228203115948433,
          0.034655944154356855,
          0.021637188572082817,
          0.04139590267884171,
          0.031108229706543727,
          0.04415415343801869,
          0.03000867879952459,
          0.007261115710059739,
          0.051233594603134494,
          0.14242421940235647,
          0.01948138914019931,
          0.02951353601976156,
          0.06707912750862276,
          0.004041531533004538,
          0.006836848124582901,
          0.028112323856370254,
          0.008062220405306962,
          0.007760040985611583,
          0.009668239433312544,
          0.006535530595402943,
          0.002582202408271566,
          0.0020026816503074295,
          0.014402297281068165,
          0.0008429111666993874,
          0.007880982625339589,
          0.011864293097156644,
          0.008884113005449862,
          0.011043641224530125,
          0.005759258783851052
         ],
         "y0": " ",
         "yaxis": "y2"
        },
        {
         "alignmentgroup": "True",
         "customdata": [
          [
           "avrora"
          ],
          [
           "fop"
          ],
          [
           "h2"
          ],
          [
           "luindex"
          ],
          [
           "lusearch"
          ],
          [
           "pmd"
          ],
          [
           "sunflow"
          ],
          [
           "tradebeans"
          ],
          [
           "tradesoap"
          ],
          [
           "xalan"
          ],
          [
           "akka-uct"
          ],
          [
           "als"
          ],
          [
           "chi-square"
          ],
          [
           "db-shootout"
          ],
          [
           "dec-tree"
          ],
          [
           "dotty"
          ],
          [
           "finagle-chirper"
          ],
          [
           "finagle-http"
          ],
          [
           "fj-kmeans"
          ],
          [
           "future-genetic"
          ],
          [
           "gauss-mix"
          ],
          [
           "log-regression"
          ],
          [
           "mnemonics"
          ],
          [
           "movie-lens"
          ],
          [
           "naive-bayes"
          ],
          [
           "page-rank"
          ],
          [
           "par-mnemonics"
          ],
          [
           "philosophers"
          ],
          [
           "reactors"
          ],
          [
           "rx-scrabble"
          ],
          [
           "scala-doku"
          ],
          [
           "scala-kmeans"
          ],
          [
           "scala-stm-bench7"
          ],
          [
           "scrabble"
          ],
          [
           "apparat"
          ],
          [
           "avrora"
          ],
          [
           "factorie"
          ],
          [
           "fop"
          ],
          [
           "h2"
          ],
          [
           "kiama"
          ],
          [
           "luindex"
          ],
          [
           "lusearch"
          ],
          [
           "pmd"
          ],
          [
           "scalac"
          ],
          [
           "scaladoc"
          ],
          [
           "scalap"
          ],
          [
           "scalariform"
          ],
          [
           "scalatest"
          ],
          [
           "scalaxb"
          ],
          [
           "specs"
          ],
          [
           "sunflow"
          ],
          [
           "tmt"
          ],
          [
           "tradebeans"
          ],
          [
           "tradesoap"
          ],
          [
           "xalan"
          ]
         ],
         "hovertemplate": "type=duet<br>environment=shared-vm<br>suite=%{x}<br>CV=%{y}<br>benchmark=%{customdata[0]}<extra></extra>",
         "legendgroup": "duet",
         "marker": {
          "color": "#636efa"
         },
         "name": "duet",
         "notched": false,
         "offsetgroup": "duet",
         "orientation": "v",
         "showlegend": false,
         "type": "box",
         "x": [
          "dacapo",
          "dacapo",
          "dacapo",
          "dacapo",
          "dacapo",
          "dacapo",
          "dacapo",
          "dacapo",
          "dacapo",
          "dacapo",
          "renaissance",
          "renaissance",
          "renaissance",
          "renaissance",
          "renaissance",
          "renaissance",
          "renaissance",
          "renaissance",
          "renaissance",
          "renaissance",
          "renaissance",
          "renaissance",
          "renaissance",
          "renaissance",
          "renaissance",
          "renaissance",
          "renaissance",
          "renaissance",
          "renaissance",
          "renaissance",
          "renaissance",
          "renaissance",
          "renaissance",
          "renaissance",
          "scalabench",
          "scalabench",
          "scalabench",
          "scalabench",
          "scalabench",
          "scalabench",
          "scalabench",
          "scalabench",
          "scalabench",
          "scalabench",
          "scalabench",
          "scalabench",
          "scalabench",
          "scalabench",
          "scalabench",
          "scalabench",
          "scalabench",
          "scalabench",
          "scalabench",
          "scalabench",
          "scalabench"
         ],
         "x0": " ",
         "xaxis": "x3",
         "y": [
          0.08762231931204162,
          0.19917390606151955,
          0.0842385078047291,
          0.5650560574399162,
          0.06262811728403532,
          0.11789102584797477,
          0.10459211661388497,
          0.0741959871719539,
          0.10606977524125599,
          0.0977889254665278,
          0.09957674813266607,
          0.09824634737988831,
          0.11840153547346524,
          0.11617351354106255,
          0.15016641476166906,
          0.13123851807649212,
          0.05935612045405656,
          0.11408473366661336,
          0.05190371694492053,
          0.13125058662143319,
          0.09262238823328553,
          0.20724764076093638,
          0.07164444780037975,
          0.10599076548675437,
          0.062246689681588974,
          0.08808462308299135,
          0.08853575061705717,
          0.1395526709960663,
          0.16831366543703521,
          0.14453746754988042,
          0.10593211205725826,
          0.13511658519247519,
          0.08436016809984878,
          0.06591661030020189,
          0.08873514562501926,
          0.09411154807007696,
          0.08518429079747578,
          0.19551933127393428,
          0.0813028712561906,
          0.13571828082866202,
          0.5740650670674058,
          0.13199512244092695,
          0.09392665684704694,
          0.16375076906336983,
          0.16407087456189545,
          0.19175179630439,
          0.1687934611930921,
          0.06646085492506178,
          0.17757723540834325,
          0.07014208818263377,
          0.06652287052069993,
          0.18094271455616726,
          0.08427938349114455,
          0.07530522838377213,
          0.06336299033197842
         ],
         "y0": " ",
         "yaxis": "y3"
        },
        {
         "alignmentgroup": "True",
         "customdata": [
          [
           "avrora"
          ],
          [
           "fop"
          ],
          [
           "h2"
          ],
          [
           "luindex"
          ],
          [
           "lusearch"
          ],
          [
           "pmd"
          ],
          [
           "sunflow"
          ],
          [
           "tradebeans"
          ],
          [
           "tradesoap"
          ],
          [
           "xalan"
          ],
          [
           "akka-uct"
          ],
          [
           "als"
          ],
          [
           "chi-square"
          ],
          [
           "db-shootout"
          ],
          [
           "dec-tree"
          ],
          [
           "dotty"
          ],
          [
           "finagle-chirper"
          ],
          [
           "finagle-http"
          ],
          [
           "fj-kmeans"
          ],
          [
           "future-genetic"
          ],
          [
           "gauss-mix"
          ],
          [
           "log-regression"
          ],
          [
           "mnemonics"
          ],
          [
           "movie-lens"
          ],
          [
           "naive-bayes"
          ],
          [
           "page-rank"
          ],
          [
           "par-mnemonics"
          ],
          [
           "philosophers"
          ],
          [
           "reactors"
          ],
          [
           "rx-scrabble"
          ],
          [
           "scala-doku"
          ],
          [
           "scala-kmeans"
          ],
          [
           "scala-stm-bench7"
          ],
          [
           "scrabble"
          ],
          [
           "apparat"
          ],
          [
           "avrora"
          ],
          [
           "factorie"
          ],
          [
           "fop"
          ],
          [
           "h2"
          ],
          [
           "kiama"
          ],
          [
           "luindex"
          ],
          [
           "lusearch"
          ],
          [
           "pmd"
          ],
          [
           "scalac"
          ],
          [
           "scaladoc"
          ],
          [
           "scalap"
          ],
          [
           "scalariform"
          ],
          [
           "scalatest"
          ],
          [
           "scalaxb"
          ],
          [
           "specs"
          ],
          [
           "sunflow"
          ],
          [
           "tmt"
          ],
          [
           "tradebeans"
          ],
          [
           "tradesoap"
          ],
          [
           "xalan"
          ],
          [
           "500_perlbench_r"
          ],
          [
           "505_mcf_r"
          ],
          [
           "507_cactuBSSN_r"
          ],
          [
           "508_namd_r"
          ],
          [
           "511_povray_r"
          ],
          [
           "519_lbm_r"
          ],
          [
           "520_omnetpp_r"
          ],
          [
           "525_x264_r"
          ],
          [
           "531_deepsjeng_r"
          ],
          [
           "538_imagick_r"
          ],
          [
           "541_leela_r"
          ],
          [
           "544_nab_r"
          ],
          [
           "548_exchange2_r"
          ],
          [
           "549_fotonik3d_r"
          ],
          [
           "554_roms_r"
          ],
          [
           "557_xz_r"
          ]
         ],
         "hovertemplate": "type=seqn<br>environment=AWS t3.medium<br>suite=%{x}<br>CV=%{y}<br>benchmark=%{customdata[0]}<extra></extra>",
         "legendgroup": "seqn",
         "marker": {
          "color": "#EF553B"
         },
         "name": "seqn",
         "notched": false,
         "offsetgroup": "seqn",
         "orientation": "v",
         "showlegend": true,
         "type": "box",
         "x": [
          "dacapo",
          "dacapo",
          "dacapo",
          "dacapo",
          "dacapo",
          "dacapo",
          "dacapo",
          "dacapo",
          "dacapo",
          "dacapo",
          "renaissance",
          "renaissance",
          "renaissance",
          "renaissance",
          "renaissance",
          "renaissance",
          "renaissance",
          "renaissance",
          "renaissance",
          "renaissance",
          "renaissance",
          "renaissance",
          "renaissance",
          "renaissance",
          "renaissance",
          "renaissance",
          "renaissance",
          "renaissance",
          "renaissance",
          "renaissance",
          "renaissance",
          "renaissance",
          "renaissance",
          "renaissance",
          "scalabench",
          "scalabench",
          "scalabench",
          "scalabench",
          "scalabench",
          "scalabench",
          "scalabench",
          "scalabench",
          "scalabench",
          "scalabench",
          "scalabench",
          "scalabench",
          "scalabench",
          "scalabench",
          "scalabench",
          "scalabench",
          "scalabench",
          "scalabench",
          "scalabench",
          "scalabench",
          "scalabench",
          "speccpu",
          "speccpu",
          "speccpu",
          "speccpu",
          "speccpu",
          "speccpu",
          "speccpu",
          "speccpu",
          "speccpu",
          "speccpu",
          "speccpu",
          "speccpu",
          "speccpu",
          "speccpu",
          "speccpu",
          "speccpu"
         ],
         "x0": " ",
         "xaxis": "x",
         "y": [
          0.018196727690360015,
          0.12461987912586063,
          0.062398593881028086,
          0.02717187526475197,
          0.04340861393172511,
          0.07009203036479718,
          0.02352004196979177,
          0.041262758958679195,
          0.03424919152941563,
          0.05113438877796223,
          0.04416577324925956,
          0.02136283143897858,
          0.09267584864353655,
          0.026536009846648025,
          0.10234675277782104,
          0.0964871818082334,
          0.039659987198148616,
          0.06624411276384193,
          0.014807533519908411,
          0.019397361888373012,
          0.03460170701770292,
          0.10552255799872498,
          0.013906220192541143,
          0.013944878605311115,
          0.03478659500533397,
          0.038772533126364486,
          0.03231357998191622,
          0.033464099825474485,
          0.023793843115475246,
          0.09853518027930427,
          0.021020192916347807,
          0.07858746405819655,
          0.03251459168965001,
          0.023426462747496032,
          0.06690815285017915,
          0.01751358375661844,
          0.11761388549690485,
          0.12463661964117033,
          0.06461028460534232,
          0.10687128220881376,
          0.037006702481254476,
          0.04065741804079418,
          0.06688550525617087,
          0.08736680541380361,
          0.07413381894774984,
          0.09719715285904855,
          0.09083486159588694,
          0.049223741588937,
          0.1454217109802354,
          0.03872480802703394,
          0.022804321420533912,
          0.2302524641110054,
          0.043972879240322,
          0.034530369429569906,
          0.0525942004746813,
          0.03678522078366817,
          0.01113195710265044,
          0.014298032888763305,
          0.0018040237458593464,
          0.0038863550079541705,
          0.026567616066093265,
          0.06653195611400714,
          0.004557498857541876,
          0.012823285884033343,
          0.007232409435664778,
          0.0033223960486679846,
          0.003945276699812871,
          0.004100751965514339,
          0.015437036346483284,
          0.017697413721854488,
          0.022005450954559722
         ],
         "y0": " ",
         "yaxis": "y"
        },
        {
         "alignmentgroup": "True",
         "customdata": [
          [
           "avrora"
          ],
          [
           "fop"
          ],
          [
           "h2"
          ],
          [
           "luindex"
          ],
          [
           "lusearch"
          ],
          [
           "pmd"
          ],
          [
           "sunflow"
          ],
          [
           "tradebeans"
          ],
          [
           "tradesoap"
          ],
          [
           "xalan"
          ],
          [
           "akka-uct"
          ],
          [
           "als"
          ],
          [
           "chi-square"
          ],
          [
           "db-shootout"
          ],
          [
           "dec-tree"
          ],
          [
           "dotty"
          ],
          [
           "finagle-chirper"
          ],
          [
           "finagle-http"
          ],
          [
           "fj-kmeans"
          ],
          [
           "future-genetic"
          ],
          [
           "gauss-mix"
          ],
          [
           "log-regression"
          ],
          [
           "mnemonics"
          ],
          [
           "movie-lens"
          ],
          [
           "naive-bayes"
          ],
          [
           "page-rank"
          ],
          [
           "par-mnemonics"
          ],
          [
           "philosophers"
          ],
          [
           "reactors"
          ],
          [
           "rx-scrabble"
          ],
          [
           "scala-doku"
          ],
          [
           "scala-kmeans"
          ],
          [
           "scala-stm-bench7"
          ],
          [
           "scrabble"
          ],
          [
           "apparat"
          ],
          [
           "avrora"
          ],
          [
           "factorie"
          ],
          [
           "fop"
          ],
          [
           "h2"
          ],
          [
           "kiama"
          ],
          [
           "luindex"
          ],
          [
           "lusearch"
          ],
          [
           "pmd"
          ],
          [
           "scalac"
          ],
          [
           "scaladoc"
          ],
          [
           "scalap"
          ],
          [
           "scalariform"
          ],
          [
           "scalatest"
          ],
          [
           "scalaxb"
          ],
          [
           "specs"
          ],
          [
           "sunflow"
          ],
          [
           "tmt"
          ],
          [
           "tradebeans"
          ],
          [
           "tradesoap"
          ],
          [
           "xalan"
          ],
          [
           "500_perlbench_r"
          ],
          [
           "505_mcf_r"
          ],
          [
           "507_cactuBSSN_r"
          ],
          [
           "508_namd_r"
          ],
          [
           "511_povray_r"
          ],
          [
           "519_lbm_r"
          ],
          [
           "520_omnetpp_r"
          ],
          [
           "525_x264_r"
          ],
          [
           "531_deepsjeng_r"
          ],
          [
           "538_imagick_r"
          ],
          [
           "541_leela_r"
          ],
          [
           "544_nab_r"
          ],
          [
           "548_exchange2_r"
          ],
          [
           "549_fotonik3d_r"
          ],
          [
           "554_roms_r"
          ],
          [
           "557_xz_r"
          ]
         ],
         "hovertemplate": "type=seqn<br>environment=bare-metal<br>suite=%{x}<br>CV=%{y}<br>benchmark=%{customdata[0]}<extra></extra>",
         "legendgroup": "seqn",
         "marker": {
          "color": "#EF553B"
         },
         "name": "seqn",
         "notched": false,
         "offsetgroup": "seqn",
         "orientation": "v",
         "showlegend": false,
         "type": "box",
         "x": [
          "dacapo",
          "dacapo",
          "dacapo",
          "dacapo",
          "dacapo",
          "dacapo",
          "dacapo",
          "dacapo",
          "dacapo",
          "dacapo",
          "renaissance",
          "renaissance",
          "renaissance",
          "renaissance",
          "renaissance",
          "renaissance",
          "renaissance",
          "renaissance",
          "renaissance",
          "renaissance",
          "renaissance",
          "renaissance",
          "renaissance",
          "renaissance",
          "renaissance",
          "renaissance",
          "renaissance",
          "renaissance",
          "renaissance",
          "renaissance",
          "renaissance",
          "renaissance",
          "renaissance",
          "renaissance",
          "scalabench",
          "scalabench",
          "scalabench",
          "scalabench",
          "scalabench",
          "scalabench",
          "scalabench",
          "scalabench",
          "scalabench",
          "scalabench",
          "scalabench",
          "scalabench",
          "scalabench",
          "scalabench",
          "scalabench",
          "scalabench",
          "scalabench",
          "scalabench",
          "scalabench",
          "scalabench",
          "scalabench",
          "speccpu",
          "speccpu",
          "speccpu",
          "speccpu",
          "speccpu",
          "speccpu",
          "speccpu",
          "speccpu",
          "speccpu",
          "speccpu",
          "speccpu",
          "speccpu",
          "speccpu",
          "speccpu",
          "speccpu",
          "speccpu"
         ],
         "x0": " ",
         "xaxis": "x2",
         "y": [
          0.04133462163004214,
          0.032812516553258037,
          0.0690169374195255,
          0.0930986499170301,
          0.04639630200276096,
          0.014628617577049348,
          0.035890682024113794,
          0.01856937755621912,
          0.009984485343023635,
          0.03281128010395819,
          0.06949583931271214,
          0.011663954375930319,
          0.040299086408753244,
          0.05859043777120959,
          0.034110998605927104,
          0.013925789846760548,
          0.027630728161599297,
          0.013410119859643143,
          0.0419225026244677,
          0.013904442365392546,
          0.03689741929187316,
          0.0728556543692025,
          0.028241228211835303,
          0.010181319602557366,
          0.03963423123729529,
          0.027844820446279485,
          0.02485481229980654,
          0.07041045613346611,
          0.07137783616664162,
          0.025506410341029538,
          0.10381695642531329,
          0.012769533755316701,
          0.019428089811635244,
          0.10834005483722124,
          0.023213406285234155,
          0.04289645204211698,
          0.05864780208556005,
          0.017003158574125047,
          0.06862143890203029,
          0.02458361858876304,
          0.10486313174546595,
          0.043670622907736184,
          0.014621613134916459,
          0.02024081728343756,
          0.015187448040441011,
          0.03409353560399354,
          0.03258949048732529,
          0.03527752758579645,
          0.011962669940340547,
          0.005839761314348614,
          0.036773411880700956,
          0.09090684050741576,
          0.01761174706657671,
          0.009565292834627068,
          0.02824983007960825,
          0.004269817996915208,
          0.00675736741117742,
          0.02775460111268659,
          0.008509372416482384,
          0.008263499370634095,
          0.004672930393431115,
          0.005893170777209155,
          0.0024738752167386144,
          0.0022678546184961394,
          0.015304007095577955,
          0.0010445136274920427,
          0.007743492441661489,
          0.012578973913010558,
          0.012293335881798564,
          0.005367913949489758,
          0.005626162671312137
         ],
         "y0": " ",
         "yaxis": "y2"
        },
        {
         "alignmentgroup": "True",
         "customdata": [
          [
           "avrora"
          ],
          [
           "fop"
          ],
          [
           "h2"
          ],
          [
           "luindex"
          ],
          [
           "lusearch"
          ],
          [
           "pmd"
          ],
          [
           "sunflow"
          ],
          [
           "tradebeans"
          ],
          [
           "tradesoap"
          ],
          [
           "xalan"
          ],
          [
           "akka-uct"
          ],
          [
           "als"
          ],
          [
           "chi-square"
          ],
          [
           "db-shootout"
          ],
          [
           "dec-tree"
          ],
          [
           "dotty"
          ],
          [
           "finagle-chirper"
          ],
          [
           "finagle-http"
          ],
          [
           "fj-kmeans"
          ],
          [
           "future-genetic"
          ],
          [
           "gauss-mix"
          ],
          [
           "log-regression"
          ],
          [
           "mnemonics"
          ],
          [
           "movie-lens"
          ],
          [
           "naive-bayes"
          ],
          [
           "page-rank"
          ],
          [
           "par-mnemonics"
          ],
          [
           "philosophers"
          ],
          [
           "reactors"
          ],
          [
           "rx-scrabble"
          ],
          [
           "scala-doku"
          ],
          [
           "scala-kmeans"
          ],
          [
           "scala-stm-bench7"
          ],
          [
           "scrabble"
          ],
          [
           "apparat"
          ],
          [
           "avrora"
          ],
          [
           "factorie"
          ],
          [
           "fop"
          ],
          [
           "h2"
          ],
          [
           "kiama"
          ],
          [
           "luindex"
          ],
          [
           "lusearch"
          ],
          [
           "pmd"
          ],
          [
           "scalac"
          ],
          [
           "scaladoc"
          ],
          [
           "scalap"
          ],
          [
           "scalariform"
          ],
          [
           "scalatest"
          ],
          [
           "scalaxb"
          ],
          [
           "specs"
          ],
          [
           "sunflow"
          ],
          [
           "tmt"
          ],
          [
           "tradebeans"
          ],
          [
           "tradesoap"
          ],
          [
           "xalan"
          ]
         ],
         "hovertemplate": "type=seqn<br>environment=shared-vm<br>suite=%{x}<br>CV=%{y}<br>benchmark=%{customdata[0]}<extra></extra>",
         "legendgroup": "seqn",
         "marker": {
          "color": "#EF553B"
         },
         "name": "seqn",
         "notched": false,
         "offsetgroup": "seqn",
         "orientation": "v",
         "showlegend": false,
         "type": "box",
         "x": [
          "dacapo",
          "dacapo",
          "dacapo",
          "dacapo",
          "dacapo",
          "dacapo",
          "dacapo",
          "dacapo",
          "dacapo",
          "dacapo",
          "renaissance",
          "renaissance",
          "renaissance",
          "renaissance",
          "renaissance",
          "renaissance",
          "renaissance",
          "renaissance",
          "renaissance",
          "renaissance",
          "renaissance",
          "renaissance",
          "renaissance",
          "renaissance",
          "renaissance",
          "renaissance",
          "renaissance",
          "renaissance",
          "renaissance",
          "renaissance",
          "renaissance",
          "renaissance",
          "renaissance",
          "renaissance",
          "scalabench",
          "scalabench",
          "scalabench",
          "scalabench",
          "scalabench",
          "scalabench",
          "scalabench",
          "scalabench",
          "scalabench",
          "scalabench",
          "scalabench",
          "scalabench",
          "scalabench",
          "scalabench",
          "scalabench",
          "scalabench",
          "scalabench",
          "scalabench",
          "scalabench",
          "scalabench",
          "scalabench"
         ],
         "x0": " ",
         "xaxis": "x3",
         "y": [
          0.03796558054786691,
          0.20248691461677215,
          0.06929719369229365,
          0.43116545773642156,
          0.11900653439631198,
          0.06830532313490831,
          0.09383852705805823,
          0.06718079249417823,
          0.04828709457064528,
          0.13097310964264403,
          0.09705317769173283,
          0.05871925654357707,
          0.09805349484300548,
          0.08466602037536314,
          0.10382151443848459,
          0.10484690918519773,
          0.06635673105530432,
          0.22371975982991293,
          0.06040580325423526,
          0.261420683058703,
          0.11579184371748333,
          0.1413777190954794,
          0.07336817478895276,
          0.07275998584280922,
          0.1109420255766653,
          0.10566640013784415,
          0.09976886127035094,
          0.10745908099089381,
          0.07515888934829822,
          0.13125324085422654,
          0.11912795958138121,
          0.1071506023088611,
          0.14005100793820474,
          0.12131595302873102,
          0.06515230211906137,
          0.08400049016215509,
          0.10931916769698376,
          0.18571547464242225,
          0.08468821298319622,
          0.1380632068952237,
          0.43339538027827224,
          0.09469215741755516,
          0.06864806326019202,
          0.1321914912778565,
          0.1103943598324997,
          0.11210896781446511,
          0.09880151369581452,
          0.11870523128297,
          0.14208019585999285,
          0.069700982342512,
          0.09191178587005877,
          0.11230291964362832,
          0.07799833689647485,
          0.11055456430905503,
          0.13520529672209297
         ],
         "y0": " ",
         "yaxis": "y3"
        },
        {
         "alignmentgroup": "True",
         "customdata": [
          [
           "avrora"
          ],
          [
           "fop"
          ],
          [
           "h2"
          ],
          [
           "luindex"
          ],
          [
           "lusearch"
          ],
          [
           "pmd"
          ],
          [
           "sunflow"
          ],
          [
           "tradebeans"
          ],
          [
           "tradesoap"
          ],
          [
           "xalan"
          ],
          [
           "apparat"
          ],
          [
           "avrora"
          ],
          [
           "factorie"
          ],
          [
           "fop"
          ],
          [
           "h2"
          ],
          [
           "kiama"
          ],
          [
           "luindex"
          ],
          [
           "lusearch"
          ],
          [
           "pmd"
          ],
          [
           "scalac"
          ],
          [
           "scaladoc"
          ],
          [
           "scalap"
          ],
          [
           "scalariform"
          ],
          [
           "scalatest"
          ],
          [
           "scalaxb"
          ],
          [
           "specs"
          ],
          [
           "sunflow"
          ],
          [
           "tmt"
          ],
          [
           "tradebeans"
          ],
          [
           "tradesoap"
          ],
          [
           "xalan"
          ]
         ],
         "hovertemplate": "type=syncduet<br>environment=AWS t3.medium<br>suite=%{x}<br>CV=%{y}<br>benchmark=%{customdata[0]}<extra></extra>",
         "legendgroup": "syncduet",
         "marker": {
          "color": "#00cc96"
         },
         "name": "syncduet",
         "notched": false,
         "offsetgroup": "syncduet",
         "orientation": "v",
         "showlegend": true,
         "type": "box",
         "x": [
          "dacapo",
          "dacapo",
          "dacapo",
          "dacapo",
          "dacapo",
          "dacapo",
          "dacapo",
          "dacapo",
          "dacapo",
          "dacapo",
          "scalabench",
          "scalabench",
          "scalabench",
          "scalabench",
          "scalabench",
          "scalabench",
          "scalabench",
          "scalabench",
          "scalabench",
          "scalabench",
          "scalabench",
          "scalabench",
          "scalabench",
          "scalabench",
          "scalabench",
          "scalabench",
          "scalabench",
          "scalabench",
          "scalabench",
          "scalabench",
          "scalabench"
         ],
         "x0": " ",
         "xaxis": "x",
         "y": [
          0.03292779541670601,
          0.18276492254462298,
          0.06143938224239031,
          0.03028463109959204,
          0.03226485969942506,
          0.08373560586113733,
          0.04811830782903881,
          0.06263747539186305,
          0.07926692446182754,
          0.05251309182714261,
          0.06731260141455006,
          0.027243170785983373,
          0.11122691542151675,
          0.18762858005323724,
          0.05343246078861322,
          0.13883920626328553,
          0.04706196402550931,
          0.1680122387842713,
          0.09253543273601189,
          0.16653718243852642,
          0.11053510974534689,
          0.15369702087944087,
          0.13099093705276071,
          0.06517313238667895,
          0.20189503849616422,
          0.06362429772086456,
          0.05811983778032066,
          0.3239833870890277,
          0.07297376822781043,
          0.07734357036518345,
          0.08402946229680051
         ],
         "y0": " ",
         "yaxis": "y"
        },
        {
         "alignmentgroup": "True",
         "customdata": [
          [
           "avrora"
          ],
          [
           "fop"
          ],
          [
           "h2"
          ],
          [
           "luindex"
          ],
          [
           "lusearch"
          ],
          [
           "pmd"
          ],
          [
           "sunflow"
          ],
          [
           "tradebeans"
          ],
          [
           "tradesoap"
          ],
          [
           "xalan"
          ],
          [
           "apparat"
          ],
          [
           "avrora"
          ],
          [
           "factorie"
          ],
          [
           "fop"
          ],
          [
           "h2"
          ],
          [
           "kiama"
          ],
          [
           "luindex"
          ],
          [
           "lusearch"
          ],
          [
           "pmd"
          ],
          [
           "scalac"
          ],
          [
           "scaladoc"
          ],
          [
           "scalap"
          ],
          [
           "scalariform"
          ],
          [
           "scalatest"
          ],
          [
           "scalaxb"
          ],
          [
           "specs"
          ],
          [
           "sunflow"
          ],
          [
           "tmt"
          ],
          [
           "tradebeans"
          ],
          [
           "tradesoap"
          ],
          [
           "xalan"
          ]
         ],
         "hovertemplate": "type=syncduet<br>environment=bare-metal<br>suite=%{x}<br>CV=%{y}<br>benchmark=%{customdata[0]}<extra></extra>",
         "legendgroup": "syncduet",
         "marker": {
          "color": "#00cc96"
         },
         "name": "syncduet",
         "notched": false,
         "offsetgroup": "syncduet",
         "orientation": "v",
         "showlegend": false,
         "type": "box",
         "x": [
          "dacapo",
          "dacapo",
          "dacapo",
          "dacapo",
          "dacapo",
          "dacapo",
          "dacapo",
          "dacapo",
          "dacapo",
          "dacapo",
          "scalabench",
          "scalabench",
          "scalabench",
          "scalabench",
          "scalabench",
          "scalabench",
          "scalabench",
          "scalabench",
          "scalabench",
          "scalabench",
          "scalabench",
          "scalabench",
          "scalabench",
          "scalabench",
          "scalabench",
          "scalabench",
          "scalabench",
          "scalabench",
          "scalabench",
          "scalabench",
          "scalabench"
         ],
         "x0": " ",
         "xaxis": "x2",
         "y": [
          0.028495174222221552,
          0.10092792086376864,
          0.06857209283950494,
          0.08067154215909528,
          0.03463934382626439,
          0.01898206562790903,
          0.02158170863336297,
          0.017498925273059324,
          0.011022196940514784,
          0.030627288739986082,
          0.03752034722786777,
          0.02997332779904768,
          0.07213156524823103,
          0.030495837199956417,
          0.07057687463964685,
          0.042797668668226756,
          0.13179629230020307,
          0.10202053712715027,
          0.02067058075051928,
          0.03711424062500984,
          0.021433193221949105,
          0.0411270306757421,
          0.03253396003757847,
          0.03908838976083177,
          0.03733933845063574,
          0.006982722805115146,
          0.057850557614009215,
          0.13325413675849235,
          0.018997042413523475,
          0.03190541115051207,
          0.07547088513236522
         ],
         "y0": " ",
         "yaxis": "y2"
        },
        {
         "alignmentgroup": "True",
         "customdata": [
          [
           "avrora"
          ],
          [
           "fop"
          ],
          [
           "h2"
          ],
          [
           "luindex"
          ],
          [
           "lusearch"
          ],
          [
           "pmd"
          ],
          [
           "sunflow"
          ],
          [
           "tradebeans"
          ],
          [
           "tradesoap"
          ],
          [
           "xalan"
          ],
          [
           "apparat"
          ],
          [
           "avrora"
          ],
          [
           "factorie"
          ],
          [
           "fop"
          ],
          [
           "h2"
          ],
          [
           "kiama"
          ],
          [
           "luindex"
          ],
          [
           "lusearch"
          ],
          [
           "pmd"
          ],
          [
           "scalac"
          ],
          [
           "scaladoc"
          ],
          [
           "scalap"
          ],
          [
           "scalariform"
          ],
          [
           "scalatest"
          ],
          [
           "scalaxb"
          ],
          [
           "specs"
          ],
          [
           "sunflow"
          ],
          [
           "tmt"
          ],
          [
           "tradebeans"
          ],
          [
           "tradesoap"
          ],
          [
           "xalan"
          ]
         ],
         "hovertemplate": "type=syncduet<br>environment=shared-vm<br>suite=%{x}<br>CV=%{y}<br>benchmark=%{customdata[0]}<extra></extra>",
         "legendgroup": "syncduet",
         "marker": {
          "color": "#00cc96"
         },
         "name": "syncduet",
         "notched": false,
         "offsetgroup": "syncduet",
         "orientation": "v",
         "showlegend": false,
         "type": "box",
         "x": [
          "dacapo",
          "dacapo",
          "dacapo",
          "dacapo",
          "dacapo",
          "dacapo",
          "dacapo",
          "dacapo",
          "dacapo",
          "dacapo",
          "scalabench",
          "scalabench",
          "scalabench",
          "scalabench",
          "scalabench",
          "scalabench",
          "scalabench",
          "scalabench",
          "scalabench",
          "scalabench",
          "scalabench",
          "scalabench",
          "scalabench",
          "scalabench",
          "scalabench",
          "scalabench",
          "scalabench",
          "scalabench",
          "scalabench",
          "scalabench",
          "scalabench"
         ],
         "x0": " ",
         "xaxis": "x3",
         "y": [
          0.0876434795948259,
          0.18605132170765085,
          0.0670026974685198,
          0.5556783841170495,
          0.05953681073051808,
          0.07659146662320176,
          0.09444642958941134,
          0.04819018020349987,
          0.05258072107268688,
          0.040830502368498035,
          0.06957420384928284,
          0.11499820828037348,
          0.11694107466364055,
          0.20107991858837407,
          0.08052800441209118,
          0.1445949769333497,
          0.5909130278352507,
          0.06883347030843011,
          0.08136791811570736,
          0.14917215188875538,
          0.11981625506846875,
          0.12531361088050538,
          0.12035132681801067,
          0.07262140525735145,
          0.16935577835671628,
          0.07030052486455535,
          0.06912660394986646,
          0.1378967862609927,
          0.14703373399321934,
          0.0568455629473615,
          0.08149161178130959
         ],
         "y0": " ",
         "yaxis": "y3"
        }
       ],
       "layout": {
        "annotations": [
         {
          "font": {},
          "showarrow": false,
          "text": "environment=AWS t3.medium",
          "x": 0.15999999999999998,
          "xanchor": "center",
          "xref": "paper",
          "y": 1,
          "yanchor": "bottom",
          "yref": "paper"
         },
         {
          "font": {},
          "showarrow": false,
          "text": "environment=bare-metal",
          "x": 0.49999999999999994,
          "xanchor": "center",
          "xref": "paper",
          "y": 1,
          "yanchor": "bottom",
          "yref": "paper"
         },
         {
          "font": {},
          "showarrow": false,
          "text": "environment=shared-vm",
          "x": 0.8399999999999999,
          "xanchor": "center",
          "xref": "paper",
          "y": 1,
          "yanchor": "bottom",
          "yref": "paper"
         }
        ],
        "boxmode": "group",
        "legend": {
         "title": {
          "text": "type"
         },
         "tracegroupgap": 0
        },
        "margin": {
         "t": 60
        },
        "template": {
         "data": {
          "bar": [
           {
            "error_x": {
             "color": "#2a3f5f"
            },
            "error_y": {
             "color": "#2a3f5f"
            },
            "marker": {
             "line": {
              "color": "#E5ECF6",
              "width": 0.5
             },
             "pattern": {
              "fillmode": "overlay",
              "size": 10,
              "solidity": 0.2
             }
            },
            "type": "bar"
           }
          ],
          "barpolar": [
           {
            "marker": {
             "line": {
              "color": "#E5ECF6",
              "width": 0.5
             },
             "pattern": {
              "fillmode": "overlay",
              "size": 10,
              "solidity": 0.2
             }
            },
            "type": "barpolar"
           }
          ],
          "carpet": [
           {
            "aaxis": {
             "endlinecolor": "#2a3f5f",
             "gridcolor": "white",
             "linecolor": "white",
             "minorgridcolor": "white",
             "startlinecolor": "#2a3f5f"
            },
            "baxis": {
             "endlinecolor": "#2a3f5f",
             "gridcolor": "white",
             "linecolor": "white",
             "minorgridcolor": "white",
             "startlinecolor": "#2a3f5f"
            },
            "type": "carpet"
           }
          ],
          "choropleth": [
           {
            "colorbar": {
             "outlinewidth": 0,
             "ticks": ""
            },
            "type": "choropleth"
           }
          ],
          "contour": [
           {
            "colorbar": {
             "outlinewidth": 0,
             "ticks": ""
            },
            "colorscale": [
             [
              0,
              "#0d0887"
             ],
             [
              0.1111111111111111,
              "#46039f"
             ],
             [
              0.2222222222222222,
              "#7201a8"
             ],
             [
              0.3333333333333333,
              "#9c179e"
             ],
             [
              0.4444444444444444,
              "#bd3786"
             ],
             [
              0.5555555555555556,
              "#d8576b"
             ],
             [
              0.6666666666666666,
              "#ed7953"
             ],
             [
              0.7777777777777778,
              "#fb9f3a"
             ],
             [
              0.8888888888888888,
              "#fdca26"
             ],
             [
              1,
              "#f0f921"
             ]
            ],
            "type": "contour"
           }
          ],
          "contourcarpet": [
           {
            "colorbar": {
             "outlinewidth": 0,
             "ticks": ""
            },
            "type": "contourcarpet"
           }
          ],
          "heatmap": [
           {
            "colorbar": {
             "outlinewidth": 0,
             "ticks": ""
            },
            "colorscale": [
             [
              0,
              "#0d0887"
             ],
             [
              0.1111111111111111,
              "#46039f"
             ],
             [
              0.2222222222222222,
              "#7201a8"
             ],
             [
              0.3333333333333333,
              "#9c179e"
             ],
             [
              0.4444444444444444,
              "#bd3786"
             ],
             [
              0.5555555555555556,
              "#d8576b"
             ],
             [
              0.6666666666666666,
              "#ed7953"
             ],
             [
              0.7777777777777778,
              "#fb9f3a"
             ],
             [
              0.8888888888888888,
              "#fdca26"
             ],
             [
              1,
              "#f0f921"
             ]
            ],
            "type": "heatmap"
           }
          ],
          "heatmapgl": [
           {
            "colorbar": {
             "outlinewidth": 0,
             "ticks": ""
            },
            "colorscale": [
             [
              0,
              "#0d0887"
             ],
             [
              0.1111111111111111,
              "#46039f"
             ],
             [
              0.2222222222222222,
              "#7201a8"
             ],
             [
              0.3333333333333333,
              "#9c179e"
             ],
             [
              0.4444444444444444,
              "#bd3786"
             ],
             [
              0.5555555555555556,
              "#d8576b"
             ],
             [
              0.6666666666666666,
              "#ed7953"
             ],
             [
              0.7777777777777778,
              "#fb9f3a"
             ],
             [
              0.8888888888888888,
              "#fdca26"
             ],
             [
              1,
              "#f0f921"
             ]
            ],
            "type": "heatmapgl"
           }
          ],
          "histogram": [
           {
            "marker": {
             "pattern": {
              "fillmode": "overlay",
              "size": 10,
              "solidity": 0.2
             }
            },
            "type": "histogram"
           }
          ],
          "histogram2d": [
           {
            "colorbar": {
             "outlinewidth": 0,
             "ticks": ""
            },
            "colorscale": [
             [
              0,
              "#0d0887"
             ],
             [
              0.1111111111111111,
              "#46039f"
             ],
             [
              0.2222222222222222,
              "#7201a8"
             ],
             [
              0.3333333333333333,
              "#9c179e"
             ],
             [
              0.4444444444444444,
              "#bd3786"
             ],
             [
              0.5555555555555556,
              "#d8576b"
             ],
             [
              0.6666666666666666,
              "#ed7953"
             ],
             [
              0.7777777777777778,
              "#fb9f3a"
             ],
             [
              0.8888888888888888,
              "#fdca26"
             ],
             [
              1,
              "#f0f921"
             ]
            ],
            "type": "histogram2d"
           }
          ],
          "histogram2dcontour": [
           {
            "colorbar": {
             "outlinewidth": 0,
             "ticks": ""
            },
            "colorscale": [
             [
              0,
              "#0d0887"
             ],
             [
              0.1111111111111111,
              "#46039f"
             ],
             [
              0.2222222222222222,
              "#7201a8"
             ],
             [
              0.3333333333333333,
              "#9c179e"
             ],
             [
              0.4444444444444444,
              "#bd3786"
             ],
             [
              0.5555555555555556,
              "#d8576b"
             ],
             [
              0.6666666666666666,
              "#ed7953"
             ],
             [
              0.7777777777777778,
              "#fb9f3a"
             ],
             [
              0.8888888888888888,
              "#fdca26"
             ],
             [
              1,
              "#f0f921"
             ]
            ],
            "type": "histogram2dcontour"
           }
          ],
          "mesh3d": [
           {
            "colorbar": {
             "outlinewidth": 0,
             "ticks": ""
            },
            "type": "mesh3d"
           }
          ],
          "parcoords": [
           {
            "line": {
             "colorbar": {
              "outlinewidth": 0,
              "ticks": ""
             }
            },
            "type": "parcoords"
           }
          ],
          "pie": [
           {
            "automargin": true,
            "type": "pie"
           }
          ],
          "scatter": [
           {
            "fillpattern": {
             "fillmode": "overlay",
             "size": 10,
             "solidity": 0.2
            },
            "type": "scatter"
           }
          ],
          "scatter3d": [
           {
            "line": {
             "colorbar": {
              "outlinewidth": 0,
              "ticks": ""
             }
            },
            "marker": {
             "colorbar": {
              "outlinewidth": 0,
              "ticks": ""
             }
            },
            "type": "scatter3d"
           }
          ],
          "scattercarpet": [
           {
            "marker": {
             "colorbar": {
              "outlinewidth": 0,
              "ticks": ""
             }
            },
            "type": "scattercarpet"
           }
          ],
          "scattergeo": [
           {
            "marker": {
             "colorbar": {
              "outlinewidth": 0,
              "ticks": ""
             }
            },
            "type": "scattergeo"
           }
          ],
          "scattergl": [
           {
            "marker": {
             "colorbar": {
              "outlinewidth": 0,
              "ticks": ""
             }
            },
            "type": "scattergl"
           }
          ],
          "scattermapbox": [
           {
            "marker": {
             "colorbar": {
              "outlinewidth": 0,
              "ticks": ""
             }
            },
            "type": "scattermapbox"
           }
          ],
          "scatterpolar": [
           {
            "marker": {
             "colorbar": {
              "outlinewidth": 0,
              "ticks": ""
             }
            },
            "type": "scatterpolar"
           }
          ],
          "scatterpolargl": [
           {
            "marker": {
             "colorbar": {
              "outlinewidth": 0,
              "ticks": ""
             }
            },
            "type": "scatterpolargl"
           }
          ],
          "scatterternary": [
           {
            "marker": {
             "colorbar": {
              "outlinewidth": 0,
              "ticks": ""
             }
            },
            "type": "scatterternary"
           }
          ],
          "surface": [
           {
            "colorbar": {
             "outlinewidth": 0,
             "ticks": ""
            },
            "colorscale": [
             [
              0,
              "#0d0887"
             ],
             [
              0.1111111111111111,
              "#46039f"
             ],
             [
              0.2222222222222222,
              "#7201a8"
             ],
             [
              0.3333333333333333,
              "#9c179e"
             ],
             [
              0.4444444444444444,
              "#bd3786"
             ],
             [
              0.5555555555555556,
              "#d8576b"
             ],
             [
              0.6666666666666666,
              "#ed7953"
             ],
             [
              0.7777777777777778,
              "#fb9f3a"
             ],
             [
              0.8888888888888888,
              "#fdca26"
             ],
             [
              1,
              "#f0f921"
             ]
            ],
            "type": "surface"
           }
          ],
          "table": [
           {
            "cells": {
             "fill": {
              "color": "#EBF0F8"
             },
             "line": {
              "color": "white"
             }
            },
            "header": {
             "fill": {
              "color": "#C8D4E3"
             },
             "line": {
              "color": "white"
             }
            },
            "type": "table"
           }
          ]
         },
         "layout": {
          "annotationdefaults": {
           "arrowcolor": "#2a3f5f",
           "arrowhead": 0,
           "arrowwidth": 1
          },
          "autotypenumbers": "strict",
          "coloraxis": {
           "colorbar": {
            "outlinewidth": 0,
            "ticks": ""
           }
          },
          "colorscale": {
           "diverging": [
            [
             0,
             "#8e0152"
            ],
            [
             0.1,
             "#c51b7d"
            ],
            [
             0.2,
             "#de77ae"
            ],
            [
             0.3,
             "#f1b6da"
            ],
            [
             0.4,
             "#fde0ef"
            ],
            [
             0.5,
             "#f7f7f7"
            ],
            [
             0.6,
             "#e6f5d0"
            ],
            [
             0.7,
             "#b8e186"
            ],
            [
             0.8,
             "#7fbc41"
            ],
            [
             0.9,
             "#4d9221"
            ],
            [
             1,
             "#276419"
            ]
           ],
           "sequential": [
            [
             0,
             "#0d0887"
            ],
            [
             0.1111111111111111,
             "#46039f"
            ],
            [
             0.2222222222222222,
             "#7201a8"
            ],
            [
             0.3333333333333333,
             "#9c179e"
            ],
            [
             0.4444444444444444,
             "#bd3786"
            ],
            [
             0.5555555555555556,
             "#d8576b"
            ],
            [
             0.6666666666666666,
             "#ed7953"
            ],
            [
             0.7777777777777778,
             "#fb9f3a"
            ],
            [
             0.8888888888888888,
             "#fdca26"
            ],
            [
             1,
             "#f0f921"
            ]
           ],
           "sequentialminus": [
            [
             0,
             "#0d0887"
            ],
            [
             0.1111111111111111,
             "#46039f"
            ],
            [
             0.2222222222222222,
             "#7201a8"
            ],
            [
             0.3333333333333333,
             "#9c179e"
            ],
            [
             0.4444444444444444,
             "#bd3786"
            ],
            [
             0.5555555555555556,
             "#d8576b"
            ],
            [
             0.6666666666666666,
             "#ed7953"
            ],
            [
             0.7777777777777778,
             "#fb9f3a"
            ],
            [
             0.8888888888888888,
             "#fdca26"
            ],
            [
             1,
             "#f0f921"
            ]
           ]
          },
          "colorway": [
           "#636efa",
           "#EF553B",
           "#00cc96",
           "#ab63fa",
           "#FFA15A",
           "#19d3f3",
           "#FF6692",
           "#B6E880",
           "#FF97FF",
           "#FECB52"
          ],
          "font": {
           "color": "#2a3f5f"
          },
          "geo": {
           "bgcolor": "white",
           "lakecolor": "white",
           "landcolor": "#E5ECF6",
           "showlakes": true,
           "showland": true,
           "subunitcolor": "white"
          },
          "hoverlabel": {
           "align": "left"
          },
          "hovermode": "closest",
          "mapbox": {
           "style": "light"
          },
          "paper_bgcolor": "white",
          "plot_bgcolor": "#E5ECF6",
          "polar": {
           "angularaxis": {
            "gridcolor": "white",
            "linecolor": "white",
            "ticks": ""
           },
           "bgcolor": "#E5ECF6",
           "radialaxis": {
            "gridcolor": "white",
            "linecolor": "white",
            "ticks": ""
           }
          },
          "scene": {
           "xaxis": {
            "backgroundcolor": "#E5ECF6",
            "gridcolor": "white",
            "gridwidth": 2,
            "linecolor": "white",
            "showbackground": true,
            "ticks": "",
            "zerolinecolor": "white"
           },
           "yaxis": {
            "backgroundcolor": "#E5ECF6",
            "gridcolor": "white",
            "gridwidth": 2,
            "linecolor": "white",
            "showbackground": true,
            "ticks": "",
            "zerolinecolor": "white"
           },
           "zaxis": {
            "backgroundcolor": "#E5ECF6",
            "gridcolor": "white",
            "gridwidth": 2,
            "linecolor": "white",
            "showbackground": true,
            "ticks": "",
            "zerolinecolor": "white"
           }
          },
          "shapedefaults": {
           "line": {
            "color": "#2a3f5f"
           }
          },
          "ternary": {
           "aaxis": {
            "gridcolor": "white",
            "linecolor": "white",
            "ticks": ""
           },
           "baxis": {
            "gridcolor": "white",
            "linecolor": "white",
            "ticks": ""
           },
           "bgcolor": "#E5ECF6",
           "caxis": {
            "gridcolor": "white",
            "linecolor": "white",
            "ticks": ""
           }
          },
          "title": {
           "x": 0.05
          },
          "xaxis": {
           "automargin": true,
           "gridcolor": "white",
           "linecolor": "white",
           "ticks": "",
           "title": {
            "standoff": 15
           },
           "zerolinecolor": "white",
           "zerolinewidth": 2
          },
          "yaxis": {
           "automargin": true,
           "gridcolor": "white",
           "linecolor": "white",
           "ticks": "",
           "title": {
            "standoff": 15
           },
           "zerolinecolor": "white",
           "zerolinewidth": 2
          }
         }
        },
        "xaxis": {
         "anchor": "y",
         "domain": [
          0,
          0.31999999999999995
         ],
         "title": {
          "text": "suite"
         }
        },
        "xaxis2": {
         "anchor": "y2",
         "domain": [
          0.33999999999999997,
          0.6599999999999999
         ],
         "matches": "x",
         "title": {
          "text": "suite"
         }
        },
        "xaxis3": {
         "anchor": "y3",
         "domain": [
          0.6799999999999999,
          0.9999999999999999
         ],
         "matches": "x",
         "title": {
          "text": "suite"
         }
        },
        "yaxis": {
         "anchor": "x",
         "domain": [
          0,
          1
         ],
         "title": {
          "text": "CV"
         }
        },
        "yaxis2": {
         "anchor": "x2",
         "domain": [
          0,
          1
         ],
         "matches": "y",
         "showticklabels": false
        },
        "yaxis3": {
         "anchor": "x3",
         "domain": [
          0,
          1
         ],
         "matches": "y",
         "showticklabels": false
        }
       }
      }
     },
     "metadata": {},
     "output_type": "display_data"
    }
   ],
   "source": [
    "px.box(\n",
    "    df_cv,\n",
    "    x=RF.suite,\n",
    "    y=\"CV\",\n",
    "    color=RF.type,\n",
    "    facet_col=DF.env,\n",
    "    hover_data=[RF.benchmark],\n",
    ")"
   ]
  },
  {
   "attachments": {},
   "cell_type": "markdown",
   "metadata": {},
   "source": [
    "## Confidence intervals computation"
   ]
  },
  {
   "cell_type": "markdown",
   "metadata": {},
   "source": [
    "### Determine best duet `overlap_rate`"
   ]
  },
  {
   "cell_type": "code",
   "execution_count": 23,
   "metadata": {},
   "outputs": [],
   "source": [
    "df_overlap_match = compute_ci(df_prep, np.arange(0.1, 1, 0.1))"
   ]
  },
  {
   "cell_type": "code",
   "execution_count": 24,
   "metadata": {},
   "outputs": [
    {
     "data": {
      "application/vnd.plotly.v1+json": {
       "config": {
        "plotlyServerURL": "https://plot.ly"
       },
       "data": [
        {
         "hovertemplate": "suite=dacapo<br>environment=AWS t3.medium<br>minumum_overlap_ratio=%{x}<br>match_ci_%=%{y}<extra></extra>",
         "legendgroup": "dacapo",
         "line": {
          "color": "#636efa",
          "dash": "solid"
         },
         "marker": {
          "symbol": "circle"
         },
         "mode": "lines+markers",
         "name": "dacapo",
         "orientation": "v",
         "showlegend": true,
         "type": "scatter",
         "x": [
          0.1,
          0.2,
          0.30000000000000004,
          0.4,
          0.5,
          0.6,
          0.7000000000000001,
          0.8,
          0.9
         ],
         "xaxis": "x",
         "y": [
          0.9,
          1,
          1,
          1,
          0.9,
          0.9,
          1,
          1,
          0.9
         ],
         "yaxis": "y"
        },
        {
         "hovertemplate": "suite=dacapo<br>environment=bare-metal<br>minumum_overlap_ratio=%{x}<br>match_ci_%=%{y}<extra></extra>",
         "legendgroup": "dacapo",
         "line": {
          "color": "#636efa",
          "dash": "solid"
         },
         "marker": {
          "symbol": "circle"
         },
         "mode": "lines+markers",
         "name": "dacapo",
         "orientation": "v",
         "showlegend": false,
         "type": "scatter",
         "x": [
          0.1,
          0.2,
          0.30000000000000004,
          0.4,
          0.5,
          0.6,
          0.7000000000000001,
          0.8,
          0.9
         ],
         "xaxis": "x2",
         "y": [
          1,
          1,
          1,
          1,
          0.9,
          1,
          1,
          1,
          0.9
         ],
         "yaxis": "y2"
        },
        {
         "hovertemplate": "suite=dacapo<br>environment=shared-vm<br>minumum_overlap_ratio=%{x}<br>match_ci_%=%{y}<extra></extra>",
         "legendgroup": "dacapo",
         "line": {
          "color": "#636efa",
          "dash": "solid"
         },
         "marker": {
          "symbol": "circle"
         },
         "mode": "lines+markers",
         "name": "dacapo",
         "orientation": "v",
         "showlegend": false,
         "type": "scatter",
         "x": [
          0.1,
          0.2,
          0.30000000000000004,
          0.4,
          0.5,
          0.6,
          0.7000000000000001,
          0.8,
          0.9
         ],
         "xaxis": "x3",
         "y": [
          1,
          1,
          0.8,
          1,
          0.9,
          0.9,
          0.9,
          0.8,
          1
         ],
         "yaxis": "y3"
        },
        {
         "hovertemplate": "suite=renaissance<br>environment=AWS t3.medium<br>minumum_overlap_ratio=%{x}<br>match_ci_%=%{y}<extra></extra>",
         "legendgroup": "renaissance",
         "line": {
          "color": "#EF553B",
          "dash": "solid"
         },
         "marker": {
          "symbol": "circle"
         },
         "mode": "lines+markers",
         "name": "renaissance",
         "orientation": "v",
         "showlegend": true,
         "type": "scatter",
         "x": [
          0.1,
          0.2,
          0.30000000000000004,
          0.4,
          0.5,
          0.6,
          0.7000000000000001,
          0.8,
          0.9
         ],
         "xaxis": "x",
         "y": [
          0.875,
          0.875,
          0.9166666666666666,
          0.9583333333333334,
          0.9166666666666666,
          0.875,
          0.9583333333333334,
          0.9166666666666666,
          0.9166666666666666
         ],
         "yaxis": "y"
        },
        {
         "hovertemplate": "suite=renaissance<br>environment=bare-metal<br>minumum_overlap_ratio=%{x}<br>match_ci_%=%{y}<extra></extra>",
         "legendgroup": "renaissance",
         "line": {
          "color": "#EF553B",
          "dash": "solid"
         },
         "marker": {
          "symbol": "circle"
         },
         "mode": "lines+markers",
         "name": "renaissance",
         "orientation": "v",
         "showlegend": false,
         "type": "scatter",
         "x": [
          0.1,
          0.2,
          0.30000000000000004,
          0.4,
          0.5,
          0.6,
          0.7000000000000001,
          0.8,
          0.9
         ],
         "xaxis": "x2",
         "y": [
          0.782608695652174,
          0.8260869565217391,
          0.8260869565217391,
          0.8695652173913043,
          0.782608695652174,
          0.8260869565217391,
          0.8260869565217391,
          0.8695652173913043,
          0.9565217391304348
         ],
         "yaxis": "y2"
        },
        {
         "hovertemplate": "suite=renaissance<br>environment=shared-vm<br>minumum_overlap_ratio=%{x}<br>match_ci_%=%{y}<extra></extra>",
         "legendgroup": "renaissance",
         "line": {
          "color": "#EF553B",
          "dash": "solid"
         },
         "marker": {
          "symbol": "circle"
         },
         "mode": "lines+markers",
         "name": "renaissance",
         "orientation": "v",
         "showlegend": false,
         "type": "scatter",
         "x": [
          0.1,
          0.2,
          0.30000000000000004,
          0.4,
          0.5,
          0.6,
          0.7000000000000001,
          0.8,
          0.9
         ],
         "xaxis": "x3",
         "y": [
          1,
          0.9565217391304348,
          0.9565217391304348,
          0.9565217391304348,
          1,
          1,
          0.9130434782608695,
          0.9130434782608695,
          0.8260869565217391
         ],
         "yaxis": "y3"
        },
        {
         "hovertemplate": "suite=scalabench<br>environment=AWS t3.medium<br>minumum_overlap_ratio=%{x}<br>match_ci_%=%{y}<extra></extra>",
         "legendgroup": "scalabench",
         "line": {
          "color": "#00cc96",
          "dash": "solid"
         },
         "marker": {
          "symbol": "circle"
         },
         "mode": "lines+markers",
         "name": "scalabench",
         "orientation": "v",
         "showlegend": true,
         "type": "scatter",
         "x": [
          0.1,
          0.2,
          0.30000000000000004,
          0.4,
          0.5,
          0.6,
          0.7000000000000001,
          0.8,
          0.9
         ],
         "xaxis": "x",
         "y": [
          0.9523809523809523,
          0.9523809523809523,
          1,
          1,
          1,
          1,
          1,
          0.9047619047619048,
          0.95
         ],
         "yaxis": "y"
        },
        {
         "hovertemplate": "suite=scalabench<br>environment=bare-metal<br>minumum_overlap_ratio=%{x}<br>match_ci_%=%{y}<extra></extra>",
         "legendgroup": "scalabench",
         "line": {
          "color": "#00cc96",
          "dash": "solid"
         },
         "marker": {
          "symbol": "circle"
         },
         "mode": "lines+markers",
         "name": "scalabench",
         "orientation": "v",
         "showlegend": false,
         "type": "scatter",
         "x": [
          0.1,
          0.2,
          0.30000000000000004,
          0.4,
          0.5,
          0.6,
          0.7000000000000001,
          0.8,
          0.9
         ],
         "xaxis": "x2",
         "y": [
          0.9523809523809523,
          0.9523809523809523,
          1,
          0.9523809523809523,
          0.9523809523809523,
          0.9523809523809523,
          0.9523809523809523,
          0.8571428571428571,
          0.9047619047619048
         ],
         "yaxis": "y2"
        },
        {
         "hovertemplate": "suite=scalabench<br>environment=shared-vm<br>minumum_overlap_ratio=%{x}<br>match_ci_%=%{y}<extra></extra>",
         "legendgroup": "scalabench",
         "line": {
          "color": "#00cc96",
          "dash": "solid"
         },
         "marker": {
          "symbol": "circle"
         },
         "mode": "lines+markers",
         "name": "scalabench",
         "orientation": "v",
         "showlegend": false,
         "type": "scatter",
         "x": [
          0.1,
          0.2,
          0.30000000000000004,
          0.4,
          0.5,
          0.6,
          0.7000000000000001,
          0.8,
          0.9
         ],
         "xaxis": "x3",
         "y": [
          0.7142857142857143,
          0.7619047619047619,
          0.8095238095238095,
          0.8095238095238095,
          0.7619047619047619,
          0.7142857142857143,
          0.6666666666666666,
          0.8095238095238095,
          0.8
         ],
         "yaxis": "y3"
        },
        {
         "hovertemplate": "suite=speccpu<br>environment=AWS t3.medium<br>minumum_overlap_ratio=%{x}<br>match_ci_%=%{y}<extra></extra>",
         "legendgroup": "speccpu",
         "line": {
          "color": "#ab63fa",
          "dash": "solid"
         },
         "marker": {
          "symbol": "circle"
         },
         "mode": "lines+markers",
         "name": "speccpu",
         "orientation": "v",
         "showlegend": true,
         "type": "scatter",
         "x": [
          0.1,
          0.2,
          0.30000000000000004,
          0.4,
          0.5,
          0.6,
          0.7000000000000001,
          0.8,
          0.9
         ],
         "xaxis": "x",
         "y": [
          0.8125,
          0.8125,
          0.8125,
          0.8125,
          0.8125,
          0.8125,
          0.8125,
          0.8125,
          0.8125
         ],
         "yaxis": "y"
        },
        {
         "hovertemplate": "suite=speccpu<br>environment=bare-metal<br>minumum_overlap_ratio=%{x}<br>match_ci_%=%{y}<extra></extra>",
         "legendgroup": "speccpu",
         "line": {
          "color": "#ab63fa",
          "dash": "solid"
         },
         "marker": {
          "symbol": "circle"
         },
         "mode": "lines+markers",
         "name": "speccpu",
         "orientation": "v",
         "showlegend": false,
         "type": "scatter",
         "x": [
          0.1,
          0.2,
          0.30000000000000004,
          0.4,
          0.5,
          0.6,
          0.7000000000000001,
          0.8,
          0.9
         ],
         "xaxis": "x2",
         "y": [
          0.8125,
          0.8125,
          0.8125,
          0.8125,
          0.8125,
          0.8125,
          0.8125,
          0.8125,
          0.8125
         ],
         "yaxis": "y2"
        }
       ],
       "layout": {
        "annotations": [
         {
          "font": {},
          "showarrow": false,
          "text": "environment=AWS t3.medium",
          "x": 0.15999999999999998,
          "xanchor": "center",
          "xref": "paper",
          "y": 1,
          "yanchor": "bottom",
          "yref": "paper"
         },
         {
          "font": {},
          "showarrow": false,
          "text": "environment=bare-metal",
          "x": 0.49999999999999994,
          "xanchor": "center",
          "xref": "paper",
          "y": 1,
          "yanchor": "bottom",
          "yref": "paper"
         },
         {
          "font": {},
          "showarrow": false,
          "text": "environment=shared-vm",
          "x": 0.8399999999999999,
          "xanchor": "center",
          "xref": "paper",
          "y": 1,
          "yanchor": "bottom",
          "yref": "paper"
         }
        ],
        "legend": {
         "title": {
          "text": "suite"
         },
         "tracegroupgap": 0
        },
        "margin": {
         "t": 60
        },
        "template": {
         "data": {
          "bar": [
           {
            "error_x": {
             "color": "#2a3f5f"
            },
            "error_y": {
             "color": "#2a3f5f"
            },
            "marker": {
             "line": {
              "color": "#E5ECF6",
              "width": 0.5
             },
             "pattern": {
              "fillmode": "overlay",
              "size": 10,
              "solidity": 0.2
             }
            },
            "type": "bar"
           }
          ],
          "barpolar": [
           {
            "marker": {
             "line": {
              "color": "#E5ECF6",
              "width": 0.5
             },
             "pattern": {
              "fillmode": "overlay",
              "size": 10,
              "solidity": 0.2
             }
            },
            "type": "barpolar"
           }
          ],
          "carpet": [
           {
            "aaxis": {
             "endlinecolor": "#2a3f5f",
             "gridcolor": "white",
             "linecolor": "white",
             "minorgridcolor": "white",
             "startlinecolor": "#2a3f5f"
            },
            "baxis": {
             "endlinecolor": "#2a3f5f",
             "gridcolor": "white",
             "linecolor": "white",
             "minorgridcolor": "white",
             "startlinecolor": "#2a3f5f"
            },
            "type": "carpet"
           }
          ],
          "choropleth": [
           {
            "colorbar": {
             "outlinewidth": 0,
             "ticks": ""
            },
            "type": "choropleth"
           }
          ],
          "contour": [
           {
            "colorbar": {
             "outlinewidth": 0,
             "ticks": ""
            },
            "colorscale": [
             [
              0,
              "#0d0887"
             ],
             [
              0.1111111111111111,
              "#46039f"
             ],
             [
              0.2222222222222222,
              "#7201a8"
             ],
             [
              0.3333333333333333,
              "#9c179e"
             ],
             [
              0.4444444444444444,
              "#bd3786"
             ],
             [
              0.5555555555555556,
              "#d8576b"
             ],
             [
              0.6666666666666666,
              "#ed7953"
             ],
             [
              0.7777777777777778,
              "#fb9f3a"
             ],
             [
              0.8888888888888888,
              "#fdca26"
             ],
             [
              1,
              "#f0f921"
             ]
            ],
            "type": "contour"
           }
          ],
          "contourcarpet": [
           {
            "colorbar": {
             "outlinewidth": 0,
             "ticks": ""
            },
            "type": "contourcarpet"
           }
          ],
          "heatmap": [
           {
            "colorbar": {
             "outlinewidth": 0,
             "ticks": ""
            },
            "colorscale": [
             [
              0,
              "#0d0887"
             ],
             [
              0.1111111111111111,
              "#46039f"
             ],
             [
              0.2222222222222222,
              "#7201a8"
             ],
             [
              0.3333333333333333,
              "#9c179e"
             ],
             [
              0.4444444444444444,
              "#bd3786"
             ],
             [
              0.5555555555555556,
              "#d8576b"
             ],
             [
              0.6666666666666666,
              "#ed7953"
             ],
             [
              0.7777777777777778,
              "#fb9f3a"
             ],
             [
              0.8888888888888888,
              "#fdca26"
             ],
             [
              1,
              "#f0f921"
             ]
            ],
            "type": "heatmap"
           }
          ],
          "heatmapgl": [
           {
            "colorbar": {
             "outlinewidth": 0,
             "ticks": ""
            },
            "colorscale": [
             [
              0,
              "#0d0887"
             ],
             [
              0.1111111111111111,
              "#46039f"
             ],
             [
              0.2222222222222222,
              "#7201a8"
             ],
             [
              0.3333333333333333,
              "#9c179e"
             ],
             [
              0.4444444444444444,
              "#bd3786"
             ],
             [
              0.5555555555555556,
              "#d8576b"
             ],
             [
              0.6666666666666666,
              "#ed7953"
             ],
             [
              0.7777777777777778,
              "#fb9f3a"
             ],
             [
              0.8888888888888888,
              "#fdca26"
             ],
             [
              1,
              "#f0f921"
             ]
            ],
            "type": "heatmapgl"
           }
          ],
          "histogram": [
           {
            "marker": {
             "pattern": {
              "fillmode": "overlay",
              "size": 10,
              "solidity": 0.2
             }
            },
            "type": "histogram"
           }
          ],
          "histogram2d": [
           {
            "colorbar": {
             "outlinewidth": 0,
             "ticks": ""
            },
            "colorscale": [
             [
              0,
              "#0d0887"
             ],
             [
              0.1111111111111111,
              "#46039f"
             ],
             [
              0.2222222222222222,
              "#7201a8"
             ],
             [
              0.3333333333333333,
              "#9c179e"
             ],
             [
              0.4444444444444444,
              "#bd3786"
             ],
             [
              0.5555555555555556,
              "#d8576b"
             ],
             [
              0.6666666666666666,
              "#ed7953"
             ],
             [
              0.7777777777777778,
              "#fb9f3a"
             ],
             [
              0.8888888888888888,
              "#fdca26"
             ],
             [
              1,
              "#f0f921"
             ]
            ],
            "type": "histogram2d"
           }
          ],
          "histogram2dcontour": [
           {
            "colorbar": {
             "outlinewidth": 0,
             "ticks": ""
            },
            "colorscale": [
             [
              0,
              "#0d0887"
             ],
             [
              0.1111111111111111,
              "#46039f"
             ],
             [
              0.2222222222222222,
              "#7201a8"
             ],
             [
              0.3333333333333333,
              "#9c179e"
             ],
             [
              0.4444444444444444,
              "#bd3786"
             ],
             [
              0.5555555555555556,
              "#d8576b"
             ],
             [
              0.6666666666666666,
              "#ed7953"
             ],
             [
              0.7777777777777778,
              "#fb9f3a"
             ],
             [
              0.8888888888888888,
              "#fdca26"
             ],
             [
              1,
              "#f0f921"
             ]
            ],
            "type": "histogram2dcontour"
           }
          ],
          "mesh3d": [
           {
            "colorbar": {
             "outlinewidth": 0,
             "ticks": ""
            },
            "type": "mesh3d"
           }
          ],
          "parcoords": [
           {
            "line": {
             "colorbar": {
              "outlinewidth": 0,
              "ticks": ""
             }
            },
            "type": "parcoords"
           }
          ],
          "pie": [
           {
            "automargin": true,
            "type": "pie"
           }
          ],
          "scatter": [
           {
            "fillpattern": {
             "fillmode": "overlay",
             "size": 10,
             "solidity": 0.2
            },
            "type": "scatter"
           }
          ],
          "scatter3d": [
           {
            "line": {
             "colorbar": {
              "outlinewidth": 0,
              "ticks": ""
             }
            },
            "marker": {
             "colorbar": {
              "outlinewidth": 0,
              "ticks": ""
             }
            },
            "type": "scatter3d"
           }
          ],
          "scattercarpet": [
           {
            "marker": {
             "colorbar": {
              "outlinewidth": 0,
              "ticks": ""
             }
            },
            "type": "scattercarpet"
           }
          ],
          "scattergeo": [
           {
            "marker": {
             "colorbar": {
              "outlinewidth": 0,
              "ticks": ""
             }
            },
            "type": "scattergeo"
           }
          ],
          "scattergl": [
           {
            "marker": {
             "colorbar": {
              "outlinewidth": 0,
              "ticks": ""
             }
            },
            "type": "scattergl"
           }
          ],
          "scattermapbox": [
           {
            "marker": {
             "colorbar": {
              "outlinewidth": 0,
              "ticks": ""
             }
            },
            "type": "scattermapbox"
           }
          ],
          "scatterpolar": [
           {
            "marker": {
             "colorbar": {
              "outlinewidth": 0,
              "ticks": ""
             }
            },
            "type": "scatterpolar"
           }
          ],
          "scatterpolargl": [
           {
            "marker": {
             "colorbar": {
              "outlinewidth": 0,
              "ticks": ""
             }
            },
            "type": "scatterpolargl"
           }
          ],
          "scatterternary": [
           {
            "marker": {
             "colorbar": {
              "outlinewidth": 0,
              "ticks": ""
             }
            },
            "type": "scatterternary"
           }
          ],
          "surface": [
           {
            "colorbar": {
             "outlinewidth": 0,
             "ticks": ""
            },
            "colorscale": [
             [
              0,
              "#0d0887"
             ],
             [
              0.1111111111111111,
              "#46039f"
             ],
             [
              0.2222222222222222,
              "#7201a8"
             ],
             [
              0.3333333333333333,
              "#9c179e"
             ],
             [
              0.4444444444444444,
              "#bd3786"
             ],
             [
              0.5555555555555556,
              "#d8576b"
             ],
             [
              0.6666666666666666,
              "#ed7953"
             ],
             [
              0.7777777777777778,
              "#fb9f3a"
             ],
             [
              0.8888888888888888,
              "#fdca26"
             ],
             [
              1,
              "#f0f921"
             ]
            ],
            "type": "surface"
           }
          ],
          "table": [
           {
            "cells": {
             "fill": {
              "color": "#EBF0F8"
             },
             "line": {
              "color": "white"
             }
            },
            "header": {
             "fill": {
              "color": "#C8D4E3"
             },
             "line": {
              "color": "white"
             }
            },
            "type": "table"
           }
          ]
         },
         "layout": {
          "annotationdefaults": {
           "arrowcolor": "#2a3f5f",
           "arrowhead": 0,
           "arrowwidth": 1
          },
          "autotypenumbers": "strict",
          "coloraxis": {
           "colorbar": {
            "outlinewidth": 0,
            "ticks": ""
           }
          },
          "colorscale": {
           "diverging": [
            [
             0,
             "#8e0152"
            ],
            [
             0.1,
             "#c51b7d"
            ],
            [
             0.2,
             "#de77ae"
            ],
            [
             0.3,
             "#f1b6da"
            ],
            [
             0.4,
             "#fde0ef"
            ],
            [
             0.5,
             "#f7f7f7"
            ],
            [
             0.6,
             "#e6f5d0"
            ],
            [
             0.7,
             "#b8e186"
            ],
            [
             0.8,
             "#7fbc41"
            ],
            [
             0.9,
             "#4d9221"
            ],
            [
             1,
             "#276419"
            ]
           ],
           "sequential": [
            [
             0,
             "#0d0887"
            ],
            [
             0.1111111111111111,
             "#46039f"
            ],
            [
             0.2222222222222222,
             "#7201a8"
            ],
            [
             0.3333333333333333,
             "#9c179e"
            ],
            [
             0.4444444444444444,
             "#bd3786"
            ],
            [
             0.5555555555555556,
             "#d8576b"
            ],
            [
             0.6666666666666666,
             "#ed7953"
            ],
            [
             0.7777777777777778,
             "#fb9f3a"
            ],
            [
             0.8888888888888888,
             "#fdca26"
            ],
            [
             1,
             "#f0f921"
            ]
           ],
           "sequentialminus": [
            [
             0,
             "#0d0887"
            ],
            [
             0.1111111111111111,
             "#46039f"
            ],
            [
             0.2222222222222222,
             "#7201a8"
            ],
            [
             0.3333333333333333,
             "#9c179e"
            ],
            [
             0.4444444444444444,
             "#bd3786"
            ],
            [
             0.5555555555555556,
             "#d8576b"
            ],
            [
             0.6666666666666666,
             "#ed7953"
            ],
            [
             0.7777777777777778,
             "#fb9f3a"
            ],
            [
             0.8888888888888888,
             "#fdca26"
            ],
            [
             1,
             "#f0f921"
            ]
           ]
          },
          "colorway": [
           "#636efa",
           "#EF553B",
           "#00cc96",
           "#ab63fa",
           "#FFA15A",
           "#19d3f3",
           "#FF6692",
           "#B6E880",
           "#FF97FF",
           "#FECB52"
          ],
          "font": {
           "color": "#2a3f5f"
          },
          "geo": {
           "bgcolor": "white",
           "lakecolor": "white",
           "landcolor": "#E5ECF6",
           "showlakes": true,
           "showland": true,
           "subunitcolor": "white"
          },
          "hoverlabel": {
           "align": "left"
          },
          "hovermode": "closest",
          "mapbox": {
           "style": "light"
          },
          "paper_bgcolor": "white",
          "plot_bgcolor": "#E5ECF6",
          "polar": {
           "angularaxis": {
            "gridcolor": "white",
            "linecolor": "white",
            "ticks": ""
           },
           "bgcolor": "#E5ECF6",
           "radialaxis": {
            "gridcolor": "white",
            "linecolor": "white",
            "ticks": ""
           }
          },
          "scene": {
           "xaxis": {
            "backgroundcolor": "#E5ECF6",
            "gridcolor": "white",
            "gridwidth": 2,
            "linecolor": "white",
            "showbackground": true,
            "ticks": "",
            "zerolinecolor": "white"
           },
           "yaxis": {
            "backgroundcolor": "#E5ECF6",
            "gridcolor": "white",
            "gridwidth": 2,
            "linecolor": "white",
            "showbackground": true,
            "ticks": "",
            "zerolinecolor": "white"
           },
           "zaxis": {
            "backgroundcolor": "#E5ECF6",
            "gridcolor": "white",
            "gridwidth": 2,
            "linecolor": "white",
            "showbackground": true,
            "ticks": "",
            "zerolinecolor": "white"
           }
          },
          "shapedefaults": {
           "line": {
            "color": "#2a3f5f"
           }
          },
          "ternary": {
           "aaxis": {
            "gridcolor": "white",
            "linecolor": "white",
            "ticks": ""
           },
           "baxis": {
            "gridcolor": "white",
            "linecolor": "white",
            "ticks": ""
           },
           "bgcolor": "#E5ECF6",
           "caxis": {
            "gridcolor": "white",
            "linecolor": "white",
            "ticks": ""
           }
          },
          "title": {
           "x": 0.05
          },
          "xaxis": {
           "automargin": true,
           "gridcolor": "white",
           "linecolor": "white",
           "ticks": "",
           "title": {
            "standoff": 15
           },
           "zerolinecolor": "white",
           "zerolinewidth": 2
          },
          "yaxis": {
           "automargin": true,
           "gridcolor": "white",
           "linecolor": "white",
           "ticks": "",
           "title": {
            "standoff": 15
           },
           "zerolinecolor": "white",
           "zerolinewidth": 2
          }
         }
        },
        "xaxis": {
         "anchor": "y",
         "domain": [
          0,
          0.31999999999999995
         ],
         "title": {
          "text": "minumum_overlap_ratio"
         }
        },
        "xaxis2": {
         "anchor": "y2",
         "domain": [
          0.33999999999999997,
          0.6599999999999999
         ],
         "matches": "x",
         "title": {
          "text": "minumum_overlap_ratio"
         }
        },
        "xaxis3": {
         "anchor": "y3",
         "domain": [
          0.6799999999999999,
          0.9999999999999999
         ],
         "matches": "x",
         "title": {
          "text": "minumum_overlap_ratio"
         }
        },
        "yaxis": {
         "anchor": "x",
         "domain": [
          0,
          1
         ],
         "title": {
          "text": "match_ci_%"
         }
        },
        "yaxis2": {
         "anchor": "x2",
         "domain": [
          0,
          1
         ],
         "matches": "y",
         "showticklabels": false
        },
        "yaxis3": {
         "anchor": "x3",
         "domain": [
          0,
          1
         ],
         "matches": "y",
         "showticklabels": false
        }
       }
      }
     },
     "metadata": {},
     "output_type": "display_data"
    }
   ],
   "source": [
    "df = arbiter_ci_contains_zero(df_overlap_match)\n",
    "df = (\n",
    "    df.groupby(by=[DF.env, RF.suite, RF.type, DF.overlap_rate])\n",
    "    .agg(\n",
    "        total_count=(DF.match_ci, \"count\"),\n",
    "        match_count=(DF.match_ci, \"sum\"),\n",
    "        miss_err=(DF.err_ci, np.mean),\n",
    "    )\n",
    "    .reset_index()\n",
    ")\n",
    "df[DF.match_ratio_ci] = df[\"match_count\"] / df[\"total_count\"]\n",
    "\n",
    "px.line(\n",
    "    df,\n",
    "    x=DF.overlap_rate,\n",
    "    y=DF.match_ratio_ci,\n",
    "    color=RF.suite,\n",
    "    facet_col=DF.env,\n",
    "    markers=True,\n",
    ")"
   ]
  },
  {
   "attachments": {},
   "cell_type": "markdown",
   "metadata": {},
   "source": [
    "### Select minimum overlap ratio to `0.4`"
   ]
  },
  {
   "cell_type": "code",
   "execution_count": 25,
   "metadata": {},
   "outputs": [
    {
     "data": {
      "text/html": [
       "<div>\n",
       "<style scoped>\n",
       "    .dataframe tbody tr th:only-of-type {\n",
       "        vertical-align: middle;\n",
       "    }\n",
       "\n",
       "    .dataframe tbody tr th {\n",
       "        vertical-align: top;\n",
       "    }\n",
       "\n",
       "    .dataframe thead th {\n",
       "        text-align: right;\n",
       "    }\n",
       "</style>\n",
       "<table border=\"1\" class=\"dataframe\">\n",
       "  <thead>\n",
       "    <tr style=\"text-align: right;\">\n",
       "      <th></th>\n",
       "      <th>index</th>\n",
       "      <th>suite</th>\n",
       "      <th>benchmark</th>\n",
       "      <th>type</th>\n",
       "      <th>environment</th>\n",
       "      <th>lo</th>\n",
       "      <th>hi</th>\n",
       "      <th>err</th>\n",
       "      <th>mid</th>\n",
       "      <th>se</th>\n",
       "      <th>grand_mean</th>\n",
       "      <th>ci_width</th>\n",
       "      <th>minumum_overlap_ratio</th>\n",
       "      <th>err_ci</th>\n",
       "      <th>match_ci</th>\n",
       "    </tr>\n",
       "  </thead>\n",
       "  <tbody>\n",
       "    <tr>\n",
       "      <th>0</th>\n",
       "      <td>0</td>\n",
       "      <td>dacapo</td>\n",
       "      <td>avrora</td>\n",
       "      <td>seqn</td>\n",
       "      <td>AWS t3.medium</td>\n",
       "      <td>-3.533665e+07</td>\n",
       "      <td>1.070543e+07</td>\n",
       "      <td>2.302104e+07</td>\n",
       "      <td>-1.231561e+07</td>\n",
       "      <td>1.151643e+07</td>\n",
       "      <td>4.163510e+09</td>\n",
       "      <td>0.011058</td>\n",
       "      <td>NaN</td>\n",
       "      <td>0.000000e+00</td>\n",
       "      <td>True</td>\n",
       "    </tr>\n",
       "    <tr>\n",
       "      <th>1</th>\n",
       "      <td>1</td>\n",
       "      <td>dacapo</td>\n",
       "      <td>avrora</td>\n",
       "      <td>seqn</td>\n",
       "      <td>bare-metal</td>\n",
       "      <td>-2.494884e+06</td>\n",
       "      <td>2.053752e+07</td>\n",
       "      <td>1.151620e+07</td>\n",
       "      <td>9.021317e+06</td>\n",
       "      <td>5.695647e+06</td>\n",
       "      <td>3.084214e+09</td>\n",
       "      <td>0.007468</td>\n",
       "      <td>NaN</td>\n",
       "      <td>0.000000e+00</td>\n",
       "      <td>True</td>\n",
       "    </tr>\n",
       "    <tr>\n",
       "      <th>2</th>\n",
       "      <td>2</td>\n",
       "      <td>dacapo</td>\n",
       "      <td>avrora</td>\n",
       "      <td>seqn</td>\n",
       "      <td>shared-vm</td>\n",
       "      <td>-3.611791e+07</td>\n",
       "      <td>5.512028e+07</td>\n",
       "      <td>4.561910e+07</td>\n",
       "      <td>9.501187e+06</td>\n",
       "      <td>2.211577e+07</td>\n",
       "      <td>4.555183e+09</td>\n",
       "      <td>0.020030</td>\n",
       "      <td>NaN</td>\n",
       "      <td>0.000000e+00</td>\n",
       "      <td>True</td>\n",
       "    </tr>\n",
       "    <tr>\n",
       "      <th>3</th>\n",
       "      <td>3</td>\n",
       "      <td>dacapo</td>\n",
       "      <td>avrora</td>\n",
       "      <td>syncduet</td>\n",
       "      <td>AWS t3.medium</td>\n",
       "      <td>3.550402e+06</td>\n",
       "      <td>7.366091e+07</td>\n",
       "      <td>3.505525e+07</td>\n",
       "      <td>3.860566e+07</td>\n",
       "      <td>1.653485e+07</td>\n",
       "      <td>5.866218e+09</td>\n",
       "      <td>0.011952</td>\n",
       "      <td>NaN</td>\n",
       "      <td>3.550402e+06</td>\n",
       "      <td>False</td>\n",
       "    </tr>\n",
       "    <tr>\n",
       "      <th>4</th>\n",
       "      <td>4</td>\n",
       "      <td>dacapo</td>\n",
       "      <td>avrora</td>\n",
       "      <td>syncduet</td>\n",
       "      <td>bare-metal</td>\n",
       "      <td>-9.708846e+06</td>\n",
       "      <td>6.217225e+06</td>\n",
       "      <td>7.963035e+06</td>\n",
       "      <td>-1.745811e+06</td>\n",
       "      <td>4.053109e+06</td>\n",
       "      <td>3.280338e+09</td>\n",
       "      <td>0.004855</td>\n",
       "      <td>NaN</td>\n",
       "      <td>0.000000e+00</td>\n",
       "      <td>True</td>\n",
       "    </tr>\n",
       "    <tr>\n",
       "      <th>...</th>\n",
       "      <td>...</td>\n",
       "      <td>...</td>\n",
       "      <td>...</td>\n",
       "      <td>...</td>\n",
       "      <td>...</td>\n",
       "      <td>...</td>\n",
       "      <td>...</td>\n",
       "      <td>...</td>\n",
       "      <td>...</td>\n",
       "      <td>...</td>\n",
       "      <td>...</td>\n",
       "      <td>...</td>\n",
       "      <td>...</td>\n",
       "      <td>...</td>\n",
       "      <td>...</td>\n",
       "    </tr>\n",
       "    <tr>\n",
       "      <th>1065</th>\n",
       "      <td>190</td>\n",
       "      <td>speccpu</td>\n",
       "      <td>549_fotonik3d_r</td>\n",
       "      <td>duet</td>\n",
       "      <td>bare-metal</td>\n",
       "      <td>-1.147782e+08</td>\n",
       "      <td>-1.071596e+07</td>\n",
       "      <td>5.203113e+07</td>\n",
       "      <td>-6.274709e+07</td>\n",
       "      <td>2.591516e+07</td>\n",
       "      <td>4.160210e+11</td>\n",
       "      <td>0.000250</td>\n",
       "      <td>0.4</td>\n",
       "      <td>-1.147782e+08</td>\n",
       "      <td>False</td>\n",
       "    </tr>\n",
       "    <tr>\n",
       "      <th>1066</th>\n",
       "      <td>191</td>\n",
       "      <td>speccpu</td>\n",
       "      <td>554_roms_r</td>\n",
       "      <td>duet</td>\n",
       "      <td>AWS t3.medium</td>\n",
       "      <td>-1.258556e+08</td>\n",
       "      <td>9.285631e+07</td>\n",
       "      <td>1.093559e+08</td>\n",
       "      <td>-1.649963e+07</td>\n",
       "      <td>5.248778e+07</td>\n",
       "      <td>4.842515e+11</td>\n",
       "      <td>0.000452</td>\n",
       "      <td>0.4</td>\n",
       "      <td>0.000000e+00</td>\n",
       "      <td>True</td>\n",
       "    </tr>\n",
       "    <tr>\n",
       "      <th>1067</th>\n",
       "      <td>192</td>\n",
       "      <td>speccpu</td>\n",
       "      <td>554_roms_r</td>\n",
       "      <td>duet</td>\n",
       "      <td>bare-metal</td>\n",
       "      <td>-7.746519e+08</td>\n",
       "      <td>1.506833e+08</td>\n",
       "      <td>4.626676e+08</td>\n",
       "      <td>-3.119843e+08</td>\n",
       "      <td>2.343789e+08</td>\n",
       "      <td>2.406419e+11</td>\n",
       "      <td>0.003845</td>\n",
       "      <td>0.4</td>\n",
       "      <td>0.000000e+00</td>\n",
       "      <td>True</td>\n",
       "    </tr>\n",
       "    <tr>\n",
       "      <th>1068</th>\n",
       "      <td>193</td>\n",
       "      <td>speccpu</td>\n",
       "      <td>557_xz_r</td>\n",
       "      <td>duet</td>\n",
       "      <td>AWS t3.medium</td>\n",
       "      <td>7.920257e+07</td>\n",
       "      <td>7.376643e+08</td>\n",
       "      <td>3.292308e+08</td>\n",
       "      <td>4.084334e+08</td>\n",
       "      <td>1.584903e+08</td>\n",
       "      <td>6.798125e+11</td>\n",
       "      <td>0.000969</td>\n",
       "      <td>0.4</td>\n",
       "      <td>7.920257e+07</td>\n",
       "      <td>False</td>\n",
       "    </tr>\n",
       "    <tr>\n",
       "      <th>1069</th>\n",
       "      <td>194</td>\n",
       "      <td>speccpu</td>\n",
       "      <td>557_xz_r</td>\n",
       "      <td>duet</td>\n",
       "      <td>bare-metal</td>\n",
       "      <td>-2.409133e+08</td>\n",
       "      <td>6.566213e+08</td>\n",
       "      <td>4.487673e+08</td>\n",
       "      <td>2.078540e+08</td>\n",
       "      <td>2.314032e+08</td>\n",
       "      <td>3.834716e+11</td>\n",
       "      <td>0.002341</td>\n",
       "      <td>0.4</td>\n",
       "      <td>0.000000e+00</td>\n",
       "      <td>True</td>\n",
       "    </tr>\n",
       "  </tbody>\n",
       "</table>\n",
       "<p>485 rows × 15 columns</p>\n",
       "</div>"
      ],
      "text/plain": [
       "      index    suite        benchmark      type    environment            lo  \\\n",
       "0         0   dacapo           avrora      seqn  AWS t3.medium -3.533665e+07   \n",
       "1         1   dacapo           avrora      seqn     bare-metal -2.494884e+06   \n",
       "2         2   dacapo           avrora      seqn      shared-vm -3.611791e+07   \n",
       "3         3   dacapo           avrora  syncduet  AWS t3.medium  3.550402e+06   \n",
       "4         4   dacapo           avrora  syncduet     bare-metal -9.708846e+06   \n",
       "...     ...      ...              ...       ...            ...           ...   \n",
       "1065    190  speccpu  549_fotonik3d_r      duet     bare-metal -1.147782e+08   \n",
       "1066    191  speccpu       554_roms_r      duet  AWS t3.medium -1.258556e+08   \n",
       "1067    192  speccpu       554_roms_r      duet     bare-metal -7.746519e+08   \n",
       "1068    193  speccpu         557_xz_r      duet  AWS t3.medium  7.920257e+07   \n",
       "1069    194  speccpu         557_xz_r      duet     bare-metal -2.409133e+08   \n",
       "\n",
       "                hi           err           mid            se    grand_mean  \\\n",
       "0     1.070543e+07  2.302104e+07 -1.231561e+07  1.151643e+07  4.163510e+09   \n",
       "1     2.053752e+07  1.151620e+07  9.021317e+06  5.695647e+06  3.084214e+09   \n",
       "2     5.512028e+07  4.561910e+07  9.501187e+06  2.211577e+07  4.555183e+09   \n",
       "3     7.366091e+07  3.505525e+07  3.860566e+07  1.653485e+07  5.866218e+09   \n",
       "4     6.217225e+06  7.963035e+06 -1.745811e+06  4.053109e+06  3.280338e+09   \n",
       "...            ...           ...           ...           ...           ...   \n",
       "1065 -1.071596e+07  5.203113e+07 -6.274709e+07  2.591516e+07  4.160210e+11   \n",
       "1066  9.285631e+07  1.093559e+08 -1.649963e+07  5.248778e+07  4.842515e+11   \n",
       "1067  1.506833e+08  4.626676e+08 -3.119843e+08  2.343789e+08  2.406419e+11   \n",
       "1068  7.376643e+08  3.292308e+08  4.084334e+08  1.584903e+08  6.798125e+11   \n",
       "1069  6.566213e+08  4.487673e+08  2.078540e+08  2.314032e+08  3.834716e+11   \n",
       "\n",
       "      ci_width  minumum_overlap_ratio        err_ci  match_ci  \n",
       "0     0.011058                    NaN  0.000000e+00      True  \n",
       "1     0.007468                    NaN  0.000000e+00      True  \n",
       "2     0.020030                    NaN  0.000000e+00      True  \n",
       "3     0.011952                    NaN  3.550402e+06     False  \n",
       "4     0.004855                    NaN  0.000000e+00      True  \n",
       "...        ...                    ...           ...       ...  \n",
       "1065  0.000250                    0.4 -1.147782e+08     False  \n",
       "1066  0.000452                    0.4  0.000000e+00      True  \n",
       "1067  0.003845                    0.4  0.000000e+00      True  \n",
       "1068  0.000969                    0.4  7.920257e+07     False  \n",
       "1069  0.002341                    0.4  0.000000e+00      True  \n",
       "\n",
       "[485 rows x 15 columns]"
      ]
     },
     "execution_count": 25,
     "metadata": {},
     "output_type": "execute_result"
    }
   ],
   "source": [
    "df_ci = df_overlap_match[\n",
    "    df_overlap_match[DF.overlap_rate].isnull()\n",
    "    | df_overlap_match[DF.overlap_rate].isin([0.4])\n",
    "]\n",
    "df_ci"
   ]
  },
  {
   "attachments": {},
   "cell_type": "markdown",
   "metadata": {},
   "source": [
    "### CI test"
   ]
  },
  {
   "cell_type": "code",
   "execution_count": 26,
   "metadata": {},
   "outputs": [
    {
     "name": "stderr",
     "output_type": "stream",
     "text": [
      "/Users/tdrozdik/school/asynchronous-duet/duet/process.py:357: SettingWithCopyWarning:\n",
      "\n",
      "\n",
      "A value is trying to be set on a copy of a slice from a DataFrame.\n",
      "Try using .loc[row_indexer,col_indexer] = value instead\n",
      "\n",
      "See the caveats in the documentation: https://pandas.pydata.org/pandas-docs/stable/user_guide/indexing.html#returning-a-view-versus-a-copy\n",
      "\n",
      "/Users/tdrozdik/school/asynchronous-duet/duet/process.py:360: SettingWithCopyWarning:\n",
      "\n",
      "\n",
      "A value is trying to be set on a copy of a slice from a DataFrame.\n",
      "Try using .loc[row_indexer,col_indexer] = value instead\n",
      "\n",
      "See the caveats in the documentation: https://pandas.pydata.org/pandas-docs/stable/user_guide/indexing.html#returning-a-view-versus-a-copy\n",
      "\n"
     ]
    },
    {
     "data": {
      "application/vnd.plotly.v1+json": {
       "config": {
        "plotlyServerURL": "https://plot.ly"
       },
       "data": [
        {
         "alignmentgroup": "True",
         "hovertemplate": "type=duet<br>environment=AWS t3.medium<br>suite=%{x}<br>match_ci_%=%{y}<extra></extra>",
         "legendgroup": "duet",
         "marker": {
          "color": "#636efa",
          "pattern": {
           "shape": ""
          }
         },
         "name": "duet",
         "offsetgroup": "duet",
         "orientation": "v",
         "showlegend": true,
         "textposition": "auto",
         "type": "bar",
         "x": [
          "dacapo",
          "renaissance",
          "scalabench",
          "speccpu"
         ],
         "xaxis": "x",
         "y": [
          1,
          0.9583333333333334,
          1,
          0.8125
         ],
         "yaxis": "y"
        },
        {
         "alignmentgroup": "True",
         "hovertemplate": "type=duet<br>environment=bare-metal<br>suite=%{x}<br>match_ci_%=%{y}<extra></extra>",
         "legendgroup": "duet",
         "marker": {
          "color": "#636efa",
          "pattern": {
           "shape": ""
          }
         },
         "name": "duet",
         "offsetgroup": "duet",
         "orientation": "v",
         "showlegend": false,
         "textposition": "auto",
         "type": "bar",
         "x": [
          "dacapo",
          "renaissance",
          "scalabench",
          "speccpu"
         ],
         "xaxis": "x2",
         "y": [
          1,
          0.8695652173913043,
          0.9523809523809523,
          0.8125
         ],
         "yaxis": "y2"
        },
        {
         "alignmentgroup": "True",
         "hovertemplate": "type=duet<br>environment=shared-vm<br>suite=%{x}<br>match_ci_%=%{y}<extra></extra>",
         "legendgroup": "duet",
         "marker": {
          "color": "#636efa",
          "pattern": {
           "shape": ""
          }
         },
         "name": "duet",
         "offsetgroup": "duet",
         "orientation": "v",
         "showlegend": false,
         "textposition": "auto",
         "type": "bar",
         "x": [
          "dacapo",
          "renaissance",
          "scalabench"
         ],
         "xaxis": "x3",
         "y": [
          1,
          0.9565217391304348,
          0.8095238095238095
         ],
         "yaxis": "y3"
        },
        {
         "alignmentgroup": "True",
         "hovertemplate": "type=seqn<br>environment=AWS t3.medium<br>suite=%{x}<br>match_ci_%=%{y}<extra></extra>",
         "legendgroup": "seqn",
         "marker": {
          "color": "#EF553B",
          "pattern": {
           "shape": ""
          }
         },
         "name": "seqn",
         "offsetgroup": "seqn",
         "orientation": "v",
         "showlegend": true,
         "textposition": "auto",
         "type": "bar",
         "x": [
          "dacapo",
          "renaissance",
          "scalabench",
          "speccpu"
         ],
         "xaxis": "x",
         "y": [
          0.9,
          0.9583333333333334,
          1,
          0.75
         ],
         "yaxis": "y"
        },
        {
         "alignmentgroup": "True",
         "hovertemplate": "type=seqn<br>environment=bare-metal<br>suite=%{x}<br>match_ci_%=%{y}<extra></extra>",
         "legendgroup": "seqn",
         "marker": {
          "color": "#EF553B",
          "pattern": {
           "shape": ""
          }
         },
         "name": "seqn",
         "offsetgroup": "seqn",
         "orientation": "v",
         "showlegend": false,
         "textposition": "auto",
         "type": "bar",
         "x": [
          "dacapo",
          "renaissance",
          "scalabench",
          "speccpu"
         ],
         "xaxis": "x2",
         "y": [
          0.8,
          0.9583333333333334,
          0.8571428571428571,
          0.875
         ],
         "yaxis": "y2"
        },
        {
         "alignmentgroup": "True",
         "hovertemplate": "type=seqn<br>environment=shared-vm<br>suite=%{x}<br>match_ci_%=%{y}<extra></extra>",
         "legendgroup": "seqn",
         "marker": {
          "color": "#EF553B",
          "pattern": {
           "shape": ""
          }
         },
         "name": "seqn",
         "offsetgroup": "seqn",
         "orientation": "v",
         "showlegend": false,
         "textposition": "auto",
         "type": "bar",
         "x": [
          "dacapo",
          "renaissance",
          "scalabench"
         ],
         "xaxis": "x3",
         "y": [
          0.9,
          0.9166666666666666,
          0.9047619047619048
         ],
         "yaxis": "y3"
        },
        {
         "alignmentgroup": "True",
         "hovertemplate": "type=syncduet<br>environment=AWS t3.medium<br>suite=%{x}<br>match_ci_%=%{y}<extra></extra>",
         "legendgroup": "syncduet",
         "marker": {
          "color": "#00cc96",
          "pattern": {
           "shape": ""
          }
         },
         "name": "syncduet",
         "offsetgroup": "syncduet",
         "orientation": "v",
         "showlegend": true,
         "textposition": "auto",
         "type": "bar",
         "x": [
          "dacapo",
          "scalabench"
         ],
         "xaxis": "x",
         "y": [
          0.9,
          1
         ],
         "yaxis": "y"
        },
        {
         "alignmentgroup": "True",
         "hovertemplate": "type=syncduet<br>environment=bare-metal<br>suite=%{x}<br>match_ci_%=%{y}<extra></extra>",
         "legendgroup": "syncduet",
         "marker": {
          "color": "#00cc96",
          "pattern": {
           "shape": ""
          }
         },
         "name": "syncduet",
         "offsetgroup": "syncduet",
         "orientation": "v",
         "showlegend": false,
         "textposition": "auto",
         "type": "bar",
         "x": [
          "dacapo",
          "scalabench"
         ],
         "xaxis": "x2",
         "y": [
          0.9,
          0.9523809523809523
         ],
         "yaxis": "y2"
        },
        {
         "alignmentgroup": "True",
         "hovertemplate": "type=syncduet<br>environment=shared-vm<br>suite=%{x}<br>match_ci_%=%{y}<extra></extra>",
         "legendgroup": "syncduet",
         "marker": {
          "color": "#00cc96",
          "pattern": {
           "shape": ""
          }
         },
         "name": "syncduet",
         "offsetgroup": "syncduet",
         "orientation": "v",
         "showlegend": false,
         "textposition": "auto",
         "type": "bar",
         "x": [
          "dacapo",
          "scalabench"
         ],
         "xaxis": "x3",
         "y": [
          0.8,
          0.8095238095238095
         ],
         "yaxis": "y3"
        }
       ],
       "layout": {
        "annotations": [
         {
          "font": {},
          "showarrow": false,
          "text": "environment=AWS t3.medium",
          "x": 0.15999999999999998,
          "xanchor": "center",
          "xref": "paper",
          "y": 1,
          "yanchor": "bottom",
          "yref": "paper"
         },
         {
          "font": {},
          "showarrow": false,
          "text": "environment=bare-metal",
          "x": 0.49999999999999994,
          "xanchor": "center",
          "xref": "paper",
          "y": 1,
          "yanchor": "bottom",
          "yref": "paper"
         },
         {
          "font": {},
          "showarrow": false,
          "text": "environment=shared-vm",
          "x": 0.8399999999999999,
          "xanchor": "center",
          "xref": "paper",
          "y": 1,
          "yanchor": "bottom",
          "yref": "paper"
         }
        ],
        "barmode": "group",
        "legend": {
         "title": {
          "text": "type"
         },
         "tracegroupgap": 0
        },
        "margin": {
         "t": 60
        },
        "template": {
         "data": {
          "bar": [
           {
            "error_x": {
             "color": "#2a3f5f"
            },
            "error_y": {
             "color": "#2a3f5f"
            },
            "marker": {
             "line": {
              "color": "#E5ECF6",
              "width": 0.5
             },
             "pattern": {
              "fillmode": "overlay",
              "size": 10,
              "solidity": 0.2
             }
            },
            "type": "bar"
           }
          ],
          "barpolar": [
           {
            "marker": {
             "line": {
              "color": "#E5ECF6",
              "width": 0.5
             },
             "pattern": {
              "fillmode": "overlay",
              "size": 10,
              "solidity": 0.2
             }
            },
            "type": "barpolar"
           }
          ],
          "carpet": [
           {
            "aaxis": {
             "endlinecolor": "#2a3f5f",
             "gridcolor": "white",
             "linecolor": "white",
             "minorgridcolor": "white",
             "startlinecolor": "#2a3f5f"
            },
            "baxis": {
             "endlinecolor": "#2a3f5f",
             "gridcolor": "white",
             "linecolor": "white",
             "minorgridcolor": "white",
             "startlinecolor": "#2a3f5f"
            },
            "type": "carpet"
           }
          ],
          "choropleth": [
           {
            "colorbar": {
             "outlinewidth": 0,
             "ticks": ""
            },
            "type": "choropleth"
           }
          ],
          "contour": [
           {
            "colorbar": {
             "outlinewidth": 0,
             "ticks": ""
            },
            "colorscale": [
             [
              0,
              "#0d0887"
             ],
             [
              0.1111111111111111,
              "#46039f"
             ],
             [
              0.2222222222222222,
              "#7201a8"
             ],
             [
              0.3333333333333333,
              "#9c179e"
             ],
             [
              0.4444444444444444,
              "#bd3786"
             ],
             [
              0.5555555555555556,
              "#d8576b"
             ],
             [
              0.6666666666666666,
              "#ed7953"
             ],
             [
              0.7777777777777778,
              "#fb9f3a"
             ],
             [
              0.8888888888888888,
              "#fdca26"
             ],
             [
              1,
              "#f0f921"
             ]
            ],
            "type": "contour"
           }
          ],
          "contourcarpet": [
           {
            "colorbar": {
             "outlinewidth": 0,
             "ticks": ""
            },
            "type": "contourcarpet"
           }
          ],
          "heatmap": [
           {
            "colorbar": {
             "outlinewidth": 0,
             "ticks": ""
            },
            "colorscale": [
             [
              0,
              "#0d0887"
             ],
             [
              0.1111111111111111,
              "#46039f"
             ],
             [
              0.2222222222222222,
              "#7201a8"
             ],
             [
              0.3333333333333333,
              "#9c179e"
             ],
             [
              0.4444444444444444,
              "#bd3786"
             ],
             [
              0.5555555555555556,
              "#d8576b"
             ],
             [
              0.6666666666666666,
              "#ed7953"
             ],
             [
              0.7777777777777778,
              "#fb9f3a"
             ],
             [
              0.8888888888888888,
              "#fdca26"
             ],
             [
              1,
              "#f0f921"
             ]
            ],
            "type": "heatmap"
           }
          ],
          "heatmapgl": [
           {
            "colorbar": {
             "outlinewidth": 0,
             "ticks": ""
            },
            "colorscale": [
             [
              0,
              "#0d0887"
             ],
             [
              0.1111111111111111,
              "#46039f"
             ],
             [
              0.2222222222222222,
              "#7201a8"
             ],
             [
              0.3333333333333333,
              "#9c179e"
             ],
             [
              0.4444444444444444,
              "#bd3786"
             ],
             [
              0.5555555555555556,
              "#d8576b"
             ],
             [
              0.6666666666666666,
              "#ed7953"
             ],
             [
              0.7777777777777778,
              "#fb9f3a"
             ],
             [
              0.8888888888888888,
              "#fdca26"
             ],
             [
              1,
              "#f0f921"
             ]
            ],
            "type": "heatmapgl"
           }
          ],
          "histogram": [
           {
            "marker": {
             "pattern": {
              "fillmode": "overlay",
              "size": 10,
              "solidity": 0.2
             }
            },
            "type": "histogram"
           }
          ],
          "histogram2d": [
           {
            "colorbar": {
             "outlinewidth": 0,
             "ticks": ""
            },
            "colorscale": [
             [
              0,
              "#0d0887"
             ],
             [
              0.1111111111111111,
              "#46039f"
             ],
             [
              0.2222222222222222,
              "#7201a8"
             ],
             [
              0.3333333333333333,
              "#9c179e"
             ],
             [
              0.4444444444444444,
              "#bd3786"
             ],
             [
              0.5555555555555556,
              "#d8576b"
             ],
             [
              0.6666666666666666,
              "#ed7953"
             ],
             [
              0.7777777777777778,
              "#fb9f3a"
             ],
             [
              0.8888888888888888,
              "#fdca26"
             ],
             [
              1,
              "#f0f921"
             ]
            ],
            "type": "histogram2d"
           }
          ],
          "histogram2dcontour": [
           {
            "colorbar": {
             "outlinewidth": 0,
             "ticks": ""
            },
            "colorscale": [
             [
              0,
              "#0d0887"
             ],
             [
              0.1111111111111111,
              "#46039f"
             ],
             [
              0.2222222222222222,
              "#7201a8"
             ],
             [
              0.3333333333333333,
              "#9c179e"
             ],
             [
              0.4444444444444444,
              "#bd3786"
             ],
             [
              0.5555555555555556,
              "#d8576b"
             ],
             [
              0.6666666666666666,
              "#ed7953"
             ],
             [
              0.7777777777777778,
              "#fb9f3a"
             ],
             [
              0.8888888888888888,
              "#fdca26"
             ],
             [
              1,
              "#f0f921"
             ]
            ],
            "type": "histogram2dcontour"
           }
          ],
          "mesh3d": [
           {
            "colorbar": {
             "outlinewidth": 0,
             "ticks": ""
            },
            "type": "mesh3d"
           }
          ],
          "parcoords": [
           {
            "line": {
             "colorbar": {
              "outlinewidth": 0,
              "ticks": ""
             }
            },
            "type": "parcoords"
           }
          ],
          "pie": [
           {
            "automargin": true,
            "type": "pie"
           }
          ],
          "scatter": [
           {
            "fillpattern": {
             "fillmode": "overlay",
             "size": 10,
             "solidity": 0.2
            },
            "type": "scatter"
           }
          ],
          "scatter3d": [
           {
            "line": {
             "colorbar": {
              "outlinewidth": 0,
              "ticks": ""
             }
            },
            "marker": {
             "colorbar": {
              "outlinewidth": 0,
              "ticks": ""
             }
            },
            "type": "scatter3d"
           }
          ],
          "scattercarpet": [
           {
            "marker": {
             "colorbar": {
              "outlinewidth": 0,
              "ticks": ""
             }
            },
            "type": "scattercarpet"
           }
          ],
          "scattergeo": [
           {
            "marker": {
             "colorbar": {
              "outlinewidth": 0,
              "ticks": ""
             }
            },
            "type": "scattergeo"
           }
          ],
          "scattergl": [
           {
            "marker": {
             "colorbar": {
              "outlinewidth": 0,
              "ticks": ""
             }
            },
            "type": "scattergl"
           }
          ],
          "scattermapbox": [
           {
            "marker": {
             "colorbar": {
              "outlinewidth": 0,
              "ticks": ""
             }
            },
            "type": "scattermapbox"
           }
          ],
          "scatterpolar": [
           {
            "marker": {
             "colorbar": {
              "outlinewidth": 0,
              "ticks": ""
             }
            },
            "type": "scatterpolar"
           }
          ],
          "scatterpolargl": [
           {
            "marker": {
             "colorbar": {
              "outlinewidth": 0,
              "ticks": ""
             }
            },
            "type": "scatterpolargl"
           }
          ],
          "scatterternary": [
           {
            "marker": {
             "colorbar": {
              "outlinewidth": 0,
              "ticks": ""
             }
            },
            "type": "scatterternary"
           }
          ],
          "surface": [
           {
            "colorbar": {
             "outlinewidth": 0,
             "ticks": ""
            },
            "colorscale": [
             [
              0,
              "#0d0887"
             ],
             [
              0.1111111111111111,
              "#46039f"
             ],
             [
              0.2222222222222222,
              "#7201a8"
             ],
             [
              0.3333333333333333,
              "#9c179e"
             ],
             [
              0.4444444444444444,
              "#bd3786"
             ],
             [
              0.5555555555555556,
              "#d8576b"
             ],
             [
              0.6666666666666666,
              "#ed7953"
             ],
             [
              0.7777777777777778,
              "#fb9f3a"
             ],
             [
              0.8888888888888888,
              "#fdca26"
             ],
             [
              1,
              "#f0f921"
             ]
            ],
            "type": "surface"
           }
          ],
          "table": [
           {
            "cells": {
             "fill": {
              "color": "#EBF0F8"
             },
             "line": {
              "color": "white"
             }
            },
            "header": {
             "fill": {
              "color": "#C8D4E3"
             },
             "line": {
              "color": "white"
             }
            },
            "type": "table"
           }
          ]
         },
         "layout": {
          "annotationdefaults": {
           "arrowcolor": "#2a3f5f",
           "arrowhead": 0,
           "arrowwidth": 1
          },
          "autotypenumbers": "strict",
          "coloraxis": {
           "colorbar": {
            "outlinewidth": 0,
            "ticks": ""
           }
          },
          "colorscale": {
           "diverging": [
            [
             0,
             "#8e0152"
            ],
            [
             0.1,
             "#c51b7d"
            ],
            [
             0.2,
             "#de77ae"
            ],
            [
             0.3,
             "#f1b6da"
            ],
            [
             0.4,
             "#fde0ef"
            ],
            [
             0.5,
             "#f7f7f7"
            ],
            [
             0.6,
             "#e6f5d0"
            ],
            [
             0.7,
             "#b8e186"
            ],
            [
             0.8,
             "#7fbc41"
            ],
            [
             0.9,
             "#4d9221"
            ],
            [
             1,
             "#276419"
            ]
           ],
           "sequential": [
            [
             0,
             "#0d0887"
            ],
            [
             0.1111111111111111,
             "#46039f"
            ],
            [
             0.2222222222222222,
             "#7201a8"
            ],
            [
             0.3333333333333333,
             "#9c179e"
            ],
            [
             0.4444444444444444,
             "#bd3786"
            ],
            [
             0.5555555555555556,
             "#d8576b"
            ],
            [
             0.6666666666666666,
             "#ed7953"
            ],
            [
             0.7777777777777778,
             "#fb9f3a"
            ],
            [
             0.8888888888888888,
             "#fdca26"
            ],
            [
             1,
             "#f0f921"
            ]
           ],
           "sequentialminus": [
            [
             0,
             "#0d0887"
            ],
            [
             0.1111111111111111,
             "#46039f"
            ],
            [
             0.2222222222222222,
             "#7201a8"
            ],
            [
             0.3333333333333333,
             "#9c179e"
            ],
            [
             0.4444444444444444,
             "#bd3786"
            ],
            [
             0.5555555555555556,
             "#d8576b"
            ],
            [
             0.6666666666666666,
             "#ed7953"
            ],
            [
             0.7777777777777778,
             "#fb9f3a"
            ],
            [
             0.8888888888888888,
             "#fdca26"
            ],
            [
             1,
             "#f0f921"
            ]
           ]
          },
          "colorway": [
           "#636efa",
           "#EF553B",
           "#00cc96",
           "#ab63fa",
           "#FFA15A",
           "#19d3f3",
           "#FF6692",
           "#B6E880",
           "#FF97FF",
           "#FECB52"
          ],
          "font": {
           "color": "#2a3f5f"
          },
          "geo": {
           "bgcolor": "white",
           "lakecolor": "white",
           "landcolor": "#E5ECF6",
           "showlakes": true,
           "showland": true,
           "subunitcolor": "white"
          },
          "hoverlabel": {
           "align": "left"
          },
          "hovermode": "closest",
          "mapbox": {
           "style": "light"
          },
          "paper_bgcolor": "white",
          "plot_bgcolor": "#E5ECF6",
          "polar": {
           "angularaxis": {
            "gridcolor": "white",
            "linecolor": "white",
            "ticks": ""
           },
           "bgcolor": "#E5ECF6",
           "radialaxis": {
            "gridcolor": "white",
            "linecolor": "white",
            "ticks": ""
           }
          },
          "scene": {
           "xaxis": {
            "backgroundcolor": "#E5ECF6",
            "gridcolor": "white",
            "gridwidth": 2,
            "linecolor": "white",
            "showbackground": true,
            "ticks": "",
            "zerolinecolor": "white"
           },
           "yaxis": {
            "backgroundcolor": "#E5ECF6",
            "gridcolor": "white",
            "gridwidth": 2,
            "linecolor": "white",
            "showbackground": true,
            "ticks": "",
            "zerolinecolor": "white"
           },
           "zaxis": {
            "backgroundcolor": "#E5ECF6",
            "gridcolor": "white",
            "gridwidth": 2,
            "linecolor": "white",
            "showbackground": true,
            "ticks": "",
            "zerolinecolor": "white"
           }
          },
          "shapedefaults": {
           "line": {
            "color": "#2a3f5f"
           }
          },
          "ternary": {
           "aaxis": {
            "gridcolor": "white",
            "linecolor": "white",
            "ticks": ""
           },
           "baxis": {
            "gridcolor": "white",
            "linecolor": "white",
            "ticks": ""
           },
           "bgcolor": "#E5ECF6",
           "caxis": {
            "gridcolor": "white",
            "linecolor": "white",
            "ticks": ""
           }
          },
          "title": {
           "x": 0.05
          },
          "xaxis": {
           "automargin": true,
           "gridcolor": "white",
           "linecolor": "white",
           "ticks": "",
           "title": {
            "standoff": 15
           },
           "zerolinecolor": "white",
           "zerolinewidth": 2
          },
          "yaxis": {
           "automargin": true,
           "gridcolor": "white",
           "linecolor": "white",
           "ticks": "",
           "title": {
            "standoff": 15
           },
           "zerolinecolor": "white",
           "zerolinewidth": 2
          }
         }
        },
        "xaxis": {
         "anchor": "y",
         "domain": [
          0,
          0.31999999999999995
         ],
         "title": {
          "text": "suite"
         }
        },
        "xaxis2": {
         "anchor": "y2",
         "domain": [
          0.33999999999999997,
          0.6599999999999999
         ],
         "matches": "x",
         "title": {
          "text": "suite"
         }
        },
        "xaxis3": {
         "anchor": "y3",
         "domain": [
          0.6799999999999999,
          0.9999999999999999
         ],
         "matches": "x",
         "title": {
          "text": "suite"
         }
        },
        "yaxis": {
         "anchor": "x",
         "domain": [
          0,
          1
         ],
         "title": {
          "text": "match_ci_%"
         }
        },
        "yaxis2": {
         "anchor": "x2",
         "domain": [
          0,
          1
         ],
         "matches": "y",
         "showticklabels": false
        },
        "yaxis3": {
         "anchor": "x3",
         "domain": [
          0,
          1
         ],
         "matches": "y",
         "showticklabels": false
        }
       }
      }
     },
     "metadata": {},
     "output_type": "display_data"
    }
   ],
   "source": [
    "df_pred_ci = arbiter_ci_contains_zero(df_ci)\n",
    "df = group_predictions(df_pred_ci, utest=False)\n",
    "px.bar(\n",
    "    df,\n",
    "    x=RF.suite,\n",
    "    y=DF.match_ratio_ci,\n",
    "    facet_col=DF.env,\n",
    "    color=RF.type,\n",
    "    barmode=\"group\",\n",
    ")"
   ]
  },
  {
   "cell_type": "code",
   "execution_count": 27,
   "metadata": {},
   "outputs": [
    {
     "data": {
      "application/vnd.plotly.v1+json": {
       "config": {
        "plotlyServerURL": "https://plot.ly"
       },
       "data": [
        {
         "error_y": {
          "array": [
           505520109.7703837,
           75461689.6000811,
           125206653.29849002,
           255627140.85598657,
           26493803.687574435,
           31671515.053547736,
           56157341.54023222,
           23274984.16628083,
           127684405.25247836,
           41272721.477536604,
           176223452.10406324,
           43899254.15703416,
           45471326.657344446,
           122029386.0264725,
           972782190.9477303,
           247732782.34161264,
           108097533.99349791,
           21020046.430322677,
           248132178.87179923,
           6387697.864997823,
           84923003.96886283,
           2985352.441186677,
           19842259.008369394,
           24744101.30322414
          ]
         },
         "hovertemplate": "type=seqn<br>environment=AWS t3.medium<br>benchmark=%{x}<br>mid=%{y}<extra></extra>",
         "legendgroup": "seqn",
         "marker": {
          "color": "#636efa",
          "symbol": "circle"
         },
         "mode": "markers",
         "name": "seqn",
         "orientation": "v",
         "showlegend": true,
         "type": "scatter",
         "x": [
          "akka-uct",
          "als",
          "chi-square",
          "db-shootout",
          "dec-tree",
          "dotty",
          "finagle-chirper",
          "finagle-http",
          "fj-kmeans",
          "future-genetic",
          "gauss-mix",
          "log-regression",
          "mnemonics",
          "movie-lens",
          "naive-bayes",
          "page-rank",
          "par-mnemonics",
          "philosophers",
          "reactors",
          "rx-scrabble",
          "scala-doku",
          "scala-kmeans",
          "scala-stm-bench7",
          "scrabble"
         ],
         "xaxis": "x",
         "y": [
          137855400.29822272,
          -3391975.9935533255,
          -95635308.56464007,
          -249993570.28055277,
          29741657.126526274,
          12240326.876012485,
          44315230.04427848,
          2694293.9480238855,
          -19931127.140149683,
          27513929.292129733,
          -23895484.096880704,
          -3009082.05325862,
          4948080.9566897005,
          60401794.75264617,
          -226797102.7035427,
          40168591.57412842,
          4436081.715359613,
          -18877351.2773213,
          -12850836.060778648,
          505131.4158966327,
          29677448.00784421,
          -2806938.0578943393,
          -6587007.874024976,
          5898622.516461186
         ],
         "yaxis": "y"
        },
        {
         "error_y": {
          "array": [
           480640162.97040594,
           16244951.359451476,
           18448291.799909286,
           67686186.24607101,
           8307411.599971039,
           5971687.199594095,
           19674744.868877694,
           8269623.625922644,
           114293435.71427433,
           8492908.483203914,
           70091334.93460456,
           7347221.507926794,
           91230165.78862937,
           41247814.097532436,
           415334681.831266,
           46147603.78223394,
           44201398.68282522,
           28095975.287869856,
           278845278.8585341,
           2471691.915068704,
           611069075.5460546,
           1927094.6624955183,
           9417361.43042205,
           21387842.06793074
          ]
         },
         "hovertemplate": "type=seqn<br>environment=bare-metal<br>benchmark=%{x}<br>mid=%{y}<extra></extra>",
         "legendgroup": "seqn",
         "marker": {
          "color": "#636efa",
          "symbol": "circle"
         },
         "mode": "markers",
         "name": "seqn",
         "orientation": "v",
         "showlegend": false,
         "type": "scatter",
         "x": [
          "akka-uct",
          "als",
          "chi-square",
          "db-shootout",
          "dec-tree",
          "dotty",
          "finagle-chirper",
          "finagle-http",
          "fj-kmeans",
          "future-genetic",
          "gauss-mix",
          "log-regression",
          "mnemonics",
          "movie-lens",
          "naive-bayes",
          "page-rank",
          "par-mnemonics",
          "philosophers",
          "reactors",
          "rx-scrabble",
          "scala-doku",
          "scala-kmeans",
          "scala-stm-bench7",
          "scrabble"
         ],
         "xaxis": "x2",
         "y": [
          330437899.2512855,
          4558677.183994258,
          -4402612.664480194,
          -9250526.743862122,
          2892488.1318057477,
          -2145419.3615714014,
          -9024595.078352932,
          -2732464.288726858,
          -55785033.86816557,
          4299399.88395429,
          12217807.901006445,
          -6453991.943452103,
          -54794396.324069396,
          -19893919.671240926,
          -67090295.023626626,
          -24982048.159965172,
          -35762018.92095284,
          -4127474.0674229227,
          18806732.1441828,
          1423092.2125157013,
          220297885.79665005,
          2085176.1359606008,
          -3880499.212564977,
          -4496594.100955352
         ],
         "yaxis": "y2"
        },
        {
         "error_y": {
          "array": [
           3557616971.411577,
           206676324.3587079,
           116514145.15990187,
           886861284.2051792,
           163808816.86755508,
           40690774.35909115,
           176985227.79270273,
           170384863.57715273,
           639676867.7596,
           102828081.42717801,
           535301173.58671916,
           129313076.29814121,
           256529287.36788648,
           1540217366.631484,
           5666165822.1813,
           1293682736.1356764,
           449239147.1965489,
           134410177.6325156,
           1173061318.191238,
           17649852.939164963,
           414014393.3607367,
           18277605.957242873,
           263541415.75978014,
           160130021.8735956
          ]
         },
         "hovertemplate": "type=seqn<br>environment=shared-vm<br>benchmark=%{x}<br>mid=%{y}<extra></extra>",
         "legendgroup": "seqn",
         "marker": {
          "color": "#636efa",
          "symbol": "circle"
         },
         "mode": "markers",
         "name": "seqn",
         "orientation": "v",
         "showlegend": false,
         "type": "scatter",
         "x": [
          "akka-uct",
          "als",
          "chi-square",
          "db-shootout",
          "dec-tree",
          "dotty",
          "finagle-chirper",
          "finagle-http",
          "fj-kmeans",
          "future-genetic",
          "gauss-mix",
          "log-regression",
          "mnemonics",
          "movie-lens",
          "naive-bayes",
          "page-rank",
          "par-mnemonics",
          "philosophers",
          "reactors",
          "rx-scrabble",
          "scala-doku",
          "scala-kmeans",
          "scala-stm-bench7",
          "scrabble"
         ],
         "xaxis": "x3",
         "y": [
          -3626077802.880661,
          243935145.11967236,
          82106646.58414473,
          -742944862.5820935,
          -120554169.7315551,
          15052805.992297318,
          -63839203.19459915,
          128992678.54390249,
          550966702.7600915,
          19911950.511276096,
          -73838210.56785631,
          -38926086.751230896,
          46632589.34389284,
          978917739.3196466,
          5206410545.055774,
          316517071.0761682,
          -439120624.9165489,
          116861169.65495837,
          -189227786.3331597,
          -12200208.53283504,
          -347446087.8727367,
          -959156.9179364629,
          -197525114.77985498,
          -46966803.332163185
         ],
         "yaxis": "y3"
        },
        {
         "error_y": {
          "array": [
           1422709703.09374,
           194810599.9250672,
           174930428.17611614,
           636398272.4093848,
           41863980.31920155,
           62264303.14603563,
           161903492.25469276,
           46462479.83639307,
           767935992.2928257,
           39585628.378834985,
           203497164.53797275,
           41407581.780972786,
           172748868.8600034,
           198705595.28338543,
           1407455049.40785,
           413959159.1157417,
           154453456.05858052,
           33333416.892337568,
           651776807.7750549,
           9247641.922147855,
           355797487.8487341,
           3479133.880091414,
           32404835.815747734,
           45383882.26441661
          ]
         },
         "hovertemplate": "type=duet<br>environment=AWS t3.medium<br>benchmark=%{x}<br>mid=%{y}<extra></extra>",
         "legendgroup": "duet",
         "marker": {
          "color": "#EF553B",
          "symbol": "circle"
         },
         "mode": "markers",
         "name": "duet",
         "orientation": "v",
         "showlegend": true,
         "type": "scatter",
         "x": [
          "akka-uct",
          "als",
          "chi-square",
          "db-shootout",
          "dec-tree",
          "dotty",
          "finagle-chirper",
          "finagle-http",
          "fj-kmeans",
          "future-genetic",
          "gauss-mix",
          "log-regression",
          "mnemonics",
          "movie-lens",
          "naive-bayes",
          "page-rank",
          "par-mnemonics",
          "philosophers",
          "reactors",
          "rx-scrabble",
          "scala-doku",
          "scala-kmeans",
          "scala-stm-bench7",
          "scrabble"
         ],
         "xaxis": "x",
         "y": [
          -224064123.15112448,
          164638559.81769273,
          -190081072.2914364,
          96457849.29920924,
          -2165952.511405453,
          54253296.94173567,
          -152801861.53819874,
          -1196350.9277138114,
          -129797826.43524075,
          -11153746.209510393,
          -7884396.680859745,
          35051480.59201787,
          -32595080.416784346,
          39259921.503821135,
          692116581.959263,
          39322728.393853605,
          22690799.345665023,
          -7167422.551082753,
          217286418.75670648,
          655642.6092857085,
          -131739240.43579644,
          -1279341.7013920015,
          26619483.76308134,
          -12220178.451052748
         ],
         "yaxis": "y"
        },
        {
         "error_y": {
          "array": [
           774702372.4093554,
           23403501.806199186,
           29806523.00445851,
           213207652.46468568,
           5418993.520295685,
           13490873.411276588,
           19444220.502007473,
           30873293.354708873,
           262253631.1411059,
           17603172.380054742,
           53129241.948267266,
           17955045.798996557,
           69842024.9049035,
           35521037.1424328,
           343225410.1293893,
           93976628.31105703,
           39222554.470602006,
           10978713.704432718,
           344902204.7726898,
           2316272.8874538583,
           662505335.8684036,
           1653669.800680622,
           20148542.25063087
          ]
         },
         "hovertemplate": "type=duet<br>environment=bare-metal<br>benchmark=%{x}<br>mid=%{y}<extra></extra>",
         "legendgroup": "duet",
         "marker": {
          "color": "#EF553B",
          "symbol": "circle"
         },
         "mode": "markers",
         "name": "duet",
         "orientation": "v",
         "showlegend": false,
         "type": "scatter",
         "x": [
          "akka-uct",
          "als",
          "chi-square",
          "db-shootout",
          "dec-tree",
          "dotty",
          "finagle-chirper",
          "finagle-http",
          "fj-kmeans",
          "future-genetic",
          "gauss-mix",
          "log-regression",
          "mnemonics",
          "movie-lens",
          "naive-bayes",
          "page-rank",
          "par-mnemonics",
          "philosophers",
          "reactors",
          "rx-scrabble",
          "scala-doku",
          "scala-kmeans",
          "scrabble"
         ],
         "xaxis": "x2",
         "y": [
          -61809271.67098236,
          2953135.62404456,
          -42845421.65336738,
          -78162022.7459405,
          -416403.09656697605,
          -12521766.353927007,
          19300864.333806943,
          -30396353.195727512,
          -285161545.7634058,
          8194363.205582181,
          -10163589.515010782,
          3510358.295970088,
          -5812568.792330921,
          20377899.34256977,
          -54991899.074362636,
          -46528935.6974262,
          6962504.653450396,
          12008327.272821812,
          -38044499.71076131,
          239045.79789428366,
          -636846145.8702732,
          1373412.8574722589,
          -10098337.304920834
         ],
         "yaxis": "y2"
        },
        {
         "error_y": {
          "array": [
           1618268702.0426664,
           306246431.2973269,
           107120817.5792502,
           950072540.9788499,
           48766404.457554504,
           27994515.150403034,
           166153730.28725502,
           137337542.0029179,
           1006407763.3927338,
           131117166.17254105,
           300952816.91261846,
           91207406.39454614,
           90906554.00876981,
           229216002.4447751,
           1391593359.6909592,
           356244352.7980114,
           99582422.10115254,
           68062650.49518856,
           1145558023.5526695,
           9439048.088842638,
           309423749.0112491,
           20204065.841215543,
           58803380.866001286
          ]
         },
         "hovertemplate": "type=duet<br>environment=shared-vm<br>benchmark=%{x}<br>mid=%{y}<extra></extra>",
         "legendgroup": "duet",
         "marker": {
          "color": "#EF553B",
          "symbol": "circle"
         },
         "mode": "markers",
         "name": "duet",
         "orientation": "v",
         "showlegend": false,
         "type": "scatter",
         "x": [
          "akka-uct",
          "als",
          "chi-square",
          "db-shootout",
          "dec-tree",
          "dotty",
          "finagle-chirper",
          "finagle-http",
          "fj-kmeans",
          "future-genetic",
          "gauss-mix",
          "log-regression",
          "mnemonics",
          "movie-lens",
          "naive-bayes",
          "page-rank",
          "par-mnemonics",
          "philosophers",
          "reactors",
          "rx-scrabble",
          "scala-doku",
          "scala-kmeans",
          "scrabble"
         ],
         "xaxis": "x3",
         "y": [
          242906670.22166634,
          -6376138.043811798,
          22423574.72499244,
          220882995.5489931,
          10293064.03708817,
          -29053387.721498605,
          -146589671.63655272,
          29409154.772199944,
          79544847.29111898,
          59020365.592212334,
          -17099289.253391147,
          54582381.96370978,
          -58851032.52972689,
          427230.0990228951,
          87157831.41758776,
          286409704.6977916,
          -6674092.482708111,
          42979406.106553756,
          205141666.60606074,
          2545707.797130771,
          47659178.977657944,
          2085324.0897408165,
          16146938.362436824
         ],
         "yaxis": "y3"
        }
       ],
       "layout": {
        "annotations": [
         {
          "font": {},
          "showarrow": false,
          "text": "environment=AWS t3.medium",
          "x": 0.15999999999999998,
          "xanchor": "center",
          "xref": "paper",
          "y": 1,
          "yanchor": "bottom",
          "yref": "paper"
         },
         {
          "font": {},
          "showarrow": false,
          "text": "environment=bare-metal",
          "x": 0.49999999999999994,
          "xanchor": "center",
          "xref": "paper",
          "y": 1,
          "yanchor": "bottom",
          "yref": "paper"
         },
         {
          "font": {},
          "showarrow": false,
          "text": "environment=shared-vm",
          "x": 0.8399999999999999,
          "xanchor": "center",
          "xref": "paper",
          "y": 1,
          "yanchor": "bottom",
          "yref": "paper"
         }
        ],
        "legend": {
         "title": {
          "text": "type"
         },
         "tracegroupgap": 0
        },
        "template": {
         "data": {
          "bar": [
           {
            "error_x": {
             "color": "#2a3f5f"
            },
            "error_y": {
             "color": "#2a3f5f"
            },
            "marker": {
             "line": {
              "color": "#E5ECF6",
              "width": 0.5
             },
             "pattern": {
              "fillmode": "overlay",
              "size": 10,
              "solidity": 0.2
             }
            },
            "type": "bar"
           }
          ],
          "barpolar": [
           {
            "marker": {
             "line": {
              "color": "#E5ECF6",
              "width": 0.5
             },
             "pattern": {
              "fillmode": "overlay",
              "size": 10,
              "solidity": 0.2
             }
            },
            "type": "barpolar"
           }
          ],
          "carpet": [
           {
            "aaxis": {
             "endlinecolor": "#2a3f5f",
             "gridcolor": "white",
             "linecolor": "white",
             "minorgridcolor": "white",
             "startlinecolor": "#2a3f5f"
            },
            "baxis": {
             "endlinecolor": "#2a3f5f",
             "gridcolor": "white",
             "linecolor": "white",
             "minorgridcolor": "white",
             "startlinecolor": "#2a3f5f"
            },
            "type": "carpet"
           }
          ],
          "choropleth": [
           {
            "colorbar": {
             "outlinewidth": 0,
             "ticks": ""
            },
            "type": "choropleth"
           }
          ],
          "contour": [
           {
            "colorbar": {
             "outlinewidth": 0,
             "ticks": ""
            },
            "colorscale": [
             [
              0,
              "#0d0887"
             ],
             [
              0.1111111111111111,
              "#46039f"
             ],
             [
              0.2222222222222222,
              "#7201a8"
             ],
             [
              0.3333333333333333,
              "#9c179e"
             ],
             [
              0.4444444444444444,
              "#bd3786"
             ],
             [
              0.5555555555555556,
              "#d8576b"
             ],
             [
              0.6666666666666666,
              "#ed7953"
             ],
             [
              0.7777777777777778,
              "#fb9f3a"
             ],
             [
              0.8888888888888888,
              "#fdca26"
             ],
             [
              1,
              "#f0f921"
             ]
            ],
            "type": "contour"
           }
          ],
          "contourcarpet": [
           {
            "colorbar": {
             "outlinewidth": 0,
             "ticks": ""
            },
            "type": "contourcarpet"
           }
          ],
          "heatmap": [
           {
            "colorbar": {
             "outlinewidth": 0,
             "ticks": ""
            },
            "colorscale": [
             [
              0,
              "#0d0887"
             ],
             [
              0.1111111111111111,
              "#46039f"
             ],
             [
              0.2222222222222222,
              "#7201a8"
             ],
             [
              0.3333333333333333,
              "#9c179e"
             ],
             [
              0.4444444444444444,
              "#bd3786"
             ],
             [
              0.5555555555555556,
              "#d8576b"
             ],
             [
              0.6666666666666666,
              "#ed7953"
             ],
             [
              0.7777777777777778,
              "#fb9f3a"
             ],
             [
              0.8888888888888888,
              "#fdca26"
             ],
             [
              1,
              "#f0f921"
             ]
            ],
            "type": "heatmap"
           }
          ],
          "heatmapgl": [
           {
            "colorbar": {
             "outlinewidth": 0,
             "ticks": ""
            },
            "colorscale": [
             [
              0,
              "#0d0887"
             ],
             [
              0.1111111111111111,
              "#46039f"
             ],
             [
              0.2222222222222222,
              "#7201a8"
             ],
             [
              0.3333333333333333,
              "#9c179e"
             ],
             [
              0.4444444444444444,
              "#bd3786"
             ],
             [
              0.5555555555555556,
              "#d8576b"
             ],
             [
              0.6666666666666666,
              "#ed7953"
             ],
             [
              0.7777777777777778,
              "#fb9f3a"
             ],
             [
              0.8888888888888888,
              "#fdca26"
             ],
             [
              1,
              "#f0f921"
             ]
            ],
            "type": "heatmapgl"
           }
          ],
          "histogram": [
           {
            "marker": {
             "pattern": {
              "fillmode": "overlay",
              "size": 10,
              "solidity": 0.2
             }
            },
            "type": "histogram"
           }
          ],
          "histogram2d": [
           {
            "colorbar": {
             "outlinewidth": 0,
             "ticks": ""
            },
            "colorscale": [
             [
              0,
              "#0d0887"
             ],
             [
              0.1111111111111111,
              "#46039f"
             ],
             [
              0.2222222222222222,
              "#7201a8"
             ],
             [
              0.3333333333333333,
              "#9c179e"
             ],
             [
              0.4444444444444444,
              "#bd3786"
             ],
             [
              0.5555555555555556,
              "#d8576b"
             ],
             [
              0.6666666666666666,
              "#ed7953"
             ],
             [
              0.7777777777777778,
              "#fb9f3a"
             ],
             [
              0.8888888888888888,
              "#fdca26"
             ],
             [
              1,
              "#f0f921"
             ]
            ],
            "type": "histogram2d"
           }
          ],
          "histogram2dcontour": [
           {
            "colorbar": {
             "outlinewidth": 0,
             "ticks": ""
            },
            "colorscale": [
             [
              0,
              "#0d0887"
             ],
             [
              0.1111111111111111,
              "#46039f"
             ],
             [
              0.2222222222222222,
              "#7201a8"
             ],
             [
              0.3333333333333333,
              "#9c179e"
             ],
             [
              0.4444444444444444,
              "#bd3786"
             ],
             [
              0.5555555555555556,
              "#d8576b"
             ],
             [
              0.6666666666666666,
              "#ed7953"
             ],
             [
              0.7777777777777778,
              "#fb9f3a"
             ],
             [
              0.8888888888888888,
              "#fdca26"
             ],
             [
              1,
              "#f0f921"
             ]
            ],
            "type": "histogram2dcontour"
           }
          ],
          "mesh3d": [
           {
            "colorbar": {
             "outlinewidth": 0,
             "ticks": ""
            },
            "type": "mesh3d"
           }
          ],
          "parcoords": [
           {
            "line": {
             "colorbar": {
              "outlinewidth": 0,
              "ticks": ""
             }
            },
            "type": "parcoords"
           }
          ],
          "pie": [
           {
            "automargin": true,
            "type": "pie"
           }
          ],
          "scatter": [
           {
            "fillpattern": {
             "fillmode": "overlay",
             "size": 10,
             "solidity": 0.2
            },
            "type": "scatter"
           }
          ],
          "scatter3d": [
           {
            "line": {
             "colorbar": {
              "outlinewidth": 0,
              "ticks": ""
             }
            },
            "marker": {
             "colorbar": {
              "outlinewidth": 0,
              "ticks": ""
             }
            },
            "type": "scatter3d"
           }
          ],
          "scattercarpet": [
           {
            "marker": {
             "colorbar": {
              "outlinewidth": 0,
              "ticks": ""
             }
            },
            "type": "scattercarpet"
           }
          ],
          "scattergeo": [
           {
            "marker": {
             "colorbar": {
              "outlinewidth": 0,
              "ticks": ""
             }
            },
            "type": "scattergeo"
           }
          ],
          "scattergl": [
           {
            "marker": {
             "colorbar": {
              "outlinewidth": 0,
              "ticks": ""
             }
            },
            "type": "scattergl"
           }
          ],
          "scattermapbox": [
           {
            "marker": {
             "colorbar": {
              "outlinewidth": 0,
              "ticks": ""
             }
            },
            "type": "scattermapbox"
           }
          ],
          "scatterpolar": [
           {
            "marker": {
             "colorbar": {
              "outlinewidth": 0,
              "ticks": ""
             }
            },
            "type": "scatterpolar"
           }
          ],
          "scatterpolargl": [
           {
            "marker": {
             "colorbar": {
              "outlinewidth": 0,
              "ticks": ""
             }
            },
            "type": "scatterpolargl"
           }
          ],
          "scatterternary": [
           {
            "marker": {
             "colorbar": {
              "outlinewidth": 0,
              "ticks": ""
             }
            },
            "type": "scatterternary"
           }
          ],
          "surface": [
           {
            "colorbar": {
             "outlinewidth": 0,
             "ticks": ""
            },
            "colorscale": [
             [
              0,
              "#0d0887"
             ],
             [
              0.1111111111111111,
              "#46039f"
             ],
             [
              0.2222222222222222,
              "#7201a8"
             ],
             [
              0.3333333333333333,
              "#9c179e"
             ],
             [
              0.4444444444444444,
              "#bd3786"
             ],
             [
              0.5555555555555556,
              "#d8576b"
             ],
             [
              0.6666666666666666,
              "#ed7953"
             ],
             [
              0.7777777777777778,
              "#fb9f3a"
             ],
             [
              0.8888888888888888,
              "#fdca26"
             ],
             [
              1,
              "#f0f921"
             ]
            ],
            "type": "surface"
           }
          ],
          "table": [
           {
            "cells": {
             "fill": {
              "color": "#EBF0F8"
             },
             "line": {
              "color": "white"
             }
            },
            "header": {
             "fill": {
              "color": "#C8D4E3"
             },
             "line": {
              "color": "white"
             }
            },
            "type": "table"
           }
          ]
         },
         "layout": {
          "annotationdefaults": {
           "arrowcolor": "#2a3f5f",
           "arrowhead": 0,
           "arrowwidth": 1
          },
          "autotypenumbers": "strict",
          "coloraxis": {
           "colorbar": {
            "outlinewidth": 0,
            "ticks": ""
           }
          },
          "colorscale": {
           "diverging": [
            [
             0,
             "#8e0152"
            ],
            [
             0.1,
             "#c51b7d"
            ],
            [
             0.2,
             "#de77ae"
            ],
            [
             0.3,
             "#f1b6da"
            ],
            [
             0.4,
             "#fde0ef"
            ],
            [
             0.5,
             "#f7f7f7"
            ],
            [
             0.6,
             "#e6f5d0"
            ],
            [
             0.7,
             "#b8e186"
            ],
            [
             0.8,
             "#7fbc41"
            ],
            [
             0.9,
             "#4d9221"
            ],
            [
             1,
             "#276419"
            ]
           ],
           "sequential": [
            [
             0,
             "#0d0887"
            ],
            [
             0.1111111111111111,
             "#46039f"
            ],
            [
             0.2222222222222222,
             "#7201a8"
            ],
            [
             0.3333333333333333,
             "#9c179e"
            ],
            [
             0.4444444444444444,
             "#bd3786"
            ],
            [
             0.5555555555555556,
             "#d8576b"
            ],
            [
             0.6666666666666666,
             "#ed7953"
            ],
            [
             0.7777777777777778,
             "#fb9f3a"
            ],
            [
             0.8888888888888888,
             "#fdca26"
            ],
            [
             1,
             "#f0f921"
            ]
           ],
           "sequentialminus": [
            [
             0,
             "#0d0887"
            ],
            [
             0.1111111111111111,
             "#46039f"
            ],
            [
             0.2222222222222222,
             "#7201a8"
            ],
            [
             0.3333333333333333,
             "#9c179e"
            ],
            [
             0.4444444444444444,
             "#bd3786"
            ],
            [
             0.5555555555555556,
             "#d8576b"
            ],
            [
             0.6666666666666666,
             "#ed7953"
            ],
            [
             0.7777777777777778,
             "#fb9f3a"
            ],
            [
             0.8888888888888888,
             "#fdca26"
            ],
            [
             1,
             "#f0f921"
            ]
           ]
          },
          "colorway": [
           "#636efa",
           "#EF553B",
           "#00cc96",
           "#ab63fa",
           "#FFA15A",
           "#19d3f3",
           "#FF6692",
           "#B6E880",
           "#FF97FF",
           "#FECB52"
          ],
          "font": {
           "color": "#2a3f5f"
          },
          "geo": {
           "bgcolor": "white",
           "lakecolor": "white",
           "landcolor": "#E5ECF6",
           "showlakes": true,
           "showland": true,
           "subunitcolor": "white"
          },
          "hoverlabel": {
           "align": "left"
          },
          "hovermode": "closest",
          "mapbox": {
           "style": "light"
          },
          "paper_bgcolor": "white",
          "plot_bgcolor": "#E5ECF6",
          "polar": {
           "angularaxis": {
            "gridcolor": "white",
            "linecolor": "white",
            "ticks": ""
           },
           "bgcolor": "#E5ECF6",
           "radialaxis": {
            "gridcolor": "white",
            "linecolor": "white",
            "ticks": ""
           }
          },
          "scene": {
           "xaxis": {
            "backgroundcolor": "#E5ECF6",
            "gridcolor": "white",
            "gridwidth": 2,
            "linecolor": "white",
            "showbackground": true,
            "ticks": "",
            "zerolinecolor": "white"
           },
           "yaxis": {
            "backgroundcolor": "#E5ECF6",
            "gridcolor": "white",
            "gridwidth": 2,
            "linecolor": "white",
            "showbackground": true,
            "ticks": "",
            "zerolinecolor": "white"
           },
           "zaxis": {
            "backgroundcolor": "#E5ECF6",
            "gridcolor": "white",
            "gridwidth": 2,
            "linecolor": "white",
            "showbackground": true,
            "ticks": "",
            "zerolinecolor": "white"
           }
          },
          "shapedefaults": {
           "line": {
            "color": "#2a3f5f"
           }
          },
          "ternary": {
           "aaxis": {
            "gridcolor": "white",
            "linecolor": "white",
            "ticks": ""
           },
           "baxis": {
            "gridcolor": "white",
            "linecolor": "white",
            "ticks": ""
           },
           "bgcolor": "#E5ECF6",
           "caxis": {
            "gridcolor": "white",
            "linecolor": "white",
            "ticks": ""
           }
          },
          "title": {
           "x": 0.05
          },
          "xaxis": {
           "automargin": true,
           "gridcolor": "white",
           "linecolor": "white",
           "ticks": "",
           "title": {
            "standoff": 15
           },
           "zerolinecolor": "white",
           "zerolinewidth": 2
          },
          "yaxis": {
           "automargin": true,
           "gridcolor": "white",
           "linecolor": "white",
           "ticks": "",
           "title": {
            "standoff": 15
           },
           "zerolinecolor": "white",
           "zerolinewidth": 2
          }
         }
        },
        "title": {
         "text": "CI - renaissance"
        },
        "xaxis": {
         "anchor": "y",
         "categoryorder": "category ascending",
         "domain": [
          0,
          0.31999999999999995
         ],
         "title": {
          "text": "benchmark"
         }
        },
        "xaxis2": {
         "anchor": "y2",
         "categoryorder": "category ascending",
         "domain": [
          0.33999999999999997,
          0.6599999999999999
         ],
         "matches": "x",
         "title": {
          "text": "benchmark"
         }
        },
        "xaxis3": {
         "anchor": "y3",
         "categoryorder": "category ascending",
         "domain": [
          0.6799999999999999,
          0.9999999999999999
         ],
         "matches": "x",
         "title": {
          "text": "benchmark"
         }
        },
        "yaxis": {
         "anchor": "x",
         "domain": [
          0,
          1
         ],
         "title": {
          "text": "mid"
         }
        },
        "yaxis2": {
         "anchor": "x2",
         "domain": [
          0,
          1
         ],
         "matches": "y",
         "showticklabels": false
        },
        "yaxis3": {
         "anchor": "x3",
         "domain": [
          0,
          1
         ],
         "matches": "y",
         "showticklabels": false
        }
       }
      }
     },
     "metadata": {},
     "output_type": "display_data"
    },
    {
     "data": {
      "application/vnd.plotly.v1+json": {
       "config": {
        "plotlyServerURL": "https://plot.ly"
       },
       "data": [
        {
         "error_y": {
          "array": [
           265005849.67235738,
           15589258.11642624,
           1740325883.8516564,
           5831202.46425323,
           52582764.681037664,
           3957385.1269555846,
           6237811.061611084,
           42370530.72135514,
           8097952.702173529,
           27400311.054298285,
           11915591.623018973,
           2400957.078832226,
           8536451.507882047,
           9390197.682281118,
           11141938.195181869,
           8003955.144881531,
           73293996.7329921,
           680438939.6254224,
           75630847.39418858,
           38123335.25651641,
           13501500.826932704
          ]
         },
         "hovertemplate": "type=seqn<br>environment=AWS t3.medium<br>benchmark=%{x}<br>mid=%{y}<extra></extra>",
         "legendgroup": "seqn",
         "marker": {
          "color": "#636efa",
          "symbol": "circle"
         },
         "mode": "markers",
         "name": "seqn",
         "orientation": "v",
         "showlegend": true,
         "type": "scatter",
         "x": [
          "apparat",
          "avrora",
          "factorie",
          "fop",
          "h2",
          "kiama",
          "luindex",
          "lusearch",
          "pmd",
          "scalac",
          "scaladoc",
          "scalap",
          "scalariform",
          "scalatest",
          "scalaxb",
          "specs",
          "sunflow",
          "tmt",
          "tradebeans",
          "tradesoap",
          "xalan"
         ],
         "xaxis": "x",
         "y": [
          10955618.64496854,
          -13862487.195117231,
          -276442548.6584561,
          -3009233.782177385,
          -26143615.03853929,
          -745954.5368584497,
          1441068.15787433,
          -26443836.86022553,
          -3120955.2338969223,
          -2642226.534421131,
          2020091.8301684577,
          -502961.46103541413,
          4551435.43074481,
          -2767775.8371159974,
          -2279742.0524942316,
          -3882156.8225782225,
          14348350.820563331,
          293094256.9405058,
          31759033.61254289,
          -4902932.801324278,
          -2084275.4992490485
         ],
         "yaxis": "y"
        },
        {
         "error_y": {
          "array": [
           40950757.00388794,
           8546260.29268627,
           486395939.7599154,
           408834.7081832087,
           19684343.140663013,
           1031630.5069931499,
           4242334.870980471,
           6469683.012898694,
           4143874.421833121,
           6663351.210940321,
           6237345.955303453,
           950720.1082814619,
           2023220.9182364766,
           2866544.909876571,
           710021.9292333884,
           1058421.6358405913,
           19152614.62424217,
           95998739.29462384,
           18369497.676433098,
           8983063.053650506,
           4942339.43576261
          ]
         },
         "hovertemplate": "type=seqn<br>environment=bare-metal<br>benchmark=%{x}<br>mid=%{y}<extra></extra>",
         "legendgroup": "seqn",
         "marker": {
          "color": "#636efa",
          "symbol": "circle"
         },
         "mode": "markers",
         "name": "seqn",
         "orientation": "v",
         "showlegend": false,
         "type": "scatter",
         "x": [
          "apparat",
          "avrora",
          "factorie",
          "fop",
          "h2",
          "kiama",
          "luindex",
          "lusearch",
          "pmd",
          "scalac",
          "scaladoc",
          "scalap",
          "scalariform",
          "scalatest",
          "scalaxb",
          "specs",
          "sunflow",
          "tmt",
          "tradebeans",
          "tradesoap",
          "xalan"
         ],
         "xaxis": "x2",
         "y": [
          -1842536.781353131,
          -2465744.6368755065,
          -164462940.2096426,
          -244537.5452553,
          2710138.6475057714,
          1264692.9618054861,
          1209462.4205028005,
          -4003981.009738083,
          -1206869.6637342041,
          -2784478.613064793,
          -1916274.494605843,
          539297.4112711773,
          -1253037.6710082649,
          -518714.109121189,
          -109558.77333370072,
          1518542.4088268513,
          -9339985.384786736,
          -59781972.80418451,
          23674332.94728071,
          -4964402.686063724,
          661382.7721975734
         ],
         "yaxis": "y2"
        },
        {
         "error_y": {
          "array": [
           303472225.81828,
           145720446.8885817,
           2064743945.8733225,
           15527781.241409035,
           95509399.7827057,
           17646994.821480416,
           63714233.64209184,
           112959378.0133945,
           25488820.257367957,
           59745020.63169719,
           73418845.30061038,
           6416278.896362031,
           22432639.30605474,
           87069434.86835158,
           27189158.04793564,
           43955552.93440448,
           179792510.16646084,
           708042696.6912953,
           144605931.19955748,
           610813681.9114836,
           177841158.55140412
          ]
         },
         "hovertemplate": "type=seqn<br>environment=shared-vm<br>benchmark=%{x}<br>mid=%{y}<extra></extra>",
         "legendgroup": "seqn",
         "marker": {
          "color": "#636efa",
          "symbol": "circle"
         },
         "mode": "markers",
         "name": "seqn",
         "orientation": "v",
         "showlegend": false,
         "type": "scatter",
         "x": [
          "apparat",
          "avrora",
          "factorie",
          "fop",
          "h2",
          "kiama",
          "luindex",
          "lusearch",
          "pmd",
          "scalac",
          "scaladoc",
          "scalap",
          "scalariform",
          "scalatest",
          "scalaxb",
          "specs",
          "sunflow",
          "tmt",
          "tradebeans",
          "tradesoap",
          "xalan"
         ],
         "xaxis": "x3",
         "y": [
          104056866.43853277,
          -142876452.41536862,
          565734757.3923073,
          11553378.731271543,
          156323203.090398,
          36210580.23892661,
          17095171.800677285,
          48382504.36114315,
          -20094186.21373417,
          -1357756.569049701,
          46475064.23299255,
          -5930870.623423766,
          -6933155.380017363,
          -49305042.930439204,
          16929601.70565007,
          -16254178.263657622,
          50372267.274589345,
          -497083421.3522812,
          -72702776.39453048,
          -394252554.60361326,
          -154236320.06819707
         ],
         "yaxis": "y3"
        },
        {
         "error_y": {
          "array": [
           524637499.6612172,
           29596210.11226314,
           2072113523.0794845,
           12515298.75907125,
           40026465.39370288,
           4130374.1940641543,
           3219110.5115605593,
           13224169.725621069,
           8461927.147886835,
           17778588.67605722,
           12502613.018444745,
           4656262.519197367,
           6802524.876959156,
           12413976.934323877,
           8517180.155857805,
           9711683.694593124,
           166028479.40149933,
           563750306.1215693,
           67181029.60192029,
           77494831.41016428,
           8688380.116976852
          ]
         },
         "hovertemplate": "type=syncduet<br>environment=AWS t3.medium<br>benchmark=%{x}<br>mid=%{y}<extra></extra>",
         "legendgroup": "syncduet",
         "marker": {
          "color": "#EF553B",
          "symbol": "circle"
         },
         "mode": "markers",
         "name": "syncduet",
         "orientation": "v",
         "showlegend": true,
         "type": "scatter",
         "x": [
          "apparat",
          "avrora",
          "factorie",
          "fop",
          "h2",
          "kiama",
          "luindex",
          "lusearch",
          "pmd",
          "scalac",
          "scaladoc",
          "scalap",
          "scalariform",
          "scalatest",
          "scalaxb",
          "specs",
          "sunflow",
          "tmt",
          "tradebeans",
          "tradesoap",
          "xalan"
         ],
         "xaxis": "x",
         "y": [
          181930729.8078279,
          -14135304.011071306,
          -1239123800.9196153,
          3332790.356099451,
          20319435.48332522,
          2970713.070660772,
          -1716485.5468737595,
          2321493.8357439805,
          -2199612.471757073,
          -7244632.428004026,
          -6203256.437119795,
          -812552.0724340444,
          2389276.7474804614,
          -948325.594644038,
          -7173152.233005907,
          -2005258.4669251014,
          117628851.28719023,
          321741998.28060836,
          24588074.86560315,
          73334927.66181615,
          1460162.2549274974
         ],
         "yaxis": "y"
        },
        {
         "error_y": {
          "array": [
           57145109.83854046,
           7127396.188838361,
           644377277.2669842,
           867154.839195268,
           35400498.13489325,
           1072840.0781956264,
           1459020.9941360764,
           3925061.749478705,
           3070816.7015361832,
           15724994.505067661,
           8044687.837409519,
           1088323.3450555266,
           2274464.2633014256,
           3074584.6350191785,
           4649344.460477001,
           1817559.4637326016,
           4060460.3785410644,
           124580072.04081222,
           14486572.386220913,
           6407094.383453959,
           4041949.9709308757
          ]
         },
         "hovertemplate": "type=syncduet<br>environment=bare-metal<br>benchmark=%{x}<br>mid=%{y}<extra></extra>",
         "legendgroup": "syncduet",
         "marker": {
          "color": "#EF553B",
          "symbol": "circle"
         },
         "mode": "markers",
         "name": "syncduet",
         "orientation": "v",
         "showlegend": false,
         "type": "scatter",
         "x": [
          "apparat",
          "avrora",
          "factorie",
          "fop",
          "h2",
          "kiama",
          "luindex",
          "lusearch",
          "pmd",
          "scalac",
          "scaladoc",
          "scalap",
          "scalariform",
          "scalatest",
          "scalaxb",
          "specs",
          "sunflow",
          "tmt",
          "tradebeans",
          "tradesoap",
          "xalan"
         ],
         "xaxis": "x2",
         "y": [
          -19753404.8784701,
          -3535729.9816566333,
          181687959.24593335,
          328597.6646234951,
          14441746.925653823,
          -316766.96595604764,
          -494268.37457207986,
          -638196.287755345,
          974442.3997990512,
          -8560532.457629796,
          3474103.2921246206,
          8106.618030738318,
          -1270579.3431306337,
          -143051.22691585124,
          4012316.9533359585,
          820179.0141470956,
          -3858174.486095448,
          -130837514.96581042,
          -1481673.715850765,
          5964699.677100659,
          1980110.2334460649
         ],
         "yaxis": "y2"
        },
        {
         "error_y": {
          "array": [
           123951883.35556164,
           60720029.226340026,
           1417793046.6891203,
           13690045.489046378,
           131602323.84409422,
           16088928.484998003,
           17328477.01357977,
           30344179.32608618,
           18184212.03960945,
           43955645.37739569,
           30651460.495390784,
           6579950.700136898,
           18614281.560474984,
           33020252.845366247,
           15148248.436710738,
           22377577.10590485,
           116811960.80315867,
           947616198.7125907,
           101434676.63763435,
           95919110.66199534,
           18949098.03208579
          ]
         },
         "hovertemplate": "type=syncduet<br>environment=shared-vm<br>benchmark=%{x}<br>mid=%{y}<extra></extra>",
         "legendgroup": "syncduet",
         "marker": {
          "color": "#EF553B",
          "symbol": "circle"
         },
         "mode": "markers",
         "name": "syncduet",
         "orientation": "v",
         "showlegend": false,
         "type": "scatter",
         "x": [
          "apparat",
          "avrora",
          "factorie",
          "fop",
          "h2",
          "kiama",
          "luindex",
          "lusearch",
          "pmd",
          "scalac",
          "scaladoc",
          "scalap",
          "scalariform",
          "scalatest",
          "scalaxb",
          "specs",
          "sunflow",
          "tmt",
          "tradebeans",
          "tradesoap",
          "xalan"
         ],
         "xaxis": "x3",
         "y": [
          -38244454.37425995,
          -10396459.94374159,
          -1844601638.8754697,
          -2229580.788047485,
          -14287339.062153012,
          -7282390.213361815,
          8991645.849803634,
          8117818.710023299,
          4802680.783467473,
          -9564328.150472611,
          -39537696.707637385,
          -3531274.812215248,
          17996681.764950328,
          11957126.444520157,
          -359631.1521157026,
          -37697945.854294345,
          72139628.02728032,
          -1025745685.5363085,
          69615478.52639842,
          -66435763.601678625,
          -7636769.24894128
         ],
         "yaxis": "y3"
        },
        {
         "error_y": {
          "array": [
           336936390.86170197,
           33599856.03328422,
           2125622181.3890023,
           9761299.743428051,
           58772869.93433209,
           7009810.855428425,
           4256720.782765398,
           71634551.88075298,
           10189078.75509306,
           62556554.31770305,
           36164360.37373708,
           4683333.322724888,
           8991878.734122809,
           13147212.71583277,
           39089468.64113107,
           8968063.727175679,
           107421745.94622251,
           629254920.4964254,
           51675433.13629194,
           70178991.5610042,
           24797475.602094438
          ]
         },
         "hovertemplate": "type=duet<br>environment=AWS t3.medium<br>benchmark=%{x}<br>mid=%{y}<extra></extra>",
         "legendgroup": "duet",
         "marker": {
          "color": "#00cc96",
          "symbol": "circle"
         },
         "mode": "markers",
         "name": "duet",
         "orientation": "v",
         "showlegend": true,
         "type": "scatter",
         "x": [
          "apparat",
          "avrora",
          "factorie",
          "fop",
          "h2",
          "kiama",
          "luindex",
          "lusearch",
          "pmd",
          "scalac",
          "scaladoc",
          "scalap",
          "scalariform",
          "scalatest",
          "scalaxb",
          "specs",
          "sunflow",
          "tmt",
          "tradebeans",
          "tradesoap",
          "xalan"
         ],
         "xaxis": "x",
         "y": [
          328081690.6522866,
          2312670.4951581843,
          -979305124.9086804,
          -4947580.967148833,
          -25443335.747289777,
          1892153.1690371996,
          -4127327.9247978553,
          -44319559.40398279,
          83591.09594422206,
          54348242.60141012,
          6765385.681003045,
          568682.1693029599,
          5631126.8292301055,
          -1780609.5646903552,
          17925103.63368629,
          3694675.453261001,
          -8893683.12635319,
          282866634.5525105,
          12346383.440286547,
          -18033222.05961494,
          -20515250.41406491
         ],
         "yaxis": "y"
        },
        {
         "error_y": {
          "array": [
           49635859.78607567,
           5964318.75610222,
           590500191.557395,
           594702.7309637724,
           39846055.32642537,
           2446532.3145315927,
           6803594.831743823,
           17911514.620316844,
           3841213.1211252166,
           12984307.251818504,
           8301984.930538375,
           1040911.0585995426,
           1173781.7676281948,
           2970360.86636055,
           3146966.4564085016,
           2274229.3322561937,
           14477064.160363063,
           230686926.47743,
           20713260.321743183,
           7838727.702432885,
           6402168.153893485
          ]
         },
         "hovertemplate": "type=duet<br>environment=bare-metal<br>benchmark=%{x}<br>mid=%{y}<extra></extra>",
         "legendgroup": "duet",
         "marker": {
          "color": "#00cc96",
          "symbol": "circle"
         },
         "mode": "markers",
         "name": "duet",
         "orientation": "v",
         "showlegend": false,
         "type": "scatter",
         "x": [
          "apparat",
          "avrora",
          "factorie",
          "fop",
          "h2",
          "kiama",
          "luindex",
          "lusearch",
          "pmd",
          "scalac",
          "scaladoc",
          "scalap",
          "scalariform",
          "scalatest",
          "scalaxb",
          "specs",
          "sunflow",
          "tmt",
          "tradebeans",
          "tradesoap",
          "xalan"
         ],
         "xaxis": "x2",
         "y": [
          30497384.775620885,
          4776182.376389877,
          13470986.40821302,
          257062.16911984724,
          15729286.84183696,
          1191805.8359530466,
          3650754.626321013,
          -7282130.31057084,
          -150843.25100497995,
          4422695.430911945,
          -3283304.9439133126,
          132251.96113380615,
          -934107.4900130946,
          631284.2763899397,
          -2368900.0078271823,
          -257511.38283632416,
          -12585840.398714278,
          104711917.25047977,
          -12950883.269101083,
          -9643995.72467056,
          5670143.581353038
         ],
         "yaxis": "y2"
        },
        {
         "error_y": {
          "array": [
           157607841.33506915,
           64646203.09804896,
           880381515.4501697,
           14091944.865221795,
           92038537.57638493,
           19612285.823032647,
           17085061.515639674,
           54264586.23185156,
           23834570.42710922,
           54520207.56348782,
           25854563.630790416,
           14346613.380186172,
           29500487.958573025,
           26024531.74479671,
           13134753.277894398,
           25604048.625345826,
           114704881.1581887,
           1214857857.3524773,
           80979434.20435166,
           102618569.41737759,
           28353955.368977673
          ]
         },
         "hovertemplate": "type=duet<br>environment=shared-vm<br>benchmark=%{x}<br>mid=%{y}<extra></extra>",
         "legendgroup": "duet",
         "marker": {
          "color": "#00cc96",
          "symbol": "circle"
         },
         "mode": "markers",
         "name": "duet",
         "orientation": "v",
         "showlegend": false,
         "type": "scatter",
         "x": [
          "apparat",
          "avrora",
          "factorie",
          "fop",
          "h2",
          "kiama",
          "luindex",
          "lusearch",
          "pmd",
          "scalac",
          "scaladoc",
          "scalap",
          "scalariform",
          "scalatest",
          "scalaxb",
          "specs",
          "sunflow",
          "tmt",
          "tradebeans",
          "tradesoap",
          "xalan"
         ],
         "xaxis": "x3",
         "y": [
          71259775.04093625,
          87809926.62476252,
          168139901.35887146,
          -15458316.52514423,
          -132304310.35591799,
          -11269539.096673232,
          16619099.84278289,
          10766376.338467278,
          -9102719.519029465,
          51043498.570263,
          -17472334.010250818,
          -14160575.435391823,
          10093325.261525173,
          1499910.8232617266,
          -8638086.850247713,
          6103823.68395834,
          -23763123.146941513,
          -355828711.1860988,
          93753231.23314336,
          44415066.74418085,
          22908185.390692007
         ],
         "yaxis": "y3"
        }
       ],
       "layout": {
        "annotations": [
         {
          "font": {},
          "showarrow": false,
          "text": "environment=AWS t3.medium",
          "x": 0.15999999999999998,
          "xanchor": "center",
          "xref": "paper",
          "y": 1,
          "yanchor": "bottom",
          "yref": "paper"
         },
         {
          "font": {},
          "showarrow": false,
          "text": "environment=bare-metal",
          "x": 0.49999999999999994,
          "xanchor": "center",
          "xref": "paper",
          "y": 1,
          "yanchor": "bottom",
          "yref": "paper"
         },
         {
          "font": {},
          "showarrow": false,
          "text": "environment=shared-vm",
          "x": 0.8399999999999999,
          "xanchor": "center",
          "xref": "paper",
          "y": 1,
          "yanchor": "bottom",
          "yref": "paper"
         }
        ],
        "legend": {
         "title": {
          "text": "type"
         },
         "tracegroupgap": 0
        },
        "template": {
         "data": {
          "bar": [
           {
            "error_x": {
             "color": "#2a3f5f"
            },
            "error_y": {
             "color": "#2a3f5f"
            },
            "marker": {
             "line": {
              "color": "#E5ECF6",
              "width": 0.5
             },
             "pattern": {
              "fillmode": "overlay",
              "size": 10,
              "solidity": 0.2
             }
            },
            "type": "bar"
           }
          ],
          "barpolar": [
           {
            "marker": {
             "line": {
              "color": "#E5ECF6",
              "width": 0.5
             },
             "pattern": {
              "fillmode": "overlay",
              "size": 10,
              "solidity": 0.2
             }
            },
            "type": "barpolar"
           }
          ],
          "carpet": [
           {
            "aaxis": {
             "endlinecolor": "#2a3f5f",
             "gridcolor": "white",
             "linecolor": "white",
             "minorgridcolor": "white",
             "startlinecolor": "#2a3f5f"
            },
            "baxis": {
             "endlinecolor": "#2a3f5f",
             "gridcolor": "white",
             "linecolor": "white",
             "minorgridcolor": "white",
             "startlinecolor": "#2a3f5f"
            },
            "type": "carpet"
           }
          ],
          "choropleth": [
           {
            "colorbar": {
             "outlinewidth": 0,
             "ticks": ""
            },
            "type": "choropleth"
           }
          ],
          "contour": [
           {
            "colorbar": {
             "outlinewidth": 0,
             "ticks": ""
            },
            "colorscale": [
             [
              0,
              "#0d0887"
             ],
             [
              0.1111111111111111,
              "#46039f"
             ],
             [
              0.2222222222222222,
              "#7201a8"
             ],
             [
              0.3333333333333333,
              "#9c179e"
             ],
             [
              0.4444444444444444,
              "#bd3786"
             ],
             [
              0.5555555555555556,
              "#d8576b"
             ],
             [
              0.6666666666666666,
              "#ed7953"
             ],
             [
              0.7777777777777778,
              "#fb9f3a"
             ],
             [
              0.8888888888888888,
              "#fdca26"
             ],
             [
              1,
              "#f0f921"
             ]
            ],
            "type": "contour"
           }
          ],
          "contourcarpet": [
           {
            "colorbar": {
             "outlinewidth": 0,
             "ticks": ""
            },
            "type": "contourcarpet"
           }
          ],
          "heatmap": [
           {
            "colorbar": {
             "outlinewidth": 0,
             "ticks": ""
            },
            "colorscale": [
             [
              0,
              "#0d0887"
             ],
             [
              0.1111111111111111,
              "#46039f"
             ],
             [
              0.2222222222222222,
              "#7201a8"
             ],
             [
              0.3333333333333333,
              "#9c179e"
             ],
             [
              0.4444444444444444,
              "#bd3786"
             ],
             [
              0.5555555555555556,
              "#d8576b"
             ],
             [
              0.6666666666666666,
              "#ed7953"
             ],
             [
              0.7777777777777778,
              "#fb9f3a"
             ],
             [
              0.8888888888888888,
              "#fdca26"
             ],
             [
              1,
              "#f0f921"
             ]
            ],
            "type": "heatmap"
           }
          ],
          "heatmapgl": [
           {
            "colorbar": {
             "outlinewidth": 0,
             "ticks": ""
            },
            "colorscale": [
             [
              0,
              "#0d0887"
             ],
             [
              0.1111111111111111,
              "#46039f"
             ],
             [
              0.2222222222222222,
              "#7201a8"
             ],
             [
              0.3333333333333333,
              "#9c179e"
             ],
             [
              0.4444444444444444,
              "#bd3786"
             ],
             [
              0.5555555555555556,
              "#d8576b"
             ],
             [
              0.6666666666666666,
              "#ed7953"
             ],
             [
              0.7777777777777778,
              "#fb9f3a"
             ],
             [
              0.8888888888888888,
              "#fdca26"
             ],
             [
              1,
              "#f0f921"
             ]
            ],
            "type": "heatmapgl"
           }
          ],
          "histogram": [
           {
            "marker": {
             "pattern": {
              "fillmode": "overlay",
              "size": 10,
              "solidity": 0.2
             }
            },
            "type": "histogram"
           }
          ],
          "histogram2d": [
           {
            "colorbar": {
             "outlinewidth": 0,
             "ticks": ""
            },
            "colorscale": [
             [
              0,
              "#0d0887"
             ],
             [
              0.1111111111111111,
              "#46039f"
             ],
             [
              0.2222222222222222,
              "#7201a8"
             ],
             [
              0.3333333333333333,
              "#9c179e"
             ],
             [
              0.4444444444444444,
              "#bd3786"
             ],
             [
              0.5555555555555556,
              "#d8576b"
             ],
             [
              0.6666666666666666,
              "#ed7953"
             ],
             [
              0.7777777777777778,
              "#fb9f3a"
             ],
             [
              0.8888888888888888,
              "#fdca26"
             ],
             [
              1,
              "#f0f921"
             ]
            ],
            "type": "histogram2d"
           }
          ],
          "histogram2dcontour": [
           {
            "colorbar": {
             "outlinewidth": 0,
             "ticks": ""
            },
            "colorscale": [
             [
              0,
              "#0d0887"
             ],
             [
              0.1111111111111111,
              "#46039f"
             ],
             [
              0.2222222222222222,
              "#7201a8"
             ],
             [
              0.3333333333333333,
              "#9c179e"
             ],
             [
              0.4444444444444444,
              "#bd3786"
             ],
             [
              0.5555555555555556,
              "#d8576b"
             ],
             [
              0.6666666666666666,
              "#ed7953"
             ],
             [
              0.7777777777777778,
              "#fb9f3a"
             ],
             [
              0.8888888888888888,
              "#fdca26"
             ],
             [
              1,
              "#f0f921"
             ]
            ],
            "type": "histogram2dcontour"
           }
          ],
          "mesh3d": [
           {
            "colorbar": {
             "outlinewidth": 0,
             "ticks": ""
            },
            "type": "mesh3d"
           }
          ],
          "parcoords": [
           {
            "line": {
             "colorbar": {
              "outlinewidth": 0,
              "ticks": ""
             }
            },
            "type": "parcoords"
           }
          ],
          "pie": [
           {
            "automargin": true,
            "type": "pie"
           }
          ],
          "scatter": [
           {
            "fillpattern": {
             "fillmode": "overlay",
             "size": 10,
             "solidity": 0.2
            },
            "type": "scatter"
           }
          ],
          "scatter3d": [
           {
            "line": {
             "colorbar": {
              "outlinewidth": 0,
              "ticks": ""
             }
            },
            "marker": {
             "colorbar": {
              "outlinewidth": 0,
              "ticks": ""
             }
            },
            "type": "scatter3d"
           }
          ],
          "scattercarpet": [
           {
            "marker": {
             "colorbar": {
              "outlinewidth": 0,
              "ticks": ""
             }
            },
            "type": "scattercarpet"
           }
          ],
          "scattergeo": [
           {
            "marker": {
             "colorbar": {
              "outlinewidth": 0,
              "ticks": ""
             }
            },
            "type": "scattergeo"
           }
          ],
          "scattergl": [
           {
            "marker": {
             "colorbar": {
              "outlinewidth": 0,
              "ticks": ""
             }
            },
            "type": "scattergl"
           }
          ],
          "scattermapbox": [
           {
            "marker": {
             "colorbar": {
              "outlinewidth": 0,
              "ticks": ""
             }
            },
            "type": "scattermapbox"
           }
          ],
          "scatterpolar": [
           {
            "marker": {
             "colorbar": {
              "outlinewidth": 0,
              "ticks": ""
             }
            },
            "type": "scatterpolar"
           }
          ],
          "scatterpolargl": [
           {
            "marker": {
             "colorbar": {
              "outlinewidth": 0,
              "ticks": ""
             }
            },
            "type": "scatterpolargl"
           }
          ],
          "scatterternary": [
           {
            "marker": {
             "colorbar": {
              "outlinewidth": 0,
              "ticks": ""
             }
            },
            "type": "scatterternary"
           }
          ],
          "surface": [
           {
            "colorbar": {
             "outlinewidth": 0,
             "ticks": ""
            },
            "colorscale": [
             [
              0,
              "#0d0887"
             ],
             [
              0.1111111111111111,
              "#46039f"
             ],
             [
              0.2222222222222222,
              "#7201a8"
             ],
             [
              0.3333333333333333,
              "#9c179e"
             ],
             [
              0.4444444444444444,
              "#bd3786"
             ],
             [
              0.5555555555555556,
              "#d8576b"
             ],
             [
              0.6666666666666666,
              "#ed7953"
             ],
             [
              0.7777777777777778,
              "#fb9f3a"
             ],
             [
              0.8888888888888888,
              "#fdca26"
             ],
             [
              1,
              "#f0f921"
             ]
            ],
            "type": "surface"
           }
          ],
          "table": [
           {
            "cells": {
             "fill": {
              "color": "#EBF0F8"
             },
             "line": {
              "color": "white"
             }
            },
            "header": {
             "fill": {
              "color": "#C8D4E3"
             },
             "line": {
              "color": "white"
             }
            },
            "type": "table"
           }
          ]
         },
         "layout": {
          "annotationdefaults": {
           "arrowcolor": "#2a3f5f",
           "arrowhead": 0,
           "arrowwidth": 1
          },
          "autotypenumbers": "strict",
          "coloraxis": {
           "colorbar": {
            "outlinewidth": 0,
            "ticks": ""
           }
          },
          "colorscale": {
           "diverging": [
            [
             0,
             "#8e0152"
            ],
            [
             0.1,
             "#c51b7d"
            ],
            [
             0.2,
             "#de77ae"
            ],
            [
             0.3,
             "#f1b6da"
            ],
            [
             0.4,
             "#fde0ef"
            ],
            [
             0.5,
             "#f7f7f7"
            ],
            [
             0.6,
             "#e6f5d0"
            ],
            [
             0.7,
             "#b8e186"
            ],
            [
             0.8,
             "#7fbc41"
            ],
            [
             0.9,
             "#4d9221"
            ],
            [
             1,
             "#276419"
            ]
           ],
           "sequential": [
            [
             0,
             "#0d0887"
            ],
            [
             0.1111111111111111,
             "#46039f"
            ],
            [
             0.2222222222222222,
             "#7201a8"
            ],
            [
             0.3333333333333333,
             "#9c179e"
            ],
            [
             0.4444444444444444,
             "#bd3786"
            ],
            [
             0.5555555555555556,
             "#d8576b"
            ],
            [
             0.6666666666666666,
             "#ed7953"
            ],
            [
             0.7777777777777778,
             "#fb9f3a"
            ],
            [
             0.8888888888888888,
             "#fdca26"
            ],
            [
             1,
             "#f0f921"
            ]
           ],
           "sequentialminus": [
            [
             0,
             "#0d0887"
            ],
            [
             0.1111111111111111,
             "#46039f"
            ],
            [
             0.2222222222222222,
             "#7201a8"
            ],
            [
             0.3333333333333333,
             "#9c179e"
            ],
            [
             0.4444444444444444,
             "#bd3786"
            ],
            [
             0.5555555555555556,
             "#d8576b"
            ],
            [
             0.6666666666666666,
             "#ed7953"
            ],
            [
             0.7777777777777778,
             "#fb9f3a"
            ],
            [
             0.8888888888888888,
             "#fdca26"
            ],
            [
             1,
             "#f0f921"
            ]
           ]
          },
          "colorway": [
           "#636efa",
           "#EF553B",
           "#00cc96",
           "#ab63fa",
           "#FFA15A",
           "#19d3f3",
           "#FF6692",
           "#B6E880",
           "#FF97FF",
           "#FECB52"
          ],
          "font": {
           "color": "#2a3f5f"
          },
          "geo": {
           "bgcolor": "white",
           "lakecolor": "white",
           "landcolor": "#E5ECF6",
           "showlakes": true,
           "showland": true,
           "subunitcolor": "white"
          },
          "hoverlabel": {
           "align": "left"
          },
          "hovermode": "closest",
          "mapbox": {
           "style": "light"
          },
          "paper_bgcolor": "white",
          "plot_bgcolor": "#E5ECF6",
          "polar": {
           "angularaxis": {
            "gridcolor": "white",
            "linecolor": "white",
            "ticks": ""
           },
           "bgcolor": "#E5ECF6",
           "radialaxis": {
            "gridcolor": "white",
            "linecolor": "white",
            "ticks": ""
           }
          },
          "scene": {
           "xaxis": {
            "backgroundcolor": "#E5ECF6",
            "gridcolor": "white",
            "gridwidth": 2,
            "linecolor": "white",
            "showbackground": true,
            "ticks": "",
            "zerolinecolor": "white"
           },
           "yaxis": {
            "backgroundcolor": "#E5ECF6",
            "gridcolor": "white",
            "gridwidth": 2,
            "linecolor": "white",
            "showbackground": true,
            "ticks": "",
            "zerolinecolor": "white"
           },
           "zaxis": {
            "backgroundcolor": "#E5ECF6",
            "gridcolor": "white",
            "gridwidth": 2,
            "linecolor": "white",
            "showbackground": true,
            "ticks": "",
            "zerolinecolor": "white"
           }
          },
          "shapedefaults": {
           "line": {
            "color": "#2a3f5f"
           }
          },
          "ternary": {
           "aaxis": {
            "gridcolor": "white",
            "linecolor": "white",
            "ticks": ""
           },
           "baxis": {
            "gridcolor": "white",
            "linecolor": "white",
            "ticks": ""
           },
           "bgcolor": "#E5ECF6",
           "caxis": {
            "gridcolor": "white",
            "linecolor": "white",
            "ticks": ""
           }
          },
          "title": {
           "x": 0.05
          },
          "xaxis": {
           "automargin": true,
           "gridcolor": "white",
           "linecolor": "white",
           "ticks": "",
           "title": {
            "standoff": 15
           },
           "zerolinecolor": "white",
           "zerolinewidth": 2
          },
          "yaxis": {
           "automargin": true,
           "gridcolor": "white",
           "linecolor": "white",
           "ticks": "",
           "title": {
            "standoff": 15
           },
           "zerolinecolor": "white",
           "zerolinewidth": 2
          }
         }
        },
        "title": {
         "text": "CI - scalabench"
        },
        "xaxis": {
         "anchor": "y",
         "categoryorder": "category ascending",
         "domain": [
          0,
          0.31999999999999995
         ],
         "title": {
          "text": "benchmark"
         }
        },
        "xaxis2": {
         "anchor": "y2",
         "categoryorder": "category ascending",
         "domain": [
          0.33999999999999997,
          0.6599999999999999
         ],
         "matches": "x",
         "title": {
          "text": "benchmark"
         }
        },
        "xaxis3": {
         "anchor": "y3",
         "categoryorder": "category ascending",
         "domain": [
          0.6799999999999999,
          0.9999999999999999
         ],
         "matches": "x",
         "title": {
          "text": "benchmark"
         }
        },
        "yaxis": {
         "anchor": "x",
         "domain": [
          0,
          1
         ],
         "title": {
          "text": "mid"
         }
        },
        "yaxis2": {
         "anchor": "x2",
         "domain": [
          0,
          1
         ],
         "matches": "y",
         "showticklabels": false
        },
        "yaxis3": {
         "anchor": "x3",
         "domain": [
          0,
          1
         ],
         "matches": "y",
         "showticklabels": false
        }
       }
      }
     },
     "metadata": {},
     "output_type": "display_data"
    },
    {
     "data": {
      "application/vnd.plotly.v1+json": {
       "config": {
        "plotlyServerURL": "https://plot.ly"
       },
       "data": [
        {
         "error_y": {
          "array": [
           23021037.13891305,
           4504890.87776914,
           57079543.292218536,
           4503133.34054872,
           46220285.64043954,
           7320656.554926239,
           61566624.666544765,
           54761132.563976705,
           38195287.00741685,
           15408151.055475933
          ]
         },
         "hovertemplate": "type=seqn<br>environment=AWS t3.medium<br>benchmark=%{x}<br>mid=%{y}<extra></extra>",
         "legendgroup": "seqn",
         "marker": {
          "color": "#636efa",
          "symbol": "circle"
         },
         "mode": "markers",
         "name": "seqn",
         "orientation": "v",
         "showlegend": true,
         "type": "scatter",
         "x": [
          "avrora",
          "fop",
          "h2",
          "luindex",
          "lusearch",
          "pmd",
          "sunflow",
          "tradebeans",
          "tradesoap",
          "xalan"
         ],
         "xaxis": "x",
         "y": [
          -12315612.031969897,
          777453.2499540984,
          -3526516.786366321,
          3347055.5081355562,
          8172650.96627707,
          4505498.066597917,
          44594300.213896774,
          -24311315.2102596,
          -48835887.6485279,
          -1566828.1781269442
         ],
         "yaxis": "y"
        },
        {
         "error_y": {
          "array": [
           11516200.775040515,
           560760.919784647,
           27373608.77028083,
           3489883.2522043185,
           5968208.339714801,
           3213361.606529177,
           16600768.929892961,
           17858115.958460674,
           11128673.43175688,
           4218606.445511932
          ]
         },
         "hovertemplate": "type=seqn<br>environment=bare-metal<br>benchmark=%{x}<br>mid=%{y}<extra></extra>",
         "legendgroup": "seqn",
         "marker": {
          "color": "#636efa",
          "symbol": "circle"
         },
         "mode": "markers",
         "name": "seqn",
         "orientation": "v",
         "showlegend": false,
         "type": "scatter",
         "x": [
          "avrora",
          "fop",
          "h2",
          "luindex",
          "lusearch",
          "pmd",
          "sunflow",
          "tradebeans",
          "tradesoap",
          "xalan"
         ],
         "xaxis": "x2",
         "y": [
          9021317.269323673,
          93220.03892728064,
          -17928788.91764018,
          -5620698.794669173,
          -3443813.1267343536,
          3964405.831986966,
          11331551.92588855,
          7696145.743053703,
          9108402.721067958,
          876452.282058185
         ],
         "yaxis": "y2"
        },
        {
         "error_y": {
          "array": [
           45619096.88870171,
           12702883.501470156,
           111139011.56218395,
           36838830.210874684,
           246252471.73724246,
           20767128.93007259,
           320478600.11059004,
           211307190.94366902,
           119197978.27676058,
           137474338.23739013
          ]
         },
         "hovertemplate": "type=seqn<br>environment=shared-vm<br>benchmark=%{x}<br>mid=%{y}<extra></extra>",
         "legendgroup": "seqn",
         "marker": {
          "color": "#636efa",
          "symbol": "circle"
         },
         "mode": "markers",
         "name": "seqn",
         "orientation": "v",
         "showlegend": false,
         "type": "scatter",
         "x": [
          "avrora",
          "fop",
          "h2",
          "luindex",
          "lusearch",
          "pmd",
          "sunflow",
          "tradebeans",
          "tradesoap",
          "xalan"
         ],
         "xaxis": "x3",
         "y": [
          9501186.592596948,
          8522207.767526444,
          -11305250.702946305,
          -8776802.28395161,
          232044470.17462826,
          15458728.258388953,
          225658723.45889354,
          -93263086.65784568,
          57406950.329233035,
          142187374.4412363
         ],
         "yaxis": "y3"
        },
        {
         "error_y": {
          "array": [
           35055254.30343931,
           4661780.043178866,
           105944892.82680067,
           4017352.3688826556,
           30104207.271706514,
           7058888.411102716,
           75980516.8883344,
           83426381.29987536,
           57474939.99804952,
           23141887.183611237
          ]
         },
         "hovertemplate": "type=syncduet<br>environment=AWS t3.medium<br>benchmark=%{x}<br>mid=%{y}<extra></extra>",
         "legendgroup": "syncduet",
         "marker": {
          "color": "#EF553B",
          "symbol": "circle"
         },
         "mode": "markers",
         "name": "syncduet",
         "orientation": "v",
         "showlegend": true,
         "type": "scatter",
         "x": [
          "avrora",
          "fop",
          "h2",
          "luindex",
          "lusearch",
          "pmd",
          "sunflow",
          "tradebeans",
          "tradesoap",
          "xalan"
         ],
         "xaxis": "x",
         "y": [
          38605656.53734226,
          2381762.3301331727,
          57071458.82302509,
          3147408.1724434937,
          10229347.00969914,
          1018679.2926713116,
          2607040.501827866,
          25650854.110730402,
          25633422.2323152,
          5924148.131923694
         ],
         "yaxis": "y"
        },
        {
         "error_y": {
          "array": [
           7963035.360461407,
           771562.2260202632,
           31281899.359380774,
           5938675.5786196925,
           6410076.113371877,
           4273110.857078874,
           9223658.895155037,
           22706606.95909246,
           3963556.050087082,
           6791826.324950095
          ]
         },
         "hovertemplate": "type=syncduet<br>environment=bare-metal<br>benchmark=%{x}<br>mid=%{y}<extra></extra>",
         "legendgroup": "syncduet",
         "marker": {
          "color": "#EF553B",
          "symbol": "circle"
         },
         "mode": "markers",
         "name": "syncduet",
         "orientation": "v",
         "showlegend": false,
         "type": "scatter",
         "x": [
          "avrora",
          "fop",
          "h2",
          "luindex",
          "lusearch",
          "pmd",
          "sunflow",
          "tradebeans",
          "tradesoap",
          "xalan"
         ],
         "xaxis": "x2",
         "y": [
          -1745810.8247168018,
          -119591.25105356716,
          2526850.8027577363,
          1313447.0505187958,
          -1179825.0053407233,
          3866002.956042232,
          -2312540.933381537,
          12012541.843207296,
          -7950901.009988145,
          -2262965.6007136498
         ],
         "yaxis": "y2"
        },
        {
         "error_y": {
          "array": [
           58287667.48065403,
           13009191.752443511,
           85680988.88802111,
           15847081.497638408,
           54275452.670267776,
           27015262.83242673,
           63797686.99115762,
           116045911.86524573,
           103036295.45284736,
           46426137.622562006
          ]
         },
         "hovertemplate": "type=syncduet<br>environment=shared-vm<br>benchmark=%{x}<br>mid=%{y}<extra></extra>",
         "legendgroup": "syncduet",
         "marker": {
          "color": "#EF553B",
          "symbol": "circle"
         },
         "mode": "markers",
         "name": "syncduet",
         "orientation": "v",
         "showlegend": false,
         "type": "scatter",
         "x": [
          "avrora",
          "fop",
          "h2",
          "luindex",
          "lusearch",
          "pmd",
          "sunflow",
          "tradebeans",
          "tradesoap",
          "xalan"
         ],
         "xaxis": "x3",
         "y": [
          41939154.72779689,
          -13263292.80909495,
          -42041828.34699495,
          -15642214.670911405,
          16229079.317583762,
          5359153.4286877215,
          78929118.89871582,
          29409379.39954306,
          -35018657.26447499,
          10839554.491350189
         ],
         "yaxis": "y3"
        },
        {
         "error_y": {
          "array": [
           40160552.16422609,
           10125804.876883408,
           54740715.7784765,
           3306651.186604486,
           74513414.43765615,
           12690611.41589764,
           110865353.96040031,
           45943788.90215239,
           70124631.44703043,
           39590219.82638562
          ]
         },
         "hovertemplate": "type=duet<br>environment=AWS t3.medium<br>benchmark=%{x}<br>mid=%{y}<extra></extra>",
         "legendgroup": "duet",
         "marker": {
          "color": "#00cc96",
          "symbol": "circle"
         },
         "mode": "markers",
         "name": "duet",
         "orientation": "v",
         "showlegend": true,
         "type": "scatter",
         "x": [
          "avrora",
          "fop",
          "h2",
          "luindex",
          "lusearch",
          "pmd",
          "sunflow",
          "tradebeans",
          "tradesoap",
          "xalan"
         ],
         "xaxis": "x",
         "y": [
          28217402.78705217,
          805898.0576551668,
          50435269.95609282,
          -422520.8265550523,
          18294366.733375914,
          6442697.5441010045,
          -39285557.83292404,
          -12336513.109484233,
          -45873676.02299708,
          8907494.285618138
         ],
         "yaxis": "y"
        },
        {
         "error_y": {
          "array": [
           9482495.861174243,
           449154.4746681719,
           36844083.19429158,
           4010104.8260093033,
           11092337.059524838,
           2929894.923120141,
           28281065.79387805,
           16921212.759884067,
           3877529.5902007762,
           8866185.955465157
          ]
         },
         "hovertemplate": "type=duet<br>environment=bare-metal<br>benchmark=%{x}<br>mid=%{y}<extra></extra>",
         "legendgroup": "duet",
         "marker": {
          "color": "#00cc96",
          "symbol": "circle"
         },
         "mode": "markers",
         "name": "duet",
         "orientation": "v",
         "showlegend": false,
         "type": "scatter",
         "x": [
          "avrora",
          "fop",
          "h2",
          "luindex",
          "lusearch",
          "pmd",
          "sunflow",
          "tradebeans",
          "tradesoap",
          "xalan"
         ],
         "xaxis": "x2",
         "y": [
          -5970275.141387692,
          253641.2896494987,
          8336017.829078421,
          -810015.6861112351,
          1630517.9790439885,
          -2643497.760056276,
          11644407.966830766,
          -3914644.149248779,
          -46846.56046875985,
          605996.3359777154
         ],
         "yaxis": "y2"
        },
        {
         "error_y": {
          "array": [
           90726302.40322179,
           7743438.604709201,
           143524362.52181813,
           33389944.9049678,
           42740739.71326012,
           17225511.01575274,
           98534641.30256623,
           89218596.64051804,
           117247169.27405702,
           32789151.41426434
          ]
         },
         "hovertemplate": "type=duet<br>environment=shared-vm<br>benchmark=%{x}<br>mid=%{y}<extra></extra>",
         "legendgroup": "duet",
         "marker": {
          "color": "#00cc96",
          "symbol": "circle"
         },
         "mode": "markers",
         "name": "duet",
         "orientation": "v",
         "showlegend": false,
         "type": "scatter",
         "x": [
          "avrora",
          "fop",
          "h2",
          "luindex",
          "lusearch",
          "pmd",
          "sunflow",
          "tradebeans",
          "tradesoap",
          "xalan"
         ],
         "xaxis": "x3",
         "y": [
          88884380.25143588,
          -5362497.295469813,
          15960101.957385391,
          19277348.046979256,
          13571866.138611753,
          -16516614.58674407,
          4706668.356331676,
          36294429.684461996,
          64400657.861075036,
          19233258.457049683
         ],
         "yaxis": "y3"
        }
       ],
       "layout": {
        "annotations": [
         {
          "font": {},
          "showarrow": false,
          "text": "environment=AWS t3.medium",
          "x": 0.15999999999999998,
          "xanchor": "center",
          "xref": "paper",
          "y": 1,
          "yanchor": "bottom",
          "yref": "paper"
         },
         {
          "font": {},
          "showarrow": false,
          "text": "environment=bare-metal",
          "x": 0.49999999999999994,
          "xanchor": "center",
          "xref": "paper",
          "y": 1,
          "yanchor": "bottom",
          "yref": "paper"
         },
         {
          "font": {},
          "showarrow": false,
          "text": "environment=shared-vm",
          "x": 0.8399999999999999,
          "xanchor": "center",
          "xref": "paper",
          "y": 1,
          "yanchor": "bottom",
          "yref": "paper"
         }
        ],
        "legend": {
         "title": {
          "text": "type"
         },
         "tracegroupgap": 0
        },
        "template": {
         "data": {
          "bar": [
           {
            "error_x": {
             "color": "#2a3f5f"
            },
            "error_y": {
             "color": "#2a3f5f"
            },
            "marker": {
             "line": {
              "color": "#E5ECF6",
              "width": 0.5
             },
             "pattern": {
              "fillmode": "overlay",
              "size": 10,
              "solidity": 0.2
             }
            },
            "type": "bar"
           }
          ],
          "barpolar": [
           {
            "marker": {
             "line": {
              "color": "#E5ECF6",
              "width": 0.5
             },
             "pattern": {
              "fillmode": "overlay",
              "size": 10,
              "solidity": 0.2
             }
            },
            "type": "barpolar"
           }
          ],
          "carpet": [
           {
            "aaxis": {
             "endlinecolor": "#2a3f5f",
             "gridcolor": "white",
             "linecolor": "white",
             "minorgridcolor": "white",
             "startlinecolor": "#2a3f5f"
            },
            "baxis": {
             "endlinecolor": "#2a3f5f",
             "gridcolor": "white",
             "linecolor": "white",
             "minorgridcolor": "white",
             "startlinecolor": "#2a3f5f"
            },
            "type": "carpet"
           }
          ],
          "choropleth": [
           {
            "colorbar": {
             "outlinewidth": 0,
             "ticks": ""
            },
            "type": "choropleth"
           }
          ],
          "contour": [
           {
            "colorbar": {
             "outlinewidth": 0,
             "ticks": ""
            },
            "colorscale": [
             [
              0,
              "#0d0887"
             ],
             [
              0.1111111111111111,
              "#46039f"
             ],
             [
              0.2222222222222222,
              "#7201a8"
             ],
             [
              0.3333333333333333,
              "#9c179e"
             ],
             [
              0.4444444444444444,
              "#bd3786"
             ],
             [
              0.5555555555555556,
              "#d8576b"
             ],
             [
              0.6666666666666666,
              "#ed7953"
             ],
             [
              0.7777777777777778,
              "#fb9f3a"
             ],
             [
              0.8888888888888888,
              "#fdca26"
             ],
             [
              1,
              "#f0f921"
             ]
            ],
            "type": "contour"
           }
          ],
          "contourcarpet": [
           {
            "colorbar": {
             "outlinewidth": 0,
             "ticks": ""
            },
            "type": "contourcarpet"
           }
          ],
          "heatmap": [
           {
            "colorbar": {
             "outlinewidth": 0,
             "ticks": ""
            },
            "colorscale": [
             [
              0,
              "#0d0887"
             ],
             [
              0.1111111111111111,
              "#46039f"
             ],
             [
              0.2222222222222222,
              "#7201a8"
             ],
             [
              0.3333333333333333,
              "#9c179e"
             ],
             [
              0.4444444444444444,
              "#bd3786"
             ],
             [
              0.5555555555555556,
              "#d8576b"
             ],
             [
              0.6666666666666666,
              "#ed7953"
             ],
             [
              0.7777777777777778,
              "#fb9f3a"
             ],
             [
              0.8888888888888888,
              "#fdca26"
             ],
             [
              1,
              "#f0f921"
             ]
            ],
            "type": "heatmap"
           }
          ],
          "heatmapgl": [
           {
            "colorbar": {
             "outlinewidth": 0,
             "ticks": ""
            },
            "colorscale": [
             [
              0,
              "#0d0887"
             ],
             [
              0.1111111111111111,
              "#46039f"
             ],
             [
              0.2222222222222222,
              "#7201a8"
             ],
             [
              0.3333333333333333,
              "#9c179e"
             ],
             [
              0.4444444444444444,
              "#bd3786"
             ],
             [
              0.5555555555555556,
              "#d8576b"
             ],
             [
              0.6666666666666666,
              "#ed7953"
             ],
             [
              0.7777777777777778,
              "#fb9f3a"
             ],
             [
              0.8888888888888888,
              "#fdca26"
             ],
             [
              1,
              "#f0f921"
             ]
            ],
            "type": "heatmapgl"
           }
          ],
          "histogram": [
           {
            "marker": {
             "pattern": {
              "fillmode": "overlay",
              "size": 10,
              "solidity": 0.2
             }
            },
            "type": "histogram"
           }
          ],
          "histogram2d": [
           {
            "colorbar": {
             "outlinewidth": 0,
             "ticks": ""
            },
            "colorscale": [
             [
              0,
              "#0d0887"
             ],
             [
              0.1111111111111111,
              "#46039f"
             ],
             [
              0.2222222222222222,
              "#7201a8"
             ],
             [
              0.3333333333333333,
              "#9c179e"
             ],
             [
              0.4444444444444444,
              "#bd3786"
             ],
             [
              0.5555555555555556,
              "#d8576b"
             ],
             [
              0.6666666666666666,
              "#ed7953"
             ],
             [
              0.7777777777777778,
              "#fb9f3a"
             ],
             [
              0.8888888888888888,
              "#fdca26"
             ],
             [
              1,
              "#f0f921"
             ]
            ],
            "type": "histogram2d"
           }
          ],
          "histogram2dcontour": [
           {
            "colorbar": {
             "outlinewidth": 0,
             "ticks": ""
            },
            "colorscale": [
             [
              0,
              "#0d0887"
             ],
             [
              0.1111111111111111,
              "#46039f"
             ],
             [
              0.2222222222222222,
              "#7201a8"
             ],
             [
              0.3333333333333333,
              "#9c179e"
             ],
             [
              0.4444444444444444,
              "#bd3786"
             ],
             [
              0.5555555555555556,
              "#d8576b"
             ],
             [
              0.6666666666666666,
              "#ed7953"
             ],
             [
              0.7777777777777778,
              "#fb9f3a"
             ],
             [
              0.8888888888888888,
              "#fdca26"
             ],
             [
              1,
              "#f0f921"
             ]
            ],
            "type": "histogram2dcontour"
           }
          ],
          "mesh3d": [
           {
            "colorbar": {
             "outlinewidth": 0,
             "ticks": ""
            },
            "type": "mesh3d"
           }
          ],
          "parcoords": [
           {
            "line": {
             "colorbar": {
              "outlinewidth": 0,
              "ticks": ""
             }
            },
            "type": "parcoords"
           }
          ],
          "pie": [
           {
            "automargin": true,
            "type": "pie"
           }
          ],
          "scatter": [
           {
            "fillpattern": {
             "fillmode": "overlay",
             "size": 10,
             "solidity": 0.2
            },
            "type": "scatter"
           }
          ],
          "scatter3d": [
           {
            "line": {
             "colorbar": {
              "outlinewidth": 0,
              "ticks": ""
             }
            },
            "marker": {
             "colorbar": {
              "outlinewidth": 0,
              "ticks": ""
             }
            },
            "type": "scatter3d"
           }
          ],
          "scattercarpet": [
           {
            "marker": {
             "colorbar": {
              "outlinewidth": 0,
              "ticks": ""
             }
            },
            "type": "scattercarpet"
           }
          ],
          "scattergeo": [
           {
            "marker": {
             "colorbar": {
              "outlinewidth": 0,
              "ticks": ""
             }
            },
            "type": "scattergeo"
           }
          ],
          "scattergl": [
           {
            "marker": {
             "colorbar": {
              "outlinewidth": 0,
              "ticks": ""
             }
            },
            "type": "scattergl"
           }
          ],
          "scattermapbox": [
           {
            "marker": {
             "colorbar": {
              "outlinewidth": 0,
              "ticks": ""
             }
            },
            "type": "scattermapbox"
           }
          ],
          "scatterpolar": [
           {
            "marker": {
             "colorbar": {
              "outlinewidth": 0,
              "ticks": ""
             }
            },
            "type": "scatterpolar"
           }
          ],
          "scatterpolargl": [
           {
            "marker": {
             "colorbar": {
              "outlinewidth": 0,
              "ticks": ""
             }
            },
            "type": "scatterpolargl"
           }
          ],
          "scatterternary": [
           {
            "marker": {
             "colorbar": {
              "outlinewidth": 0,
              "ticks": ""
             }
            },
            "type": "scatterternary"
           }
          ],
          "surface": [
           {
            "colorbar": {
             "outlinewidth": 0,
             "ticks": ""
            },
            "colorscale": [
             [
              0,
              "#0d0887"
             ],
             [
              0.1111111111111111,
              "#46039f"
             ],
             [
              0.2222222222222222,
              "#7201a8"
             ],
             [
              0.3333333333333333,
              "#9c179e"
             ],
             [
              0.4444444444444444,
              "#bd3786"
             ],
             [
              0.5555555555555556,
              "#d8576b"
             ],
             [
              0.6666666666666666,
              "#ed7953"
             ],
             [
              0.7777777777777778,
              "#fb9f3a"
             ],
             [
              0.8888888888888888,
              "#fdca26"
             ],
             [
              1,
              "#f0f921"
             ]
            ],
            "type": "surface"
           }
          ],
          "table": [
           {
            "cells": {
             "fill": {
              "color": "#EBF0F8"
             },
             "line": {
              "color": "white"
             }
            },
            "header": {
             "fill": {
              "color": "#C8D4E3"
             },
             "line": {
              "color": "white"
             }
            },
            "type": "table"
           }
          ]
         },
         "layout": {
          "annotationdefaults": {
           "arrowcolor": "#2a3f5f",
           "arrowhead": 0,
           "arrowwidth": 1
          },
          "autotypenumbers": "strict",
          "coloraxis": {
           "colorbar": {
            "outlinewidth": 0,
            "ticks": ""
           }
          },
          "colorscale": {
           "diverging": [
            [
             0,
             "#8e0152"
            ],
            [
             0.1,
             "#c51b7d"
            ],
            [
             0.2,
             "#de77ae"
            ],
            [
             0.3,
             "#f1b6da"
            ],
            [
             0.4,
             "#fde0ef"
            ],
            [
             0.5,
             "#f7f7f7"
            ],
            [
             0.6,
             "#e6f5d0"
            ],
            [
             0.7,
             "#b8e186"
            ],
            [
             0.8,
             "#7fbc41"
            ],
            [
             0.9,
             "#4d9221"
            ],
            [
             1,
             "#276419"
            ]
           ],
           "sequential": [
            [
             0,
             "#0d0887"
            ],
            [
             0.1111111111111111,
             "#46039f"
            ],
            [
             0.2222222222222222,
             "#7201a8"
            ],
            [
             0.3333333333333333,
             "#9c179e"
            ],
            [
             0.4444444444444444,
             "#bd3786"
            ],
            [
             0.5555555555555556,
             "#d8576b"
            ],
            [
             0.6666666666666666,
             "#ed7953"
            ],
            [
             0.7777777777777778,
             "#fb9f3a"
            ],
            [
             0.8888888888888888,
             "#fdca26"
            ],
            [
             1,
             "#f0f921"
            ]
           ],
           "sequentialminus": [
            [
             0,
             "#0d0887"
            ],
            [
             0.1111111111111111,
             "#46039f"
            ],
            [
             0.2222222222222222,
             "#7201a8"
            ],
            [
             0.3333333333333333,
             "#9c179e"
            ],
            [
             0.4444444444444444,
             "#bd3786"
            ],
            [
             0.5555555555555556,
             "#d8576b"
            ],
            [
             0.6666666666666666,
             "#ed7953"
            ],
            [
             0.7777777777777778,
             "#fb9f3a"
            ],
            [
             0.8888888888888888,
             "#fdca26"
            ],
            [
             1,
             "#f0f921"
            ]
           ]
          },
          "colorway": [
           "#636efa",
           "#EF553B",
           "#00cc96",
           "#ab63fa",
           "#FFA15A",
           "#19d3f3",
           "#FF6692",
           "#B6E880",
           "#FF97FF",
           "#FECB52"
          ],
          "font": {
           "color": "#2a3f5f"
          },
          "geo": {
           "bgcolor": "white",
           "lakecolor": "white",
           "landcolor": "#E5ECF6",
           "showlakes": true,
           "showland": true,
           "subunitcolor": "white"
          },
          "hoverlabel": {
           "align": "left"
          },
          "hovermode": "closest",
          "mapbox": {
           "style": "light"
          },
          "paper_bgcolor": "white",
          "plot_bgcolor": "#E5ECF6",
          "polar": {
           "angularaxis": {
            "gridcolor": "white",
            "linecolor": "white",
            "ticks": ""
           },
           "bgcolor": "#E5ECF6",
           "radialaxis": {
            "gridcolor": "white",
            "linecolor": "white",
            "ticks": ""
           }
          },
          "scene": {
           "xaxis": {
            "backgroundcolor": "#E5ECF6",
            "gridcolor": "white",
            "gridwidth": 2,
            "linecolor": "white",
            "showbackground": true,
            "ticks": "",
            "zerolinecolor": "white"
           },
           "yaxis": {
            "backgroundcolor": "#E5ECF6",
            "gridcolor": "white",
            "gridwidth": 2,
            "linecolor": "white",
            "showbackground": true,
            "ticks": "",
            "zerolinecolor": "white"
           },
           "zaxis": {
            "backgroundcolor": "#E5ECF6",
            "gridcolor": "white",
            "gridwidth": 2,
            "linecolor": "white",
            "showbackground": true,
            "ticks": "",
            "zerolinecolor": "white"
           }
          },
          "shapedefaults": {
           "line": {
            "color": "#2a3f5f"
           }
          },
          "ternary": {
           "aaxis": {
            "gridcolor": "white",
            "linecolor": "white",
            "ticks": ""
           },
           "baxis": {
            "gridcolor": "white",
            "linecolor": "white",
            "ticks": ""
           },
           "bgcolor": "#E5ECF6",
           "caxis": {
            "gridcolor": "white",
            "linecolor": "white",
            "ticks": ""
           }
          },
          "title": {
           "x": 0.05
          },
          "xaxis": {
           "automargin": true,
           "gridcolor": "white",
           "linecolor": "white",
           "ticks": "",
           "title": {
            "standoff": 15
           },
           "zerolinecolor": "white",
           "zerolinewidth": 2
          },
          "yaxis": {
           "automargin": true,
           "gridcolor": "white",
           "linecolor": "white",
           "ticks": "",
           "title": {
            "standoff": 15
           },
           "zerolinecolor": "white",
           "zerolinewidth": 2
          }
         }
        },
        "title": {
         "text": "CI - dacapo"
        },
        "xaxis": {
         "anchor": "y",
         "categoryorder": "category ascending",
         "domain": [
          0,
          0.31999999999999995
         ],
         "title": {
          "text": "benchmark"
         }
        },
        "xaxis2": {
         "anchor": "y2",
         "categoryorder": "category ascending",
         "domain": [
          0.33999999999999997,
          0.6599999999999999
         ],
         "matches": "x",
         "title": {
          "text": "benchmark"
         }
        },
        "xaxis3": {
         "anchor": "y3",
         "categoryorder": "category ascending",
         "domain": [
          0.6799999999999999,
          0.9999999999999999
         ],
         "matches": "x",
         "title": {
          "text": "benchmark"
         }
        },
        "yaxis": {
         "anchor": "x",
         "domain": [
          0,
          1
         ],
         "title": {
          "text": "mid"
         }
        },
        "yaxis2": {
         "anchor": "x2",
         "domain": [
          0,
          1
         ],
         "matches": "y",
         "showticklabels": false
        },
        "yaxis3": {
         "anchor": "x3",
         "domain": [
          0,
          1
         ],
         "matches": "y",
         "showticklabels": false
        }
       }
      }
     },
     "metadata": {},
     "output_type": "display_data"
    },
    {
     "data": {
      "application/vnd.plotly.v1+json": {
       "config": {
        "plotlyServerURL": "https://plot.ly"
       },
       "data": [
        {
         "error_y": {
          "array": [
           1671052240.5848794,
           504832092.33524024,
           1149760787.0896451,
           94474492.8045149,
           433659173.21833754,
           1317439687.5722623,
           5084311475.172269,
           105011231.52721424,
           816660841.8080726,
           807414806.1083926,
           240166299.3246164,
           305946035.7410852,
           239891539.1141128,
           880397949.0026605,
           326137216.00666404,
           3426497185.777431
          ]
         },
         "hovertemplate": "type=seqn<br>environment=AWS t3.medium<br>benchmark=%{x}<br>mid=%{y}<extra></extra>",
         "legendgroup": "seqn",
         "marker": {
          "color": "#636efa",
          "symbol": "circle"
         },
         "mode": "markers",
         "name": "seqn",
         "orientation": "v",
         "showlegend": true,
         "type": "scatter",
         "x": [
          "500_perlbench_r",
          "505_mcf_r",
          "507_cactuBSSN_r",
          "508_namd_r",
          "511_povray_r",
          "519_lbm_r",
          "520_omnetpp_r",
          "525_x264_r",
          "531_deepsjeng_r",
          "538_imagick_r",
          "541_leela_r",
          "544_nab_r",
          "548_exchange2_r",
          "549_fotonik3d_r",
          "554_roms_r",
          "557_xz_r"
         ],
         "xaxis": "x",
         "y": [
          -2706246040.1396623,
          414658559.13551843,
          5414931.413320541,
          -1460699.2454880774,
          37132107.70324552,
          -1238928792.9503365,
          5426533672.732872,
          107276736.75149456,
          -1009055072.7277277,
          -683475248.780681,
          -123318127.05942002,
          77926373.85614061,
          -108273336.57900763,
          116626090.56195939,
          128618911.57557085,
          -3348740598.2301126
         ],
         "yaxis": "y"
        },
        {
         "error_y": {
          "array": [
           297418056.3783624,
           621910466.8153386,
           77651459.92256011,
           297690382.6866197,
           523953556.446722,
           186566863.66744775,
           487001934.4075563,
           63720463.396182,
           99127350.63618532,
           443322511.792178,
           145225928.2416032,
           72688683.60199776,
           387982452.3879925,
           164669856.78470397,
           149352322.45266026,
           141893337.81425557
          ]
         },
         "hovertemplate": "type=seqn<br>environment=bare-metal<br>benchmark=%{x}<br>mid=%{y}<extra></extra>",
         "legendgroup": "seqn",
         "marker": {
          "color": "#636efa",
          "symbol": "circle"
         },
         "mode": "markers",
         "name": "seqn",
         "orientation": "v",
         "showlegend": false,
         "type": "scatter",
         "x": [
          "500_perlbench_r",
          "505_mcf_r",
          "507_cactuBSSN_r",
          "508_namd_r",
          "511_povray_r",
          "519_lbm_r",
          "520_omnetpp_r",
          "525_x264_r",
          "531_deepsjeng_r",
          "538_imagick_r",
          "541_leela_r",
          "544_nab_r",
          "548_exchange2_r",
          "549_fotonik3d_r",
          "554_roms_r",
          "557_xz_r"
         ],
         "xaxis": "x2",
         "y": [
          -5574413.785082281,
          -608818405.6518955,
          110289841.32059193,
          51568428.927175075,
          -173122653.99800438,
          -115200941.5049246,
          -29808525.213011324,
          92009094.58657286,
          -37964651.845647335,
          -222974218.97696608,
          92878819.43678853,
          10326053.03482806,
          45669985.76014495,
          78061265.60824184,
          -83382626.91787201,
          40042816.32953988
         ],
         "yaxis": "y2"
        },
        {
         "error_y": {
          "array": [
           544453632.1330185,
           237654122.3804139,
           265749379.5962788,
           208632480.56109682,
           389870018.92098844,
           387357771.5342968,
           1857264642.5320282,
           153828511.03599063,
           237917556.25972927,
           614625596.4295937,
           263884938.17355165,
           160880571.31486773,
           227496403.69897658,
           78281666.44920333,
           109355935.38728464,
           329230845.4465957
          ]
         },
         "hovertemplate": "type=duet<br>environment=AWS t3.medium<br>benchmark=%{x}<br>mid=%{y}<extra></extra>",
         "legendgroup": "duet",
         "marker": {
          "color": "#EF553B",
          "symbol": "circle"
         },
         "mode": "markers",
         "name": "duet",
         "orientation": "v",
         "showlegend": true,
         "type": "scatter",
         "x": [
          "500_perlbench_r",
          "505_mcf_r",
          "507_cactuBSSN_r",
          "508_namd_r",
          "511_povray_r",
          "519_lbm_r",
          "520_omnetpp_r",
          "525_x264_r",
          "531_deepsjeng_r",
          "538_imagick_r",
          "541_leela_r",
          "544_nab_r",
          "548_exchange2_r",
          "549_fotonik3d_r",
          "554_roms_r",
          "557_xz_r"
         ],
         "xaxis": "x",
         "y": [
          446948046.82248896,
          -49441035.031571925,
          -125126296.85400432,
          163780788.74455634,
          146533199.69566366,
          400640804.6171058,
          628858909.2104838,
          131744786.8743071,
          -24372016.666695684,
          352453794.1519672,
          129820041.43767421,
          117855056.68999998,
          380236737.4741601,
          -46331206.03476864,
          -16499629.384579435,
          408433416.04997957
         ],
         "yaxis": "y"
        },
        {
         "error_y": {
          "array": [
           253984812.02032164,
           381763297.5047716,
           667232952.3386062,
           217063270.32962492,
           420942283.052376,
           418852716.3681784,
           1014095618.6075578,
           73563458.96060717,
           110238662.51188198,
           356520414.2867838,
           85223663.14468259,
           78510539.57188305,
           336831193.1020651,
           52031127.873505495,
           462667609.20173424,
           448767293.0032526
          ]
         },
         "hovertemplate": "type=duet<br>environment=bare-metal<br>benchmark=%{x}<br>mid=%{y}<extra></extra>",
         "legendgroup": "duet",
         "marker": {
          "color": "#EF553B",
          "symbol": "circle"
         },
         "mode": "markers",
         "name": "duet",
         "orientation": "v",
         "showlegend": false,
         "type": "scatter",
         "x": [
          "500_perlbench_r",
          "505_mcf_r",
          "507_cactuBSSN_r",
          "508_namd_r",
          "511_povray_r",
          "519_lbm_r",
          "520_omnetpp_r",
          "525_x264_r",
          "531_deepsjeng_r",
          "538_imagick_r",
          "541_leela_r",
          "544_nab_r",
          "548_exchange2_r",
          "549_fotonik3d_r",
          "554_roms_r",
          "557_xz_r"
         ],
         "xaxis": "x2",
         "y": [
          -197636176.5016596,
          235949848.3550486,
          174224021.62511283,
          -57965111.164602846,
          -75532617.69428647,
          -474349055.48267895,
          49983182.75300729,
          -11438998.550692067,
          -121040581.10026854,
          136290808.22138605,
          25803715.3046847,
          -8146492.850979835,
          121261510.11129043,
          -62747085.0113705,
          -311984325.2452087,
          207854017.70484036
         ],
         "yaxis": "y2"
        }
       ],
       "layout": {
        "annotations": [
         {
          "font": {},
          "showarrow": false,
          "text": "environment=AWS t3.medium",
          "x": 0.245,
          "xanchor": "center",
          "xref": "paper",
          "y": 1,
          "yanchor": "bottom",
          "yref": "paper"
         },
         {
          "font": {},
          "showarrow": false,
          "text": "environment=bare-metal",
          "x": 0.755,
          "xanchor": "center",
          "xref": "paper",
          "y": 1,
          "yanchor": "bottom",
          "yref": "paper"
         }
        ],
        "legend": {
         "title": {
          "text": "type"
         },
         "tracegroupgap": 0
        },
        "template": {
         "data": {
          "bar": [
           {
            "error_x": {
             "color": "#2a3f5f"
            },
            "error_y": {
             "color": "#2a3f5f"
            },
            "marker": {
             "line": {
              "color": "#E5ECF6",
              "width": 0.5
             },
             "pattern": {
              "fillmode": "overlay",
              "size": 10,
              "solidity": 0.2
             }
            },
            "type": "bar"
           }
          ],
          "barpolar": [
           {
            "marker": {
             "line": {
              "color": "#E5ECF6",
              "width": 0.5
             },
             "pattern": {
              "fillmode": "overlay",
              "size": 10,
              "solidity": 0.2
             }
            },
            "type": "barpolar"
           }
          ],
          "carpet": [
           {
            "aaxis": {
             "endlinecolor": "#2a3f5f",
             "gridcolor": "white",
             "linecolor": "white",
             "minorgridcolor": "white",
             "startlinecolor": "#2a3f5f"
            },
            "baxis": {
             "endlinecolor": "#2a3f5f",
             "gridcolor": "white",
             "linecolor": "white",
             "minorgridcolor": "white",
             "startlinecolor": "#2a3f5f"
            },
            "type": "carpet"
           }
          ],
          "choropleth": [
           {
            "colorbar": {
             "outlinewidth": 0,
             "ticks": ""
            },
            "type": "choropleth"
           }
          ],
          "contour": [
           {
            "colorbar": {
             "outlinewidth": 0,
             "ticks": ""
            },
            "colorscale": [
             [
              0,
              "#0d0887"
             ],
             [
              0.1111111111111111,
              "#46039f"
             ],
             [
              0.2222222222222222,
              "#7201a8"
             ],
             [
              0.3333333333333333,
              "#9c179e"
             ],
             [
              0.4444444444444444,
              "#bd3786"
             ],
             [
              0.5555555555555556,
              "#d8576b"
             ],
             [
              0.6666666666666666,
              "#ed7953"
             ],
             [
              0.7777777777777778,
              "#fb9f3a"
             ],
             [
              0.8888888888888888,
              "#fdca26"
             ],
             [
              1,
              "#f0f921"
             ]
            ],
            "type": "contour"
           }
          ],
          "contourcarpet": [
           {
            "colorbar": {
             "outlinewidth": 0,
             "ticks": ""
            },
            "type": "contourcarpet"
           }
          ],
          "heatmap": [
           {
            "colorbar": {
             "outlinewidth": 0,
             "ticks": ""
            },
            "colorscale": [
             [
              0,
              "#0d0887"
             ],
             [
              0.1111111111111111,
              "#46039f"
             ],
             [
              0.2222222222222222,
              "#7201a8"
             ],
             [
              0.3333333333333333,
              "#9c179e"
             ],
             [
              0.4444444444444444,
              "#bd3786"
             ],
             [
              0.5555555555555556,
              "#d8576b"
             ],
             [
              0.6666666666666666,
              "#ed7953"
             ],
             [
              0.7777777777777778,
              "#fb9f3a"
             ],
             [
              0.8888888888888888,
              "#fdca26"
             ],
             [
              1,
              "#f0f921"
             ]
            ],
            "type": "heatmap"
           }
          ],
          "heatmapgl": [
           {
            "colorbar": {
             "outlinewidth": 0,
             "ticks": ""
            },
            "colorscale": [
             [
              0,
              "#0d0887"
             ],
             [
              0.1111111111111111,
              "#46039f"
             ],
             [
              0.2222222222222222,
              "#7201a8"
             ],
             [
              0.3333333333333333,
              "#9c179e"
             ],
             [
              0.4444444444444444,
              "#bd3786"
             ],
             [
              0.5555555555555556,
              "#d8576b"
             ],
             [
              0.6666666666666666,
              "#ed7953"
             ],
             [
              0.7777777777777778,
              "#fb9f3a"
             ],
             [
              0.8888888888888888,
              "#fdca26"
             ],
             [
              1,
              "#f0f921"
             ]
            ],
            "type": "heatmapgl"
           }
          ],
          "histogram": [
           {
            "marker": {
             "pattern": {
              "fillmode": "overlay",
              "size": 10,
              "solidity": 0.2
             }
            },
            "type": "histogram"
           }
          ],
          "histogram2d": [
           {
            "colorbar": {
             "outlinewidth": 0,
             "ticks": ""
            },
            "colorscale": [
             [
              0,
              "#0d0887"
             ],
             [
              0.1111111111111111,
              "#46039f"
             ],
             [
              0.2222222222222222,
              "#7201a8"
             ],
             [
              0.3333333333333333,
              "#9c179e"
             ],
             [
              0.4444444444444444,
              "#bd3786"
             ],
             [
              0.5555555555555556,
              "#d8576b"
             ],
             [
              0.6666666666666666,
              "#ed7953"
             ],
             [
              0.7777777777777778,
              "#fb9f3a"
             ],
             [
              0.8888888888888888,
              "#fdca26"
             ],
             [
              1,
              "#f0f921"
             ]
            ],
            "type": "histogram2d"
           }
          ],
          "histogram2dcontour": [
           {
            "colorbar": {
             "outlinewidth": 0,
             "ticks": ""
            },
            "colorscale": [
             [
              0,
              "#0d0887"
             ],
             [
              0.1111111111111111,
              "#46039f"
             ],
             [
              0.2222222222222222,
              "#7201a8"
             ],
             [
              0.3333333333333333,
              "#9c179e"
             ],
             [
              0.4444444444444444,
              "#bd3786"
             ],
             [
              0.5555555555555556,
              "#d8576b"
             ],
             [
              0.6666666666666666,
              "#ed7953"
             ],
             [
              0.7777777777777778,
              "#fb9f3a"
             ],
             [
              0.8888888888888888,
              "#fdca26"
             ],
             [
              1,
              "#f0f921"
             ]
            ],
            "type": "histogram2dcontour"
           }
          ],
          "mesh3d": [
           {
            "colorbar": {
             "outlinewidth": 0,
             "ticks": ""
            },
            "type": "mesh3d"
           }
          ],
          "parcoords": [
           {
            "line": {
             "colorbar": {
              "outlinewidth": 0,
              "ticks": ""
             }
            },
            "type": "parcoords"
           }
          ],
          "pie": [
           {
            "automargin": true,
            "type": "pie"
           }
          ],
          "scatter": [
           {
            "fillpattern": {
             "fillmode": "overlay",
             "size": 10,
             "solidity": 0.2
            },
            "type": "scatter"
           }
          ],
          "scatter3d": [
           {
            "line": {
             "colorbar": {
              "outlinewidth": 0,
              "ticks": ""
             }
            },
            "marker": {
             "colorbar": {
              "outlinewidth": 0,
              "ticks": ""
             }
            },
            "type": "scatter3d"
           }
          ],
          "scattercarpet": [
           {
            "marker": {
             "colorbar": {
              "outlinewidth": 0,
              "ticks": ""
             }
            },
            "type": "scattercarpet"
           }
          ],
          "scattergeo": [
           {
            "marker": {
             "colorbar": {
              "outlinewidth": 0,
              "ticks": ""
             }
            },
            "type": "scattergeo"
           }
          ],
          "scattergl": [
           {
            "marker": {
             "colorbar": {
              "outlinewidth": 0,
              "ticks": ""
             }
            },
            "type": "scattergl"
           }
          ],
          "scattermapbox": [
           {
            "marker": {
             "colorbar": {
              "outlinewidth": 0,
              "ticks": ""
             }
            },
            "type": "scattermapbox"
           }
          ],
          "scatterpolar": [
           {
            "marker": {
             "colorbar": {
              "outlinewidth": 0,
              "ticks": ""
             }
            },
            "type": "scatterpolar"
           }
          ],
          "scatterpolargl": [
           {
            "marker": {
             "colorbar": {
              "outlinewidth": 0,
              "ticks": ""
             }
            },
            "type": "scatterpolargl"
           }
          ],
          "scatterternary": [
           {
            "marker": {
             "colorbar": {
              "outlinewidth": 0,
              "ticks": ""
             }
            },
            "type": "scatterternary"
           }
          ],
          "surface": [
           {
            "colorbar": {
             "outlinewidth": 0,
             "ticks": ""
            },
            "colorscale": [
             [
              0,
              "#0d0887"
             ],
             [
              0.1111111111111111,
              "#46039f"
             ],
             [
              0.2222222222222222,
              "#7201a8"
             ],
             [
              0.3333333333333333,
              "#9c179e"
             ],
             [
              0.4444444444444444,
              "#bd3786"
             ],
             [
              0.5555555555555556,
              "#d8576b"
             ],
             [
              0.6666666666666666,
              "#ed7953"
             ],
             [
              0.7777777777777778,
              "#fb9f3a"
             ],
             [
              0.8888888888888888,
              "#fdca26"
             ],
             [
              1,
              "#f0f921"
             ]
            ],
            "type": "surface"
           }
          ],
          "table": [
           {
            "cells": {
             "fill": {
              "color": "#EBF0F8"
             },
             "line": {
              "color": "white"
             }
            },
            "header": {
             "fill": {
              "color": "#C8D4E3"
             },
             "line": {
              "color": "white"
             }
            },
            "type": "table"
           }
          ]
         },
         "layout": {
          "annotationdefaults": {
           "arrowcolor": "#2a3f5f",
           "arrowhead": 0,
           "arrowwidth": 1
          },
          "autotypenumbers": "strict",
          "coloraxis": {
           "colorbar": {
            "outlinewidth": 0,
            "ticks": ""
           }
          },
          "colorscale": {
           "diverging": [
            [
             0,
             "#8e0152"
            ],
            [
             0.1,
             "#c51b7d"
            ],
            [
             0.2,
             "#de77ae"
            ],
            [
             0.3,
             "#f1b6da"
            ],
            [
             0.4,
             "#fde0ef"
            ],
            [
             0.5,
             "#f7f7f7"
            ],
            [
             0.6,
             "#e6f5d0"
            ],
            [
             0.7,
             "#b8e186"
            ],
            [
             0.8,
             "#7fbc41"
            ],
            [
             0.9,
             "#4d9221"
            ],
            [
             1,
             "#276419"
            ]
           ],
           "sequential": [
            [
             0,
             "#0d0887"
            ],
            [
             0.1111111111111111,
             "#46039f"
            ],
            [
             0.2222222222222222,
             "#7201a8"
            ],
            [
             0.3333333333333333,
             "#9c179e"
            ],
            [
             0.4444444444444444,
             "#bd3786"
            ],
            [
             0.5555555555555556,
             "#d8576b"
            ],
            [
             0.6666666666666666,
             "#ed7953"
            ],
            [
             0.7777777777777778,
             "#fb9f3a"
            ],
            [
             0.8888888888888888,
             "#fdca26"
            ],
            [
             1,
             "#f0f921"
            ]
           ],
           "sequentialminus": [
            [
             0,
             "#0d0887"
            ],
            [
             0.1111111111111111,
             "#46039f"
            ],
            [
             0.2222222222222222,
             "#7201a8"
            ],
            [
             0.3333333333333333,
             "#9c179e"
            ],
            [
             0.4444444444444444,
             "#bd3786"
            ],
            [
             0.5555555555555556,
             "#d8576b"
            ],
            [
             0.6666666666666666,
             "#ed7953"
            ],
            [
             0.7777777777777778,
             "#fb9f3a"
            ],
            [
             0.8888888888888888,
             "#fdca26"
            ],
            [
             1,
             "#f0f921"
            ]
           ]
          },
          "colorway": [
           "#636efa",
           "#EF553B",
           "#00cc96",
           "#ab63fa",
           "#FFA15A",
           "#19d3f3",
           "#FF6692",
           "#B6E880",
           "#FF97FF",
           "#FECB52"
          ],
          "font": {
           "color": "#2a3f5f"
          },
          "geo": {
           "bgcolor": "white",
           "lakecolor": "white",
           "landcolor": "#E5ECF6",
           "showlakes": true,
           "showland": true,
           "subunitcolor": "white"
          },
          "hoverlabel": {
           "align": "left"
          },
          "hovermode": "closest",
          "mapbox": {
           "style": "light"
          },
          "paper_bgcolor": "white",
          "plot_bgcolor": "#E5ECF6",
          "polar": {
           "angularaxis": {
            "gridcolor": "white",
            "linecolor": "white",
            "ticks": ""
           },
           "bgcolor": "#E5ECF6",
           "radialaxis": {
            "gridcolor": "white",
            "linecolor": "white",
            "ticks": ""
           }
          },
          "scene": {
           "xaxis": {
            "backgroundcolor": "#E5ECF6",
            "gridcolor": "white",
            "gridwidth": 2,
            "linecolor": "white",
            "showbackground": true,
            "ticks": "",
            "zerolinecolor": "white"
           },
           "yaxis": {
            "backgroundcolor": "#E5ECF6",
            "gridcolor": "white",
            "gridwidth": 2,
            "linecolor": "white",
            "showbackground": true,
            "ticks": "",
            "zerolinecolor": "white"
           },
           "zaxis": {
            "backgroundcolor": "#E5ECF6",
            "gridcolor": "white",
            "gridwidth": 2,
            "linecolor": "white",
            "showbackground": true,
            "ticks": "",
            "zerolinecolor": "white"
           }
          },
          "shapedefaults": {
           "line": {
            "color": "#2a3f5f"
           }
          },
          "ternary": {
           "aaxis": {
            "gridcolor": "white",
            "linecolor": "white",
            "ticks": ""
           },
           "baxis": {
            "gridcolor": "white",
            "linecolor": "white",
            "ticks": ""
           },
           "bgcolor": "#E5ECF6",
           "caxis": {
            "gridcolor": "white",
            "linecolor": "white",
            "ticks": ""
           }
          },
          "title": {
           "x": 0.05
          },
          "xaxis": {
           "automargin": true,
           "gridcolor": "white",
           "linecolor": "white",
           "ticks": "",
           "title": {
            "standoff": 15
           },
           "zerolinecolor": "white",
           "zerolinewidth": 2
          },
          "yaxis": {
           "automargin": true,
           "gridcolor": "white",
           "linecolor": "white",
           "ticks": "",
           "title": {
            "standoff": 15
           },
           "zerolinecolor": "white",
           "zerolinewidth": 2
          }
         }
        },
        "title": {
         "text": "CI - speccpu"
        },
        "xaxis": {
         "anchor": "y",
         "categoryorder": "category ascending",
         "domain": [
          0,
          0.49
         ],
         "title": {
          "text": "benchmark"
         }
        },
        "xaxis2": {
         "anchor": "y2",
         "categoryorder": "category ascending",
         "domain": [
          0.51,
          1
         ],
         "matches": "x",
         "title": {
          "text": "benchmark"
         }
        },
        "yaxis": {
         "anchor": "x",
         "domain": [
          0,
          1
         ],
         "title": {
          "text": "mid"
         }
        },
        "yaxis2": {
         "anchor": "x2",
         "domain": [
          0,
          1
         ],
         "matches": "y",
         "showticklabels": false
        }
       }
      }
     },
     "metadata": {},
     "output_type": "display_data"
    }
   ],
   "source": [
    "for suite in unique_suites:\n",
    "    suite_mask = df_ci[RF.suite] == suite\n",
    "    if suite_mask.any():\n",
    "        fig = px.scatter(\n",
    "            df_ci[suite_mask],\n",
    "            x=\"benchmark\",\n",
    "            y=\"mid\",\n",
    "            error_y=\"err\",\n",
    "            color=RF.type,\n",
    "            facet_col=DF.env,\n",
    "            title=f\"CI - {suite}\",\n",
    "        )\n",
    "        fig.update_xaxes(categoryorder=\"category ascending\")\n",
    "        fig.show()"
   ]
  },
  {
   "attachments": {},
   "cell_type": "markdown",
   "metadata": {},
   "source": [
    "### Relative CI width"
   ]
  },
  {
   "cell_type": "code",
   "execution_count": 28,
   "metadata": {},
   "outputs": [
    {
     "data": {
      "application/vnd.plotly.v1+json": {
       "config": {
        "plotlyServerURL": "https://plot.ly"
       },
       "data": [
        {
         "alignmentgroup": "True",
         "customdata": [
          [
           "avrora"
          ],
          [
           "fop"
          ],
          [
           "h2"
          ],
          [
           "luindex"
          ],
          [
           "lusearch"
          ],
          [
           "pmd"
          ],
          [
           "sunflow"
          ],
          [
           "tradebeans"
          ],
          [
           "tradesoap"
          ],
          [
           "xalan"
          ],
          [
           "akka-uct"
          ],
          [
           "als"
          ],
          [
           "chi-square"
          ],
          [
           "db-shootout"
          ],
          [
           "dec-tree"
          ],
          [
           "dotty"
          ],
          [
           "finagle-chirper"
          ],
          [
           "finagle-http"
          ],
          [
           "fj-kmeans"
          ],
          [
           "future-genetic"
          ],
          [
           "gauss-mix"
          ],
          [
           "log-regression"
          ],
          [
           "mnemonics"
          ],
          [
           "movie-lens"
          ],
          [
           "naive-bayes"
          ],
          [
           "page-rank"
          ],
          [
           "par-mnemonics"
          ],
          [
           "philosophers"
          ],
          [
           "reactors"
          ],
          [
           "rx-scrabble"
          ],
          [
           "scala-doku"
          ],
          [
           "scala-kmeans"
          ],
          [
           "scala-stm-bench7"
          ],
          [
           "scrabble"
          ],
          [
           "apparat"
          ],
          [
           "avrora"
          ],
          [
           "factorie"
          ],
          [
           "fop"
          ],
          [
           "h2"
          ],
          [
           "kiama"
          ],
          [
           "luindex"
          ],
          [
           "lusearch"
          ],
          [
           "pmd"
          ],
          [
           "scalac"
          ],
          [
           "scaladoc"
          ],
          [
           "scalap"
          ],
          [
           "scalariform"
          ],
          [
           "scalatest"
          ],
          [
           "scalaxb"
          ],
          [
           "specs"
          ],
          [
           "sunflow"
          ],
          [
           "tmt"
          ],
          [
           "tradebeans"
          ],
          [
           "tradesoap"
          ],
          [
           "xalan"
          ],
          [
           "500_perlbench_r"
          ],
          [
           "505_mcf_r"
          ],
          [
           "507_cactuBSSN_r"
          ],
          [
           "508_namd_r"
          ],
          [
           "511_povray_r"
          ],
          [
           "519_lbm_r"
          ],
          [
           "520_omnetpp_r"
          ],
          [
           "525_x264_r"
          ],
          [
           "531_deepsjeng_r"
          ],
          [
           "538_imagick_r"
          ],
          [
           "541_leela_r"
          ],
          [
           "544_nab_r"
          ],
          [
           "548_exchange2_r"
          ],
          [
           "549_fotonik3d_r"
          ],
          [
           "554_roms_r"
          ],
          [
           "557_xz_r"
          ]
         ],
         "hovertemplate": "type=seqn<br>environment=AWS t3.medium<br>suite=%{x}<br>ci_width=%{y}<br>benchmark=%{customdata[0]}<extra></extra>",
         "legendgroup": "seqn",
         "marker": {
          "color": "#636efa"
         },
         "name": "seqn",
         "notched": false,
         "offsetgroup": "seqn",
         "orientation": "v",
         "showlegend": true,
         "type": "box",
         "x": [
          "dacapo",
          "dacapo",
          "dacapo",
          "dacapo",
          "dacapo",
          "dacapo",
          "dacapo",
          "dacapo",
          "dacapo",
          "dacapo",
          "renaissance",
          "renaissance",
          "renaissance",
          "renaissance",
          "renaissance",
          "renaissance",
          "renaissance",
          "renaissance",
          "renaissance",
          "renaissance",
          "renaissance",
          "renaissance",
          "renaissance",
          "renaissance",
          "renaissance",
          "renaissance",
          "renaissance",
          "renaissance",
          "renaissance",
          "renaissance",
          "renaissance",
          "renaissance",
          "renaissance",
          "renaissance",
          "scalabench",
          "scalabench",
          "scalabench",
          "scalabench",
          "scalabench",
          "scalabench",
          "scalabench",
          "scalabench",
          "scalabench",
          "scalabench",
          "scalabench",
          "scalabench",
          "scalabench",
          "scalabench",
          "scalabench",
          "scalabench",
          "scalabench",
          "scalabench",
          "scalabench",
          "scalabench",
          "scalabench",
          "speccpu",
          "speccpu",
          "speccpu",
          "speccpu",
          "speccpu",
          "speccpu",
          "speccpu",
          "speccpu",
          "speccpu",
          "speccpu",
          "speccpu",
          "speccpu",
          "speccpu",
          "speccpu",
          "speccpu",
          "speccpu"
         ],
         "x0": " ",
         "xaxis": "x",
         "y": [
          0.011058476733430894,
          0.036468353831676355,
          0.03859008925708048,
          0.019758957184987967,
          0.0415257181168624,
          0.012779337511349385,
          0.02233529563662264,
          0.030026073959712865,
          0.009203435972720374,
          0.018358052591199655,
          0.03189299483249226,
          0.011058757170364341,
          0.09428870674417685,
          0.025402518125408734,
          0.022857067624818518,
          0.028105079076256798,
          0.040234556585271065,
          0.018114829196791866,
          0.01337241256279532,
          0.016310351001791956,
          0.04166175538606212,
          0.042274958976157066,
          0.012973989672141006,
          0.014226939454574067,
          0.03171362765871995,
          0.03234339163035594,
          0.03421128191869722,
          0.025205128593509925,
          0.02050463351645439,
          0.039090671148893426,
          0.024702661204692507,
          0.019119927181880964,
          0.01737166007067071,
          0.02649491233374863,
          0.06371333489777378,
          0.007491477280322255,
          0.15836517578099948,
          0.047379692432546736,
          0.035518331773094755,
          0.028633660342155986,
          0.0272938346302054,
          0.03813660237697917,
          0.014167830826740177,
          0.03487509234299815,
          0.01997519651729185,
          0.03165944090483176,
          0.031486926374211806,
          0.012476653964091668,
          0.06637549572897568,
          0.014280879735298275,
          0.026697969944046954,
          0.20889018293553638,
          0.04125498950402041,
          0.009184194459962738,
          0.015956234611350296,
          0.009272131721229693,
          0.002666841411630873,
          0.008131519088108469,
          0.000826259151270655,
          0.0026797179416830456,
          0.011700772196274415,
          0.02116213706637708,
          0.000975948157352638,
          0.005034793573355223,
          0.0036870682594554137,
          0.0009615992430348425,
          0.0020302903397183716,
          0.0010777977727077814,
          0.004290238197048984,
          0.002392949917815728,
          0.014331394995111907
         ],
         "y0": " ",
         "yaxis": "y"
        },
        {
         "alignmentgroup": "True",
         "customdata": [
          [
           "avrora"
          ],
          [
           "fop"
          ],
          [
           "h2"
          ],
          [
           "luindex"
          ],
          [
           "lusearch"
          ],
          [
           "pmd"
          ],
          [
           "sunflow"
          ],
          [
           "tradebeans"
          ],
          [
           "tradesoap"
          ],
          [
           "xalan"
          ],
          [
           "akka-uct"
          ],
          [
           "als"
          ],
          [
           "chi-square"
          ],
          [
           "db-shootout"
          ],
          [
           "dec-tree"
          ],
          [
           "dotty"
          ],
          [
           "finagle-chirper"
          ],
          [
           "finagle-http"
          ],
          [
           "fj-kmeans"
          ],
          [
           "future-genetic"
          ],
          [
           "gauss-mix"
          ],
          [
           "log-regression"
          ],
          [
           "mnemonics"
          ],
          [
           "movie-lens"
          ],
          [
           "naive-bayes"
          ],
          [
           "page-rank"
          ],
          [
           "par-mnemonics"
          ],
          [
           "philosophers"
          ],
          [
           "reactors"
          ],
          [
           "rx-scrabble"
          ],
          [
           "scala-doku"
          ],
          [
           "scala-kmeans"
          ],
          [
           "scala-stm-bench7"
          ],
          [
           "scrabble"
          ],
          [
           "apparat"
          ],
          [
           "avrora"
          ],
          [
           "factorie"
          ],
          [
           "fop"
          ],
          [
           "h2"
          ],
          [
           "kiama"
          ],
          [
           "luindex"
          ],
          [
           "lusearch"
          ],
          [
           "pmd"
          ],
          [
           "scalac"
          ],
          [
           "scaladoc"
          ],
          [
           "scalap"
          ],
          [
           "scalariform"
          ],
          [
           "scalatest"
          ],
          [
           "scalaxb"
          ],
          [
           "specs"
          ],
          [
           "sunflow"
          ],
          [
           "tmt"
          ],
          [
           "tradebeans"
          ],
          [
           "tradesoap"
          ],
          [
           "xalan"
          ],
          [
           "500_perlbench_r"
          ],
          [
           "505_mcf_r"
          ],
          [
           "507_cactuBSSN_r"
          ],
          [
           "508_namd_r"
          ],
          [
           "511_povray_r"
          ],
          [
           "519_lbm_r"
          ],
          [
           "520_omnetpp_r"
          ],
          [
           "525_x264_r"
          ],
          [
           "531_deepsjeng_r"
          ],
          [
           "538_imagick_r"
          ],
          [
           "541_leela_r"
          ],
          [
           "544_nab_r"
          ],
          [
           "548_exchange2_r"
          ],
          [
           "549_fotonik3d_r"
          ],
          [
           "554_roms_r"
          ],
          [
           "557_xz_r"
          ]
         ],
         "hovertemplate": "type=seqn<br>environment=bare-metal<br>suite=%{x}<br>ci_width=%{y}<br>benchmark=%{customdata[0]}<extra></extra>",
         "legendgroup": "seqn",
         "marker": {
          "color": "#636efa"
         },
         "name": "seqn",
         "notched": false,
         "offsetgroup": "seqn",
         "orientation": "v",
         "showlegend": false,
         "type": "box",
         "x": [
          "dacapo",
          "dacapo",
          "dacapo",
          "dacapo",
          "dacapo",
          "dacapo",
          "dacapo",
          "dacapo",
          "dacapo",
          "dacapo",
          "renaissance",
          "renaissance",
          "renaissance",
          "renaissance",
          "renaissance",
          "renaissance",
          "renaissance",
          "renaissance",
          "renaissance",
          "renaissance",
          "renaissance",
          "renaissance",
          "renaissance",
          "renaissance",
          "renaissance",
          "renaissance",
          "renaissance",
          "renaissance",
          "renaissance",
          "renaissance",
          "renaissance",
          "renaissance",
          "renaissance",
          "renaissance",
          "scalabench",
          "scalabench",
          "scalabench",
          "scalabench",
          "scalabench",
          "scalabench",
          "scalabench",
          "scalabench",
          "scalabench",
          "scalabench",
          "scalabench",
          "scalabench",
          "scalabench",
          "scalabench",
          "scalabench",
          "scalabench",
          "scalabench",
          "scalabench",
          "scalabench",
          "scalabench",
          "scalabench",
          "speccpu",
          "speccpu",
          "speccpu",
          "speccpu",
          "speccpu",
          "speccpu",
          "speccpu",
          "speccpu",
          "speccpu",
          "speccpu",
          "speccpu",
          "speccpu",
          "speccpu",
          "speccpu",
          "speccpu",
          "speccpu"
         ],
         "x0": " ",
         "xaxis": "x2",
         "y": [
          0.007467833889628536,
          0.00891094173504395,
          0.021848983432809957,
          0.01299199762486982,
          0.022134575667764535,
          0.010311852128348802,
          0.020600627137923804,
          0.01814422120180262,
          0.0077435706068590985,
          0.01674883906863221,
          0.09898578741827839,
          0.008946855548124199,
          0.03826456484930339,
          0.022364405391093304,
          0.020482405976134495,
          0.011652451144897236,
          0.02498484017527424,
          0.009135053401407458,
          0.052540888168211355,
          0.010063477841705304,
          0.04309520937005051,
          0.02381527295354402,
          0.03413502879932871,
          0.010621418837767514,
          0.046561862355797255,
          0.020594411860460203,
          0.02044966966355603,
          0.05204801744198087,
          0.048783210605311836,
          0.02524081573696683,
          0.21520548359156275,
          0.014752937738194784,
          0.01824540973354275,
          0.08649748140998005,
          0.015073415490117547,
          0.005543481932966369,
          0.05785633900385742,
          0.006496972743495963,
          0.01570481010770253,
          0.009961470454804769,
          0.015747956895194773,
          0.0239308268174235,
          0.013284908492502131,
          0.017310885699187626,
          0.01643129806628102,
          0.014017469177362062,
          0.008769017265373042,
          0.008996979591398262,
          0.00798317955293813,
          0.0022813759635068823,
          0.02382542791261475,
          0.06255089050017093,
          0.01861058124621238,
          0.006239275236487498,
          0.019526607195805297,
          0.0021024069904931933,
          0.004442387192873281,
          0.0007357398313217293,
          0.002921830155100222,
          0.003629923853310664,
          0.0023376748007810423,
          0.0026784350529358058,
          0.000697588829203304,
          0.0007538372537873777,
          0.00272480640878621,
          0.000690920183334975,
          0.0005495586378608195,
          0.0021291992321224437,
          0.0011847479980141326,
          0.0015528055665230316,
          0.0007763553370935496
         ],
         "y0": " ",
         "yaxis": "y2"
        },
        {
         "alignmentgroup": "True",
         "customdata": [
          [
           "avrora"
          ],
          [
           "fop"
          ],
          [
           "h2"
          ],
          [
           "luindex"
          ],
          [
           "lusearch"
          ],
          [
           "pmd"
          ],
          [
           "sunflow"
          ],
          [
           "tradebeans"
          ],
          [
           "tradesoap"
          ],
          [
           "xalan"
          ],
          [
           "akka-uct"
          ],
          [
           "als"
          ],
          [
           "chi-square"
          ],
          [
           "db-shootout"
          ],
          [
           "dec-tree"
          ],
          [
           "dotty"
          ],
          [
           "finagle-chirper"
          ],
          [
           "finagle-http"
          ],
          [
           "fj-kmeans"
          ],
          [
           "future-genetic"
          ],
          [
           "gauss-mix"
          ],
          [
           "log-regression"
          ],
          [
           "mnemonics"
          ],
          [
           "movie-lens"
          ],
          [
           "naive-bayes"
          ],
          [
           "page-rank"
          ],
          [
           "par-mnemonics"
          ],
          [
           "philosophers"
          ],
          [
           "reactors"
          ],
          [
           "rx-scrabble"
          ],
          [
           "scala-doku"
          ],
          [
           "scala-kmeans"
          ],
          [
           "scala-stm-bench7"
          ],
          [
           "scrabble"
          ],
          [
           "apparat"
          ],
          [
           "avrora"
          ],
          [
           "factorie"
          ],
          [
           "fop"
          ],
          [
           "h2"
          ],
          [
           "kiama"
          ],
          [
           "luindex"
          ],
          [
           "lusearch"
          ],
          [
           "pmd"
          ],
          [
           "scalac"
          ],
          [
           "scaladoc"
          ],
          [
           "scalap"
          ],
          [
           "scalariform"
          ],
          [
           "scalatest"
          ],
          [
           "scalaxb"
          ],
          [
           "specs"
          ],
          [
           "sunflow"
          ],
          [
           "tmt"
          ],
          [
           "tradebeans"
          ],
          [
           "tradesoap"
          ],
          [
           "xalan"
          ]
         ],
         "hovertemplate": "type=seqn<br>environment=shared-vm<br>suite=%{x}<br>ci_width=%{y}<br>benchmark=%{customdata[0]}<extra></extra>",
         "legendgroup": "seqn",
         "marker": {
          "color": "#636efa"
         },
         "name": "seqn",
         "notched": false,
         "offsetgroup": "seqn",
         "orientation": "v",
         "showlegend": false,
         "type": "box",
         "x": [
          "dacapo",
          "dacapo",
          "dacapo",
          "dacapo",
          "dacapo",
          "dacapo",
          "dacapo",
          "dacapo",
          "dacapo",
          "dacapo",
          "renaissance",
          "renaissance",
          "renaissance",
          "renaissance",
          "renaissance",
          "renaissance",
          "renaissance",
          "renaissance",
          "renaissance",
          "renaissance",
          "renaissance",
          "renaissance",
          "renaissance",
          "renaissance",
          "renaissance",
          "renaissance",
          "renaissance",
          "renaissance",
          "renaissance",
          "renaissance",
          "renaissance",
          "renaissance",
          "renaissance",
          "renaissance",
          "scalabench",
          "scalabench",
          "scalabench",
          "scalabench",
          "scalabench",
          "scalabench",
          "scalabench",
          "scalabench",
          "scalabench",
          "scalabench",
          "scalabench",
          "scalabench",
          "scalabench",
          "scalabench",
          "scalabench",
          "scalabench",
          "scalabench",
          "scalabench",
          "scalabench",
          "scalabench",
          "scalabench"
         ],
         "x0": " ",
         "xaxis": "x3",
         "y": [
          0.020029533938341657,
          0.11503976771615304,
          0.0603412447064706,
          0.09392156267122631,
          0.22121153387585435,
          0.0355983823725884,
          0.14365496357409097,
          0.08257137536175675,
          0.02628984371466692,
          0.1841558757208462,
          0.19476867459815886,
          0.03935202267172633,
          0.12892752644786365,
          0.08281435841440418,
          0.1416875890132565,
          0.047087163093858485,
          0.04858081429113462,
          0.04114612529045841,
          0.07534322984070702,
          0.062251480336728914,
          0.17819164199171994,
          0.12398811109489577,
          0.06696123069075358,
          0.14495915750871924,
          0.24889439403951666,
          0.2042085689172965,
          0.1394023149158067,
          0.1382808458941588,
          0.09156600838807527,
          0.10048832138886434,
          0.09603301864414544,
          0.09081024073738399,
          0.20988906384375083,
          0.19388936550675412,
          0.06878400777719165,
          0.06349127639048861,
          0.15869328812688202,
          0.1475246950035396,
          0.05121072463096079,
          0.10190406560783213,
          0.15740844219334407,
          0.1033886187137713,
          0.043554069576663086,
          0.08384919915828278,
          0.11692444623840982,
          0.0797694158429159,
          0.08129734471468782,
          0.10589063892453848,
          0.18318794297972693,
          0.06471857458795062,
          0.07940885077740972,
          0.18280051491929428,
          0.05732544512660673,
          0.13195529597950895,
          0.2405456521292433
         ],
         "y0": " ",
         "yaxis": "y3"
        },
        {
         "alignmentgroup": "True",
         "customdata": [
          [
           "avrora"
          ],
          [
           "fop"
          ],
          [
           "h2"
          ],
          [
           "luindex"
          ],
          [
           "lusearch"
          ],
          [
           "pmd"
          ],
          [
           "sunflow"
          ],
          [
           "tradebeans"
          ],
          [
           "tradesoap"
          ],
          [
           "xalan"
          ],
          [
           "apparat"
          ],
          [
           "avrora"
          ],
          [
           "factorie"
          ],
          [
           "fop"
          ],
          [
           "h2"
          ],
          [
           "kiama"
          ],
          [
           "luindex"
          ],
          [
           "lusearch"
          ],
          [
           "pmd"
          ],
          [
           "scalac"
          ],
          [
           "scaladoc"
          ],
          [
           "scalap"
          ],
          [
           "scalariform"
          ],
          [
           "scalatest"
          ],
          [
           "scalaxb"
          ],
          [
           "specs"
          ],
          [
           "sunflow"
          ],
          [
           "tmt"
          ],
          [
           "tradebeans"
          ],
          [
           "tradesoap"
          ],
          [
           "xalan"
          ]
         ],
         "hovertemplate": "type=syncduet<br>environment=AWS t3.medium<br>suite=%{x}<br>ci_width=%{y}<br>benchmark=%{customdata[0]}<extra></extra>",
         "legendgroup": "syncduet",
         "marker": {
          "color": "#EF553B"
         },
         "name": "syncduet",
         "notched": false,
         "offsetgroup": "syncduet",
         "orientation": "v",
         "showlegend": true,
         "type": "box",
         "x": [
          "dacapo",
          "dacapo",
          "dacapo",
          "dacapo",
          "dacapo",
          "dacapo",
          "dacapo",
          "dacapo",
          "dacapo",
          "dacapo",
          "scalabench",
          "scalabench",
          "scalabench",
          "scalabench",
          "scalabench",
          "scalabench",
          "scalabench",
          "scalabench",
          "scalabench",
          "scalabench",
          "scalabench",
          "scalabench",
          "scalabench",
          "scalabench",
          "scalabench",
          "scalabench",
          "scalabench",
          "scalabench",
          "scalabench",
          "scalabench",
          "scalabench"
         ],
         "x0": " ",
         "xaxis": "x",
         "y": [
          0.011951569352001723,
          0.019236726784534943,
          0.0503063811723807,
          0.010706391950788527,
          0.013562901231051621,
          0.006988544641670315,
          0.013876271274907205,
          0.023623052965955342,
          0.006833290275980418,
          0.013373680015507339,
          0.0665804095662235,
          0.010065522268702724,
          0.11817553066958102,
          0.050088790944610155,
          0.018833991937685698,
          0.016339627579447135,
          0.00869430890444057,
          0.0062646496449451985,
          0.008415793309883509,
          0.011655529785275176,
          0.010997960218539604,
          0.03905887552960023,
          0.014731050812066509,
          0.008279242058337489,
          0.027208603966921752,
          0.011720596567433569,
          0.029961579591709486,
          0.11948586529738292,
          0.019335072824484174,
          0.00929535814856096,
          0.005086514111215599
         ],
         "y0": " ",
         "yaxis": "y"
        },
        {
         "alignmentgroup": "True",
         "customdata": [
          [
           "avrora"
          ],
          [
           "fop"
          ],
          [
           "h2"
          ],
          [
           "luindex"
          ],
          [
           "lusearch"
          ],
          [
           "pmd"
          ],
          [
           "sunflow"
          ],
          [
           "tradebeans"
          ],
          [
           "tradesoap"
          ],
          [
           "xalan"
          ],
          [
           "apparat"
          ],
          [
           "avrora"
          ],
          [
           "factorie"
          ],
          [
           "fop"
          ],
          [
           "h2"
          ],
          [
           "kiama"
          ],
          [
           "luindex"
          ],
          [
           "lusearch"
          ],
          [
           "pmd"
          ],
          [
           "scalac"
          ],
          [
           "scaladoc"
          ],
          [
           "scalap"
          ],
          [
           "scalariform"
          ],
          [
           "scalatest"
          ],
          [
           "scalaxb"
          ],
          [
           "specs"
          ],
          [
           "sunflow"
          ],
          [
           "tmt"
          ],
          [
           "tradebeans"
          ],
          [
           "tradesoap"
          ],
          [
           "xalan"
          ]
         ],
         "hovertemplate": "type=syncduet<br>environment=bare-metal<br>suite=%{x}<br>ci_width=%{y}<br>benchmark=%{customdata[0]}<extra></extra>",
         "legendgroup": "syncduet",
         "marker": {
          "color": "#EF553B"
         },
         "name": "syncduet",
         "notched": false,
         "offsetgroup": "syncduet",
         "orientation": "v",
         "showlegend": false,
         "type": "box",
         "x": [
          "dacapo",
          "dacapo",
          "dacapo",
          "dacapo",
          "dacapo",
          "dacapo",
          "dacapo",
          "dacapo",
          "dacapo",
          "dacapo",
          "scalabench",
          "scalabench",
          "scalabench",
          "scalabench",
          "scalabench",
          "scalabench",
          "scalabench",
          "scalabench",
          "scalabench",
          "scalabench",
          "scalabench",
          "scalabench",
          "scalabench",
          "scalabench",
          "scalabench",
          "scalabench",
          "scalabench",
          "scalabench",
          "scalabench",
          "scalabench",
          "scalabench"
         ],
         "x0": " ",
         "xaxis": "x2",
         "y": [
          0.00485500968448639,
          0.011974130167033385,
          0.02444562088463852,
          0.018731013441485134,
          0.011846681819740097,
          0.011371791939533018,
          0.006245674216198715,
          0.02081788462887339,
          0.0016253501462405893,
          0.013469456418041783,
          0.018769265514090024,
          0.004346524189154816,
          0.07647913675481349,
          0.013492867572146268,
          0.027629588340969465,
          0.009698858676947673,
          0.004628290314213658,
          0.007441586806723692,
          0.008457586437128755,
          0.03855301416180772,
          0.020469629206881033,
          0.015081559634020312,
          0.009364025413171701,
          0.006076521784938266,
          0.051355650086404366,
          0.00382974434006958,
          0.0027951848660383244,
          0.060336890747456844,
          0.01317611765562835,
          0.002682542255184833,
          0.008171473476024458
         ],
         "y0": " ",
         "yaxis": "y2"
        },
        {
         "alignmentgroup": "True",
         "customdata": [
          [
           "avrora"
          ],
          [
           "fop"
          ],
          [
           "h2"
          ],
          [
           "luindex"
          ],
          [
           "lusearch"
          ],
          [
           "pmd"
          ],
          [
           "sunflow"
          ],
          [
           "tradebeans"
          ],
          [
           "tradesoap"
          ],
          [
           "xalan"
          ],
          [
           "apparat"
          ],
          [
           "avrora"
          ],
          [
           "factorie"
          ],
          [
           "fop"
          ],
          [
           "h2"
          ],
          [
           "kiama"
          ],
          [
           "luindex"
          ],
          [
           "lusearch"
          ],
          [
           "pmd"
          ],
          [
           "scalac"
          ],
          [
           "scaladoc"
          ],
          [
           "scalap"
          ],
          [
           "scalariform"
          ],
          [
           "scalatest"
          ],
          [
           "scalaxb"
          ],
          [
           "specs"
          ],
          [
           "sunflow"
          ],
          [
           "tmt"
          ],
          [
           "tradebeans"
          ],
          [
           "tradesoap"
          ],
          [
           "xalan"
          ]
         ],
         "hovertemplate": "type=syncduet<br>environment=shared-vm<br>suite=%{x}<br>ci_width=%{y}<br>benchmark=%{customdata[0]}<extra></extra>",
         "legendgroup": "syncduet",
         "marker": {
          "color": "#EF553B"
         },
         "name": "syncduet",
         "notched": false,
         "offsetgroup": "syncduet",
         "orientation": "v",
         "showlegend": false,
         "type": "box",
         "x": [
          "dacapo",
          "dacapo",
          "dacapo",
          "dacapo",
          "dacapo",
          "dacapo",
          "dacapo",
          "dacapo",
          "dacapo",
          "dacapo",
          "scalabench",
          "scalabench",
          "scalabench",
          "scalabench",
          "scalabench",
          "scalabench",
          "scalabench",
          "scalabench",
          "scalabench",
          "scalabench",
          "scalabench",
          "scalabench",
          "scalabench",
          "scalabench",
          "scalabench",
          "scalabench",
          "scalabench",
          "scalabench",
          "scalabench",
          "scalabench",
          "scalabench"
         ],
         "x0": " ",
         "xaxis": "x3",
         "y": [
          0.016842859018198698,
          0.10370742270542217,
          0.04066092375355272,
          0.033137416526390566,
          0.034584470765535516,
          0.03789612245178458,
          0.01946500512363033,
          0.03722489896258249,
          0.01744836797465531,
          0.04408215130729602,
          0.02663608479544108,
          0.01676473581383745,
          0.10624639509782241,
          0.10653131073216163,
          0.06347454509840612,
          0.08352639274342294,
          0.037168110140353684,
          0.019806830892118484,
          0.02631329318816097,
          0.05070410611756465,
          0.042331157772359976,
          0.07617213979561988,
          0.0610303072661255,
          0.03151369161259068,
          0.09066731510093064,
          0.030883912898721153,
          0.03683622821961029,
          0.19289080212120222,
          0.032022152125616724,
          0.016262626649887507,
          0.017832238630936793
         ],
         "y0": " ",
         "yaxis": "y3"
        },
        {
         "alignmentgroup": "True",
         "customdata": [
          [
           "avrora"
          ],
          [
           "fop"
          ],
          [
           "h2"
          ],
          [
           "luindex"
          ],
          [
           "lusearch"
          ],
          [
           "pmd"
          ],
          [
           "sunflow"
          ],
          [
           "tradebeans"
          ],
          [
           "tradesoap"
          ],
          [
           "xalan"
          ],
          [
           "akka-uct"
          ],
          [
           "als"
          ],
          [
           "chi-square"
          ],
          [
           "db-shootout"
          ],
          [
           "dec-tree"
          ],
          [
           "dotty"
          ],
          [
           "finagle-chirper"
          ],
          [
           "finagle-http"
          ],
          [
           "fj-kmeans"
          ],
          [
           "future-genetic"
          ],
          [
           "gauss-mix"
          ],
          [
           "log-regression"
          ],
          [
           "mnemonics"
          ],
          [
           "movie-lens"
          ],
          [
           "naive-bayes"
          ],
          [
           "page-rank"
          ],
          [
           "par-mnemonics"
          ],
          [
           "philosophers"
          ],
          [
           "reactors"
          ],
          [
           "rx-scrabble"
          ],
          [
           "scala-doku"
          ],
          [
           "scala-kmeans"
          ],
          [
           "scala-stm-bench7"
          ],
          [
           "scrabble"
          ],
          [
           "apparat"
          ],
          [
           "avrora"
          ],
          [
           "factorie"
          ],
          [
           "fop"
          ],
          [
           "h2"
          ],
          [
           "kiama"
          ],
          [
           "luindex"
          ],
          [
           "lusearch"
          ],
          [
           "pmd"
          ],
          [
           "scalac"
          ],
          [
           "scaladoc"
          ],
          [
           "scalap"
          ],
          [
           "scalariform"
          ],
          [
           "scalatest"
          ],
          [
           "scalaxb"
          ],
          [
           "specs"
          ],
          [
           "sunflow"
          ],
          [
           "tmt"
          ],
          [
           "tradebeans"
          ],
          [
           "tradesoap"
          ],
          [
           "xalan"
          ],
          [
           "500_perlbench_r"
          ],
          [
           "505_mcf_r"
          ],
          [
           "507_cactuBSSN_r"
          ],
          [
           "508_namd_r"
          ],
          [
           "511_povray_r"
          ],
          [
           "519_lbm_r"
          ],
          [
           "520_omnetpp_r"
          ],
          [
           "525_x264_r"
          ],
          [
           "531_deepsjeng_r"
          ],
          [
           "538_imagick_r"
          ],
          [
           "541_leela_r"
          ],
          [
           "544_nab_r"
          ],
          [
           "548_exchange2_r"
          ],
          [
           "549_fotonik3d_r"
          ],
          [
           "554_roms_r"
          ],
          [
           "557_xz_r"
          ]
         ],
         "hovertemplate": "type=duet<br>environment=AWS t3.medium<br>suite=%{x}<br>ci_width=%{y}<br>benchmark=%{customdata[0]}<extra></extra>",
         "legendgroup": "duet",
         "marker": {
          "color": "#00cc96"
         },
         "name": "duet",
         "notched": false,
         "offsetgroup": "duet",
         "orientation": "v",
         "showlegend": true,
         "type": "box",
         "x": [
          "dacapo",
          "dacapo",
          "dacapo",
          "dacapo",
          "dacapo",
          "dacapo",
          "dacapo",
          "dacapo",
          "dacapo",
          "dacapo",
          "renaissance",
          "renaissance",
          "renaissance",
          "renaissance",
          "renaissance",
          "renaissance",
          "renaissance",
          "renaissance",
          "renaissance",
          "renaissance",
          "renaissance",
          "renaissance",
          "renaissance",
          "renaissance",
          "renaissance",
          "renaissance",
          "renaissance",
          "renaissance",
          "renaissance",
          "renaissance",
          "renaissance",
          "renaissance",
          "renaissance",
          "renaissance",
          "scalabench",
          "scalabench",
          "scalabench",
          "scalabench",
          "scalabench",
          "scalabench",
          "scalabench",
          "scalabench",
          "scalabench",
          "scalabench",
          "scalabench",
          "scalabench",
          "scalabench",
          "scalabench",
          "scalabench",
          "scalabench",
          "scalabench",
          "scalabench",
          "scalabench",
          "scalabench",
          "scalabench",
          "speccpu",
          "speccpu",
          "speccpu",
          "speccpu",
          "speccpu",
          "speccpu",
          "speccpu",
          "speccpu",
          "speccpu",
          "speccpu",
          "speccpu",
          "speccpu",
          "speccpu",
          "speccpu",
          "speccpu",
          "speccpu"
         ],
         "x0": " ",
         "xaxis": "x",
         "y": [
          0.013603576443226526,
          0.04119638719490415,
          0.025641007587651646,
          0.008935236847455239,
          0.036576617301065914,
          0.012868629747366479,
          0.020039625846236118,
          0.013210450656961185,
          0.008441693594303365,
          0.02317142906217421,
          0.045096730351032774,
          0.013594480251817908,
          0.0761965293343008,
          0.03456106727562278,
          0.018714629211112974,
          0.035363663943813906,
          0.05724686102123022,
          0.015830596698382316,
          0.04120405245898081,
          0.007001121710315358,
          0.02395387527910596,
          0.02116131612101846,
          0.03106701937465553,
          0.012452135740175419,
          0.02120617136025978,
          0.02795648454445659,
          0.027751014618379647,
          0.037992483529759036,
          0.029318472213097326,
          0.035445584150377844,
          0.05199660614599621,
          0.012252472842288836,
          0.01534141377459353,
          0.02397474552962532,
          0.04235293998143486,
          0.011346832508716506,
          0.12132304545077154,
          0.04029905118748256,
          0.02770067785788857,
          0.027652729111879257,
          0.01155225573460461,
          0.03451134357700596,
          0.010316684027316617,
          0.041287849274023104,
          0.032128740438900336,
          0.039321116108919675,
          0.019407799652320444,
          0.008833007802148187,
          0.1273118552954943,
          0.010939902280839263,
          0.019549884550010714,
          0.13352918347440568,
          0.014734431928286109,
          0.008494642256196288,
          0.01447461508733254,
          0.0016899426288732528,
          0.0008102791727139367,
          0.0011452576456441898,
          0.0010152410773162082,
          0.001369458116983475,
          0.0020801323139198143,
          0.004970107406527629,
          0.0008223812789145842,
          0.000936409973931344,
          0.0014767817849906661,
          0.0007394846891425818,
          0.0007206762857164626,
          0.0005353537216902941,
          0.0002206275504341909,
          0.0004516493428118292,
          0.0009685931586783847
         ],
         "y0": " ",
         "yaxis": "y"
        },
        {
         "alignmentgroup": "True",
         "customdata": [
          [
           "avrora"
          ],
          [
           "fop"
          ],
          [
           "h2"
          ],
          [
           "luindex"
          ],
          [
           "lusearch"
          ],
          [
           "pmd"
          ],
          [
           "sunflow"
          ],
          [
           "tradebeans"
          ],
          [
           "tradesoap"
          ],
          [
           "xalan"
          ],
          [
           "akka-uct"
          ],
          [
           "als"
          ],
          [
           "chi-square"
          ],
          [
           "db-shootout"
          ],
          [
           "dec-tree"
          ],
          [
           "dotty"
          ],
          [
           "finagle-chirper"
          ],
          [
           "finagle-http"
          ],
          [
           "fj-kmeans"
          ],
          [
           "future-genetic"
          ],
          [
           "gauss-mix"
          ],
          [
           "log-regression"
          ],
          [
           "mnemonics"
          ],
          [
           "movie-lens"
          ],
          [
           "naive-bayes"
          ],
          [
           "page-rank"
          ],
          [
           "par-mnemonics"
          ],
          [
           "philosophers"
          ],
          [
           "reactors"
          ],
          [
           "rx-scrabble"
          ],
          [
           "scala-doku"
          ],
          [
           "scala-kmeans"
          ],
          [
           "scrabble"
          ],
          [
           "apparat"
          ],
          [
           "avrora"
          ],
          [
           "factorie"
          ],
          [
           "fop"
          ],
          [
           "h2"
          ],
          [
           "kiama"
          ],
          [
           "luindex"
          ],
          [
           "lusearch"
          ],
          [
           "pmd"
          ],
          [
           "scalac"
          ],
          [
           "scaladoc"
          ],
          [
           "scalap"
          ],
          [
           "scalariform"
          ],
          [
           "scalatest"
          ],
          [
           "scalaxb"
          ],
          [
           "specs"
          ],
          [
           "sunflow"
          ],
          [
           "tmt"
          ],
          [
           "tradebeans"
          ],
          [
           "tradesoap"
          ],
          [
           "xalan"
          ],
          [
           "500_perlbench_r"
          ],
          [
           "505_mcf_r"
          ],
          [
           "507_cactuBSSN_r"
          ],
          [
           "508_namd_r"
          ],
          [
           "511_povray_r"
          ],
          [
           "519_lbm_r"
          ],
          [
           "520_omnetpp_r"
          ],
          [
           "525_x264_r"
          ],
          [
           "531_deepsjeng_r"
          ],
          [
           "538_imagick_r"
          ],
          [
           "541_leela_r"
          ],
          [
           "544_nab_r"
          ],
          [
           "548_exchange2_r"
          ],
          [
           "549_fotonik3d_r"
          ],
          [
           "554_roms_r"
          ],
          [
           "557_xz_r"
          ]
         ],
         "hovertemplate": "type=duet<br>environment=bare-metal<br>suite=%{x}<br>ci_width=%{y}<br>benchmark=%{customdata[0]}<extra></extra>",
         "legendgroup": "duet",
         "marker": {
          "color": "#00cc96"
         },
         "name": "duet",
         "notched": false,
         "offsetgroup": "duet",
         "orientation": "v",
         "showlegend": false,
         "type": "box",
         "x": [
          "dacapo",
          "dacapo",
          "dacapo",
          "dacapo",
          "dacapo",
          "dacapo",
          "dacapo",
          "dacapo",
          "dacapo",
          "dacapo",
          "renaissance",
          "renaissance",
          "renaissance",
          "renaissance",
          "renaissance",
          "renaissance",
          "renaissance",
          "renaissance",
          "renaissance",
          "renaissance",
          "renaissance",
          "renaissance",
          "renaissance",
          "renaissance",
          "renaissance",
          "renaissance",
          "renaissance",
          "renaissance",
          "renaissance",
          "renaissance",
          "renaissance",
          "renaissance",
          "renaissance",
          "scalabench",
          "scalabench",
          "scalabench",
          "scalabench",
          "scalabench",
          "scalabench",
          "scalabench",
          "scalabench",
          "scalabench",
          "scalabench",
          "scalabench",
          "scalabench",
          "scalabench",
          "scalabench",
          "scalabench",
          "scalabench",
          "scalabench",
          "scalabench",
          "scalabench",
          "scalabench",
          "scalabench",
          "speccpu",
          "speccpu",
          "speccpu",
          "speccpu",
          "speccpu",
          "speccpu",
          "speccpu",
          "speccpu",
          "speccpu",
          "speccpu",
          "speccpu",
          "speccpu",
          "speccpu",
          "speccpu",
          "speccpu",
          "speccpu"
         ],
         "x0": " ",
         "xaxis": "x2",
         "y": [
          0.005787231560555547,
          0.0070345608373457835,
          0.02870092476125109,
          0.012813066423413216,
          0.02096422311834292,
          0.008285786766025757,
          0.019602183365521594,
          0.015517951137314297,
          0.001621832138723515,
          0.017993007624191374,
          0.08417389399649121,
          0.007924680956707557,
          0.0582429514569099,
          0.041654980301404014,
          0.009968873347203373,
          0.025235346285390946,
          0.013259708632531519,
          0.01808991078614101,
          0.06408681244521823,
          0.019577926720431717,
          0.0322462823597348,
          0.03852517837197963,
          0.02529179276728748,
          0.006208457590745796,
          0.025279857035348446,
          0.026664876346920198,
          0.017329913833665,
          0.019153170203461495,
          0.05282696158676763,
          0.023071446620234377,
          0.23219231540319252,
          0.012552336041792301,
          0.046294589372461434,
          0.016334529843495663,
          0.0036411138365659975,
          0.06975217641301337,
          0.009301372995113286,
          0.030879513370738063,
          0.022054858409016585,
          0.021314397262791406,
          0.033890481453561945,
          0.010853697167848115,
          0.031917850026960584,
          0.02122255301021932,
          0.014374308014498396,
          0.004837679601326336,
          0.005912389458180914,
          0.03486004335974329,
          0.004830570802702598,
          0.009888618663161918,
          0.1136716567452283,
          0.01896207907104121,
          0.003296047037734729,
          0.012963031453283706,
          0.0017259143902178663,
          0.002535529597096447,
          0.006103997978565847,
          0.002127600484502443,
          0.0029190081350990086,
          0.003442603012066003,
          0.005052292851784175,
          0.0008042730095417092,
          0.0008248943424586019,
          0.0021917523920189906,
          0.0004048147626182826,
          0.0005933823905767395,
          0.0018488493766234417,
          0.0002501370441499794,
          0.0038452789306764002,
          0.0023405505392280154
         ],
         "y0": " ",
         "yaxis": "y2"
        },
        {
         "alignmentgroup": "True",
         "customdata": [
          [
           "avrora"
          ],
          [
           "fop"
          ],
          [
           "h2"
          ],
          [
           "luindex"
          ],
          [
           "lusearch"
          ],
          [
           "pmd"
          ],
          [
           "sunflow"
          ],
          [
           "tradebeans"
          ],
          [
           "tradesoap"
          ],
          [
           "xalan"
          ],
          [
           "akka-uct"
          ],
          [
           "als"
          ],
          [
           "chi-square"
          ],
          [
           "db-shootout"
          ],
          [
           "dec-tree"
          ],
          [
           "dotty"
          ],
          [
           "finagle-chirper"
          ],
          [
           "finagle-http"
          ],
          [
           "fj-kmeans"
          ],
          [
           "future-genetic"
          ],
          [
           "gauss-mix"
          ],
          [
           "log-regression"
          ],
          [
           "mnemonics"
          ],
          [
           "movie-lens"
          ],
          [
           "naive-bayes"
          ],
          [
           "page-rank"
          ],
          [
           "par-mnemonics"
          ],
          [
           "philosophers"
          ],
          [
           "reactors"
          ],
          [
           "rx-scrabble"
          ],
          [
           "scala-doku"
          ],
          [
           "scala-kmeans"
          ],
          [
           "scrabble"
          ],
          [
           "apparat"
          ],
          [
           "avrora"
          ],
          [
           "factorie"
          ],
          [
           "fop"
          ],
          [
           "h2"
          ],
          [
           "kiama"
          ],
          [
           "luindex"
          ],
          [
           "lusearch"
          ],
          [
           "pmd"
          ],
          [
           "scalac"
          ],
          [
           "scaladoc"
          ],
          [
           "scalap"
          ],
          [
           "scalariform"
          ],
          [
           "scalatest"
          ],
          [
           "scalaxb"
          ],
          [
           "specs"
          ],
          [
           "sunflow"
          ],
          [
           "tmt"
          ],
          [
           "tradebeans"
          ],
          [
           "tradesoap"
          ],
          [
           "xalan"
          ]
         ],
         "hovertemplate": "type=duet<br>environment=shared-vm<br>suite=%{x}<br>ci_width=%{y}<br>benchmark=%{customdata[0]}<extra></extra>",
         "legendgroup": "duet",
         "marker": {
          "color": "#00cc96"
         },
         "name": "duet",
         "notched": false,
         "offsetgroup": "duet",
         "orientation": "v",
         "showlegend": false,
         "type": "box",
         "x": [
          "dacapo",
          "dacapo",
          "dacapo",
          "dacapo",
          "dacapo",
          "dacapo",
          "dacapo",
          "dacapo",
          "dacapo",
          "dacapo",
          "renaissance",
          "renaissance",
          "renaissance",
          "renaissance",
          "renaissance",
          "renaissance",
          "renaissance",
          "renaissance",
          "renaissance",
          "renaissance",
          "renaissance",
          "renaissance",
          "renaissance",
          "renaissance",
          "renaissance",
          "renaissance",
          "renaissance",
          "renaissance",
          "renaissance",
          "renaissance",
          "renaissance",
          "renaissance",
          "renaissance",
          "scalabench",
          "scalabench",
          "scalabench",
          "scalabench",
          "scalabench",
          "scalabench",
          "scalabench",
          "scalabench",
          "scalabench",
          "scalabench",
          "scalabench",
          "scalabench",
          "scalabench",
          "scalabench",
          "scalabench",
          "scalabench",
          "scalabench",
          "scalabench",
          "scalabench",
          "scalabench",
          "scalabench"
         ],
         "x0": " ",
         "xaxis": "x3",
         "y": [
          0.02594638791682461,
          0.06222913526396151,
          0.06833098710204805,
          0.07267068334449786,
          0.027721719920452203,
          0.024980694877712473,
          0.030608742514497782,
          0.028705212066512612,
          0.01945392593333133,
          0.031005148595471804,
          0.060273537260246736,
          0.04101613932745454,
          0.09087783793274827,
          0.07422194968651617,
          0.030636347604345377,
          0.02846589372631501,
          0.03816300430068121,
          0.02800657794315616,
          0.09153040736092141,
          0.0767202237652564,
          0.07665194844391675,
          0.06571291482426761,
          0.02317347203008231,
          0.01651437082296785,
          0.04323079872242716,
          0.039186626504604784,
          0.026828367383276132,
          0.059048584699347414,
          0.07353670852302124,
          0.04788583059312203,
          0.07226180734303614,
          0.09546578687465651,
          0.054437327844803825,
          0.03345031320050166,
          0.0186686031726256,
          0.06377377804897959,
          0.11308986333151162,
          0.044668550393523784,
          0.10243035813663302,
          0.037019836297401305,
          0.0339378982802731,
          0.03490564049449386,
          0.06238931777448471,
          0.03509187127365912,
          0.15579342686918543,
          0.09519109428737015,
          0.025103290325748557,
          0.07824236224471592,
          0.03555223388354904,
          0.03690189791130231,
          0.27319965642980615,
          0.026560004152287427,
          0.01733528294079969,
          0.026961688218984453
         ],
         "y0": " ",
         "yaxis": "y3"
        }
       ],
       "layout": {
        "annotations": [
         {
          "font": {},
          "showarrow": false,
          "text": "environment=AWS t3.medium",
          "x": 0.15999999999999998,
          "xanchor": "center",
          "xref": "paper",
          "y": 1,
          "yanchor": "bottom",
          "yref": "paper"
         },
         {
          "font": {},
          "showarrow": false,
          "text": "environment=bare-metal",
          "x": 0.49999999999999994,
          "xanchor": "center",
          "xref": "paper",
          "y": 1,
          "yanchor": "bottom",
          "yref": "paper"
         },
         {
          "font": {},
          "showarrow": false,
          "text": "environment=shared-vm",
          "x": 0.8399999999999999,
          "xanchor": "center",
          "xref": "paper",
          "y": 1,
          "yanchor": "bottom",
          "yref": "paper"
         }
        ],
        "boxmode": "group",
        "legend": {
         "title": {
          "text": "type"
         },
         "tracegroupgap": 0
        },
        "template": {
         "data": {
          "bar": [
           {
            "error_x": {
             "color": "#2a3f5f"
            },
            "error_y": {
             "color": "#2a3f5f"
            },
            "marker": {
             "line": {
              "color": "#E5ECF6",
              "width": 0.5
             },
             "pattern": {
              "fillmode": "overlay",
              "size": 10,
              "solidity": 0.2
             }
            },
            "type": "bar"
           }
          ],
          "barpolar": [
           {
            "marker": {
             "line": {
              "color": "#E5ECF6",
              "width": 0.5
             },
             "pattern": {
              "fillmode": "overlay",
              "size": 10,
              "solidity": 0.2
             }
            },
            "type": "barpolar"
           }
          ],
          "carpet": [
           {
            "aaxis": {
             "endlinecolor": "#2a3f5f",
             "gridcolor": "white",
             "linecolor": "white",
             "minorgridcolor": "white",
             "startlinecolor": "#2a3f5f"
            },
            "baxis": {
             "endlinecolor": "#2a3f5f",
             "gridcolor": "white",
             "linecolor": "white",
             "minorgridcolor": "white",
             "startlinecolor": "#2a3f5f"
            },
            "type": "carpet"
           }
          ],
          "choropleth": [
           {
            "colorbar": {
             "outlinewidth": 0,
             "ticks": ""
            },
            "type": "choropleth"
           }
          ],
          "contour": [
           {
            "colorbar": {
             "outlinewidth": 0,
             "ticks": ""
            },
            "colorscale": [
             [
              0,
              "#0d0887"
             ],
             [
              0.1111111111111111,
              "#46039f"
             ],
             [
              0.2222222222222222,
              "#7201a8"
             ],
             [
              0.3333333333333333,
              "#9c179e"
             ],
             [
              0.4444444444444444,
              "#bd3786"
             ],
             [
              0.5555555555555556,
              "#d8576b"
             ],
             [
              0.6666666666666666,
              "#ed7953"
             ],
             [
              0.7777777777777778,
              "#fb9f3a"
             ],
             [
              0.8888888888888888,
              "#fdca26"
             ],
             [
              1,
              "#f0f921"
             ]
            ],
            "type": "contour"
           }
          ],
          "contourcarpet": [
           {
            "colorbar": {
             "outlinewidth": 0,
             "ticks": ""
            },
            "type": "contourcarpet"
           }
          ],
          "heatmap": [
           {
            "colorbar": {
             "outlinewidth": 0,
             "ticks": ""
            },
            "colorscale": [
             [
              0,
              "#0d0887"
             ],
             [
              0.1111111111111111,
              "#46039f"
             ],
             [
              0.2222222222222222,
              "#7201a8"
             ],
             [
              0.3333333333333333,
              "#9c179e"
             ],
             [
              0.4444444444444444,
              "#bd3786"
             ],
             [
              0.5555555555555556,
              "#d8576b"
             ],
             [
              0.6666666666666666,
              "#ed7953"
             ],
             [
              0.7777777777777778,
              "#fb9f3a"
             ],
             [
              0.8888888888888888,
              "#fdca26"
             ],
             [
              1,
              "#f0f921"
             ]
            ],
            "type": "heatmap"
           }
          ],
          "heatmapgl": [
           {
            "colorbar": {
             "outlinewidth": 0,
             "ticks": ""
            },
            "colorscale": [
             [
              0,
              "#0d0887"
             ],
             [
              0.1111111111111111,
              "#46039f"
             ],
             [
              0.2222222222222222,
              "#7201a8"
             ],
             [
              0.3333333333333333,
              "#9c179e"
             ],
             [
              0.4444444444444444,
              "#bd3786"
             ],
             [
              0.5555555555555556,
              "#d8576b"
             ],
             [
              0.6666666666666666,
              "#ed7953"
             ],
             [
              0.7777777777777778,
              "#fb9f3a"
             ],
             [
              0.8888888888888888,
              "#fdca26"
             ],
             [
              1,
              "#f0f921"
             ]
            ],
            "type": "heatmapgl"
           }
          ],
          "histogram": [
           {
            "marker": {
             "pattern": {
              "fillmode": "overlay",
              "size": 10,
              "solidity": 0.2
             }
            },
            "type": "histogram"
           }
          ],
          "histogram2d": [
           {
            "colorbar": {
             "outlinewidth": 0,
             "ticks": ""
            },
            "colorscale": [
             [
              0,
              "#0d0887"
             ],
             [
              0.1111111111111111,
              "#46039f"
             ],
             [
              0.2222222222222222,
              "#7201a8"
             ],
             [
              0.3333333333333333,
              "#9c179e"
             ],
             [
              0.4444444444444444,
              "#bd3786"
             ],
             [
              0.5555555555555556,
              "#d8576b"
             ],
             [
              0.6666666666666666,
              "#ed7953"
             ],
             [
              0.7777777777777778,
              "#fb9f3a"
             ],
             [
              0.8888888888888888,
              "#fdca26"
             ],
             [
              1,
              "#f0f921"
             ]
            ],
            "type": "histogram2d"
           }
          ],
          "histogram2dcontour": [
           {
            "colorbar": {
             "outlinewidth": 0,
             "ticks": ""
            },
            "colorscale": [
             [
              0,
              "#0d0887"
             ],
             [
              0.1111111111111111,
              "#46039f"
             ],
             [
              0.2222222222222222,
              "#7201a8"
             ],
             [
              0.3333333333333333,
              "#9c179e"
             ],
             [
              0.4444444444444444,
              "#bd3786"
             ],
             [
              0.5555555555555556,
              "#d8576b"
             ],
             [
              0.6666666666666666,
              "#ed7953"
             ],
             [
              0.7777777777777778,
              "#fb9f3a"
             ],
             [
              0.8888888888888888,
              "#fdca26"
             ],
             [
              1,
              "#f0f921"
             ]
            ],
            "type": "histogram2dcontour"
           }
          ],
          "mesh3d": [
           {
            "colorbar": {
             "outlinewidth": 0,
             "ticks": ""
            },
            "type": "mesh3d"
           }
          ],
          "parcoords": [
           {
            "line": {
             "colorbar": {
              "outlinewidth": 0,
              "ticks": ""
             }
            },
            "type": "parcoords"
           }
          ],
          "pie": [
           {
            "automargin": true,
            "type": "pie"
           }
          ],
          "scatter": [
           {
            "fillpattern": {
             "fillmode": "overlay",
             "size": 10,
             "solidity": 0.2
            },
            "type": "scatter"
           }
          ],
          "scatter3d": [
           {
            "line": {
             "colorbar": {
              "outlinewidth": 0,
              "ticks": ""
             }
            },
            "marker": {
             "colorbar": {
              "outlinewidth": 0,
              "ticks": ""
             }
            },
            "type": "scatter3d"
           }
          ],
          "scattercarpet": [
           {
            "marker": {
             "colorbar": {
              "outlinewidth": 0,
              "ticks": ""
             }
            },
            "type": "scattercarpet"
           }
          ],
          "scattergeo": [
           {
            "marker": {
             "colorbar": {
              "outlinewidth": 0,
              "ticks": ""
             }
            },
            "type": "scattergeo"
           }
          ],
          "scattergl": [
           {
            "marker": {
             "colorbar": {
              "outlinewidth": 0,
              "ticks": ""
             }
            },
            "type": "scattergl"
           }
          ],
          "scattermapbox": [
           {
            "marker": {
             "colorbar": {
              "outlinewidth": 0,
              "ticks": ""
             }
            },
            "type": "scattermapbox"
           }
          ],
          "scatterpolar": [
           {
            "marker": {
             "colorbar": {
              "outlinewidth": 0,
              "ticks": ""
             }
            },
            "type": "scatterpolar"
           }
          ],
          "scatterpolargl": [
           {
            "marker": {
             "colorbar": {
              "outlinewidth": 0,
              "ticks": ""
             }
            },
            "type": "scatterpolargl"
           }
          ],
          "scatterternary": [
           {
            "marker": {
             "colorbar": {
              "outlinewidth": 0,
              "ticks": ""
             }
            },
            "type": "scatterternary"
           }
          ],
          "surface": [
           {
            "colorbar": {
             "outlinewidth": 0,
             "ticks": ""
            },
            "colorscale": [
             [
              0,
              "#0d0887"
             ],
             [
              0.1111111111111111,
              "#46039f"
             ],
             [
              0.2222222222222222,
              "#7201a8"
             ],
             [
              0.3333333333333333,
              "#9c179e"
             ],
             [
              0.4444444444444444,
              "#bd3786"
             ],
             [
              0.5555555555555556,
              "#d8576b"
             ],
             [
              0.6666666666666666,
              "#ed7953"
             ],
             [
              0.7777777777777778,
              "#fb9f3a"
             ],
             [
              0.8888888888888888,
              "#fdca26"
             ],
             [
              1,
              "#f0f921"
             ]
            ],
            "type": "surface"
           }
          ],
          "table": [
           {
            "cells": {
             "fill": {
              "color": "#EBF0F8"
             },
             "line": {
              "color": "white"
             }
            },
            "header": {
             "fill": {
              "color": "#C8D4E3"
             },
             "line": {
              "color": "white"
             }
            },
            "type": "table"
           }
          ]
         },
         "layout": {
          "annotationdefaults": {
           "arrowcolor": "#2a3f5f",
           "arrowhead": 0,
           "arrowwidth": 1
          },
          "autotypenumbers": "strict",
          "coloraxis": {
           "colorbar": {
            "outlinewidth": 0,
            "ticks": ""
           }
          },
          "colorscale": {
           "diverging": [
            [
             0,
             "#8e0152"
            ],
            [
             0.1,
             "#c51b7d"
            ],
            [
             0.2,
             "#de77ae"
            ],
            [
             0.3,
             "#f1b6da"
            ],
            [
             0.4,
             "#fde0ef"
            ],
            [
             0.5,
             "#f7f7f7"
            ],
            [
             0.6,
             "#e6f5d0"
            ],
            [
             0.7,
             "#b8e186"
            ],
            [
             0.8,
             "#7fbc41"
            ],
            [
             0.9,
             "#4d9221"
            ],
            [
             1,
             "#276419"
            ]
           ],
           "sequential": [
            [
             0,
             "#0d0887"
            ],
            [
             0.1111111111111111,
             "#46039f"
            ],
            [
             0.2222222222222222,
             "#7201a8"
            ],
            [
             0.3333333333333333,
             "#9c179e"
            ],
            [
             0.4444444444444444,
             "#bd3786"
            ],
            [
             0.5555555555555556,
             "#d8576b"
            ],
            [
             0.6666666666666666,
             "#ed7953"
            ],
            [
             0.7777777777777778,
             "#fb9f3a"
            ],
            [
             0.8888888888888888,
             "#fdca26"
            ],
            [
             1,
             "#f0f921"
            ]
           ],
           "sequentialminus": [
            [
             0,
             "#0d0887"
            ],
            [
             0.1111111111111111,
             "#46039f"
            ],
            [
             0.2222222222222222,
             "#7201a8"
            ],
            [
             0.3333333333333333,
             "#9c179e"
            ],
            [
             0.4444444444444444,
             "#bd3786"
            ],
            [
             0.5555555555555556,
             "#d8576b"
            ],
            [
             0.6666666666666666,
             "#ed7953"
            ],
            [
             0.7777777777777778,
             "#fb9f3a"
            ],
            [
             0.8888888888888888,
             "#fdca26"
            ],
            [
             1,
             "#f0f921"
            ]
           ]
          },
          "colorway": [
           "#636efa",
           "#EF553B",
           "#00cc96",
           "#ab63fa",
           "#FFA15A",
           "#19d3f3",
           "#FF6692",
           "#B6E880",
           "#FF97FF",
           "#FECB52"
          ],
          "font": {
           "color": "#2a3f5f"
          },
          "geo": {
           "bgcolor": "white",
           "lakecolor": "white",
           "landcolor": "#E5ECF6",
           "showlakes": true,
           "showland": true,
           "subunitcolor": "white"
          },
          "hoverlabel": {
           "align": "left"
          },
          "hovermode": "closest",
          "mapbox": {
           "style": "light"
          },
          "paper_bgcolor": "white",
          "plot_bgcolor": "#E5ECF6",
          "polar": {
           "angularaxis": {
            "gridcolor": "white",
            "linecolor": "white",
            "ticks": ""
           },
           "bgcolor": "#E5ECF6",
           "radialaxis": {
            "gridcolor": "white",
            "linecolor": "white",
            "ticks": ""
           }
          },
          "scene": {
           "xaxis": {
            "backgroundcolor": "#E5ECF6",
            "gridcolor": "white",
            "gridwidth": 2,
            "linecolor": "white",
            "showbackground": true,
            "ticks": "",
            "zerolinecolor": "white"
           },
           "yaxis": {
            "backgroundcolor": "#E5ECF6",
            "gridcolor": "white",
            "gridwidth": 2,
            "linecolor": "white",
            "showbackground": true,
            "ticks": "",
            "zerolinecolor": "white"
           },
           "zaxis": {
            "backgroundcolor": "#E5ECF6",
            "gridcolor": "white",
            "gridwidth": 2,
            "linecolor": "white",
            "showbackground": true,
            "ticks": "",
            "zerolinecolor": "white"
           }
          },
          "shapedefaults": {
           "line": {
            "color": "#2a3f5f"
           }
          },
          "ternary": {
           "aaxis": {
            "gridcolor": "white",
            "linecolor": "white",
            "ticks": ""
           },
           "baxis": {
            "gridcolor": "white",
            "linecolor": "white",
            "ticks": ""
           },
           "bgcolor": "#E5ECF6",
           "caxis": {
            "gridcolor": "white",
            "linecolor": "white",
            "ticks": ""
           }
          },
          "title": {
           "x": 0.05
          },
          "xaxis": {
           "automargin": true,
           "gridcolor": "white",
           "linecolor": "white",
           "ticks": "",
           "title": {
            "standoff": 15
           },
           "zerolinecolor": "white",
           "zerolinewidth": 2
          },
          "yaxis": {
           "automargin": true,
           "gridcolor": "white",
           "linecolor": "white",
           "ticks": "",
           "title": {
            "standoff": 15
           },
           "zerolinecolor": "white",
           "zerolinewidth": 2
          }
         }
        },
        "title": {
         "text": "Relative CI width per suite"
        },
        "xaxis": {
         "anchor": "y",
         "domain": [
          0,
          0.31999999999999995
         ],
         "title": {
          "text": "suite"
         }
        },
        "xaxis2": {
         "anchor": "y2",
         "domain": [
          0.33999999999999997,
          0.6599999999999999
         ],
         "matches": "x",
         "title": {
          "text": "suite"
         }
        },
        "xaxis3": {
         "anchor": "y3",
         "domain": [
          0.6799999999999999,
          0.9999999999999999
         ],
         "matches": "x",
         "title": {
          "text": "suite"
         }
        },
        "yaxis": {
         "anchor": "x",
         "domain": [
          0,
          1
         ],
         "title": {
          "text": "ci_width"
         }
        },
        "yaxis2": {
         "anchor": "x2",
         "domain": [
          0,
          1
         ],
         "matches": "y",
         "showticklabels": false
        },
        "yaxis3": {
         "anchor": "x3",
         "domain": [
          0,
          1
         ],
         "matches": "y",
         "showticklabels": false
        }
       }
      }
     },
     "metadata": {},
     "output_type": "display_data"
    }
   ],
   "source": [
    "px.box(\n",
    "    df_ci,\n",
    "    x=RF.suite,\n",
    "    y=DF.ci_width,\n",
    "    color=RF.type,\n",
    "    facet_col=DF.env,\n",
    "    hover_data=[RF.benchmark],\n",
    "    title=\"Relative CI width per suite\"\n",
    ")"
   ]
  },
  {
   "cell_type": "code",
   "execution_count": 30,
   "metadata": {},
   "outputs": [
    {
     "data": {
      "application/vnd.plotly.v1+json": {
       "config": {
        "plotlyServerURL": "https://plot.ly"
       },
       "data": [
        {
         "alignmentgroup": "True",
         "hovertemplate": "type=seqn<br>environment=AWS t3.medium<br>benchmark=%{x}<br>ci_width=%{y}<extra></extra>",
         "legendgroup": "seqn",
         "marker": {
          "color": "#636efa",
          "pattern": {
           "shape": ""
          }
         },
         "name": "seqn",
         "offsetgroup": "seqn",
         "orientation": "v",
         "showlegend": true,
         "textposition": "auto",
         "type": "bar",
         "x": [
          "akka-uct",
          "als",
          "chi-square",
          "db-shootout",
          "dec-tree",
          "dotty",
          "finagle-chirper",
          "finagle-http",
          "fj-kmeans",
          "future-genetic",
          "gauss-mix",
          "log-regression",
          "mnemonics",
          "movie-lens",
          "naive-bayes",
          "page-rank",
          "par-mnemonics",
          "philosophers",
          "reactors",
          "rx-scrabble",
          "scala-doku",
          "scala-kmeans",
          "scala-stm-bench7",
          "scrabble"
         ],
         "xaxis": "x",
         "y": [
          0.03189299483249226,
          0.011058757170364341,
          0.09428870674417685,
          0.025402518125408734,
          0.022857067624818518,
          0.028105079076256798,
          0.040234556585271065,
          0.018114829196791866,
          0.01337241256279532,
          0.016310351001791956,
          0.04166175538606212,
          0.042274958976157066,
          0.012973989672141006,
          0.014226939454574067,
          0.03171362765871995,
          0.03234339163035594,
          0.03421128191869722,
          0.025205128593509925,
          0.02050463351645439,
          0.039090671148893426,
          0.024702661204692507,
          0.019119927181880964,
          0.01737166007067071,
          0.02649491233374863
         ],
         "yaxis": "y"
        },
        {
         "alignmentgroup": "True",
         "hovertemplate": "type=seqn<br>environment=bare-metal<br>benchmark=%{x}<br>ci_width=%{y}<extra></extra>",
         "legendgroup": "seqn",
         "marker": {
          "color": "#636efa",
          "pattern": {
           "shape": ""
          }
         },
         "name": "seqn",
         "offsetgroup": "seqn",
         "orientation": "v",
         "showlegend": false,
         "textposition": "auto",
         "type": "bar",
         "x": [
          "akka-uct",
          "als",
          "chi-square",
          "db-shootout",
          "dec-tree",
          "dotty",
          "finagle-chirper",
          "finagle-http",
          "fj-kmeans",
          "future-genetic",
          "gauss-mix",
          "log-regression",
          "mnemonics",
          "movie-lens",
          "naive-bayes",
          "page-rank",
          "par-mnemonics",
          "philosophers",
          "reactors",
          "rx-scrabble",
          "scala-doku",
          "scala-kmeans",
          "scala-stm-bench7",
          "scrabble"
         ],
         "xaxis": "x2",
         "y": [
          0.09898578741827839,
          0.008946855548124199,
          0.03826456484930339,
          0.022364405391093304,
          0.020482405976134495,
          0.011652451144897236,
          0.02498484017527424,
          0.009135053401407458,
          0.052540888168211355,
          0.010063477841705304,
          0.04309520937005051,
          0.02381527295354402,
          0.03413502879932871,
          0.010621418837767514,
          0.046561862355797255,
          0.020594411860460203,
          0.02044966966355603,
          0.05204801744198087,
          0.048783210605311836,
          0.02524081573696683,
          0.21520548359156275,
          0.014752937738194784,
          0.01824540973354275,
          0.08649748140998005
         ],
         "yaxis": "y2"
        },
        {
         "alignmentgroup": "True",
         "hovertemplate": "type=seqn<br>environment=shared-vm<br>benchmark=%{x}<br>ci_width=%{y}<extra></extra>",
         "legendgroup": "seqn",
         "marker": {
          "color": "#636efa",
          "pattern": {
           "shape": ""
          }
         },
         "name": "seqn",
         "offsetgroup": "seqn",
         "orientation": "v",
         "showlegend": false,
         "textposition": "auto",
         "type": "bar",
         "x": [
          "akka-uct",
          "als",
          "chi-square",
          "db-shootout",
          "dec-tree",
          "dotty",
          "finagle-chirper",
          "finagle-http",
          "fj-kmeans",
          "future-genetic",
          "gauss-mix",
          "log-regression",
          "mnemonics",
          "movie-lens",
          "naive-bayes",
          "page-rank",
          "par-mnemonics",
          "philosophers",
          "reactors",
          "rx-scrabble",
          "scala-doku",
          "scala-kmeans",
          "scala-stm-bench7",
          "scrabble"
         ],
         "xaxis": "x3",
         "y": [
          0.19476867459815886,
          0.03935202267172633,
          0.12892752644786365,
          0.08281435841440418,
          0.1416875890132565,
          0.047087163093858485,
          0.04858081429113462,
          0.04114612529045841,
          0.07534322984070702,
          0.062251480336728914,
          0.17819164199171994,
          0.12398811109489577,
          0.06696123069075358,
          0.14495915750871924,
          0.24889439403951666,
          0.2042085689172965,
          0.1394023149158067,
          0.1382808458941588,
          0.09156600838807527,
          0.10048832138886434,
          0.09603301864414544,
          0.09081024073738399,
          0.20988906384375083,
          0.19388936550675412
         ],
         "yaxis": "y3"
        },
        {
         "alignmentgroup": "True",
         "hovertemplate": "type=duet<br>environment=AWS t3.medium<br>benchmark=%{x}<br>ci_width=%{y}<extra></extra>",
         "legendgroup": "duet",
         "marker": {
          "color": "#EF553B",
          "pattern": {
           "shape": ""
          }
         },
         "name": "duet",
         "offsetgroup": "duet",
         "orientation": "v",
         "showlegend": true,
         "textposition": "auto",
         "type": "bar",
         "x": [
          "akka-uct",
          "als",
          "chi-square",
          "db-shootout",
          "dec-tree",
          "dotty",
          "finagle-chirper",
          "finagle-http",
          "fj-kmeans",
          "future-genetic",
          "gauss-mix",
          "log-regression",
          "mnemonics",
          "movie-lens",
          "naive-bayes",
          "page-rank",
          "par-mnemonics",
          "philosophers",
          "reactors",
          "rx-scrabble",
          "scala-doku",
          "scala-kmeans",
          "scala-stm-bench7",
          "scrabble"
         ],
         "xaxis": "x",
         "y": [
          0.045096730351032774,
          0.013594480251817908,
          0.0761965293343008,
          0.03456106727562278,
          0.018714629211112974,
          0.035363663943813906,
          0.05724686102123022,
          0.015830596698382316,
          0.04120405245898081,
          0.007001121710315358,
          0.02395387527910596,
          0.02116131612101846,
          0.03106701937465553,
          0.012452135740175419,
          0.02120617136025978,
          0.02795648454445659,
          0.027751014618379647,
          0.037992483529759036,
          0.029318472213097326,
          0.035445584150377844,
          0.05199660614599621,
          0.012252472842288836,
          0.01534141377459353,
          0.02397474552962532
         ],
         "yaxis": "y"
        },
        {
         "alignmentgroup": "True",
         "hovertemplate": "type=duet<br>environment=bare-metal<br>benchmark=%{x}<br>ci_width=%{y}<extra></extra>",
         "legendgroup": "duet",
         "marker": {
          "color": "#EF553B",
          "pattern": {
           "shape": ""
          }
         },
         "name": "duet",
         "offsetgroup": "duet",
         "orientation": "v",
         "showlegend": false,
         "textposition": "auto",
         "type": "bar",
         "x": [
          "akka-uct",
          "als",
          "chi-square",
          "db-shootout",
          "dec-tree",
          "dotty",
          "finagle-chirper",
          "finagle-http",
          "fj-kmeans",
          "future-genetic",
          "gauss-mix",
          "log-regression",
          "mnemonics",
          "movie-lens",
          "naive-bayes",
          "page-rank",
          "par-mnemonics",
          "philosophers",
          "reactors",
          "rx-scrabble",
          "scala-doku",
          "scala-kmeans",
          "scrabble"
         ],
         "xaxis": "x2",
         "y": [
          0.08417389399649121,
          0.007924680956707557,
          0.0582429514569099,
          0.041654980301404014,
          0.009968873347203373,
          0.025235346285390946,
          0.013259708632531519,
          0.01808991078614101,
          0.06408681244521823,
          0.019577926720431717,
          0.0322462823597348,
          0.03852517837197963,
          0.02529179276728748,
          0.006208457590745796,
          0.025279857035348446,
          0.026664876346920198,
          0.017329913833665,
          0.019153170203461495,
          0.05282696158676763,
          0.023071446620234377,
          0.23219231540319252,
          0.012552336041792301,
          0.046294589372461434
         ],
         "yaxis": "y2"
        },
        {
         "alignmentgroup": "True",
         "hovertemplate": "type=duet<br>environment=shared-vm<br>benchmark=%{x}<br>ci_width=%{y}<extra></extra>",
         "legendgroup": "duet",
         "marker": {
          "color": "#EF553B",
          "pattern": {
           "shape": ""
          }
         },
         "name": "duet",
         "offsetgroup": "duet",
         "orientation": "v",
         "showlegend": false,
         "textposition": "auto",
         "type": "bar",
         "x": [
          "akka-uct",
          "als",
          "chi-square",
          "db-shootout",
          "dec-tree",
          "dotty",
          "finagle-chirper",
          "finagle-http",
          "fj-kmeans",
          "future-genetic",
          "gauss-mix",
          "log-regression",
          "mnemonics",
          "movie-lens",
          "naive-bayes",
          "page-rank",
          "par-mnemonics",
          "philosophers",
          "reactors",
          "rx-scrabble",
          "scala-doku",
          "scala-kmeans",
          "scrabble"
         ],
         "xaxis": "x3",
         "y": [
          0.060273537260246736,
          0.04101613932745454,
          0.09087783793274827,
          0.07422194968651617,
          0.030636347604345377,
          0.02846589372631501,
          0.03816300430068121,
          0.02800657794315616,
          0.09153040736092141,
          0.0767202237652564,
          0.07665194844391675,
          0.06571291482426761,
          0.02317347203008231,
          0.01651437082296785,
          0.04323079872242716,
          0.039186626504604784,
          0.026828367383276132,
          0.059048584699347414,
          0.07353670852302124,
          0.04788583059312203,
          0.07226180734303614,
          0.09546578687465651,
          0.054437327844803825
         ],
         "yaxis": "y3"
        }
       ],
       "layout": {
        "annotations": [
         {
          "font": {},
          "showarrow": false,
          "text": "environment=AWS t3.medium",
          "x": 0.15999999999999998,
          "xanchor": "center",
          "xref": "paper",
          "y": 1,
          "yanchor": "bottom",
          "yref": "paper"
         },
         {
          "font": {},
          "showarrow": false,
          "text": "environment=bare-metal",
          "x": 0.49999999999999994,
          "xanchor": "center",
          "xref": "paper",
          "y": 1,
          "yanchor": "bottom",
          "yref": "paper"
         },
         {
          "font": {},
          "showarrow": false,
          "text": "environment=shared-vm",
          "x": 0.8399999999999999,
          "xanchor": "center",
          "xref": "paper",
          "y": 1,
          "yanchor": "bottom",
          "yref": "paper"
         }
        ],
        "barmode": "group",
        "legend": {
         "title": {
          "text": "type"
         },
         "tracegroupgap": 0
        },
        "template": {
         "data": {
          "bar": [
           {
            "error_x": {
             "color": "#2a3f5f"
            },
            "error_y": {
             "color": "#2a3f5f"
            },
            "marker": {
             "line": {
              "color": "#E5ECF6",
              "width": 0.5
             },
             "pattern": {
              "fillmode": "overlay",
              "size": 10,
              "solidity": 0.2
             }
            },
            "type": "bar"
           }
          ],
          "barpolar": [
           {
            "marker": {
             "line": {
              "color": "#E5ECF6",
              "width": 0.5
             },
             "pattern": {
              "fillmode": "overlay",
              "size": 10,
              "solidity": 0.2
             }
            },
            "type": "barpolar"
           }
          ],
          "carpet": [
           {
            "aaxis": {
             "endlinecolor": "#2a3f5f",
             "gridcolor": "white",
             "linecolor": "white",
             "minorgridcolor": "white",
             "startlinecolor": "#2a3f5f"
            },
            "baxis": {
             "endlinecolor": "#2a3f5f",
             "gridcolor": "white",
             "linecolor": "white",
             "minorgridcolor": "white",
             "startlinecolor": "#2a3f5f"
            },
            "type": "carpet"
           }
          ],
          "choropleth": [
           {
            "colorbar": {
             "outlinewidth": 0,
             "ticks": ""
            },
            "type": "choropleth"
           }
          ],
          "contour": [
           {
            "colorbar": {
             "outlinewidth": 0,
             "ticks": ""
            },
            "colorscale": [
             [
              0,
              "#0d0887"
             ],
             [
              0.1111111111111111,
              "#46039f"
             ],
             [
              0.2222222222222222,
              "#7201a8"
             ],
             [
              0.3333333333333333,
              "#9c179e"
             ],
             [
              0.4444444444444444,
              "#bd3786"
             ],
             [
              0.5555555555555556,
              "#d8576b"
             ],
             [
              0.6666666666666666,
              "#ed7953"
             ],
             [
              0.7777777777777778,
              "#fb9f3a"
             ],
             [
              0.8888888888888888,
              "#fdca26"
             ],
             [
              1,
              "#f0f921"
             ]
            ],
            "type": "contour"
           }
          ],
          "contourcarpet": [
           {
            "colorbar": {
             "outlinewidth": 0,
             "ticks": ""
            },
            "type": "contourcarpet"
           }
          ],
          "heatmap": [
           {
            "colorbar": {
             "outlinewidth": 0,
             "ticks": ""
            },
            "colorscale": [
             [
              0,
              "#0d0887"
             ],
             [
              0.1111111111111111,
              "#46039f"
             ],
             [
              0.2222222222222222,
              "#7201a8"
             ],
             [
              0.3333333333333333,
              "#9c179e"
             ],
             [
              0.4444444444444444,
              "#bd3786"
             ],
             [
              0.5555555555555556,
              "#d8576b"
             ],
             [
              0.6666666666666666,
              "#ed7953"
             ],
             [
              0.7777777777777778,
              "#fb9f3a"
             ],
             [
              0.8888888888888888,
              "#fdca26"
             ],
             [
              1,
              "#f0f921"
             ]
            ],
            "type": "heatmap"
           }
          ],
          "heatmapgl": [
           {
            "colorbar": {
             "outlinewidth": 0,
             "ticks": ""
            },
            "colorscale": [
             [
              0,
              "#0d0887"
             ],
             [
              0.1111111111111111,
              "#46039f"
             ],
             [
              0.2222222222222222,
              "#7201a8"
             ],
             [
              0.3333333333333333,
              "#9c179e"
             ],
             [
              0.4444444444444444,
              "#bd3786"
             ],
             [
              0.5555555555555556,
              "#d8576b"
             ],
             [
              0.6666666666666666,
              "#ed7953"
             ],
             [
              0.7777777777777778,
              "#fb9f3a"
             ],
             [
              0.8888888888888888,
              "#fdca26"
             ],
             [
              1,
              "#f0f921"
             ]
            ],
            "type": "heatmapgl"
           }
          ],
          "histogram": [
           {
            "marker": {
             "pattern": {
              "fillmode": "overlay",
              "size": 10,
              "solidity": 0.2
             }
            },
            "type": "histogram"
           }
          ],
          "histogram2d": [
           {
            "colorbar": {
             "outlinewidth": 0,
             "ticks": ""
            },
            "colorscale": [
             [
              0,
              "#0d0887"
             ],
             [
              0.1111111111111111,
              "#46039f"
             ],
             [
              0.2222222222222222,
              "#7201a8"
             ],
             [
              0.3333333333333333,
              "#9c179e"
             ],
             [
              0.4444444444444444,
              "#bd3786"
             ],
             [
              0.5555555555555556,
              "#d8576b"
             ],
             [
              0.6666666666666666,
              "#ed7953"
             ],
             [
              0.7777777777777778,
              "#fb9f3a"
             ],
             [
              0.8888888888888888,
              "#fdca26"
             ],
             [
              1,
              "#f0f921"
             ]
            ],
            "type": "histogram2d"
           }
          ],
          "histogram2dcontour": [
           {
            "colorbar": {
             "outlinewidth": 0,
             "ticks": ""
            },
            "colorscale": [
             [
              0,
              "#0d0887"
             ],
             [
              0.1111111111111111,
              "#46039f"
             ],
             [
              0.2222222222222222,
              "#7201a8"
             ],
             [
              0.3333333333333333,
              "#9c179e"
             ],
             [
              0.4444444444444444,
              "#bd3786"
             ],
             [
              0.5555555555555556,
              "#d8576b"
             ],
             [
              0.6666666666666666,
              "#ed7953"
             ],
             [
              0.7777777777777778,
              "#fb9f3a"
             ],
             [
              0.8888888888888888,
              "#fdca26"
             ],
             [
              1,
              "#f0f921"
             ]
            ],
            "type": "histogram2dcontour"
           }
          ],
          "mesh3d": [
           {
            "colorbar": {
             "outlinewidth": 0,
             "ticks": ""
            },
            "type": "mesh3d"
           }
          ],
          "parcoords": [
           {
            "line": {
             "colorbar": {
              "outlinewidth": 0,
              "ticks": ""
             }
            },
            "type": "parcoords"
           }
          ],
          "pie": [
           {
            "automargin": true,
            "type": "pie"
           }
          ],
          "scatter": [
           {
            "fillpattern": {
             "fillmode": "overlay",
             "size": 10,
             "solidity": 0.2
            },
            "type": "scatter"
           }
          ],
          "scatter3d": [
           {
            "line": {
             "colorbar": {
              "outlinewidth": 0,
              "ticks": ""
             }
            },
            "marker": {
             "colorbar": {
              "outlinewidth": 0,
              "ticks": ""
             }
            },
            "type": "scatter3d"
           }
          ],
          "scattercarpet": [
           {
            "marker": {
             "colorbar": {
              "outlinewidth": 0,
              "ticks": ""
             }
            },
            "type": "scattercarpet"
           }
          ],
          "scattergeo": [
           {
            "marker": {
             "colorbar": {
              "outlinewidth": 0,
              "ticks": ""
             }
            },
            "type": "scattergeo"
           }
          ],
          "scattergl": [
           {
            "marker": {
             "colorbar": {
              "outlinewidth": 0,
              "ticks": ""
             }
            },
            "type": "scattergl"
           }
          ],
          "scattermapbox": [
           {
            "marker": {
             "colorbar": {
              "outlinewidth": 0,
              "ticks": ""
             }
            },
            "type": "scattermapbox"
           }
          ],
          "scatterpolar": [
           {
            "marker": {
             "colorbar": {
              "outlinewidth": 0,
              "ticks": ""
             }
            },
            "type": "scatterpolar"
           }
          ],
          "scatterpolargl": [
           {
            "marker": {
             "colorbar": {
              "outlinewidth": 0,
              "ticks": ""
             }
            },
            "type": "scatterpolargl"
           }
          ],
          "scatterternary": [
           {
            "marker": {
             "colorbar": {
              "outlinewidth": 0,
              "ticks": ""
             }
            },
            "type": "scatterternary"
           }
          ],
          "surface": [
           {
            "colorbar": {
             "outlinewidth": 0,
             "ticks": ""
            },
            "colorscale": [
             [
              0,
              "#0d0887"
             ],
             [
              0.1111111111111111,
              "#46039f"
             ],
             [
              0.2222222222222222,
              "#7201a8"
             ],
             [
              0.3333333333333333,
              "#9c179e"
             ],
             [
              0.4444444444444444,
              "#bd3786"
             ],
             [
              0.5555555555555556,
              "#d8576b"
             ],
             [
              0.6666666666666666,
              "#ed7953"
             ],
             [
              0.7777777777777778,
              "#fb9f3a"
             ],
             [
              0.8888888888888888,
              "#fdca26"
             ],
             [
              1,
              "#f0f921"
             ]
            ],
            "type": "surface"
           }
          ],
          "table": [
           {
            "cells": {
             "fill": {
              "color": "#EBF0F8"
             },
             "line": {
              "color": "white"
             }
            },
            "header": {
             "fill": {
              "color": "#C8D4E3"
             },
             "line": {
              "color": "white"
             }
            },
            "type": "table"
           }
          ]
         },
         "layout": {
          "annotationdefaults": {
           "arrowcolor": "#2a3f5f",
           "arrowhead": 0,
           "arrowwidth": 1
          },
          "autotypenumbers": "strict",
          "coloraxis": {
           "colorbar": {
            "outlinewidth": 0,
            "ticks": ""
           }
          },
          "colorscale": {
           "diverging": [
            [
             0,
             "#8e0152"
            ],
            [
             0.1,
             "#c51b7d"
            ],
            [
             0.2,
             "#de77ae"
            ],
            [
             0.3,
             "#f1b6da"
            ],
            [
             0.4,
             "#fde0ef"
            ],
            [
             0.5,
             "#f7f7f7"
            ],
            [
             0.6,
             "#e6f5d0"
            ],
            [
             0.7,
             "#b8e186"
            ],
            [
             0.8,
             "#7fbc41"
            ],
            [
             0.9,
             "#4d9221"
            ],
            [
             1,
             "#276419"
            ]
           ],
           "sequential": [
            [
             0,
             "#0d0887"
            ],
            [
             0.1111111111111111,
             "#46039f"
            ],
            [
             0.2222222222222222,
             "#7201a8"
            ],
            [
             0.3333333333333333,
             "#9c179e"
            ],
            [
             0.4444444444444444,
             "#bd3786"
            ],
            [
             0.5555555555555556,
             "#d8576b"
            ],
            [
             0.6666666666666666,
             "#ed7953"
            ],
            [
             0.7777777777777778,
             "#fb9f3a"
            ],
            [
             0.8888888888888888,
             "#fdca26"
            ],
            [
             1,
             "#f0f921"
            ]
           ],
           "sequentialminus": [
            [
             0,
             "#0d0887"
            ],
            [
             0.1111111111111111,
             "#46039f"
            ],
            [
             0.2222222222222222,
             "#7201a8"
            ],
            [
             0.3333333333333333,
             "#9c179e"
            ],
            [
             0.4444444444444444,
             "#bd3786"
            ],
            [
             0.5555555555555556,
             "#d8576b"
            ],
            [
             0.6666666666666666,
             "#ed7953"
            ],
            [
             0.7777777777777778,
             "#fb9f3a"
            ],
            [
             0.8888888888888888,
             "#fdca26"
            ],
            [
             1,
             "#f0f921"
            ]
           ]
          },
          "colorway": [
           "#636efa",
           "#EF553B",
           "#00cc96",
           "#ab63fa",
           "#FFA15A",
           "#19d3f3",
           "#FF6692",
           "#B6E880",
           "#FF97FF",
           "#FECB52"
          ],
          "font": {
           "color": "#2a3f5f"
          },
          "geo": {
           "bgcolor": "white",
           "lakecolor": "white",
           "landcolor": "#E5ECF6",
           "showlakes": true,
           "showland": true,
           "subunitcolor": "white"
          },
          "hoverlabel": {
           "align": "left"
          },
          "hovermode": "closest",
          "mapbox": {
           "style": "light"
          },
          "paper_bgcolor": "white",
          "plot_bgcolor": "#E5ECF6",
          "polar": {
           "angularaxis": {
            "gridcolor": "white",
            "linecolor": "white",
            "ticks": ""
           },
           "bgcolor": "#E5ECF6",
           "radialaxis": {
            "gridcolor": "white",
            "linecolor": "white",
            "ticks": ""
           }
          },
          "scene": {
           "xaxis": {
            "backgroundcolor": "#E5ECF6",
            "gridcolor": "white",
            "gridwidth": 2,
            "linecolor": "white",
            "showbackground": true,
            "ticks": "",
            "zerolinecolor": "white"
           },
           "yaxis": {
            "backgroundcolor": "#E5ECF6",
            "gridcolor": "white",
            "gridwidth": 2,
            "linecolor": "white",
            "showbackground": true,
            "ticks": "",
            "zerolinecolor": "white"
           },
           "zaxis": {
            "backgroundcolor": "#E5ECF6",
            "gridcolor": "white",
            "gridwidth": 2,
            "linecolor": "white",
            "showbackground": true,
            "ticks": "",
            "zerolinecolor": "white"
           }
          },
          "shapedefaults": {
           "line": {
            "color": "#2a3f5f"
           }
          },
          "ternary": {
           "aaxis": {
            "gridcolor": "white",
            "linecolor": "white",
            "ticks": ""
           },
           "baxis": {
            "gridcolor": "white",
            "linecolor": "white",
            "ticks": ""
           },
           "bgcolor": "#E5ECF6",
           "caxis": {
            "gridcolor": "white",
            "linecolor": "white",
            "ticks": ""
           }
          },
          "title": {
           "x": 0.05
          },
          "xaxis": {
           "automargin": true,
           "gridcolor": "white",
           "linecolor": "white",
           "ticks": "",
           "title": {
            "standoff": 15
           },
           "zerolinecolor": "white",
           "zerolinewidth": 2
          },
          "yaxis": {
           "automargin": true,
           "gridcolor": "white",
           "linecolor": "white",
           "ticks": "",
           "title": {
            "standoff": 15
           },
           "zerolinecolor": "white",
           "zerolinewidth": 2
          }
         }
        },
        "title": {
         "text": "Relative CI Width comparison - renaissance"
        },
        "xaxis": {
         "anchor": "y",
         "domain": [
          0,
          0.31999999999999995
         ],
         "title": {
          "text": "benchmark"
         }
        },
        "xaxis2": {
         "anchor": "y2",
         "domain": [
          0.33999999999999997,
          0.6599999999999999
         ],
         "matches": "x",
         "title": {
          "text": "benchmark"
         }
        },
        "xaxis3": {
         "anchor": "y3",
         "domain": [
          0.6799999999999999,
          0.9999999999999999
         ],
         "matches": "x",
         "title": {
          "text": "benchmark"
         }
        },
        "yaxis": {
         "anchor": "x",
         "domain": [
          0,
          1
         ],
         "title": {
          "text": "ci_width"
         }
        },
        "yaxis2": {
         "anchor": "x2",
         "domain": [
          0,
          1
         ],
         "matches": "y",
         "showticklabels": false
        },
        "yaxis3": {
         "anchor": "x3",
         "domain": [
          0,
          1
         ],
         "matches": "y",
         "showticklabels": false
        }
       }
      }
     },
     "metadata": {},
     "output_type": "display_data"
    },
    {
     "data": {
      "application/vnd.plotly.v1+json": {
       "config": {
        "plotlyServerURL": "https://plot.ly"
       },
       "data": [
        {
         "alignmentgroup": "True",
         "hovertemplate": "type=seqn<br>environment=AWS t3.medium<br>benchmark=%{x}<br>ci_width=%{y}<extra></extra>",
         "legendgroup": "seqn",
         "marker": {
          "color": "#636efa",
          "pattern": {
           "shape": ""
          }
         },
         "name": "seqn",
         "offsetgroup": "seqn",
         "orientation": "v",
         "showlegend": true,
         "textposition": "auto",
         "type": "bar",
         "x": [
          "apparat",
          "avrora",
          "factorie",
          "fop",
          "h2",
          "kiama",
          "luindex",
          "lusearch",
          "pmd",
          "scalac",
          "scaladoc",
          "scalap",
          "scalariform",
          "scalatest",
          "scalaxb",
          "specs",
          "sunflow",
          "tmt",
          "tradebeans",
          "tradesoap",
          "xalan"
         ],
         "xaxis": "x",
         "y": [
          0.06371333489777378,
          0.007491477280322255,
          0.15836517578099948,
          0.047379692432546736,
          0.035518331773094755,
          0.028633660342155986,
          0.0272938346302054,
          0.03813660237697917,
          0.014167830826740177,
          0.03487509234299815,
          0.01997519651729185,
          0.03165944090483176,
          0.031486926374211806,
          0.012476653964091668,
          0.06637549572897568,
          0.014280879735298275,
          0.026697969944046954,
          0.20889018293553638,
          0.04125498950402041,
          0.009184194459962738,
          0.015956234611350296
         ],
         "yaxis": "y"
        },
        {
         "alignmentgroup": "True",
         "hovertemplate": "type=seqn<br>environment=bare-metal<br>benchmark=%{x}<br>ci_width=%{y}<extra></extra>",
         "legendgroup": "seqn",
         "marker": {
          "color": "#636efa",
          "pattern": {
           "shape": ""
          }
         },
         "name": "seqn",
         "offsetgroup": "seqn",
         "orientation": "v",
         "showlegend": false,
         "textposition": "auto",
         "type": "bar",
         "x": [
          "apparat",
          "avrora",
          "factorie",
          "fop",
          "h2",
          "kiama",
          "luindex",
          "lusearch",
          "pmd",
          "scalac",
          "scaladoc",
          "scalap",
          "scalariform",
          "scalatest",
          "scalaxb",
          "specs",
          "sunflow",
          "tmt",
          "tradebeans",
          "tradesoap",
          "xalan"
         ],
         "xaxis": "x2",
         "y": [
          0.015073415490117547,
          0.005543481932966369,
          0.05785633900385742,
          0.006496972743495963,
          0.01570481010770253,
          0.009961470454804769,
          0.015747956895194773,
          0.0239308268174235,
          0.013284908492502131,
          0.017310885699187626,
          0.01643129806628102,
          0.014017469177362062,
          0.008769017265373042,
          0.008996979591398262,
          0.00798317955293813,
          0.0022813759635068823,
          0.02382542791261475,
          0.06255089050017093,
          0.01861058124621238,
          0.006239275236487498,
          0.019526607195805297
         ],
         "yaxis": "y2"
        },
        {
         "alignmentgroup": "True",
         "hovertemplate": "type=seqn<br>environment=shared-vm<br>benchmark=%{x}<br>ci_width=%{y}<extra></extra>",
         "legendgroup": "seqn",
         "marker": {
          "color": "#636efa",
          "pattern": {
           "shape": ""
          }
         },
         "name": "seqn",
         "offsetgroup": "seqn",
         "orientation": "v",
         "showlegend": false,
         "textposition": "auto",
         "type": "bar",
         "x": [
          "apparat",
          "avrora",
          "factorie",
          "fop",
          "h2",
          "kiama",
          "luindex",
          "lusearch",
          "pmd",
          "scalac",
          "scaladoc",
          "scalap",
          "scalariform",
          "scalatest",
          "scalaxb",
          "specs",
          "sunflow",
          "tmt",
          "tradebeans",
          "tradesoap",
          "xalan"
         ],
         "xaxis": "x3",
         "y": [
          0.06878400777719165,
          0.06349127639048861,
          0.15869328812688202,
          0.1475246950035396,
          0.05121072463096079,
          0.10190406560783213,
          0.15740844219334407,
          0.1033886187137713,
          0.043554069576663086,
          0.08384919915828278,
          0.11692444623840982,
          0.0797694158429159,
          0.08129734471468782,
          0.10589063892453848,
          0.18318794297972693,
          0.06471857458795062,
          0.07940885077740972,
          0.18280051491929428,
          0.05732544512660673,
          0.13195529597950895,
          0.2405456521292433
         ],
         "yaxis": "y3"
        },
        {
         "alignmentgroup": "True",
         "hovertemplate": "type=syncduet<br>environment=AWS t3.medium<br>benchmark=%{x}<br>ci_width=%{y}<extra></extra>",
         "legendgroup": "syncduet",
         "marker": {
          "color": "#EF553B",
          "pattern": {
           "shape": ""
          }
         },
         "name": "syncduet",
         "offsetgroup": "syncduet",
         "orientation": "v",
         "showlegend": true,
         "textposition": "auto",
         "type": "bar",
         "x": [
          "apparat",
          "avrora",
          "factorie",
          "fop",
          "h2",
          "kiama",
          "luindex",
          "lusearch",
          "pmd",
          "scalac",
          "scaladoc",
          "scalap",
          "scalariform",
          "scalatest",
          "scalaxb",
          "specs",
          "sunflow",
          "tmt",
          "tradebeans",
          "tradesoap",
          "xalan"
         ],
         "xaxis": "x",
         "y": [
          0.0665804095662235,
          0.010065522268702724,
          0.11817553066958102,
          0.050088790944610155,
          0.018833991937685698,
          0.016339627579447135,
          0.00869430890444057,
          0.0062646496449451985,
          0.008415793309883509,
          0.011655529785275176,
          0.010997960218539604,
          0.03905887552960023,
          0.014731050812066509,
          0.008279242058337489,
          0.027208603966921752,
          0.011720596567433569,
          0.029961579591709486,
          0.11948586529738292,
          0.019335072824484174,
          0.00929535814856096,
          0.005086514111215599
         ],
         "yaxis": "y"
        },
        {
         "alignmentgroup": "True",
         "hovertemplate": "type=syncduet<br>environment=bare-metal<br>benchmark=%{x}<br>ci_width=%{y}<extra></extra>",
         "legendgroup": "syncduet",
         "marker": {
          "color": "#EF553B",
          "pattern": {
           "shape": ""
          }
         },
         "name": "syncduet",
         "offsetgroup": "syncduet",
         "orientation": "v",
         "showlegend": false,
         "textposition": "auto",
         "type": "bar",
         "x": [
          "apparat",
          "avrora",
          "factorie",
          "fop",
          "h2",
          "kiama",
          "luindex",
          "lusearch",
          "pmd",
          "scalac",
          "scaladoc",
          "scalap",
          "scalariform",
          "scalatest",
          "scalaxb",
          "specs",
          "sunflow",
          "tmt",
          "tradebeans",
          "tradesoap",
          "xalan"
         ],
         "xaxis": "x2",
         "y": [
          0.018769265514090024,
          0.004346524189154816,
          0.07647913675481349,
          0.013492867572146268,
          0.027629588340969465,
          0.009698858676947673,
          0.004628290314213658,
          0.007441586806723692,
          0.008457586437128755,
          0.03855301416180772,
          0.020469629206881033,
          0.015081559634020312,
          0.009364025413171701,
          0.006076521784938266,
          0.051355650086404366,
          0.00382974434006958,
          0.0027951848660383244,
          0.060336890747456844,
          0.01317611765562835,
          0.002682542255184833,
          0.008171473476024458
         ],
         "yaxis": "y2"
        },
        {
         "alignmentgroup": "True",
         "hovertemplate": "type=syncduet<br>environment=shared-vm<br>benchmark=%{x}<br>ci_width=%{y}<extra></extra>",
         "legendgroup": "syncduet",
         "marker": {
          "color": "#EF553B",
          "pattern": {
           "shape": ""
          }
         },
         "name": "syncduet",
         "offsetgroup": "syncduet",
         "orientation": "v",
         "showlegend": false,
         "textposition": "auto",
         "type": "bar",
         "x": [
          "apparat",
          "avrora",
          "factorie",
          "fop",
          "h2",
          "kiama",
          "luindex",
          "lusearch",
          "pmd",
          "scalac",
          "scaladoc",
          "scalap",
          "scalariform",
          "scalatest",
          "scalaxb",
          "specs",
          "sunflow",
          "tmt",
          "tradebeans",
          "tradesoap",
          "xalan"
         ],
         "xaxis": "x3",
         "y": [
          0.02663608479544108,
          0.01676473581383745,
          0.10624639509782241,
          0.10653131073216163,
          0.06347454509840612,
          0.08352639274342294,
          0.037168110140353684,
          0.019806830892118484,
          0.02631329318816097,
          0.05070410611756465,
          0.042331157772359976,
          0.07617213979561988,
          0.0610303072661255,
          0.03151369161259068,
          0.09066731510093064,
          0.030883912898721153,
          0.03683622821961029,
          0.19289080212120222,
          0.032022152125616724,
          0.016262626649887507,
          0.017832238630936793
         ],
         "yaxis": "y3"
        },
        {
         "alignmentgroup": "True",
         "hovertemplate": "type=duet<br>environment=AWS t3.medium<br>benchmark=%{x}<br>ci_width=%{y}<extra></extra>",
         "legendgroup": "duet",
         "marker": {
          "color": "#00cc96",
          "pattern": {
           "shape": ""
          }
         },
         "name": "duet",
         "offsetgroup": "duet",
         "orientation": "v",
         "showlegend": true,
         "textposition": "auto",
         "type": "bar",
         "x": [
          "apparat",
          "avrora",
          "factorie",
          "fop",
          "h2",
          "kiama",
          "luindex",
          "lusearch",
          "pmd",
          "scalac",
          "scaladoc",
          "scalap",
          "scalariform",
          "scalatest",
          "scalaxb",
          "specs",
          "sunflow",
          "tmt",
          "tradebeans",
          "tradesoap",
          "xalan"
         ],
         "xaxis": "x",
         "y": [
          0.04235293998143486,
          0.011346832508716506,
          0.12132304545077154,
          0.04029905118748256,
          0.02770067785788857,
          0.027652729111879257,
          0.01155225573460461,
          0.03451134357700596,
          0.010316684027316617,
          0.041287849274023104,
          0.032128740438900336,
          0.039321116108919675,
          0.019407799652320444,
          0.008833007802148187,
          0.1273118552954943,
          0.010939902280839263,
          0.019549884550010714,
          0.13352918347440568,
          0.014734431928286109,
          0.008494642256196288,
          0.01447461508733254
         ],
         "yaxis": "y"
        },
        {
         "alignmentgroup": "True",
         "hovertemplate": "type=duet<br>environment=bare-metal<br>benchmark=%{x}<br>ci_width=%{y}<extra></extra>",
         "legendgroup": "duet",
         "marker": {
          "color": "#00cc96",
          "pattern": {
           "shape": ""
          }
         },
         "name": "duet",
         "offsetgroup": "duet",
         "orientation": "v",
         "showlegend": false,
         "textposition": "auto",
         "type": "bar",
         "x": [
          "apparat",
          "avrora",
          "factorie",
          "fop",
          "h2",
          "kiama",
          "luindex",
          "lusearch",
          "pmd",
          "scalac",
          "scaladoc",
          "scalap",
          "scalariform",
          "scalatest",
          "scalaxb",
          "specs",
          "sunflow",
          "tmt",
          "tradebeans",
          "tradesoap",
          "xalan"
         ],
         "xaxis": "x2",
         "y": [
          0.016334529843495663,
          0.0036411138365659975,
          0.06975217641301337,
          0.009301372995113286,
          0.030879513370738063,
          0.022054858409016585,
          0.021314397262791406,
          0.033890481453561945,
          0.010853697167848115,
          0.031917850026960584,
          0.02122255301021932,
          0.014374308014498396,
          0.004837679601326336,
          0.005912389458180914,
          0.03486004335974329,
          0.004830570802702598,
          0.009888618663161918,
          0.1136716567452283,
          0.01896207907104121,
          0.003296047037734729,
          0.012963031453283706
         ],
         "yaxis": "y2"
        },
        {
         "alignmentgroup": "True",
         "hovertemplate": "type=duet<br>environment=shared-vm<br>benchmark=%{x}<br>ci_width=%{y}<extra></extra>",
         "legendgroup": "duet",
         "marker": {
          "color": "#00cc96",
          "pattern": {
           "shape": ""
          }
         },
         "name": "duet",
         "offsetgroup": "duet",
         "orientation": "v",
         "showlegend": false,
         "textposition": "auto",
         "type": "bar",
         "x": [
          "apparat",
          "avrora",
          "factorie",
          "fop",
          "h2",
          "kiama",
          "luindex",
          "lusearch",
          "pmd",
          "scalac",
          "scaladoc",
          "scalap",
          "scalariform",
          "scalatest",
          "scalaxb",
          "specs",
          "sunflow",
          "tmt",
          "tradebeans",
          "tradesoap",
          "xalan"
         ],
         "xaxis": "x3",
         "y": [
          0.03345031320050166,
          0.0186686031726256,
          0.06377377804897959,
          0.11308986333151162,
          0.044668550393523784,
          0.10243035813663302,
          0.037019836297401305,
          0.0339378982802731,
          0.03490564049449386,
          0.06238931777448471,
          0.03509187127365912,
          0.15579342686918543,
          0.09519109428737015,
          0.025103290325748557,
          0.07824236224471592,
          0.03555223388354904,
          0.03690189791130231,
          0.27319965642980615,
          0.026560004152287427,
          0.01733528294079969,
          0.026961688218984453
         ],
         "yaxis": "y3"
        }
       ],
       "layout": {
        "annotations": [
         {
          "font": {},
          "showarrow": false,
          "text": "environment=AWS t3.medium",
          "x": 0.15999999999999998,
          "xanchor": "center",
          "xref": "paper",
          "y": 1,
          "yanchor": "bottom",
          "yref": "paper"
         },
         {
          "font": {},
          "showarrow": false,
          "text": "environment=bare-metal",
          "x": 0.49999999999999994,
          "xanchor": "center",
          "xref": "paper",
          "y": 1,
          "yanchor": "bottom",
          "yref": "paper"
         },
         {
          "font": {},
          "showarrow": false,
          "text": "environment=shared-vm",
          "x": 0.8399999999999999,
          "xanchor": "center",
          "xref": "paper",
          "y": 1,
          "yanchor": "bottom",
          "yref": "paper"
         }
        ],
        "barmode": "group",
        "legend": {
         "title": {
          "text": "type"
         },
         "tracegroupgap": 0
        },
        "template": {
         "data": {
          "bar": [
           {
            "error_x": {
             "color": "#2a3f5f"
            },
            "error_y": {
             "color": "#2a3f5f"
            },
            "marker": {
             "line": {
              "color": "#E5ECF6",
              "width": 0.5
             },
             "pattern": {
              "fillmode": "overlay",
              "size": 10,
              "solidity": 0.2
             }
            },
            "type": "bar"
           }
          ],
          "barpolar": [
           {
            "marker": {
             "line": {
              "color": "#E5ECF6",
              "width": 0.5
             },
             "pattern": {
              "fillmode": "overlay",
              "size": 10,
              "solidity": 0.2
             }
            },
            "type": "barpolar"
           }
          ],
          "carpet": [
           {
            "aaxis": {
             "endlinecolor": "#2a3f5f",
             "gridcolor": "white",
             "linecolor": "white",
             "minorgridcolor": "white",
             "startlinecolor": "#2a3f5f"
            },
            "baxis": {
             "endlinecolor": "#2a3f5f",
             "gridcolor": "white",
             "linecolor": "white",
             "minorgridcolor": "white",
             "startlinecolor": "#2a3f5f"
            },
            "type": "carpet"
           }
          ],
          "choropleth": [
           {
            "colorbar": {
             "outlinewidth": 0,
             "ticks": ""
            },
            "type": "choropleth"
           }
          ],
          "contour": [
           {
            "colorbar": {
             "outlinewidth": 0,
             "ticks": ""
            },
            "colorscale": [
             [
              0,
              "#0d0887"
             ],
             [
              0.1111111111111111,
              "#46039f"
             ],
             [
              0.2222222222222222,
              "#7201a8"
             ],
             [
              0.3333333333333333,
              "#9c179e"
             ],
             [
              0.4444444444444444,
              "#bd3786"
             ],
             [
              0.5555555555555556,
              "#d8576b"
             ],
             [
              0.6666666666666666,
              "#ed7953"
             ],
             [
              0.7777777777777778,
              "#fb9f3a"
             ],
             [
              0.8888888888888888,
              "#fdca26"
             ],
             [
              1,
              "#f0f921"
             ]
            ],
            "type": "contour"
           }
          ],
          "contourcarpet": [
           {
            "colorbar": {
             "outlinewidth": 0,
             "ticks": ""
            },
            "type": "contourcarpet"
           }
          ],
          "heatmap": [
           {
            "colorbar": {
             "outlinewidth": 0,
             "ticks": ""
            },
            "colorscale": [
             [
              0,
              "#0d0887"
             ],
             [
              0.1111111111111111,
              "#46039f"
             ],
             [
              0.2222222222222222,
              "#7201a8"
             ],
             [
              0.3333333333333333,
              "#9c179e"
             ],
             [
              0.4444444444444444,
              "#bd3786"
             ],
             [
              0.5555555555555556,
              "#d8576b"
             ],
             [
              0.6666666666666666,
              "#ed7953"
             ],
             [
              0.7777777777777778,
              "#fb9f3a"
             ],
             [
              0.8888888888888888,
              "#fdca26"
             ],
             [
              1,
              "#f0f921"
             ]
            ],
            "type": "heatmap"
           }
          ],
          "heatmapgl": [
           {
            "colorbar": {
             "outlinewidth": 0,
             "ticks": ""
            },
            "colorscale": [
             [
              0,
              "#0d0887"
             ],
             [
              0.1111111111111111,
              "#46039f"
             ],
             [
              0.2222222222222222,
              "#7201a8"
             ],
             [
              0.3333333333333333,
              "#9c179e"
             ],
             [
              0.4444444444444444,
              "#bd3786"
             ],
             [
              0.5555555555555556,
              "#d8576b"
             ],
             [
              0.6666666666666666,
              "#ed7953"
             ],
             [
              0.7777777777777778,
              "#fb9f3a"
             ],
             [
              0.8888888888888888,
              "#fdca26"
             ],
             [
              1,
              "#f0f921"
             ]
            ],
            "type": "heatmapgl"
           }
          ],
          "histogram": [
           {
            "marker": {
             "pattern": {
              "fillmode": "overlay",
              "size": 10,
              "solidity": 0.2
             }
            },
            "type": "histogram"
           }
          ],
          "histogram2d": [
           {
            "colorbar": {
             "outlinewidth": 0,
             "ticks": ""
            },
            "colorscale": [
             [
              0,
              "#0d0887"
             ],
             [
              0.1111111111111111,
              "#46039f"
             ],
             [
              0.2222222222222222,
              "#7201a8"
             ],
             [
              0.3333333333333333,
              "#9c179e"
             ],
             [
              0.4444444444444444,
              "#bd3786"
             ],
             [
              0.5555555555555556,
              "#d8576b"
             ],
             [
              0.6666666666666666,
              "#ed7953"
             ],
             [
              0.7777777777777778,
              "#fb9f3a"
             ],
             [
              0.8888888888888888,
              "#fdca26"
             ],
             [
              1,
              "#f0f921"
             ]
            ],
            "type": "histogram2d"
           }
          ],
          "histogram2dcontour": [
           {
            "colorbar": {
             "outlinewidth": 0,
             "ticks": ""
            },
            "colorscale": [
             [
              0,
              "#0d0887"
             ],
             [
              0.1111111111111111,
              "#46039f"
             ],
             [
              0.2222222222222222,
              "#7201a8"
             ],
             [
              0.3333333333333333,
              "#9c179e"
             ],
             [
              0.4444444444444444,
              "#bd3786"
             ],
             [
              0.5555555555555556,
              "#d8576b"
             ],
             [
              0.6666666666666666,
              "#ed7953"
             ],
             [
              0.7777777777777778,
              "#fb9f3a"
             ],
             [
              0.8888888888888888,
              "#fdca26"
             ],
             [
              1,
              "#f0f921"
             ]
            ],
            "type": "histogram2dcontour"
           }
          ],
          "mesh3d": [
           {
            "colorbar": {
             "outlinewidth": 0,
             "ticks": ""
            },
            "type": "mesh3d"
           }
          ],
          "parcoords": [
           {
            "line": {
             "colorbar": {
              "outlinewidth": 0,
              "ticks": ""
             }
            },
            "type": "parcoords"
           }
          ],
          "pie": [
           {
            "automargin": true,
            "type": "pie"
           }
          ],
          "scatter": [
           {
            "fillpattern": {
             "fillmode": "overlay",
             "size": 10,
             "solidity": 0.2
            },
            "type": "scatter"
           }
          ],
          "scatter3d": [
           {
            "line": {
             "colorbar": {
              "outlinewidth": 0,
              "ticks": ""
             }
            },
            "marker": {
             "colorbar": {
              "outlinewidth": 0,
              "ticks": ""
             }
            },
            "type": "scatter3d"
           }
          ],
          "scattercarpet": [
           {
            "marker": {
             "colorbar": {
              "outlinewidth": 0,
              "ticks": ""
             }
            },
            "type": "scattercarpet"
           }
          ],
          "scattergeo": [
           {
            "marker": {
             "colorbar": {
              "outlinewidth": 0,
              "ticks": ""
             }
            },
            "type": "scattergeo"
           }
          ],
          "scattergl": [
           {
            "marker": {
             "colorbar": {
              "outlinewidth": 0,
              "ticks": ""
             }
            },
            "type": "scattergl"
           }
          ],
          "scattermapbox": [
           {
            "marker": {
             "colorbar": {
              "outlinewidth": 0,
              "ticks": ""
             }
            },
            "type": "scattermapbox"
           }
          ],
          "scatterpolar": [
           {
            "marker": {
             "colorbar": {
              "outlinewidth": 0,
              "ticks": ""
             }
            },
            "type": "scatterpolar"
           }
          ],
          "scatterpolargl": [
           {
            "marker": {
             "colorbar": {
              "outlinewidth": 0,
              "ticks": ""
             }
            },
            "type": "scatterpolargl"
           }
          ],
          "scatterternary": [
           {
            "marker": {
             "colorbar": {
              "outlinewidth": 0,
              "ticks": ""
             }
            },
            "type": "scatterternary"
           }
          ],
          "surface": [
           {
            "colorbar": {
             "outlinewidth": 0,
             "ticks": ""
            },
            "colorscale": [
             [
              0,
              "#0d0887"
             ],
             [
              0.1111111111111111,
              "#46039f"
             ],
             [
              0.2222222222222222,
              "#7201a8"
             ],
             [
              0.3333333333333333,
              "#9c179e"
             ],
             [
              0.4444444444444444,
              "#bd3786"
             ],
             [
              0.5555555555555556,
              "#d8576b"
             ],
             [
              0.6666666666666666,
              "#ed7953"
             ],
             [
              0.7777777777777778,
              "#fb9f3a"
             ],
             [
              0.8888888888888888,
              "#fdca26"
             ],
             [
              1,
              "#f0f921"
             ]
            ],
            "type": "surface"
           }
          ],
          "table": [
           {
            "cells": {
             "fill": {
              "color": "#EBF0F8"
             },
             "line": {
              "color": "white"
             }
            },
            "header": {
             "fill": {
              "color": "#C8D4E3"
             },
             "line": {
              "color": "white"
             }
            },
            "type": "table"
           }
          ]
         },
         "layout": {
          "annotationdefaults": {
           "arrowcolor": "#2a3f5f",
           "arrowhead": 0,
           "arrowwidth": 1
          },
          "autotypenumbers": "strict",
          "coloraxis": {
           "colorbar": {
            "outlinewidth": 0,
            "ticks": ""
           }
          },
          "colorscale": {
           "diverging": [
            [
             0,
             "#8e0152"
            ],
            [
             0.1,
             "#c51b7d"
            ],
            [
             0.2,
             "#de77ae"
            ],
            [
             0.3,
             "#f1b6da"
            ],
            [
             0.4,
             "#fde0ef"
            ],
            [
             0.5,
             "#f7f7f7"
            ],
            [
             0.6,
             "#e6f5d0"
            ],
            [
             0.7,
             "#b8e186"
            ],
            [
             0.8,
             "#7fbc41"
            ],
            [
             0.9,
             "#4d9221"
            ],
            [
             1,
             "#276419"
            ]
           ],
           "sequential": [
            [
             0,
             "#0d0887"
            ],
            [
             0.1111111111111111,
             "#46039f"
            ],
            [
             0.2222222222222222,
             "#7201a8"
            ],
            [
             0.3333333333333333,
             "#9c179e"
            ],
            [
             0.4444444444444444,
             "#bd3786"
            ],
            [
             0.5555555555555556,
             "#d8576b"
            ],
            [
             0.6666666666666666,
             "#ed7953"
            ],
            [
             0.7777777777777778,
             "#fb9f3a"
            ],
            [
             0.8888888888888888,
             "#fdca26"
            ],
            [
             1,
             "#f0f921"
            ]
           ],
           "sequentialminus": [
            [
             0,
             "#0d0887"
            ],
            [
             0.1111111111111111,
             "#46039f"
            ],
            [
             0.2222222222222222,
             "#7201a8"
            ],
            [
             0.3333333333333333,
             "#9c179e"
            ],
            [
             0.4444444444444444,
             "#bd3786"
            ],
            [
             0.5555555555555556,
             "#d8576b"
            ],
            [
             0.6666666666666666,
             "#ed7953"
            ],
            [
             0.7777777777777778,
             "#fb9f3a"
            ],
            [
             0.8888888888888888,
             "#fdca26"
            ],
            [
             1,
             "#f0f921"
            ]
           ]
          },
          "colorway": [
           "#636efa",
           "#EF553B",
           "#00cc96",
           "#ab63fa",
           "#FFA15A",
           "#19d3f3",
           "#FF6692",
           "#B6E880",
           "#FF97FF",
           "#FECB52"
          ],
          "font": {
           "color": "#2a3f5f"
          },
          "geo": {
           "bgcolor": "white",
           "lakecolor": "white",
           "landcolor": "#E5ECF6",
           "showlakes": true,
           "showland": true,
           "subunitcolor": "white"
          },
          "hoverlabel": {
           "align": "left"
          },
          "hovermode": "closest",
          "mapbox": {
           "style": "light"
          },
          "paper_bgcolor": "white",
          "plot_bgcolor": "#E5ECF6",
          "polar": {
           "angularaxis": {
            "gridcolor": "white",
            "linecolor": "white",
            "ticks": ""
           },
           "bgcolor": "#E5ECF6",
           "radialaxis": {
            "gridcolor": "white",
            "linecolor": "white",
            "ticks": ""
           }
          },
          "scene": {
           "xaxis": {
            "backgroundcolor": "#E5ECF6",
            "gridcolor": "white",
            "gridwidth": 2,
            "linecolor": "white",
            "showbackground": true,
            "ticks": "",
            "zerolinecolor": "white"
           },
           "yaxis": {
            "backgroundcolor": "#E5ECF6",
            "gridcolor": "white",
            "gridwidth": 2,
            "linecolor": "white",
            "showbackground": true,
            "ticks": "",
            "zerolinecolor": "white"
           },
           "zaxis": {
            "backgroundcolor": "#E5ECF6",
            "gridcolor": "white",
            "gridwidth": 2,
            "linecolor": "white",
            "showbackground": true,
            "ticks": "",
            "zerolinecolor": "white"
           }
          },
          "shapedefaults": {
           "line": {
            "color": "#2a3f5f"
           }
          },
          "ternary": {
           "aaxis": {
            "gridcolor": "white",
            "linecolor": "white",
            "ticks": ""
           },
           "baxis": {
            "gridcolor": "white",
            "linecolor": "white",
            "ticks": ""
           },
           "bgcolor": "#E5ECF6",
           "caxis": {
            "gridcolor": "white",
            "linecolor": "white",
            "ticks": ""
           }
          },
          "title": {
           "x": 0.05
          },
          "xaxis": {
           "automargin": true,
           "gridcolor": "white",
           "linecolor": "white",
           "ticks": "",
           "title": {
            "standoff": 15
           },
           "zerolinecolor": "white",
           "zerolinewidth": 2
          },
          "yaxis": {
           "automargin": true,
           "gridcolor": "white",
           "linecolor": "white",
           "ticks": "",
           "title": {
            "standoff": 15
           },
           "zerolinecolor": "white",
           "zerolinewidth": 2
          }
         }
        },
        "title": {
         "text": "Relative CI Width comparison - scalabench"
        },
        "xaxis": {
         "anchor": "y",
         "domain": [
          0,
          0.31999999999999995
         ],
         "title": {
          "text": "benchmark"
         }
        },
        "xaxis2": {
         "anchor": "y2",
         "domain": [
          0.33999999999999997,
          0.6599999999999999
         ],
         "matches": "x",
         "title": {
          "text": "benchmark"
         }
        },
        "xaxis3": {
         "anchor": "y3",
         "domain": [
          0.6799999999999999,
          0.9999999999999999
         ],
         "matches": "x",
         "title": {
          "text": "benchmark"
         }
        },
        "yaxis": {
         "anchor": "x",
         "domain": [
          0,
          1
         ],
         "title": {
          "text": "ci_width"
         }
        },
        "yaxis2": {
         "anchor": "x2",
         "domain": [
          0,
          1
         ],
         "matches": "y",
         "showticklabels": false
        },
        "yaxis3": {
         "anchor": "x3",
         "domain": [
          0,
          1
         ],
         "matches": "y",
         "showticklabels": false
        }
       }
      }
     },
     "metadata": {},
     "output_type": "display_data"
    },
    {
     "data": {
      "application/vnd.plotly.v1+json": {
       "config": {
        "plotlyServerURL": "https://plot.ly"
       },
       "data": [
        {
         "alignmentgroup": "True",
         "hovertemplate": "type=seqn<br>environment=AWS t3.medium<br>benchmark=%{x}<br>ci_width=%{y}<extra></extra>",
         "legendgroup": "seqn",
         "marker": {
          "color": "#636efa",
          "pattern": {
           "shape": ""
          }
         },
         "name": "seqn",
         "offsetgroup": "seqn",
         "orientation": "v",
         "showlegend": true,
         "textposition": "auto",
         "type": "bar",
         "x": [
          "avrora",
          "fop",
          "h2",
          "luindex",
          "lusearch",
          "pmd",
          "sunflow",
          "tradebeans",
          "tradesoap",
          "xalan"
         ],
         "xaxis": "x",
         "y": [
          0.011058476733430894,
          0.036468353831676355,
          0.03859008925708048,
          0.019758957184987967,
          0.0415257181168624,
          0.012779337511349385,
          0.02233529563662264,
          0.030026073959712865,
          0.009203435972720374,
          0.018358052591199655
         ],
         "yaxis": "y"
        },
        {
         "alignmentgroup": "True",
         "hovertemplate": "type=seqn<br>environment=bare-metal<br>benchmark=%{x}<br>ci_width=%{y}<extra></extra>",
         "legendgroup": "seqn",
         "marker": {
          "color": "#636efa",
          "pattern": {
           "shape": ""
          }
         },
         "name": "seqn",
         "offsetgroup": "seqn",
         "orientation": "v",
         "showlegend": false,
         "textposition": "auto",
         "type": "bar",
         "x": [
          "avrora",
          "fop",
          "h2",
          "luindex",
          "lusearch",
          "pmd",
          "sunflow",
          "tradebeans",
          "tradesoap",
          "xalan"
         ],
         "xaxis": "x2",
         "y": [
          0.007467833889628536,
          0.00891094173504395,
          0.021848983432809957,
          0.01299199762486982,
          0.022134575667764535,
          0.010311852128348802,
          0.020600627137923804,
          0.01814422120180262,
          0.0077435706068590985,
          0.01674883906863221
         ],
         "yaxis": "y2"
        },
        {
         "alignmentgroup": "True",
         "hovertemplate": "type=seqn<br>environment=shared-vm<br>benchmark=%{x}<br>ci_width=%{y}<extra></extra>",
         "legendgroup": "seqn",
         "marker": {
          "color": "#636efa",
          "pattern": {
           "shape": ""
          }
         },
         "name": "seqn",
         "offsetgroup": "seqn",
         "orientation": "v",
         "showlegend": false,
         "textposition": "auto",
         "type": "bar",
         "x": [
          "avrora",
          "fop",
          "h2",
          "luindex",
          "lusearch",
          "pmd",
          "sunflow",
          "tradebeans",
          "tradesoap",
          "xalan"
         ],
         "xaxis": "x3",
         "y": [
          0.020029533938341657,
          0.11503976771615304,
          0.0603412447064706,
          0.09392156267122631,
          0.22121153387585435,
          0.0355983823725884,
          0.14365496357409097,
          0.08257137536175675,
          0.02628984371466692,
          0.1841558757208462
         ],
         "yaxis": "y3"
        },
        {
         "alignmentgroup": "True",
         "hovertemplate": "type=syncduet<br>environment=AWS t3.medium<br>benchmark=%{x}<br>ci_width=%{y}<extra></extra>",
         "legendgroup": "syncduet",
         "marker": {
          "color": "#EF553B",
          "pattern": {
           "shape": ""
          }
         },
         "name": "syncduet",
         "offsetgroup": "syncduet",
         "orientation": "v",
         "showlegend": true,
         "textposition": "auto",
         "type": "bar",
         "x": [
          "avrora",
          "fop",
          "h2",
          "luindex",
          "lusearch",
          "pmd",
          "sunflow",
          "tradebeans",
          "tradesoap",
          "xalan"
         ],
         "xaxis": "x",
         "y": [
          0.011951569352001723,
          0.019236726784534943,
          0.0503063811723807,
          0.010706391950788527,
          0.013562901231051621,
          0.006988544641670315,
          0.013876271274907205,
          0.023623052965955342,
          0.006833290275980418,
          0.013373680015507339
         ],
         "yaxis": "y"
        },
        {
         "alignmentgroup": "True",
         "hovertemplate": "type=syncduet<br>environment=bare-metal<br>benchmark=%{x}<br>ci_width=%{y}<extra></extra>",
         "legendgroup": "syncduet",
         "marker": {
          "color": "#EF553B",
          "pattern": {
           "shape": ""
          }
         },
         "name": "syncduet",
         "offsetgroup": "syncduet",
         "orientation": "v",
         "showlegend": false,
         "textposition": "auto",
         "type": "bar",
         "x": [
          "avrora",
          "fop",
          "h2",
          "luindex",
          "lusearch",
          "pmd",
          "sunflow",
          "tradebeans",
          "tradesoap",
          "xalan"
         ],
         "xaxis": "x2",
         "y": [
          0.00485500968448639,
          0.011974130167033385,
          0.02444562088463852,
          0.018731013441485134,
          0.011846681819740097,
          0.011371791939533018,
          0.006245674216198715,
          0.02081788462887339,
          0.0016253501462405893,
          0.013469456418041783
         ],
         "yaxis": "y2"
        },
        {
         "alignmentgroup": "True",
         "hovertemplate": "type=syncduet<br>environment=shared-vm<br>benchmark=%{x}<br>ci_width=%{y}<extra></extra>",
         "legendgroup": "syncduet",
         "marker": {
          "color": "#EF553B",
          "pattern": {
           "shape": ""
          }
         },
         "name": "syncduet",
         "offsetgroup": "syncduet",
         "orientation": "v",
         "showlegend": false,
         "textposition": "auto",
         "type": "bar",
         "x": [
          "avrora",
          "fop",
          "h2",
          "luindex",
          "lusearch",
          "pmd",
          "sunflow",
          "tradebeans",
          "tradesoap",
          "xalan"
         ],
         "xaxis": "x3",
         "y": [
          0.016842859018198698,
          0.10370742270542217,
          0.04066092375355272,
          0.033137416526390566,
          0.034584470765535516,
          0.03789612245178458,
          0.01946500512363033,
          0.03722489896258249,
          0.01744836797465531,
          0.04408215130729602
         ],
         "yaxis": "y3"
        },
        {
         "alignmentgroup": "True",
         "hovertemplate": "type=duet<br>environment=AWS t3.medium<br>benchmark=%{x}<br>ci_width=%{y}<extra></extra>",
         "legendgroup": "duet",
         "marker": {
          "color": "#00cc96",
          "pattern": {
           "shape": ""
          }
         },
         "name": "duet",
         "offsetgroup": "duet",
         "orientation": "v",
         "showlegend": true,
         "textposition": "auto",
         "type": "bar",
         "x": [
          "avrora",
          "fop",
          "h2",
          "luindex",
          "lusearch",
          "pmd",
          "sunflow",
          "tradebeans",
          "tradesoap",
          "xalan"
         ],
         "xaxis": "x",
         "y": [
          0.013603576443226526,
          0.04119638719490415,
          0.025641007587651646,
          0.008935236847455239,
          0.036576617301065914,
          0.012868629747366479,
          0.020039625846236118,
          0.013210450656961185,
          0.008441693594303365,
          0.02317142906217421
         ],
         "yaxis": "y"
        },
        {
         "alignmentgroup": "True",
         "hovertemplate": "type=duet<br>environment=bare-metal<br>benchmark=%{x}<br>ci_width=%{y}<extra></extra>",
         "legendgroup": "duet",
         "marker": {
          "color": "#00cc96",
          "pattern": {
           "shape": ""
          }
         },
         "name": "duet",
         "offsetgroup": "duet",
         "orientation": "v",
         "showlegend": false,
         "textposition": "auto",
         "type": "bar",
         "x": [
          "avrora",
          "fop",
          "h2",
          "luindex",
          "lusearch",
          "pmd",
          "sunflow",
          "tradebeans",
          "tradesoap",
          "xalan"
         ],
         "xaxis": "x2",
         "y": [
          0.005787231560555547,
          0.0070345608373457835,
          0.02870092476125109,
          0.012813066423413216,
          0.02096422311834292,
          0.008285786766025757,
          0.019602183365521594,
          0.015517951137314297,
          0.001621832138723515,
          0.017993007624191374
         ],
         "yaxis": "y2"
        },
        {
         "alignmentgroup": "True",
         "hovertemplate": "type=duet<br>environment=shared-vm<br>benchmark=%{x}<br>ci_width=%{y}<extra></extra>",
         "legendgroup": "duet",
         "marker": {
          "color": "#00cc96",
          "pattern": {
           "shape": ""
          }
         },
         "name": "duet",
         "offsetgroup": "duet",
         "orientation": "v",
         "showlegend": false,
         "textposition": "auto",
         "type": "bar",
         "x": [
          "avrora",
          "fop",
          "h2",
          "luindex",
          "lusearch",
          "pmd",
          "sunflow",
          "tradebeans",
          "tradesoap",
          "xalan"
         ],
         "xaxis": "x3",
         "y": [
          0.02594638791682461,
          0.06222913526396151,
          0.06833098710204805,
          0.07267068334449786,
          0.027721719920452203,
          0.024980694877712473,
          0.030608742514497782,
          0.028705212066512612,
          0.01945392593333133,
          0.031005148595471804
         ],
         "yaxis": "y3"
        }
       ],
       "layout": {
        "annotations": [
         {
          "font": {},
          "showarrow": false,
          "text": "environment=AWS t3.medium",
          "x": 0.15999999999999998,
          "xanchor": "center",
          "xref": "paper",
          "y": 1,
          "yanchor": "bottom",
          "yref": "paper"
         },
         {
          "font": {},
          "showarrow": false,
          "text": "environment=bare-metal",
          "x": 0.49999999999999994,
          "xanchor": "center",
          "xref": "paper",
          "y": 1,
          "yanchor": "bottom",
          "yref": "paper"
         },
         {
          "font": {},
          "showarrow": false,
          "text": "environment=shared-vm",
          "x": 0.8399999999999999,
          "xanchor": "center",
          "xref": "paper",
          "y": 1,
          "yanchor": "bottom",
          "yref": "paper"
         }
        ],
        "barmode": "group",
        "legend": {
         "title": {
          "text": "type"
         },
         "tracegroupgap": 0
        },
        "template": {
         "data": {
          "bar": [
           {
            "error_x": {
             "color": "#2a3f5f"
            },
            "error_y": {
             "color": "#2a3f5f"
            },
            "marker": {
             "line": {
              "color": "#E5ECF6",
              "width": 0.5
             },
             "pattern": {
              "fillmode": "overlay",
              "size": 10,
              "solidity": 0.2
             }
            },
            "type": "bar"
           }
          ],
          "barpolar": [
           {
            "marker": {
             "line": {
              "color": "#E5ECF6",
              "width": 0.5
             },
             "pattern": {
              "fillmode": "overlay",
              "size": 10,
              "solidity": 0.2
             }
            },
            "type": "barpolar"
           }
          ],
          "carpet": [
           {
            "aaxis": {
             "endlinecolor": "#2a3f5f",
             "gridcolor": "white",
             "linecolor": "white",
             "minorgridcolor": "white",
             "startlinecolor": "#2a3f5f"
            },
            "baxis": {
             "endlinecolor": "#2a3f5f",
             "gridcolor": "white",
             "linecolor": "white",
             "minorgridcolor": "white",
             "startlinecolor": "#2a3f5f"
            },
            "type": "carpet"
           }
          ],
          "choropleth": [
           {
            "colorbar": {
             "outlinewidth": 0,
             "ticks": ""
            },
            "type": "choropleth"
           }
          ],
          "contour": [
           {
            "colorbar": {
             "outlinewidth": 0,
             "ticks": ""
            },
            "colorscale": [
             [
              0,
              "#0d0887"
             ],
             [
              0.1111111111111111,
              "#46039f"
             ],
             [
              0.2222222222222222,
              "#7201a8"
             ],
             [
              0.3333333333333333,
              "#9c179e"
             ],
             [
              0.4444444444444444,
              "#bd3786"
             ],
             [
              0.5555555555555556,
              "#d8576b"
             ],
             [
              0.6666666666666666,
              "#ed7953"
             ],
             [
              0.7777777777777778,
              "#fb9f3a"
             ],
             [
              0.8888888888888888,
              "#fdca26"
             ],
             [
              1,
              "#f0f921"
             ]
            ],
            "type": "contour"
           }
          ],
          "contourcarpet": [
           {
            "colorbar": {
             "outlinewidth": 0,
             "ticks": ""
            },
            "type": "contourcarpet"
           }
          ],
          "heatmap": [
           {
            "colorbar": {
             "outlinewidth": 0,
             "ticks": ""
            },
            "colorscale": [
             [
              0,
              "#0d0887"
             ],
             [
              0.1111111111111111,
              "#46039f"
             ],
             [
              0.2222222222222222,
              "#7201a8"
             ],
             [
              0.3333333333333333,
              "#9c179e"
             ],
             [
              0.4444444444444444,
              "#bd3786"
             ],
             [
              0.5555555555555556,
              "#d8576b"
             ],
             [
              0.6666666666666666,
              "#ed7953"
             ],
             [
              0.7777777777777778,
              "#fb9f3a"
             ],
             [
              0.8888888888888888,
              "#fdca26"
             ],
             [
              1,
              "#f0f921"
             ]
            ],
            "type": "heatmap"
           }
          ],
          "heatmapgl": [
           {
            "colorbar": {
             "outlinewidth": 0,
             "ticks": ""
            },
            "colorscale": [
             [
              0,
              "#0d0887"
             ],
             [
              0.1111111111111111,
              "#46039f"
             ],
             [
              0.2222222222222222,
              "#7201a8"
             ],
             [
              0.3333333333333333,
              "#9c179e"
             ],
             [
              0.4444444444444444,
              "#bd3786"
             ],
             [
              0.5555555555555556,
              "#d8576b"
             ],
             [
              0.6666666666666666,
              "#ed7953"
             ],
             [
              0.7777777777777778,
              "#fb9f3a"
             ],
             [
              0.8888888888888888,
              "#fdca26"
             ],
             [
              1,
              "#f0f921"
             ]
            ],
            "type": "heatmapgl"
           }
          ],
          "histogram": [
           {
            "marker": {
             "pattern": {
              "fillmode": "overlay",
              "size": 10,
              "solidity": 0.2
             }
            },
            "type": "histogram"
           }
          ],
          "histogram2d": [
           {
            "colorbar": {
             "outlinewidth": 0,
             "ticks": ""
            },
            "colorscale": [
             [
              0,
              "#0d0887"
             ],
             [
              0.1111111111111111,
              "#46039f"
             ],
             [
              0.2222222222222222,
              "#7201a8"
             ],
             [
              0.3333333333333333,
              "#9c179e"
             ],
             [
              0.4444444444444444,
              "#bd3786"
             ],
             [
              0.5555555555555556,
              "#d8576b"
             ],
             [
              0.6666666666666666,
              "#ed7953"
             ],
             [
              0.7777777777777778,
              "#fb9f3a"
             ],
             [
              0.8888888888888888,
              "#fdca26"
             ],
             [
              1,
              "#f0f921"
             ]
            ],
            "type": "histogram2d"
           }
          ],
          "histogram2dcontour": [
           {
            "colorbar": {
             "outlinewidth": 0,
             "ticks": ""
            },
            "colorscale": [
             [
              0,
              "#0d0887"
             ],
             [
              0.1111111111111111,
              "#46039f"
             ],
             [
              0.2222222222222222,
              "#7201a8"
             ],
             [
              0.3333333333333333,
              "#9c179e"
             ],
             [
              0.4444444444444444,
              "#bd3786"
             ],
             [
              0.5555555555555556,
              "#d8576b"
             ],
             [
              0.6666666666666666,
              "#ed7953"
             ],
             [
              0.7777777777777778,
              "#fb9f3a"
             ],
             [
              0.8888888888888888,
              "#fdca26"
             ],
             [
              1,
              "#f0f921"
             ]
            ],
            "type": "histogram2dcontour"
           }
          ],
          "mesh3d": [
           {
            "colorbar": {
             "outlinewidth": 0,
             "ticks": ""
            },
            "type": "mesh3d"
           }
          ],
          "parcoords": [
           {
            "line": {
             "colorbar": {
              "outlinewidth": 0,
              "ticks": ""
             }
            },
            "type": "parcoords"
           }
          ],
          "pie": [
           {
            "automargin": true,
            "type": "pie"
           }
          ],
          "scatter": [
           {
            "fillpattern": {
             "fillmode": "overlay",
             "size": 10,
             "solidity": 0.2
            },
            "type": "scatter"
           }
          ],
          "scatter3d": [
           {
            "line": {
             "colorbar": {
              "outlinewidth": 0,
              "ticks": ""
             }
            },
            "marker": {
             "colorbar": {
              "outlinewidth": 0,
              "ticks": ""
             }
            },
            "type": "scatter3d"
           }
          ],
          "scattercarpet": [
           {
            "marker": {
             "colorbar": {
              "outlinewidth": 0,
              "ticks": ""
             }
            },
            "type": "scattercarpet"
           }
          ],
          "scattergeo": [
           {
            "marker": {
             "colorbar": {
              "outlinewidth": 0,
              "ticks": ""
             }
            },
            "type": "scattergeo"
           }
          ],
          "scattergl": [
           {
            "marker": {
             "colorbar": {
              "outlinewidth": 0,
              "ticks": ""
             }
            },
            "type": "scattergl"
           }
          ],
          "scattermapbox": [
           {
            "marker": {
             "colorbar": {
              "outlinewidth": 0,
              "ticks": ""
             }
            },
            "type": "scattermapbox"
           }
          ],
          "scatterpolar": [
           {
            "marker": {
             "colorbar": {
              "outlinewidth": 0,
              "ticks": ""
             }
            },
            "type": "scatterpolar"
           }
          ],
          "scatterpolargl": [
           {
            "marker": {
             "colorbar": {
              "outlinewidth": 0,
              "ticks": ""
             }
            },
            "type": "scatterpolargl"
           }
          ],
          "scatterternary": [
           {
            "marker": {
             "colorbar": {
              "outlinewidth": 0,
              "ticks": ""
             }
            },
            "type": "scatterternary"
           }
          ],
          "surface": [
           {
            "colorbar": {
             "outlinewidth": 0,
             "ticks": ""
            },
            "colorscale": [
             [
              0,
              "#0d0887"
             ],
             [
              0.1111111111111111,
              "#46039f"
             ],
             [
              0.2222222222222222,
              "#7201a8"
             ],
             [
              0.3333333333333333,
              "#9c179e"
             ],
             [
              0.4444444444444444,
              "#bd3786"
             ],
             [
              0.5555555555555556,
              "#d8576b"
             ],
             [
              0.6666666666666666,
              "#ed7953"
             ],
             [
              0.7777777777777778,
              "#fb9f3a"
             ],
             [
              0.8888888888888888,
              "#fdca26"
             ],
             [
              1,
              "#f0f921"
             ]
            ],
            "type": "surface"
           }
          ],
          "table": [
           {
            "cells": {
             "fill": {
              "color": "#EBF0F8"
             },
             "line": {
              "color": "white"
             }
            },
            "header": {
             "fill": {
              "color": "#C8D4E3"
             },
             "line": {
              "color": "white"
             }
            },
            "type": "table"
           }
          ]
         },
         "layout": {
          "annotationdefaults": {
           "arrowcolor": "#2a3f5f",
           "arrowhead": 0,
           "arrowwidth": 1
          },
          "autotypenumbers": "strict",
          "coloraxis": {
           "colorbar": {
            "outlinewidth": 0,
            "ticks": ""
           }
          },
          "colorscale": {
           "diverging": [
            [
             0,
             "#8e0152"
            ],
            [
             0.1,
             "#c51b7d"
            ],
            [
             0.2,
             "#de77ae"
            ],
            [
             0.3,
             "#f1b6da"
            ],
            [
             0.4,
             "#fde0ef"
            ],
            [
             0.5,
             "#f7f7f7"
            ],
            [
             0.6,
             "#e6f5d0"
            ],
            [
             0.7,
             "#b8e186"
            ],
            [
             0.8,
             "#7fbc41"
            ],
            [
             0.9,
             "#4d9221"
            ],
            [
             1,
             "#276419"
            ]
           ],
           "sequential": [
            [
             0,
             "#0d0887"
            ],
            [
             0.1111111111111111,
             "#46039f"
            ],
            [
             0.2222222222222222,
             "#7201a8"
            ],
            [
             0.3333333333333333,
             "#9c179e"
            ],
            [
             0.4444444444444444,
             "#bd3786"
            ],
            [
             0.5555555555555556,
             "#d8576b"
            ],
            [
             0.6666666666666666,
             "#ed7953"
            ],
            [
             0.7777777777777778,
             "#fb9f3a"
            ],
            [
             0.8888888888888888,
             "#fdca26"
            ],
            [
             1,
             "#f0f921"
            ]
           ],
           "sequentialminus": [
            [
             0,
             "#0d0887"
            ],
            [
             0.1111111111111111,
             "#46039f"
            ],
            [
             0.2222222222222222,
             "#7201a8"
            ],
            [
             0.3333333333333333,
             "#9c179e"
            ],
            [
             0.4444444444444444,
             "#bd3786"
            ],
            [
             0.5555555555555556,
             "#d8576b"
            ],
            [
             0.6666666666666666,
             "#ed7953"
            ],
            [
             0.7777777777777778,
             "#fb9f3a"
            ],
            [
             0.8888888888888888,
             "#fdca26"
            ],
            [
             1,
             "#f0f921"
            ]
           ]
          },
          "colorway": [
           "#636efa",
           "#EF553B",
           "#00cc96",
           "#ab63fa",
           "#FFA15A",
           "#19d3f3",
           "#FF6692",
           "#B6E880",
           "#FF97FF",
           "#FECB52"
          ],
          "font": {
           "color": "#2a3f5f"
          },
          "geo": {
           "bgcolor": "white",
           "lakecolor": "white",
           "landcolor": "#E5ECF6",
           "showlakes": true,
           "showland": true,
           "subunitcolor": "white"
          },
          "hoverlabel": {
           "align": "left"
          },
          "hovermode": "closest",
          "mapbox": {
           "style": "light"
          },
          "paper_bgcolor": "white",
          "plot_bgcolor": "#E5ECF6",
          "polar": {
           "angularaxis": {
            "gridcolor": "white",
            "linecolor": "white",
            "ticks": ""
           },
           "bgcolor": "#E5ECF6",
           "radialaxis": {
            "gridcolor": "white",
            "linecolor": "white",
            "ticks": ""
           }
          },
          "scene": {
           "xaxis": {
            "backgroundcolor": "#E5ECF6",
            "gridcolor": "white",
            "gridwidth": 2,
            "linecolor": "white",
            "showbackground": true,
            "ticks": "",
            "zerolinecolor": "white"
           },
           "yaxis": {
            "backgroundcolor": "#E5ECF6",
            "gridcolor": "white",
            "gridwidth": 2,
            "linecolor": "white",
            "showbackground": true,
            "ticks": "",
            "zerolinecolor": "white"
           },
           "zaxis": {
            "backgroundcolor": "#E5ECF6",
            "gridcolor": "white",
            "gridwidth": 2,
            "linecolor": "white",
            "showbackground": true,
            "ticks": "",
            "zerolinecolor": "white"
           }
          },
          "shapedefaults": {
           "line": {
            "color": "#2a3f5f"
           }
          },
          "ternary": {
           "aaxis": {
            "gridcolor": "white",
            "linecolor": "white",
            "ticks": ""
           },
           "baxis": {
            "gridcolor": "white",
            "linecolor": "white",
            "ticks": ""
           },
           "bgcolor": "#E5ECF6",
           "caxis": {
            "gridcolor": "white",
            "linecolor": "white",
            "ticks": ""
           }
          },
          "title": {
           "x": 0.05
          },
          "xaxis": {
           "automargin": true,
           "gridcolor": "white",
           "linecolor": "white",
           "ticks": "",
           "title": {
            "standoff": 15
           },
           "zerolinecolor": "white",
           "zerolinewidth": 2
          },
          "yaxis": {
           "automargin": true,
           "gridcolor": "white",
           "linecolor": "white",
           "ticks": "",
           "title": {
            "standoff": 15
           },
           "zerolinecolor": "white",
           "zerolinewidth": 2
          }
         }
        },
        "title": {
         "text": "Relative CI Width comparison - dacapo"
        },
        "xaxis": {
         "anchor": "y",
         "domain": [
          0,
          0.31999999999999995
         ],
         "title": {
          "text": "benchmark"
         }
        },
        "xaxis2": {
         "anchor": "y2",
         "domain": [
          0.33999999999999997,
          0.6599999999999999
         ],
         "matches": "x",
         "title": {
          "text": "benchmark"
         }
        },
        "xaxis3": {
         "anchor": "y3",
         "domain": [
          0.6799999999999999,
          0.9999999999999999
         ],
         "matches": "x",
         "title": {
          "text": "benchmark"
         }
        },
        "yaxis": {
         "anchor": "x",
         "domain": [
          0,
          1
         ],
         "title": {
          "text": "ci_width"
         }
        },
        "yaxis2": {
         "anchor": "x2",
         "domain": [
          0,
          1
         ],
         "matches": "y",
         "showticklabels": false
        },
        "yaxis3": {
         "anchor": "x3",
         "domain": [
          0,
          1
         ],
         "matches": "y",
         "showticklabels": false
        }
       }
      }
     },
     "metadata": {},
     "output_type": "display_data"
    },
    {
     "data": {
      "application/vnd.plotly.v1+json": {
       "config": {
        "plotlyServerURL": "https://plot.ly"
       },
       "data": [
        {
         "alignmentgroup": "True",
         "hovertemplate": "type=seqn<br>environment=AWS t3.medium<br>benchmark=%{x}<br>ci_width=%{y}<extra></extra>",
         "legendgroup": "seqn",
         "marker": {
          "color": "#636efa",
          "pattern": {
           "shape": ""
          }
         },
         "name": "seqn",
         "offsetgroup": "seqn",
         "orientation": "v",
         "showlegend": true,
         "textposition": "auto",
         "type": "bar",
         "x": [
          "500_perlbench_r",
          "505_mcf_r",
          "507_cactuBSSN_r",
          "508_namd_r",
          "511_povray_r",
          "519_lbm_r",
          "520_omnetpp_r",
          "525_x264_r",
          "531_deepsjeng_r",
          "538_imagick_r",
          "541_leela_r",
          "544_nab_r",
          "548_exchange2_r",
          "549_fotonik3d_r",
          "554_roms_r",
          "557_xz_r"
         ],
         "xaxis": "x",
         "y": [
          0.009272131721229693,
          0.002666841411630873,
          0.008131519088108469,
          0.000826259151270655,
          0.0026797179416830456,
          0.011700772196274415,
          0.02116213706637708,
          0.000975948157352638,
          0.005034793573355223,
          0.0036870682594554137,
          0.0009615992430348425,
          0.0020302903397183716,
          0.0010777977727077814,
          0.004290238197048984,
          0.002392949917815728,
          0.014331394995111907
         ],
         "yaxis": "y"
        },
        {
         "alignmentgroup": "True",
         "hovertemplate": "type=seqn<br>environment=bare-metal<br>benchmark=%{x}<br>ci_width=%{y}<extra></extra>",
         "legendgroup": "seqn",
         "marker": {
          "color": "#636efa",
          "pattern": {
           "shape": ""
          }
         },
         "name": "seqn",
         "offsetgroup": "seqn",
         "orientation": "v",
         "showlegend": false,
         "textposition": "auto",
         "type": "bar",
         "x": [
          "500_perlbench_r",
          "505_mcf_r",
          "507_cactuBSSN_r",
          "508_namd_r",
          "511_povray_r",
          "519_lbm_r",
          "520_omnetpp_r",
          "525_x264_r",
          "531_deepsjeng_r",
          "538_imagick_r",
          "541_leela_r",
          "544_nab_r",
          "548_exchange2_r",
          "549_fotonik3d_r",
          "554_roms_r",
          "557_xz_r"
         ],
         "xaxis": "x2",
         "y": [
          0.0021024069904931933,
          0.004442387192873281,
          0.0007357398313217293,
          0.002921830155100222,
          0.003629923853310664,
          0.0023376748007810423,
          0.0026784350529358058,
          0.000697588829203304,
          0.0007538372537873777,
          0.00272480640878621,
          0.000690920183334975,
          0.0005495586378608195,
          0.0021291992321224437,
          0.0011847479980141326,
          0.0015528055665230316,
          0.0007763553370935496
         ],
         "yaxis": "y2"
        },
        {
         "alignmentgroup": "True",
         "hovertemplate": "type=duet<br>environment=AWS t3.medium<br>benchmark=%{x}<br>ci_width=%{y}<extra></extra>",
         "legendgroup": "duet",
         "marker": {
          "color": "#EF553B",
          "pattern": {
           "shape": ""
          }
         },
         "name": "duet",
         "offsetgroup": "duet",
         "orientation": "v",
         "showlegend": true,
         "textposition": "auto",
         "type": "bar",
         "x": [
          "500_perlbench_r",
          "505_mcf_r",
          "507_cactuBSSN_r",
          "508_namd_r",
          "511_povray_r",
          "519_lbm_r",
          "520_omnetpp_r",
          "525_x264_r",
          "531_deepsjeng_r",
          "538_imagick_r",
          "541_leela_r",
          "544_nab_r",
          "548_exchange2_r",
          "549_fotonik3d_r",
          "554_roms_r",
          "557_xz_r"
         ],
         "xaxis": "x",
         "y": [
          0.0016899426288732528,
          0.0008102791727139367,
          0.0011452576456441898,
          0.0010152410773162082,
          0.001369458116983475,
          0.0020801323139198143,
          0.004970107406527629,
          0.0008223812789145842,
          0.000936409973931344,
          0.0014767817849906661,
          0.0007394846891425818,
          0.0007206762857164626,
          0.0005353537216902941,
          0.0002206275504341909,
          0.0004516493428118292,
          0.0009685931586783847
         ],
         "yaxis": "y"
        },
        {
         "alignmentgroup": "True",
         "hovertemplate": "type=duet<br>environment=bare-metal<br>benchmark=%{x}<br>ci_width=%{y}<extra></extra>",
         "legendgroup": "duet",
         "marker": {
          "color": "#EF553B",
          "pattern": {
           "shape": ""
          }
         },
         "name": "duet",
         "offsetgroup": "duet",
         "orientation": "v",
         "showlegend": false,
         "textposition": "auto",
         "type": "bar",
         "x": [
          "500_perlbench_r",
          "505_mcf_r",
          "507_cactuBSSN_r",
          "508_namd_r",
          "511_povray_r",
          "519_lbm_r",
          "520_omnetpp_r",
          "525_x264_r",
          "531_deepsjeng_r",
          "538_imagick_r",
          "541_leela_r",
          "544_nab_r",
          "548_exchange2_r",
          "549_fotonik3d_r",
          "554_roms_r",
          "557_xz_r"
         ],
         "xaxis": "x2",
         "y": [
          0.0017259143902178663,
          0.002535529597096447,
          0.006103997978565847,
          0.002127600484502443,
          0.0029190081350990086,
          0.003442603012066003,
          0.005052292851784175,
          0.0008042730095417092,
          0.0008248943424586019,
          0.0021917523920189906,
          0.0004048147626182826,
          0.0005933823905767395,
          0.0018488493766234417,
          0.0002501370441499794,
          0.0038452789306764002,
          0.0023405505392280154
         ],
         "yaxis": "y2"
        }
       ],
       "layout": {
        "annotations": [
         {
          "font": {},
          "showarrow": false,
          "text": "environment=AWS t3.medium",
          "x": 0.245,
          "xanchor": "center",
          "xref": "paper",
          "y": 1,
          "yanchor": "bottom",
          "yref": "paper"
         },
         {
          "font": {},
          "showarrow": false,
          "text": "environment=bare-metal",
          "x": 0.755,
          "xanchor": "center",
          "xref": "paper",
          "y": 1,
          "yanchor": "bottom",
          "yref": "paper"
         }
        ],
        "barmode": "group",
        "legend": {
         "title": {
          "text": "type"
         },
         "tracegroupgap": 0
        },
        "template": {
         "data": {
          "bar": [
           {
            "error_x": {
             "color": "#2a3f5f"
            },
            "error_y": {
             "color": "#2a3f5f"
            },
            "marker": {
             "line": {
              "color": "#E5ECF6",
              "width": 0.5
             },
             "pattern": {
              "fillmode": "overlay",
              "size": 10,
              "solidity": 0.2
             }
            },
            "type": "bar"
           }
          ],
          "barpolar": [
           {
            "marker": {
             "line": {
              "color": "#E5ECF6",
              "width": 0.5
             },
             "pattern": {
              "fillmode": "overlay",
              "size": 10,
              "solidity": 0.2
             }
            },
            "type": "barpolar"
           }
          ],
          "carpet": [
           {
            "aaxis": {
             "endlinecolor": "#2a3f5f",
             "gridcolor": "white",
             "linecolor": "white",
             "minorgridcolor": "white",
             "startlinecolor": "#2a3f5f"
            },
            "baxis": {
             "endlinecolor": "#2a3f5f",
             "gridcolor": "white",
             "linecolor": "white",
             "minorgridcolor": "white",
             "startlinecolor": "#2a3f5f"
            },
            "type": "carpet"
           }
          ],
          "choropleth": [
           {
            "colorbar": {
             "outlinewidth": 0,
             "ticks": ""
            },
            "type": "choropleth"
           }
          ],
          "contour": [
           {
            "colorbar": {
             "outlinewidth": 0,
             "ticks": ""
            },
            "colorscale": [
             [
              0,
              "#0d0887"
             ],
             [
              0.1111111111111111,
              "#46039f"
             ],
             [
              0.2222222222222222,
              "#7201a8"
             ],
             [
              0.3333333333333333,
              "#9c179e"
             ],
             [
              0.4444444444444444,
              "#bd3786"
             ],
             [
              0.5555555555555556,
              "#d8576b"
             ],
             [
              0.6666666666666666,
              "#ed7953"
             ],
             [
              0.7777777777777778,
              "#fb9f3a"
             ],
             [
              0.8888888888888888,
              "#fdca26"
             ],
             [
              1,
              "#f0f921"
             ]
            ],
            "type": "contour"
           }
          ],
          "contourcarpet": [
           {
            "colorbar": {
             "outlinewidth": 0,
             "ticks": ""
            },
            "type": "contourcarpet"
           }
          ],
          "heatmap": [
           {
            "colorbar": {
             "outlinewidth": 0,
             "ticks": ""
            },
            "colorscale": [
             [
              0,
              "#0d0887"
             ],
             [
              0.1111111111111111,
              "#46039f"
             ],
             [
              0.2222222222222222,
              "#7201a8"
             ],
             [
              0.3333333333333333,
              "#9c179e"
             ],
             [
              0.4444444444444444,
              "#bd3786"
             ],
             [
              0.5555555555555556,
              "#d8576b"
             ],
             [
              0.6666666666666666,
              "#ed7953"
             ],
             [
              0.7777777777777778,
              "#fb9f3a"
             ],
             [
              0.8888888888888888,
              "#fdca26"
             ],
             [
              1,
              "#f0f921"
             ]
            ],
            "type": "heatmap"
           }
          ],
          "heatmapgl": [
           {
            "colorbar": {
             "outlinewidth": 0,
             "ticks": ""
            },
            "colorscale": [
             [
              0,
              "#0d0887"
             ],
             [
              0.1111111111111111,
              "#46039f"
             ],
             [
              0.2222222222222222,
              "#7201a8"
             ],
             [
              0.3333333333333333,
              "#9c179e"
             ],
             [
              0.4444444444444444,
              "#bd3786"
             ],
             [
              0.5555555555555556,
              "#d8576b"
             ],
             [
              0.6666666666666666,
              "#ed7953"
             ],
             [
              0.7777777777777778,
              "#fb9f3a"
             ],
             [
              0.8888888888888888,
              "#fdca26"
             ],
             [
              1,
              "#f0f921"
             ]
            ],
            "type": "heatmapgl"
           }
          ],
          "histogram": [
           {
            "marker": {
             "pattern": {
              "fillmode": "overlay",
              "size": 10,
              "solidity": 0.2
             }
            },
            "type": "histogram"
           }
          ],
          "histogram2d": [
           {
            "colorbar": {
             "outlinewidth": 0,
             "ticks": ""
            },
            "colorscale": [
             [
              0,
              "#0d0887"
             ],
             [
              0.1111111111111111,
              "#46039f"
             ],
             [
              0.2222222222222222,
              "#7201a8"
             ],
             [
              0.3333333333333333,
              "#9c179e"
             ],
             [
              0.4444444444444444,
              "#bd3786"
             ],
             [
              0.5555555555555556,
              "#d8576b"
             ],
             [
              0.6666666666666666,
              "#ed7953"
             ],
             [
              0.7777777777777778,
              "#fb9f3a"
             ],
             [
              0.8888888888888888,
              "#fdca26"
             ],
             [
              1,
              "#f0f921"
             ]
            ],
            "type": "histogram2d"
           }
          ],
          "histogram2dcontour": [
           {
            "colorbar": {
             "outlinewidth": 0,
             "ticks": ""
            },
            "colorscale": [
             [
              0,
              "#0d0887"
             ],
             [
              0.1111111111111111,
              "#46039f"
             ],
             [
              0.2222222222222222,
              "#7201a8"
             ],
             [
              0.3333333333333333,
              "#9c179e"
             ],
             [
              0.4444444444444444,
              "#bd3786"
             ],
             [
              0.5555555555555556,
              "#d8576b"
             ],
             [
              0.6666666666666666,
              "#ed7953"
             ],
             [
              0.7777777777777778,
              "#fb9f3a"
             ],
             [
              0.8888888888888888,
              "#fdca26"
             ],
             [
              1,
              "#f0f921"
             ]
            ],
            "type": "histogram2dcontour"
           }
          ],
          "mesh3d": [
           {
            "colorbar": {
             "outlinewidth": 0,
             "ticks": ""
            },
            "type": "mesh3d"
           }
          ],
          "parcoords": [
           {
            "line": {
             "colorbar": {
              "outlinewidth": 0,
              "ticks": ""
             }
            },
            "type": "parcoords"
           }
          ],
          "pie": [
           {
            "automargin": true,
            "type": "pie"
           }
          ],
          "scatter": [
           {
            "fillpattern": {
             "fillmode": "overlay",
             "size": 10,
             "solidity": 0.2
            },
            "type": "scatter"
           }
          ],
          "scatter3d": [
           {
            "line": {
             "colorbar": {
              "outlinewidth": 0,
              "ticks": ""
             }
            },
            "marker": {
             "colorbar": {
              "outlinewidth": 0,
              "ticks": ""
             }
            },
            "type": "scatter3d"
           }
          ],
          "scattercarpet": [
           {
            "marker": {
             "colorbar": {
              "outlinewidth": 0,
              "ticks": ""
             }
            },
            "type": "scattercarpet"
           }
          ],
          "scattergeo": [
           {
            "marker": {
             "colorbar": {
              "outlinewidth": 0,
              "ticks": ""
             }
            },
            "type": "scattergeo"
           }
          ],
          "scattergl": [
           {
            "marker": {
             "colorbar": {
              "outlinewidth": 0,
              "ticks": ""
             }
            },
            "type": "scattergl"
           }
          ],
          "scattermapbox": [
           {
            "marker": {
             "colorbar": {
              "outlinewidth": 0,
              "ticks": ""
             }
            },
            "type": "scattermapbox"
           }
          ],
          "scatterpolar": [
           {
            "marker": {
             "colorbar": {
              "outlinewidth": 0,
              "ticks": ""
             }
            },
            "type": "scatterpolar"
           }
          ],
          "scatterpolargl": [
           {
            "marker": {
             "colorbar": {
              "outlinewidth": 0,
              "ticks": ""
             }
            },
            "type": "scatterpolargl"
           }
          ],
          "scatterternary": [
           {
            "marker": {
             "colorbar": {
              "outlinewidth": 0,
              "ticks": ""
             }
            },
            "type": "scatterternary"
           }
          ],
          "surface": [
           {
            "colorbar": {
             "outlinewidth": 0,
             "ticks": ""
            },
            "colorscale": [
             [
              0,
              "#0d0887"
             ],
             [
              0.1111111111111111,
              "#46039f"
             ],
             [
              0.2222222222222222,
              "#7201a8"
             ],
             [
              0.3333333333333333,
              "#9c179e"
             ],
             [
              0.4444444444444444,
              "#bd3786"
             ],
             [
              0.5555555555555556,
              "#d8576b"
             ],
             [
              0.6666666666666666,
              "#ed7953"
             ],
             [
              0.7777777777777778,
              "#fb9f3a"
             ],
             [
              0.8888888888888888,
              "#fdca26"
             ],
             [
              1,
              "#f0f921"
             ]
            ],
            "type": "surface"
           }
          ],
          "table": [
           {
            "cells": {
             "fill": {
              "color": "#EBF0F8"
             },
             "line": {
              "color": "white"
             }
            },
            "header": {
             "fill": {
              "color": "#C8D4E3"
             },
             "line": {
              "color": "white"
             }
            },
            "type": "table"
           }
          ]
         },
         "layout": {
          "annotationdefaults": {
           "arrowcolor": "#2a3f5f",
           "arrowhead": 0,
           "arrowwidth": 1
          },
          "autotypenumbers": "strict",
          "coloraxis": {
           "colorbar": {
            "outlinewidth": 0,
            "ticks": ""
           }
          },
          "colorscale": {
           "diverging": [
            [
             0,
             "#8e0152"
            ],
            [
             0.1,
             "#c51b7d"
            ],
            [
             0.2,
             "#de77ae"
            ],
            [
             0.3,
             "#f1b6da"
            ],
            [
             0.4,
             "#fde0ef"
            ],
            [
             0.5,
             "#f7f7f7"
            ],
            [
             0.6,
             "#e6f5d0"
            ],
            [
             0.7,
             "#b8e186"
            ],
            [
             0.8,
             "#7fbc41"
            ],
            [
             0.9,
             "#4d9221"
            ],
            [
             1,
             "#276419"
            ]
           ],
           "sequential": [
            [
             0,
             "#0d0887"
            ],
            [
             0.1111111111111111,
             "#46039f"
            ],
            [
             0.2222222222222222,
             "#7201a8"
            ],
            [
             0.3333333333333333,
             "#9c179e"
            ],
            [
             0.4444444444444444,
             "#bd3786"
            ],
            [
             0.5555555555555556,
             "#d8576b"
            ],
            [
             0.6666666666666666,
             "#ed7953"
            ],
            [
             0.7777777777777778,
             "#fb9f3a"
            ],
            [
             0.8888888888888888,
             "#fdca26"
            ],
            [
             1,
             "#f0f921"
            ]
           ],
           "sequentialminus": [
            [
             0,
             "#0d0887"
            ],
            [
             0.1111111111111111,
             "#46039f"
            ],
            [
             0.2222222222222222,
             "#7201a8"
            ],
            [
             0.3333333333333333,
             "#9c179e"
            ],
            [
             0.4444444444444444,
             "#bd3786"
            ],
            [
             0.5555555555555556,
             "#d8576b"
            ],
            [
             0.6666666666666666,
             "#ed7953"
            ],
            [
             0.7777777777777778,
             "#fb9f3a"
            ],
            [
             0.8888888888888888,
             "#fdca26"
            ],
            [
             1,
             "#f0f921"
            ]
           ]
          },
          "colorway": [
           "#636efa",
           "#EF553B",
           "#00cc96",
           "#ab63fa",
           "#FFA15A",
           "#19d3f3",
           "#FF6692",
           "#B6E880",
           "#FF97FF",
           "#FECB52"
          ],
          "font": {
           "color": "#2a3f5f"
          },
          "geo": {
           "bgcolor": "white",
           "lakecolor": "white",
           "landcolor": "#E5ECF6",
           "showlakes": true,
           "showland": true,
           "subunitcolor": "white"
          },
          "hoverlabel": {
           "align": "left"
          },
          "hovermode": "closest",
          "mapbox": {
           "style": "light"
          },
          "paper_bgcolor": "white",
          "plot_bgcolor": "#E5ECF6",
          "polar": {
           "angularaxis": {
            "gridcolor": "white",
            "linecolor": "white",
            "ticks": ""
           },
           "bgcolor": "#E5ECF6",
           "radialaxis": {
            "gridcolor": "white",
            "linecolor": "white",
            "ticks": ""
           }
          },
          "scene": {
           "xaxis": {
            "backgroundcolor": "#E5ECF6",
            "gridcolor": "white",
            "gridwidth": 2,
            "linecolor": "white",
            "showbackground": true,
            "ticks": "",
            "zerolinecolor": "white"
           },
           "yaxis": {
            "backgroundcolor": "#E5ECF6",
            "gridcolor": "white",
            "gridwidth": 2,
            "linecolor": "white",
            "showbackground": true,
            "ticks": "",
            "zerolinecolor": "white"
           },
           "zaxis": {
            "backgroundcolor": "#E5ECF6",
            "gridcolor": "white",
            "gridwidth": 2,
            "linecolor": "white",
            "showbackground": true,
            "ticks": "",
            "zerolinecolor": "white"
           }
          },
          "shapedefaults": {
           "line": {
            "color": "#2a3f5f"
           }
          },
          "ternary": {
           "aaxis": {
            "gridcolor": "white",
            "linecolor": "white",
            "ticks": ""
           },
           "baxis": {
            "gridcolor": "white",
            "linecolor": "white",
            "ticks": ""
           },
           "bgcolor": "#E5ECF6",
           "caxis": {
            "gridcolor": "white",
            "linecolor": "white",
            "ticks": ""
           }
          },
          "title": {
           "x": 0.05
          },
          "xaxis": {
           "automargin": true,
           "gridcolor": "white",
           "linecolor": "white",
           "ticks": "",
           "title": {
            "standoff": 15
           },
           "zerolinecolor": "white",
           "zerolinewidth": 2
          },
          "yaxis": {
           "automargin": true,
           "gridcolor": "white",
           "linecolor": "white",
           "ticks": "",
           "title": {
            "standoff": 15
           },
           "zerolinecolor": "white",
           "zerolinewidth": 2
          }
         }
        },
        "title": {
         "text": "Relative CI Width comparison - speccpu"
        },
        "xaxis": {
         "anchor": "y",
         "domain": [
          0,
          0.49
         ],
         "title": {
          "text": "benchmark"
         }
        },
        "xaxis2": {
         "anchor": "y2",
         "domain": [
          0.51,
          1
         ],
         "matches": "x",
         "title": {
          "text": "benchmark"
         }
        },
        "yaxis": {
         "anchor": "x",
         "domain": [
          0,
          1
         ],
         "title": {
          "text": "ci_width"
         }
        },
        "yaxis2": {
         "anchor": "x2",
         "domain": [
          0,
          1
         ],
         "matches": "y",
         "showticklabels": false
        }
       }
      }
     },
     "metadata": {},
     "output_type": "display_data"
    }
   ],
   "source": [
    "for suite in unique_suites:\n",
    "    fig = px.bar(\n",
    "        df_ci[df_ci[RF.suite] == suite],\n",
    "        x=RF.benchmark,\n",
    "        y=DF.ci_width,\n",
    "        color=RF.type,\n",
    "        facet_col=DF.env,\n",
    "        barmode=\"group\",\n",
    "        title=f\"Relative CI Width comparison - {suite}\",\n",
    "    )\n",
    "    fig.show()"
   ]
  },
  {
   "attachments": {},
   "cell_type": "markdown",
   "metadata": {},
   "source": [
    "### CI error"
   ]
  },
  {
   "cell_type": "code",
   "execution_count": 31,
   "metadata": {},
   "outputs": [
    {
     "data": {
      "application/vnd.plotly.v1+json": {
       "config": {
        "plotlyServerURL": "https://plot.ly"
       },
       "data": [
        {
         "alignmentgroup": "True",
         "customdata": [
          [
           "avrora"
          ],
          [
           "fop"
          ],
          [
           "h2"
          ],
          [
           "luindex"
          ],
          [
           "lusearch"
          ],
          [
           "pmd"
          ],
          [
           "sunflow"
          ],
          [
           "tradebeans"
          ],
          [
           "tradesoap"
          ],
          [
           "xalan"
          ],
          [
           "akka-uct"
          ],
          [
           "als"
          ],
          [
           "chi-square"
          ],
          [
           "db-shootout"
          ],
          [
           "dec-tree"
          ],
          [
           "dotty"
          ],
          [
           "finagle-chirper"
          ],
          [
           "finagle-http"
          ],
          [
           "fj-kmeans"
          ],
          [
           "future-genetic"
          ],
          [
           "gauss-mix"
          ],
          [
           "log-regression"
          ],
          [
           "mnemonics"
          ],
          [
           "movie-lens"
          ],
          [
           "naive-bayes"
          ],
          [
           "page-rank"
          ],
          [
           "par-mnemonics"
          ],
          [
           "philosophers"
          ],
          [
           "reactors"
          ],
          [
           "rx-scrabble"
          ],
          [
           "scala-doku"
          ],
          [
           "scala-kmeans"
          ],
          [
           "scala-stm-bench7"
          ],
          [
           "scrabble"
          ],
          [
           "apparat"
          ],
          [
           "avrora"
          ],
          [
           "factorie"
          ],
          [
           "fop"
          ],
          [
           "h2"
          ],
          [
           "kiama"
          ],
          [
           "luindex"
          ],
          [
           "lusearch"
          ],
          [
           "pmd"
          ],
          [
           "scalac"
          ],
          [
           "scaladoc"
          ],
          [
           "scalap"
          ],
          [
           "scalariform"
          ],
          [
           "scalatest"
          ],
          [
           "scalaxb"
          ],
          [
           "specs"
          ],
          [
           "sunflow"
          ],
          [
           "tmt"
          ],
          [
           "tradebeans"
          ],
          [
           "tradesoap"
          ],
          [
           "xalan"
          ],
          [
           "500_perlbench_r"
          ],
          [
           "505_mcf_r"
          ],
          [
           "507_cactuBSSN_r"
          ],
          [
           "508_namd_r"
          ],
          [
           "511_povray_r"
          ],
          [
           "519_lbm_r"
          ],
          [
           "520_omnetpp_r"
          ],
          [
           "525_x264_r"
          ],
          [
           "531_deepsjeng_r"
          ],
          [
           "538_imagick_r"
          ],
          [
           "541_leela_r"
          ],
          [
           "544_nab_r"
          ],
          [
           "548_exchange2_r"
          ],
          [
           "549_fotonik3d_r"
          ],
          [
           "554_roms_r"
          ],
          [
           "557_xz_r"
          ]
         ],
         "hovertemplate": "type=seqn<br>environment=AWS t3.medium<br>suite=%{x}<br>err=%{y}<br>benchmark=%{customdata[0]}<extra></extra>",
         "legendgroup": "seqn",
         "marker": {
          "color": "#636efa"
         },
         "name": "seqn",
         "notched": false,
         "offsetgroup": "seqn",
         "orientation": "v",
         "showlegend": true,
         "type": "box",
         "x": [
          "dacapo",
          "dacapo",
          "dacapo",
          "dacapo",
          "dacapo",
          "dacapo",
          "dacapo",
          "dacapo",
          "dacapo",
          "dacapo",
          "renaissance",
          "renaissance",
          "renaissance",
          "renaissance",
          "renaissance",
          "renaissance",
          "renaissance",
          "renaissance",
          "renaissance",
          "renaissance",
          "renaissance",
          "renaissance",
          "renaissance",
          "renaissance",
          "renaissance",
          "renaissance",
          "renaissance",
          "renaissance",
          "renaissance",
          "renaissance",
          "renaissance",
          "renaissance",
          "renaissance",
          "renaissance",
          "scalabench",
          "scalabench",
          "scalabench",
          "scalabench",
          "scalabench",
          "scalabench",
          "scalabench",
          "scalabench",
          "scalabench",
          "scalabench",
          "scalabench",
          "scalabench",
          "scalabench",
          "scalabench",
          "scalabench",
          "scalabench",
          "scalabench",
          "scalabench",
          "scalabench",
          "scalabench",
          "scalabench",
          "speccpu",
          "speccpu",
          "speccpu",
          "speccpu",
          "speccpu",
          "speccpu",
          "speccpu",
          "speccpu",
          "speccpu",
          "speccpu",
          "speccpu",
          "speccpu",
          "speccpu",
          "speccpu",
          "speccpu",
          "speccpu"
         ],
         "x0": " ",
         "xaxis": "x",
         "y": [
          23021037.13891305,
          4504890.87776914,
          57079543.292218536,
          4503133.34054872,
          46220285.64043954,
          7320656.554926239,
          61566624.666544765,
          54761132.563976705,
          38195287.00741685,
          15408151.055475933,
          505520109.7703837,
          75461689.6000811,
          125206653.29849002,
          255627140.85598657,
          26493803.687574435,
          31671515.053547736,
          56157341.54023222,
          23274984.16628083,
          127684405.25247836,
          41272721.477536604,
          176223452.10406324,
          43899254.15703416,
          45471326.657344446,
          122029386.0264725,
          972782190.9477303,
          247732782.34161264,
          108097533.99349791,
          21020046.430322677,
          248132178.87179923,
          6387697.864997823,
          84923003.96886283,
          2985352.441186677,
          19842259.008369394,
          24744101.30322414,
          265005849.67235738,
          15589258.11642624,
          1740325883.8516564,
          5831202.46425323,
          52582764.681037664,
          3957385.1269555846,
          6237811.061611084,
          42370530.72135514,
          8097952.702173529,
          27400311.054298285,
          11915591.623018973,
          2400957.078832226,
          8536451.507882047,
          9390197.682281118,
          11141938.195181869,
          8003955.144881531,
          73293996.7329921,
          680438939.6254224,
          75630847.39418858,
          38123335.25651641,
          13501500.826932704,
          1671052240.5848794,
          504832092.33524024,
          1149760787.0896451,
          94474492.8045149,
          433659173.21833754,
          1317439687.5722623,
          5084311475.172269,
          105011231.52721424,
          816660841.8080726,
          807414806.1083926,
          240166299.3246164,
          305946035.7410852,
          239891539.1141128,
          880397949.0026605,
          326137216.00666404,
          3426497185.777431
         ],
         "y0": " ",
         "yaxis": "y"
        },
        {
         "alignmentgroup": "True",
         "customdata": [
          [
           "avrora"
          ],
          [
           "fop"
          ],
          [
           "h2"
          ],
          [
           "luindex"
          ],
          [
           "lusearch"
          ],
          [
           "pmd"
          ],
          [
           "sunflow"
          ],
          [
           "tradebeans"
          ],
          [
           "tradesoap"
          ],
          [
           "xalan"
          ],
          [
           "akka-uct"
          ],
          [
           "als"
          ],
          [
           "chi-square"
          ],
          [
           "db-shootout"
          ],
          [
           "dec-tree"
          ],
          [
           "dotty"
          ],
          [
           "finagle-chirper"
          ],
          [
           "finagle-http"
          ],
          [
           "fj-kmeans"
          ],
          [
           "future-genetic"
          ],
          [
           "gauss-mix"
          ],
          [
           "log-regression"
          ],
          [
           "mnemonics"
          ],
          [
           "movie-lens"
          ],
          [
           "naive-bayes"
          ],
          [
           "page-rank"
          ],
          [
           "par-mnemonics"
          ],
          [
           "philosophers"
          ],
          [
           "reactors"
          ],
          [
           "rx-scrabble"
          ],
          [
           "scala-doku"
          ],
          [
           "scala-kmeans"
          ],
          [
           "scala-stm-bench7"
          ],
          [
           "scrabble"
          ],
          [
           "apparat"
          ],
          [
           "avrora"
          ],
          [
           "factorie"
          ],
          [
           "fop"
          ],
          [
           "h2"
          ],
          [
           "kiama"
          ],
          [
           "luindex"
          ],
          [
           "lusearch"
          ],
          [
           "pmd"
          ],
          [
           "scalac"
          ],
          [
           "scaladoc"
          ],
          [
           "scalap"
          ],
          [
           "scalariform"
          ],
          [
           "scalatest"
          ],
          [
           "scalaxb"
          ],
          [
           "specs"
          ],
          [
           "sunflow"
          ],
          [
           "tmt"
          ],
          [
           "tradebeans"
          ],
          [
           "tradesoap"
          ],
          [
           "xalan"
          ],
          [
           "500_perlbench_r"
          ],
          [
           "505_mcf_r"
          ],
          [
           "507_cactuBSSN_r"
          ],
          [
           "508_namd_r"
          ],
          [
           "511_povray_r"
          ],
          [
           "519_lbm_r"
          ],
          [
           "520_omnetpp_r"
          ],
          [
           "525_x264_r"
          ],
          [
           "531_deepsjeng_r"
          ],
          [
           "538_imagick_r"
          ],
          [
           "541_leela_r"
          ],
          [
           "544_nab_r"
          ],
          [
           "548_exchange2_r"
          ],
          [
           "549_fotonik3d_r"
          ],
          [
           "554_roms_r"
          ],
          [
           "557_xz_r"
          ]
         ],
         "hovertemplate": "type=seqn<br>environment=bare-metal<br>suite=%{x}<br>err=%{y}<br>benchmark=%{customdata[0]}<extra></extra>",
         "legendgroup": "seqn",
         "marker": {
          "color": "#636efa"
         },
         "name": "seqn",
         "notched": false,
         "offsetgroup": "seqn",
         "orientation": "v",
         "showlegend": false,
         "type": "box",
         "x": [
          "dacapo",
          "dacapo",
          "dacapo",
          "dacapo",
          "dacapo",
          "dacapo",
          "dacapo",
          "dacapo",
          "dacapo",
          "dacapo",
          "renaissance",
          "renaissance",
          "renaissance",
          "renaissance",
          "renaissance",
          "renaissance",
          "renaissance",
          "renaissance",
          "renaissance",
          "renaissance",
          "renaissance",
          "renaissance",
          "renaissance",
          "renaissance",
          "renaissance",
          "renaissance",
          "renaissance",
          "renaissance",
          "renaissance",
          "renaissance",
          "renaissance",
          "renaissance",
          "renaissance",
          "renaissance",
          "scalabench",
          "scalabench",
          "scalabench",
          "scalabench",
          "scalabench",
          "scalabench",
          "scalabench",
          "scalabench",
          "scalabench",
          "scalabench",
          "scalabench",
          "scalabench",
          "scalabench",
          "scalabench",
          "scalabench",
          "scalabench",
          "scalabench",
          "scalabench",
          "scalabench",
          "scalabench",
          "scalabench",
          "speccpu",
          "speccpu",
          "speccpu",
          "speccpu",
          "speccpu",
          "speccpu",
          "speccpu",
          "speccpu",
          "speccpu",
          "speccpu",
          "speccpu",
          "speccpu",
          "speccpu",
          "speccpu",
          "speccpu",
          "speccpu"
         ],
         "x0": " ",
         "xaxis": "x2",
         "y": [
          11516200.775040515,
          560760.919784647,
          27373608.77028083,
          3489883.2522043185,
          5968208.339714801,
          3213361.606529177,
          16600768.929892961,
          17858115.958460674,
          11128673.43175688,
          4218606.445511932,
          480640162.97040594,
          16244951.359451476,
          18448291.799909286,
          67686186.24607101,
          8307411.599971039,
          5971687.199594095,
          19674744.868877694,
          8269623.625922644,
          114293435.71427433,
          8492908.483203914,
          70091334.93460456,
          7347221.507926794,
          91230165.78862937,
          41247814.097532436,
          415334681.831266,
          46147603.78223394,
          44201398.68282522,
          28095975.287869856,
          278845278.8585341,
          2471691.915068704,
          611069075.5460546,
          1927094.6624955183,
          9417361.43042205,
          21387842.06793074,
          40950757.00388794,
          8546260.29268627,
          486395939.7599154,
          408834.7081832087,
          19684343.140663013,
          1031630.5069931499,
          4242334.870980471,
          6469683.012898694,
          4143874.421833121,
          6663351.210940321,
          6237345.955303453,
          950720.1082814619,
          2023220.9182364766,
          2866544.909876571,
          710021.9292333884,
          1058421.6358405913,
          19152614.62424217,
          95998739.29462384,
          18369497.676433098,
          8983063.053650506,
          4942339.43576261,
          297418056.3783624,
          621910466.8153386,
          77651459.92256011,
          297690382.6866197,
          523953556.446722,
          186566863.66744775,
          487001934.4075563,
          63720463.396182,
          99127350.63618532,
          443322511.792178,
          145225928.2416032,
          72688683.60199776,
          387982452.3879925,
          164669856.78470397,
          149352322.45266026,
          141893337.81425557
         ],
         "y0": " ",
         "yaxis": "y2"
        },
        {
         "alignmentgroup": "True",
         "customdata": [
          [
           "avrora"
          ],
          [
           "fop"
          ],
          [
           "h2"
          ],
          [
           "luindex"
          ],
          [
           "lusearch"
          ],
          [
           "pmd"
          ],
          [
           "sunflow"
          ],
          [
           "tradebeans"
          ],
          [
           "tradesoap"
          ],
          [
           "xalan"
          ],
          [
           "akka-uct"
          ],
          [
           "als"
          ],
          [
           "chi-square"
          ],
          [
           "db-shootout"
          ],
          [
           "dec-tree"
          ],
          [
           "dotty"
          ],
          [
           "finagle-chirper"
          ],
          [
           "finagle-http"
          ],
          [
           "fj-kmeans"
          ],
          [
           "future-genetic"
          ],
          [
           "gauss-mix"
          ],
          [
           "log-regression"
          ],
          [
           "mnemonics"
          ],
          [
           "movie-lens"
          ],
          [
           "naive-bayes"
          ],
          [
           "page-rank"
          ],
          [
           "par-mnemonics"
          ],
          [
           "philosophers"
          ],
          [
           "reactors"
          ],
          [
           "rx-scrabble"
          ],
          [
           "scala-doku"
          ],
          [
           "scala-kmeans"
          ],
          [
           "scala-stm-bench7"
          ],
          [
           "scrabble"
          ],
          [
           "apparat"
          ],
          [
           "avrora"
          ],
          [
           "factorie"
          ],
          [
           "fop"
          ],
          [
           "h2"
          ],
          [
           "kiama"
          ],
          [
           "luindex"
          ],
          [
           "lusearch"
          ],
          [
           "pmd"
          ],
          [
           "scalac"
          ],
          [
           "scaladoc"
          ],
          [
           "scalap"
          ],
          [
           "scalariform"
          ],
          [
           "scalatest"
          ],
          [
           "scalaxb"
          ],
          [
           "specs"
          ],
          [
           "sunflow"
          ],
          [
           "tmt"
          ],
          [
           "tradebeans"
          ],
          [
           "tradesoap"
          ],
          [
           "xalan"
          ]
         ],
         "hovertemplate": "type=seqn<br>environment=shared-vm<br>suite=%{x}<br>err=%{y}<br>benchmark=%{customdata[0]}<extra></extra>",
         "legendgroup": "seqn",
         "marker": {
          "color": "#636efa"
         },
         "name": "seqn",
         "notched": false,
         "offsetgroup": "seqn",
         "orientation": "v",
         "showlegend": false,
         "type": "box",
         "x": [
          "dacapo",
          "dacapo",
          "dacapo",
          "dacapo",
          "dacapo",
          "dacapo",
          "dacapo",
          "dacapo",
          "dacapo",
          "dacapo",
          "renaissance",
          "renaissance",
          "renaissance",
          "renaissance",
          "renaissance",
          "renaissance",
          "renaissance",
          "renaissance",
          "renaissance",
          "renaissance",
          "renaissance",
          "renaissance",
          "renaissance",
          "renaissance",
          "renaissance",
          "renaissance",
          "renaissance",
          "renaissance",
          "renaissance",
          "renaissance",
          "renaissance",
          "renaissance",
          "renaissance",
          "renaissance",
          "scalabench",
          "scalabench",
          "scalabench",
          "scalabench",
          "scalabench",
          "scalabench",
          "scalabench",
          "scalabench",
          "scalabench",
          "scalabench",
          "scalabench",
          "scalabench",
          "scalabench",
          "scalabench",
          "scalabench",
          "scalabench",
          "scalabench",
          "scalabench",
          "scalabench",
          "scalabench",
          "scalabench"
         ],
         "x0": " ",
         "xaxis": "x3",
         "y": [
          45619096.88870171,
          12702883.501470156,
          111139011.56218395,
          36838830.210874684,
          246252471.73724246,
          20767128.93007259,
          320478600.11059004,
          211307190.94366902,
          119197978.27676058,
          137474338.23739013,
          3557616971.411577,
          206676324.3587079,
          116514145.15990187,
          886861284.2051792,
          163808816.86755508,
          40690774.35909115,
          176985227.79270273,
          170384863.57715273,
          639676867.7596,
          102828081.42717801,
          535301173.58671916,
          129313076.29814121,
          256529287.36788648,
          1540217366.631484,
          5666165822.1813,
          1293682736.1356764,
          449239147.1965489,
          134410177.6325156,
          1173061318.191238,
          17649852.939164963,
          414014393.3607367,
          18277605.957242873,
          263541415.75978014,
          160130021.8735956,
          303472225.81828,
          145720446.8885817,
          2064743945.8733225,
          15527781.241409035,
          95509399.7827057,
          17646994.821480416,
          63714233.64209184,
          112959378.0133945,
          25488820.257367957,
          59745020.63169719,
          73418845.30061038,
          6416278.896362031,
          22432639.30605474,
          87069434.86835158,
          27189158.04793564,
          43955552.93440448,
          179792510.16646084,
          708042696.6912953,
          144605931.19955748,
          610813681.9114836,
          177841158.55140412
         ],
         "y0": " ",
         "yaxis": "y3"
        },
        {
         "alignmentgroup": "True",
         "customdata": [
          [
           "avrora"
          ],
          [
           "fop"
          ],
          [
           "h2"
          ],
          [
           "luindex"
          ],
          [
           "lusearch"
          ],
          [
           "pmd"
          ],
          [
           "sunflow"
          ],
          [
           "tradebeans"
          ],
          [
           "tradesoap"
          ],
          [
           "xalan"
          ],
          [
           "apparat"
          ],
          [
           "avrora"
          ],
          [
           "factorie"
          ],
          [
           "fop"
          ],
          [
           "h2"
          ],
          [
           "kiama"
          ],
          [
           "luindex"
          ],
          [
           "lusearch"
          ],
          [
           "pmd"
          ],
          [
           "scalac"
          ],
          [
           "scaladoc"
          ],
          [
           "scalap"
          ],
          [
           "scalariform"
          ],
          [
           "scalatest"
          ],
          [
           "scalaxb"
          ],
          [
           "specs"
          ],
          [
           "sunflow"
          ],
          [
           "tmt"
          ],
          [
           "tradebeans"
          ],
          [
           "tradesoap"
          ],
          [
           "xalan"
          ]
         ],
         "hovertemplate": "type=syncduet<br>environment=AWS t3.medium<br>suite=%{x}<br>err=%{y}<br>benchmark=%{customdata[0]}<extra></extra>",
         "legendgroup": "syncduet",
         "marker": {
          "color": "#EF553B"
         },
         "name": "syncduet",
         "notched": false,
         "offsetgroup": "syncduet",
         "orientation": "v",
         "showlegend": true,
         "type": "box",
         "x": [
          "dacapo",
          "dacapo",
          "dacapo",
          "dacapo",
          "dacapo",
          "dacapo",
          "dacapo",
          "dacapo",
          "dacapo",
          "dacapo",
          "scalabench",
          "scalabench",
          "scalabench",
          "scalabench",
          "scalabench",
          "scalabench",
          "scalabench",
          "scalabench",
          "scalabench",
          "scalabench",
          "scalabench",
          "scalabench",
          "scalabench",
          "scalabench",
          "scalabench",
          "scalabench",
          "scalabench",
          "scalabench",
          "scalabench",
          "scalabench",
          "scalabench"
         ],
         "x0": " ",
         "xaxis": "x",
         "y": [
          35055254.30343931,
          4661780.043178866,
          105944892.82680067,
          4017352.3688826556,
          30104207.271706514,
          7058888.411102716,
          75980516.8883344,
          83426381.29987536,
          57474939.99804952,
          23141887.183611237,
          524637499.6612172,
          29596210.11226314,
          2072113523.0794845,
          12515298.75907125,
          40026465.39370288,
          4130374.1940641543,
          3219110.5115605593,
          13224169.725621069,
          8461927.147886835,
          17778588.67605722,
          12502613.018444745,
          4656262.519197367,
          6802524.876959156,
          12413976.934323877,
          8517180.155857805,
          9711683.694593124,
          166028479.40149933,
          563750306.1215693,
          67181029.60192029,
          77494831.41016428,
          8688380.116976852
         ],
         "y0": " ",
         "yaxis": "y"
        },
        {
         "alignmentgroup": "True",
         "customdata": [
          [
           "avrora"
          ],
          [
           "fop"
          ],
          [
           "h2"
          ],
          [
           "luindex"
          ],
          [
           "lusearch"
          ],
          [
           "pmd"
          ],
          [
           "sunflow"
          ],
          [
           "tradebeans"
          ],
          [
           "tradesoap"
          ],
          [
           "xalan"
          ],
          [
           "apparat"
          ],
          [
           "avrora"
          ],
          [
           "factorie"
          ],
          [
           "fop"
          ],
          [
           "h2"
          ],
          [
           "kiama"
          ],
          [
           "luindex"
          ],
          [
           "lusearch"
          ],
          [
           "pmd"
          ],
          [
           "scalac"
          ],
          [
           "scaladoc"
          ],
          [
           "scalap"
          ],
          [
           "scalariform"
          ],
          [
           "scalatest"
          ],
          [
           "scalaxb"
          ],
          [
           "specs"
          ],
          [
           "sunflow"
          ],
          [
           "tmt"
          ],
          [
           "tradebeans"
          ],
          [
           "tradesoap"
          ],
          [
           "xalan"
          ]
         ],
         "hovertemplate": "type=syncduet<br>environment=bare-metal<br>suite=%{x}<br>err=%{y}<br>benchmark=%{customdata[0]}<extra></extra>",
         "legendgroup": "syncduet",
         "marker": {
          "color": "#EF553B"
         },
         "name": "syncduet",
         "notched": false,
         "offsetgroup": "syncduet",
         "orientation": "v",
         "showlegend": false,
         "type": "box",
         "x": [
          "dacapo",
          "dacapo",
          "dacapo",
          "dacapo",
          "dacapo",
          "dacapo",
          "dacapo",
          "dacapo",
          "dacapo",
          "dacapo",
          "scalabench",
          "scalabench",
          "scalabench",
          "scalabench",
          "scalabench",
          "scalabench",
          "scalabench",
          "scalabench",
          "scalabench",
          "scalabench",
          "scalabench",
          "scalabench",
          "scalabench",
          "scalabench",
          "scalabench",
          "scalabench",
          "scalabench",
          "scalabench",
          "scalabench",
          "scalabench",
          "scalabench"
         ],
         "x0": " ",
         "xaxis": "x2",
         "y": [
          7963035.360461407,
          771562.2260202632,
          31281899.359380774,
          5938675.5786196925,
          6410076.113371877,
          4273110.857078874,
          9223658.895155037,
          22706606.95909246,
          3963556.050087082,
          6791826.324950095,
          57145109.83854046,
          7127396.188838361,
          644377277.2669842,
          867154.839195268,
          35400498.13489325,
          1072840.0781956264,
          1459020.9941360764,
          3925061.749478705,
          3070816.7015361832,
          15724994.505067661,
          8044687.837409519,
          1088323.3450555266,
          2274464.2633014256,
          3074584.6350191785,
          4649344.460477001,
          1817559.4637326016,
          4060460.3785410644,
          124580072.04081222,
          14486572.386220913,
          6407094.383453959,
          4041949.9709308757
         ],
         "y0": " ",
         "yaxis": "y2"
        },
        {
         "alignmentgroup": "True",
         "customdata": [
          [
           "avrora"
          ],
          [
           "fop"
          ],
          [
           "h2"
          ],
          [
           "luindex"
          ],
          [
           "lusearch"
          ],
          [
           "pmd"
          ],
          [
           "sunflow"
          ],
          [
           "tradebeans"
          ],
          [
           "tradesoap"
          ],
          [
           "xalan"
          ],
          [
           "apparat"
          ],
          [
           "avrora"
          ],
          [
           "factorie"
          ],
          [
           "fop"
          ],
          [
           "h2"
          ],
          [
           "kiama"
          ],
          [
           "luindex"
          ],
          [
           "lusearch"
          ],
          [
           "pmd"
          ],
          [
           "scalac"
          ],
          [
           "scaladoc"
          ],
          [
           "scalap"
          ],
          [
           "scalariform"
          ],
          [
           "scalatest"
          ],
          [
           "scalaxb"
          ],
          [
           "specs"
          ],
          [
           "sunflow"
          ],
          [
           "tmt"
          ],
          [
           "tradebeans"
          ],
          [
           "tradesoap"
          ],
          [
           "xalan"
          ]
         ],
         "hovertemplate": "type=syncduet<br>environment=shared-vm<br>suite=%{x}<br>err=%{y}<br>benchmark=%{customdata[0]}<extra></extra>",
         "legendgroup": "syncduet",
         "marker": {
          "color": "#EF553B"
         },
         "name": "syncduet",
         "notched": false,
         "offsetgroup": "syncduet",
         "orientation": "v",
         "showlegend": false,
         "type": "box",
         "x": [
          "dacapo",
          "dacapo",
          "dacapo",
          "dacapo",
          "dacapo",
          "dacapo",
          "dacapo",
          "dacapo",
          "dacapo",
          "dacapo",
          "scalabench",
          "scalabench",
          "scalabench",
          "scalabench",
          "scalabench",
          "scalabench",
          "scalabench",
          "scalabench",
          "scalabench",
          "scalabench",
          "scalabench",
          "scalabench",
          "scalabench",
          "scalabench",
          "scalabench",
          "scalabench",
          "scalabench",
          "scalabench",
          "scalabench",
          "scalabench",
          "scalabench"
         ],
         "x0": " ",
         "xaxis": "x3",
         "y": [
          58287667.48065403,
          13009191.752443511,
          85680988.88802111,
          15847081.497638408,
          54275452.670267776,
          27015262.83242673,
          63797686.99115762,
          116045911.86524573,
          103036295.45284736,
          46426137.622562006,
          123951883.35556164,
          60720029.226340026,
          1417793046.6891203,
          13690045.489046378,
          131602323.84409422,
          16088928.484998003,
          17328477.01357977,
          30344179.32608618,
          18184212.03960945,
          43955645.37739569,
          30651460.495390784,
          6579950.700136898,
          18614281.560474984,
          33020252.845366247,
          15148248.436710738,
          22377577.10590485,
          116811960.80315867,
          947616198.7125907,
          101434676.63763435,
          95919110.66199534,
          18949098.03208579
         ],
         "y0": " ",
         "yaxis": "y3"
        },
        {
         "alignmentgroup": "True",
         "customdata": [
          [
           "avrora"
          ],
          [
           "fop"
          ],
          [
           "h2"
          ],
          [
           "luindex"
          ],
          [
           "lusearch"
          ],
          [
           "pmd"
          ],
          [
           "sunflow"
          ],
          [
           "tradebeans"
          ],
          [
           "tradesoap"
          ],
          [
           "xalan"
          ],
          [
           "akka-uct"
          ],
          [
           "als"
          ],
          [
           "chi-square"
          ],
          [
           "db-shootout"
          ],
          [
           "dec-tree"
          ],
          [
           "dotty"
          ],
          [
           "finagle-chirper"
          ],
          [
           "finagle-http"
          ],
          [
           "fj-kmeans"
          ],
          [
           "future-genetic"
          ],
          [
           "gauss-mix"
          ],
          [
           "log-regression"
          ],
          [
           "mnemonics"
          ],
          [
           "movie-lens"
          ],
          [
           "naive-bayes"
          ],
          [
           "page-rank"
          ],
          [
           "par-mnemonics"
          ],
          [
           "philosophers"
          ],
          [
           "reactors"
          ],
          [
           "rx-scrabble"
          ],
          [
           "scala-doku"
          ],
          [
           "scala-kmeans"
          ],
          [
           "scala-stm-bench7"
          ],
          [
           "scrabble"
          ],
          [
           "apparat"
          ],
          [
           "avrora"
          ],
          [
           "factorie"
          ],
          [
           "fop"
          ],
          [
           "h2"
          ],
          [
           "kiama"
          ],
          [
           "luindex"
          ],
          [
           "lusearch"
          ],
          [
           "pmd"
          ],
          [
           "scalac"
          ],
          [
           "scaladoc"
          ],
          [
           "scalap"
          ],
          [
           "scalariform"
          ],
          [
           "scalatest"
          ],
          [
           "scalaxb"
          ],
          [
           "specs"
          ],
          [
           "sunflow"
          ],
          [
           "tmt"
          ],
          [
           "tradebeans"
          ],
          [
           "tradesoap"
          ],
          [
           "xalan"
          ],
          [
           "500_perlbench_r"
          ],
          [
           "505_mcf_r"
          ],
          [
           "507_cactuBSSN_r"
          ],
          [
           "508_namd_r"
          ],
          [
           "511_povray_r"
          ],
          [
           "519_lbm_r"
          ],
          [
           "520_omnetpp_r"
          ],
          [
           "525_x264_r"
          ],
          [
           "531_deepsjeng_r"
          ],
          [
           "538_imagick_r"
          ],
          [
           "541_leela_r"
          ],
          [
           "544_nab_r"
          ],
          [
           "548_exchange2_r"
          ],
          [
           "549_fotonik3d_r"
          ],
          [
           "554_roms_r"
          ],
          [
           "557_xz_r"
          ]
         ],
         "hovertemplate": "type=duet<br>environment=AWS t3.medium<br>suite=%{x}<br>err=%{y}<br>benchmark=%{customdata[0]}<extra></extra>",
         "legendgroup": "duet",
         "marker": {
          "color": "#00cc96"
         },
         "name": "duet",
         "notched": false,
         "offsetgroup": "duet",
         "orientation": "v",
         "showlegend": true,
         "type": "box",
         "x": [
          "dacapo",
          "dacapo",
          "dacapo",
          "dacapo",
          "dacapo",
          "dacapo",
          "dacapo",
          "dacapo",
          "dacapo",
          "dacapo",
          "renaissance",
          "renaissance",
          "renaissance",
          "renaissance",
          "renaissance",
          "renaissance",
          "renaissance",
          "renaissance",
          "renaissance",
          "renaissance",
          "renaissance",
          "renaissance",
          "renaissance",
          "renaissance",
          "renaissance",
          "renaissance",
          "renaissance",
          "renaissance",
          "renaissance",
          "renaissance",
          "renaissance",
          "renaissance",
          "renaissance",
          "renaissance",
          "scalabench",
          "scalabench",
          "scalabench",
          "scalabench",
          "scalabench",
          "scalabench",
          "scalabench",
          "scalabench",
          "scalabench",
          "scalabench",
          "scalabench",
          "scalabench",
          "scalabench",
          "scalabench",
          "scalabench",
          "scalabench",
          "scalabench",
          "scalabench",
          "scalabench",
          "scalabench",
          "scalabench",
          "speccpu",
          "speccpu",
          "speccpu",
          "speccpu",
          "speccpu",
          "speccpu",
          "speccpu",
          "speccpu",
          "speccpu",
          "speccpu",
          "speccpu",
          "speccpu",
          "speccpu",
          "speccpu",
          "speccpu",
          "speccpu"
         ],
         "x0": " ",
         "xaxis": "x",
         "y": [
          40160552.16422609,
          10125804.876883408,
          54740715.7784765,
          3306651.186604486,
          74513414.43765615,
          12690611.41589764,
          110865353.96040031,
          45943788.90215239,
          70124631.44703043,
          39590219.82638562,
          1422709703.09374,
          194810599.9250672,
          174930428.17611614,
          636398272.4093848,
          41863980.31920155,
          62264303.14603563,
          161903492.25469276,
          46462479.83639307,
          767935992.2928257,
          39585628.378834985,
          203497164.53797275,
          41407581.780972786,
          172748868.8600034,
          198705595.28338543,
          1407455049.40785,
          413959159.1157417,
          154453456.05858052,
          33333416.892337568,
          651776807.7750549,
          9247641.922147855,
          355797487.8487341,
          3479133.880091414,
          32404835.815747734,
          45383882.26441661,
          336936390.86170197,
          33599856.03328422,
          2125622181.3890023,
          9761299.743428051,
          58772869.93433209,
          7009810.855428425,
          4256720.782765398,
          71634551.88075298,
          10189078.75509306,
          62556554.31770305,
          36164360.37373708,
          4683333.322724888,
          8991878.734122809,
          13147212.71583277,
          39089468.64113107,
          8968063.727175679,
          107421745.94622251,
          629254920.4964254,
          51675433.13629194,
          70178991.5610042,
          24797475.602094438,
          544453632.1330185,
          237654122.3804139,
          265749379.5962788,
          208632480.56109682,
          389870018.92098844,
          387357771.5342968,
          1857264642.5320282,
          153828511.03599063,
          237917556.25972927,
          614625596.4295937,
          263884938.17355165,
          160880571.31486773,
          227496403.69897658,
          78281666.44920333,
          109355935.38728464,
          329230845.4465957
         ],
         "y0": " ",
         "yaxis": "y"
        },
        {
         "alignmentgroup": "True",
         "customdata": [
          [
           "avrora"
          ],
          [
           "fop"
          ],
          [
           "h2"
          ],
          [
           "luindex"
          ],
          [
           "lusearch"
          ],
          [
           "pmd"
          ],
          [
           "sunflow"
          ],
          [
           "tradebeans"
          ],
          [
           "tradesoap"
          ],
          [
           "xalan"
          ],
          [
           "akka-uct"
          ],
          [
           "als"
          ],
          [
           "chi-square"
          ],
          [
           "db-shootout"
          ],
          [
           "dec-tree"
          ],
          [
           "dotty"
          ],
          [
           "finagle-chirper"
          ],
          [
           "finagle-http"
          ],
          [
           "fj-kmeans"
          ],
          [
           "future-genetic"
          ],
          [
           "gauss-mix"
          ],
          [
           "log-regression"
          ],
          [
           "mnemonics"
          ],
          [
           "movie-lens"
          ],
          [
           "naive-bayes"
          ],
          [
           "page-rank"
          ],
          [
           "par-mnemonics"
          ],
          [
           "philosophers"
          ],
          [
           "reactors"
          ],
          [
           "rx-scrabble"
          ],
          [
           "scala-doku"
          ],
          [
           "scala-kmeans"
          ],
          [
           "scrabble"
          ],
          [
           "apparat"
          ],
          [
           "avrora"
          ],
          [
           "factorie"
          ],
          [
           "fop"
          ],
          [
           "h2"
          ],
          [
           "kiama"
          ],
          [
           "luindex"
          ],
          [
           "lusearch"
          ],
          [
           "pmd"
          ],
          [
           "scalac"
          ],
          [
           "scaladoc"
          ],
          [
           "scalap"
          ],
          [
           "scalariform"
          ],
          [
           "scalatest"
          ],
          [
           "scalaxb"
          ],
          [
           "specs"
          ],
          [
           "sunflow"
          ],
          [
           "tmt"
          ],
          [
           "tradebeans"
          ],
          [
           "tradesoap"
          ],
          [
           "xalan"
          ],
          [
           "500_perlbench_r"
          ],
          [
           "505_mcf_r"
          ],
          [
           "507_cactuBSSN_r"
          ],
          [
           "508_namd_r"
          ],
          [
           "511_povray_r"
          ],
          [
           "519_lbm_r"
          ],
          [
           "520_omnetpp_r"
          ],
          [
           "525_x264_r"
          ],
          [
           "531_deepsjeng_r"
          ],
          [
           "538_imagick_r"
          ],
          [
           "541_leela_r"
          ],
          [
           "544_nab_r"
          ],
          [
           "548_exchange2_r"
          ],
          [
           "549_fotonik3d_r"
          ],
          [
           "554_roms_r"
          ],
          [
           "557_xz_r"
          ]
         ],
         "hovertemplate": "type=duet<br>environment=bare-metal<br>suite=%{x}<br>err=%{y}<br>benchmark=%{customdata[0]}<extra></extra>",
         "legendgroup": "duet",
         "marker": {
          "color": "#00cc96"
         },
         "name": "duet",
         "notched": false,
         "offsetgroup": "duet",
         "orientation": "v",
         "showlegend": false,
         "type": "box",
         "x": [
          "dacapo",
          "dacapo",
          "dacapo",
          "dacapo",
          "dacapo",
          "dacapo",
          "dacapo",
          "dacapo",
          "dacapo",
          "dacapo",
          "renaissance",
          "renaissance",
          "renaissance",
          "renaissance",
          "renaissance",
          "renaissance",
          "renaissance",
          "renaissance",
          "renaissance",
          "renaissance",
          "renaissance",
          "renaissance",
          "renaissance",
          "renaissance",
          "renaissance",
          "renaissance",
          "renaissance",
          "renaissance",
          "renaissance",
          "renaissance",
          "renaissance",
          "renaissance",
          "renaissance",
          "scalabench",
          "scalabench",
          "scalabench",
          "scalabench",
          "scalabench",
          "scalabench",
          "scalabench",
          "scalabench",
          "scalabench",
          "scalabench",
          "scalabench",
          "scalabench",
          "scalabench",
          "scalabench",
          "scalabench",
          "scalabench",
          "scalabench",
          "scalabench",
          "scalabench",
          "scalabench",
          "scalabench",
          "speccpu",
          "speccpu",
          "speccpu",
          "speccpu",
          "speccpu",
          "speccpu",
          "speccpu",
          "speccpu",
          "speccpu",
          "speccpu",
          "speccpu",
          "speccpu",
          "speccpu",
          "speccpu",
          "speccpu",
          "speccpu"
         ],
         "x0": " ",
         "xaxis": "x2",
         "y": [
          9482495.861174243,
          449154.4746681719,
          36844083.19429158,
          4010104.8260093033,
          11092337.059524838,
          2929894.923120141,
          28281065.79387805,
          16921212.759884067,
          3877529.5902007762,
          8866185.955465157,
          774702372.4093554,
          23403501.806199186,
          29806523.00445851,
          213207652.46468568,
          5418993.520295685,
          13490873.411276588,
          19444220.502007473,
          30873293.354708873,
          262253631.1411059,
          17603172.380054742,
          53129241.948267266,
          17955045.798996557,
          69842024.9049035,
          35521037.1424328,
          343225410.1293893,
          93976628.31105703,
          39222554.470602006,
          10978713.704432718,
          344902204.7726898,
          2316272.8874538583,
          662505335.8684036,
          1653669.800680622,
          20148542.25063087,
          49635859.78607567,
          5964318.75610222,
          590500191.557395,
          594702.7309637724,
          39846055.32642537,
          2446532.3145315927,
          6803594.831743823,
          17911514.620316844,
          3841213.1211252166,
          12984307.251818504,
          8301984.930538375,
          1040911.0585995426,
          1173781.7676281948,
          2970360.86636055,
          3146966.4564085016,
          2274229.3322561937,
          14477064.160363063,
          230686926.47743,
          20713260.321743183,
          7838727.702432885,
          6402168.153893485,
          253984812.02032164,
          381763297.5047716,
          667232952.3386062,
          217063270.32962492,
          420942283.052376,
          418852716.3681784,
          1014095618.6075578,
          73563458.96060717,
          110238662.51188198,
          356520414.2867838,
          85223663.14468259,
          78510539.57188305,
          336831193.1020651,
          52031127.873505495,
          462667609.20173424,
          448767293.0032526
         ],
         "y0": " ",
         "yaxis": "y2"
        },
        {
         "alignmentgroup": "True",
         "customdata": [
          [
           "avrora"
          ],
          [
           "fop"
          ],
          [
           "h2"
          ],
          [
           "luindex"
          ],
          [
           "lusearch"
          ],
          [
           "pmd"
          ],
          [
           "sunflow"
          ],
          [
           "tradebeans"
          ],
          [
           "tradesoap"
          ],
          [
           "xalan"
          ],
          [
           "akka-uct"
          ],
          [
           "als"
          ],
          [
           "chi-square"
          ],
          [
           "db-shootout"
          ],
          [
           "dec-tree"
          ],
          [
           "dotty"
          ],
          [
           "finagle-chirper"
          ],
          [
           "finagle-http"
          ],
          [
           "fj-kmeans"
          ],
          [
           "future-genetic"
          ],
          [
           "gauss-mix"
          ],
          [
           "log-regression"
          ],
          [
           "mnemonics"
          ],
          [
           "movie-lens"
          ],
          [
           "naive-bayes"
          ],
          [
           "page-rank"
          ],
          [
           "par-mnemonics"
          ],
          [
           "philosophers"
          ],
          [
           "reactors"
          ],
          [
           "rx-scrabble"
          ],
          [
           "scala-doku"
          ],
          [
           "scala-kmeans"
          ],
          [
           "scrabble"
          ],
          [
           "apparat"
          ],
          [
           "avrora"
          ],
          [
           "factorie"
          ],
          [
           "fop"
          ],
          [
           "h2"
          ],
          [
           "kiama"
          ],
          [
           "luindex"
          ],
          [
           "lusearch"
          ],
          [
           "pmd"
          ],
          [
           "scalac"
          ],
          [
           "scaladoc"
          ],
          [
           "scalap"
          ],
          [
           "scalariform"
          ],
          [
           "scalatest"
          ],
          [
           "scalaxb"
          ],
          [
           "specs"
          ],
          [
           "sunflow"
          ],
          [
           "tmt"
          ],
          [
           "tradebeans"
          ],
          [
           "tradesoap"
          ],
          [
           "xalan"
          ]
         ],
         "hovertemplate": "type=duet<br>environment=shared-vm<br>suite=%{x}<br>err=%{y}<br>benchmark=%{customdata[0]}<extra></extra>",
         "legendgroup": "duet",
         "marker": {
          "color": "#00cc96"
         },
         "name": "duet",
         "notched": false,
         "offsetgroup": "duet",
         "orientation": "v",
         "showlegend": false,
         "type": "box",
         "x": [
          "dacapo",
          "dacapo",
          "dacapo",
          "dacapo",
          "dacapo",
          "dacapo",
          "dacapo",
          "dacapo",
          "dacapo",
          "dacapo",
          "renaissance",
          "renaissance",
          "renaissance",
          "renaissance",
          "renaissance",
          "renaissance",
          "renaissance",
          "renaissance",
          "renaissance",
          "renaissance",
          "renaissance",
          "renaissance",
          "renaissance",
          "renaissance",
          "renaissance",
          "renaissance",
          "renaissance",
          "renaissance",
          "renaissance",
          "renaissance",
          "renaissance",
          "renaissance",
          "renaissance",
          "scalabench",
          "scalabench",
          "scalabench",
          "scalabench",
          "scalabench",
          "scalabench",
          "scalabench",
          "scalabench",
          "scalabench",
          "scalabench",
          "scalabench",
          "scalabench",
          "scalabench",
          "scalabench",
          "scalabench",
          "scalabench",
          "scalabench",
          "scalabench",
          "scalabench",
          "scalabench",
          "scalabench"
         ],
         "x0": " ",
         "xaxis": "x3",
         "y": [
          90726302.40322179,
          7743438.604709201,
          143524362.52181813,
          33389944.9049678,
          42740739.71326012,
          17225511.01575274,
          98534641.30256623,
          89218596.64051804,
          117247169.27405702,
          32789151.41426434,
          1618268702.0426664,
          306246431.2973269,
          107120817.5792502,
          950072540.9788499,
          48766404.457554504,
          27994515.150403034,
          166153730.28725502,
          137337542.0029179,
          1006407763.3927338,
          131117166.17254105,
          300952816.91261846,
          91207406.39454614,
          90906554.00876981,
          229216002.4447751,
          1391593359.6909592,
          356244352.7980114,
          99582422.10115254,
          68062650.49518856,
          1145558023.5526695,
          9439048.088842638,
          309423749.0112491,
          20204065.841215543,
          58803380.866001286,
          157607841.33506915,
          64646203.09804896,
          880381515.4501697,
          14091944.865221795,
          92038537.57638493,
          19612285.823032647,
          17085061.515639674,
          54264586.23185156,
          23834570.42710922,
          54520207.56348782,
          25854563.630790416,
          14346613.380186172,
          29500487.958573025,
          26024531.74479671,
          13134753.277894398,
          25604048.625345826,
          114704881.1581887,
          1214857857.3524773,
          80979434.20435166,
          102618569.41737759,
          28353955.368977673
         ],
         "y0": " ",
         "yaxis": "y3"
        }
       ],
       "layout": {
        "annotations": [
         {
          "font": {},
          "showarrow": false,
          "text": "environment=AWS t3.medium",
          "x": 0.15999999999999998,
          "xanchor": "center",
          "xref": "paper",
          "y": 1,
          "yanchor": "bottom",
          "yref": "paper"
         },
         {
          "font": {},
          "showarrow": false,
          "text": "environment=bare-metal",
          "x": 0.49999999999999994,
          "xanchor": "center",
          "xref": "paper",
          "y": 1,
          "yanchor": "bottom",
          "yref": "paper"
         },
         {
          "font": {},
          "showarrow": false,
          "text": "environment=shared-vm",
          "x": 0.8399999999999999,
          "xanchor": "center",
          "xref": "paper",
          "y": 1,
          "yanchor": "bottom",
          "yref": "paper"
         }
        ],
        "boxmode": "group",
        "legend": {
         "title": {
          "text": "type"
         },
         "tracegroupgap": 0
        },
        "margin": {
         "t": 60
        },
        "template": {
         "data": {
          "bar": [
           {
            "error_x": {
             "color": "#2a3f5f"
            },
            "error_y": {
             "color": "#2a3f5f"
            },
            "marker": {
             "line": {
              "color": "#E5ECF6",
              "width": 0.5
             },
             "pattern": {
              "fillmode": "overlay",
              "size": 10,
              "solidity": 0.2
             }
            },
            "type": "bar"
           }
          ],
          "barpolar": [
           {
            "marker": {
             "line": {
              "color": "#E5ECF6",
              "width": 0.5
             },
             "pattern": {
              "fillmode": "overlay",
              "size": 10,
              "solidity": 0.2
             }
            },
            "type": "barpolar"
           }
          ],
          "carpet": [
           {
            "aaxis": {
             "endlinecolor": "#2a3f5f",
             "gridcolor": "white",
             "linecolor": "white",
             "minorgridcolor": "white",
             "startlinecolor": "#2a3f5f"
            },
            "baxis": {
             "endlinecolor": "#2a3f5f",
             "gridcolor": "white",
             "linecolor": "white",
             "minorgridcolor": "white",
             "startlinecolor": "#2a3f5f"
            },
            "type": "carpet"
           }
          ],
          "choropleth": [
           {
            "colorbar": {
             "outlinewidth": 0,
             "ticks": ""
            },
            "type": "choropleth"
           }
          ],
          "contour": [
           {
            "colorbar": {
             "outlinewidth": 0,
             "ticks": ""
            },
            "colorscale": [
             [
              0,
              "#0d0887"
             ],
             [
              0.1111111111111111,
              "#46039f"
             ],
             [
              0.2222222222222222,
              "#7201a8"
             ],
             [
              0.3333333333333333,
              "#9c179e"
             ],
             [
              0.4444444444444444,
              "#bd3786"
             ],
             [
              0.5555555555555556,
              "#d8576b"
             ],
             [
              0.6666666666666666,
              "#ed7953"
             ],
             [
              0.7777777777777778,
              "#fb9f3a"
             ],
             [
              0.8888888888888888,
              "#fdca26"
             ],
             [
              1,
              "#f0f921"
             ]
            ],
            "type": "contour"
           }
          ],
          "contourcarpet": [
           {
            "colorbar": {
             "outlinewidth": 0,
             "ticks": ""
            },
            "type": "contourcarpet"
           }
          ],
          "heatmap": [
           {
            "colorbar": {
             "outlinewidth": 0,
             "ticks": ""
            },
            "colorscale": [
             [
              0,
              "#0d0887"
             ],
             [
              0.1111111111111111,
              "#46039f"
             ],
             [
              0.2222222222222222,
              "#7201a8"
             ],
             [
              0.3333333333333333,
              "#9c179e"
             ],
             [
              0.4444444444444444,
              "#bd3786"
             ],
             [
              0.5555555555555556,
              "#d8576b"
             ],
             [
              0.6666666666666666,
              "#ed7953"
             ],
             [
              0.7777777777777778,
              "#fb9f3a"
             ],
             [
              0.8888888888888888,
              "#fdca26"
             ],
             [
              1,
              "#f0f921"
             ]
            ],
            "type": "heatmap"
           }
          ],
          "heatmapgl": [
           {
            "colorbar": {
             "outlinewidth": 0,
             "ticks": ""
            },
            "colorscale": [
             [
              0,
              "#0d0887"
             ],
             [
              0.1111111111111111,
              "#46039f"
             ],
             [
              0.2222222222222222,
              "#7201a8"
             ],
             [
              0.3333333333333333,
              "#9c179e"
             ],
             [
              0.4444444444444444,
              "#bd3786"
             ],
             [
              0.5555555555555556,
              "#d8576b"
             ],
             [
              0.6666666666666666,
              "#ed7953"
             ],
             [
              0.7777777777777778,
              "#fb9f3a"
             ],
             [
              0.8888888888888888,
              "#fdca26"
             ],
             [
              1,
              "#f0f921"
             ]
            ],
            "type": "heatmapgl"
           }
          ],
          "histogram": [
           {
            "marker": {
             "pattern": {
              "fillmode": "overlay",
              "size": 10,
              "solidity": 0.2
             }
            },
            "type": "histogram"
           }
          ],
          "histogram2d": [
           {
            "colorbar": {
             "outlinewidth": 0,
             "ticks": ""
            },
            "colorscale": [
             [
              0,
              "#0d0887"
             ],
             [
              0.1111111111111111,
              "#46039f"
             ],
             [
              0.2222222222222222,
              "#7201a8"
             ],
             [
              0.3333333333333333,
              "#9c179e"
             ],
             [
              0.4444444444444444,
              "#bd3786"
             ],
             [
              0.5555555555555556,
              "#d8576b"
             ],
             [
              0.6666666666666666,
              "#ed7953"
             ],
             [
              0.7777777777777778,
              "#fb9f3a"
             ],
             [
              0.8888888888888888,
              "#fdca26"
             ],
             [
              1,
              "#f0f921"
             ]
            ],
            "type": "histogram2d"
           }
          ],
          "histogram2dcontour": [
           {
            "colorbar": {
             "outlinewidth": 0,
             "ticks": ""
            },
            "colorscale": [
             [
              0,
              "#0d0887"
             ],
             [
              0.1111111111111111,
              "#46039f"
             ],
             [
              0.2222222222222222,
              "#7201a8"
             ],
             [
              0.3333333333333333,
              "#9c179e"
             ],
             [
              0.4444444444444444,
              "#bd3786"
             ],
             [
              0.5555555555555556,
              "#d8576b"
             ],
             [
              0.6666666666666666,
              "#ed7953"
             ],
             [
              0.7777777777777778,
              "#fb9f3a"
             ],
             [
              0.8888888888888888,
              "#fdca26"
             ],
             [
              1,
              "#f0f921"
             ]
            ],
            "type": "histogram2dcontour"
           }
          ],
          "mesh3d": [
           {
            "colorbar": {
             "outlinewidth": 0,
             "ticks": ""
            },
            "type": "mesh3d"
           }
          ],
          "parcoords": [
           {
            "line": {
             "colorbar": {
              "outlinewidth": 0,
              "ticks": ""
             }
            },
            "type": "parcoords"
           }
          ],
          "pie": [
           {
            "automargin": true,
            "type": "pie"
           }
          ],
          "scatter": [
           {
            "fillpattern": {
             "fillmode": "overlay",
             "size": 10,
             "solidity": 0.2
            },
            "type": "scatter"
           }
          ],
          "scatter3d": [
           {
            "line": {
             "colorbar": {
              "outlinewidth": 0,
              "ticks": ""
             }
            },
            "marker": {
             "colorbar": {
              "outlinewidth": 0,
              "ticks": ""
             }
            },
            "type": "scatter3d"
           }
          ],
          "scattercarpet": [
           {
            "marker": {
             "colorbar": {
              "outlinewidth": 0,
              "ticks": ""
             }
            },
            "type": "scattercarpet"
           }
          ],
          "scattergeo": [
           {
            "marker": {
             "colorbar": {
              "outlinewidth": 0,
              "ticks": ""
             }
            },
            "type": "scattergeo"
           }
          ],
          "scattergl": [
           {
            "marker": {
             "colorbar": {
              "outlinewidth": 0,
              "ticks": ""
             }
            },
            "type": "scattergl"
           }
          ],
          "scattermapbox": [
           {
            "marker": {
             "colorbar": {
              "outlinewidth": 0,
              "ticks": ""
             }
            },
            "type": "scattermapbox"
           }
          ],
          "scatterpolar": [
           {
            "marker": {
             "colorbar": {
              "outlinewidth": 0,
              "ticks": ""
             }
            },
            "type": "scatterpolar"
           }
          ],
          "scatterpolargl": [
           {
            "marker": {
             "colorbar": {
              "outlinewidth": 0,
              "ticks": ""
             }
            },
            "type": "scatterpolargl"
           }
          ],
          "scatterternary": [
           {
            "marker": {
             "colorbar": {
              "outlinewidth": 0,
              "ticks": ""
             }
            },
            "type": "scatterternary"
           }
          ],
          "surface": [
           {
            "colorbar": {
             "outlinewidth": 0,
             "ticks": ""
            },
            "colorscale": [
             [
              0,
              "#0d0887"
             ],
             [
              0.1111111111111111,
              "#46039f"
             ],
             [
              0.2222222222222222,
              "#7201a8"
             ],
             [
              0.3333333333333333,
              "#9c179e"
             ],
             [
              0.4444444444444444,
              "#bd3786"
             ],
             [
              0.5555555555555556,
              "#d8576b"
             ],
             [
              0.6666666666666666,
              "#ed7953"
             ],
             [
              0.7777777777777778,
              "#fb9f3a"
             ],
             [
              0.8888888888888888,
              "#fdca26"
             ],
             [
              1,
              "#f0f921"
             ]
            ],
            "type": "surface"
           }
          ],
          "table": [
           {
            "cells": {
             "fill": {
              "color": "#EBF0F8"
             },
             "line": {
              "color": "white"
             }
            },
            "header": {
             "fill": {
              "color": "#C8D4E3"
             },
             "line": {
              "color": "white"
             }
            },
            "type": "table"
           }
          ]
         },
         "layout": {
          "annotationdefaults": {
           "arrowcolor": "#2a3f5f",
           "arrowhead": 0,
           "arrowwidth": 1
          },
          "autotypenumbers": "strict",
          "coloraxis": {
           "colorbar": {
            "outlinewidth": 0,
            "ticks": ""
           }
          },
          "colorscale": {
           "diverging": [
            [
             0,
             "#8e0152"
            ],
            [
             0.1,
             "#c51b7d"
            ],
            [
             0.2,
             "#de77ae"
            ],
            [
             0.3,
             "#f1b6da"
            ],
            [
             0.4,
             "#fde0ef"
            ],
            [
             0.5,
             "#f7f7f7"
            ],
            [
             0.6,
             "#e6f5d0"
            ],
            [
             0.7,
             "#b8e186"
            ],
            [
             0.8,
             "#7fbc41"
            ],
            [
             0.9,
             "#4d9221"
            ],
            [
             1,
             "#276419"
            ]
           ],
           "sequential": [
            [
             0,
             "#0d0887"
            ],
            [
             0.1111111111111111,
             "#46039f"
            ],
            [
             0.2222222222222222,
             "#7201a8"
            ],
            [
             0.3333333333333333,
             "#9c179e"
            ],
            [
             0.4444444444444444,
             "#bd3786"
            ],
            [
             0.5555555555555556,
             "#d8576b"
            ],
            [
             0.6666666666666666,
             "#ed7953"
            ],
            [
             0.7777777777777778,
             "#fb9f3a"
            ],
            [
             0.8888888888888888,
             "#fdca26"
            ],
            [
             1,
             "#f0f921"
            ]
           ],
           "sequentialminus": [
            [
             0,
             "#0d0887"
            ],
            [
             0.1111111111111111,
             "#46039f"
            ],
            [
             0.2222222222222222,
             "#7201a8"
            ],
            [
             0.3333333333333333,
             "#9c179e"
            ],
            [
             0.4444444444444444,
             "#bd3786"
            ],
            [
             0.5555555555555556,
             "#d8576b"
            ],
            [
             0.6666666666666666,
             "#ed7953"
            ],
            [
             0.7777777777777778,
             "#fb9f3a"
            ],
            [
             0.8888888888888888,
             "#fdca26"
            ],
            [
             1,
             "#f0f921"
            ]
           ]
          },
          "colorway": [
           "#636efa",
           "#EF553B",
           "#00cc96",
           "#ab63fa",
           "#FFA15A",
           "#19d3f3",
           "#FF6692",
           "#B6E880",
           "#FF97FF",
           "#FECB52"
          ],
          "font": {
           "color": "#2a3f5f"
          },
          "geo": {
           "bgcolor": "white",
           "lakecolor": "white",
           "landcolor": "#E5ECF6",
           "showlakes": true,
           "showland": true,
           "subunitcolor": "white"
          },
          "hoverlabel": {
           "align": "left"
          },
          "hovermode": "closest",
          "mapbox": {
           "style": "light"
          },
          "paper_bgcolor": "white",
          "plot_bgcolor": "#E5ECF6",
          "polar": {
           "angularaxis": {
            "gridcolor": "white",
            "linecolor": "white",
            "ticks": ""
           },
           "bgcolor": "#E5ECF6",
           "radialaxis": {
            "gridcolor": "white",
            "linecolor": "white",
            "ticks": ""
           }
          },
          "scene": {
           "xaxis": {
            "backgroundcolor": "#E5ECF6",
            "gridcolor": "white",
            "gridwidth": 2,
            "linecolor": "white",
            "showbackground": true,
            "ticks": "",
            "zerolinecolor": "white"
           },
           "yaxis": {
            "backgroundcolor": "#E5ECF6",
            "gridcolor": "white",
            "gridwidth": 2,
            "linecolor": "white",
            "showbackground": true,
            "ticks": "",
            "zerolinecolor": "white"
           },
           "zaxis": {
            "backgroundcolor": "#E5ECF6",
            "gridcolor": "white",
            "gridwidth": 2,
            "linecolor": "white",
            "showbackground": true,
            "ticks": "",
            "zerolinecolor": "white"
           }
          },
          "shapedefaults": {
           "line": {
            "color": "#2a3f5f"
           }
          },
          "ternary": {
           "aaxis": {
            "gridcolor": "white",
            "linecolor": "white",
            "ticks": ""
           },
           "baxis": {
            "gridcolor": "white",
            "linecolor": "white",
            "ticks": ""
           },
           "bgcolor": "#E5ECF6",
           "caxis": {
            "gridcolor": "white",
            "linecolor": "white",
            "ticks": ""
           }
          },
          "title": {
           "x": 0.05
          },
          "xaxis": {
           "automargin": true,
           "gridcolor": "white",
           "linecolor": "white",
           "ticks": "",
           "title": {
            "standoff": 15
           },
           "zerolinecolor": "white",
           "zerolinewidth": 2
          },
          "yaxis": {
           "automargin": true,
           "gridcolor": "white",
           "linecolor": "white",
           "ticks": "",
           "title": {
            "standoff": 15
           },
           "zerolinecolor": "white",
           "zerolinewidth": 2
          }
         }
        },
        "xaxis": {
         "anchor": "y",
         "domain": [
          0,
          0.31999999999999995
         ],
         "title": {
          "text": "suite"
         }
        },
        "xaxis2": {
         "anchor": "y2",
         "domain": [
          0.33999999999999997,
          0.6599999999999999
         ],
         "matches": "x",
         "title": {
          "text": "suite"
         }
        },
        "xaxis3": {
         "anchor": "y3",
         "domain": [
          0.6799999999999999,
          0.9999999999999999
         ],
         "matches": "x",
         "title": {
          "text": "suite"
         }
        },
        "yaxis": {
         "anchor": "x",
         "domain": [
          0,
          1
         ],
         "title": {
          "text": "err"
         }
        },
        "yaxis2": {
         "anchor": "x2",
         "domain": [
          0,
          1
         ],
         "matches": "y",
         "showticklabels": false
        },
        "yaxis3": {
         "anchor": "x3",
         "domain": [
          0,
          1
         ],
         "matches": "y",
         "showticklabels": false
        }
       }
      }
     },
     "metadata": {},
     "output_type": "display_data"
    }
   ],
   "source": [
    "px.box(\n",
    "    df_ci,\n",
    "    x=RF.suite,\n",
    "    y=\"err\",\n",
    "    facet_col=DF.env,\n",
    "    color=RF.type,\n",
    "    hover_data=[RF.benchmark],\n",
    ")"
   ]
  },
  {
   "attachments": {},
   "cell_type": "markdown",
   "metadata": {},
   "source": [
    "## Mann-Whitney u-test"
   ]
  },
  {
   "cell_type": "code",
   "execution_count": 36,
   "metadata": {},
   "outputs": [
    {
     "ename": "ValueError",
     "evalue": "Value of 'y' is not the name of a column in 'data_frame'. Expected one of ['environment', 'suite', 'type', 'total_count_ci', 'match_ci', 'err_ci', 'match_ci_%'] but received: match_utest_%",
     "output_type": "error",
     "traceback": [
      "\u001b[0;31m---------------------------------------------------------------------------\u001b[0m",
      "\u001b[0;31mValueError\u001b[0m                                Traceback (most recent call last)",
      "Cell \u001b[0;32mIn [36], line 11\u001b[0m\n\u001b[1;32m      2\u001b[0m df_utest_grouped \u001b[39m=\u001b[39m (\n\u001b[1;32m      3\u001b[0m     df_utest\u001b[39m.\u001b[39mgroupby(by\u001b[39m=\u001b[39m[DF\u001b[39m.\u001b[39menv, RF\u001b[39m.\u001b[39msuite, RF\u001b[39m.\u001b[39mtype])\n\u001b[1;32m      4\u001b[0m     \u001b[39m.\u001b[39magg(\n\u001b[0;32m   (...)\u001b[0m\n\u001b[1;32m      8\u001b[0m     \u001b[39m.\u001b[39mreset_index()\n\u001b[1;32m      9\u001b[0m )\n\u001b[1;32m     10\u001b[0m df_utest_grouped[DF\u001b[39m.\u001b[39mmatch_ratio_utest] \u001b[39m=\u001b[39m df_utest_grouped[\u001b[39m\"\u001b[39m\u001b[39mmatch_count\u001b[39m\u001b[39m\"\u001b[39m] \u001b[39m/\u001b[39m df_utest_grouped[\u001b[39m\"\u001b[39m\u001b[39mtotal_count\u001b[39m\u001b[39m\"\u001b[39m]\n\u001b[0;32m---> 11\u001b[0m px\u001b[39m.\u001b[39;49mbar(\n\u001b[1;32m     12\u001b[0m     df,\n\u001b[1;32m     13\u001b[0m     x\u001b[39m=\u001b[39;49mRF\u001b[39m.\u001b[39;49mtype,\n\u001b[1;32m     14\u001b[0m     y\u001b[39m=\u001b[39;49mDF\u001b[39m.\u001b[39;49mmatch_ratio_utest,\n\u001b[1;32m     15\u001b[0m     color\u001b[39m=\u001b[39;49mRF\u001b[39m.\u001b[39;49msuite,\n\u001b[1;32m     16\u001b[0m     facet_col\u001b[39m=\u001b[39;49mDF\u001b[39m.\u001b[39;49menv,\n\u001b[1;32m     17\u001b[0m     barmode\u001b[39m=\u001b[39;49m\u001b[39m\"\u001b[39;49m\u001b[39mgroup\u001b[39;49m\u001b[39m\"\u001b[39;49m,\n\u001b[1;32m     18\u001b[0m )\n",
      "File \u001b[0;32m~/.pyenv/versions/3.10.5/envs/duet/lib/python3.10/site-packages/plotly/express/_chart_types.py:373\u001b[0m, in \u001b[0;36mbar\u001b[0;34m(data_frame, x, y, color, pattern_shape, facet_row, facet_col, facet_col_wrap, facet_row_spacing, facet_col_spacing, hover_name, hover_data, custom_data, text, base, error_x, error_x_minus, error_y, error_y_minus, animation_frame, animation_group, category_orders, labels, color_discrete_sequence, color_discrete_map, color_continuous_scale, pattern_shape_sequence, pattern_shape_map, range_color, color_continuous_midpoint, opacity, orientation, barmode, log_x, log_y, range_x, range_y, text_auto, title, template, width, height)\u001b[0m\n\u001b[1;32m    325\u001b[0m \u001b[39mdef\u001b[39;00m \u001b[39mbar\u001b[39m(\n\u001b[1;32m    326\u001b[0m     data_frame\u001b[39m=\u001b[39m\u001b[39mNone\u001b[39;00m,\n\u001b[1;32m    327\u001b[0m     x\u001b[39m=\u001b[39m\u001b[39mNone\u001b[39;00m,\n\u001b[0;32m   (...)\u001b[0m\n\u001b[1;32m    367\u001b[0m     height\u001b[39m=\u001b[39m\u001b[39mNone\u001b[39;00m,\n\u001b[1;32m    368\u001b[0m ) \u001b[39m-\u001b[39m\u001b[39m>\u001b[39m go\u001b[39m.\u001b[39mFigure:\n\u001b[1;32m    369\u001b[0m     \u001b[39m\"\"\"\u001b[39;00m\n\u001b[1;32m    370\u001b[0m \u001b[39m    In a bar plot, each row of `data_frame` is represented as a rectangular\u001b[39;00m\n\u001b[1;32m    371\u001b[0m \u001b[39m    mark.\u001b[39;00m\n\u001b[1;32m    372\u001b[0m \u001b[39m    \"\"\"\u001b[39;00m\n\u001b[0;32m--> 373\u001b[0m     \u001b[39mreturn\u001b[39;00m make_figure(\n\u001b[1;32m    374\u001b[0m         args\u001b[39m=\u001b[39;49m\u001b[39mlocals\u001b[39;49m(),\n\u001b[1;32m    375\u001b[0m         constructor\u001b[39m=\u001b[39;49mgo\u001b[39m.\u001b[39;49mBar,\n\u001b[1;32m    376\u001b[0m         trace_patch\u001b[39m=\u001b[39;49m\u001b[39mdict\u001b[39;49m(textposition\u001b[39m=\u001b[39;49m\u001b[39m\"\u001b[39;49m\u001b[39mauto\u001b[39;49m\u001b[39m\"\u001b[39;49m),\n\u001b[1;32m    377\u001b[0m         layout_patch\u001b[39m=\u001b[39;49m\u001b[39mdict\u001b[39;49m(barmode\u001b[39m=\u001b[39;49mbarmode),\n\u001b[1;32m    378\u001b[0m     )\n",
      "File \u001b[0;32m~/.pyenv/versions/3.10.5/envs/duet/lib/python3.10/site-packages/plotly/express/_core.py:1990\u001b[0m, in \u001b[0;36mmake_figure\u001b[0;34m(args, constructor, trace_patch, layout_patch)\u001b[0m\n\u001b[1;32m   1987\u001b[0m layout_patch \u001b[39m=\u001b[39m layout_patch \u001b[39mor\u001b[39;00m {}\n\u001b[1;32m   1988\u001b[0m apply_default_cascade(args)\n\u001b[0;32m-> 1990\u001b[0m args \u001b[39m=\u001b[39m build_dataframe(args, constructor)\n\u001b[1;32m   1991\u001b[0m \u001b[39mif\u001b[39;00m constructor \u001b[39min\u001b[39;00m [go\u001b[39m.\u001b[39mTreemap, go\u001b[39m.\u001b[39mSunburst, go\u001b[39m.\u001b[39mIcicle] \u001b[39mand\u001b[39;00m args[\u001b[39m\"\u001b[39m\u001b[39mpath\u001b[39m\u001b[39m\"\u001b[39m] \u001b[39mis\u001b[39;00m \u001b[39mnot\u001b[39;00m \u001b[39mNone\u001b[39;00m:\n\u001b[1;32m   1992\u001b[0m     args \u001b[39m=\u001b[39m process_dataframe_hierarchy(args)\n",
      "File \u001b[0;32m~/.pyenv/versions/3.10.5/envs/duet/lib/python3.10/site-packages/plotly/express/_core.py:1405\u001b[0m, in \u001b[0;36mbuild_dataframe\u001b[0;34m(args, constructor)\u001b[0m\n\u001b[1;32m   1402\u001b[0m     args[\u001b[39m\"\u001b[39m\u001b[39mcolor\u001b[39m\u001b[39m\"\u001b[39m] \u001b[39m=\u001b[39m \u001b[39mNone\u001b[39;00m\n\u001b[1;32m   1403\u001b[0m \u001b[39m# now that things have been prepped, we do the systematic rewriting of `args`\u001b[39;00m\n\u001b[0;32m-> 1405\u001b[0m df_output, wide_id_vars \u001b[39m=\u001b[39m process_args_into_dataframe(\n\u001b[1;32m   1406\u001b[0m     args, wide_mode, var_name, value_name\n\u001b[1;32m   1407\u001b[0m )\n\u001b[1;32m   1409\u001b[0m \u001b[39m# now that `df_output` exists and `args` contains only references, we complete\u001b[39;00m\n\u001b[1;32m   1410\u001b[0m \u001b[39m# the special-case and wide-mode handling by further rewriting args and/or mutating\u001b[39;00m\n\u001b[1;32m   1411\u001b[0m \u001b[39m# df_output\u001b[39;00m\n\u001b[1;32m   1413\u001b[0m count_name \u001b[39m=\u001b[39m _escape_col_name(df_output, \u001b[39m\"\u001b[39m\u001b[39mcount\u001b[39m\u001b[39m\"\u001b[39m, [var_name, value_name])\n",
      "File \u001b[0;32m~/.pyenv/versions/3.10.5/envs/duet/lib/python3.10/site-packages/plotly/express/_core.py:1207\u001b[0m, in \u001b[0;36mprocess_args_into_dataframe\u001b[0;34m(args, wide_mode, var_name, value_name)\u001b[0m\n\u001b[1;32m   1205\u001b[0m         \u001b[39mif\u001b[39;00m argument \u001b[39m==\u001b[39m \u001b[39m\"\u001b[39m\u001b[39mindex\u001b[39m\u001b[39m\"\u001b[39m:\n\u001b[1;32m   1206\u001b[0m             err_msg \u001b[39m+\u001b[39m\u001b[39m=\u001b[39m \u001b[39m\"\u001b[39m\u001b[39m\\n\u001b[39;00m\u001b[39m To use the index, pass it in directly as `df.index`.\u001b[39m\u001b[39m\"\u001b[39m\n\u001b[0;32m-> 1207\u001b[0m         \u001b[39mraise\u001b[39;00m \u001b[39mValueError\u001b[39;00m(err_msg)\n\u001b[1;32m   1208\u001b[0m \u001b[39melif\u001b[39;00m length \u001b[39mand\u001b[39;00m \u001b[39mlen\u001b[39m(df_input[argument]) \u001b[39m!=\u001b[39m length:\n\u001b[1;32m   1209\u001b[0m     \u001b[39mraise\u001b[39;00m \u001b[39mValueError\u001b[39;00m(\n\u001b[1;32m   1210\u001b[0m         \u001b[39m\"\u001b[39m\u001b[39mAll arguments should have the same length. \u001b[39m\u001b[39m\"\u001b[39m\n\u001b[1;32m   1211\u001b[0m         \u001b[39m\"\u001b[39m\u001b[39mThe length of column argument `df[\u001b[39m\u001b[39m%s\u001b[39;00m\u001b[39m]` is \u001b[39m\u001b[39m%d\u001b[39;00m\u001b[39m, whereas the \u001b[39m\u001b[39m\"\u001b[39m\n\u001b[0;32m   (...)\u001b[0m\n\u001b[1;32m   1218\u001b[0m         )\n\u001b[1;32m   1219\u001b[0m     )\n",
      "\u001b[0;31mValueError\u001b[0m: Value of 'y' is not the name of a column in 'data_frame'. Expected one of ['environment', 'suite', 'type', 'total_count_ci', 'match_ci', 'err_ci', 'match_ci_%'] but received: match_utest_%"
     ]
    }
   ],
   "source": [
    "df_utest = arbiter_utest(df_prep)\n",
    "df_utest_grouped = (\n",
    "    df_utest.groupby(by=[DF.env, RF.suite, RF.type])\n",
    "    .agg(\n",
    "        total_count=(DF.match_utest, \"count\"),\n",
    "        match_count=(DF.match_utest, \"sum\"),\n",
    "    )\n",
    "    .reset_index()\n",
    ")\n",
    "df_utest_grouped[DF.match_ratio_utest] = df_utest_grouped[\"match_count\"] / df_utest_grouped[\"total_count\"]\n",
    "px.bar(\n",
    "    df_utest_grouped,\n",
    "    x=RF.type,\n",
    "    y=DF.match_ratio_utest,\n",
    "    color=RF.suite,\n",
    "    facet_col=DF.env,\n",
    "    barmode=\"group\",\n",
    ")"
   ]
  },
  {
   "cell_type": "code",
   "execution_count": null,
   "metadata": {},
   "outputs": [],
   "source": [
    "for suite in unique_suites:\n",
    "    suite_mask = df_utest[RF.suite] == suite\n",
    "    if suite_mask.any():\n",
    "        fig = px.bar(\n",
    "            df_utest[suite_mask],\n",
    "            x=\"benchmark\",\n",
    "            y=\"mid\",\n",
    "            color=RF.type,\n",
    "            facet_col=DF.env,\n",
    "            title=f\"u-test - {suite}\",\n",
    "        )\n",
    "        fig.update_xaxes(categoryorder=\"category ascending\")\n",
    "        fig.show()"
   ]
  }
 ],
 "metadata": {
  "kernelspec": {
   "display_name": "Python 3.10.5 64-bit ('duet')",
   "language": "python",
   "name": "python3"
  },
  "language_info": {
   "codemirror_mode": {
    "name": "ipython",
    "version": 3
   },
   "file_extension": ".py",
   "mimetype": "text/x-python",
   "name": "python",
   "nbconvert_exporter": "python",
   "pygments_lexer": "ipython3",
   "version": "3.10.5"
  },
  "vscode": {
   "interpreter": {
    "hash": "b30613eae93c2d498f6090c9d68b2d616e7f48861c26fb69a68f02e86a44a416"
   }
  }
 },
 "nbformat": 4,
 "nbformat_minor": 2
}
