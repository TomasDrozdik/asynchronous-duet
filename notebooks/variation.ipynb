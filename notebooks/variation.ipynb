{
 "cells": [
  {
   "cell_type": "code",
   "execution_count": null,
   "metadata": {},
   "outputs": [],
   "source": [
    "%load_ext autoreload\n",
    "%autoreload 2\n",
    "\n",
    "import plotly.express as px\n",
    "import pandas as pd\n",
    "import numpy as np\n",
    "from scipy.stats import (\n",
    "    bootstrap,\n",
    "    gmean,\n",
    ")\n",
    "from IPython.display import display\n",
    "\n",
    "from duet.process import *\n",
    "from duet.constants import *\n",
    "from common import *\n",
    "\n",
    "df_raw = load_raw()\n",
    "unique_suites = df_raw[RF.suite].unique()"
   ]
  },
  {
   "cell_type": "code",
   "execution_count": null,
   "metadata": {},
   "outputs": [],
   "source": [
    "# How to shuffle df\n",
    "df = df_raw[\n",
    "    (df_raw[RF.benchmark] == \"chi-square\")\n",
    "    & (df_raw[AF.hostname] == df_raw[AF.hostname].iloc[0])\n",
    "][PAIR_ID_COL + TIME_D_NS_COL]\n",
    "a = df[RF.time_ns].sample(frac=1).reset_index(drop=True)\n",
    "b = df[RF.time_ns].reset_index(drop=True)\n",
    "diff = a - b\n",
    "diff"
   ]
  },
  {
   "cell_type": "markdown",
   "metadata": {},
   "source": [
    "# CV - Relative Standard Devition"
   ]
  },
  {
   "cell_type": "code",
   "execution_count": null,
   "metadata": {},
   "outputs": [],
   "source": [
    "df = preprocess_data(df_raw)\n",
    "\n",
    "df = (\n",
    "    df.groupby(ARTIFACT_COL + RUN_ID_COL)\n",
    "    .agg(\n",
    "        time_count=(RF.time_ns, len),\n",
    "        time_mean=(RF.time_ns, \"mean\"),\n",
    "        time_var=(RF.time_ns, \"var\"),\n",
    "        time_std=(RF.time_ns, \"std\"),\n",
    "    )\n",
    "    .reset_index()\n",
    ")\n",
    "df[\"CV\"] = df[\"time_std\"] / df[\"time_mean\"]\n",
    "\n",
    "for suite in unique_suites:\n",
    "    fig = px.box(\n",
    "        df[df[RF.suite] == suite],\n",
    "        x=RF.benchmark,\n",
    "        y=\"CV\",\n",
    "        facet_row=DF.env,\n",
    "        color=RF.type,\n",
    "        title=f\"Benchmark Time Relative Deviation - {suite}\",\n",
    "    )\n",
    "    fig.update_xaxes(categoryorder=\"category ascending\")\n",
    "    fig.update_layout(height=1000)\n",
    "    fig.show()"
   ]
  },
  {
   "cell_type": "markdown",
   "metadata": {},
   "source": [
    "# CI"
   ]
  },
  {
   "cell_type": "markdown",
   "metadata": {},
   "source": [
    "## Synchronized duet"
   ]
  },
  {
   "cell_type": "code",
   "execution_count": null,
   "metadata": {},
   "outputs": [],
   "source": [
    "if \"syncduet\" not in df_raw[RF.type].unique():\n",
    "    print(\"No syncduet run\")\n",
    "    raise StopExecution\n",
    "\n",
    "df = df_raw[\n",
    "    (df_raw[RF.suite] == \"dacapo\")\n",
    "    & (df_raw[RF.benchmark] == \"avrora\")\n",
    "    & (df_raw[RF.type] == \"syncduet\")\n",
    "]\n",
    "df = preprocess_data(df)\n",
    "df = df.pivot_table(\n",
    "    index=ARTIFACT_COL + RUN_ID_COL + [RF.iteration],\n",
    "    columns=RF.pair,\n",
    "    values=[RF.time_ns],\n",
    ").reset_index()\n",
    "df.columns = [f\"{i}_{j}\" if j else i for i, j in df.columns]\n",
    "df[DF.pair_speedup] = df[RF.time_ns + \"_A\"] / df[RF.time_ns + \"_B\"]\n",
    "df_gmsr = df.groupby(ARTIFACT_COL + RUN_ID_COL).agg(gmsr=(DF.pair_speedup, gmean))\n",
    "# display(df_gmsr)\n",
    "\n",
    "df_ggmsr = df_gmsr.groupby(ARTIFACT_COL + BENCHMARK_ID_COL).agg(ggmsr=(\"gmsr\", gmean))\n",
    "# display(df_ggmsr)\n",
    "\n",
    "# Bootstrap\n",
    "bootstrap(data=(df_gmsr[\"gmsr\"],), statistic=gmean)"
   ]
  },
  {
   "cell_type": "code",
   "execution_count": null,
   "metadata": {},
   "outputs": [],
   "source": [
    "df_ci_syncduet = pd.DataFrame()\n",
    "if \"syncduet\" not in df_raw[RF.type].unique():\n",
    "    print(\"No syncduet run\")\n",
    "    raise StopExecution\n",
    "\n",
    "df_ci_syncduet = compute_ci_syncduet(df_raw, sample_type=\"run_means\")\n",
    "\n",
    "for suite in unique_suites:\n",
    "    fig = px.scatter(\n",
    "        df_ci_syncduet[df_ci_syncduet[RF.suite] == suite],\n",
    "        x=RF.benchmark,\n",
    "        y=\"mid\",\n",
    "        error_y=\"err\",\n",
    "        color=DF.env,\n",
    "        title=f\"Syncduet pairwise speedup CI - {suite}\",\n",
    "    )\n",
    "    fig.show()"
   ]
  },
  {
   "cell_type": "markdown",
   "metadata": {},
   "source": [
    "## Sequenatial"
   ]
  },
  {
   "cell_type": "code",
   "execution_count": null,
   "metadata": {},
   "outputs": [],
   "source": [
    "df_ci_seqn = compute_ci_seqn(df_raw, sample_type=\"run_means\")\n",
    "\n",
    "for suite in unique_suites:\n",
    "    fig = px.scatter(\n",
    "        df_ci_seqn[df_ci_seqn[RF.suite] == suite],\n",
    "        x=RF.benchmark,\n",
    "        y=\"mid\",\n",
    "        error_y=\"err\",\n",
    "        color=DF.env,\n",
    "        title=f\"Seqn duration CI - {suite}\",\n",
    "    )\n",
    "    fig.show()"
   ]
  },
  {
   "cell_type": "markdown",
   "metadata": {},
   "source": [
    "## Asynchronous duet"
   ]
  },
  {
   "cell_type": "code",
   "execution_count": null,
   "metadata": {},
   "outputs": [],
   "source": [
    "df_ci_duet = compute_ci_duet_no_overlaps(df_raw, sample_type=\"run_means\")\n",
    "\n",
    "for suite in unique_suites:\n",
    "    fig = px.scatter(\n",
    "        df_ci_duet[df_ci_duet[RF.suite] == suite],\n",
    "        x=RF.benchmark,\n",
    "        y=\"mid\",\n",
    "        error_y=\"err\",\n",
    "        color=DF.env,\n",
    "        title=f\"Duet no-overlap duration CI - {suite}\",\n",
    "    )\n",
    "    fig.show()"
   ]
  },
  {
   "cell_type": "markdown",
   "metadata": {},
   "source": [
    "## CI Width Comparison"
   ]
  },
  {
   "cell_type": "code",
   "execution_count": null,
   "metadata": {},
   "outputs": [],
   "source": [
    "df_input = pd.concat([df_ci_seqn, df_ci_syncduet, df_ci_duet])\n",
    "\n",
    "for suite in unique_suites:\n",
    "    fig = px.bar(\n",
    "        df_input[df_input[RF.suite] == suite],\n",
    "        x=RF.benchmark,\n",
    "        y=DF.ci_width,\n",
    "        color=RF.type,\n",
    "        facet_row=DF.env,\n",
    "        barmode=\"group\",\n",
    "        title=f\"Relative CI Width comparison - {suite}\",\n",
    "    )\n",
    "    fig.show()"
   ]
  }
 ],
 "metadata": {
  "kernelspec": {
   "display_name": "Python 3.10.5 64-bit ('duet')",
   "language": "python",
   "name": "python3"
  },
  "language_info": {
   "codemirror_mode": {
    "name": "ipython",
    "version": 3
   },
   "file_extension": ".py",
   "mimetype": "text/x-python",
   "name": "python",
   "nbconvert_exporter": "python",
   "pygments_lexer": "ipython3",
   "version": "3.10.5"
  },
  "vscode": {
   "interpreter": {
    "hash": "34aa5a182bea2a5b5e6d895a4749d9d245e426506465c412701e5413d6b0f0d0"
   }
  }
 },
 "nbformat": 4,
 "nbformat_minor": 2
}
