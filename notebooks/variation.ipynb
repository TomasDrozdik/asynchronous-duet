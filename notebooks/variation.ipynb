{
 "cells": [
  {
   "cell_type": "code",
   "execution_count": null,
   "metadata": {},
   "outputs": [],
   "source": [
    "%load_ext autoreload\n",
    "%autoreload 2\n",
    "\n",
    "import plotly.express as px\n",
    "import pandas as pd\n",
    "import numpy as np\n",
    "from scipy.stats import (\n",
    "    bootstrap,\n",
    "    gmean,\n",
    ")\n",
    "from IPython.display import display\n",
    "\n",
    "from duet.process import *\n",
    "from duet.constants import *\n",
    "from common import *\n",
    "\n",
    "df_prep = preprocess_data(load_raw())\n",
    "unique_suites = df_prep[RF.suite].unique()"
   ]
  },
  {
   "cell_type": "markdown",
   "metadata": {},
   "source": [
    "# CV - Relative Standard Deviation"
   ]
  },
  {
   "cell_type": "code",
   "execution_count": null,
   "metadata": {},
   "outputs": [],
   "source": [
    "df = (\n",
    "    df_prep.groupby(BENCHMARK_ENV_COL)\n",
    "    .agg(\n",
    "        time_count=(RF.time_ns, len),\n",
    "        time_mean=(RF.time_ns, \"mean\"),\n",
    "        time_var=(RF.time_ns, \"var\"),\n",
    "        time_std=(RF.time_ns, \"std\"),\n",
    "    )\n",
    "    .reset_index()\n",
    ")\n",
    "df[\"CV\"] = df[\"time_std\"] / df[\"time_mean\"]\n",
    "\n",
    "for suite in unique_suites:\n",
    "    fig = px.bar(\n",
    "        df[df[RF.suite] == suite],\n",
    "        x=RF.benchmark,\n",
    "        y=\"CV\",\n",
    "        facet_col=DF.env,\n",
    "        color=RF.type,\n",
    "        barmode=\"group\",\n",
    "        title=f\"Benchmark Time Relative Deviation - {suite}\",\n",
    "    )\n",
    "    fig.update_xaxes(categoryorder=\"category ascending\")\n",
    "    fig.show()"
   ]
  },
  {
   "cell_type": "markdown",
   "metadata": {},
   "source": [
    "# CI"
   ]
  },
  {
   "cell_type": "markdown",
   "metadata": {},
   "source": [
    "### Determine best duet `overlap_rate`"
   ]
  },
  {
   "cell_type": "code",
   "execution_count": null,
   "metadata": {},
   "outputs": [],
   "source": [
    "df = compute_ci(df_prep, np.arange(0.1, 1, 0.1))\n",
    "df = arbiter_ci_contains_zero(df)\n",
    "df = (\n",
    "    df.groupby(by=[DF.env, RF.suite, RF.type, DF.overlap_rate])\n",
    "    .agg(\n",
    "        total_count=(DF.match_ci, \"count\"),\n",
    "        match_count=(DF.match_ci, \"sum\"),\n",
    "        miss_err=(DF.err_ci, np.mean),\n",
    "    )\n",
    "    .reset_index()\n",
    ")\n",
    "df[DF.match_ratio_ci] = df[\"match_count\"] / df[\"total_count\"]\n",
    "px.line(\n",
    "    df,\n",
    "    x=DF.overlap_rate,\n",
    "    y=DF.match_ratio_ci,\n",
    "    color=RF.suite,\n",
    "    facet_col=DF.env,\n",
    "    markers=True,\n",
    ")"
   ]
  },
  {
   "cell_type": "code",
   "execution_count": null,
   "metadata": {},
   "outputs": [],
   "source": [
    "df_ci = compute_ci(df_prep, overlap_rates=[0.5])\n",
    "df_ci"
   ]
  },
  {
   "cell_type": "code",
   "execution_count": null,
   "metadata": {},
   "outputs": [],
   "source": [
    "type = \"type:pairing\"\n",
    "df_ci[type] = df_ci[RF.type] + \":\" + df_ci[DF.overlap_rate].astype(str)\n",
    "\n",
    "for suite in unique_suites:\n",
    "    suite_mask = df_ci[RF.suite] == suite\n",
    "    if suite_mask.any():\n",
    "        fig = px.scatter(\n",
    "            df_ci[suite_mask],\n",
    "            x=\"benchmark\",\n",
    "            y=\"mid\",\n",
    "            error_y=\"err\",\n",
    "            color=type,\n",
    "            facet_col=DF.env,\n",
    "            title=f\"CI - {suite}\",\n",
    "        )\n",
    "        fig.update_xaxes(categoryorder=\"category ascending\")\n",
    "        fig.show()"
   ]
  },
  {
   "cell_type": "code",
   "execution_count": null,
   "metadata": {},
   "outputs": [],
   "source": [
    "for suite in unique_suites:\n",
    "    fig = px.bar(\n",
    "        df_ci[df_ci[RF.suite] == suite],\n",
    "        x=RF.benchmark,\n",
    "        y=DF.ci_width,\n",
    "        color=type,\n",
    "        facet_row=DF.env,\n",
    "        barmode=\"group\",\n",
    "        title=f\"Relative CI Width comparison - {suite}\",\n",
    "    )\n",
    "    fig.show()\n",
    "\n",
    "df = (\n",
    "    df_ci.groupby(by=[DF.env, RF.suite, type])\n",
    "    .agg(ci_width_mean=(DF.ci_width, np.mean))\n",
    "    .reset_index()\n",
    ")\n",
    "display(\n",
    "    px.bar(\n",
    "        df,\n",
    "        x=RF.suite,\n",
    "        y=\"ci_width_mean\",\n",
    "        color=type,\n",
    "        barmode=\"group\",\n",
    "        facet_row=DF.env,\n",
    "        title=\"Mean relative CI width\",\n",
    "    )\n",
    ")\n",
    "display(\n",
    "    px.box(\n",
    "        df_ci,\n",
    "        x=RF.suite,\n",
    "        y=\"err\",\n",
    "        facet_col=DF.env,\n",
    "        color=RF.type,\n",
    "        title=\"CI error rate per suite\",\n",
    "    )\n",
    ")"
   ]
  },
  {
   "cell_type": "markdown",
   "metadata": {},
   "source": [
    "## Arbitrage"
   ]
  },
  {
   "cell_type": "code",
   "execution_count": null,
   "metadata": {},
   "outputs": [],
   "source": [
    "df_pred_ci = arbiter_ci_contains_zero(df_ci)\n",
    "df = group_predictions(df_pred_ci, utest=False)\n",
    "px.bar(\n",
    "    df,\n",
    "    x=RF.suite,\n",
    "    y=DF.match_ratio_ci,\n",
    "    facet_col=DF.env,\n",
    "    color=RF.type,\n",
    "    barmode=\"group\",\n",
    "    title=\"Correct A/A detection ratio\",\n",
    ")"
   ]
  },
  {
   "cell_type": "code",
   "execution_count": null,
   "metadata": {},
   "outputs": [],
   "source": [
    "df_pred_utest = arbiter_utest(df_prep)\n",
    "df = group_predictions(df_pred_utest, ci=False)\n",
    "px.bar(\n",
    "    df,\n",
    "    x=RF.suite,\n",
    "    y=DF.match_ratio_ci,\n",
    "    facet_col=DF.env,\n",
    "    color=RF.type,\n",
    "    barmode=\"group\",\n",
    "    title=\"Correct A/A detection ratio\",\n",
    ")"
   ]
  },
  {
   "cell_type": "markdown",
   "metadata": {},
   "source": [
    "---\n",
    "\n",
    "Backup\n",
    "\n",
    "---"
   ]
  },
  {
   "cell_type": "code",
   "execution_count": null,
   "metadata": {},
   "outputs": [],
   "source": [
    "df = preprocess_data(df_prep)\n",
    "\n",
    "df = (\n",
    "    df.groupby(ARTIFACT_COL + RUN_ID_COL)\n",
    "    .agg(\n",
    "        time_count=(RF.time_ns, len),\n",
    "        time_mean=(RF.time_ns, \"mean\"),\n",
    "        time_var=(RF.time_ns, \"var\"),\n",
    "        time_std=(RF.time_ns, \"std\"),\n",
    "    )\n",
    "    .reset_index()\n",
    ")\n",
    "df[\"CV\"] = df[\"time_std\"] / df[\"time_mean\"]\n",
    "\n",
    "for suite in unique_suites:\n",
    "    fig = px.box(\n",
    "        df[df[RF.suite] == suite],\n",
    "        x=RF.benchmark,\n",
    "        y=\"CV\",\n",
    "        facet_row=DF.env,\n",
    "        color=RF.type,\n",
    "        title=f\"Benchmark Time Relative Deviation per run - {suite}\",\n",
    "    )\n",
    "    fig.update_xaxes(categoryorder=\"category ascending\")\n",
    "    fig.show()"
   ]
  },
  {
   "cell_type": "code",
   "execution_count": null,
   "metadata": {},
   "outputs": [],
   "source": [
    "df_ci_syncduet = df_prep[df_prep[RF.type] == \"syncduet\"]\n",
    "if df_ci_syncduet.shape[0] == 0:\n",
    "    print(\"No runs\")\n",
    "    raise StopExecution\n",
    "\n",
    "df_ci_syncduet = compute_ci_pair_speedup(df_ci_syncduet, sample_type=\"run_means\")\n",
    "\n",
    "for suite in unique_suites:\n",
    "    suite_mask = df_ci_syncduet[RF.suite] == suite\n",
    "    if suite_mask.any():\n",
    "        fig = px.scatter(\n",
    "            df_ci_syncduet[suite_mask],\n",
    "            x=RF.benchmark,\n",
    "            y=\"mid\",\n",
    "            error_y=\"err\",\n",
    "            color=DF.env,\n",
    "            title=f\"Syncduet pairwise speedup CI - {suite}\",\n",
    "        )\n",
    "        fig.show()"
   ]
  }
 ],
 "metadata": {
  "kernelspec": {
   "display_name": "Python 3.10.5 64-bit ('duet')",
   "language": "python",
   "name": "python3"
  },
  "language_info": {
   "codemirror_mode": {
    "name": "ipython",
    "version": 3
   },
   "file_extension": ".py",
   "mimetype": "text/x-python",
   "name": "python",
   "nbconvert_exporter": "python",
   "pygments_lexer": "ipython3",
   "version": "3.10.5"
  },
  "vscode": {
   "interpreter": {
    "hash": "b30613eae93c2d498f6090c9d68b2d616e7f48861c26fb69a68f02e86a44a416"
   }
  }
 },
 "nbformat": 4,
 "nbformat_minor": 2
}
