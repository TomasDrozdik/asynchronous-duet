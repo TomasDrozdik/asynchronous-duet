{
 "cells": [
  {
   "attachments": {},
   "cell_type": "markdown",
   "metadata": {},
   "source": [
    "# RQ4: Minimal Detectable Slowdowns"
   ]
  },
  {
   "cell_type": "code",
   "execution_count": 1,
   "metadata": {},
   "outputs": [
    {
     "name": "stderr",
     "output_type": "stream",
     "text": [
      "/Users/tdrozdik/school/asynchronous-duet/duet/process.py:426: SettingWithCopyWarning: \n",
      "A value is trying to be set on a copy of a slice from a DataFrame.\n",
      "Try using .loc[row_indexer,col_indexer] = value instead\n",
      "\n",
      "See the caveats in the documentation: https://pandas.pydata.org/pandas-docs/stable/user_guide/indexing.html#returning-a-view-versus-a-copy\n",
      "  df[max_iteration] = df.groupby(ARTIFACT_COL + RUN_ID_COL)[RF.iteration].transform(\n"
     ]
    }
   ],
   "source": [
    "%load_ext autoreload\n",
    "%autoreload 2\n",
    "\n",
    "import plotly.express as px\n",
    "import pandas as pd\n",
    "import numpy as np\n",
    "from IPython.display import display\n",
    "\n",
    "from duet.process import *\n",
    "from duet.constants import *\n",
    "from common import *\n",
    "\n",
    "df_prep = preprocess_data(load_raw())\n",
    "unique_suites = df_prep[RF.suite].unique()"
   ]
  },
  {
   "attachments": {},
   "cell_type": "markdown",
   "metadata": {},
   "source": [
    "## Arbitrary slowdown verification"
   ]
  },
  {
   "cell_type": "code",
   "execution_count": 2,
   "metadata": {},
   "outputs": [
    {
     "data": {
      "application/vnd.plotly.v1+json": {
       "config": {
        "plotlyServerURL": "https://plot.ly"
       },
       "data": [
        {
         "alignmentgroup": "True",
         "base": [
          "2022-06-17T13:17:01.009999",
          "2022-06-17T13:17:04.227000",
          "2022-06-17T13:17:07.455000",
          "2022-06-17T13:17:10.662000",
          "2022-06-17T13:17:13.887000",
          "2022-06-17T13:17:01.094000",
          "2022-06-17T13:17:04.300000",
          "2022-06-17T13:17:07.516000",
          "2022-06-17T13:17:10.745999",
          "2022-06-17T13:17:13.956999",
          "2022-06-17T13:17:09.473999",
          "2022-06-17T13:17:12.875000",
          "2022-06-17T13:17:16.275000",
          "2022-06-17T13:17:19.670000",
          "2022-06-17T13:17:23.080999",
          "2022-06-17T13:17:11.958000",
          "2022-06-17T13:17:15.407000",
          "2022-06-17T13:17:18.848000",
          "2022-06-17T13:17:22.273999",
          "2022-06-17T13:17:25.708000",
          "2022-06-17T13:16:59.776000",
          "2022-06-17T13:17:02.993999",
          "2022-06-17T13:17:06.200999",
          "2022-06-17T13:17:09.411000",
          "2022-06-17T13:17:12.632000",
          "2022-06-17T13:16:59.761999",
          "2022-06-17T13:17:02.966000",
          "2022-06-17T13:17:06.184999",
          "2022-06-17T13:17:09.384000",
          "2022-06-17T13:17:12.584999",
          "2022-06-17T13:16:59.847000",
          "2022-06-17T13:17:03.056000",
          "2022-06-17T13:17:06.252000",
          "2022-06-17T13:17:09.452999",
          "2022-06-17T13:17:12.630000",
          "2022-06-17T13:16:59.646000",
          "2022-06-17T13:17:02.852999",
          "2022-06-17T13:17:06.064000",
          "2022-06-17T13:17:09.251000",
          "2022-06-17T13:17:12.465999",
          "2022-06-17T13:17:09.348000",
          "2022-06-17T13:17:12.748000",
          "2022-06-17T13:17:16.145999",
          "2022-06-17T13:17:19.542000",
          "2022-06-17T13:17:22.966000",
          "2022-06-17T13:17:09.696000",
          "2022-06-17T13:17:13.112999",
          "2022-06-17T13:17:16.502000",
          "2022-06-17T13:17:19.892000",
          "2022-06-17T13:17:23.312999",
          "2022-06-17T13:17:00.633999",
          "2022-06-17T13:17:03.868999",
          "2022-06-17T13:17:07.102000",
          "2022-06-17T13:17:10.319000",
          "2022-06-17T13:17:13.534000",
          "2022-06-17T13:17:00.652999",
          "2022-06-17T13:17:03.880999",
          "2022-06-17T13:17:07.108000",
          "2022-06-17T13:17:10.336999",
          "2022-06-17T13:17:13.556000"
         ],
         "customdata": [
          [
           "avrora",
           0,
           3
          ],
          [
           "avrora",
           0,
           3
          ],
          [
           "avrora",
           0,
           3
          ],
          [
           "avrora",
           0,
           3
          ],
          [
           "avrora",
           0,
           3
          ],
          [
           "avrora",
           0,
           3
          ],
          [
           "avrora",
           0,
           3
          ],
          [
           "avrora",
           0,
           3
          ],
          [
           "avrora",
           0,
           3
          ],
          [
           "avrora",
           0,
           3
          ],
          [
           "avrora",
           0,
           3
          ],
          [
           "avrora",
           0,
           3
          ],
          [
           "avrora",
           0,
           3
          ],
          [
           "avrora",
           0,
           3
          ],
          [
           "avrora",
           0,
           3
          ],
          [
           "avrora",
           0,
           3
          ],
          [
           "avrora",
           0,
           3
          ],
          [
           "avrora",
           0,
           3
          ],
          [
           "avrora",
           0,
           3
          ],
          [
           "avrora",
           0,
           3
          ],
          [
           "avrora",
           0,
           3
          ],
          [
           "avrora",
           0,
           3
          ],
          [
           "avrora",
           0,
           3
          ],
          [
           "avrora",
           0,
           3
          ],
          [
           "avrora",
           0,
           3
          ],
          [
           "avrora",
           0,
           3
          ],
          [
           "avrora",
           0,
           3
          ],
          [
           "avrora",
           0,
           3
          ],
          [
           "avrora",
           0,
           3
          ],
          [
           "avrora",
           0,
           3
          ],
          [
           "avrora",
           0,
           3
          ],
          [
           "avrora",
           0,
           3
          ],
          [
           "avrora",
           0,
           3
          ],
          [
           "avrora",
           0,
           3
          ],
          [
           "avrora",
           0,
           3
          ],
          [
           "avrora",
           0,
           3
          ],
          [
           "avrora",
           0,
           3
          ],
          [
           "avrora",
           0,
           3
          ],
          [
           "avrora",
           0,
           3
          ],
          [
           "avrora",
           0,
           3
          ],
          [
           "avrora",
           0,
           3
          ],
          [
           "avrora",
           0,
           3
          ],
          [
           "avrora",
           0,
           3
          ],
          [
           "avrora",
           0,
           3
          ],
          [
           "avrora",
           0,
           3
          ],
          [
           "avrora",
           0,
           3
          ],
          [
           "avrora",
           0,
           3
          ],
          [
           "avrora",
           0,
           3
          ],
          [
           "avrora",
           0,
           3
          ],
          [
           "avrora",
           0,
           3
          ],
          [
           "avrora",
           0,
           3
          ],
          [
           "avrora",
           0,
           3
          ],
          [
           "avrora",
           0,
           3
          ],
          [
           "avrora",
           0,
           3
          ],
          [
           "avrora",
           0,
           3
          ],
          [
           "avrora",
           0,
           3
          ],
          [
           "avrora",
           0,
           3
          ],
          [
           "avrora",
           0,
           3
          ],
          [
           "avrora",
           0,
           3
          ],
          [
           "avrora",
           0,
           3
          ]
         ],
         "hovertemplate": "iteration_start=%{base}<br>iteration_end=%{x}<br>pair=%{y}<br>benchmark=%{customdata[0]}<br>runid=%{customdata[1]}<br>iteration_time=%{customdata[2]}<br>iteration=%{marker.color}<extra></extra>",
         "legendgroup": "",
         "marker": {
          "color": [
           50,
           51,
           52,
           53,
           54,
           50,
           51,
           52,
           53,
           54,
           50,
           51,
           52,
           53,
           54,
           50,
           51,
           52,
           53,
           54,
           50,
           51,
           52,
           53,
           54,
           50,
           51,
           52,
           53,
           54,
           50,
           51,
           52,
           53,
           54,
           50,
           51,
           52,
           53,
           54,
           50,
           51,
           52,
           53,
           54,
           50,
           51,
           52,
           53,
           54,
           50,
           51,
           52,
           53,
           54,
           50,
           51,
           52,
           53,
           54
          ],
          "coloraxis": "coloraxis",
          "pattern": {
           "shape": ""
          }
         },
         "name": "",
         "offsetgroup": "",
         "orientation": "h",
         "showlegend": false,
         "textposition": "auto",
         "type": "bar",
         "x": [
          3200,
          3210,
          3220,
          3198,
          3217,
          3185,
          3198,
          3207,
          3221,
          3203,
          3408,
          3393,
          3381,
          3387,
          3401,
          3416,
          3441,
          3433,
          3417,
          3425,
          3191,
          3210,
          3199,
          3202,
          3212,
          3200,
          3196,
          3211,
          3191,
          3193,
          3183,
          3201,
          3188,
          3191,
          3169,
          3198,
          3200,
          3201,
          3178,
          3207,
          3361,
          3390,
          3390,
          3387,
          3416,
          3374,
          3407,
          3381,
          3382,
          3412,
          3199,
          3226,
          3224,
          3210,
          3207,
          3210,
          3220,
          3218,
          3222,
          3209
         ],
         "xaxis": "x",
         "y": [
          "A",
          "A",
          "A",
          "A",
          "A",
          "B",
          "B",
          "B",
          "B",
          "B",
          "A",
          "A",
          "A",
          "A",
          "A",
          "B",
          "B",
          "B",
          "B",
          "B",
          "A",
          "A",
          "A",
          "A",
          "A",
          "B",
          "B",
          "B",
          "B",
          "B",
          "A",
          "A",
          "A",
          "A",
          "A",
          "B",
          "B",
          "B",
          "B",
          "B",
          "A",
          "A",
          "A",
          "A",
          "A",
          "B",
          "B",
          "B",
          "B",
          "B",
          "A",
          "A",
          "A",
          "A",
          "A",
          "B",
          "B",
          "B",
          "B",
          "B"
         ],
         "yaxis": "y"
        }
       ],
       "layout": {
        "barmode": "overlay",
        "coloraxis": {
         "colorbar": {
          "title": {
           "text": "iteration"
          }
         },
         "colorscale": [
          [
           0,
           "#0d0887"
          ],
          [
           0.1111111111111111,
           "#46039f"
          ],
          [
           0.2222222222222222,
           "#7201a8"
          ],
          [
           0.3333333333333333,
           "#9c179e"
          ],
          [
           0.4444444444444444,
           "#bd3786"
          ],
          [
           0.5555555555555556,
           "#d8576b"
          ],
          [
           0.6666666666666666,
           "#ed7953"
          ],
          [
           0.7777777777777778,
           "#fb9f3a"
          ],
          [
           0.8888888888888888,
           "#fdca26"
          ],
          [
           1,
           "#f0f921"
          ]
         ]
        },
        "legend": {
         "tracegroupgap": 0
        },
        "template": {
         "data": {
          "bar": [
           {
            "error_x": {
             "color": "#2a3f5f"
            },
            "error_y": {
             "color": "#2a3f5f"
            },
            "marker": {
             "line": {
              "color": "#E5ECF6",
              "width": 0.5
             },
             "pattern": {
              "fillmode": "overlay",
              "size": 10,
              "solidity": 0.2
             }
            },
            "type": "bar"
           }
          ],
          "barpolar": [
           {
            "marker": {
             "line": {
              "color": "#E5ECF6",
              "width": 0.5
             },
             "pattern": {
              "fillmode": "overlay",
              "size": 10,
              "solidity": 0.2
             }
            },
            "type": "barpolar"
           }
          ],
          "carpet": [
           {
            "aaxis": {
             "endlinecolor": "#2a3f5f",
             "gridcolor": "white",
             "linecolor": "white",
             "minorgridcolor": "white",
             "startlinecolor": "#2a3f5f"
            },
            "baxis": {
             "endlinecolor": "#2a3f5f",
             "gridcolor": "white",
             "linecolor": "white",
             "minorgridcolor": "white",
             "startlinecolor": "#2a3f5f"
            },
            "type": "carpet"
           }
          ],
          "choropleth": [
           {
            "colorbar": {
             "outlinewidth": 0,
             "ticks": ""
            },
            "type": "choropleth"
           }
          ],
          "contour": [
           {
            "colorbar": {
             "outlinewidth": 0,
             "ticks": ""
            },
            "colorscale": [
             [
              0,
              "#0d0887"
             ],
             [
              0.1111111111111111,
              "#46039f"
             ],
             [
              0.2222222222222222,
              "#7201a8"
             ],
             [
              0.3333333333333333,
              "#9c179e"
             ],
             [
              0.4444444444444444,
              "#bd3786"
             ],
             [
              0.5555555555555556,
              "#d8576b"
             ],
             [
              0.6666666666666666,
              "#ed7953"
             ],
             [
              0.7777777777777778,
              "#fb9f3a"
             ],
             [
              0.8888888888888888,
              "#fdca26"
             ],
             [
              1,
              "#f0f921"
             ]
            ],
            "type": "contour"
           }
          ],
          "contourcarpet": [
           {
            "colorbar": {
             "outlinewidth": 0,
             "ticks": ""
            },
            "type": "contourcarpet"
           }
          ],
          "heatmap": [
           {
            "colorbar": {
             "outlinewidth": 0,
             "ticks": ""
            },
            "colorscale": [
             [
              0,
              "#0d0887"
             ],
             [
              0.1111111111111111,
              "#46039f"
             ],
             [
              0.2222222222222222,
              "#7201a8"
             ],
             [
              0.3333333333333333,
              "#9c179e"
             ],
             [
              0.4444444444444444,
              "#bd3786"
             ],
             [
              0.5555555555555556,
              "#d8576b"
             ],
             [
              0.6666666666666666,
              "#ed7953"
             ],
             [
              0.7777777777777778,
              "#fb9f3a"
             ],
             [
              0.8888888888888888,
              "#fdca26"
             ],
             [
              1,
              "#f0f921"
             ]
            ],
            "type": "heatmap"
           }
          ],
          "heatmapgl": [
           {
            "colorbar": {
             "outlinewidth": 0,
             "ticks": ""
            },
            "colorscale": [
             [
              0,
              "#0d0887"
             ],
             [
              0.1111111111111111,
              "#46039f"
             ],
             [
              0.2222222222222222,
              "#7201a8"
             ],
             [
              0.3333333333333333,
              "#9c179e"
             ],
             [
              0.4444444444444444,
              "#bd3786"
             ],
             [
              0.5555555555555556,
              "#d8576b"
             ],
             [
              0.6666666666666666,
              "#ed7953"
             ],
             [
              0.7777777777777778,
              "#fb9f3a"
             ],
             [
              0.8888888888888888,
              "#fdca26"
             ],
             [
              1,
              "#f0f921"
             ]
            ],
            "type": "heatmapgl"
           }
          ],
          "histogram": [
           {
            "marker": {
             "pattern": {
              "fillmode": "overlay",
              "size": 10,
              "solidity": 0.2
             }
            },
            "type": "histogram"
           }
          ],
          "histogram2d": [
           {
            "colorbar": {
             "outlinewidth": 0,
             "ticks": ""
            },
            "colorscale": [
             [
              0,
              "#0d0887"
             ],
             [
              0.1111111111111111,
              "#46039f"
             ],
             [
              0.2222222222222222,
              "#7201a8"
             ],
             [
              0.3333333333333333,
              "#9c179e"
             ],
             [
              0.4444444444444444,
              "#bd3786"
             ],
             [
              0.5555555555555556,
              "#d8576b"
             ],
             [
              0.6666666666666666,
              "#ed7953"
             ],
             [
              0.7777777777777778,
              "#fb9f3a"
             ],
             [
              0.8888888888888888,
              "#fdca26"
             ],
             [
              1,
              "#f0f921"
             ]
            ],
            "type": "histogram2d"
           }
          ],
          "histogram2dcontour": [
           {
            "colorbar": {
             "outlinewidth": 0,
             "ticks": ""
            },
            "colorscale": [
             [
              0,
              "#0d0887"
             ],
             [
              0.1111111111111111,
              "#46039f"
             ],
             [
              0.2222222222222222,
              "#7201a8"
             ],
             [
              0.3333333333333333,
              "#9c179e"
             ],
             [
              0.4444444444444444,
              "#bd3786"
             ],
             [
              0.5555555555555556,
              "#d8576b"
             ],
             [
              0.6666666666666666,
              "#ed7953"
             ],
             [
              0.7777777777777778,
              "#fb9f3a"
             ],
             [
              0.8888888888888888,
              "#fdca26"
             ],
             [
              1,
              "#f0f921"
             ]
            ],
            "type": "histogram2dcontour"
           }
          ],
          "mesh3d": [
           {
            "colorbar": {
             "outlinewidth": 0,
             "ticks": ""
            },
            "type": "mesh3d"
           }
          ],
          "parcoords": [
           {
            "line": {
             "colorbar": {
              "outlinewidth": 0,
              "ticks": ""
             }
            },
            "type": "parcoords"
           }
          ],
          "pie": [
           {
            "automargin": true,
            "type": "pie"
           }
          ],
          "scatter": [
           {
            "fillpattern": {
             "fillmode": "overlay",
             "size": 10,
             "solidity": 0.2
            },
            "type": "scatter"
           }
          ],
          "scatter3d": [
           {
            "line": {
             "colorbar": {
              "outlinewidth": 0,
              "ticks": ""
             }
            },
            "marker": {
             "colorbar": {
              "outlinewidth": 0,
              "ticks": ""
             }
            },
            "type": "scatter3d"
           }
          ],
          "scattercarpet": [
           {
            "marker": {
             "colorbar": {
              "outlinewidth": 0,
              "ticks": ""
             }
            },
            "type": "scattercarpet"
           }
          ],
          "scattergeo": [
           {
            "marker": {
             "colorbar": {
              "outlinewidth": 0,
              "ticks": ""
             }
            },
            "type": "scattergeo"
           }
          ],
          "scattergl": [
           {
            "marker": {
             "colorbar": {
              "outlinewidth": 0,
              "ticks": ""
             }
            },
            "type": "scattergl"
           }
          ],
          "scattermapbox": [
           {
            "marker": {
             "colorbar": {
              "outlinewidth": 0,
              "ticks": ""
             }
            },
            "type": "scattermapbox"
           }
          ],
          "scatterpolar": [
           {
            "marker": {
             "colorbar": {
              "outlinewidth": 0,
              "ticks": ""
             }
            },
            "type": "scatterpolar"
           }
          ],
          "scatterpolargl": [
           {
            "marker": {
             "colorbar": {
              "outlinewidth": 0,
              "ticks": ""
             }
            },
            "type": "scatterpolargl"
           }
          ],
          "scatterternary": [
           {
            "marker": {
             "colorbar": {
              "outlinewidth": 0,
              "ticks": ""
             }
            },
            "type": "scatterternary"
           }
          ],
          "surface": [
           {
            "colorbar": {
             "outlinewidth": 0,
             "ticks": ""
            },
            "colorscale": [
             [
              0,
              "#0d0887"
             ],
             [
              0.1111111111111111,
              "#46039f"
             ],
             [
              0.2222222222222222,
              "#7201a8"
             ],
             [
              0.3333333333333333,
              "#9c179e"
             ],
             [
              0.4444444444444444,
              "#bd3786"
             ],
             [
              0.5555555555555556,
              "#d8576b"
             ],
             [
              0.6666666666666666,
              "#ed7953"
             ],
             [
              0.7777777777777778,
              "#fb9f3a"
             ],
             [
              0.8888888888888888,
              "#fdca26"
             ],
             [
              1,
              "#f0f921"
             ]
            ],
            "type": "surface"
           }
          ],
          "table": [
           {
            "cells": {
             "fill": {
              "color": "#EBF0F8"
             },
             "line": {
              "color": "white"
             }
            },
            "header": {
             "fill": {
              "color": "#C8D4E3"
             },
             "line": {
              "color": "white"
             }
            },
            "type": "table"
           }
          ]
         },
         "layout": {
          "annotationdefaults": {
           "arrowcolor": "#2a3f5f",
           "arrowhead": 0,
           "arrowwidth": 1
          },
          "autotypenumbers": "strict",
          "coloraxis": {
           "colorbar": {
            "outlinewidth": 0,
            "ticks": ""
           }
          },
          "colorscale": {
           "diverging": [
            [
             0,
             "#8e0152"
            ],
            [
             0.1,
             "#c51b7d"
            ],
            [
             0.2,
             "#de77ae"
            ],
            [
             0.3,
             "#f1b6da"
            ],
            [
             0.4,
             "#fde0ef"
            ],
            [
             0.5,
             "#f7f7f7"
            ],
            [
             0.6,
             "#e6f5d0"
            ],
            [
             0.7,
             "#b8e186"
            ],
            [
             0.8,
             "#7fbc41"
            ],
            [
             0.9,
             "#4d9221"
            ],
            [
             1,
             "#276419"
            ]
           ],
           "sequential": [
            [
             0,
             "#0d0887"
            ],
            [
             0.1111111111111111,
             "#46039f"
            ],
            [
             0.2222222222222222,
             "#7201a8"
            ],
            [
             0.3333333333333333,
             "#9c179e"
            ],
            [
             0.4444444444444444,
             "#bd3786"
            ],
            [
             0.5555555555555556,
             "#d8576b"
            ],
            [
             0.6666666666666666,
             "#ed7953"
            ],
            [
             0.7777777777777778,
             "#fb9f3a"
            ],
            [
             0.8888888888888888,
             "#fdca26"
            ],
            [
             1,
             "#f0f921"
            ]
           ],
           "sequentialminus": [
            [
             0,
             "#0d0887"
            ],
            [
             0.1111111111111111,
             "#46039f"
            ],
            [
             0.2222222222222222,
             "#7201a8"
            ],
            [
             0.3333333333333333,
             "#9c179e"
            ],
            [
             0.4444444444444444,
             "#bd3786"
            ],
            [
             0.5555555555555556,
             "#d8576b"
            ],
            [
             0.6666666666666666,
             "#ed7953"
            ],
            [
             0.7777777777777778,
             "#fb9f3a"
            ],
            [
             0.8888888888888888,
             "#fdca26"
            ],
            [
             1,
             "#f0f921"
            ]
           ]
          },
          "colorway": [
           "#636efa",
           "#EF553B",
           "#00cc96",
           "#ab63fa",
           "#FFA15A",
           "#19d3f3",
           "#FF6692",
           "#B6E880",
           "#FF97FF",
           "#FECB52"
          ],
          "font": {
           "color": "#2a3f5f"
          },
          "geo": {
           "bgcolor": "white",
           "lakecolor": "white",
           "landcolor": "#E5ECF6",
           "showlakes": true,
           "showland": true,
           "subunitcolor": "white"
          },
          "hoverlabel": {
           "align": "left"
          },
          "hovermode": "closest",
          "mapbox": {
           "style": "light"
          },
          "paper_bgcolor": "white",
          "plot_bgcolor": "#E5ECF6",
          "polar": {
           "angularaxis": {
            "gridcolor": "white",
            "linecolor": "white",
            "ticks": ""
           },
           "bgcolor": "#E5ECF6",
           "radialaxis": {
            "gridcolor": "white",
            "linecolor": "white",
            "ticks": ""
           }
          },
          "scene": {
           "xaxis": {
            "backgroundcolor": "#E5ECF6",
            "gridcolor": "white",
            "gridwidth": 2,
            "linecolor": "white",
            "showbackground": true,
            "ticks": "",
            "zerolinecolor": "white"
           },
           "yaxis": {
            "backgroundcolor": "#E5ECF6",
            "gridcolor": "white",
            "gridwidth": 2,
            "linecolor": "white",
            "showbackground": true,
            "ticks": "",
            "zerolinecolor": "white"
           },
           "zaxis": {
            "backgroundcolor": "#E5ECF6",
            "gridcolor": "white",
            "gridwidth": 2,
            "linecolor": "white",
            "showbackground": true,
            "ticks": "",
            "zerolinecolor": "white"
           }
          },
          "shapedefaults": {
           "line": {
            "color": "#2a3f5f"
           }
          },
          "ternary": {
           "aaxis": {
            "gridcolor": "white",
            "linecolor": "white",
            "ticks": ""
           },
           "baxis": {
            "gridcolor": "white",
            "linecolor": "white",
            "ticks": ""
           },
           "bgcolor": "#E5ECF6",
           "caxis": {
            "gridcolor": "white",
            "linecolor": "white",
            "ticks": ""
           }
          },
          "title": {
           "x": 0.05
          },
          "xaxis": {
           "automargin": true,
           "gridcolor": "white",
           "linecolor": "white",
           "ticks": "",
           "title": {
            "standoff": 15
           },
           "zerolinecolor": "white",
           "zerolinewidth": 2
          },
          "yaxis": {
           "automargin": true,
           "gridcolor": "white",
           "linecolor": "white",
           "ticks": "",
           "title": {
            "standoff": 15
           },
           "zerolinecolor": "white",
           "zerolinewidth": 2
          }
         }
        },
        "title": {
         "text": "Original"
        },
        "xaxis": {
         "anchor": "y",
         "domain": [
          0,
          1
         ],
         "type": "date"
        },
        "yaxis": {
         "anchor": "x",
         "domain": [
          0,
          1
         ],
         "title": {
          "text": "pair"
         }
        }
       }
      }
     },
     "metadata": {},
     "output_type": "display_data"
    },
    {
     "data": {
      "application/vnd.plotly.v1+json": {
       "config": {
        "plotlyServerURL": "https://plot.ly"
       },
       "data": [
        {
         "alignmentgroup": "True",
         "base": [
          "2022-06-17T13:17:01.094000",
          "2022-06-17T13:17:04.937039",
          "2022-06-17T13:17:08.792743",
          "2022-06-17T13:17:12.664214",
          "2022-06-17T13:17:16.519594",
          "2022-06-17T13:17:11.958000",
          "2022-06-17T13:17:16.090200",
          "2022-06-17T13:17:20.219419",
          "2022-06-17T13:17:24.332184",
          "2022-06-17T13:17:28.449674",
          "2022-06-17T13:16:59.761999",
          "2022-06-17T13:17:03.606127",
          "2022-06-17T13:17:07.464447",
          "2022-06-17T13:17:11.305746",
          "2022-06-17T13:17:15.145092",
          "2022-06-17T13:16:59.646000",
          "2022-06-17T13:17:03.492694",
          "2022-06-17T13:17:07.343748",
          "2022-06-17T13:17:11.171144",
          "2022-06-17T13:17:15.021849",
          "2022-06-17T13:17:09.696000",
          "2022-06-17T13:17:13.787916",
          "2022-06-17T13:17:17.858452",
          "2022-06-17T13:17:21.924727",
          "2022-06-17T13:17:26.022213",
          "2022-06-17T13:17:00.652999",
          "2022-06-17T13:17:04.523111",
          "2022-06-17T13:17:08.394127",
          "2022-06-17T13:17:12.266821",
          "2022-06-17T13:17:16.130223",
          "2022-06-17T13:17:01.009999",
          "2022-06-17T13:17:04.227000",
          "2022-06-17T13:17:07.455000",
          "2022-06-17T13:17:10.662000",
          "2022-06-17T13:17:13.887000",
          "2022-06-17T13:17:09.473999",
          "2022-06-17T13:17:12.875000",
          "2022-06-17T13:17:16.275000",
          "2022-06-17T13:17:19.670000",
          "2022-06-17T13:17:23.080999",
          "2022-06-17T13:16:59.776000",
          "2022-06-17T13:17:02.993999",
          "2022-06-17T13:17:06.200999",
          "2022-06-17T13:17:09.411000",
          "2022-06-17T13:17:12.632000",
          "2022-06-17T13:16:59.847000",
          "2022-06-17T13:17:03.056000",
          "2022-06-17T13:17:06.252000",
          "2022-06-17T13:17:09.452999",
          "2022-06-17T13:17:12.630000",
          "2022-06-17T13:17:09.348000",
          "2022-06-17T13:17:12.748000",
          "2022-06-17T13:17:16.145999",
          "2022-06-17T13:17:19.542000",
          "2022-06-17T13:17:22.966000",
          "2022-06-17T13:17:00.633999",
          "2022-06-17T13:17:03.868999",
          "2022-06-17T13:17:07.102000",
          "2022-06-17T13:17:10.319000",
          "2022-06-17T13:17:13.534000"
         ],
         "customdata": [
          [
           "avrora",
           0,
           3
          ],
          [
           "avrora",
           0,
           3
          ],
          [
           "avrora",
           0,
           3
          ],
          [
           "avrora",
           0,
           3
          ],
          [
           "avrora",
           0,
           3
          ],
          [
           "avrora",
           0,
           4
          ],
          [
           "avrora",
           0,
           4
          ],
          [
           "avrora",
           0,
           4
          ],
          [
           "avrora",
           0,
           4
          ],
          [
           "avrora",
           0,
           4
          ],
          [
           "avrora",
           0,
           3
          ],
          [
           "avrora",
           0,
           3
          ],
          [
           "avrora",
           0,
           3
          ],
          [
           "avrora",
           0,
           3
          ],
          [
           "avrora",
           0,
           3
          ],
          [
           "avrora",
           0,
           3
          ],
          [
           "avrora",
           0,
           3
          ],
          [
           "avrora",
           0,
           3
          ],
          [
           "avrora",
           0,
           3
          ],
          [
           "avrora",
           0,
           3
          ],
          [
           "avrora",
           0,
           4
          ],
          [
           "avrora",
           0,
           4
          ],
          [
           "avrora",
           0,
           4
          ],
          [
           "avrora",
           0,
           4
          ],
          [
           "avrora",
           0,
           4
          ],
          [
           "avrora",
           0,
           3
          ],
          [
           "avrora",
           0,
           3
          ],
          [
           "avrora",
           0,
           3
          ],
          [
           "avrora",
           0,
           3
          ],
          [
           "avrora",
           0,
           3
          ],
          [
           "avrora",
           0,
           3
          ],
          [
           "avrora",
           0,
           3
          ],
          [
           "avrora",
           0,
           3
          ],
          [
           "avrora",
           0,
           3
          ],
          [
           "avrora",
           0,
           3
          ],
          [
           "avrora",
           0,
           3
          ],
          [
           "avrora",
           0,
           3
          ],
          [
           "avrora",
           0,
           3
          ],
          [
           "avrora",
           0,
           3
          ],
          [
           "avrora",
           0,
           3
          ],
          [
           "avrora",
           0,
           3
          ],
          [
           "avrora",
           0,
           3
          ],
          [
           "avrora",
           0,
           3
          ],
          [
           "avrora",
           0,
           3
          ],
          [
           "avrora",
           0,
           3
          ],
          [
           "avrora",
           0,
           3
          ],
          [
           "avrora",
           0,
           3
          ],
          [
           "avrora",
           0,
           3
          ],
          [
           "avrora",
           0,
           3
          ],
          [
           "avrora",
           0,
           3
          ],
          [
           "avrora",
           0,
           3
          ],
          [
           "avrora",
           0,
           3
          ],
          [
           "avrora",
           0,
           3
          ],
          [
           "avrora",
           0,
           3
          ],
          [
           "avrora",
           0,
           3
          ],
          [
           "avrora",
           0,
           3
          ],
          [
           "avrora",
           0,
           3
          ],
          [
           "avrora",
           0,
           3
          ],
          [
           "avrora",
           0,
           3
          ],
          [
           "avrora",
           0,
           3
          ]
         ],
         "hovertemplate": "iteration_start=%{base}<br>iteration_end=%{x}<br>pair=%{y}<br>benchmark=%{customdata[0]}<br>runid=%{customdata[1]}<br>iteration_time=%{customdata[2]}<br>iteration=%{marker.color}<extra></extra>",
         "legendgroup": "",
         "marker": {
          "color": [
           50,
           51,
           52,
           53,
           54,
           50,
           51,
           52,
           53,
           54,
           50,
           51,
           52,
           53,
           54,
           50,
           51,
           52,
           53,
           54,
           50,
           51,
           52,
           53,
           54,
           50,
           51,
           52,
           53,
           54,
           50,
           51,
           52,
           53,
           54,
           50,
           51,
           52,
           53,
           54,
           50,
           51,
           52,
           53,
           54,
           50,
           51,
           52,
           53,
           54,
           50,
           51,
           52,
           53,
           54,
           50,
           51,
           52,
           53,
           54
          ],
          "coloraxis": "coloraxis",
          "pattern": {
           "shape": ""
          }
         },
         "name": "",
         "offsetgroup": "",
         "orientation": "h",
         "showlegend": false,
         "textposition": "auto",
         "type": "bar",
         "x": [
          3822,
          3838,
          3848,
          3866,
          3844,
          4099,
          4129,
          4120,
          4100,
          4110,
          3840,
          3835,
          3853,
          3830,
          3831,
          3838,
          3840,
          3842,
          3814,
          3848,
          4049,
          4089,
          4057,
          4058,
          4095,
          3852,
          3864,
          3862,
          3866,
          3851,
          3200,
          3210,
          3220,
          3198,
          3217,
          3408,
          3393,
          3381,
          3387,
          3401,
          3191,
          3210,
          3199,
          3202,
          3212,
          3183,
          3201,
          3188,
          3191,
          3169,
          3361,
          3390,
          3390,
          3387,
          3416,
          3199,
          3226,
          3224,
          3210,
          3207
         ],
         "xaxis": "x",
         "y": [
          "B",
          "B",
          "B",
          "B",
          "B",
          "B",
          "B",
          "B",
          "B",
          "B",
          "B",
          "B",
          "B",
          "B",
          "B",
          "B",
          "B",
          "B",
          "B",
          "B",
          "B",
          "B",
          "B",
          "B",
          "B",
          "B",
          "B",
          "B",
          "B",
          "B",
          "A",
          "A",
          "A",
          "A",
          "A",
          "A",
          "A",
          "A",
          "A",
          "A",
          "A",
          "A",
          "A",
          "A",
          "A",
          "A",
          "A",
          "A",
          "A",
          "A",
          "A",
          "A",
          "A",
          "A",
          "A",
          "A",
          "A",
          "A",
          "A",
          "A"
         ],
         "yaxis": "y"
        }
       ],
       "layout": {
        "barmode": "overlay",
        "coloraxis": {
         "colorbar": {
          "title": {
           "text": "iteration"
          }
         },
         "colorscale": [
          [
           0,
           "#0d0887"
          ],
          [
           0.1111111111111111,
           "#46039f"
          ],
          [
           0.2222222222222222,
           "#7201a8"
          ],
          [
           0.3333333333333333,
           "#9c179e"
          ],
          [
           0.4444444444444444,
           "#bd3786"
          ],
          [
           0.5555555555555556,
           "#d8576b"
          ],
          [
           0.6666666666666666,
           "#ed7953"
          ],
          [
           0.7777777777777778,
           "#fb9f3a"
          ],
          [
           0.8888888888888888,
           "#fdca26"
          ],
          [
           1,
           "#f0f921"
          ]
         ]
        },
        "legend": {
         "tracegroupgap": 0
        },
        "template": {
         "data": {
          "bar": [
           {
            "error_x": {
             "color": "#2a3f5f"
            },
            "error_y": {
             "color": "#2a3f5f"
            },
            "marker": {
             "line": {
              "color": "#E5ECF6",
              "width": 0.5
             },
             "pattern": {
              "fillmode": "overlay",
              "size": 10,
              "solidity": 0.2
             }
            },
            "type": "bar"
           }
          ],
          "barpolar": [
           {
            "marker": {
             "line": {
              "color": "#E5ECF6",
              "width": 0.5
             },
             "pattern": {
              "fillmode": "overlay",
              "size": 10,
              "solidity": 0.2
             }
            },
            "type": "barpolar"
           }
          ],
          "carpet": [
           {
            "aaxis": {
             "endlinecolor": "#2a3f5f",
             "gridcolor": "white",
             "linecolor": "white",
             "minorgridcolor": "white",
             "startlinecolor": "#2a3f5f"
            },
            "baxis": {
             "endlinecolor": "#2a3f5f",
             "gridcolor": "white",
             "linecolor": "white",
             "minorgridcolor": "white",
             "startlinecolor": "#2a3f5f"
            },
            "type": "carpet"
           }
          ],
          "choropleth": [
           {
            "colorbar": {
             "outlinewidth": 0,
             "ticks": ""
            },
            "type": "choropleth"
           }
          ],
          "contour": [
           {
            "colorbar": {
             "outlinewidth": 0,
             "ticks": ""
            },
            "colorscale": [
             [
              0,
              "#0d0887"
             ],
             [
              0.1111111111111111,
              "#46039f"
             ],
             [
              0.2222222222222222,
              "#7201a8"
             ],
             [
              0.3333333333333333,
              "#9c179e"
             ],
             [
              0.4444444444444444,
              "#bd3786"
             ],
             [
              0.5555555555555556,
              "#d8576b"
             ],
             [
              0.6666666666666666,
              "#ed7953"
             ],
             [
              0.7777777777777778,
              "#fb9f3a"
             ],
             [
              0.8888888888888888,
              "#fdca26"
             ],
             [
              1,
              "#f0f921"
             ]
            ],
            "type": "contour"
           }
          ],
          "contourcarpet": [
           {
            "colorbar": {
             "outlinewidth": 0,
             "ticks": ""
            },
            "type": "contourcarpet"
           }
          ],
          "heatmap": [
           {
            "colorbar": {
             "outlinewidth": 0,
             "ticks": ""
            },
            "colorscale": [
             [
              0,
              "#0d0887"
             ],
             [
              0.1111111111111111,
              "#46039f"
             ],
             [
              0.2222222222222222,
              "#7201a8"
             ],
             [
              0.3333333333333333,
              "#9c179e"
             ],
             [
              0.4444444444444444,
              "#bd3786"
             ],
             [
              0.5555555555555556,
              "#d8576b"
             ],
             [
              0.6666666666666666,
              "#ed7953"
             ],
             [
              0.7777777777777778,
              "#fb9f3a"
             ],
             [
              0.8888888888888888,
              "#fdca26"
             ],
             [
              1,
              "#f0f921"
             ]
            ],
            "type": "heatmap"
           }
          ],
          "heatmapgl": [
           {
            "colorbar": {
             "outlinewidth": 0,
             "ticks": ""
            },
            "colorscale": [
             [
              0,
              "#0d0887"
             ],
             [
              0.1111111111111111,
              "#46039f"
             ],
             [
              0.2222222222222222,
              "#7201a8"
             ],
             [
              0.3333333333333333,
              "#9c179e"
             ],
             [
              0.4444444444444444,
              "#bd3786"
             ],
             [
              0.5555555555555556,
              "#d8576b"
             ],
             [
              0.6666666666666666,
              "#ed7953"
             ],
             [
              0.7777777777777778,
              "#fb9f3a"
             ],
             [
              0.8888888888888888,
              "#fdca26"
             ],
             [
              1,
              "#f0f921"
             ]
            ],
            "type": "heatmapgl"
           }
          ],
          "histogram": [
           {
            "marker": {
             "pattern": {
              "fillmode": "overlay",
              "size": 10,
              "solidity": 0.2
             }
            },
            "type": "histogram"
           }
          ],
          "histogram2d": [
           {
            "colorbar": {
             "outlinewidth": 0,
             "ticks": ""
            },
            "colorscale": [
             [
              0,
              "#0d0887"
             ],
             [
              0.1111111111111111,
              "#46039f"
             ],
             [
              0.2222222222222222,
              "#7201a8"
             ],
             [
              0.3333333333333333,
              "#9c179e"
             ],
             [
              0.4444444444444444,
              "#bd3786"
             ],
             [
              0.5555555555555556,
              "#d8576b"
             ],
             [
              0.6666666666666666,
              "#ed7953"
             ],
             [
              0.7777777777777778,
              "#fb9f3a"
             ],
             [
              0.8888888888888888,
              "#fdca26"
             ],
             [
              1,
              "#f0f921"
             ]
            ],
            "type": "histogram2d"
           }
          ],
          "histogram2dcontour": [
           {
            "colorbar": {
             "outlinewidth": 0,
             "ticks": ""
            },
            "colorscale": [
             [
              0,
              "#0d0887"
             ],
             [
              0.1111111111111111,
              "#46039f"
             ],
             [
              0.2222222222222222,
              "#7201a8"
             ],
             [
              0.3333333333333333,
              "#9c179e"
             ],
             [
              0.4444444444444444,
              "#bd3786"
             ],
             [
              0.5555555555555556,
              "#d8576b"
             ],
             [
              0.6666666666666666,
              "#ed7953"
             ],
             [
              0.7777777777777778,
              "#fb9f3a"
             ],
             [
              0.8888888888888888,
              "#fdca26"
             ],
             [
              1,
              "#f0f921"
             ]
            ],
            "type": "histogram2dcontour"
           }
          ],
          "mesh3d": [
           {
            "colorbar": {
             "outlinewidth": 0,
             "ticks": ""
            },
            "type": "mesh3d"
           }
          ],
          "parcoords": [
           {
            "line": {
             "colorbar": {
              "outlinewidth": 0,
              "ticks": ""
             }
            },
            "type": "parcoords"
           }
          ],
          "pie": [
           {
            "automargin": true,
            "type": "pie"
           }
          ],
          "scatter": [
           {
            "fillpattern": {
             "fillmode": "overlay",
             "size": 10,
             "solidity": 0.2
            },
            "type": "scatter"
           }
          ],
          "scatter3d": [
           {
            "line": {
             "colorbar": {
              "outlinewidth": 0,
              "ticks": ""
             }
            },
            "marker": {
             "colorbar": {
              "outlinewidth": 0,
              "ticks": ""
             }
            },
            "type": "scatter3d"
           }
          ],
          "scattercarpet": [
           {
            "marker": {
             "colorbar": {
              "outlinewidth": 0,
              "ticks": ""
             }
            },
            "type": "scattercarpet"
           }
          ],
          "scattergeo": [
           {
            "marker": {
             "colorbar": {
              "outlinewidth": 0,
              "ticks": ""
             }
            },
            "type": "scattergeo"
           }
          ],
          "scattergl": [
           {
            "marker": {
             "colorbar": {
              "outlinewidth": 0,
              "ticks": ""
             }
            },
            "type": "scattergl"
           }
          ],
          "scattermapbox": [
           {
            "marker": {
             "colorbar": {
              "outlinewidth": 0,
              "ticks": ""
             }
            },
            "type": "scattermapbox"
           }
          ],
          "scatterpolar": [
           {
            "marker": {
             "colorbar": {
              "outlinewidth": 0,
              "ticks": ""
             }
            },
            "type": "scatterpolar"
           }
          ],
          "scatterpolargl": [
           {
            "marker": {
             "colorbar": {
              "outlinewidth": 0,
              "ticks": ""
             }
            },
            "type": "scatterpolargl"
           }
          ],
          "scatterternary": [
           {
            "marker": {
             "colorbar": {
              "outlinewidth": 0,
              "ticks": ""
             }
            },
            "type": "scatterternary"
           }
          ],
          "surface": [
           {
            "colorbar": {
             "outlinewidth": 0,
             "ticks": ""
            },
            "colorscale": [
             [
              0,
              "#0d0887"
             ],
             [
              0.1111111111111111,
              "#46039f"
             ],
             [
              0.2222222222222222,
              "#7201a8"
             ],
             [
              0.3333333333333333,
              "#9c179e"
             ],
             [
              0.4444444444444444,
              "#bd3786"
             ],
             [
              0.5555555555555556,
              "#d8576b"
             ],
             [
              0.6666666666666666,
              "#ed7953"
             ],
             [
              0.7777777777777778,
              "#fb9f3a"
             ],
             [
              0.8888888888888888,
              "#fdca26"
             ],
             [
              1,
              "#f0f921"
             ]
            ],
            "type": "surface"
           }
          ],
          "table": [
           {
            "cells": {
             "fill": {
              "color": "#EBF0F8"
             },
             "line": {
              "color": "white"
             }
            },
            "header": {
             "fill": {
              "color": "#C8D4E3"
             },
             "line": {
              "color": "white"
             }
            },
            "type": "table"
           }
          ]
         },
         "layout": {
          "annotationdefaults": {
           "arrowcolor": "#2a3f5f",
           "arrowhead": 0,
           "arrowwidth": 1
          },
          "autotypenumbers": "strict",
          "coloraxis": {
           "colorbar": {
            "outlinewidth": 0,
            "ticks": ""
           }
          },
          "colorscale": {
           "diverging": [
            [
             0,
             "#8e0152"
            ],
            [
             0.1,
             "#c51b7d"
            ],
            [
             0.2,
             "#de77ae"
            ],
            [
             0.3,
             "#f1b6da"
            ],
            [
             0.4,
             "#fde0ef"
            ],
            [
             0.5,
             "#f7f7f7"
            ],
            [
             0.6,
             "#e6f5d0"
            ],
            [
             0.7,
             "#b8e186"
            ],
            [
             0.8,
             "#7fbc41"
            ],
            [
             0.9,
             "#4d9221"
            ],
            [
             1,
             "#276419"
            ]
           ],
           "sequential": [
            [
             0,
             "#0d0887"
            ],
            [
             0.1111111111111111,
             "#46039f"
            ],
            [
             0.2222222222222222,
             "#7201a8"
            ],
            [
             0.3333333333333333,
             "#9c179e"
            ],
            [
             0.4444444444444444,
             "#bd3786"
            ],
            [
             0.5555555555555556,
             "#d8576b"
            ],
            [
             0.6666666666666666,
             "#ed7953"
            ],
            [
             0.7777777777777778,
             "#fb9f3a"
            ],
            [
             0.8888888888888888,
             "#fdca26"
            ],
            [
             1,
             "#f0f921"
            ]
           ],
           "sequentialminus": [
            [
             0,
             "#0d0887"
            ],
            [
             0.1111111111111111,
             "#46039f"
            ],
            [
             0.2222222222222222,
             "#7201a8"
            ],
            [
             0.3333333333333333,
             "#9c179e"
            ],
            [
             0.4444444444444444,
             "#bd3786"
            ],
            [
             0.5555555555555556,
             "#d8576b"
            ],
            [
             0.6666666666666666,
             "#ed7953"
            ],
            [
             0.7777777777777778,
             "#fb9f3a"
            ],
            [
             0.8888888888888888,
             "#fdca26"
            ],
            [
             1,
             "#f0f921"
            ]
           ]
          },
          "colorway": [
           "#636efa",
           "#EF553B",
           "#00cc96",
           "#ab63fa",
           "#FFA15A",
           "#19d3f3",
           "#FF6692",
           "#B6E880",
           "#FF97FF",
           "#FECB52"
          ],
          "font": {
           "color": "#2a3f5f"
          },
          "geo": {
           "bgcolor": "white",
           "lakecolor": "white",
           "landcolor": "#E5ECF6",
           "showlakes": true,
           "showland": true,
           "subunitcolor": "white"
          },
          "hoverlabel": {
           "align": "left"
          },
          "hovermode": "closest",
          "mapbox": {
           "style": "light"
          },
          "paper_bgcolor": "white",
          "plot_bgcolor": "#E5ECF6",
          "polar": {
           "angularaxis": {
            "gridcolor": "white",
            "linecolor": "white",
            "ticks": ""
           },
           "bgcolor": "#E5ECF6",
           "radialaxis": {
            "gridcolor": "white",
            "linecolor": "white",
            "ticks": ""
           }
          },
          "scene": {
           "xaxis": {
            "backgroundcolor": "#E5ECF6",
            "gridcolor": "white",
            "gridwidth": 2,
            "linecolor": "white",
            "showbackground": true,
            "ticks": "",
            "zerolinecolor": "white"
           },
           "yaxis": {
            "backgroundcolor": "#E5ECF6",
            "gridcolor": "white",
            "gridwidth": 2,
            "linecolor": "white",
            "showbackground": true,
            "ticks": "",
            "zerolinecolor": "white"
           },
           "zaxis": {
            "backgroundcolor": "#E5ECF6",
            "gridcolor": "white",
            "gridwidth": 2,
            "linecolor": "white",
            "showbackground": true,
            "ticks": "",
            "zerolinecolor": "white"
           }
          },
          "shapedefaults": {
           "line": {
            "color": "#2a3f5f"
           }
          },
          "ternary": {
           "aaxis": {
            "gridcolor": "white",
            "linecolor": "white",
            "ticks": ""
           },
           "baxis": {
            "gridcolor": "white",
            "linecolor": "white",
            "ticks": ""
           },
           "bgcolor": "#E5ECF6",
           "caxis": {
            "gridcolor": "white",
            "linecolor": "white",
            "ticks": ""
           }
          },
          "title": {
           "x": 0.05
          },
          "xaxis": {
           "automargin": true,
           "gridcolor": "white",
           "linecolor": "white",
           "ticks": "",
           "title": {
            "standoff": 15
           },
           "zerolinecolor": "white",
           "zerolinewidth": 2
          },
          "yaxis": {
           "automargin": true,
           "gridcolor": "white",
           "linecolor": "white",
           "ticks": "",
           "title": {
            "standoff": 15
           },
           "zerolinecolor": "white",
           "zerolinewidth": 2
          }
         }
        },
        "title": {
         "text": "Slowdown of B by 20%"
        },
        "xaxis": {
         "anchor": "y",
         "domain": [
          0,
          1
         ],
         "type": "date"
        },
        "yaxis": {
         "anchor": "x",
         "domain": [
          0,
          1
         ],
         "title": {
          "text": "pair"
         }
        }
       }
      }
     },
     "metadata": {},
     "output_type": "display_data"
    }
   ],
   "source": [
    "df = df_prep[\n",
    "    (\n",
    "        (df_prep[RF.suite].isin([\"dacapo\"]))\n",
    "        & (df_prep[RF.benchmark].isin([\"avrora\"]))\n",
    "        & (df_prep[RF.runid] == 0)\n",
    "        & (df_prep[RF.type].isin([\"duet\"]))\n",
    "        & (df_prep[AF.date] == df_prep[AF.date].iloc[0])\n",
    "        # & (df_prep[RF.pair] == \"B\")\n",
    "    )\n",
    "]\n",
    "df = df[df[RF.iteration] < df[RF.iteration].min() + 5]\n",
    "\n",
    "# display(convert_ns(df)[ARTIFACT_COL + ITER_ID_COL + TIME_D_COL])\n",
    "display(\n",
    "    px.timeline(\n",
    "        df,\n",
    "        x_start=RF.start,\n",
    "        x_end=RF.end,\n",
    "        y=RF.pair,\n",
    "        color=RF.iteration,\n",
    "        hover_data=[RF.benchmark, RF.pair, RF.runid, RF.time],\n",
    "        title=\"Original\",\n",
    "    )\n",
    ")\n",
    "\n",
    "slowdown = 0.2\n",
    "df = alter_score(df, slowdown)\n",
    "df = convert_ns(df)\n",
    "# display(df[ARTIFACT_COL + ITER_ID_COL + TIME_D_COL])\n",
    "\n",
    "px.timeline(\n",
    "    df,\n",
    "    x_start=RF.start,\n",
    "    x_end=RF.end,\n",
    "    y=RF.pair,\n",
    "    color=RF.iteration,\n",
    "    hover_data=[RF.benchmark, RF.pair, RF.runid, RF.time],\n",
    "    title=f\"Slowdown of B by {(slowdown * 100):.0f}%\",\n",
    ")"
   ]
  },
  {
   "attachments": {},
   "cell_type": "markdown",
   "metadata": {},
   "source": [
    "### Computed CI on 10% slowdown"
   ]
  },
  {
   "cell_type": "code",
   "execution_count": 3,
   "metadata": {},
   "outputs": [
    {
     "data": {
      "application/vnd.plotly.v1+json": {
       "config": {
        "plotlyServerURL": "https://plot.ly"
       },
       "data": [
        {
         "error_y": {
          "array": [
           522387250.7149246,
           81277963.63205421,
           132609974.87750946,
           268705247.4237746,
           27535140.817804366,
           33680815.52795571,
           59590368.77532962,
           24235458.168251902,
           131855724.89866245,
           43826725.85905224,
           188433598.0044766,
           47735471.90680398,
           46992602.81474656,
           131903285.3138429,
           1025247219.1955557,
           259210464.63973308,
           112096439.01136115,
           22639446.518388793,
           253887200.1596148,
           6540964.510349065,
           86631965.4356004,
           3195904.794732604,
           21260351.96419786,
           26206228.51292889
          ]
         },
         "hovertemplate": "type=seqn<br>environment=AWS:t3.medium<br>benchmark=%{x}<br>mid=%{y}<extra></extra>",
         "legendgroup": "seqn",
         "marker": {
          "color": "#636efa",
          "symbol": "circle"
         },
         "mode": "markers",
         "name": "seqn",
         "orientation": "v",
         "showlegend": true,
         "type": "scatter",
         "x": [
          "akka-uct",
          "als",
          "chi-square",
          "db-shootout",
          "dec-tree",
          "dotty",
          "finagle-chirper",
          "finagle-http",
          "fj-kmeans",
          "future-genetic",
          "gauss-mix",
          "log-regression",
          "mnemonics",
          "movie-lens",
          "naive-bayes",
          "page-rank",
          "par-mnemonics",
          "philosophers",
          "reactors",
          "rx-scrabble",
          "scala-doku",
          "scala-kmeans",
          "scala-stm-bench7",
          "scrabble"
         ],
         "xaxis": "x",
         "y": [
          -3037098414.482769,
          -1372889332.2605085,
          -370357937.47754985,
          -2278022545.387587,
          -200606487.52381334,
          -211811088.40195325,
          -230294868.4395881,
          -253596808.40358678,
          -1929275114.4908834,
          -477457356.51079327,
          -864635617.9811451,
          -212817800.3267631,
          -695769359.2893066,
          -1649233674.27695,
          -6358465720.267788,
          -1478460819.4352853,
          -625618550.4402554,
          -187282922.0278368,
          -2433675796.80525,
          -32409556.356222518,
          -659008951.3824264,
          -34172257.263735,
          -235433557.52240407,
          -180527988.85418063
         ],
         "yaxis": "y"
        },
        {
         "error_y": {
          "array": [
           485041806.79220533,
           17149920.229456425,
           20032098.845390752,
           72636283.02031308,
           8715029.857919186,
           6307368.339427248,
           19911444.63199705,
           8429627.764010519,
           126208939.97070155,
           9297288.726668522,
           73757752.07912391,
           7689496.167759638,
           95068119.26421359,
           43272674.98297453,
           439492912.7543144,
           49084885.691874295,
           45699808.84901437,
           29507623.338211767,
           302581589.7594147,
           2492878.1921951855,
           636771518.6164734,
           1976638.0881541595,
           9875342.193084978,
           22506859.32106594
          ]
         },
         "hovertemplate": "type=seqn<br>environment=bare-metal<br>benchmark=%{x}<br>mid=%{y}<extra></extra>",
         "legendgroup": "seqn",
         "marker": {
          "color": "#636efa",
          "symbol": "circle"
         },
         "mode": "markers",
         "name": "seqn",
         "orientation": "v",
         "showlegend": false,
         "type": "scatter",
         "x": [
          "akka-uct",
          "als",
          "chi-square",
          "db-shootout",
          "dec-tree",
          "dotty",
          "finagle-chirper",
          "finagle-http",
          "fj-kmeans",
          "future-genetic",
          "gauss-mix",
          "log-regression",
          "mnemonics",
          "movie-lens",
          "naive-bayes",
          "page-rank",
          "par-mnemonics",
          "philosophers",
          "reactors",
          "rx-scrabble",
          "scala-doku",
          "scala-kmeans",
          "scala-stm-bench7",
          "scrabble"
         ],
         "xaxis": "x2",
         "y": [
          -655504712.1284025,
          -358352983.28236085,
          -100937623.14443089,
          -616501553.4091415,
          -78001471.14970168,
          -104754336.5479977,
          -166371726.59370446,
          -183860637.21080554,
          -499815577.45766795,
          -163992346.21117496,
          -312139685.0408117,
          -68415355.18432774,
          -591118830.1319386,
          -796733195.659042,
          -1862011727.9964347,
          -474001587.94123137,
          -471249184.1854224,
          -112356019.25232384,
          -1118804417.3478503,
          -18223214.135884296,
          -331245759.106714,
          -24021864.76441816,
          -107632829.73640743,
          -54470577.03269438
         ],
         "yaxis": "y2"
        },
        {
         "error_y": {
          "array": [
           3944493335.832796,
           208360298.81220752,
           117293232.48861535,
           941862682.5261906,
           179869319.46567887,
           43045172.021277726,
           177939053.0245198,
           169813603.57477176,
           641694484.9469881,
           107057395.9370706,
           575273523.5760535,
           139819882.46301407,
           268140759.3957692,
           1535937422.9757445,
           5716806953.947199,
           1336446527.357037,
           504319740.55354404,
           134459444.39740402,
           1263360453.5772867,
           18843895.284484647,
           446922933.8905873,
           19431575.388573,
           286430855.02076256,
           167409114.82750154
          ]
         },
         "hovertemplate": "type=seqn<br>environment=teaching<br>benchmark=%{x}<br>mid=%{y}<extra></extra>",
         "legendgroup": "seqn",
         "marker": {
          "color": "#636efa",
          "symbol": "circle"
         },
         "mode": "markers",
         "name": "seqn",
         "orientation": "v",
         "showlegend": false,
         "type": "scatter",
         "x": [
          "akka-uct",
          "als",
          "chi-square",
          "db-shootout",
          "dec-tree",
          "dotty",
          "finagle-chirper",
          "finagle-http",
          "fj-kmeans",
          "future-genetic",
          "gauss-mix",
          "log-regression",
          "mnemonics",
          "movie-lens",
          "naive-bayes",
          "page-rank",
          "par-mnemonics",
          "philosophers",
          "reactors",
          "rx-scrabble",
          "scala-doku",
          "scala-kmeans",
          "scala-stm-bench7",
          "scrabble"
         ],
         "xaxis": "x3",
         "y": [
          -7526728149.566475,
          -802961212.7982569,
          -99621728.92482953,
          -2931464577.70309,
          -362909729.5716459,
          -155798553.2374112,
          -792708246.0350826,
          -693461754.4458703,
          -1162001251.8062603,
          -307451966.2211236,
          -680635149.8684324,
          -256027775.53400588,
          -714704607.6811997,
          -1197965660.7039053,
          766093287.461689,
          -1008885203.2018538,
          -1132637244.1096945,
          -75224424.08304656,
          -2791022093.990405,
          -48227406.09047571,
          -1223871892.184026,
          -41269734.29249769,
          -461732589.9287702,
          -219058047.9284866
         ],
         "yaxis": "y3"
        },
        {
         "error_y": {
          "array": [
           1543187907.806881,
           198785733.4948907,
           177014465.6255082,
           649061066.3376031,
           49958000.92195025,
           206695363.71202227,
           144834234.81339765,
           44589725.13969779,
           801248950.975141,
           34373551.34952593,
           210782050.7901348,
           41635715.14324418,
           165938498.89765435,
           319167026.0930364,
           1458171241.732894,
           410079387.8280184,
           156001268.7146784,
           35895985.323550165,
           647888449.8486996,
           9444550.803521112,
           376664002.6475283,
           4222235.113675948,
           30110175.010212123,
           39210892.39983627
          ]
         },
         "hovertemplate": "type=duet<br>environment=AWS:t3.medium<br>benchmark=%{x}<br>mid=%{y}<extra></extra>",
         "legendgroup": "duet",
         "marker": {
          "color": "#EF553B",
          "symbol": "circle"
         },
         "mode": "markers",
         "name": "duet",
         "orientation": "v",
         "showlegend": true,
         "type": "scatter",
         "x": [
          "akka-uct",
          "als",
          "chi-square",
          "db-shootout",
          "dec-tree",
          "dotty",
          "finagle-chirper",
          "finagle-http",
          "fj-kmeans",
          "future-genetic",
          "gauss-mix",
          "log-regression",
          "mnemonics",
          "movie-lens",
          "naive-bayes",
          "page-rank",
          "par-mnemonics",
          "philosophers",
          "reactors",
          "rx-scrabble",
          "scala-doku",
          "scala-kmeans",
          "scala-stm-bench7",
          "scrabble"
         ],
         "xaxis": "x",
         "y": [
          -6617530395.011255,
          -2780034068.6806054,
          -723766428.1201388,
          -3728065534.6387887,
          -491152128.0121614,
          -530304700.86676455,
          -797644786.2035797,
          -618610666.3708462,
          -3834685792.1698346,
          -1167628102.4862008,
          -1735543138.2603145,
          -399700416.0865989,
          -1218738890.826325,
          -3308251841.8587418,
          -12439988351.569298,
          -2905456081.911087,
          -1137417521.3400416,
          -187568414.51441818,
          -4531016084.407077,
          -54384760.24745099,
          -1518918315.468533,
          -56799593.99629958,
          -412299974.92773855,
          -422427519.5655469
         ],
         "yaxis": "y"
        },
        {
         "error_y": {
          "array": [
           798722367.2346861,
           22379679.682441473,
           32768501.628091194,
           236130592.84946305,
           6148520.172260568,
           14253232.731769323,
           16869868.749408722,
           30021311.38097003,
           294231738.3376469,
           18577705.200828075,
           54753523.725598276,
           16730297.180292696,
           72099204.74376553,
           34938368.73575568,
           363442284.9289942,
           102187682.28654128,
           40637571.87487608,
           10395753.359379753,
           364592457.1802468,
           2560243.2335931137,
           735552352.1135705,
           1713663.2479326911,
           19265426.640374675
          ]
         },
         "hovertemplate": "type=duet<br>environment=bare-metal<br>benchmark=%{x}<br>mid=%{y}<extra></extra>",
         "legendgroup": "duet",
         "marker": {
          "color": "#EF553B",
          "symbol": "circle"
         },
         "mode": "markers",
         "name": "duet",
         "orientation": "v",
         "showlegend": false,
         "type": "scatter",
         "x": [
          "akka-uct",
          "als",
          "chi-square",
          "db-shootout",
          "dec-tree",
          "dotty",
          "finagle-chirper",
          "finagle-http",
          "fj-kmeans",
          "future-genetic",
          "gauss-mix",
          "log-regression",
          "mnemonics",
          "movie-lens",
          "naive-bayes",
          "page-rank",
          "par-mnemonics",
          "philosophers",
          "reactors",
          "rx-scrabble",
          "scala-doku",
          "scala-kmeans",
          "scrabble"
         ],
         "xaxis": "x2",
         "y": [
          -1948426396.7810476,
          -593666165.5286016,
          -148003241.4920534,
          -1094523653.3295584,
          -116374598.44288537,
          -121926153.05365914,
          -289179063.99799454,
          -388730541.8641195,
          -1140284441.0110412,
          -174881653.45699927,
          -346566012.283084,
          -99661511.5766053,
          -561854809.7654047,
          -1128241076.256465,
          -2804780926.885689,
          -740724412.0134089,
          -448564728.5987844,
          -106559270.6178956,
          -1382745949.681157,
          -19942834.65405534,
          -1286706326.3011966,
          -24956432.175865214,
          -104201049.31996445
         ],
         "yaxis": "y2"
        },
        {
         "error_y": {
          "array": [
           1778683918.1042352,
           297796845.9348006,
           102704322.3396087,
           1180622027.537498,
           49357628.01569694,
           47157813.76526506,
           150190290.9825011,
           209035402.30409396,
           1053626579.2413657,
           122852413.65993491,
           295216128.67633903,
           78270879.38021737,
           96650849.7673657,
           220324909.1065948,
           1501344766.8250089,
           403151556.1360562,
           125158430.66467369,
           53411330.86421846,
           1270140758.8840218,
           9647657.823044952,
           306354753.30012065,
           21184323.182050858,
           58451695.66404143
          ]
         },
         "hovertemplate": "type=duet<br>environment=teaching<br>benchmark=%{x}<br>mid=%{y}<extra></extra>",
         "legendgroup": "duet",
         "marker": {
          "color": "#EF553B",
          "symbol": "circle"
         },
         "mode": "markers",
         "name": "duet",
         "orientation": "v",
         "showlegend": false,
         "type": "scatter",
         "x": [
          "akka-uct",
          "als",
          "chi-square",
          "db-shootout",
          "dec-tree",
          "dotty",
          "finagle-chirper",
          "finagle-http",
          "fj-kmeans",
          "future-genetic",
          "gauss-mix",
          "log-regression",
          "mnemonics",
          "movie-lens",
          "naive-bayes",
          "page-rank",
          "par-mnemonics",
          "philosophers",
          "reactors",
          "rx-scrabble",
          "scala-doku",
          "scala-kmeans",
          "scrabble"
         ],
         "xaxis": "x3",
         "y": [
          -5108210870.698683,
          -1582641729.2275136,
          -247302903.37291506,
          -2219931816.653691,
          -348549907.2178045,
          -254967006.76031935,
          -1055081246.9114013,
          -957913105.8100156,
          -2097812310.9151194,
          -321252471.63372076,
          -938359437.4207548,
          -303745936.2739557,
          -829914885.8331355,
          -2872236366.835994,
          -6223709791.083324,
          -1636822685.1697602,
          -766629560.8221971,
          -234012877.31983197,
          -3060571491.2629175,
          -37798459.710731566,
          -773226998.4831934,
          -42744333.72106098,
          -209003585.02293554
         ],
         "yaxis": "y3"
        }
       ],
       "layout": {
        "annotations": [
         {
          "font": {},
          "showarrow": false,
          "text": "environment=AWS:t3.medium",
          "x": 0.15999999999999998,
          "xanchor": "center",
          "xref": "paper",
          "y": 1,
          "yanchor": "bottom",
          "yref": "paper"
         },
         {
          "font": {},
          "showarrow": false,
          "text": "environment=bare-metal",
          "x": 0.49999999999999994,
          "xanchor": "center",
          "xref": "paper",
          "y": 1,
          "yanchor": "bottom",
          "yref": "paper"
         },
         {
          "font": {},
          "showarrow": false,
          "text": "environment=teaching",
          "x": 0.8399999999999999,
          "xanchor": "center",
          "xref": "paper",
          "y": 1,
          "yanchor": "bottom",
          "yref": "paper"
         }
        ],
        "legend": {
         "title": {
          "text": "type"
         },
         "tracegroupgap": 0
        },
        "template": {
         "data": {
          "bar": [
           {
            "error_x": {
             "color": "#2a3f5f"
            },
            "error_y": {
             "color": "#2a3f5f"
            },
            "marker": {
             "line": {
              "color": "#E5ECF6",
              "width": 0.5
             },
             "pattern": {
              "fillmode": "overlay",
              "size": 10,
              "solidity": 0.2
             }
            },
            "type": "bar"
           }
          ],
          "barpolar": [
           {
            "marker": {
             "line": {
              "color": "#E5ECF6",
              "width": 0.5
             },
             "pattern": {
              "fillmode": "overlay",
              "size": 10,
              "solidity": 0.2
             }
            },
            "type": "barpolar"
           }
          ],
          "carpet": [
           {
            "aaxis": {
             "endlinecolor": "#2a3f5f",
             "gridcolor": "white",
             "linecolor": "white",
             "minorgridcolor": "white",
             "startlinecolor": "#2a3f5f"
            },
            "baxis": {
             "endlinecolor": "#2a3f5f",
             "gridcolor": "white",
             "linecolor": "white",
             "minorgridcolor": "white",
             "startlinecolor": "#2a3f5f"
            },
            "type": "carpet"
           }
          ],
          "choropleth": [
           {
            "colorbar": {
             "outlinewidth": 0,
             "ticks": ""
            },
            "type": "choropleth"
           }
          ],
          "contour": [
           {
            "colorbar": {
             "outlinewidth": 0,
             "ticks": ""
            },
            "colorscale": [
             [
              0,
              "#0d0887"
             ],
             [
              0.1111111111111111,
              "#46039f"
             ],
             [
              0.2222222222222222,
              "#7201a8"
             ],
             [
              0.3333333333333333,
              "#9c179e"
             ],
             [
              0.4444444444444444,
              "#bd3786"
             ],
             [
              0.5555555555555556,
              "#d8576b"
             ],
             [
              0.6666666666666666,
              "#ed7953"
             ],
             [
              0.7777777777777778,
              "#fb9f3a"
             ],
             [
              0.8888888888888888,
              "#fdca26"
             ],
             [
              1,
              "#f0f921"
             ]
            ],
            "type": "contour"
           }
          ],
          "contourcarpet": [
           {
            "colorbar": {
             "outlinewidth": 0,
             "ticks": ""
            },
            "type": "contourcarpet"
           }
          ],
          "heatmap": [
           {
            "colorbar": {
             "outlinewidth": 0,
             "ticks": ""
            },
            "colorscale": [
             [
              0,
              "#0d0887"
             ],
             [
              0.1111111111111111,
              "#46039f"
             ],
             [
              0.2222222222222222,
              "#7201a8"
             ],
             [
              0.3333333333333333,
              "#9c179e"
             ],
             [
              0.4444444444444444,
              "#bd3786"
             ],
             [
              0.5555555555555556,
              "#d8576b"
             ],
             [
              0.6666666666666666,
              "#ed7953"
             ],
             [
              0.7777777777777778,
              "#fb9f3a"
             ],
             [
              0.8888888888888888,
              "#fdca26"
             ],
             [
              1,
              "#f0f921"
             ]
            ],
            "type": "heatmap"
           }
          ],
          "heatmapgl": [
           {
            "colorbar": {
             "outlinewidth": 0,
             "ticks": ""
            },
            "colorscale": [
             [
              0,
              "#0d0887"
             ],
             [
              0.1111111111111111,
              "#46039f"
             ],
             [
              0.2222222222222222,
              "#7201a8"
             ],
             [
              0.3333333333333333,
              "#9c179e"
             ],
             [
              0.4444444444444444,
              "#bd3786"
             ],
             [
              0.5555555555555556,
              "#d8576b"
             ],
             [
              0.6666666666666666,
              "#ed7953"
             ],
             [
              0.7777777777777778,
              "#fb9f3a"
             ],
             [
              0.8888888888888888,
              "#fdca26"
             ],
             [
              1,
              "#f0f921"
             ]
            ],
            "type": "heatmapgl"
           }
          ],
          "histogram": [
           {
            "marker": {
             "pattern": {
              "fillmode": "overlay",
              "size": 10,
              "solidity": 0.2
             }
            },
            "type": "histogram"
           }
          ],
          "histogram2d": [
           {
            "colorbar": {
             "outlinewidth": 0,
             "ticks": ""
            },
            "colorscale": [
             [
              0,
              "#0d0887"
             ],
             [
              0.1111111111111111,
              "#46039f"
             ],
             [
              0.2222222222222222,
              "#7201a8"
             ],
             [
              0.3333333333333333,
              "#9c179e"
             ],
             [
              0.4444444444444444,
              "#bd3786"
             ],
             [
              0.5555555555555556,
              "#d8576b"
             ],
             [
              0.6666666666666666,
              "#ed7953"
             ],
             [
              0.7777777777777778,
              "#fb9f3a"
             ],
             [
              0.8888888888888888,
              "#fdca26"
             ],
             [
              1,
              "#f0f921"
             ]
            ],
            "type": "histogram2d"
           }
          ],
          "histogram2dcontour": [
           {
            "colorbar": {
             "outlinewidth": 0,
             "ticks": ""
            },
            "colorscale": [
             [
              0,
              "#0d0887"
             ],
             [
              0.1111111111111111,
              "#46039f"
             ],
             [
              0.2222222222222222,
              "#7201a8"
             ],
             [
              0.3333333333333333,
              "#9c179e"
             ],
             [
              0.4444444444444444,
              "#bd3786"
             ],
             [
              0.5555555555555556,
              "#d8576b"
             ],
             [
              0.6666666666666666,
              "#ed7953"
             ],
             [
              0.7777777777777778,
              "#fb9f3a"
             ],
             [
              0.8888888888888888,
              "#fdca26"
             ],
             [
              1,
              "#f0f921"
             ]
            ],
            "type": "histogram2dcontour"
           }
          ],
          "mesh3d": [
           {
            "colorbar": {
             "outlinewidth": 0,
             "ticks": ""
            },
            "type": "mesh3d"
           }
          ],
          "parcoords": [
           {
            "line": {
             "colorbar": {
              "outlinewidth": 0,
              "ticks": ""
             }
            },
            "type": "parcoords"
           }
          ],
          "pie": [
           {
            "automargin": true,
            "type": "pie"
           }
          ],
          "scatter": [
           {
            "fillpattern": {
             "fillmode": "overlay",
             "size": 10,
             "solidity": 0.2
            },
            "type": "scatter"
           }
          ],
          "scatter3d": [
           {
            "line": {
             "colorbar": {
              "outlinewidth": 0,
              "ticks": ""
             }
            },
            "marker": {
             "colorbar": {
              "outlinewidth": 0,
              "ticks": ""
             }
            },
            "type": "scatter3d"
           }
          ],
          "scattercarpet": [
           {
            "marker": {
             "colorbar": {
              "outlinewidth": 0,
              "ticks": ""
             }
            },
            "type": "scattercarpet"
           }
          ],
          "scattergeo": [
           {
            "marker": {
             "colorbar": {
              "outlinewidth": 0,
              "ticks": ""
             }
            },
            "type": "scattergeo"
           }
          ],
          "scattergl": [
           {
            "marker": {
             "colorbar": {
              "outlinewidth": 0,
              "ticks": ""
             }
            },
            "type": "scattergl"
           }
          ],
          "scattermapbox": [
           {
            "marker": {
             "colorbar": {
              "outlinewidth": 0,
              "ticks": ""
             }
            },
            "type": "scattermapbox"
           }
          ],
          "scatterpolar": [
           {
            "marker": {
             "colorbar": {
              "outlinewidth": 0,
              "ticks": ""
             }
            },
            "type": "scatterpolar"
           }
          ],
          "scatterpolargl": [
           {
            "marker": {
             "colorbar": {
              "outlinewidth": 0,
              "ticks": ""
             }
            },
            "type": "scatterpolargl"
           }
          ],
          "scatterternary": [
           {
            "marker": {
             "colorbar": {
              "outlinewidth": 0,
              "ticks": ""
             }
            },
            "type": "scatterternary"
           }
          ],
          "surface": [
           {
            "colorbar": {
             "outlinewidth": 0,
             "ticks": ""
            },
            "colorscale": [
             [
              0,
              "#0d0887"
             ],
             [
              0.1111111111111111,
              "#46039f"
             ],
             [
              0.2222222222222222,
              "#7201a8"
             ],
             [
              0.3333333333333333,
              "#9c179e"
             ],
             [
              0.4444444444444444,
              "#bd3786"
             ],
             [
              0.5555555555555556,
              "#d8576b"
             ],
             [
              0.6666666666666666,
              "#ed7953"
             ],
             [
              0.7777777777777778,
              "#fb9f3a"
             ],
             [
              0.8888888888888888,
              "#fdca26"
             ],
             [
              1,
              "#f0f921"
             ]
            ],
            "type": "surface"
           }
          ],
          "table": [
           {
            "cells": {
             "fill": {
              "color": "#EBF0F8"
             },
             "line": {
              "color": "white"
             }
            },
            "header": {
             "fill": {
              "color": "#C8D4E3"
             },
             "line": {
              "color": "white"
             }
            },
            "type": "table"
           }
          ]
         },
         "layout": {
          "annotationdefaults": {
           "arrowcolor": "#2a3f5f",
           "arrowhead": 0,
           "arrowwidth": 1
          },
          "autotypenumbers": "strict",
          "coloraxis": {
           "colorbar": {
            "outlinewidth": 0,
            "ticks": ""
           }
          },
          "colorscale": {
           "diverging": [
            [
             0,
             "#8e0152"
            ],
            [
             0.1,
             "#c51b7d"
            ],
            [
             0.2,
             "#de77ae"
            ],
            [
             0.3,
             "#f1b6da"
            ],
            [
             0.4,
             "#fde0ef"
            ],
            [
             0.5,
             "#f7f7f7"
            ],
            [
             0.6,
             "#e6f5d0"
            ],
            [
             0.7,
             "#b8e186"
            ],
            [
             0.8,
             "#7fbc41"
            ],
            [
             0.9,
             "#4d9221"
            ],
            [
             1,
             "#276419"
            ]
           ],
           "sequential": [
            [
             0,
             "#0d0887"
            ],
            [
             0.1111111111111111,
             "#46039f"
            ],
            [
             0.2222222222222222,
             "#7201a8"
            ],
            [
             0.3333333333333333,
             "#9c179e"
            ],
            [
             0.4444444444444444,
             "#bd3786"
            ],
            [
             0.5555555555555556,
             "#d8576b"
            ],
            [
             0.6666666666666666,
             "#ed7953"
            ],
            [
             0.7777777777777778,
             "#fb9f3a"
            ],
            [
             0.8888888888888888,
             "#fdca26"
            ],
            [
             1,
             "#f0f921"
            ]
           ],
           "sequentialminus": [
            [
             0,
             "#0d0887"
            ],
            [
             0.1111111111111111,
             "#46039f"
            ],
            [
             0.2222222222222222,
             "#7201a8"
            ],
            [
             0.3333333333333333,
             "#9c179e"
            ],
            [
             0.4444444444444444,
             "#bd3786"
            ],
            [
             0.5555555555555556,
             "#d8576b"
            ],
            [
             0.6666666666666666,
             "#ed7953"
            ],
            [
             0.7777777777777778,
             "#fb9f3a"
            ],
            [
             0.8888888888888888,
             "#fdca26"
            ],
            [
             1,
             "#f0f921"
            ]
           ]
          },
          "colorway": [
           "#636efa",
           "#EF553B",
           "#00cc96",
           "#ab63fa",
           "#FFA15A",
           "#19d3f3",
           "#FF6692",
           "#B6E880",
           "#FF97FF",
           "#FECB52"
          ],
          "font": {
           "color": "#2a3f5f"
          },
          "geo": {
           "bgcolor": "white",
           "lakecolor": "white",
           "landcolor": "#E5ECF6",
           "showlakes": true,
           "showland": true,
           "subunitcolor": "white"
          },
          "hoverlabel": {
           "align": "left"
          },
          "hovermode": "closest",
          "mapbox": {
           "style": "light"
          },
          "paper_bgcolor": "white",
          "plot_bgcolor": "#E5ECF6",
          "polar": {
           "angularaxis": {
            "gridcolor": "white",
            "linecolor": "white",
            "ticks": ""
           },
           "bgcolor": "#E5ECF6",
           "radialaxis": {
            "gridcolor": "white",
            "linecolor": "white",
            "ticks": ""
           }
          },
          "scene": {
           "xaxis": {
            "backgroundcolor": "#E5ECF6",
            "gridcolor": "white",
            "gridwidth": 2,
            "linecolor": "white",
            "showbackground": true,
            "ticks": "",
            "zerolinecolor": "white"
           },
           "yaxis": {
            "backgroundcolor": "#E5ECF6",
            "gridcolor": "white",
            "gridwidth": 2,
            "linecolor": "white",
            "showbackground": true,
            "ticks": "",
            "zerolinecolor": "white"
           },
           "zaxis": {
            "backgroundcolor": "#E5ECF6",
            "gridcolor": "white",
            "gridwidth": 2,
            "linecolor": "white",
            "showbackground": true,
            "ticks": "",
            "zerolinecolor": "white"
           }
          },
          "shapedefaults": {
           "line": {
            "color": "#2a3f5f"
           }
          },
          "ternary": {
           "aaxis": {
            "gridcolor": "white",
            "linecolor": "white",
            "ticks": ""
           },
           "baxis": {
            "gridcolor": "white",
            "linecolor": "white",
            "ticks": ""
           },
           "bgcolor": "#E5ECF6",
           "caxis": {
            "gridcolor": "white",
            "linecolor": "white",
            "ticks": ""
           }
          },
          "title": {
           "x": 0.05
          },
          "xaxis": {
           "automargin": true,
           "gridcolor": "white",
           "linecolor": "white",
           "ticks": "",
           "title": {
            "standoff": 15
           },
           "zerolinecolor": "white",
           "zerolinewidth": 2
          },
          "yaxis": {
           "automargin": true,
           "gridcolor": "white",
           "linecolor": "white",
           "ticks": "",
           "title": {
            "standoff": 15
           },
           "zerolinecolor": "white",
           "zerolinewidth": 2
          }
         }
        },
        "title": {
         "text": "CI with A/B emulated 10% slowdown - renaissance"
        },
        "xaxis": {
         "anchor": "y",
         "categoryorder": "category ascending",
         "domain": [
          0,
          0.31999999999999995
         ],
         "title": {
          "text": "benchmark"
         }
        },
        "xaxis2": {
         "anchor": "y2",
         "categoryorder": "category ascending",
         "domain": [
          0.33999999999999997,
          0.6599999999999999
         ],
         "matches": "x",
         "title": {
          "text": "benchmark"
         }
        },
        "xaxis3": {
         "anchor": "y3",
         "categoryorder": "category ascending",
         "domain": [
          0.6799999999999999,
          0.9999999999999999
         ],
         "matches": "x",
         "title": {
          "text": "benchmark"
         }
        },
        "yaxis": {
         "anchor": "x",
         "domain": [
          0,
          1
         ],
         "title": {
          "text": "mid"
         }
        },
        "yaxis2": {
         "anchor": "x2",
         "domain": [
          0,
          1
         ],
         "matches": "y",
         "showticklabels": false
        },
        "yaxis3": {
         "anchor": "x3",
         "domain": [
          0,
          1
         ],
         "matches": "y",
         "showticklabels": false
        }
       }
      }
     },
     "metadata": {},
     "output_type": "display_data"
    },
    {
     "data": {
      "application/vnd.plotly.v1+json": {
       "config": {
        "plotlyServerURL": "https://plot.ly"
       },
       "data": [
        {
         "error_y": {
          "array": [
           282434041.6858903,
           16925589.708658367,
           1834386867.8532908,
           6084963.34697306,
           55936919.50005472,
           4097894.859786948,
           6582103.294361938,
           44662596.85375574,
           8967294.046291173,
           29130870.515595198,
           12701302.84088926,
           2421859.213165872,
           8556048.496024672,
           10268201.92753981,
           11816578.372338422,
           8503745.276850566,
           78217265.87654859,
           717405496.7788457,
           78256834.25203076,
           41550427.747329056,
           15382815.801296353
          ]
         },
         "hovertemplate": "type=seqn<br>environment=AWS:t3.medium<br>benchmark=%{x}<br>mid=%{y}<extra></extra>",
         "legendgroup": "seqn",
         "marker": {
          "color": "#636efa",
          "symbol": "circle"
         },
         "mode": "markers",
         "name": "seqn",
         "orientation": "v",
         "showlegend": true,
         "type": "scatter",
         "x": [
          "apparat",
          "avrora",
          "factorie",
          "fop",
          "h2",
          "kiama",
          "luindex",
          "lusearch",
          "pmd",
          "scalac",
          "scaladoc",
          "scalap",
          "scalariform",
          "scalatest",
          "scalaxb",
          "specs",
          "sunflow",
          "tmt",
          "tradebeans",
          "tradesoap",
          "xalan"
         ],
         "xaxis": "x",
         "y": [
          -816339354.9879972,
          -431922059.9067371,
          -2580100480.21259,
          -27728484.331967242,
          -324677808.37475616,
          -28547798.065641776,
          -44140994.65220292,
          -251044662.9347153,
          -117897224.53220645,
          -159766025.77985767,
          -117361730.45649482,
          -15766796.701589093,
          -49455490.84282282,
          -154353003.41879523,
          -35679231.02429666,
          -116520443.56426854,
          -533047456.6896574,
          -330270313.69537866,
          -330693228.1491059,
          -837303779.3005881,
          -171404086.6270749
         ],
         "yaxis": "y"
        },
        {
         "error_y": {
          "array": [
           43369928.56801367,
           11407688.164304644,
           493126035.68402183,
           434518.7125147069,
           20545875.430208713,
           1106564.0304899756,
           4600222.904059786,
           6852309.386997644,
           4393350.516449902,
           6824738.339712866,
           6437730.616675675,
           1000231.043040392,
           2126542.6411538236,
           3018887.3653703704,
           756255.8823645208,
           1091160.9473073035,
           20250408.574111655,
           100003552.77666476,
           18335882.190720886,
           9611215.744259626,
           5063371.858667567
          ]
         },
         "hovertemplate": "type=seqn<br>environment=bare-metal<br>benchmark=%{x}<br>mid=%{y}<extra></extra>",
         "legendgroup": "seqn",
         "marker": {
          "color": "#636efa",
          "symbol": "circle"
         },
         "mode": "markers",
         "name": "seqn",
         "orientation": "v",
         "showlegend": false,
         "type": "scatter",
         "x": [
          "apparat",
          "avrora",
          "factorie",
          "fop",
          "h2",
          "kiama",
          "luindex",
          "lusearch",
          "pmd",
          "scalac",
          "scaladoc",
          "scalap",
          "scalariform",
          "scalatest",
          "scalaxb",
          "specs",
          "sunflow",
          "tmt",
          "tradebeans",
          "tradesoap",
          "xalan"
         ],
         "xaxis": "x2",
         "y": [
          -544946816.837826,
          -311082545.4825299,
          -1836753103.0135102,
          -12839456.597814452,
          -247666057.89487895,
          -19354575.513947926,
          -52729847.811613664,
          -57937457.2582351,
          -63703635.72439608,
          -79816201.64351922,
          -78052029.8613853,
          -12938798.274216618,
          -47429218.683466166,
          -64208112.21519958,
          -17916519.57892956,
          -91209500.78624496,
          -170152768.90921396,
          -365624107.0462768,
          -172951844.16882312,
          -292949719.3474804,
          -49834887.22826859
         ],
         "yaxis": "y2"
        },
        {
         "error_y": {
          "array": [
           318425406.2539687,
           166000897.34391296,
           2223758835.0006795,
           15532616.035071112,
           98374255.72667849,
           17996641.413965598,
           65513170.49448549,
           120150001.84745225,
           27664027.247229338,
           63080051.573683925,
           70203911.06537567,
           6888148.462536716,
           23137398.323119048,
           100073008.91276374,
           28720277.596975558,
           44942549.81559373,
           189081039.88278395,
           747788225.7594497,
           156409358.9054585,
           701052028.9083815,
           206230029.64191416
          ]
         },
         "hovertemplate": "type=seqn<br>environment=teaching<br>benchmark=%{x}<br>mid=%{y}<extra></extra>",
         "legendgroup": "seqn",
         "marker": {
          "color": "#636efa",
          "symbol": "circle"
         },
         "mode": "markers",
         "name": "seqn",
         "orientation": "v",
         "showlegend": false,
         "type": "scatter",
         "x": [
          "apparat",
          "avrora",
          "factorie",
          "fop",
          "h2",
          "kiama",
          "luindex",
          "lusearch",
          "pmd",
          "scalac",
          "scaladoc",
          "scalap",
          "scalariform",
          "scalatest",
          "scalaxb",
          "specs",
          "sunflow",
          "tmt",
          "tradebeans",
          "tradesoap",
          "xalan"
         ],
         "xaxis": "x3",
         "y": [
          -776281116.3020945,
          -610922989.7308503,
          -2033149964.414557,
          -9326595.452592459,
          -212099372.19125223,
          2947256.352588225,
          -64708860.012567826,
          -176391438.770157,
          -138142647.47352958,
          -145609773.88812473,
          -84336969.36154754,
          -22422590.880952787,
          -62987967.329524115,
          -225901192.52542433,
          -11715789.49620653,
          -152224298.0176589,
          -404512967.43059534,
          -1307341477.241906,
          -579505618.8340812,
          -1389941534.3566713,
          -324008259.22631764
         ],
         "yaxis": "y3"
        },
        {
         "error_y": {
          "array": [
           545361386.0571288,
           31182614.016180158,
           2221630963.2813854,
           13101437.522726241,
           39287576.187170416,
           4324628.79975133,
           3329180.024542421,
           15060740.39884907,
           9375111.143236399,
           18441727.378534973,
           14157043.12050338,
           4765880.22024136,
           7234926.941614389,
           12708513.589947313,
           8562019.714501329,
           9532606.18755202,
           170725811.73396754,
           592928532.1460773,
           73089253.65807694,
           78621767.22357059,
           12013594.554212749
          ]
         },
         "hovertemplate": "type=syncduet<br>environment=AWS:t3.medium<br>benchmark=%{x}<br>mid=%{y}<extra></extra>",
         "legendgroup": "syncduet",
         "marker": {
          "color": "#EF553B",
          "symbol": "circle"
         },
         "mode": "markers",
         "name": "syncduet",
         "orientation": "v",
         "showlegend": true,
         "type": "scatter",
         "x": [
          "apparat",
          "avrora",
          "factorie",
          "fop",
          "h2",
          "kiama",
          "luindex",
          "lusearch",
          "pmd",
          "scalac",
          "scaladoc",
          "scalap",
          "scalariform",
          "scalatest",
          "scalaxb",
          "specs",
          "sunflow",
          "tmt",
          "tradebeans",
          "tradesoap",
          "xalan"
         ],
         "xaxis": "x",
         "y": [
          -1399419365.1595745,
          -604363660.5511122,
          -4798537073.84434,
          -46700149.05678064,
          -404278210.3077074,
          -47455486.660540774,
          -75807050.11284247,
          -438376066.28673446,
          -203341534.25314632,
          -311883247.4552219,
          -234146918.72731227,
          -24770695.529722918,
          -89738600.77034108,
          -300716729.36047876,
          -69950233.86855674,
          -167685490.15746462,
          -993490696.8054872,
          -603187552.303589,
          -675481279.3594551,
          -1600145131.2590075,
          -338871401.3112488
         ],
         "yaxis": "y"
        },
        {
         "error_y": {
          "array": [
           60139497.8509348,
           9201560.121696591,
           655938791.6685672,
           886287.278401562,
           37454522.76099756,
           1135406.4221089426,
           1588730.092674829,
           4089875.740496382,
           3124846.060436085,
           16644809.997126296,
           8505155.360372659,
           1254133.963844818,
           2431682.8789139576,
           3324391.0844927207,
           4615428.360543032,
           1918042.3970906138,
           4924833.5406259,
           127002715.30496666,
           14781289.545203298,
           6719133.30010438,
           4223654.831578709
          ]
         },
         "hovertemplate": "type=syncduet<br>environment=bare-metal<br>benchmark=%{x}<br>mid=%{y}<extra></extra>",
         "legendgroup": "syncduet",
         "marker": {
          "color": "#EF553B",
          "symbol": "circle"
         },
         "mode": "markers",
         "name": "syncduet",
         "orientation": "v",
         "showlegend": false,
         "type": "scatter",
         "x": [
          "apparat",
          "avrora",
          "factorie",
          "fop",
          "h2",
          "kiama",
          "luindex",
          "lusearch",
          "pmd",
          "scalac",
          "scaladoc",
          "scalap",
          "scalariform",
          "scalatest",
          "scalaxb",
          "specs",
          "sunflow",
          "tmt",
          "tradebeans",
          "tradesoap",
          "xalan"
         ],
         "xaxis": "x2",
         "y": [
          -631056274.0574818,
          -332111418.8573294,
          -1501834314.639079,
          -12500432.788871657,
          -241606802.38590464,
          -22471997.513614804,
          -63499199.77858832,
          -107340158.74006005,
          -71655295.70806149,
          -91407476.38887227,
          -74833247.9566587,
          -14431305.966850586,
          -49802123.55814171,
          -101397693.49604249,
          -14081737.432295006,
          -94109547.04533057,
          -293638937.5448092,
          -539338919.865047,
          -221556577.0675488,
          -471001898.36894614,
          -96832162.46848905
         ],
         "yaxis": "y2"
        },
        {
         "error_y": {
          "array": [
           133731888.1953128,
           68252257.80244428,
           1447121283.1559737,
           14444024.35785551,
           140538162.09495687,
           17519076.962180488,
           17711601.006090634,
           31693297.647385597,
           19892935.567151524,
           49233429.151287876,
           32505478.4406427,
           6762280.0809866,
           18807900.09327341,
           34607418.840945736,
           15652634.310631454,
           23770438.60808429,
           123325943.26534933,
           1025596566.5293901,
           79514510.82067302,
           102707756.5653404,
           22326323.93327774
          ]
         },
         "hovertemplate": "type=syncduet<br>environment=teaching<br>benchmark=%{x}<br>mid=%{y}<extra></extra>",
         "legendgroup": "syncduet",
         "marker": {
          "color": "#EF553B",
          "symbol": "circle"
         },
         "mode": "markers",
         "name": "syncduet",
         "orientation": "v",
         "showlegend": false,
         "type": "scatter",
         "x": [
          "apparat",
          "avrora",
          "factorie",
          "fop",
          "h2",
          "kiama",
          "luindex",
          "lusearch",
          "pmd",
          "scalac",
          "scaladoc",
          "scalap",
          "scalariform",
          "scalatest",
          "scalaxb",
          "specs",
          "sunflow",
          "tmt",
          "tradebeans",
          "tradesoap",
          "xalan"
         ],
         "xaxis": "x3",
         "y": [
          -971299901.3576684,
          -730404282.3935511,
          -4655433270.06002,
          -27858477.209685456,
          -429241904.3895602,
          -46201463.08211632,
          -85003164.94786781,
          -301157706.7313017,
          -132516044.55423862,
          -182581610.90317473,
          -186487239.11561567,
          -20988869.902951848,
          -41347435.36590052,
          -197020315.50540996,
          -33766809.013858035,
          -183961099.84361228,
          -562567085.049005,
          -2150087036.779291,
          -575789311.0695616,
          -1244671738.121585,
          -221538399.9845261
         ],
         "yaxis": "y3"
        },
        {
         "error_y": {
          "array": [
           344016281.3412371,
           36810769.91003376,
           2198803471.007967,
           10290667.48146573,
           61027135.6741364,
           8447957.22799557,
           4780741.037216492,
           68401776.84278953,
           10525144.268247694,
           53586533.7701152,
           34072536.52073173,
           4872595.038128447,
           11581887.827908434,
           13374935.060673803,
           35654433.69403851,
           11158067.963571727,
           109112218.36370641,
           637037417.9562607,
           59595413.67337543,
           74954076.80353165,
           27198452.35140112
          ]
         },
         "hovertemplate": "type=duet<br>environment=AWS:t3.medium<br>benchmark=%{x}<br>mid=%{y}<extra></extra>",
         "legendgroup": "duet",
         "marker": {
          "color": "#00cc96",
          "symbol": "circle"
         },
         "mode": "markers",
         "name": "duet",
         "orientation": "v",
         "showlegend": true,
         "type": "scatter",
         "x": [
          "apparat",
          "avrora",
          "factorie",
          "fop",
          "h2",
          "kiama",
          "luindex",
          "lusearch",
          "pmd",
          "scalac",
          "scaladoc",
          "scalap",
          "scalariform",
          "scalatest",
          "scalaxb",
          "specs",
          "sunflow",
          "tmt",
          "tradebeans",
          "tradesoap",
          "xalan"
         ],
         "xaxis": "x",
         "y": [
          -1255076055.5611122,
          -596861250.5188353,
          -4776919094.72748,
          -67433438.19363071,
          -456743457.15760463,
          -54014640.036914185,
          -79532900.9424963,
          -527453257.9238378,
          -213096723.28200254,
          -342898549.57047427,
          -260662560.63013458,
          -26725806.589425225,
          -97303605.056205,
          -296709472.19352484,
          -59721363.11582789,
          -167115537.48089367,
          -1132777215.464947,
          -250471150.34650624,
          -693893372.8669622,
          -1678921911.1748753,
          -377870918.6514796
         ],
         "yaxis": "y"
        },
        {
         "error_y": {
          "array": [
           49856374.801549375,
           7526329.188801229,
           634538201.811496,
           650932.529148832,
           39835267.149198666,
           1608127.6190200578,
           4673266.938787501,
           17427868.213719368,
           4022344.5672852993,
           12942635.558878556,
           8439668.713261701,
           1104371.1900767498,
           1353033.5685296468,
           3267271.792510785,
           3525998.1978053525,
           2440594.5012892187,
           16340794.816461802,
           223444282.55302718,
           21434369.51783791,
           8066376.682003796,
           6168502.73754704
          ]
         },
         "hovertemplate": "type=duet<br>environment=bare-metal<br>benchmark=%{x}<br>mid=%{y}<extra></extra>",
         "legendgroup": "duet",
         "marker": {
          "color": "#00cc96",
          "symbol": "circle"
         },
         "mode": "markers",
         "name": "duet",
         "orientation": "v",
         "showlegend": false,
         "type": "scatter",
         "x": [
          "apparat",
          "avrora",
          "factorie",
          "fop",
          "h2",
          "kiama",
          "luindex",
          "lusearch",
          "pmd",
          "scalac",
          "scaladoc",
          "scalap",
          "scalariform",
          "scalatest",
          "scalaxb",
          "specs",
          "sunflow",
          "tmt",
          "tradebeans",
          "tradesoap",
          "xalan"
         ],
         "xaxis": "x2",
         "y": [
          -580773956.5808907,
          -323501019.81030214,
          -1708102087.538545,
          -12601828.655071175,
          -241293618.23613644,
          -22742863.467790276,
          -62702471.365732834,
          -124440527.33208224,
          -72014876.91414903,
          -78719725.64581859,
          -82530797.52193585,
          -14414504.428359995,
          -49983697.34458539,
          -103107496.88670662,
          -20954546.167067513,
          -94745635.3386675,
          -316861225.08236986,
          -337505262.0663539,
          -235164087.44386253,
          -490388948.70279443,
          -96467950.97520107
         ],
         "yaxis": "y2"
        },
        {
         "error_y": {
          "array": [
           157304199.40536898,
           65953201.74026221,
           963265737.5071611,
           14128190.900854276,
           100147217.15255302,
           19970830.885620378,
           14877286.773057416,
           49788351.807138026,
           22668767.852022924,
           52110710.223603286,
           22166057.035961494,
           15965393.638483427,
           30592319.915933784,
           25816735.10824588,
           13750651.916794844,
           27088484.561896525,
           132656302.00598112,
           1248804074.0022845,
           83359320.78636411,
           152401254.37306702,
           26071534.61969544
          ]
         },
         "hovertemplate": "type=duet<br>environment=teaching<br>benchmark=%{x}<br>mid=%{y}<extra></extra>",
         "legendgroup": "duet",
         "marker": {
          "color": "#00cc96",
          "symbol": "circle"
         },
         "mode": "markers",
         "name": "duet",
         "orientation": "v",
         "showlegend": false,
         "type": "scatter",
         "x": [
          "apparat",
          "avrora",
          "factorie",
          "fop",
          "h2",
          "kiama",
          "luindex",
          "lusearch",
          "pmd",
          "scalac",
          "scaladoc",
          "scalap",
          "scalariform",
          "scalatest",
          "scalaxb",
          "specs",
          "sunflow",
          "tmt",
          "tradebeans",
          "tradesoap",
          "xalan"
         ],
         "xaxis": "x3",
         "y": [
          -917967117.754498,
          -625936904.7512658,
          -2473327605.7515583,
          -40227881.39027183,
          -560349079.7882085,
          -47605305.81704555,
          -76466452.92783248,
          -329170782.267518,
          -155120802.74214816,
          -176486004.6996239,
          -178705830.1812778,
          -32885819.484506816,
          -51945247.24624829,
          -206797369.54946253,
          -45737882.21659227,
          -139465609.64259192,
          -651730706.3721416,
          -1300657790.5013733,
          -486656547.49926925,
          -1182304044.1382856,
          -191333069.20969576
         ],
         "yaxis": "y3"
        }
       ],
       "layout": {
        "annotations": [
         {
          "font": {},
          "showarrow": false,
          "text": "environment=AWS:t3.medium",
          "x": 0.15999999999999998,
          "xanchor": "center",
          "xref": "paper",
          "y": 1,
          "yanchor": "bottom",
          "yref": "paper"
         },
         {
          "font": {},
          "showarrow": false,
          "text": "environment=bare-metal",
          "x": 0.49999999999999994,
          "xanchor": "center",
          "xref": "paper",
          "y": 1,
          "yanchor": "bottom",
          "yref": "paper"
         },
         {
          "font": {},
          "showarrow": false,
          "text": "environment=teaching",
          "x": 0.8399999999999999,
          "xanchor": "center",
          "xref": "paper",
          "y": 1,
          "yanchor": "bottom",
          "yref": "paper"
         }
        ],
        "legend": {
         "title": {
          "text": "type"
         },
         "tracegroupgap": 0
        },
        "template": {
         "data": {
          "bar": [
           {
            "error_x": {
             "color": "#2a3f5f"
            },
            "error_y": {
             "color": "#2a3f5f"
            },
            "marker": {
             "line": {
              "color": "#E5ECF6",
              "width": 0.5
             },
             "pattern": {
              "fillmode": "overlay",
              "size": 10,
              "solidity": 0.2
             }
            },
            "type": "bar"
           }
          ],
          "barpolar": [
           {
            "marker": {
             "line": {
              "color": "#E5ECF6",
              "width": 0.5
             },
             "pattern": {
              "fillmode": "overlay",
              "size": 10,
              "solidity": 0.2
             }
            },
            "type": "barpolar"
           }
          ],
          "carpet": [
           {
            "aaxis": {
             "endlinecolor": "#2a3f5f",
             "gridcolor": "white",
             "linecolor": "white",
             "minorgridcolor": "white",
             "startlinecolor": "#2a3f5f"
            },
            "baxis": {
             "endlinecolor": "#2a3f5f",
             "gridcolor": "white",
             "linecolor": "white",
             "minorgridcolor": "white",
             "startlinecolor": "#2a3f5f"
            },
            "type": "carpet"
           }
          ],
          "choropleth": [
           {
            "colorbar": {
             "outlinewidth": 0,
             "ticks": ""
            },
            "type": "choropleth"
           }
          ],
          "contour": [
           {
            "colorbar": {
             "outlinewidth": 0,
             "ticks": ""
            },
            "colorscale": [
             [
              0,
              "#0d0887"
             ],
             [
              0.1111111111111111,
              "#46039f"
             ],
             [
              0.2222222222222222,
              "#7201a8"
             ],
             [
              0.3333333333333333,
              "#9c179e"
             ],
             [
              0.4444444444444444,
              "#bd3786"
             ],
             [
              0.5555555555555556,
              "#d8576b"
             ],
             [
              0.6666666666666666,
              "#ed7953"
             ],
             [
              0.7777777777777778,
              "#fb9f3a"
             ],
             [
              0.8888888888888888,
              "#fdca26"
             ],
             [
              1,
              "#f0f921"
             ]
            ],
            "type": "contour"
           }
          ],
          "contourcarpet": [
           {
            "colorbar": {
             "outlinewidth": 0,
             "ticks": ""
            },
            "type": "contourcarpet"
           }
          ],
          "heatmap": [
           {
            "colorbar": {
             "outlinewidth": 0,
             "ticks": ""
            },
            "colorscale": [
             [
              0,
              "#0d0887"
             ],
             [
              0.1111111111111111,
              "#46039f"
             ],
             [
              0.2222222222222222,
              "#7201a8"
             ],
             [
              0.3333333333333333,
              "#9c179e"
             ],
             [
              0.4444444444444444,
              "#bd3786"
             ],
             [
              0.5555555555555556,
              "#d8576b"
             ],
             [
              0.6666666666666666,
              "#ed7953"
             ],
             [
              0.7777777777777778,
              "#fb9f3a"
             ],
             [
              0.8888888888888888,
              "#fdca26"
             ],
             [
              1,
              "#f0f921"
             ]
            ],
            "type": "heatmap"
           }
          ],
          "heatmapgl": [
           {
            "colorbar": {
             "outlinewidth": 0,
             "ticks": ""
            },
            "colorscale": [
             [
              0,
              "#0d0887"
             ],
             [
              0.1111111111111111,
              "#46039f"
             ],
             [
              0.2222222222222222,
              "#7201a8"
             ],
             [
              0.3333333333333333,
              "#9c179e"
             ],
             [
              0.4444444444444444,
              "#bd3786"
             ],
             [
              0.5555555555555556,
              "#d8576b"
             ],
             [
              0.6666666666666666,
              "#ed7953"
             ],
             [
              0.7777777777777778,
              "#fb9f3a"
             ],
             [
              0.8888888888888888,
              "#fdca26"
             ],
             [
              1,
              "#f0f921"
             ]
            ],
            "type": "heatmapgl"
           }
          ],
          "histogram": [
           {
            "marker": {
             "pattern": {
              "fillmode": "overlay",
              "size": 10,
              "solidity": 0.2
             }
            },
            "type": "histogram"
           }
          ],
          "histogram2d": [
           {
            "colorbar": {
             "outlinewidth": 0,
             "ticks": ""
            },
            "colorscale": [
             [
              0,
              "#0d0887"
             ],
             [
              0.1111111111111111,
              "#46039f"
             ],
             [
              0.2222222222222222,
              "#7201a8"
             ],
             [
              0.3333333333333333,
              "#9c179e"
             ],
             [
              0.4444444444444444,
              "#bd3786"
             ],
             [
              0.5555555555555556,
              "#d8576b"
             ],
             [
              0.6666666666666666,
              "#ed7953"
             ],
             [
              0.7777777777777778,
              "#fb9f3a"
             ],
             [
              0.8888888888888888,
              "#fdca26"
             ],
             [
              1,
              "#f0f921"
             ]
            ],
            "type": "histogram2d"
           }
          ],
          "histogram2dcontour": [
           {
            "colorbar": {
             "outlinewidth": 0,
             "ticks": ""
            },
            "colorscale": [
             [
              0,
              "#0d0887"
             ],
             [
              0.1111111111111111,
              "#46039f"
             ],
             [
              0.2222222222222222,
              "#7201a8"
             ],
             [
              0.3333333333333333,
              "#9c179e"
             ],
             [
              0.4444444444444444,
              "#bd3786"
             ],
             [
              0.5555555555555556,
              "#d8576b"
             ],
             [
              0.6666666666666666,
              "#ed7953"
             ],
             [
              0.7777777777777778,
              "#fb9f3a"
             ],
             [
              0.8888888888888888,
              "#fdca26"
             ],
             [
              1,
              "#f0f921"
             ]
            ],
            "type": "histogram2dcontour"
           }
          ],
          "mesh3d": [
           {
            "colorbar": {
             "outlinewidth": 0,
             "ticks": ""
            },
            "type": "mesh3d"
           }
          ],
          "parcoords": [
           {
            "line": {
             "colorbar": {
              "outlinewidth": 0,
              "ticks": ""
             }
            },
            "type": "parcoords"
           }
          ],
          "pie": [
           {
            "automargin": true,
            "type": "pie"
           }
          ],
          "scatter": [
           {
            "fillpattern": {
             "fillmode": "overlay",
             "size": 10,
             "solidity": 0.2
            },
            "type": "scatter"
           }
          ],
          "scatter3d": [
           {
            "line": {
             "colorbar": {
              "outlinewidth": 0,
              "ticks": ""
             }
            },
            "marker": {
             "colorbar": {
              "outlinewidth": 0,
              "ticks": ""
             }
            },
            "type": "scatter3d"
           }
          ],
          "scattercarpet": [
           {
            "marker": {
             "colorbar": {
              "outlinewidth": 0,
              "ticks": ""
             }
            },
            "type": "scattercarpet"
           }
          ],
          "scattergeo": [
           {
            "marker": {
             "colorbar": {
              "outlinewidth": 0,
              "ticks": ""
             }
            },
            "type": "scattergeo"
           }
          ],
          "scattergl": [
           {
            "marker": {
             "colorbar": {
              "outlinewidth": 0,
              "ticks": ""
             }
            },
            "type": "scattergl"
           }
          ],
          "scattermapbox": [
           {
            "marker": {
             "colorbar": {
              "outlinewidth": 0,
              "ticks": ""
             }
            },
            "type": "scattermapbox"
           }
          ],
          "scatterpolar": [
           {
            "marker": {
             "colorbar": {
              "outlinewidth": 0,
              "ticks": ""
             }
            },
            "type": "scatterpolar"
           }
          ],
          "scatterpolargl": [
           {
            "marker": {
             "colorbar": {
              "outlinewidth": 0,
              "ticks": ""
             }
            },
            "type": "scatterpolargl"
           }
          ],
          "scatterternary": [
           {
            "marker": {
             "colorbar": {
              "outlinewidth": 0,
              "ticks": ""
             }
            },
            "type": "scatterternary"
           }
          ],
          "surface": [
           {
            "colorbar": {
             "outlinewidth": 0,
             "ticks": ""
            },
            "colorscale": [
             [
              0,
              "#0d0887"
             ],
             [
              0.1111111111111111,
              "#46039f"
             ],
             [
              0.2222222222222222,
              "#7201a8"
             ],
             [
              0.3333333333333333,
              "#9c179e"
             ],
             [
              0.4444444444444444,
              "#bd3786"
             ],
             [
              0.5555555555555556,
              "#d8576b"
             ],
             [
              0.6666666666666666,
              "#ed7953"
             ],
             [
              0.7777777777777778,
              "#fb9f3a"
             ],
             [
              0.8888888888888888,
              "#fdca26"
             ],
             [
              1,
              "#f0f921"
             ]
            ],
            "type": "surface"
           }
          ],
          "table": [
           {
            "cells": {
             "fill": {
              "color": "#EBF0F8"
             },
             "line": {
              "color": "white"
             }
            },
            "header": {
             "fill": {
              "color": "#C8D4E3"
             },
             "line": {
              "color": "white"
             }
            },
            "type": "table"
           }
          ]
         },
         "layout": {
          "annotationdefaults": {
           "arrowcolor": "#2a3f5f",
           "arrowhead": 0,
           "arrowwidth": 1
          },
          "autotypenumbers": "strict",
          "coloraxis": {
           "colorbar": {
            "outlinewidth": 0,
            "ticks": ""
           }
          },
          "colorscale": {
           "diverging": [
            [
             0,
             "#8e0152"
            ],
            [
             0.1,
             "#c51b7d"
            ],
            [
             0.2,
             "#de77ae"
            ],
            [
             0.3,
             "#f1b6da"
            ],
            [
             0.4,
             "#fde0ef"
            ],
            [
             0.5,
             "#f7f7f7"
            ],
            [
             0.6,
             "#e6f5d0"
            ],
            [
             0.7,
             "#b8e186"
            ],
            [
             0.8,
             "#7fbc41"
            ],
            [
             0.9,
             "#4d9221"
            ],
            [
             1,
             "#276419"
            ]
           ],
           "sequential": [
            [
             0,
             "#0d0887"
            ],
            [
             0.1111111111111111,
             "#46039f"
            ],
            [
             0.2222222222222222,
             "#7201a8"
            ],
            [
             0.3333333333333333,
             "#9c179e"
            ],
            [
             0.4444444444444444,
             "#bd3786"
            ],
            [
             0.5555555555555556,
             "#d8576b"
            ],
            [
             0.6666666666666666,
             "#ed7953"
            ],
            [
             0.7777777777777778,
             "#fb9f3a"
            ],
            [
             0.8888888888888888,
             "#fdca26"
            ],
            [
             1,
             "#f0f921"
            ]
           ],
           "sequentialminus": [
            [
             0,
             "#0d0887"
            ],
            [
             0.1111111111111111,
             "#46039f"
            ],
            [
             0.2222222222222222,
             "#7201a8"
            ],
            [
             0.3333333333333333,
             "#9c179e"
            ],
            [
             0.4444444444444444,
             "#bd3786"
            ],
            [
             0.5555555555555556,
             "#d8576b"
            ],
            [
             0.6666666666666666,
             "#ed7953"
            ],
            [
             0.7777777777777778,
             "#fb9f3a"
            ],
            [
             0.8888888888888888,
             "#fdca26"
            ],
            [
             1,
             "#f0f921"
            ]
           ]
          },
          "colorway": [
           "#636efa",
           "#EF553B",
           "#00cc96",
           "#ab63fa",
           "#FFA15A",
           "#19d3f3",
           "#FF6692",
           "#B6E880",
           "#FF97FF",
           "#FECB52"
          ],
          "font": {
           "color": "#2a3f5f"
          },
          "geo": {
           "bgcolor": "white",
           "lakecolor": "white",
           "landcolor": "#E5ECF6",
           "showlakes": true,
           "showland": true,
           "subunitcolor": "white"
          },
          "hoverlabel": {
           "align": "left"
          },
          "hovermode": "closest",
          "mapbox": {
           "style": "light"
          },
          "paper_bgcolor": "white",
          "plot_bgcolor": "#E5ECF6",
          "polar": {
           "angularaxis": {
            "gridcolor": "white",
            "linecolor": "white",
            "ticks": ""
           },
           "bgcolor": "#E5ECF6",
           "radialaxis": {
            "gridcolor": "white",
            "linecolor": "white",
            "ticks": ""
           }
          },
          "scene": {
           "xaxis": {
            "backgroundcolor": "#E5ECF6",
            "gridcolor": "white",
            "gridwidth": 2,
            "linecolor": "white",
            "showbackground": true,
            "ticks": "",
            "zerolinecolor": "white"
           },
           "yaxis": {
            "backgroundcolor": "#E5ECF6",
            "gridcolor": "white",
            "gridwidth": 2,
            "linecolor": "white",
            "showbackground": true,
            "ticks": "",
            "zerolinecolor": "white"
           },
           "zaxis": {
            "backgroundcolor": "#E5ECF6",
            "gridcolor": "white",
            "gridwidth": 2,
            "linecolor": "white",
            "showbackground": true,
            "ticks": "",
            "zerolinecolor": "white"
           }
          },
          "shapedefaults": {
           "line": {
            "color": "#2a3f5f"
           }
          },
          "ternary": {
           "aaxis": {
            "gridcolor": "white",
            "linecolor": "white",
            "ticks": ""
           },
           "baxis": {
            "gridcolor": "white",
            "linecolor": "white",
            "ticks": ""
           },
           "bgcolor": "#E5ECF6",
           "caxis": {
            "gridcolor": "white",
            "linecolor": "white",
            "ticks": ""
           }
          },
          "title": {
           "x": 0.05
          },
          "xaxis": {
           "automargin": true,
           "gridcolor": "white",
           "linecolor": "white",
           "ticks": "",
           "title": {
            "standoff": 15
           },
           "zerolinecolor": "white",
           "zerolinewidth": 2
          },
          "yaxis": {
           "automargin": true,
           "gridcolor": "white",
           "linecolor": "white",
           "ticks": "",
           "title": {
            "standoff": 15
           },
           "zerolinecolor": "white",
           "zerolinewidth": 2
          }
         }
        },
        "title": {
         "text": "CI with A/B emulated 10% slowdown - scalabench"
        },
        "xaxis": {
         "anchor": "y",
         "categoryorder": "category ascending",
         "domain": [
          0,
          0.31999999999999995
         ],
         "title": {
          "text": "benchmark"
         }
        },
        "xaxis2": {
         "anchor": "y2",
         "categoryorder": "category ascending",
         "domain": [
          0.33999999999999997,
          0.6599999999999999
         ],
         "matches": "x",
         "title": {
          "text": "benchmark"
         }
        },
        "xaxis3": {
         "anchor": "y3",
         "categoryorder": "category ascending",
         "domain": [
          0.6799999999999999,
          0.9999999999999999
         ],
         "matches": "x",
         "title": {
          "text": "benchmark"
         }
        },
        "yaxis": {
         "anchor": "x",
         "domain": [
          0,
          1
         ],
         "title": {
          "text": "mid"
         }
        },
        "yaxis2": {
         "anchor": "x2",
         "domain": [
          0,
          1
         ],
         "matches": "y",
         "showticklabels": false
        },
        "yaxis3": {
         "anchor": "x3",
         "domain": [
          0,
          1
         ],
         "matches": "y",
         "showticklabels": false
        }
       }
      }
     },
     "metadata": {},
     "output_type": "display_data"
    },
    {
     "data": {
      "application/vnd.plotly.v1+json": {
       "config": {
        "plotlyServerURL": "https://plot.ly"
       },
       "data": [
        {
         "error_y": {
          "array": [
           25107014.035859168,
           4622355.3171074,
           58309024.05450471,
           4537993.730018042,
           48858453.92496523,
           7421551.595568314,
           64580114.664895505,
           57599000.03282046,
           41689524.51269221,
           17071775.82474573
          ]
         },
         "hovertemplate": "type=seqn<br>environment=AWS:t3.medium<br>benchmark=%{x}<br>mid=%{y}<extra></extra>",
         "legendgroup": "seqn",
         "marker": {
          "color": "#636efa",
          "symbol": "circle"
         },
         "mode": "markers",
         "name": "seqn",
         "orientation": "v",
         "showlegend": true,
         "type": "scatter",
         "x": [
          "avrora",
          "fop",
          "h2",
          "luindex",
          "lusearch",
          "pmd",
          "sunflow",
          "tradebeans",
          "tradesoap",
          "xalan"
         ],
         "xaxis": "x",
         "y": [
          -430026847.37391543,
          -23994879.489522204,
          -299398456.79106975,
          -42210020.21159609,
          -214475790.01147345,
          -110236032.16235283,
          -503817172.0362873,
          -391279274.8856275,
          -884915681.0842108,
          -169056987.42301583
         ],
         "yaxis": "y"
        },
        {
         "error_y": {
          "array": [
           13552589.617960244,
           596987.1544358497,
           28598993.67521648,
           3689414.0260796845,
           6465216.6035098545,
           3356550.4051416405,
           17783300.37454184,
           18725729.655102134,
           11159961.390282243,
           4497482.0665836185
          ]
         },
         "hovertemplate": "type=seqn<br>environment=bare-metal<br>benchmark=%{x}<br>mid=%{y}<extra></extra>",
         "legendgroup": "seqn",
         "marker": {
          "color": "#636efa",
          "symbol": "circle"
         },
         "mode": "markers",
         "name": "seqn",
         "orientation": "v",
         "showlegend": false,
         "type": "scatter",
         "x": [
          "avrora",
          "fop",
          "h2",
          "luindex",
          "lusearch",
          "pmd",
          "sunflow",
          "tradebeans",
          "tradesoap",
          "xalan"
         ],
         "xaxis": "x2",
         "y": [
          -299791674.0350863,
          -12494165.589605637,
          -269115550.6803528,
          -59639058.817050956,
          -57215460.04349795,
          -58087210.28106381,
          -149257930.47362614,
          -189072281.83951652,
          -278571458.91260624,
          -49299451.673103176
         ],
         "yaxis": "y2"
        },
        {
         "error_y": {
          "array": [
           49937244.178305954,
           12830438.337658897,
           117698507.92470536,
           39953108.00593586,
           245480253.54251885,
           22028828.173230678,
           312577068.36828405,
           231252763.79015476,
           122146956.18611437,
           135671980.2583382
          ]
         },
         "hovertemplate": "type=seqn<br>environment=teaching<br>benchmark=%{x}<br>mid=%{y}<extra></extra>",
         "legendgroup": "seqn",
         "marker": {
          "color": "#636efa",
          "symbol": "circle"
         },
         "mode": "markers",
         "name": "seqn",
         "orientation": "v",
         "showlegend": false,
         "type": "scatter",
         "x": [
          "avrora",
          "fop",
          "h2",
          "luindex",
          "lusearch",
          "pmd",
          "sunflow",
          "tradebeans",
          "tradesoap",
          "xalan"
         ],
         "xaxis": "x3",
         "y": [
          -447700786.0011902,
          -13334684.602047164,
          -376253721.87316716,
          -88471599.99497123,
          12841736.809853524,
          -100555414.27217747,
          -228854973.2199592,
          -622950174.8850694,
          -845818429.0852196,
          -6088487.080196321
         ],
         "yaxis": "y3"
        },
        {
         "error_y": {
          "array": [
           22471377.39181745,
           4831390.968874101,
           107338966.08432546,
           4288013.424604468,
           33550338.02508697,
           7767274.655717194,
           76738561.57877427,
           92162639.40312946,
           75640899.65944338,
           27181047.36410749
          ]
         },
         "hovertemplate": "type=syncduet<br>environment=AWS:t3.medium<br>benchmark=%{x}<br>mid=%{y}<extra></extra>",
         "legendgroup": "syncduet",
         "marker": {
          "color": "#EF553B",
          "symbol": "circle"
         },
         "mode": "markers",
         "name": "syncduet",
         "orientation": "v",
         "showlegend": true,
         "type": "scatter",
         "x": [
          "avrora",
          "fop",
          "h2",
          "luindex",
          "lusearch",
          "pmd",
          "sunflow",
          "tradebeans",
          "tradesoap",
          "xalan"
         ],
         "xaxis": "x",
         "y": [
          -569009564.0731359,
          -45988344.51794019,
          -363891490.64143515,
          -71694981.00113726,
          -434692266.6330173,
          -200920223.88591763,
          -1098588804.5345242,
          -684456144.6146874,
          -1659238504.8527093,
          -340373867.1785582
         ],
         "yaxis": "y"
        },
        {
         "error_y": {
          "array": [
           9930366.255947053,
           837420.799553006,
           32481099.135702208,
           5999013.359261401,
           6851511.947072461,
           4413402.993644707,
           9755722.09815073,
           22734055.682135105,
           3966366.977396548,
           7008226.257341728
          ]
         },
         "hovertemplate": "type=syncduet<br>environment=bare-metal<br>benchmark=%{x}<br>mid=%{y}<extra></extra>",
         "legendgroup": "syncduet",
         "marker": {
          "color": "#EF553B",
          "symbol": "circle"
         },
         "mode": "markers",
         "name": "syncduet",
         "orientation": "v",
         "showlegend": false,
         "type": "scatter",
         "x": [
          "avrora",
          "fop",
          "h2",
          "luindex",
          "lusearch",
          "pmd",
          "sunflow",
          "tradebeans",
          "tradesoap",
          "xalan"
         ],
         "xaxis": "x2",
         "y": [
          -329737130.06928307,
          -13013489.292127572,
          -253795264.83806586,
          -62078426.91764525,
          -109469049.65516761,
          -71003271.67218652,
          -297832384.0620752,
          -206466232.12217617,
          -495999259.3558795,
          -102862066.0802775
         ],
         "yaxis": "y2"
        },
        {
         "error_y": {
          "array": [
           62108796.49828291,
           13495376.510550072,
           95145483.5825451,
           17238988.47747384,
           56876866.261012405,
           28355059.29417184,
           63722692.19958359,
           119744374.95449015,
           113303853.58073127,
           48578057.98626575
          ]
         },
         "hovertemplate": "type=syncduet<br>environment=teaching<br>benchmark=%{x}<br>mid=%{y}<extra></extra>",
         "legendgroup": "syncduet",
         "marker": {
          "color": "#EF553B",
          "symbol": "circle"
         },
         "mode": "markers",
         "name": "syncduet",
         "orientation": "v",
         "showlegend": false,
         "type": "scatter",
         "x": [
          "avrora",
          "fop",
          "h2",
          "luindex",
          "lusearch",
          "pmd",
          "sunflow",
          "tradebeans",
          "tradesoap",
          "xalan"
         ],
         "xaxis": "x3",
         "y": [
          -650948347.8770454,
          -39078023.47593488,
          -469629235.1504255,
          -111836408.27502725,
          -300650528.34027183,
          -136965438.2704437,
          -574302426.3351562,
          -596089426.4265145,
          -1224085952.522502,
          -200536378.95946905
         ],
         "yaxis": "y3"
        },
        {
         "error_y": {
          "array": [
           29505462.16738677,
           9655122.786650877,
           48373748.61937243,
           5599761.824065365,
           61210494.89594525,
           14051625.245645523,
           117075275.71352017,
           48897908.183555186,
           70831250.69868028,
           35104857.198551685
          ]
         },
         "hovertemplate": "type=duet<br>environment=AWS:t3.medium<br>benchmark=%{x}<br>mid=%{y}<extra></extra>",
         "legendgroup": "duet",
         "marker": {
          "color": "#00cc96",
          "symbol": "circle"
         },
         "mode": "markers",
         "name": "duet",
         "orientation": "v",
         "showlegend": true,
         "type": "scatter",
         "x": [
          "avrora",
          "fop",
          "h2",
          "luindex",
          "lusearch",
          "pmd",
          "sunflow",
          "tradebeans",
          "tradesoap",
          "xalan"
         ],
         "xaxis": "x",
         "y": [
          -588461175.289074,
          -60955046.460571155,
          -381157065.2233092,
          -80036995.76984668,
          -470331849.7835202,
          -213194882.69867018,
          -1170487092.2859344,
          -724370446.4091125,
          -1716448132.508243,
          -363828366.6857115
         ],
         "yaxis": "y"
        },
        {
         "error_y": {
          "array": [
           10107854.847620904,
           509932.38689475507,
           38698712.71568526,
           4055167.3227387816,
           10935550.629962578,
           2788492.1701849923,
           20651610.194353104,
           17145259.75017464,
           6809297.499550641,
           8363444.2649877295
          ]
         },
         "hovertemplate": "type=duet<br>environment=bare-metal<br>benchmark=%{x}<br>mid=%{y}<extra></extra>",
         "legendgroup": "duet",
         "marker": {
          "color": "#00cc96",
          "symbol": "circle"
         },
         "mode": "markers",
         "name": "duet",
         "orientation": "v",
         "showlegend": false,
         "type": "scatter",
         "x": [
          "avrora",
          "fop",
          "h2",
          "luindex",
          "lusearch",
          "pmd",
          "sunflow",
          "tradebeans",
          "tradesoap",
          "xalan"
         ],
         "xaxis": "x2",
         "y": [
          -334576427.5484272,
          -12522579.962205047,
          -244950281.69182807,
          -61073029.33004019,
          -113218589.10148104,
          -73467058.49087921,
          -305319590.55114686,
          -226947231.6725025,
          -476449895.7440489,
          -103626056.09994817
         ],
         "yaxis": "y2"
        },
        {
         "error_y": {
          "array": [
           102191290.05723718,
           8124933.056112755,
           142496893.35775858,
           26068822.27179385,
           39107300.344855964,
           21722151.897507742,
           100360017.65417138,
           81939170.5200902,
           175993257.0525018,
           28283401.402462453
          ]
         },
         "hovertemplate": "type=duet<br>environment=teaching<br>benchmark=%{x}<br>mid=%{y}<extra></extra>",
         "legendgroup": "duet",
         "marker": {
          "color": "#00cc96",
          "symbol": "circle"
         },
         "mode": "markers",
         "name": "duet",
         "orientation": "v",
         "showlegend": false,
         "type": "scatter",
         "x": [
          "avrora",
          "fop",
          "h2",
          "luindex",
          "lusearch",
          "pmd",
          "sunflow",
          "tradebeans",
          "tradesoap",
          "xalan"
         ],
         "xaxis": "x3",
         "y": [
          -597209134.7361591,
          -26295831.601985674,
          -413789378.31481546,
          -77756814.4573749,
          -312213409.7870763,
          -163912320.7471866,
          -602981584.8949527,
          -591994282.9188213,
          -1128332572.8634615,
          -214594538.12885708
         ],
         "yaxis": "y3"
        }
       ],
       "layout": {
        "annotations": [
         {
          "font": {},
          "showarrow": false,
          "text": "environment=AWS:t3.medium",
          "x": 0.15999999999999998,
          "xanchor": "center",
          "xref": "paper",
          "y": 1,
          "yanchor": "bottom",
          "yref": "paper"
         },
         {
          "font": {},
          "showarrow": false,
          "text": "environment=bare-metal",
          "x": 0.49999999999999994,
          "xanchor": "center",
          "xref": "paper",
          "y": 1,
          "yanchor": "bottom",
          "yref": "paper"
         },
         {
          "font": {},
          "showarrow": false,
          "text": "environment=teaching",
          "x": 0.8399999999999999,
          "xanchor": "center",
          "xref": "paper",
          "y": 1,
          "yanchor": "bottom",
          "yref": "paper"
         }
        ],
        "legend": {
         "title": {
          "text": "type"
         },
         "tracegroupgap": 0
        },
        "template": {
         "data": {
          "bar": [
           {
            "error_x": {
             "color": "#2a3f5f"
            },
            "error_y": {
             "color": "#2a3f5f"
            },
            "marker": {
             "line": {
              "color": "#E5ECF6",
              "width": 0.5
             },
             "pattern": {
              "fillmode": "overlay",
              "size": 10,
              "solidity": 0.2
             }
            },
            "type": "bar"
           }
          ],
          "barpolar": [
           {
            "marker": {
             "line": {
              "color": "#E5ECF6",
              "width": 0.5
             },
             "pattern": {
              "fillmode": "overlay",
              "size": 10,
              "solidity": 0.2
             }
            },
            "type": "barpolar"
           }
          ],
          "carpet": [
           {
            "aaxis": {
             "endlinecolor": "#2a3f5f",
             "gridcolor": "white",
             "linecolor": "white",
             "minorgridcolor": "white",
             "startlinecolor": "#2a3f5f"
            },
            "baxis": {
             "endlinecolor": "#2a3f5f",
             "gridcolor": "white",
             "linecolor": "white",
             "minorgridcolor": "white",
             "startlinecolor": "#2a3f5f"
            },
            "type": "carpet"
           }
          ],
          "choropleth": [
           {
            "colorbar": {
             "outlinewidth": 0,
             "ticks": ""
            },
            "type": "choropleth"
           }
          ],
          "contour": [
           {
            "colorbar": {
             "outlinewidth": 0,
             "ticks": ""
            },
            "colorscale": [
             [
              0,
              "#0d0887"
             ],
             [
              0.1111111111111111,
              "#46039f"
             ],
             [
              0.2222222222222222,
              "#7201a8"
             ],
             [
              0.3333333333333333,
              "#9c179e"
             ],
             [
              0.4444444444444444,
              "#bd3786"
             ],
             [
              0.5555555555555556,
              "#d8576b"
             ],
             [
              0.6666666666666666,
              "#ed7953"
             ],
             [
              0.7777777777777778,
              "#fb9f3a"
             ],
             [
              0.8888888888888888,
              "#fdca26"
             ],
             [
              1,
              "#f0f921"
             ]
            ],
            "type": "contour"
           }
          ],
          "contourcarpet": [
           {
            "colorbar": {
             "outlinewidth": 0,
             "ticks": ""
            },
            "type": "contourcarpet"
           }
          ],
          "heatmap": [
           {
            "colorbar": {
             "outlinewidth": 0,
             "ticks": ""
            },
            "colorscale": [
             [
              0,
              "#0d0887"
             ],
             [
              0.1111111111111111,
              "#46039f"
             ],
             [
              0.2222222222222222,
              "#7201a8"
             ],
             [
              0.3333333333333333,
              "#9c179e"
             ],
             [
              0.4444444444444444,
              "#bd3786"
             ],
             [
              0.5555555555555556,
              "#d8576b"
             ],
             [
              0.6666666666666666,
              "#ed7953"
             ],
             [
              0.7777777777777778,
              "#fb9f3a"
             ],
             [
              0.8888888888888888,
              "#fdca26"
             ],
             [
              1,
              "#f0f921"
             ]
            ],
            "type": "heatmap"
           }
          ],
          "heatmapgl": [
           {
            "colorbar": {
             "outlinewidth": 0,
             "ticks": ""
            },
            "colorscale": [
             [
              0,
              "#0d0887"
             ],
             [
              0.1111111111111111,
              "#46039f"
             ],
             [
              0.2222222222222222,
              "#7201a8"
             ],
             [
              0.3333333333333333,
              "#9c179e"
             ],
             [
              0.4444444444444444,
              "#bd3786"
             ],
             [
              0.5555555555555556,
              "#d8576b"
             ],
             [
              0.6666666666666666,
              "#ed7953"
             ],
             [
              0.7777777777777778,
              "#fb9f3a"
             ],
             [
              0.8888888888888888,
              "#fdca26"
             ],
             [
              1,
              "#f0f921"
             ]
            ],
            "type": "heatmapgl"
           }
          ],
          "histogram": [
           {
            "marker": {
             "pattern": {
              "fillmode": "overlay",
              "size": 10,
              "solidity": 0.2
             }
            },
            "type": "histogram"
           }
          ],
          "histogram2d": [
           {
            "colorbar": {
             "outlinewidth": 0,
             "ticks": ""
            },
            "colorscale": [
             [
              0,
              "#0d0887"
             ],
             [
              0.1111111111111111,
              "#46039f"
             ],
             [
              0.2222222222222222,
              "#7201a8"
             ],
             [
              0.3333333333333333,
              "#9c179e"
             ],
             [
              0.4444444444444444,
              "#bd3786"
             ],
             [
              0.5555555555555556,
              "#d8576b"
             ],
             [
              0.6666666666666666,
              "#ed7953"
             ],
             [
              0.7777777777777778,
              "#fb9f3a"
             ],
             [
              0.8888888888888888,
              "#fdca26"
             ],
             [
              1,
              "#f0f921"
             ]
            ],
            "type": "histogram2d"
           }
          ],
          "histogram2dcontour": [
           {
            "colorbar": {
             "outlinewidth": 0,
             "ticks": ""
            },
            "colorscale": [
             [
              0,
              "#0d0887"
             ],
             [
              0.1111111111111111,
              "#46039f"
             ],
             [
              0.2222222222222222,
              "#7201a8"
             ],
             [
              0.3333333333333333,
              "#9c179e"
             ],
             [
              0.4444444444444444,
              "#bd3786"
             ],
             [
              0.5555555555555556,
              "#d8576b"
             ],
             [
              0.6666666666666666,
              "#ed7953"
             ],
             [
              0.7777777777777778,
              "#fb9f3a"
             ],
             [
              0.8888888888888888,
              "#fdca26"
             ],
             [
              1,
              "#f0f921"
             ]
            ],
            "type": "histogram2dcontour"
           }
          ],
          "mesh3d": [
           {
            "colorbar": {
             "outlinewidth": 0,
             "ticks": ""
            },
            "type": "mesh3d"
           }
          ],
          "parcoords": [
           {
            "line": {
             "colorbar": {
              "outlinewidth": 0,
              "ticks": ""
             }
            },
            "type": "parcoords"
           }
          ],
          "pie": [
           {
            "automargin": true,
            "type": "pie"
           }
          ],
          "scatter": [
           {
            "fillpattern": {
             "fillmode": "overlay",
             "size": 10,
             "solidity": 0.2
            },
            "type": "scatter"
           }
          ],
          "scatter3d": [
           {
            "line": {
             "colorbar": {
              "outlinewidth": 0,
              "ticks": ""
             }
            },
            "marker": {
             "colorbar": {
              "outlinewidth": 0,
              "ticks": ""
             }
            },
            "type": "scatter3d"
           }
          ],
          "scattercarpet": [
           {
            "marker": {
             "colorbar": {
              "outlinewidth": 0,
              "ticks": ""
             }
            },
            "type": "scattercarpet"
           }
          ],
          "scattergeo": [
           {
            "marker": {
             "colorbar": {
              "outlinewidth": 0,
              "ticks": ""
             }
            },
            "type": "scattergeo"
           }
          ],
          "scattergl": [
           {
            "marker": {
             "colorbar": {
              "outlinewidth": 0,
              "ticks": ""
             }
            },
            "type": "scattergl"
           }
          ],
          "scattermapbox": [
           {
            "marker": {
             "colorbar": {
              "outlinewidth": 0,
              "ticks": ""
             }
            },
            "type": "scattermapbox"
           }
          ],
          "scatterpolar": [
           {
            "marker": {
             "colorbar": {
              "outlinewidth": 0,
              "ticks": ""
             }
            },
            "type": "scatterpolar"
           }
          ],
          "scatterpolargl": [
           {
            "marker": {
             "colorbar": {
              "outlinewidth": 0,
              "ticks": ""
             }
            },
            "type": "scatterpolargl"
           }
          ],
          "scatterternary": [
           {
            "marker": {
             "colorbar": {
              "outlinewidth": 0,
              "ticks": ""
             }
            },
            "type": "scatterternary"
           }
          ],
          "surface": [
           {
            "colorbar": {
             "outlinewidth": 0,
             "ticks": ""
            },
            "colorscale": [
             [
              0,
              "#0d0887"
             ],
             [
              0.1111111111111111,
              "#46039f"
             ],
             [
              0.2222222222222222,
              "#7201a8"
             ],
             [
              0.3333333333333333,
              "#9c179e"
             ],
             [
              0.4444444444444444,
              "#bd3786"
             ],
             [
              0.5555555555555556,
              "#d8576b"
             ],
             [
              0.6666666666666666,
              "#ed7953"
             ],
             [
              0.7777777777777778,
              "#fb9f3a"
             ],
             [
              0.8888888888888888,
              "#fdca26"
             ],
             [
              1,
              "#f0f921"
             ]
            ],
            "type": "surface"
           }
          ],
          "table": [
           {
            "cells": {
             "fill": {
              "color": "#EBF0F8"
             },
             "line": {
              "color": "white"
             }
            },
            "header": {
             "fill": {
              "color": "#C8D4E3"
             },
             "line": {
              "color": "white"
             }
            },
            "type": "table"
           }
          ]
         },
         "layout": {
          "annotationdefaults": {
           "arrowcolor": "#2a3f5f",
           "arrowhead": 0,
           "arrowwidth": 1
          },
          "autotypenumbers": "strict",
          "coloraxis": {
           "colorbar": {
            "outlinewidth": 0,
            "ticks": ""
           }
          },
          "colorscale": {
           "diverging": [
            [
             0,
             "#8e0152"
            ],
            [
             0.1,
             "#c51b7d"
            ],
            [
             0.2,
             "#de77ae"
            ],
            [
             0.3,
             "#f1b6da"
            ],
            [
             0.4,
             "#fde0ef"
            ],
            [
             0.5,
             "#f7f7f7"
            ],
            [
             0.6,
             "#e6f5d0"
            ],
            [
             0.7,
             "#b8e186"
            ],
            [
             0.8,
             "#7fbc41"
            ],
            [
             0.9,
             "#4d9221"
            ],
            [
             1,
             "#276419"
            ]
           ],
           "sequential": [
            [
             0,
             "#0d0887"
            ],
            [
             0.1111111111111111,
             "#46039f"
            ],
            [
             0.2222222222222222,
             "#7201a8"
            ],
            [
             0.3333333333333333,
             "#9c179e"
            ],
            [
             0.4444444444444444,
             "#bd3786"
            ],
            [
             0.5555555555555556,
             "#d8576b"
            ],
            [
             0.6666666666666666,
             "#ed7953"
            ],
            [
             0.7777777777777778,
             "#fb9f3a"
            ],
            [
             0.8888888888888888,
             "#fdca26"
            ],
            [
             1,
             "#f0f921"
            ]
           ],
           "sequentialminus": [
            [
             0,
             "#0d0887"
            ],
            [
             0.1111111111111111,
             "#46039f"
            ],
            [
             0.2222222222222222,
             "#7201a8"
            ],
            [
             0.3333333333333333,
             "#9c179e"
            ],
            [
             0.4444444444444444,
             "#bd3786"
            ],
            [
             0.5555555555555556,
             "#d8576b"
            ],
            [
             0.6666666666666666,
             "#ed7953"
            ],
            [
             0.7777777777777778,
             "#fb9f3a"
            ],
            [
             0.8888888888888888,
             "#fdca26"
            ],
            [
             1,
             "#f0f921"
            ]
           ]
          },
          "colorway": [
           "#636efa",
           "#EF553B",
           "#00cc96",
           "#ab63fa",
           "#FFA15A",
           "#19d3f3",
           "#FF6692",
           "#B6E880",
           "#FF97FF",
           "#FECB52"
          ],
          "font": {
           "color": "#2a3f5f"
          },
          "geo": {
           "bgcolor": "white",
           "lakecolor": "white",
           "landcolor": "#E5ECF6",
           "showlakes": true,
           "showland": true,
           "subunitcolor": "white"
          },
          "hoverlabel": {
           "align": "left"
          },
          "hovermode": "closest",
          "mapbox": {
           "style": "light"
          },
          "paper_bgcolor": "white",
          "plot_bgcolor": "#E5ECF6",
          "polar": {
           "angularaxis": {
            "gridcolor": "white",
            "linecolor": "white",
            "ticks": ""
           },
           "bgcolor": "#E5ECF6",
           "radialaxis": {
            "gridcolor": "white",
            "linecolor": "white",
            "ticks": ""
           }
          },
          "scene": {
           "xaxis": {
            "backgroundcolor": "#E5ECF6",
            "gridcolor": "white",
            "gridwidth": 2,
            "linecolor": "white",
            "showbackground": true,
            "ticks": "",
            "zerolinecolor": "white"
           },
           "yaxis": {
            "backgroundcolor": "#E5ECF6",
            "gridcolor": "white",
            "gridwidth": 2,
            "linecolor": "white",
            "showbackground": true,
            "ticks": "",
            "zerolinecolor": "white"
           },
           "zaxis": {
            "backgroundcolor": "#E5ECF6",
            "gridcolor": "white",
            "gridwidth": 2,
            "linecolor": "white",
            "showbackground": true,
            "ticks": "",
            "zerolinecolor": "white"
           }
          },
          "shapedefaults": {
           "line": {
            "color": "#2a3f5f"
           }
          },
          "ternary": {
           "aaxis": {
            "gridcolor": "white",
            "linecolor": "white",
            "ticks": ""
           },
           "baxis": {
            "gridcolor": "white",
            "linecolor": "white",
            "ticks": ""
           },
           "bgcolor": "#E5ECF6",
           "caxis": {
            "gridcolor": "white",
            "linecolor": "white",
            "ticks": ""
           }
          },
          "title": {
           "x": 0.05
          },
          "xaxis": {
           "automargin": true,
           "gridcolor": "white",
           "linecolor": "white",
           "ticks": "",
           "title": {
            "standoff": 15
           },
           "zerolinecolor": "white",
           "zerolinewidth": 2
          },
          "yaxis": {
           "automargin": true,
           "gridcolor": "white",
           "linecolor": "white",
           "ticks": "",
           "title": {
            "standoff": 15
           },
           "zerolinecolor": "white",
           "zerolinewidth": 2
          }
         }
        },
        "title": {
         "text": "CI with A/B emulated 10% slowdown - dacapo"
        },
        "xaxis": {
         "anchor": "y",
         "categoryorder": "category ascending",
         "domain": [
          0,
          0.31999999999999995
         ],
         "title": {
          "text": "benchmark"
         }
        },
        "xaxis2": {
         "anchor": "y2",
         "categoryorder": "category ascending",
         "domain": [
          0.33999999999999997,
          0.6599999999999999
         ],
         "matches": "x",
         "title": {
          "text": "benchmark"
         }
        },
        "xaxis3": {
         "anchor": "y3",
         "categoryorder": "category ascending",
         "domain": [
          0.6799999999999999,
          0.9999999999999999
         ],
         "matches": "x",
         "title": {
          "text": "benchmark"
         }
        },
        "yaxis": {
         "anchor": "x",
         "domain": [
          0,
          1
         ],
         "title": {
          "text": "mid"
         }
        },
        "yaxis2": {
         "anchor": "x2",
         "domain": [
          0,
          1
         ],
         "matches": "y",
         "showticklabels": false
        },
        "yaxis3": {
         "anchor": "x3",
         "domain": [
          0,
          1
         ],
         "matches": "y",
         "showticklabels": false
        }
       }
      }
     },
     "metadata": {},
     "output_type": "display_data"
    },
    {
     "data": {
      "application/vnd.plotly.v1+json": {
       "config": {
        "plotlyServerURL": "https://plot.ly"
       },
       "data": [
        {
         "error_y": {
          "array": [
           1808742469.2344093,
           554592646.8464851,
           1268434211.3828297,
           95729229.2040596,
           433046801.5740051,
           1524946342.0283394,
           5906694514.648151,
           111680908.59277344,
           895640680.9329166,
           882724669.5021935,
           259758756.43236542,
           347106829.28673744,
           300858918.3107872,
           945542115.227108,
           384801686.74884415,
           3639748894.4269524
          ]
         },
         "hovertemplate": "type=seqn<br>environment=AWS:t3.medium<br>benchmark=%{x}<br>mid=%{y}<extra></extra>",
         "legendgroup": "seqn",
         "marker": {
          "color": "#636efa",
          "symbol": "circle"
         },
         "mode": "markers",
         "name": "seqn",
         "orientation": "v",
         "showlegend": true,
         "type": "scatter",
         "x": [
          "500_perlbench_r",
          "505_mcf_r",
          "507_cactuBSSN_r",
          "508_namd_r",
          "511_povray_r",
          "519_lbm_r",
          "520_omnetpp_r",
          "525_x264_r",
          "531_deepsjeng_r",
          "538_imagick_r",
          "541_leela_r",
          "544_nab_r",
          "548_exchange2_r",
          "549_fotonik3d_r",
          "554_roms_r",
          "557_xz_r"
         ],
         "xaxis": "x",
         "y": [
          -38779831891.09248,
          -37425833957.00937,
          -28359109901.885582,
          -22873978608.236526,
          -32306173885.70201,
          -23931529824.72013,
          -42623138221.2464,
          -21415986580.92159,
          -33504808541.152466,
          -44559515688.687836,
          -50054827024.617195,
          -30065259562.524323,
          -44589566983.60899,
          -40962086413.83429,
          -27130314288.506195,
          -51408024836.27074
         ],
         "yaxis": "y"
        },
        {
         "error_y": {
          "array": [
           305302654.24401474,
           653338843.4172974,
           216785371.80446434,
           287867663.4338722,
           550606436.1355019,
           202842189.49079895,
           516491559.1970787,
           68560122.20110321,
           104588240.92412949,
           591073046.1671352,
           156107173.26737976,
           96282212.51837349,
           392188042.58667374,
           250743004.03056335,
           161856653.03713036,
           182846614.42512512
          ]
         },
         "hovertemplate": "type=seqn<br>environment=bare-metal<br>benchmark=%{x}<br>mid=%{y}<extra></extra>",
         "legendgroup": "seqn",
         "marker": {
          "color": "#636efa",
          "symbol": "circle"
         },
         "mode": "markers",
         "name": "seqn",
         "orientation": "v",
         "showlegend": false,
         "type": "scatter",
         "x": [
          "500_perlbench_r",
          "505_mcf_r",
          "507_cactuBSSN_r",
          "508_namd_r",
          "511_povray_r",
          "519_lbm_r",
          "520_omnetpp_r",
          "525_x264_r",
          "531_deepsjeng_r",
          "538_imagick_r",
          "541_leela_r",
          "544_nab_r",
          "548_exchange2_r",
          "549_fotonik3d_r",
          "554_roms_r",
          "557_xz_r"
         ],
         "xaxis": "x2",
         "y": [
          -28295894119.828075,
          -28658622435.994892,
          -20936794386.07888,
          -20312382772.137604,
          -29056402433.812145,
          -16092183048.191133,
          -36423029458.60257,
          -18172588140.8785,
          -26355216220.505615,
          -32922989008.208206,
          -41943701157.69189,
          -26387750834.79949,
          -36634149302.741714,
          -27637942047.3036,
          -19322164795.545288,
          -36428541117.037285
         ],
         "yaxis": "y2"
        },
        {
         "error_y": {
          "array": [
           634545377.862896,
           492650965.4033356,
           581009570.9077339,
           174488834.47850418,
           424699096.2986946,
           425944087.7159691,
           1721243014.281227,
           164909224.89774704,
           284636468.66435623,
           658043606.2854767,
           308634068.37753296,
           272764728.71424866,
           256742949.70223236,
           347974443.3801422,
           321796672.9874382,
           461373729.3207779
          ]
         },
         "hovertemplate": "type=duet<br>environment=AWS:t3.medium<br>benchmark=%{x}<br>mid=%{y}<extra></extra>",
         "legendgroup": "duet",
         "marker": {
          "color": "#EF553B",
          "symbol": "circle"
         },
         "mode": "markers",
         "name": "duet",
         "orientation": "v",
         "showlegend": true,
         "type": "scatter",
         "x": [
          "500_perlbench_r",
          "505_mcf_r",
          "507_cactuBSSN_r",
          "508_namd_r",
          "511_povray_r",
          "519_lbm_r",
          "520_omnetpp_r",
          "525_x264_r",
          "531_deepsjeng_r",
          "538_imagick_r",
          "541_leela_r",
          "544_nab_r",
          "548_exchange2_r",
          "549_fotonik3d_r",
          "554_roms_r",
          "557_xz_r"
         ],
         "xaxis": "x",
         "y": [
          -63942974424.384995,
          -58771743068.983345,
          -46630448313.42322,
          -40956643552.98357,
          -56807415492.43248,
          -36793567967.56625,
          -73952544999.46555,
          -37269144493.365906,
          -50841374698.49367,
          -82890028070.85512,
          -71212133340.54646,
          -44558214582.61551,
          -84583757871.63843,
          -71045039807.50006,
          -48485825225.73178,
          -67549007699.94827
         ],
         "yaxis": "y"
        },
        {
         "error_y": {
          "array": [
           256041193.08433914,
           392417541.7651005,
           760129846.5320549,
           227006312.7003479,
           512125957.1445408,
           537673737.0629158,
           1089483372.762909,
           76462032.04975128,
           119038053.7014904,
           387749069.72761726,
           89416364.99388504,
           114395604.18955612,
           372930277.70441055,
           179358681.45479965,
           476951443.736948,
           516276952.0718956
          ]
         },
         "hovertemplate": "type=duet<br>environment=bare-metal<br>benchmark=%{x}<br>mid=%{y}<extra></extra>",
         "legendgroup": "duet",
         "marker": {
          "color": "#EF553B",
          "symbol": "circle"
         },
         "mode": "markers",
         "name": "duet",
         "orientation": "v",
         "showlegend": false,
         "type": "scatter",
         "x": [
          "500_perlbench_r",
          "505_mcf_r",
          "507_cactuBSSN_r",
          "508_namd_r",
          "511_povray_r",
          "519_lbm_r",
          "520_omnetpp_r",
          "525_x264_r",
          "531_deepsjeng_r",
          "538_imagick_r",
          "541_leela_r",
          "544_nab_r",
          "548_exchange2_r",
          "549_fotonik3d_r",
          "554_roms_r",
          "557_xz_r"
         ],
         "xaxis": "x2",
         "y": [
          -29656540766.35656,
          -29941033744.560745,
          -21616674597.742924,
          -20476200804.399803,
          -29093528557.581688,
          -25084816477.767727,
          -40207502263.76417,
          -18294105696.533558,
          -26860560334.002594,
          -32601232432.345383,
          -42096642758.15248,
          -26409827767.559,
          -36526407128.000244,
          -41692535647.05711,
          -24484073300.785355,
          -38045421305.26335
         ],
         "yaxis": "y2"
        }
       ],
       "layout": {
        "annotations": [
         {
          "font": {},
          "showarrow": false,
          "text": "environment=AWS:t3.medium",
          "x": 0.245,
          "xanchor": "center",
          "xref": "paper",
          "y": 1,
          "yanchor": "bottom",
          "yref": "paper"
         },
         {
          "font": {},
          "showarrow": false,
          "text": "environment=bare-metal",
          "x": 0.755,
          "xanchor": "center",
          "xref": "paper",
          "y": 1,
          "yanchor": "bottom",
          "yref": "paper"
         }
        ],
        "legend": {
         "title": {
          "text": "type"
         },
         "tracegroupgap": 0
        },
        "template": {
         "data": {
          "bar": [
           {
            "error_x": {
             "color": "#2a3f5f"
            },
            "error_y": {
             "color": "#2a3f5f"
            },
            "marker": {
             "line": {
              "color": "#E5ECF6",
              "width": 0.5
             },
             "pattern": {
              "fillmode": "overlay",
              "size": 10,
              "solidity": 0.2
             }
            },
            "type": "bar"
           }
          ],
          "barpolar": [
           {
            "marker": {
             "line": {
              "color": "#E5ECF6",
              "width": 0.5
             },
             "pattern": {
              "fillmode": "overlay",
              "size": 10,
              "solidity": 0.2
             }
            },
            "type": "barpolar"
           }
          ],
          "carpet": [
           {
            "aaxis": {
             "endlinecolor": "#2a3f5f",
             "gridcolor": "white",
             "linecolor": "white",
             "minorgridcolor": "white",
             "startlinecolor": "#2a3f5f"
            },
            "baxis": {
             "endlinecolor": "#2a3f5f",
             "gridcolor": "white",
             "linecolor": "white",
             "minorgridcolor": "white",
             "startlinecolor": "#2a3f5f"
            },
            "type": "carpet"
           }
          ],
          "choropleth": [
           {
            "colorbar": {
             "outlinewidth": 0,
             "ticks": ""
            },
            "type": "choropleth"
           }
          ],
          "contour": [
           {
            "colorbar": {
             "outlinewidth": 0,
             "ticks": ""
            },
            "colorscale": [
             [
              0,
              "#0d0887"
             ],
             [
              0.1111111111111111,
              "#46039f"
             ],
             [
              0.2222222222222222,
              "#7201a8"
             ],
             [
              0.3333333333333333,
              "#9c179e"
             ],
             [
              0.4444444444444444,
              "#bd3786"
             ],
             [
              0.5555555555555556,
              "#d8576b"
             ],
             [
              0.6666666666666666,
              "#ed7953"
             ],
             [
              0.7777777777777778,
              "#fb9f3a"
             ],
             [
              0.8888888888888888,
              "#fdca26"
             ],
             [
              1,
              "#f0f921"
             ]
            ],
            "type": "contour"
           }
          ],
          "contourcarpet": [
           {
            "colorbar": {
             "outlinewidth": 0,
             "ticks": ""
            },
            "type": "contourcarpet"
           }
          ],
          "heatmap": [
           {
            "colorbar": {
             "outlinewidth": 0,
             "ticks": ""
            },
            "colorscale": [
             [
              0,
              "#0d0887"
             ],
             [
              0.1111111111111111,
              "#46039f"
             ],
             [
              0.2222222222222222,
              "#7201a8"
             ],
             [
              0.3333333333333333,
              "#9c179e"
             ],
             [
              0.4444444444444444,
              "#bd3786"
             ],
             [
              0.5555555555555556,
              "#d8576b"
             ],
             [
              0.6666666666666666,
              "#ed7953"
             ],
             [
              0.7777777777777778,
              "#fb9f3a"
             ],
             [
              0.8888888888888888,
              "#fdca26"
             ],
             [
              1,
              "#f0f921"
             ]
            ],
            "type": "heatmap"
           }
          ],
          "heatmapgl": [
           {
            "colorbar": {
             "outlinewidth": 0,
             "ticks": ""
            },
            "colorscale": [
             [
              0,
              "#0d0887"
             ],
             [
              0.1111111111111111,
              "#46039f"
             ],
             [
              0.2222222222222222,
              "#7201a8"
             ],
             [
              0.3333333333333333,
              "#9c179e"
             ],
             [
              0.4444444444444444,
              "#bd3786"
             ],
             [
              0.5555555555555556,
              "#d8576b"
             ],
             [
              0.6666666666666666,
              "#ed7953"
             ],
             [
              0.7777777777777778,
              "#fb9f3a"
             ],
             [
              0.8888888888888888,
              "#fdca26"
             ],
             [
              1,
              "#f0f921"
             ]
            ],
            "type": "heatmapgl"
           }
          ],
          "histogram": [
           {
            "marker": {
             "pattern": {
              "fillmode": "overlay",
              "size": 10,
              "solidity": 0.2
             }
            },
            "type": "histogram"
           }
          ],
          "histogram2d": [
           {
            "colorbar": {
             "outlinewidth": 0,
             "ticks": ""
            },
            "colorscale": [
             [
              0,
              "#0d0887"
             ],
             [
              0.1111111111111111,
              "#46039f"
             ],
             [
              0.2222222222222222,
              "#7201a8"
             ],
             [
              0.3333333333333333,
              "#9c179e"
             ],
             [
              0.4444444444444444,
              "#bd3786"
             ],
             [
              0.5555555555555556,
              "#d8576b"
             ],
             [
              0.6666666666666666,
              "#ed7953"
             ],
             [
              0.7777777777777778,
              "#fb9f3a"
             ],
             [
              0.8888888888888888,
              "#fdca26"
             ],
             [
              1,
              "#f0f921"
             ]
            ],
            "type": "histogram2d"
           }
          ],
          "histogram2dcontour": [
           {
            "colorbar": {
             "outlinewidth": 0,
             "ticks": ""
            },
            "colorscale": [
             [
              0,
              "#0d0887"
             ],
             [
              0.1111111111111111,
              "#46039f"
             ],
             [
              0.2222222222222222,
              "#7201a8"
             ],
             [
              0.3333333333333333,
              "#9c179e"
             ],
             [
              0.4444444444444444,
              "#bd3786"
             ],
             [
              0.5555555555555556,
              "#d8576b"
             ],
             [
              0.6666666666666666,
              "#ed7953"
             ],
             [
              0.7777777777777778,
              "#fb9f3a"
             ],
             [
              0.8888888888888888,
              "#fdca26"
             ],
             [
              1,
              "#f0f921"
             ]
            ],
            "type": "histogram2dcontour"
           }
          ],
          "mesh3d": [
           {
            "colorbar": {
             "outlinewidth": 0,
             "ticks": ""
            },
            "type": "mesh3d"
           }
          ],
          "parcoords": [
           {
            "line": {
             "colorbar": {
              "outlinewidth": 0,
              "ticks": ""
             }
            },
            "type": "parcoords"
           }
          ],
          "pie": [
           {
            "automargin": true,
            "type": "pie"
           }
          ],
          "scatter": [
           {
            "fillpattern": {
             "fillmode": "overlay",
             "size": 10,
             "solidity": 0.2
            },
            "type": "scatter"
           }
          ],
          "scatter3d": [
           {
            "line": {
             "colorbar": {
              "outlinewidth": 0,
              "ticks": ""
             }
            },
            "marker": {
             "colorbar": {
              "outlinewidth": 0,
              "ticks": ""
             }
            },
            "type": "scatter3d"
           }
          ],
          "scattercarpet": [
           {
            "marker": {
             "colorbar": {
              "outlinewidth": 0,
              "ticks": ""
             }
            },
            "type": "scattercarpet"
           }
          ],
          "scattergeo": [
           {
            "marker": {
             "colorbar": {
              "outlinewidth": 0,
              "ticks": ""
             }
            },
            "type": "scattergeo"
           }
          ],
          "scattergl": [
           {
            "marker": {
             "colorbar": {
              "outlinewidth": 0,
              "ticks": ""
             }
            },
            "type": "scattergl"
           }
          ],
          "scattermapbox": [
           {
            "marker": {
             "colorbar": {
              "outlinewidth": 0,
              "ticks": ""
             }
            },
            "type": "scattermapbox"
           }
          ],
          "scatterpolar": [
           {
            "marker": {
             "colorbar": {
              "outlinewidth": 0,
              "ticks": ""
             }
            },
            "type": "scatterpolar"
           }
          ],
          "scatterpolargl": [
           {
            "marker": {
             "colorbar": {
              "outlinewidth": 0,
              "ticks": ""
             }
            },
            "type": "scatterpolargl"
           }
          ],
          "scatterternary": [
           {
            "marker": {
             "colorbar": {
              "outlinewidth": 0,
              "ticks": ""
             }
            },
            "type": "scatterternary"
           }
          ],
          "surface": [
           {
            "colorbar": {
             "outlinewidth": 0,
             "ticks": ""
            },
            "colorscale": [
             [
              0,
              "#0d0887"
             ],
             [
              0.1111111111111111,
              "#46039f"
             ],
             [
              0.2222222222222222,
              "#7201a8"
             ],
             [
              0.3333333333333333,
              "#9c179e"
             ],
             [
              0.4444444444444444,
              "#bd3786"
             ],
             [
              0.5555555555555556,
              "#d8576b"
             ],
             [
              0.6666666666666666,
              "#ed7953"
             ],
             [
              0.7777777777777778,
              "#fb9f3a"
             ],
             [
              0.8888888888888888,
              "#fdca26"
             ],
             [
              1,
              "#f0f921"
             ]
            ],
            "type": "surface"
           }
          ],
          "table": [
           {
            "cells": {
             "fill": {
              "color": "#EBF0F8"
             },
             "line": {
              "color": "white"
             }
            },
            "header": {
             "fill": {
              "color": "#C8D4E3"
             },
             "line": {
              "color": "white"
             }
            },
            "type": "table"
           }
          ]
         },
         "layout": {
          "annotationdefaults": {
           "arrowcolor": "#2a3f5f",
           "arrowhead": 0,
           "arrowwidth": 1
          },
          "autotypenumbers": "strict",
          "coloraxis": {
           "colorbar": {
            "outlinewidth": 0,
            "ticks": ""
           }
          },
          "colorscale": {
           "diverging": [
            [
             0,
             "#8e0152"
            ],
            [
             0.1,
             "#c51b7d"
            ],
            [
             0.2,
             "#de77ae"
            ],
            [
             0.3,
             "#f1b6da"
            ],
            [
             0.4,
             "#fde0ef"
            ],
            [
             0.5,
             "#f7f7f7"
            ],
            [
             0.6,
             "#e6f5d0"
            ],
            [
             0.7,
             "#b8e186"
            ],
            [
             0.8,
             "#7fbc41"
            ],
            [
             0.9,
             "#4d9221"
            ],
            [
             1,
             "#276419"
            ]
           ],
           "sequential": [
            [
             0,
             "#0d0887"
            ],
            [
             0.1111111111111111,
             "#46039f"
            ],
            [
             0.2222222222222222,
             "#7201a8"
            ],
            [
             0.3333333333333333,
             "#9c179e"
            ],
            [
             0.4444444444444444,
             "#bd3786"
            ],
            [
             0.5555555555555556,
             "#d8576b"
            ],
            [
             0.6666666666666666,
             "#ed7953"
            ],
            [
             0.7777777777777778,
             "#fb9f3a"
            ],
            [
             0.8888888888888888,
             "#fdca26"
            ],
            [
             1,
             "#f0f921"
            ]
           ],
           "sequentialminus": [
            [
             0,
             "#0d0887"
            ],
            [
             0.1111111111111111,
             "#46039f"
            ],
            [
             0.2222222222222222,
             "#7201a8"
            ],
            [
             0.3333333333333333,
             "#9c179e"
            ],
            [
             0.4444444444444444,
             "#bd3786"
            ],
            [
             0.5555555555555556,
             "#d8576b"
            ],
            [
             0.6666666666666666,
             "#ed7953"
            ],
            [
             0.7777777777777778,
             "#fb9f3a"
            ],
            [
             0.8888888888888888,
             "#fdca26"
            ],
            [
             1,
             "#f0f921"
            ]
           ]
          },
          "colorway": [
           "#636efa",
           "#EF553B",
           "#00cc96",
           "#ab63fa",
           "#FFA15A",
           "#19d3f3",
           "#FF6692",
           "#B6E880",
           "#FF97FF",
           "#FECB52"
          ],
          "font": {
           "color": "#2a3f5f"
          },
          "geo": {
           "bgcolor": "white",
           "lakecolor": "white",
           "landcolor": "#E5ECF6",
           "showlakes": true,
           "showland": true,
           "subunitcolor": "white"
          },
          "hoverlabel": {
           "align": "left"
          },
          "hovermode": "closest",
          "mapbox": {
           "style": "light"
          },
          "paper_bgcolor": "white",
          "plot_bgcolor": "#E5ECF6",
          "polar": {
           "angularaxis": {
            "gridcolor": "white",
            "linecolor": "white",
            "ticks": ""
           },
           "bgcolor": "#E5ECF6",
           "radialaxis": {
            "gridcolor": "white",
            "linecolor": "white",
            "ticks": ""
           }
          },
          "scene": {
           "xaxis": {
            "backgroundcolor": "#E5ECF6",
            "gridcolor": "white",
            "gridwidth": 2,
            "linecolor": "white",
            "showbackground": true,
            "ticks": "",
            "zerolinecolor": "white"
           },
           "yaxis": {
            "backgroundcolor": "#E5ECF6",
            "gridcolor": "white",
            "gridwidth": 2,
            "linecolor": "white",
            "showbackground": true,
            "ticks": "",
            "zerolinecolor": "white"
           },
           "zaxis": {
            "backgroundcolor": "#E5ECF6",
            "gridcolor": "white",
            "gridwidth": 2,
            "linecolor": "white",
            "showbackground": true,
            "ticks": "",
            "zerolinecolor": "white"
           }
          },
          "shapedefaults": {
           "line": {
            "color": "#2a3f5f"
           }
          },
          "ternary": {
           "aaxis": {
            "gridcolor": "white",
            "linecolor": "white",
            "ticks": ""
           },
           "baxis": {
            "gridcolor": "white",
            "linecolor": "white",
            "ticks": ""
           },
           "bgcolor": "#E5ECF6",
           "caxis": {
            "gridcolor": "white",
            "linecolor": "white",
            "ticks": ""
           }
          },
          "title": {
           "x": 0.05
          },
          "xaxis": {
           "automargin": true,
           "gridcolor": "white",
           "linecolor": "white",
           "ticks": "",
           "title": {
            "standoff": 15
           },
           "zerolinecolor": "white",
           "zerolinewidth": 2
          },
          "yaxis": {
           "automargin": true,
           "gridcolor": "white",
           "linecolor": "white",
           "ticks": "",
           "title": {
            "standoff": 15
           },
           "zerolinecolor": "white",
           "zerolinewidth": 2
          }
         }
        },
        "title": {
         "text": "CI with A/B emulated 10% slowdown - speccpu"
        },
        "xaxis": {
         "anchor": "y",
         "categoryorder": "category ascending",
         "domain": [
          0,
          0.49
         ],
         "title": {
          "text": "benchmark"
         }
        },
        "xaxis2": {
         "anchor": "y2",
         "categoryorder": "category ascending",
         "domain": [
          0.51,
          1
         ],
         "matches": "x",
         "title": {
          "text": "benchmark"
         }
        },
        "yaxis": {
         "anchor": "x",
         "domain": [
          0,
          1
         ],
         "title": {
          "text": "mid"
         }
        },
        "yaxis2": {
         "anchor": "x2",
         "domain": [
          0,
          1
         ],
         "matches": "y",
         "showticklabels": false
        }
       }
      }
     },
     "metadata": {},
     "output_type": "display_data"
    }
   ],
   "source": [
    "slowdown = 0.1\n",
    "df = alter_score(df_prep, slowdown)\n",
    "df = compute_ci(df)\n",
    "\n",
    "for suite in unique_suites:\n",
    "    suite_mask = df[RF.suite] == suite\n",
    "    if suite_mask.any():\n",
    "        fig = px.scatter(\n",
    "            df[suite_mask],\n",
    "            x=\"benchmark\",\n",
    "            y=\"mid\",\n",
    "            error_y=\"err\",\n",
    "            color=RF.type,\n",
    "            facet_col=DF.env,\n",
    "            title=f\"CI with A/B emulated {(slowdown * 100):.0f}% slowdown - {suite}\",\n",
    "        )\n",
    "        fig.update_xaxes(categoryorder=\"category ascending\")\n",
    "        fig.show()"
   ]
  },
  {
   "attachments": {},
   "cell_type": "markdown",
   "metadata": {},
   "source": [
    "## Slowdown computation"
   ]
  },
  {
   "cell_type": "code",
   "execution_count": 4,
   "metadata": {},
   "outputs": [
    {
     "data": {
      "text/html": [
       "<div>\n",
       "<style scoped>\n",
       "    .dataframe tbody tr th:only-of-type {\n",
       "        vertical-align: middle;\n",
       "    }\n",
       "\n",
       "    .dataframe tbody tr th {\n",
       "        vertical-align: top;\n",
       "    }\n",
       "\n",
       "    .dataframe thead th {\n",
       "        text-align: right;\n",
       "    }\n",
       "</style>\n",
       "<table border=\"1\" class=\"dataframe\">\n",
       "  <thead>\n",
       "    <tr style=\"text-align: right;\">\n",
       "      <th></th>\n",
       "      <th>environment</th>\n",
       "      <th>suite</th>\n",
       "      <th>type</th>\n",
       "      <th>total_count_ci</th>\n",
       "      <th>match_ci</th>\n",
       "      <th>err_ci</th>\n",
       "      <th>total_count_utest</th>\n",
       "      <th>match_utest</th>\n",
       "      <th>match_ci_%</th>\n",
       "      <th>match_utest_%</th>\n",
       "      <th>slowdown</th>\n",
       "    </tr>\n",
       "  </thead>\n",
       "  <tbody>\n",
       "    <tr>\n",
       "      <th>0</th>\n",
       "      <td>AWS:t3.medium</td>\n",
       "      <td>dacapo</td>\n",
       "      <td>duet</td>\n",
       "      <td>10</td>\n",
       "      <td>10</td>\n",
       "      <td>0.000000e+00</td>\n",
       "      <td>10</td>\n",
       "      <td>7</td>\n",
       "      <td>1.000000</td>\n",
       "      <td>0.700000</td>\n",
       "      <td>0.00</td>\n",
       "    </tr>\n",
       "    <tr>\n",
       "      <th>1</th>\n",
       "      <td>AWS:t3.medium</td>\n",
       "      <td>dacapo</td>\n",
       "      <td>seqn</td>\n",
       "      <td>10</td>\n",
       "      <td>9</td>\n",
       "      <td>-8.817293e+07</td>\n",
       "      <td>10</td>\n",
       "      <td>5</td>\n",
       "      <td>0.900000</td>\n",
       "      <td>0.500000</td>\n",
       "      <td>0.00</td>\n",
       "    </tr>\n",
       "    <tr>\n",
       "      <th>2</th>\n",
       "      <td>AWS:t3.medium</td>\n",
       "      <td>dacapo</td>\n",
       "      <td>syncduet</td>\n",
       "      <td>10</td>\n",
       "      <td>9</td>\n",
       "      <td>3.281199e+06</td>\n",
       "      <td>10</td>\n",
       "      <td>5</td>\n",
       "      <td>0.900000</td>\n",
       "      <td>0.500000</td>\n",
       "      <td>0.00</td>\n",
       "    </tr>\n",
       "    <tr>\n",
       "      <th>3</th>\n",
       "      <td>AWS:t3.medium</td>\n",
       "      <td>renaissance</td>\n",
       "      <td>duet</td>\n",
       "      <td>24</td>\n",
       "      <td>23</td>\n",
       "      <td>-3.718924e+08</td>\n",
       "      <td>24</td>\n",
       "      <td>20</td>\n",
       "      <td>0.958333</td>\n",
       "      <td>0.833333</td>\n",
       "      <td>0.00</td>\n",
       "    </tr>\n",
       "    <tr>\n",
       "      <th>4</th>\n",
       "      <td>AWS:t3.medium</td>\n",
       "      <td>renaissance</td>\n",
       "      <td>seqn</td>\n",
       "      <td>24</td>\n",
       "      <td>22</td>\n",
       "      <td>-4.974167e+08</td>\n",
       "      <td>24</td>\n",
       "      <td>16</td>\n",
       "      <td>0.916667</td>\n",
       "      <td>0.666667</td>\n",
       "      <td>0.00</td>\n",
       "    </tr>\n",
       "    <tr>\n",
       "      <th>...</th>\n",
       "      <td>...</td>\n",
       "      <td>...</td>\n",
       "      <td>...</td>\n",
       "      <td>...</td>\n",
       "      <td>...</td>\n",
       "      <td>...</td>\n",
       "      <td>...</td>\n",
       "      <td>...</td>\n",
       "      <td>...</td>\n",
       "      <td>...</td>\n",
       "      <td>...</td>\n",
       "    </tr>\n",
       "    <tr>\n",
       "      <th>23</th>\n",
       "      <td>teaching</td>\n",
       "      <td>renaissance</td>\n",
       "      <td>duet</td>\n",
       "      <td>23</td>\n",
       "      <td>0</td>\n",
       "      <td>-5.885704e+10</td>\n",
       "      <td>23</td>\n",
       "      <td>0</td>\n",
       "      <td>0.000000</td>\n",
       "      <td>0.000000</td>\n",
       "      <td>0.15</td>\n",
       "    </tr>\n",
       "    <tr>\n",
       "      <th>24</th>\n",
       "      <td>teaching</td>\n",
       "      <td>renaissance</td>\n",
       "      <td>seqn</td>\n",
       "      <td>24</td>\n",
       "      <td>1</td>\n",
       "      <td>-4.881841e+10</td>\n",
       "      <td>24</td>\n",
       "      <td>0</td>\n",
       "      <td>0.041667</td>\n",
       "      <td>0.000000</td>\n",
       "      <td>0.15</td>\n",
       "    </tr>\n",
       "    <tr>\n",
       "      <th>25</th>\n",
       "      <td>teaching</td>\n",
       "      <td>scalabench</td>\n",
       "      <td>duet</td>\n",
       "      <td>21</td>\n",
       "      <td>0</td>\n",
       "      <td>-1.811641e+10</td>\n",
       "      <td>21</td>\n",
       "      <td>0</td>\n",
       "      <td>0.000000</td>\n",
       "      <td>0.000000</td>\n",
       "      <td>0.15</td>\n",
       "    </tr>\n",
       "    <tr>\n",
       "      <th>26</th>\n",
       "      <td>teaching</td>\n",
       "      <td>scalabench</td>\n",
       "      <td>seqn</td>\n",
       "      <td>21</td>\n",
       "      <td>2</td>\n",
       "      <td>-1.840440e+10</td>\n",
       "      <td>21</td>\n",
       "      <td>0</td>\n",
       "      <td>0.095238</td>\n",
       "      <td>0.000000</td>\n",
       "      <td>0.15</td>\n",
       "    </tr>\n",
       "    <tr>\n",
       "      <th>27</th>\n",
       "      <td>teaching</td>\n",
       "      <td>scalabench</td>\n",
       "      <td>syncduet</td>\n",
       "      <td>21</td>\n",
       "      <td>0</td>\n",
       "      <td>-2.137415e+10</td>\n",
       "      <td>21</td>\n",
       "      <td>0</td>\n",
       "      <td>0.000000</td>\n",
       "      <td>0.000000</td>\n",
       "      <td>0.15</td>\n",
       "    </tr>\n",
       "  </tbody>\n",
       "</table>\n",
       "<p>448 rows × 11 columns</p>\n",
       "</div>"
      ],
      "text/plain": [
       "      environment        suite      type  total_count_ci  match_ci  \\\n",
       "0   AWS:t3.medium       dacapo      duet              10        10   \n",
       "1   AWS:t3.medium       dacapo      seqn              10         9   \n",
       "2   AWS:t3.medium       dacapo  syncduet              10         9   \n",
       "3   AWS:t3.medium  renaissance      duet              24        23   \n",
       "4   AWS:t3.medium  renaissance      seqn              24        22   \n",
       "..            ...          ...       ...             ...       ...   \n",
       "23       teaching  renaissance      duet              23         0   \n",
       "24       teaching  renaissance      seqn              24         1   \n",
       "25       teaching   scalabench      duet              21         0   \n",
       "26       teaching   scalabench      seqn              21         2   \n",
       "27       teaching   scalabench  syncduet              21         0   \n",
       "\n",
       "          err_ci  total_count_utest  match_utest  match_ci_%  match_utest_%  \\\n",
       "0   0.000000e+00                 10            7    1.000000       0.700000   \n",
       "1  -8.817293e+07                 10            5    0.900000       0.500000   \n",
       "2   3.281199e+06                 10            5    0.900000       0.500000   \n",
       "3  -3.718924e+08                 24           20    0.958333       0.833333   \n",
       "4  -4.974167e+08                 24           16    0.916667       0.666667   \n",
       "..           ...                ...          ...         ...            ...   \n",
       "23 -5.885704e+10                 23            0    0.000000       0.000000   \n",
       "24 -4.881841e+10                 24            0    0.041667       0.000000   \n",
       "25 -1.811641e+10                 21            0    0.000000       0.000000   \n",
       "26 -1.840440e+10                 21            0    0.095238       0.000000   \n",
       "27 -2.137415e+10                 21            0    0.000000       0.000000   \n",
       "\n",
       "    slowdown  \n",
       "0       0.00  \n",
       "1       0.00  \n",
       "2       0.00  \n",
       "3       0.00  \n",
       "4       0.00  \n",
       "..       ...  \n",
       "23      0.15  \n",
       "24      0.15  \n",
       "25      0.15  \n",
       "26      0.15  \n",
       "27      0.15  \n",
       "\n",
       "[448 rows x 11 columns]"
      ]
     },
     "execution_count": 4,
     "metadata": {},
     "output_type": "execute_result"
    }
   ],
   "source": [
    "slowdowns = [0.01 * i for i in range(16)]\n",
    "dfs = []\n",
    "for slowdown in slowdowns:\n",
    "    df = alter_score(df_prep, slowdown)\n",
    "    df_ci = compute_ci(df)\n",
    "    df_pred = arbiter(df, df_ci)\n",
    "    df_pred = group_predictions(df_pred)\n",
    "    df_pred[DF.slowdown] = slowdown\n",
    "    dfs.append(df_pred)\n",
    "\n",
    "df_slowdown = pd.concat(dfs)\n",
    "df_slowdown"
   ]
  },
  {
   "attachments": {},
   "cell_type": "markdown",
   "metadata": {},
   "source": [
    "## MDS using CI-test"
   ]
  },
  {
   "cell_type": "code",
   "execution_count": 7,
   "metadata": {},
   "outputs": [
    {
     "data": {
      "application/vnd.plotly.v1+json": {
       "config": {
        "plotlyServerURL": "https://plot.ly"
       },
       "data": [
        {
         "hovertemplate": "type=duet<br>suite=dacapo<br>environment=AWS:t3.medium<br>slowdown=%{x}<br>match_ci_%=%{y}<extra></extra>",
         "legendgroup": "duet",
         "line": {
          "color": "#636efa",
          "dash": "solid"
         },
         "marker": {
          "symbol": "circle"
         },
         "mode": "lines+markers",
         "name": "duet",
         "orientation": "v",
         "showlegend": true,
         "type": "scatter",
         "x": [
          0,
          0.01,
          0.02,
          0.03,
          0.04,
          0.05,
          0.06,
          0.07,
          0.08,
          0.09,
          0.1,
          0.11,
          0.12,
          0.13,
          0.14,
          0.15
         ],
         "xaxis": "x10",
         "y": [
          1,
          0.3,
          0.1,
          0,
          0,
          0,
          0,
          0,
          0,
          0,
          0,
          0,
          0,
          0,
          0,
          0
         ],
         "yaxis": "y10"
        },
        {
         "hovertemplate": "type=duet<br>suite=dacapo<br>environment=bare-metal<br>slowdown=%{x}<br>match_ci_%=%{y}<extra></extra>",
         "legendgroup": "duet",
         "line": {
          "color": "#636efa",
          "dash": "solid"
         },
         "marker": {
          "symbol": "circle"
         },
         "mode": "lines+markers",
         "name": "duet",
         "orientation": "v",
         "showlegend": false,
         "type": "scatter",
         "x": [
          0,
          0.01,
          0.02,
          0.03,
          0.04,
          0.05,
          0.06,
          0.07,
          0.08,
          0.09,
          0.1,
          0.11,
          0.12,
          0.13,
          0.14,
          0.15
         ],
         "xaxis": "x11",
         "y": [
          1,
          0.2,
          0,
          0,
          0,
          0,
          0,
          0,
          0,
          0,
          0,
          0,
          0,
          0,
          0,
          0
         ],
         "yaxis": "y11"
        },
        {
         "hovertemplate": "type=duet<br>suite=dacapo<br>environment=teaching<br>slowdown=%{x}<br>match_ci_%=%{y}<extra></extra>",
         "legendgroup": "duet",
         "line": {
          "color": "#636efa",
          "dash": "solid"
         },
         "marker": {
          "symbol": "circle"
         },
         "mode": "lines+markers",
         "name": "duet",
         "orientation": "v",
         "showlegend": false,
         "type": "scatter",
         "x": [
          0,
          0.01,
          0.02,
          0.03,
          0.04,
          0.05,
          0.06,
          0.07,
          0.08,
          0.09,
          0.1,
          0.11,
          0.12,
          0.13,
          0.14,
          0.15
         ],
         "xaxis": "x12",
         "y": [
          1,
          0.9,
          0.4,
          0.2,
          0.1,
          0,
          0,
          0,
          0,
          0,
          0,
          0,
          0,
          0,
          0,
          0
         ],
         "yaxis": "y12"
        },
        {
         "hovertemplate": "type=duet<br>suite=renaissance<br>environment=AWS:t3.medium<br>slowdown=%{x}<br>match_ci_%=%{y}<extra></extra>",
         "legendgroup": "duet",
         "line": {
          "color": "#636efa",
          "dash": "solid"
         },
         "marker": {
          "symbol": "circle"
         },
         "mode": "lines+markers",
         "name": "duet",
         "orientation": "v",
         "showlegend": false,
         "type": "scatter",
         "x": [
          0,
          0.01,
          0.02,
          0.03,
          0.04,
          0.05,
          0.06,
          0.07,
          0.08,
          0.09,
          0.1,
          0.11,
          0.12,
          0.13,
          0.14,
          0.15
         ],
         "xaxis": "x7",
         "y": [
          0.9583333333333334,
          0.6666666666666666,
          0.041666666666666664,
          0,
          0,
          0,
          0,
          0,
          0,
          0,
          0,
          0,
          0,
          0,
          0,
          0
         ],
         "yaxis": "y7"
        },
        {
         "hovertemplate": "type=duet<br>suite=renaissance<br>environment=bare-metal<br>slowdown=%{x}<br>match_ci_%=%{y}<extra></extra>",
         "legendgroup": "duet",
         "line": {
          "color": "#636efa",
          "dash": "solid"
         },
         "marker": {
          "symbol": "circle"
         },
         "mode": "lines+markers",
         "name": "duet",
         "orientation": "v",
         "showlegend": false,
         "type": "scatter",
         "x": [
          0,
          0.01,
          0.02,
          0.03,
          0.04,
          0.05,
          0.06,
          0.07,
          0.08,
          0.09,
          0.1,
          0.11,
          0.12,
          0.13,
          0.14,
          0.15
         ],
         "xaxis": "x8",
         "y": [
          0.8260869565217391,
          0.6086956521739131,
          0.08695652173913043,
          0.043478260869565216,
          0,
          0,
          0,
          0,
          0,
          0,
          0,
          0,
          0,
          0,
          0,
          0
         ],
         "yaxis": "y8"
        },
        {
         "hovertemplate": "type=duet<br>suite=renaissance<br>environment=teaching<br>slowdown=%{x}<br>match_ci_%=%{y}<extra></extra>",
         "legendgroup": "duet",
         "line": {
          "color": "#636efa",
          "dash": "solid"
         },
         "marker": {
          "symbol": "circle"
         },
         "mode": "lines+markers",
         "name": "duet",
         "orientation": "v",
         "showlegend": false,
         "type": "scatter",
         "x": [
          0,
          0.01,
          0.02,
          0.03,
          0.04,
          0.05,
          0.06,
          0.07,
          0.08,
          0.09,
          0.1,
          0.11,
          0.12,
          0.13,
          0.14,
          0.15
         ],
         "xaxis": "x9",
         "y": [
          0.9565217391304348,
          0.8260869565217391,
          0.7391304347826086,
          0.5217391304347826,
          0.2608695652173913,
          0.08695652173913043,
          0,
          0,
          0,
          0,
          0,
          0,
          0,
          0,
          0,
          0
         ],
         "yaxis": "y9"
        },
        {
         "hovertemplate": "type=duet<br>suite=scalabench<br>environment=AWS:t3.medium<br>slowdown=%{x}<br>match_ci_%=%{y}<extra></extra>",
         "legendgroup": "duet",
         "line": {
          "color": "#636efa",
          "dash": "solid"
         },
         "marker": {
          "symbol": "circle"
         },
         "mode": "lines+markers",
         "name": "duet",
         "orientation": "v",
         "showlegend": false,
         "type": "scatter",
         "x": [
          0,
          0.01,
          0.02,
          0.03,
          0.04,
          0.05,
          0.06,
          0.07,
          0.08,
          0.09,
          0.1,
          0.11,
          0.12,
          0.13,
          0.14,
          0.15
         ],
         "xaxis": "x4",
         "y": [
          1,
          0.42857142857142855,
          0.23809523809523808,
          0.14285714285714285,
          0.14285714285714285,
          0.09523809523809523,
          0.09523809523809523,
          0.047619047619047616,
          0.047619047619047616,
          0.047619047619047616,
          0.047619047619047616,
          0.047619047619047616,
          0.047619047619047616,
          0.047619047619047616,
          0.047619047619047616,
          0.047619047619047616
         ],
         "yaxis": "y4"
        },
        {
         "hovertemplate": "type=duet<br>suite=scalabench<br>environment=bare-metal<br>slowdown=%{x}<br>match_ci_%=%{y}<extra></extra>",
         "legendgroup": "duet",
         "line": {
          "color": "#636efa",
          "dash": "solid"
         },
         "marker": {
          "symbol": "circle"
         },
         "mode": "lines+markers",
         "name": "duet",
         "orientation": "v",
         "showlegend": false,
         "type": "scatter",
         "x": [
          0,
          0.01,
          0.02,
          0.03,
          0.04,
          0.05,
          0.06,
          0.07,
          0.08,
          0.09,
          0.1,
          0.11,
          0.12,
          0.13,
          0.14,
          0.15
         ],
         "xaxis": "x5",
         "y": [
          0.9523809523809523,
          0.3333333333333333,
          0.19047619047619047,
          0.09523809523809523,
          0.047619047619047616,
          0.047619047619047616,
          0.047619047619047616,
          0.047619047619047616,
          0,
          0,
          0,
          0,
          0,
          0,
          0,
          0
         ],
         "yaxis": "y5"
        },
        {
         "hovertemplate": "type=duet<br>suite=scalabench<br>environment=teaching<br>slowdown=%{x}<br>match_ci_%=%{y}<extra></extra>",
         "legendgroup": "duet",
         "line": {
          "color": "#636efa",
          "dash": "solid"
         },
         "marker": {
          "symbol": "circle"
         },
         "mode": "lines+markers",
         "name": "duet",
         "orientation": "v",
         "showlegend": false,
         "type": "scatter",
         "x": [
          0,
          0.01,
          0.02,
          0.03,
          0.04,
          0.05,
          0.06,
          0.07,
          0.08,
          0.09,
          0.1,
          0.11,
          0.12,
          0.13,
          0.14,
          0.15
         ],
         "xaxis": "x6",
         "y": [
          0.8095238095238095,
          0.8571428571428571,
          0.5238095238095238,
          0.2857142857142857,
          0.19047619047619047,
          0.09523809523809523,
          0.047619047619047616,
          0.047619047619047616,
          0.047619047619047616,
          0.047619047619047616,
          0,
          0,
          0,
          0,
          0,
          0
         ],
         "yaxis": "y6"
        },
        {
         "hovertemplate": "type=duet<br>suite=speccpu<br>environment=AWS:t3.medium<br>slowdown=%{x}<br>match_ci_%=%{y}<extra></extra>",
         "legendgroup": "duet",
         "line": {
          "color": "#636efa",
          "dash": "solid"
         },
         "marker": {
          "symbol": "circle"
         },
         "mode": "lines+markers",
         "name": "duet",
         "orientation": "v",
         "showlegend": false,
         "type": "scatter",
         "x": [
          0,
          0.01,
          0.02,
          0.03,
          0.04,
          0.05,
          0.06,
          0.07,
          0.08,
          0.09,
          0.1,
          0.11,
          0.12,
          0.13,
          0.14,
          0.15
         ],
         "xaxis": "x",
         "y": [
          0.8125,
          0,
          0,
          0,
          0,
          0,
          0,
          0,
          0,
          0,
          0,
          0,
          0,
          0,
          0,
          0
         ],
         "yaxis": "y"
        },
        {
         "hovertemplate": "type=duet<br>suite=speccpu<br>environment=bare-metal<br>slowdown=%{x}<br>match_ci_%=%{y}<extra></extra>",
         "legendgroup": "duet",
         "line": {
          "color": "#636efa",
          "dash": "solid"
         },
         "marker": {
          "symbol": "circle"
         },
         "mode": "lines+markers",
         "name": "duet",
         "orientation": "v",
         "showlegend": false,
         "type": "scatter",
         "x": [
          0,
          0.01,
          0.02,
          0.03,
          0.04,
          0.05,
          0.06,
          0.07,
          0.08,
          0.09,
          0.1,
          0.11,
          0.12,
          0.13,
          0.14,
          0.15
         ],
         "xaxis": "x2",
         "y": [
          0.8125,
          0,
          0,
          0,
          0,
          0,
          0,
          0,
          0,
          0,
          0,
          0,
          0,
          0,
          0,
          0
         ],
         "yaxis": "y2"
        },
        {
         "hovertemplate": "type=seqn<br>suite=dacapo<br>environment=AWS:t3.medium<br>slowdown=%{x}<br>match_ci_%=%{y}<extra></extra>",
         "legendgroup": "seqn",
         "line": {
          "color": "#EF553B",
          "dash": "solid"
         },
         "marker": {
          "symbol": "circle"
         },
         "mode": "lines+markers",
         "name": "seqn",
         "orientation": "v",
         "showlegend": true,
         "type": "scatter",
         "x": [
          0,
          0.01,
          0.02,
          0.03,
          0.04,
          0.05,
          0.06,
          0.07,
          0.08,
          0.09,
          0.1,
          0.11,
          0.12,
          0.13,
          0.14,
          0.15
         ],
         "xaxis": "x10",
         "y": [
          0.9,
          0.6,
          0.2,
          0,
          0,
          0,
          0,
          0,
          0,
          0,
          0,
          0,
          0,
          0,
          0,
          0
         ],
         "yaxis": "y10"
        },
        {
         "hovertemplate": "type=seqn<br>suite=dacapo<br>environment=bare-metal<br>slowdown=%{x}<br>match_ci_%=%{y}<extra></extra>",
         "legendgroup": "seqn",
         "line": {
          "color": "#EF553B",
          "dash": "solid"
         },
         "marker": {
          "symbol": "circle"
         },
         "mode": "lines+markers",
         "name": "seqn",
         "orientation": "v",
         "showlegend": false,
         "type": "scatter",
         "x": [
          0,
          0.01,
          0.02,
          0.03,
          0.04,
          0.05,
          0.06,
          0.07,
          0.08,
          0.09,
          0.1,
          0.11,
          0.12,
          0.13,
          0.14,
          0.15
         ],
         "xaxis": "x11",
         "y": [
          0.8,
          0.4,
          0,
          0,
          0,
          0,
          0,
          0,
          0,
          0,
          0,
          0,
          0,
          0,
          0,
          0
         ],
         "yaxis": "y11"
        },
        {
         "hovertemplate": "type=seqn<br>suite=dacapo<br>environment=teaching<br>slowdown=%{x}<br>match_ci_%=%{y}<extra></extra>",
         "legendgroup": "seqn",
         "line": {
          "color": "#EF553B",
          "dash": "solid"
         },
         "marker": {
          "symbol": "circle"
         },
         "mode": "lines+markers",
         "name": "seqn",
         "orientation": "v",
         "showlegend": false,
         "type": "scatter",
         "x": [
          0,
          0.01,
          0.02,
          0.03,
          0.04,
          0.05,
          0.06,
          0.07,
          0.08,
          0.09,
          0.1,
          0.11,
          0.12,
          0.13,
          0.14,
          0.15
         ],
         "xaxis": "x12",
         "y": [
          0.9,
          1,
          0.8,
          0.6,
          0.4,
          0.4,
          0.4,
          0.4,
          0.4,
          0.4,
          0.4,
          0.3,
          0.3,
          0.2,
          0.2,
          0.2
         ],
         "yaxis": "y12"
        },
        {
         "hovertemplate": "type=seqn<br>suite=renaissance<br>environment=AWS:t3.medium<br>slowdown=%{x}<br>match_ci_%=%{y}<extra></extra>",
         "legendgroup": "seqn",
         "line": {
          "color": "#EF553B",
          "dash": "solid"
         },
         "marker": {
          "symbol": "circle"
         },
         "mode": "lines+markers",
         "name": "seqn",
         "orientation": "v",
         "showlegend": false,
         "type": "scatter",
         "x": [
          0,
          0.01,
          0.02,
          0.03,
          0.04,
          0.05,
          0.06,
          0.07,
          0.08,
          0.09,
          0.1,
          0.11,
          0.12,
          0.13,
          0.14,
          0.15
         ],
         "xaxis": "x7",
         "y": [
          0.9166666666666666,
          0.6666666666666666,
          0.16666666666666666,
          0.041666666666666664,
          0,
          0,
          0,
          0,
          0,
          0,
          0,
          0,
          0,
          0,
          0,
          0
         ],
         "yaxis": "y7"
        },
        {
         "hovertemplate": "type=seqn<br>suite=renaissance<br>environment=bare-metal<br>slowdown=%{x}<br>match_ci_%=%{y}<extra></extra>",
         "legendgroup": "seqn",
         "line": {
          "color": "#EF553B",
          "dash": "solid"
         },
         "marker": {
          "symbol": "circle"
         },
         "mode": "lines+markers",
         "name": "seqn",
         "orientation": "v",
         "showlegend": false,
         "type": "scatter",
         "x": [
          0,
          0.01,
          0.02,
          0.03,
          0.04,
          0.05,
          0.06,
          0.07,
          0.08,
          0.09,
          0.1,
          0.11,
          0.12,
          0.13,
          0.14,
          0.15
         ],
         "xaxis": "x8",
         "y": [
          0.9583333333333334,
          0.5,
          0.25,
          0.125,
          0.08333333333333333,
          0.08333333333333333,
          0.08333333333333333,
          0.08333333333333333,
          0.041666666666666664,
          0.041666666666666664,
          0.041666666666666664,
          0.041666666666666664,
          0.041666666666666664,
          0.041666666666666664,
          0.041666666666666664,
          0
         ],
         "yaxis": "y8"
        },
        {
         "hovertemplate": "type=seqn<br>suite=renaissance<br>environment=teaching<br>slowdown=%{x}<br>match_ci_%=%{y}<extra></extra>",
         "legendgroup": "seqn",
         "line": {
          "color": "#EF553B",
          "dash": "solid"
         },
         "marker": {
          "symbol": "circle"
         },
         "mode": "lines+markers",
         "name": "seqn",
         "orientation": "v",
         "showlegend": false,
         "type": "scatter",
         "x": [
          0,
          0.01,
          0.02,
          0.03,
          0.04,
          0.05,
          0.06,
          0.07,
          0.08,
          0.09,
          0.1,
          0.11,
          0.12,
          0.13,
          0.14,
          0.15
         ],
         "xaxis": "x9",
         "y": [
          0.9583333333333334,
          0.8333333333333334,
          0.7083333333333334,
          0.6666666666666666,
          0.5,
          0.3333333333333333,
          0.3333333333333333,
          0.2916666666666667,
          0.20833333333333334,
          0.20833333333333334,
          0.20833333333333334,
          0.16666666666666666,
          0.125,
          0.08333333333333333,
          0.041666666666666664,
          0.041666666666666664
         ],
         "yaxis": "y9"
        },
        {
         "hovertemplate": "type=seqn<br>suite=scalabench<br>environment=AWS:t3.medium<br>slowdown=%{x}<br>match_ci_%=%{y}<extra></extra>",
         "legendgroup": "seqn",
         "line": {
          "color": "#EF553B",
          "dash": "solid"
         },
         "marker": {
          "symbol": "circle"
         },
         "mode": "lines+markers",
         "name": "seqn",
         "orientation": "v",
         "showlegend": false,
         "type": "scatter",
         "x": [
          0,
          0.01,
          0.02,
          0.03,
          0.04,
          0.05,
          0.06,
          0.07,
          0.08,
          0.09,
          0.1,
          0.11,
          0.12,
          0.13,
          0.14,
          0.15
         ],
         "xaxis": "x4",
         "y": [
          1,
          0.6190476190476191,
          0.2857142857142857,
          0.14285714285714285,
          0.09523809523809523,
          0.09523809523809523,
          0.09523809523809523,
          0.047619047619047616,
          0.047619047619047616,
          0.047619047619047616,
          0.047619047619047616,
          0.047619047619047616,
          0.047619047619047616,
          0.047619047619047616,
          0.047619047619047616,
          0.047619047619047616
         ],
         "yaxis": "y4"
        },
        {
         "hovertemplate": "type=seqn<br>suite=scalabench<br>environment=bare-metal<br>slowdown=%{x}<br>match_ci_%=%{y}<extra></extra>",
         "legendgroup": "seqn",
         "line": {
          "color": "#EF553B",
          "dash": "solid"
         },
         "marker": {
          "symbol": "circle"
         },
         "mode": "lines+markers",
         "name": "seqn",
         "orientation": "v",
         "showlegend": false,
         "type": "scatter",
         "x": [
          0,
          0.01,
          0.02,
          0.03,
          0.04,
          0.05,
          0.06,
          0.07,
          0.08,
          0.09,
          0.1,
          0.11,
          0.12,
          0.13,
          0.14,
          0.15
         ],
         "xaxis": "x5",
         "y": [
          0.8571428571428571,
          0.2857142857142857,
          0.047619047619047616,
          0,
          0,
          0,
          0,
          0,
          0,
          0,
          0,
          0,
          0,
          0,
          0,
          0
         ],
         "yaxis": "y5"
        },
        {
         "hovertemplate": "type=seqn<br>suite=scalabench<br>environment=teaching<br>slowdown=%{x}<br>match_ci_%=%{y}<extra></extra>",
         "legendgroup": "seqn",
         "line": {
          "color": "#EF553B",
          "dash": "solid"
         },
         "marker": {
          "symbol": "circle"
         },
         "mode": "lines+markers",
         "name": "seqn",
         "orientation": "v",
         "showlegend": false,
         "type": "scatter",
         "x": [
          0,
          0.01,
          0.02,
          0.03,
          0.04,
          0.05,
          0.06,
          0.07,
          0.08,
          0.09,
          0.1,
          0.11,
          0.12,
          0.13,
          0.14,
          0.15
         ],
         "xaxis": "x6",
         "y": [
          0.9047619047619048,
          0.7619047619047619,
          0.7142857142857143,
          0.47619047619047616,
          0.47619047619047616,
          0.38095238095238093,
          0.38095238095238093,
          0.3333333333333333,
          0.2857142857142857,
          0.2857142857142857,
          0.19047619047619047,
          0.14285714285714285,
          0.14285714285714285,
          0.14285714285714285,
          0.09523809523809523,
          0.09523809523809523
         ],
         "yaxis": "y6"
        },
        {
         "hovertemplate": "type=seqn<br>suite=speccpu<br>environment=AWS:t3.medium<br>slowdown=%{x}<br>match_ci_%=%{y}<extra></extra>",
         "legendgroup": "seqn",
         "line": {
          "color": "#EF553B",
          "dash": "solid"
         },
         "marker": {
          "symbol": "circle"
         },
         "mode": "lines+markers",
         "name": "seqn",
         "orientation": "v",
         "showlegend": false,
         "type": "scatter",
         "x": [
          0,
          0.01,
          0.02,
          0.03,
          0.04,
          0.05,
          0.06,
          0.07,
          0.08,
          0.09,
          0.1,
          0.11,
          0.12,
          0.13,
          0.14,
          0.15
         ],
         "xaxis": "x",
         "y": [
          0.75,
          0.0625,
          0.0625,
          0,
          0,
          0,
          0,
          0,
          0,
          0,
          0,
          0,
          0,
          0,
          0,
          0
         ],
         "yaxis": "y"
        },
        {
         "hovertemplate": "type=seqn<br>suite=speccpu<br>environment=bare-metal<br>slowdown=%{x}<br>match_ci_%=%{y}<extra></extra>",
         "legendgroup": "seqn",
         "line": {
          "color": "#EF553B",
          "dash": "solid"
         },
         "marker": {
          "symbol": "circle"
         },
         "mode": "lines+markers",
         "name": "seqn",
         "orientation": "v",
         "showlegend": false,
         "type": "scatter",
         "x": [
          0,
          0.01,
          0.02,
          0.03,
          0.04,
          0.05,
          0.06,
          0.07,
          0.08,
          0.09,
          0.1,
          0.11,
          0.12,
          0.13,
          0.14,
          0.15
         ],
         "xaxis": "x2",
         "y": [
          0.875,
          0,
          0,
          0,
          0,
          0,
          0,
          0,
          0,
          0,
          0,
          0,
          0,
          0,
          0,
          0
         ],
         "yaxis": "y2"
        },
        {
         "hovertemplate": "type=syncduet<br>suite=dacapo<br>environment=AWS:t3.medium<br>slowdown=%{x}<br>match_ci_%=%{y}<extra></extra>",
         "legendgroup": "syncduet",
         "line": {
          "color": "#00cc96",
          "dash": "solid"
         },
         "marker": {
          "symbol": "circle"
         },
         "mode": "lines+markers",
         "name": "syncduet",
         "orientation": "v",
         "showlegend": true,
         "type": "scatter",
         "x": [
          0,
          0.01,
          0.02,
          0.03,
          0.04,
          0.05,
          0.06,
          0.07,
          0.08,
          0.09,
          0.1,
          0.11,
          0.12,
          0.13,
          0.14,
          0.15
         ],
         "xaxis": "x10",
         "y": [
          0.9,
          0.4,
          0.1,
          0.1,
          0,
          0,
          0,
          0,
          0,
          0,
          0,
          0,
          0,
          0,
          0,
          0
         ],
         "yaxis": "y10"
        },
        {
         "hovertemplate": "type=syncduet<br>suite=dacapo<br>environment=bare-metal<br>slowdown=%{x}<br>match_ci_%=%{y}<extra></extra>",
         "legendgroup": "syncduet",
         "line": {
          "color": "#00cc96",
          "dash": "solid"
         },
         "marker": {
          "symbol": "circle"
         },
         "mode": "lines+markers",
         "name": "syncduet",
         "orientation": "v",
         "showlegend": false,
         "type": "scatter",
         "x": [
          0,
          0.01,
          0.02,
          0.03,
          0.04,
          0.05,
          0.06,
          0.07,
          0.08,
          0.09,
          0.1,
          0.11,
          0.12,
          0.13,
          0.14,
          0.15
         ],
         "xaxis": "x11",
         "y": [
          0.9,
          0.4,
          0,
          0,
          0,
          0,
          0,
          0,
          0,
          0,
          0,
          0,
          0,
          0,
          0,
          0
         ],
         "yaxis": "y11"
        },
        {
         "hovertemplate": "type=syncduet<br>suite=dacapo<br>environment=teaching<br>slowdown=%{x}<br>match_ci_%=%{y}<extra></extra>",
         "legendgroup": "syncduet",
         "line": {
          "color": "#00cc96",
          "dash": "solid"
         },
         "marker": {
          "symbol": "circle"
         },
         "mode": "lines+markers",
         "name": "syncduet",
         "orientation": "v",
         "showlegend": false,
         "type": "scatter",
         "x": [
          0,
          0.01,
          0.02,
          0.03,
          0.04,
          0.05,
          0.06,
          0.07,
          0.08,
          0.09,
          0.1,
          0.11,
          0.12,
          0.13,
          0.14,
          0.15
         ],
         "xaxis": "x12",
         "y": [
          0.7,
          0.7,
          0.5,
          0,
          0,
          0,
          0,
          0,
          0,
          0,
          0,
          0,
          0,
          0,
          0,
          0
         ],
         "yaxis": "y12"
        },
        {
         "hovertemplate": "type=syncduet<br>suite=scalabench<br>environment=AWS:t3.medium<br>slowdown=%{x}<br>match_ci_%=%{y}<extra></extra>",
         "legendgroup": "syncduet",
         "line": {
          "color": "#00cc96",
          "dash": "solid"
         },
         "marker": {
          "symbol": "circle"
         },
         "mode": "lines+markers",
         "name": "syncduet",
         "orientation": "v",
         "showlegend": false,
         "type": "scatter",
         "x": [
          0,
          0.01,
          0.02,
          0.03,
          0.04,
          0.05,
          0.06,
          0.07,
          0.08,
          0.09,
          0.1,
          0.11,
          0.12,
          0.13,
          0.14,
          0.15
         ],
         "xaxis": "x4",
         "y": [
          1,
          0.47619047619047616,
          0.23809523809523808,
          0.14285714285714285,
          0.09523809523809523,
          0.047619047619047616,
          0.047619047619047616,
          0.047619047619047616,
          0.047619047619047616,
          0.047619047619047616,
          0,
          0,
          0,
          0,
          0,
          0
         ],
         "yaxis": "y4"
        },
        {
         "hovertemplate": "type=syncduet<br>suite=scalabench<br>environment=bare-metal<br>slowdown=%{x}<br>match_ci_%=%{y}<extra></extra>",
         "legendgroup": "syncduet",
         "line": {
          "color": "#00cc96",
          "dash": "solid"
         },
         "marker": {
          "symbol": "circle"
         },
         "mode": "lines+markers",
         "name": "syncduet",
         "orientation": "v",
         "showlegend": false,
         "type": "scatter",
         "x": [
          0,
          0.01,
          0.02,
          0.03,
          0.04,
          0.05,
          0.06,
          0.07,
          0.08,
          0.09,
          0.1,
          0.11,
          0.12,
          0.13,
          0.14,
          0.15
         ],
         "xaxis": "x5",
         "y": [
          0.9523809523809523,
          0.19047619047619047,
          0.09523809523809523,
          0.09523809523809523,
          0.09523809523809523,
          0.047619047619047616,
          0,
          0,
          0,
          0,
          0,
          0,
          0,
          0,
          0,
          0
         ],
         "yaxis": "y5"
        },
        {
         "hovertemplate": "type=syncduet<br>suite=scalabench<br>environment=teaching<br>slowdown=%{x}<br>match_ci_%=%{y}<extra></extra>",
         "legendgroup": "syncduet",
         "line": {
          "color": "#00cc96",
          "dash": "solid"
         },
         "marker": {
          "symbol": "circle"
         },
         "mode": "lines+markers",
         "name": "syncduet",
         "orientation": "v",
         "showlegend": false,
         "type": "scatter",
         "x": [
          0,
          0.01,
          0.02,
          0.03,
          0.04,
          0.05,
          0.06,
          0.07,
          0.08,
          0.09,
          0.1,
          0.11,
          0.12,
          0.13,
          0.14,
          0.15
         ],
         "xaxis": "x6",
         "y": [
          0.8095238095238095,
          0.6190476190476191,
          0.47619047619047616,
          0.14285714285714285,
          0.14285714285714285,
          0.047619047619047616,
          0.047619047619047616,
          0,
          0,
          0,
          0,
          0,
          0,
          0,
          0,
          0
         ],
         "yaxis": "y6"
        }
       ],
       "layout": {
        "annotations": [
         {
          "font": {},
          "showarrow": false,
          "text": "environment=AWS:t3.medium",
          "x": 0.15666666666666665,
          "xanchor": "center",
          "xref": "paper",
          "y": 1,
          "yanchor": "bottom",
          "yref": "paper"
         },
         {
          "font": {},
          "showarrow": false,
          "text": "environment=bare-metal",
          "x": 0.49,
          "xanchor": "center",
          "xref": "paper",
          "y": 1,
          "yanchor": "bottom",
          "yref": "paper"
         },
         {
          "font": {},
          "showarrow": false,
          "text": "environment=teaching",
          "x": 0.8233333333333333,
          "xanchor": "center",
          "xref": "paper",
          "y": 1,
          "yanchor": "bottom",
          "yref": "paper"
         },
         {
          "font": {},
          "showarrow": false,
          "text": "suite=speccpu",
          "textangle": 90,
          "x": 0.98,
          "xanchor": "left",
          "xref": "paper",
          "y": 0.11375,
          "yanchor": "middle",
          "yref": "paper"
         },
         {
          "font": {},
          "showarrow": false,
          "text": "suite=scalabench",
          "textangle": 90,
          "x": 0.98,
          "xanchor": "left",
          "xref": "paper",
          "y": 0.37124999999999997,
          "yanchor": "middle",
          "yref": "paper"
         },
         {
          "font": {},
          "showarrow": false,
          "text": "suite=renaissance",
          "textangle": 90,
          "x": 0.98,
          "xanchor": "left",
          "xref": "paper",
          "y": 0.62875,
          "yanchor": "middle",
          "yref": "paper"
         },
         {
          "font": {},
          "showarrow": false,
          "text": "suite=dacapo",
          "textangle": 90,
          "x": 0.98,
          "xanchor": "left",
          "xref": "paper",
          "y": 0.88625,
          "yanchor": "middle",
          "yref": "paper"
         }
        ],
        "height": 1000,
        "legend": {
         "title": {
          "text": "type"
         },
         "tracegroupgap": 0
        },
        "margin": {
         "t": 60
        },
        "template": {
         "data": {
          "bar": [
           {
            "error_x": {
             "color": "#2a3f5f"
            },
            "error_y": {
             "color": "#2a3f5f"
            },
            "marker": {
             "line": {
              "color": "#E5ECF6",
              "width": 0.5
             },
             "pattern": {
              "fillmode": "overlay",
              "size": 10,
              "solidity": 0.2
             }
            },
            "type": "bar"
           }
          ],
          "barpolar": [
           {
            "marker": {
             "line": {
              "color": "#E5ECF6",
              "width": 0.5
             },
             "pattern": {
              "fillmode": "overlay",
              "size": 10,
              "solidity": 0.2
             }
            },
            "type": "barpolar"
           }
          ],
          "carpet": [
           {
            "aaxis": {
             "endlinecolor": "#2a3f5f",
             "gridcolor": "white",
             "linecolor": "white",
             "minorgridcolor": "white",
             "startlinecolor": "#2a3f5f"
            },
            "baxis": {
             "endlinecolor": "#2a3f5f",
             "gridcolor": "white",
             "linecolor": "white",
             "minorgridcolor": "white",
             "startlinecolor": "#2a3f5f"
            },
            "type": "carpet"
           }
          ],
          "choropleth": [
           {
            "colorbar": {
             "outlinewidth": 0,
             "ticks": ""
            },
            "type": "choropleth"
           }
          ],
          "contour": [
           {
            "colorbar": {
             "outlinewidth": 0,
             "ticks": ""
            },
            "colorscale": [
             [
              0,
              "#0d0887"
             ],
             [
              0.1111111111111111,
              "#46039f"
             ],
             [
              0.2222222222222222,
              "#7201a8"
             ],
             [
              0.3333333333333333,
              "#9c179e"
             ],
             [
              0.4444444444444444,
              "#bd3786"
             ],
             [
              0.5555555555555556,
              "#d8576b"
             ],
             [
              0.6666666666666666,
              "#ed7953"
             ],
             [
              0.7777777777777778,
              "#fb9f3a"
             ],
             [
              0.8888888888888888,
              "#fdca26"
             ],
             [
              1,
              "#f0f921"
             ]
            ],
            "type": "contour"
           }
          ],
          "contourcarpet": [
           {
            "colorbar": {
             "outlinewidth": 0,
             "ticks": ""
            },
            "type": "contourcarpet"
           }
          ],
          "heatmap": [
           {
            "colorbar": {
             "outlinewidth": 0,
             "ticks": ""
            },
            "colorscale": [
             [
              0,
              "#0d0887"
             ],
             [
              0.1111111111111111,
              "#46039f"
             ],
             [
              0.2222222222222222,
              "#7201a8"
             ],
             [
              0.3333333333333333,
              "#9c179e"
             ],
             [
              0.4444444444444444,
              "#bd3786"
             ],
             [
              0.5555555555555556,
              "#d8576b"
             ],
             [
              0.6666666666666666,
              "#ed7953"
             ],
             [
              0.7777777777777778,
              "#fb9f3a"
             ],
             [
              0.8888888888888888,
              "#fdca26"
             ],
             [
              1,
              "#f0f921"
             ]
            ],
            "type": "heatmap"
           }
          ],
          "heatmapgl": [
           {
            "colorbar": {
             "outlinewidth": 0,
             "ticks": ""
            },
            "colorscale": [
             [
              0,
              "#0d0887"
             ],
             [
              0.1111111111111111,
              "#46039f"
             ],
             [
              0.2222222222222222,
              "#7201a8"
             ],
             [
              0.3333333333333333,
              "#9c179e"
             ],
             [
              0.4444444444444444,
              "#bd3786"
             ],
             [
              0.5555555555555556,
              "#d8576b"
             ],
             [
              0.6666666666666666,
              "#ed7953"
             ],
             [
              0.7777777777777778,
              "#fb9f3a"
             ],
             [
              0.8888888888888888,
              "#fdca26"
             ],
             [
              1,
              "#f0f921"
             ]
            ],
            "type": "heatmapgl"
           }
          ],
          "histogram": [
           {
            "marker": {
             "pattern": {
              "fillmode": "overlay",
              "size": 10,
              "solidity": 0.2
             }
            },
            "type": "histogram"
           }
          ],
          "histogram2d": [
           {
            "colorbar": {
             "outlinewidth": 0,
             "ticks": ""
            },
            "colorscale": [
             [
              0,
              "#0d0887"
             ],
             [
              0.1111111111111111,
              "#46039f"
             ],
             [
              0.2222222222222222,
              "#7201a8"
             ],
             [
              0.3333333333333333,
              "#9c179e"
             ],
             [
              0.4444444444444444,
              "#bd3786"
             ],
             [
              0.5555555555555556,
              "#d8576b"
             ],
             [
              0.6666666666666666,
              "#ed7953"
             ],
             [
              0.7777777777777778,
              "#fb9f3a"
             ],
             [
              0.8888888888888888,
              "#fdca26"
             ],
             [
              1,
              "#f0f921"
             ]
            ],
            "type": "histogram2d"
           }
          ],
          "histogram2dcontour": [
           {
            "colorbar": {
             "outlinewidth": 0,
             "ticks": ""
            },
            "colorscale": [
             [
              0,
              "#0d0887"
             ],
             [
              0.1111111111111111,
              "#46039f"
             ],
             [
              0.2222222222222222,
              "#7201a8"
             ],
             [
              0.3333333333333333,
              "#9c179e"
             ],
             [
              0.4444444444444444,
              "#bd3786"
             ],
             [
              0.5555555555555556,
              "#d8576b"
             ],
             [
              0.6666666666666666,
              "#ed7953"
             ],
             [
              0.7777777777777778,
              "#fb9f3a"
             ],
             [
              0.8888888888888888,
              "#fdca26"
             ],
             [
              1,
              "#f0f921"
             ]
            ],
            "type": "histogram2dcontour"
           }
          ],
          "mesh3d": [
           {
            "colorbar": {
             "outlinewidth": 0,
             "ticks": ""
            },
            "type": "mesh3d"
           }
          ],
          "parcoords": [
           {
            "line": {
             "colorbar": {
              "outlinewidth": 0,
              "ticks": ""
             }
            },
            "type": "parcoords"
           }
          ],
          "pie": [
           {
            "automargin": true,
            "type": "pie"
           }
          ],
          "scatter": [
           {
            "fillpattern": {
             "fillmode": "overlay",
             "size": 10,
             "solidity": 0.2
            },
            "type": "scatter"
           }
          ],
          "scatter3d": [
           {
            "line": {
             "colorbar": {
              "outlinewidth": 0,
              "ticks": ""
             }
            },
            "marker": {
             "colorbar": {
              "outlinewidth": 0,
              "ticks": ""
             }
            },
            "type": "scatter3d"
           }
          ],
          "scattercarpet": [
           {
            "marker": {
             "colorbar": {
              "outlinewidth": 0,
              "ticks": ""
             }
            },
            "type": "scattercarpet"
           }
          ],
          "scattergeo": [
           {
            "marker": {
             "colorbar": {
              "outlinewidth": 0,
              "ticks": ""
             }
            },
            "type": "scattergeo"
           }
          ],
          "scattergl": [
           {
            "marker": {
             "colorbar": {
              "outlinewidth": 0,
              "ticks": ""
             }
            },
            "type": "scattergl"
           }
          ],
          "scattermapbox": [
           {
            "marker": {
             "colorbar": {
              "outlinewidth": 0,
              "ticks": ""
             }
            },
            "type": "scattermapbox"
           }
          ],
          "scatterpolar": [
           {
            "marker": {
             "colorbar": {
              "outlinewidth": 0,
              "ticks": ""
             }
            },
            "type": "scatterpolar"
           }
          ],
          "scatterpolargl": [
           {
            "marker": {
             "colorbar": {
              "outlinewidth": 0,
              "ticks": ""
             }
            },
            "type": "scatterpolargl"
           }
          ],
          "scatterternary": [
           {
            "marker": {
             "colorbar": {
              "outlinewidth": 0,
              "ticks": ""
             }
            },
            "type": "scatterternary"
           }
          ],
          "surface": [
           {
            "colorbar": {
             "outlinewidth": 0,
             "ticks": ""
            },
            "colorscale": [
             [
              0,
              "#0d0887"
             ],
             [
              0.1111111111111111,
              "#46039f"
             ],
             [
              0.2222222222222222,
              "#7201a8"
             ],
             [
              0.3333333333333333,
              "#9c179e"
             ],
             [
              0.4444444444444444,
              "#bd3786"
             ],
             [
              0.5555555555555556,
              "#d8576b"
             ],
             [
              0.6666666666666666,
              "#ed7953"
             ],
             [
              0.7777777777777778,
              "#fb9f3a"
             ],
             [
              0.8888888888888888,
              "#fdca26"
             ],
             [
              1,
              "#f0f921"
             ]
            ],
            "type": "surface"
           }
          ],
          "table": [
           {
            "cells": {
             "fill": {
              "color": "#EBF0F8"
             },
             "line": {
              "color": "white"
             }
            },
            "header": {
             "fill": {
              "color": "#C8D4E3"
             },
             "line": {
              "color": "white"
             }
            },
            "type": "table"
           }
          ]
         },
         "layout": {
          "annotationdefaults": {
           "arrowcolor": "#2a3f5f",
           "arrowhead": 0,
           "arrowwidth": 1
          },
          "autotypenumbers": "strict",
          "coloraxis": {
           "colorbar": {
            "outlinewidth": 0,
            "ticks": ""
           }
          },
          "colorscale": {
           "diverging": [
            [
             0,
             "#8e0152"
            ],
            [
             0.1,
             "#c51b7d"
            ],
            [
             0.2,
             "#de77ae"
            ],
            [
             0.3,
             "#f1b6da"
            ],
            [
             0.4,
             "#fde0ef"
            ],
            [
             0.5,
             "#f7f7f7"
            ],
            [
             0.6,
             "#e6f5d0"
            ],
            [
             0.7,
             "#b8e186"
            ],
            [
             0.8,
             "#7fbc41"
            ],
            [
             0.9,
             "#4d9221"
            ],
            [
             1,
             "#276419"
            ]
           ],
           "sequential": [
            [
             0,
             "#0d0887"
            ],
            [
             0.1111111111111111,
             "#46039f"
            ],
            [
             0.2222222222222222,
             "#7201a8"
            ],
            [
             0.3333333333333333,
             "#9c179e"
            ],
            [
             0.4444444444444444,
             "#bd3786"
            ],
            [
             0.5555555555555556,
             "#d8576b"
            ],
            [
             0.6666666666666666,
             "#ed7953"
            ],
            [
             0.7777777777777778,
             "#fb9f3a"
            ],
            [
             0.8888888888888888,
             "#fdca26"
            ],
            [
             1,
             "#f0f921"
            ]
           ],
           "sequentialminus": [
            [
             0,
             "#0d0887"
            ],
            [
             0.1111111111111111,
             "#46039f"
            ],
            [
             0.2222222222222222,
             "#7201a8"
            ],
            [
             0.3333333333333333,
             "#9c179e"
            ],
            [
             0.4444444444444444,
             "#bd3786"
            ],
            [
             0.5555555555555556,
             "#d8576b"
            ],
            [
             0.6666666666666666,
             "#ed7953"
            ],
            [
             0.7777777777777778,
             "#fb9f3a"
            ],
            [
             0.8888888888888888,
             "#fdca26"
            ],
            [
             1,
             "#f0f921"
            ]
           ]
          },
          "colorway": [
           "#636efa",
           "#EF553B",
           "#00cc96",
           "#ab63fa",
           "#FFA15A",
           "#19d3f3",
           "#FF6692",
           "#B6E880",
           "#FF97FF",
           "#FECB52"
          ],
          "font": {
           "color": "#2a3f5f"
          },
          "geo": {
           "bgcolor": "white",
           "lakecolor": "white",
           "landcolor": "#E5ECF6",
           "showlakes": true,
           "showland": true,
           "subunitcolor": "white"
          },
          "hoverlabel": {
           "align": "left"
          },
          "hovermode": "closest",
          "mapbox": {
           "style": "light"
          },
          "paper_bgcolor": "white",
          "plot_bgcolor": "#E5ECF6",
          "polar": {
           "angularaxis": {
            "gridcolor": "white",
            "linecolor": "white",
            "ticks": ""
           },
           "bgcolor": "#E5ECF6",
           "radialaxis": {
            "gridcolor": "white",
            "linecolor": "white",
            "ticks": ""
           }
          },
          "scene": {
           "xaxis": {
            "backgroundcolor": "#E5ECF6",
            "gridcolor": "white",
            "gridwidth": 2,
            "linecolor": "white",
            "showbackground": true,
            "ticks": "",
            "zerolinecolor": "white"
           },
           "yaxis": {
            "backgroundcolor": "#E5ECF6",
            "gridcolor": "white",
            "gridwidth": 2,
            "linecolor": "white",
            "showbackground": true,
            "ticks": "",
            "zerolinecolor": "white"
           },
           "zaxis": {
            "backgroundcolor": "#E5ECF6",
            "gridcolor": "white",
            "gridwidth": 2,
            "linecolor": "white",
            "showbackground": true,
            "ticks": "",
            "zerolinecolor": "white"
           }
          },
          "shapedefaults": {
           "line": {
            "color": "#2a3f5f"
           }
          },
          "ternary": {
           "aaxis": {
            "gridcolor": "white",
            "linecolor": "white",
            "ticks": ""
           },
           "baxis": {
            "gridcolor": "white",
            "linecolor": "white",
            "ticks": ""
           },
           "bgcolor": "#E5ECF6",
           "caxis": {
            "gridcolor": "white",
            "linecolor": "white",
            "ticks": ""
           }
          },
          "title": {
           "x": 0.05
          },
          "xaxis": {
           "automargin": true,
           "gridcolor": "white",
           "linecolor": "white",
           "ticks": "",
           "title": {
            "standoff": 15
           },
           "zerolinecolor": "white",
           "zerolinewidth": 2
          },
          "yaxis": {
           "automargin": true,
           "gridcolor": "white",
           "linecolor": "white",
           "ticks": "",
           "title": {
            "standoff": 15
           },
           "zerolinecolor": "white",
           "zerolinewidth": 2
          }
         }
        },
        "xaxis": {
         "anchor": "y",
         "domain": [
          0,
          0.3133333333333333
         ],
         "title": {
          "text": "slowdown"
         }
        },
        "xaxis10": {
         "anchor": "y10",
         "domain": [
          0,
          0.3133333333333333
         ],
         "matches": "x",
         "showticklabels": false
        },
        "xaxis11": {
         "anchor": "y11",
         "domain": [
          0.3333333333333333,
          0.6466666666666666
         ],
         "matches": "x",
         "showticklabels": false
        },
        "xaxis12": {
         "anchor": "y12",
         "domain": [
          0.6666666666666666,
          0.98
         ],
         "matches": "x",
         "showticklabels": false
        },
        "xaxis2": {
         "anchor": "y2",
         "domain": [
          0.3333333333333333,
          0.6466666666666666
         ],
         "matches": "x",
         "title": {
          "text": "slowdown"
         }
        },
        "xaxis3": {
         "anchor": "y3",
         "domain": [
          0.6666666666666666,
          0.98
         ],
         "matches": "x",
         "title": {
          "text": "slowdown"
         }
        },
        "xaxis4": {
         "anchor": "y4",
         "domain": [
          0,
          0.3133333333333333
         ],
         "matches": "x",
         "showticklabels": false
        },
        "xaxis5": {
         "anchor": "y5",
         "domain": [
          0.3333333333333333,
          0.6466666666666666
         ],
         "matches": "x",
         "showticklabels": false
        },
        "xaxis6": {
         "anchor": "y6",
         "domain": [
          0.6666666666666666,
          0.98
         ],
         "matches": "x",
         "showticklabels": false
        },
        "xaxis7": {
         "anchor": "y7",
         "domain": [
          0,
          0.3133333333333333
         ],
         "matches": "x",
         "showticklabels": false
        },
        "xaxis8": {
         "anchor": "y8",
         "domain": [
          0.3333333333333333,
          0.6466666666666666
         ],
         "matches": "x",
         "showticklabels": false
        },
        "xaxis9": {
         "anchor": "y9",
         "domain": [
          0.6666666666666666,
          0.98
         ],
         "matches": "x",
         "showticklabels": false
        },
        "yaxis": {
         "anchor": "x",
         "domain": [
          0,
          0.2275
         ],
         "title": {
          "text": "match_ci_%"
         }
        },
        "yaxis10": {
         "anchor": "x10",
         "domain": [
          0.7725,
          1
         ],
         "matches": "y",
         "title": {
          "text": "match_ci_%"
         }
        },
        "yaxis11": {
         "anchor": "x11",
         "domain": [
          0.7725,
          1
         ],
         "matches": "y",
         "showticklabels": false
        },
        "yaxis12": {
         "anchor": "x12",
         "domain": [
          0.7725,
          1
         ],
         "matches": "y",
         "showticklabels": false
        },
        "yaxis2": {
         "anchor": "x2",
         "domain": [
          0,
          0.2275
         ],
         "matches": "y",
         "showticklabels": false
        },
        "yaxis3": {
         "anchor": "x3",
         "domain": [
          0,
          0.2275
         ],
         "matches": "y",
         "showticklabels": false
        },
        "yaxis4": {
         "anchor": "x4",
         "domain": [
          0.2575,
          0.485
         ],
         "matches": "y",
         "title": {
          "text": "match_ci_%"
         }
        },
        "yaxis5": {
         "anchor": "x5",
         "domain": [
          0.2575,
          0.485
         ],
         "matches": "y",
         "showticklabels": false
        },
        "yaxis6": {
         "anchor": "x6",
         "domain": [
          0.2575,
          0.485
         ],
         "matches": "y",
         "showticklabels": false
        },
        "yaxis7": {
         "anchor": "x7",
         "domain": [
          0.515,
          0.7425
         ],
         "matches": "y",
         "title": {
          "text": "match_ci_%"
         }
        },
        "yaxis8": {
         "anchor": "x8",
         "domain": [
          0.515,
          0.7425
         ],
         "matches": "y",
         "showticklabels": false
        },
        "yaxis9": {
         "anchor": "x9",
         "domain": [
          0.515,
          0.7425
         ],
         "matches": "y",
         "showticklabels": false
        }
       }
      }
     },
     "metadata": {},
     "output_type": "display_data"
    }
   ],
   "source": [
    "px.line(\n",
    "    df_slowdown,\n",
    "    x=DF.slowdown,\n",
    "    y=DF.match_ratio_ci,\n",
    "    color=RF.type,\n",
    "    facet_col=DF.env,\n",
    "    facet_row=RF.suite,\n",
    "    markers=True,\n",
    "    height=1000\n",
    ")"
   ]
  },
  {
   "attachments": {},
   "cell_type": "markdown",
   "metadata": {},
   "source": [
    "## MDS using u-test"
   ]
  },
  {
   "cell_type": "code",
   "execution_count": 11,
   "metadata": {},
   "outputs": [
    {
     "data": {
      "application/vnd.plotly.v1+json": {
       "config": {
        "plotlyServerURL": "https://plot.ly"
       },
       "data": [
        {
         "hovertemplate": "type=duet<br>suite=dacapo<br>environment=AWS:t3.medium<br>slowdown=%{x}<br>match_utest_%=%{y}<extra></extra>",
         "legendgroup": "duet",
         "line": {
          "color": "#636efa",
          "dash": "solid"
         },
         "marker": {
          "symbol": "circle"
         },
         "mode": "lines+markers",
         "name": "duet",
         "orientation": "v",
         "showlegend": true,
         "type": "scatter",
         "x": [
          0,
          0.01,
          0.02,
          0.03,
          0.04,
          0.05,
          0.06,
          0.07,
          0.08,
          0.09,
          0.1,
          0.11,
          0.12,
          0.13,
          0.14,
          0.15
         ],
         "xaxis": "x10",
         "y": [
          0.7,
          0.5,
          0.1,
          0.1,
          0,
          0,
          0,
          0,
          0,
          0,
          0,
          0,
          0,
          0,
          0,
          0
         ],
         "yaxis": "y10"
        },
        {
         "hovertemplate": "type=duet<br>suite=dacapo<br>environment=bare-metal<br>slowdown=%{x}<br>match_utest_%=%{y}<extra></extra>",
         "legendgroup": "duet",
         "line": {
          "color": "#636efa",
          "dash": "solid"
         },
         "marker": {
          "symbol": "circle"
         },
         "mode": "lines+markers",
         "name": "duet",
         "orientation": "v",
         "showlegend": false,
         "type": "scatter",
         "x": [
          0,
          0.01,
          0.02,
          0.03,
          0.04,
          0.05,
          0.06,
          0.07,
          0.08,
          0.09,
          0.1,
          0.11,
          0.12,
          0.13,
          0.14,
          0.15
         ],
         "xaxis": "x11",
         "y": [
          0.5,
          0,
          0,
          0,
          0,
          0,
          0,
          0,
          0,
          0,
          0,
          0,
          0,
          0,
          0,
          0
         ],
         "yaxis": "y11"
        },
        {
         "hovertemplate": "type=duet<br>suite=dacapo<br>environment=teaching<br>slowdown=%{x}<br>match_utest_%=%{y}<extra></extra>",
         "legendgroup": "duet",
         "line": {
          "color": "#636efa",
          "dash": "solid"
         },
         "marker": {
          "symbol": "circle"
         },
         "mode": "lines+markers",
         "name": "duet",
         "orientation": "v",
         "showlegend": false,
         "type": "scatter",
         "x": [
          0,
          0.01,
          0.02,
          0.03,
          0.04,
          0.05,
          0.06,
          0.07,
          0.08,
          0.09,
          0.1,
          0.11,
          0.12,
          0.13,
          0.14,
          0.15
         ],
         "xaxis": "x12",
         "y": [
          1,
          0.9,
          0.5,
          0,
          0,
          0,
          0,
          0,
          0,
          0,
          0,
          0,
          0,
          0,
          0,
          0
         ],
         "yaxis": "y12"
        },
        {
         "hovertemplate": "type=duet<br>suite=renaissance<br>environment=AWS:t3.medium<br>slowdown=%{x}<br>match_utest_%=%{y}<extra></extra>",
         "legendgroup": "duet",
         "line": {
          "color": "#636efa",
          "dash": "solid"
         },
         "marker": {
          "symbol": "circle"
         },
         "mode": "lines+markers",
         "name": "duet",
         "orientation": "v",
         "showlegend": false,
         "type": "scatter",
         "x": [
          0,
          0.01,
          0.02,
          0.03,
          0.04,
          0.05,
          0.06,
          0.07,
          0.08,
          0.09,
          0.1,
          0.11,
          0.12,
          0.13,
          0.14,
          0.15
         ],
         "xaxis": "x7",
         "y": [
          0.8333333333333334,
          0.3333333333333333,
          0.08333333333333333,
          0.041666666666666664,
          0,
          0,
          0,
          0,
          0,
          0,
          0,
          0,
          0,
          0,
          0,
          0
         ],
         "yaxis": "y7"
        },
        {
         "hovertemplate": "type=duet<br>suite=renaissance<br>environment=bare-metal<br>slowdown=%{x}<br>match_utest_%=%{y}<extra></extra>",
         "legendgroup": "duet",
         "line": {
          "color": "#636efa",
          "dash": "solid"
         },
         "marker": {
          "symbol": "circle"
         },
         "mode": "lines+markers",
         "name": "duet",
         "orientation": "v",
         "showlegend": false,
         "type": "scatter",
         "x": [
          0,
          0.01,
          0.02,
          0.03,
          0.04,
          0.05,
          0.06,
          0.07,
          0.08,
          0.09,
          0.1,
          0.11,
          0.12,
          0.13,
          0.14,
          0.15
         ],
         "xaxis": "x8",
         "y": [
          0.5652173913043478,
          0.043478260869565216,
          0.043478260869565216,
          0.043478260869565216,
          0,
          0,
          0,
          0,
          0,
          0,
          0,
          0,
          0,
          0,
          0,
          0
         ],
         "yaxis": "y8"
        },
        {
         "hovertemplate": "type=duet<br>suite=renaissance<br>environment=teaching<br>slowdown=%{x}<br>match_utest_%=%{y}<extra></extra>",
         "legendgroup": "duet",
         "line": {
          "color": "#636efa",
          "dash": "solid"
         },
         "marker": {
          "symbol": "circle"
         },
         "mode": "lines+markers",
         "name": "duet",
         "orientation": "v",
         "showlegend": false,
         "type": "scatter",
         "x": [
          0,
          0.01,
          0.02,
          0.03,
          0.04,
          0.05,
          0.06,
          0.07,
          0.08,
          0.09,
          0.1,
          0.11,
          0.12,
          0.13,
          0.14,
          0.15
         ],
         "xaxis": "x9",
         "y": [
          0.6956521739130435,
          0.7391304347826086,
          0.6086956521739131,
          0.2608695652173913,
          0.13043478260869565,
          0.043478260869565216,
          0.043478260869565216,
          0.043478260869565216,
          0.043478260869565216,
          0,
          0,
          0,
          0,
          0,
          0,
          0
         ],
         "yaxis": "y9"
        },
        {
         "hovertemplate": "type=duet<br>suite=scalabench<br>environment=AWS:t3.medium<br>slowdown=%{x}<br>match_utest_%=%{y}<extra></extra>",
         "legendgroup": "duet",
         "line": {
          "color": "#636efa",
          "dash": "solid"
         },
         "marker": {
          "symbol": "circle"
         },
         "mode": "lines+markers",
         "name": "duet",
         "orientation": "v",
         "showlegend": false,
         "type": "scatter",
         "x": [
          0,
          0.01,
          0.02,
          0.03,
          0.04,
          0.05,
          0.06,
          0.07,
          0.08,
          0.09,
          0.1,
          0.11,
          0.12,
          0.13,
          0.14,
          0.15
         ],
         "xaxis": "x4",
         "y": [
          0.7619047619047619,
          0.42857142857142855,
          0.19047619047619047,
          0.09523809523809523,
          0.047619047619047616,
          0,
          0,
          0,
          0,
          0,
          0,
          0,
          0,
          0,
          0,
          0
         ],
         "yaxis": "y4"
        },
        {
         "hovertemplate": "type=duet<br>suite=scalabench<br>environment=bare-metal<br>slowdown=%{x}<br>match_utest_%=%{y}<extra></extra>",
         "legendgroup": "duet",
         "line": {
          "color": "#636efa",
          "dash": "solid"
         },
         "marker": {
          "symbol": "circle"
         },
         "mode": "lines+markers",
         "name": "duet",
         "orientation": "v",
         "showlegend": false,
         "type": "scatter",
         "x": [
          0,
          0.01,
          0.02,
          0.03,
          0.04,
          0.05,
          0.06,
          0.07,
          0.08,
          0.09,
          0.1,
          0.11,
          0.12,
          0.13,
          0.14,
          0.15
         ],
         "xaxis": "x5",
         "y": [
          0.5714285714285714,
          0,
          0,
          0,
          0,
          0,
          0,
          0,
          0,
          0,
          0,
          0,
          0,
          0,
          0,
          0
         ],
         "yaxis": "y5"
        },
        {
         "hovertemplate": "type=duet<br>suite=scalabench<br>environment=teaching<br>slowdown=%{x}<br>match_utest_%=%{y}<extra></extra>",
         "legendgroup": "duet",
         "line": {
          "color": "#636efa",
          "dash": "solid"
         },
         "marker": {
          "symbol": "circle"
         },
         "mode": "lines+markers",
         "name": "duet",
         "orientation": "v",
         "showlegend": false,
         "type": "scatter",
         "x": [
          0,
          0.01,
          0.02,
          0.03,
          0.04,
          0.05,
          0.06,
          0.07,
          0.08,
          0.09,
          0.1,
          0.11,
          0.12,
          0.13,
          0.14,
          0.15
         ],
         "xaxis": "x6",
         "y": [
          0.7142857142857143,
          0.5238095238095238,
          0.3333333333333333,
          0.19047619047619047,
          0.09523809523809523,
          0.047619047619047616,
          0,
          0,
          0,
          0,
          0,
          0,
          0,
          0,
          0,
          0
         ],
         "yaxis": "y6"
        },
        {
         "hovertemplate": "type=duet<br>suite=speccpu<br>environment=AWS:t3.medium<br>slowdown=%{x}<br>match_utest_%=%{y}<extra></extra>",
         "legendgroup": "duet",
         "line": {
          "color": "#636efa",
          "dash": "solid"
         },
         "marker": {
          "symbol": "circle"
         },
         "mode": "lines+markers",
         "name": "duet",
         "orientation": "v",
         "showlegend": false,
         "type": "scatter",
         "x": [
          0,
          0.01,
          0.02,
          0.03,
          0.04,
          0.05,
          0.06,
          0.07,
          0.08,
          0.09,
          0.1,
          0.11,
          0.12,
          0.13,
          0.14,
          0.15
         ],
         "xaxis": "x",
         "y": [
          1,
          0.0625,
          0,
          0,
          0,
          0,
          0,
          0,
          0,
          0,
          0,
          0,
          0,
          0,
          0,
          0
         ],
         "yaxis": "y"
        },
        {
         "hovertemplate": "type=duet<br>suite=speccpu<br>environment=bare-metal<br>slowdown=%{x}<br>match_utest_%=%{y}<extra></extra>",
         "legendgroup": "duet",
         "line": {
          "color": "#636efa",
          "dash": "solid"
         },
         "marker": {
          "symbol": "circle"
         },
         "mode": "lines+markers",
         "name": "duet",
         "orientation": "v",
         "showlegend": false,
         "type": "scatter",
         "x": [
          0,
          0.01,
          0.02,
          0.03,
          0.04,
          0.05,
          0.06,
          0.07,
          0.08,
          0.09,
          0.1,
          0.11,
          0.12,
          0.13,
          0.14,
          0.15
         ],
         "xaxis": "x2",
         "y": [
          0.8125,
          0,
          0,
          0,
          0,
          0,
          0,
          0,
          0,
          0,
          0,
          0,
          0,
          0,
          0,
          0
         ],
         "yaxis": "y2"
        },
        {
         "hovertemplate": "type=seqn<br>suite=dacapo<br>environment=AWS:t3.medium<br>slowdown=%{x}<br>match_utest_%=%{y}<extra></extra>",
         "legendgroup": "seqn",
         "line": {
          "color": "#EF553B",
          "dash": "solid"
         },
         "marker": {
          "symbol": "circle"
         },
         "mode": "lines+markers",
         "name": "seqn",
         "orientation": "v",
         "showlegend": true,
         "type": "scatter",
         "x": [
          0,
          0.01,
          0.02,
          0.03,
          0.04,
          0.05,
          0.06,
          0.07,
          0.08,
          0.09,
          0.1,
          0.11,
          0.12,
          0.13,
          0.14,
          0.15
         ],
         "xaxis": "x10",
         "y": [
          0.5,
          0.3,
          0,
          0,
          0,
          0,
          0,
          0,
          0,
          0,
          0,
          0,
          0,
          0,
          0,
          0
         ],
         "yaxis": "y10"
        },
        {
         "hovertemplate": "type=seqn<br>suite=dacapo<br>environment=bare-metal<br>slowdown=%{x}<br>match_utest_%=%{y}<extra></extra>",
         "legendgroup": "seqn",
         "line": {
          "color": "#EF553B",
          "dash": "solid"
         },
         "marker": {
          "symbol": "circle"
         },
         "mode": "lines+markers",
         "name": "seqn",
         "orientation": "v",
         "showlegend": false,
         "type": "scatter",
         "x": [
          0,
          0.01,
          0.02,
          0.03,
          0.04,
          0.05,
          0.06,
          0.07,
          0.08,
          0.09,
          0.1,
          0.11,
          0.12,
          0.13,
          0.14,
          0.15
         ],
         "xaxis": "x11",
         "y": [
          0.2,
          0,
          0,
          0,
          0,
          0,
          0,
          0,
          0,
          0,
          0,
          0,
          0,
          0,
          0,
          0
         ],
         "yaxis": "y11"
        },
        {
         "hovertemplate": "type=seqn<br>suite=dacapo<br>environment=teaching<br>slowdown=%{x}<br>match_utest_%=%{y}<extra></extra>",
         "legendgroup": "seqn",
         "line": {
          "color": "#EF553B",
          "dash": "solid"
         },
         "marker": {
          "symbol": "circle"
         },
         "mode": "lines+markers",
         "name": "seqn",
         "orientation": "v",
         "showlegend": false,
         "type": "scatter",
         "x": [
          0,
          0.01,
          0.02,
          0.03,
          0.04,
          0.05,
          0.06,
          0.07,
          0.08,
          0.09,
          0.1,
          0.11,
          0.12,
          0.13,
          0.14,
          0.15
         ],
         "xaxis": "x12",
         "y": [
          0.8,
          0.6,
          0.2,
          0.1,
          0,
          0,
          0,
          0,
          0,
          0,
          0,
          0,
          0,
          0,
          0,
          0
         ],
         "yaxis": "y12"
        },
        {
         "hovertemplate": "type=seqn<br>suite=renaissance<br>environment=AWS:t3.medium<br>slowdown=%{x}<br>match_utest_%=%{y}<extra></extra>",
         "legendgroup": "seqn",
         "line": {
          "color": "#EF553B",
          "dash": "solid"
         },
         "marker": {
          "symbol": "circle"
         },
         "mode": "lines+markers",
         "name": "seqn",
         "orientation": "v",
         "showlegend": false,
         "type": "scatter",
         "x": [
          0,
          0.01,
          0.02,
          0.03,
          0.04,
          0.05,
          0.06,
          0.07,
          0.08,
          0.09,
          0.1,
          0.11,
          0.12,
          0.13,
          0.14,
          0.15
         ],
         "xaxis": "x7",
         "y": [
          0.6666666666666666,
          0.16666666666666666,
          0,
          0,
          0,
          0,
          0,
          0,
          0,
          0,
          0,
          0,
          0,
          0,
          0,
          0
         ],
         "yaxis": "y7"
        },
        {
         "hovertemplate": "type=seqn<br>suite=renaissance<br>environment=bare-metal<br>slowdown=%{x}<br>match_utest_%=%{y}<extra></extra>",
         "legendgroup": "seqn",
         "line": {
          "color": "#EF553B",
          "dash": "solid"
         },
         "marker": {
          "symbol": "circle"
         },
         "mode": "lines+markers",
         "name": "seqn",
         "orientation": "v",
         "showlegend": false,
         "type": "scatter",
         "x": [
          0,
          0.01,
          0.02,
          0.03,
          0.04,
          0.05,
          0.06,
          0.07,
          0.08,
          0.09,
          0.1,
          0.11,
          0.12,
          0.13,
          0.14,
          0.15
         ],
         "xaxis": "x8",
         "y": [
          0.25,
          0.041666666666666664,
          0,
          0,
          0,
          0,
          0,
          0,
          0,
          0,
          0,
          0,
          0,
          0,
          0,
          0
         ],
         "yaxis": "y8"
        },
        {
         "hovertemplate": "type=seqn<br>suite=renaissance<br>environment=teaching<br>slowdown=%{x}<br>match_utest_%=%{y}<extra></extra>",
         "legendgroup": "seqn",
         "line": {
          "color": "#EF553B",
          "dash": "solid"
         },
         "marker": {
          "symbol": "circle"
         },
         "mode": "lines+markers",
         "name": "seqn",
         "orientation": "v",
         "showlegend": false,
         "type": "scatter",
         "x": [
          0,
          0.01,
          0.02,
          0.03,
          0.04,
          0.05,
          0.06,
          0.07,
          0.08,
          0.09,
          0.1,
          0.11,
          0.12,
          0.13,
          0.14,
          0.15
         ],
         "xaxis": "x9",
         "y": [
          0.75,
          0.625,
          0.25,
          0.08333333333333333,
          0.041666666666666664,
          0,
          0,
          0,
          0,
          0,
          0,
          0,
          0,
          0,
          0,
          0
         ],
         "yaxis": "y9"
        },
        {
         "hovertemplate": "type=seqn<br>suite=scalabench<br>environment=AWS:t3.medium<br>slowdown=%{x}<br>match_utest_%=%{y}<extra></extra>",
         "legendgroup": "seqn",
         "line": {
          "color": "#EF553B",
          "dash": "solid"
         },
         "marker": {
          "symbol": "circle"
         },
         "mode": "lines+markers",
         "name": "seqn",
         "orientation": "v",
         "showlegend": false,
         "type": "scatter",
         "x": [
          0,
          0.01,
          0.02,
          0.03,
          0.04,
          0.05,
          0.06,
          0.07,
          0.08,
          0.09,
          0.1,
          0.11,
          0.12,
          0.13,
          0.14,
          0.15
         ],
         "xaxis": "x4",
         "y": [
          0.7142857142857143,
          0.23809523809523808,
          0.047619047619047616,
          0.047619047619047616,
          0,
          0,
          0,
          0,
          0,
          0,
          0,
          0,
          0,
          0,
          0,
          0
         ],
         "yaxis": "y4"
        },
        {
         "hovertemplate": "type=seqn<br>suite=scalabench<br>environment=bare-metal<br>slowdown=%{x}<br>match_utest_%=%{y}<extra></extra>",
         "legendgroup": "seqn",
         "line": {
          "color": "#EF553B",
          "dash": "solid"
         },
         "marker": {
          "symbol": "circle"
         },
         "mode": "lines+markers",
         "name": "seqn",
         "orientation": "v",
         "showlegend": false,
         "type": "scatter",
         "x": [
          0,
          0.01,
          0.02,
          0.03,
          0.04,
          0.05,
          0.06,
          0.07,
          0.08,
          0.09,
          0.1,
          0.11,
          0.12,
          0.13,
          0.14,
          0.15
         ],
         "xaxis": "x5",
         "y": [
          0.38095238095238093,
          0.047619047619047616,
          0,
          0,
          0,
          0,
          0,
          0,
          0,
          0,
          0,
          0,
          0,
          0,
          0,
          0
         ],
         "yaxis": "y5"
        },
        {
         "hovertemplate": "type=seqn<br>suite=scalabench<br>environment=teaching<br>slowdown=%{x}<br>match_utest_%=%{y}<extra></extra>",
         "legendgroup": "seqn",
         "line": {
          "color": "#EF553B",
          "dash": "solid"
         },
         "marker": {
          "symbol": "circle"
         },
         "mode": "lines+markers",
         "name": "seqn",
         "orientation": "v",
         "showlegend": false,
         "type": "scatter",
         "x": [
          0,
          0.01,
          0.02,
          0.03,
          0.04,
          0.05,
          0.06,
          0.07,
          0.08,
          0.09,
          0.1,
          0.11,
          0.12,
          0.13,
          0.14,
          0.15
         ],
         "xaxis": "x6",
         "y": [
          0.5714285714285714,
          0.5238095238095238,
          0.3333333333333333,
          0.23809523809523808,
          0.19047619047619047,
          0.047619047619047616,
          0,
          0.047619047619047616,
          0.047619047619047616,
          0.047619047619047616,
          0.047619047619047616,
          0.047619047619047616,
          0,
          0,
          0,
          0
         ],
         "yaxis": "y6"
        },
        {
         "hovertemplate": "type=seqn<br>suite=speccpu<br>environment=AWS:t3.medium<br>slowdown=%{x}<br>match_utest_%=%{y}<extra></extra>",
         "legendgroup": "seqn",
         "line": {
          "color": "#EF553B",
          "dash": "solid"
         },
         "marker": {
          "symbol": "circle"
         },
         "mode": "lines+markers",
         "name": "seqn",
         "orientation": "v",
         "showlegend": false,
         "type": "scatter",
         "x": [
          0,
          0.01,
          0.02,
          0.03,
          0.04,
          0.05,
          0.06,
          0.07,
          0.08,
          0.09,
          0.1,
          0.11,
          0.12,
          0.13,
          0.14,
          0.15
         ],
         "xaxis": "x",
         "y": [
          1,
          0.0625,
          0.0625,
          0.0625,
          0,
          0,
          0,
          0,
          0,
          0,
          0,
          0,
          0,
          0,
          0,
          0
         ],
         "yaxis": "y"
        },
        {
         "hovertemplate": "type=seqn<br>suite=speccpu<br>environment=bare-metal<br>slowdown=%{x}<br>match_utest_%=%{y}<extra></extra>",
         "legendgroup": "seqn",
         "line": {
          "color": "#EF553B",
          "dash": "solid"
         },
         "marker": {
          "symbol": "circle"
         },
         "mode": "lines+markers",
         "name": "seqn",
         "orientation": "v",
         "showlegend": false,
         "type": "scatter",
         "x": [
          0,
          0.01,
          0.02,
          0.03,
          0.04,
          0.05,
          0.06,
          0.07,
          0.08,
          0.09,
          0.1,
          0.11,
          0.12,
          0.13,
          0.14,
          0.15
         ],
         "xaxis": "x2",
         "y": [
          0.875,
          0,
          0,
          0,
          0,
          0,
          0,
          0,
          0,
          0,
          0,
          0,
          0,
          0,
          0,
          0
         ],
         "yaxis": "y2"
        },
        {
         "hovertemplate": "type=syncduet<br>suite=dacapo<br>environment=AWS:t3.medium<br>slowdown=%{x}<br>match_utest_%=%{y}<extra></extra>",
         "legendgroup": "syncduet",
         "line": {
          "color": "#00cc96",
          "dash": "solid"
         },
         "marker": {
          "symbol": "circle"
         },
         "mode": "lines+markers",
         "name": "syncduet",
         "orientation": "v",
         "showlegend": true,
         "type": "scatter",
         "x": [
          0,
          0.01,
          0.02,
          0.03,
          0.04,
          0.05,
          0.06,
          0.07,
          0.08,
          0.09,
          0.1,
          0.11,
          0.12,
          0.13,
          0.14,
          0.15
         ],
         "xaxis": "x10",
         "y": [
          0.5,
          0.4,
          0.1,
          0,
          0,
          0,
          0,
          0,
          0,
          0,
          0,
          0,
          0,
          0,
          0,
          0
         ],
         "yaxis": "y10"
        },
        {
         "hovertemplate": "type=syncduet<br>suite=dacapo<br>environment=bare-metal<br>slowdown=%{x}<br>match_utest_%=%{y}<extra></extra>",
         "legendgroup": "syncduet",
         "line": {
          "color": "#00cc96",
          "dash": "solid"
         },
         "marker": {
          "symbol": "circle"
         },
         "mode": "lines+markers",
         "name": "syncduet",
         "orientation": "v",
         "showlegend": false,
         "type": "scatter",
         "x": [
          0,
          0.01,
          0.02,
          0.03,
          0.04,
          0.05,
          0.06,
          0.07,
          0.08,
          0.09,
          0.1,
          0.11,
          0.12,
          0.13,
          0.14,
          0.15
         ],
         "xaxis": "x11",
         "y": [
          0.7,
          0,
          0,
          0,
          0,
          0,
          0,
          0,
          0,
          0,
          0,
          0,
          0,
          0,
          0,
          0
         ],
         "yaxis": "y11"
        },
        {
         "hovertemplate": "type=syncduet<br>suite=dacapo<br>environment=teaching<br>slowdown=%{x}<br>match_utest_%=%{y}<extra></extra>",
         "legendgroup": "syncduet",
         "line": {
          "color": "#00cc96",
          "dash": "solid"
         },
         "marker": {
          "symbol": "circle"
         },
         "mode": "lines+markers",
         "name": "syncduet",
         "orientation": "v",
         "showlegend": false,
         "type": "scatter",
         "x": [
          0,
          0.01,
          0.02,
          0.03,
          0.04,
          0.05,
          0.06,
          0.07,
          0.08,
          0.09,
          0.1,
          0.11,
          0.12,
          0.13,
          0.14,
          0.15
         ],
         "xaxis": "x12",
         "y": [
          0.7,
          0.5,
          0.2,
          0,
          0,
          0,
          0,
          0,
          0,
          0,
          0,
          0,
          0,
          0,
          0,
          0
         ],
         "yaxis": "y12"
        },
        {
         "hovertemplate": "type=syncduet<br>suite=scalabench<br>environment=AWS:t3.medium<br>slowdown=%{x}<br>match_utest_%=%{y}<extra></extra>",
         "legendgroup": "syncduet",
         "line": {
          "color": "#00cc96",
          "dash": "solid"
         },
         "marker": {
          "symbol": "circle"
         },
         "mode": "lines+markers",
         "name": "syncduet",
         "orientation": "v",
         "showlegend": false,
         "type": "scatter",
         "x": [
          0,
          0.01,
          0.02,
          0.03,
          0.04,
          0.05,
          0.06,
          0.07,
          0.08,
          0.09,
          0.1,
          0.11,
          0.12,
          0.13,
          0.14,
          0.15
         ],
         "xaxis": "x4",
         "y": [
          0.8095238095238095,
          0.47619047619047616,
          0.14285714285714285,
          0,
          0,
          0,
          0,
          0,
          0,
          0,
          0,
          0,
          0,
          0,
          0,
          0
         ],
         "yaxis": "y4"
        },
        {
         "hovertemplate": "type=syncduet<br>suite=scalabench<br>environment=bare-metal<br>slowdown=%{x}<br>match_utest_%=%{y}<extra></extra>",
         "legendgroup": "syncduet",
         "line": {
          "color": "#00cc96",
          "dash": "solid"
         },
         "marker": {
          "symbol": "circle"
         },
         "mode": "lines+markers",
         "name": "syncduet",
         "orientation": "v",
         "showlegend": false,
         "type": "scatter",
         "x": [
          0,
          0.01,
          0.02,
          0.03,
          0.04,
          0.05,
          0.06,
          0.07,
          0.08,
          0.09,
          0.1,
          0.11,
          0.12,
          0.13,
          0.14,
          0.15
         ],
         "xaxis": "x5",
         "y": [
          0.5714285714285714,
          0.09523809523809523,
          0.047619047619047616,
          0,
          0,
          0,
          0,
          0,
          0,
          0,
          0,
          0,
          0,
          0,
          0,
          0
         ],
         "yaxis": "y5"
        },
        {
         "hovertemplate": "type=syncduet<br>suite=scalabench<br>environment=teaching<br>slowdown=%{x}<br>match_utest_%=%{y}<extra></extra>",
         "legendgroup": "syncduet",
         "line": {
          "color": "#00cc96",
          "dash": "solid"
         },
         "marker": {
          "symbol": "circle"
         },
         "mode": "lines+markers",
         "name": "syncduet",
         "orientation": "v",
         "showlegend": false,
         "type": "scatter",
         "x": [
          0,
          0.01,
          0.02,
          0.03,
          0.04,
          0.05,
          0.06,
          0.07,
          0.08,
          0.09,
          0.1,
          0.11,
          0.12,
          0.13,
          0.14,
          0.15
         ],
         "xaxis": "x6",
         "y": [
          0.6190476190476191,
          0.5714285714285714,
          0.2857142857142857,
          0.09523809523809523,
          0.047619047619047616,
          0,
          0,
          0,
          0,
          0,
          0,
          0,
          0,
          0,
          0,
          0
         ],
         "yaxis": "y6"
        }
       ],
       "layout": {
        "annotations": [
         {
          "font": {},
          "showarrow": false,
          "text": "environment=AWS:t3.medium",
          "x": 0.15666666666666665,
          "xanchor": "center",
          "xref": "paper",
          "y": 1,
          "yanchor": "bottom",
          "yref": "paper"
         },
         {
          "font": {},
          "showarrow": false,
          "text": "environment=bare-metal",
          "x": 0.49,
          "xanchor": "center",
          "xref": "paper",
          "y": 1,
          "yanchor": "bottom",
          "yref": "paper"
         },
         {
          "font": {},
          "showarrow": false,
          "text": "environment=teaching",
          "x": 0.8233333333333333,
          "xanchor": "center",
          "xref": "paper",
          "y": 1,
          "yanchor": "bottom",
          "yref": "paper"
         },
         {
          "font": {},
          "showarrow": false,
          "text": "suite=speccpu",
          "textangle": 90,
          "x": 0.98,
          "xanchor": "left",
          "xref": "paper",
          "y": 0.11375,
          "yanchor": "middle",
          "yref": "paper"
         },
         {
          "font": {},
          "showarrow": false,
          "text": "suite=scalabench",
          "textangle": 90,
          "x": 0.98,
          "xanchor": "left",
          "xref": "paper",
          "y": 0.37124999999999997,
          "yanchor": "middle",
          "yref": "paper"
         },
         {
          "font": {},
          "showarrow": false,
          "text": "suite=renaissance",
          "textangle": 90,
          "x": 0.98,
          "xanchor": "left",
          "xref": "paper",
          "y": 0.62875,
          "yanchor": "middle",
          "yref": "paper"
         },
         {
          "font": {},
          "showarrow": false,
          "text": "suite=dacapo",
          "textangle": 90,
          "x": 0.98,
          "xanchor": "left",
          "xref": "paper",
          "y": 0.88625,
          "yanchor": "middle",
          "yref": "paper"
         }
        ],
        "height": 1000,
        "legend": {
         "title": {
          "text": "type"
         },
         "tracegroupgap": 0
        },
        "margin": {
         "t": 60
        },
        "template": {
         "data": {
          "bar": [
           {
            "error_x": {
             "color": "#2a3f5f"
            },
            "error_y": {
             "color": "#2a3f5f"
            },
            "marker": {
             "line": {
              "color": "#E5ECF6",
              "width": 0.5
             },
             "pattern": {
              "fillmode": "overlay",
              "size": 10,
              "solidity": 0.2
             }
            },
            "type": "bar"
           }
          ],
          "barpolar": [
           {
            "marker": {
             "line": {
              "color": "#E5ECF6",
              "width": 0.5
             },
             "pattern": {
              "fillmode": "overlay",
              "size": 10,
              "solidity": 0.2
             }
            },
            "type": "barpolar"
           }
          ],
          "carpet": [
           {
            "aaxis": {
             "endlinecolor": "#2a3f5f",
             "gridcolor": "white",
             "linecolor": "white",
             "minorgridcolor": "white",
             "startlinecolor": "#2a3f5f"
            },
            "baxis": {
             "endlinecolor": "#2a3f5f",
             "gridcolor": "white",
             "linecolor": "white",
             "minorgridcolor": "white",
             "startlinecolor": "#2a3f5f"
            },
            "type": "carpet"
           }
          ],
          "choropleth": [
           {
            "colorbar": {
             "outlinewidth": 0,
             "ticks": ""
            },
            "type": "choropleth"
           }
          ],
          "contour": [
           {
            "colorbar": {
             "outlinewidth": 0,
             "ticks": ""
            },
            "colorscale": [
             [
              0,
              "#0d0887"
             ],
             [
              0.1111111111111111,
              "#46039f"
             ],
             [
              0.2222222222222222,
              "#7201a8"
             ],
             [
              0.3333333333333333,
              "#9c179e"
             ],
             [
              0.4444444444444444,
              "#bd3786"
             ],
             [
              0.5555555555555556,
              "#d8576b"
             ],
             [
              0.6666666666666666,
              "#ed7953"
             ],
             [
              0.7777777777777778,
              "#fb9f3a"
             ],
             [
              0.8888888888888888,
              "#fdca26"
             ],
             [
              1,
              "#f0f921"
             ]
            ],
            "type": "contour"
           }
          ],
          "contourcarpet": [
           {
            "colorbar": {
             "outlinewidth": 0,
             "ticks": ""
            },
            "type": "contourcarpet"
           }
          ],
          "heatmap": [
           {
            "colorbar": {
             "outlinewidth": 0,
             "ticks": ""
            },
            "colorscale": [
             [
              0,
              "#0d0887"
             ],
             [
              0.1111111111111111,
              "#46039f"
             ],
             [
              0.2222222222222222,
              "#7201a8"
             ],
             [
              0.3333333333333333,
              "#9c179e"
             ],
             [
              0.4444444444444444,
              "#bd3786"
             ],
             [
              0.5555555555555556,
              "#d8576b"
             ],
             [
              0.6666666666666666,
              "#ed7953"
             ],
             [
              0.7777777777777778,
              "#fb9f3a"
             ],
             [
              0.8888888888888888,
              "#fdca26"
             ],
             [
              1,
              "#f0f921"
             ]
            ],
            "type": "heatmap"
           }
          ],
          "heatmapgl": [
           {
            "colorbar": {
             "outlinewidth": 0,
             "ticks": ""
            },
            "colorscale": [
             [
              0,
              "#0d0887"
             ],
             [
              0.1111111111111111,
              "#46039f"
             ],
             [
              0.2222222222222222,
              "#7201a8"
             ],
             [
              0.3333333333333333,
              "#9c179e"
             ],
             [
              0.4444444444444444,
              "#bd3786"
             ],
             [
              0.5555555555555556,
              "#d8576b"
             ],
             [
              0.6666666666666666,
              "#ed7953"
             ],
             [
              0.7777777777777778,
              "#fb9f3a"
             ],
             [
              0.8888888888888888,
              "#fdca26"
             ],
             [
              1,
              "#f0f921"
             ]
            ],
            "type": "heatmapgl"
           }
          ],
          "histogram": [
           {
            "marker": {
             "pattern": {
              "fillmode": "overlay",
              "size": 10,
              "solidity": 0.2
             }
            },
            "type": "histogram"
           }
          ],
          "histogram2d": [
           {
            "colorbar": {
             "outlinewidth": 0,
             "ticks": ""
            },
            "colorscale": [
             [
              0,
              "#0d0887"
             ],
             [
              0.1111111111111111,
              "#46039f"
             ],
             [
              0.2222222222222222,
              "#7201a8"
             ],
             [
              0.3333333333333333,
              "#9c179e"
             ],
             [
              0.4444444444444444,
              "#bd3786"
             ],
             [
              0.5555555555555556,
              "#d8576b"
             ],
             [
              0.6666666666666666,
              "#ed7953"
             ],
             [
              0.7777777777777778,
              "#fb9f3a"
             ],
             [
              0.8888888888888888,
              "#fdca26"
             ],
             [
              1,
              "#f0f921"
             ]
            ],
            "type": "histogram2d"
           }
          ],
          "histogram2dcontour": [
           {
            "colorbar": {
             "outlinewidth": 0,
             "ticks": ""
            },
            "colorscale": [
             [
              0,
              "#0d0887"
             ],
             [
              0.1111111111111111,
              "#46039f"
             ],
             [
              0.2222222222222222,
              "#7201a8"
             ],
             [
              0.3333333333333333,
              "#9c179e"
             ],
             [
              0.4444444444444444,
              "#bd3786"
             ],
             [
              0.5555555555555556,
              "#d8576b"
             ],
             [
              0.6666666666666666,
              "#ed7953"
             ],
             [
              0.7777777777777778,
              "#fb9f3a"
             ],
             [
              0.8888888888888888,
              "#fdca26"
             ],
             [
              1,
              "#f0f921"
             ]
            ],
            "type": "histogram2dcontour"
           }
          ],
          "mesh3d": [
           {
            "colorbar": {
             "outlinewidth": 0,
             "ticks": ""
            },
            "type": "mesh3d"
           }
          ],
          "parcoords": [
           {
            "line": {
             "colorbar": {
              "outlinewidth": 0,
              "ticks": ""
             }
            },
            "type": "parcoords"
           }
          ],
          "pie": [
           {
            "automargin": true,
            "type": "pie"
           }
          ],
          "scatter": [
           {
            "fillpattern": {
             "fillmode": "overlay",
             "size": 10,
             "solidity": 0.2
            },
            "type": "scatter"
           }
          ],
          "scatter3d": [
           {
            "line": {
             "colorbar": {
              "outlinewidth": 0,
              "ticks": ""
             }
            },
            "marker": {
             "colorbar": {
              "outlinewidth": 0,
              "ticks": ""
             }
            },
            "type": "scatter3d"
           }
          ],
          "scattercarpet": [
           {
            "marker": {
             "colorbar": {
              "outlinewidth": 0,
              "ticks": ""
             }
            },
            "type": "scattercarpet"
           }
          ],
          "scattergeo": [
           {
            "marker": {
             "colorbar": {
              "outlinewidth": 0,
              "ticks": ""
             }
            },
            "type": "scattergeo"
           }
          ],
          "scattergl": [
           {
            "marker": {
             "colorbar": {
              "outlinewidth": 0,
              "ticks": ""
             }
            },
            "type": "scattergl"
           }
          ],
          "scattermapbox": [
           {
            "marker": {
             "colorbar": {
              "outlinewidth": 0,
              "ticks": ""
             }
            },
            "type": "scattermapbox"
           }
          ],
          "scatterpolar": [
           {
            "marker": {
             "colorbar": {
              "outlinewidth": 0,
              "ticks": ""
             }
            },
            "type": "scatterpolar"
           }
          ],
          "scatterpolargl": [
           {
            "marker": {
             "colorbar": {
              "outlinewidth": 0,
              "ticks": ""
             }
            },
            "type": "scatterpolargl"
           }
          ],
          "scatterternary": [
           {
            "marker": {
             "colorbar": {
              "outlinewidth": 0,
              "ticks": ""
             }
            },
            "type": "scatterternary"
           }
          ],
          "surface": [
           {
            "colorbar": {
             "outlinewidth": 0,
             "ticks": ""
            },
            "colorscale": [
             [
              0,
              "#0d0887"
             ],
             [
              0.1111111111111111,
              "#46039f"
             ],
             [
              0.2222222222222222,
              "#7201a8"
             ],
             [
              0.3333333333333333,
              "#9c179e"
             ],
             [
              0.4444444444444444,
              "#bd3786"
             ],
             [
              0.5555555555555556,
              "#d8576b"
             ],
             [
              0.6666666666666666,
              "#ed7953"
             ],
             [
              0.7777777777777778,
              "#fb9f3a"
             ],
             [
              0.8888888888888888,
              "#fdca26"
             ],
             [
              1,
              "#f0f921"
             ]
            ],
            "type": "surface"
           }
          ],
          "table": [
           {
            "cells": {
             "fill": {
              "color": "#EBF0F8"
             },
             "line": {
              "color": "white"
             }
            },
            "header": {
             "fill": {
              "color": "#C8D4E3"
             },
             "line": {
              "color": "white"
             }
            },
            "type": "table"
           }
          ]
         },
         "layout": {
          "annotationdefaults": {
           "arrowcolor": "#2a3f5f",
           "arrowhead": 0,
           "arrowwidth": 1
          },
          "autotypenumbers": "strict",
          "coloraxis": {
           "colorbar": {
            "outlinewidth": 0,
            "ticks": ""
           }
          },
          "colorscale": {
           "diverging": [
            [
             0,
             "#8e0152"
            ],
            [
             0.1,
             "#c51b7d"
            ],
            [
             0.2,
             "#de77ae"
            ],
            [
             0.3,
             "#f1b6da"
            ],
            [
             0.4,
             "#fde0ef"
            ],
            [
             0.5,
             "#f7f7f7"
            ],
            [
             0.6,
             "#e6f5d0"
            ],
            [
             0.7,
             "#b8e186"
            ],
            [
             0.8,
             "#7fbc41"
            ],
            [
             0.9,
             "#4d9221"
            ],
            [
             1,
             "#276419"
            ]
           ],
           "sequential": [
            [
             0,
             "#0d0887"
            ],
            [
             0.1111111111111111,
             "#46039f"
            ],
            [
             0.2222222222222222,
             "#7201a8"
            ],
            [
             0.3333333333333333,
             "#9c179e"
            ],
            [
             0.4444444444444444,
             "#bd3786"
            ],
            [
             0.5555555555555556,
             "#d8576b"
            ],
            [
             0.6666666666666666,
             "#ed7953"
            ],
            [
             0.7777777777777778,
             "#fb9f3a"
            ],
            [
             0.8888888888888888,
             "#fdca26"
            ],
            [
             1,
             "#f0f921"
            ]
           ],
           "sequentialminus": [
            [
             0,
             "#0d0887"
            ],
            [
             0.1111111111111111,
             "#46039f"
            ],
            [
             0.2222222222222222,
             "#7201a8"
            ],
            [
             0.3333333333333333,
             "#9c179e"
            ],
            [
             0.4444444444444444,
             "#bd3786"
            ],
            [
             0.5555555555555556,
             "#d8576b"
            ],
            [
             0.6666666666666666,
             "#ed7953"
            ],
            [
             0.7777777777777778,
             "#fb9f3a"
            ],
            [
             0.8888888888888888,
             "#fdca26"
            ],
            [
             1,
             "#f0f921"
            ]
           ]
          },
          "colorway": [
           "#636efa",
           "#EF553B",
           "#00cc96",
           "#ab63fa",
           "#FFA15A",
           "#19d3f3",
           "#FF6692",
           "#B6E880",
           "#FF97FF",
           "#FECB52"
          ],
          "font": {
           "color": "#2a3f5f"
          },
          "geo": {
           "bgcolor": "white",
           "lakecolor": "white",
           "landcolor": "#E5ECF6",
           "showlakes": true,
           "showland": true,
           "subunitcolor": "white"
          },
          "hoverlabel": {
           "align": "left"
          },
          "hovermode": "closest",
          "mapbox": {
           "style": "light"
          },
          "paper_bgcolor": "white",
          "plot_bgcolor": "#E5ECF6",
          "polar": {
           "angularaxis": {
            "gridcolor": "white",
            "linecolor": "white",
            "ticks": ""
           },
           "bgcolor": "#E5ECF6",
           "radialaxis": {
            "gridcolor": "white",
            "linecolor": "white",
            "ticks": ""
           }
          },
          "scene": {
           "xaxis": {
            "backgroundcolor": "#E5ECF6",
            "gridcolor": "white",
            "gridwidth": 2,
            "linecolor": "white",
            "showbackground": true,
            "ticks": "",
            "zerolinecolor": "white"
           },
           "yaxis": {
            "backgroundcolor": "#E5ECF6",
            "gridcolor": "white",
            "gridwidth": 2,
            "linecolor": "white",
            "showbackground": true,
            "ticks": "",
            "zerolinecolor": "white"
           },
           "zaxis": {
            "backgroundcolor": "#E5ECF6",
            "gridcolor": "white",
            "gridwidth": 2,
            "linecolor": "white",
            "showbackground": true,
            "ticks": "",
            "zerolinecolor": "white"
           }
          },
          "shapedefaults": {
           "line": {
            "color": "#2a3f5f"
           }
          },
          "ternary": {
           "aaxis": {
            "gridcolor": "white",
            "linecolor": "white",
            "ticks": ""
           },
           "baxis": {
            "gridcolor": "white",
            "linecolor": "white",
            "ticks": ""
           },
           "bgcolor": "#E5ECF6",
           "caxis": {
            "gridcolor": "white",
            "linecolor": "white",
            "ticks": ""
           }
          },
          "title": {
           "x": 0.05
          },
          "xaxis": {
           "automargin": true,
           "gridcolor": "white",
           "linecolor": "white",
           "ticks": "",
           "title": {
            "standoff": 15
           },
           "zerolinecolor": "white",
           "zerolinewidth": 2
          },
          "yaxis": {
           "automargin": true,
           "gridcolor": "white",
           "linecolor": "white",
           "ticks": "",
           "title": {
            "standoff": 15
           },
           "zerolinecolor": "white",
           "zerolinewidth": 2
          }
         }
        },
        "xaxis": {
         "anchor": "y",
         "domain": [
          0,
          0.3133333333333333
         ],
         "title": {
          "text": "slowdown"
         }
        },
        "xaxis10": {
         "anchor": "y10",
         "domain": [
          0,
          0.3133333333333333
         ],
         "matches": "x",
         "showticklabels": false
        },
        "xaxis11": {
         "anchor": "y11",
         "domain": [
          0.3333333333333333,
          0.6466666666666666
         ],
         "matches": "x",
         "showticklabels": false
        },
        "xaxis12": {
         "anchor": "y12",
         "domain": [
          0.6666666666666666,
          0.98
         ],
         "matches": "x",
         "showticklabels": false
        },
        "xaxis2": {
         "anchor": "y2",
         "domain": [
          0.3333333333333333,
          0.6466666666666666
         ],
         "matches": "x",
         "title": {
          "text": "slowdown"
         }
        },
        "xaxis3": {
         "anchor": "y3",
         "domain": [
          0.6666666666666666,
          0.98
         ],
         "matches": "x",
         "title": {
          "text": "slowdown"
         }
        },
        "xaxis4": {
         "anchor": "y4",
         "domain": [
          0,
          0.3133333333333333
         ],
         "matches": "x",
         "showticklabels": false
        },
        "xaxis5": {
         "anchor": "y5",
         "domain": [
          0.3333333333333333,
          0.6466666666666666
         ],
         "matches": "x",
         "showticklabels": false
        },
        "xaxis6": {
         "anchor": "y6",
         "domain": [
          0.6666666666666666,
          0.98
         ],
         "matches": "x",
         "showticklabels": false
        },
        "xaxis7": {
         "anchor": "y7",
         "domain": [
          0,
          0.3133333333333333
         ],
         "matches": "x",
         "showticklabels": false
        },
        "xaxis8": {
         "anchor": "y8",
         "domain": [
          0.3333333333333333,
          0.6466666666666666
         ],
         "matches": "x",
         "showticklabels": false
        },
        "xaxis9": {
         "anchor": "y9",
         "domain": [
          0.6666666666666666,
          0.98
         ],
         "matches": "x",
         "showticklabels": false
        },
        "yaxis": {
         "anchor": "x",
         "domain": [
          0,
          0.2275
         ],
         "title": {
          "text": "match_utest_%"
         }
        },
        "yaxis10": {
         "anchor": "x10",
         "domain": [
          0.7725,
          1
         ],
         "matches": "y",
         "title": {
          "text": "match_utest_%"
         }
        },
        "yaxis11": {
         "anchor": "x11",
         "domain": [
          0.7725,
          1
         ],
         "matches": "y",
         "showticklabels": false
        },
        "yaxis12": {
         "anchor": "x12",
         "domain": [
          0.7725,
          1
         ],
         "matches": "y",
         "showticklabels": false
        },
        "yaxis2": {
         "anchor": "x2",
         "domain": [
          0,
          0.2275
         ],
         "matches": "y",
         "showticklabels": false
        },
        "yaxis3": {
         "anchor": "x3",
         "domain": [
          0,
          0.2275
         ],
         "matches": "y",
         "showticklabels": false
        },
        "yaxis4": {
         "anchor": "x4",
         "domain": [
          0.2575,
          0.485
         ],
         "matches": "y",
         "title": {
          "text": "match_utest_%"
         }
        },
        "yaxis5": {
         "anchor": "x5",
         "domain": [
          0.2575,
          0.485
         ],
         "matches": "y",
         "showticklabels": false
        },
        "yaxis6": {
         "anchor": "x6",
         "domain": [
          0.2575,
          0.485
         ],
         "matches": "y",
         "showticklabels": false
        },
        "yaxis7": {
         "anchor": "x7",
         "domain": [
          0.515,
          0.7425
         ],
         "matches": "y",
         "title": {
          "text": "match_utest_%"
         }
        },
        "yaxis8": {
         "anchor": "x8",
         "domain": [
          0.515,
          0.7425
         ],
         "matches": "y",
         "showticklabels": false
        },
        "yaxis9": {
         "anchor": "x9",
         "domain": [
          0.515,
          0.7425
         ],
         "matches": "y",
         "showticklabels": false
        }
       }
      }
     },
     "metadata": {},
     "output_type": "display_data"
    }
   ],
   "source": [
    "px.line(\n",
    "    df_slowdown,\n",
    "    x=DF.slowdown,\n",
    "    y=DF.match_ratio_utest,\n",
    "    color=RF.type,\n",
    "    facet_col=DF.env,\n",
    "    facet_row=RF.suite,\n",
    "    markers=True,\n",
    "    height=1000,\n",
    ")"
   ]
  }
 ],
 "metadata": {
  "kernelspec": {
   "display_name": "Python 3.10.5 64-bit ('duet')",
   "language": "python",
   "name": "python3"
  },
  "language_info": {
   "codemirror_mode": {
    "name": "ipython",
    "version": 3
   },
   "file_extension": ".py",
   "mimetype": "text/x-python",
   "name": "python",
   "nbconvert_exporter": "python",
   "pygments_lexer": "ipython3",
   "version": "3.10.5"
  },
  "vscode": {
   "interpreter": {
    "hash": "b30613eae93c2d498f6090c9d68b2d616e7f48861c26fb69a68f02e86a44a416"
   }
  }
 },
 "nbformat": 4,
 "nbformat_minor": 2
}
