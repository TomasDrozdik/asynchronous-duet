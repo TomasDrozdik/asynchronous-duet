{
 "cells": [
  {
   "cell_type": "code",
   "execution_count": null,
   "metadata": {},
   "outputs": [],
   "source": [
    "%load_ext autoreload\n",
    "%autoreload 2\n",
    "\n",
    "import plotly.express as px\n",
    "import pandas as pd\n",
    "import numpy as np\n",
    "from IPython.display import display\n",
    "\n",
    "from duet.process import *\n",
    "from duet.constants import *\n",
    "from common import *\n",
    "\n",
    "df_prep = preprocess_data(load_raw())\n",
    "unique_suites = df_prep[RF.suite].unique()"
   ]
  },
  {
   "cell_type": "code",
   "execution_count": null,
   "metadata": {},
   "outputs": [],
   "source": [
    "df = df_prep[\n",
    "    (\n",
    "        (df_prep[RF.suite].isin([\"dacapo\"]))\n",
    "        & (df_prep[RF.benchmark].isin([\"avrora\"]))\n",
    "        & (df_prep[RF.runid] == 0)\n",
    "        & (df_prep[RF.type].isin([\"duet\"]))\n",
    "        & (df_prep[AF.date] == df_prep[AF.date].iloc[0])\n",
    "        # & (df_prep[RF.pair] == \"B\")\n",
    "    )\n",
    "]\n",
    "df = df[df[RF.iteration] < df[RF.iteration].min() + 5]\n",
    "\n",
    "# display(convert_ns(df)[ARTIFACT_COL + ITER_ID_COL + TIME_D_COL])\n",
    "display(\n",
    "    px.timeline(\n",
    "        df,\n",
    "        x_start=RF.start,\n",
    "        x_end=RF.end,\n",
    "        y=RF.pair,\n",
    "        color=RF.iteration,\n",
    "        hover_data=[RF.benchmark, RF.pair, RF.runid, RF.time],\n",
    "        title=\"Original\",\n",
    "    )\n",
    ")\n",
    "\n",
    "slowdown = 0.2\n",
    "df = alter_score(df, slowdown)\n",
    "df = convert_ns(df)\n",
    "# display(df[ARTIFACT_COL + ITER_ID_COL + TIME_D_COL])\n",
    "\n",
    "px.timeline(\n",
    "    df,\n",
    "    x_start=RF.start,\n",
    "    x_end=RF.end,\n",
    "    y=RF.pair,\n",
    "    color=RF.iteration,\n",
    "    hover_data=[RF.benchmark, RF.pair, RF.runid, RF.time],\n",
    "    title=f\"Slowdown of B by {(slowdown * 100):.0f}%\",\n",
    ")"
   ]
  },
  {
   "cell_type": "code",
   "execution_count": null,
   "metadata": {},
   "outputs": [],
   "source": [
    "slowdown = 0.1\n",
    "df = alter_score(df_prep, slowdown)\n",
    "df = compute_ci(df)\n",
    "\n",
    "for suite in unique_suites:\n",
    "    suite_mask = df[RF.suite] == suite\n",
    "    if suite_mask.any():\n",
    "        fig = px.scatter(\n",
    "            df[suite_mask],\n",
    "            x=\"benchmark\",\n",
    "            y=\"mid\",\n",
    "            error_y=\"err\",\n",
    "            color=RF.type,\n",
    "            facet_col=DF.env,\n",
    "            title=f\"CI with A/B emulated {(slowdown * 100):.0f}% slowdown - {suite}\",\n",
    "        )\n",
    "        fig.update_xaxes(categoryorder=\"category ascending\")\n",
    "        fig.show()"
   ]
  },
  {
   "cell_type": "code",
   "execution_count": null,
   "metadata": {},
   "outputs": [],
   "source": [
    "slowdowns = [0.01 * i for i in range(5)]\n",
    "dfs = []\n",
    "for slowdown in slowdowns:\n",
    "    df = alter_score(df_prep, slowdown)\n",
    "    df_ci = compute_ci(df)\n",
    "    df_pred = arbiter(df, df_ci)\n",
    "    df_pred = group_predictions(df_pred)\n",
    "    df_pred[DF.slowdown] = slowdown\n",
    "    dfs.append(df_pred)\n",
    "\n",
    "df_slowdown = pd.concat(dfs)\n",
    "df_slowdown"
   ]
  },
  {
   "cell_type": "code",
   "execution_count": null,
   "metadata": {},
   "outputs": [],
   "source": [
    "display(\n",
    "    px.line(\n",
    "        df_slowdown,\n",
    "        x=DF.slowdown,\n",
    "        y=DF.match_ratio_ci,\n",
    "        color=RF.type,\n",
    "        symbol=RF.suite,\n",
    "        facet_col=DF.env,\n",
    "        markers=True,\n",
    "    )\n",
    ")\n",
    "display(\n",
    "    px.line(\n",
    "        df_slowdown,\n",
    "        x=DF.slowdown,\n",
    "        y=DF.match_ratio_utest,\n",
    "        color=RF.type,\n",
    "        symbol=RF.suite,\n",
    "        facet_col=DF.env,\n",
    "        markers=True,\n",
    "    )\n",
    ")"
   ]
  }
 ],
 "metadata": {
  "kernelspec": {
   "display_name": "Python 3.10.5 64-bit ('duet')",
   "language": "python",
   "name": "python3"
  },
  "language_info": {
   "codemirror_mode": {
    "name": "ipython",
    "version": 3
   },
   "file_extension": ".py",
   "mimetype": "text/x-python",
   "name": "python",
   "nbconvert_exporter": "python",
   "pygments_lexer": "ipython3",
   "version": "3.10.5"
  },
  "vscode": {
   "interpreter": {
    "hash": "b30613eae93c2d498f6090c9d68b2d616e7f48861c26fb69a68f02e86a44a416"
   }
  }
 },
 "nbformat": 4,
 "nbformat_minor": 2
}
