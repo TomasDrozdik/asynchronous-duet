{
 "cells": [
  {
   "cell_type": "code",
   "execution_count": null,
   "metadata": {},
   "outputs": [],
   "source": [
    "%load_ext autoreload\n",
    "%autoreload 2\n",
    "\n",
    "import plotly.express as px\n",
    "import pandas as pd\n",
    "import numpy as np\n",
    "from IPython.display import display\n",
    "\n",
    "from duet.process import *\n",
    "from duet.constants import *\n",
    "from common import *\n",
    "\n",
    "df_raw = load_raw()\n",
    "unique_suites = df_raw[RF.suite].unique()\n",
    "df_raw.describe()"
   ]
  },
  {
   "cell_type": "code",
   "execution_count": null,
   "metadata": {},
   "outputs": [],
   "source": [
    "df = df_raw[\n",
    "    (\n",
    "        (df_raw[\"suite\"].isin([\"renaissance\"]))\n",
    "        & (df_raw[\"benchmark\"].isin([\"chi-square\"]))\n",
    "        & (df_raw[\"runid\"].isin([0]))\n",
    "        # & (df_raw[\"pair\"].isin([\"B\"]))\n",
    "        & (df_raw[\"type\"].isin([\"duet\"]))\n",
    "        & (df_raw[\"iteration\"] <= 10)\n",
    "        # & (df_raw[\"hostname\"].isin([\"cirrus-1.graal.d3s.hide.ms.mff.cuni.cz\"]))\n",
    "        # (df_raw[AF.hostname] == df_raw[AF.hostname].iloc[0])\n",
    "        # & (\n",
    "        #    df_raw[\"iteration_start\"]\n",
    "        #    < df_raw[RF.start].min() + pd.DateOffset(minutes=10)\n",
    "        # )\n",
    "    )\n",
    "]\n",
    "\n",
    "convert_ns(df)[ITER_ID_COL + TIME_D_COL]"
   ]
  },
  {
   "cell_type": "code",
   "execution_count": null,
   "metadata": {},
   "outputs": [],
   "source": [
    "df2 = alter_score(df, rate=0.2)\n",
    "convert_ns(df2)[ITER_ID_COL + TIME_D_COL]\n",
    "\n",
    "px.timeline(\n",
    "    df2,\n",
    "    x_start=RF.start,\n",
    "    x_end=RF.end,\n",
    "    y=RF.pair,\n",
    "    color=RF.type,\n",
    "    hover_data=[RF.benchmark, RF.time, RF.pair, RF.runid],\n",
    ").show()"
   ]
  }
 ],
 "metadata": {
  "kernelspec": {
   "display_name": "Python 3.9.13 ('venv': venv)",
   "language": "python",
   "name": "python3"
  },
  "language_info": {
   "codemirror_mode": {
    "name": "ipython",
    "version": 3
   },
   "file_extension": ".py",
   "mimetype": "text/x-python",
   "name": "python",
   "nbconvert_exporter": "python",
   "pygments_lexer": "ipython3",
   "version": "3.9.13"
  },
  "vscode": {
   "interpreter": {
    "hash": "d05b9625d9e335c894d147aa2cb7f38ae2a5cf95c4452d00c9f28063621a5ef3"
   }
  }
 },
 "nbformat": 4,
 "nbformat_minor": 2
}
